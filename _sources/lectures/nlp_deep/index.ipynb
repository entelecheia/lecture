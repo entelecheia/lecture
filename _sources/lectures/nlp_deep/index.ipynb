{
 "cells": [
  {
   "cell_type": "markdown",
   "id": "76b40700",
   "metadata": {
    "slideshow": {
     "slide_type": "slide"
    },
    "tags": []
   },
   "source": [
    "# Deep Learning for NLP"
   ]
  },
  {
   "attachments": {},
   "cell_type": "markdown",
   "id": "e9c99162",
   "metadata": {
    "slideshow": {
     "slide_type": "slide"
    },
    "tags": []
   },
   "source": [
    "## 📜 Course Description\n",
    "\n",
    "This course provides an in-depth introduction to deep learning techniques for natural language processing. The course will cover the latest advances in deep learning research for NLP, with a focus on pre-trained language models and fine-tuning. Students will gain hands-on experience in developing deep learning models for a variety of NLP tasks using PyTorch and Hugging Face's Transformers library. The course will also cover reinforcement learning for NLP and its application in ChatGPT.\n"
   ]
  },
  {
   "attachments": {},
   "cell_type": "markdown",
   "id": "ee7884ff",
   "metadata": {
    "slideshow": {
     "slide_type": "slide"
    },
    "tags": []
   },
   "source": [
    "## ♾️ Learning Goals\n",
    "\n",
    "By the end of this course, students will be able to: \n",
    "- Understand the latest advances in deep learning research for NLP\n",
    "- Develop deep learning models for a variety of NLP tasks using PyTorch and Hugging Face's Transformers library\n",
    "- Understand the concepts of pre-trained language models and fine-tuning\n",
    "- Understand reinforcement learning for NLP and its application in ChatGPT\n"
   ]
  },
  {
   "cell_type": "markdown",
   "id": "c0bd2f00",
   "metadata": {
    "slideshow": {
     "slide_type": "slide"
    },
    "tags": []
   },
   "source": [
    "## 🏆 Grading\n",
    "\n",
    "- Participation: **10%**\n",
    "- Midterm: **30%**\n",
    "- Term Project: **60%**\n"
   ]
  },
  {
   "cell_type": "markdown",
   "id": "156df085",
   "metadata": {
    "slideshow": {
     "slide_type": "slide"
    },
    "tags": []
   },
   "source": [
    "## 🧠 Term Project\n",
    "\n",
    "- Students will be required to complete a term project as part of this course. \n",
    "- At the midterm, you need to submit a proposal for your project. \n",
    "- The proposal includes the data, and you have to perform the exploratory data analysis on this data.\n",
    "- The term project can take the form of either a research paper or a practical implementation. \n",
    "- For the term project, you need to submit a report and a codebase. \n",
    "- The report should be around 10 pages, and it should describe your methodology, results, and discussion. \n",
    "- The project will be graded on correctness, readability, and efficiency."
   ]
  },
  {
   "cell_type": "markdown",
   "id": "3e273dd1",
   "metadata": {
    "slideshow": {
     "slide_type": "slide"
    },
    "tags": []
   },
   "source": [
    "## 📒 Lecture Notes\n",
    "\n",
    "You can find the lecture notes of the course by clicking on the following link:\n",
    "\n",
    "https://entelecheia.github.io/ekorpkit-book/docs/lectures/deep_nlp"
   ]
  },
  {
   "attachments": {},
   "cell_type": "markdown",
   "id": "8ad34de0",
   "metadata": {
    "slideshow": {
     "slide_type": "slide"
    },
    "tags": []
   },
   "source": [
    "## 🎲 Whole Game of NLP\n",
    "\n",
    "In this course, we apply the concept of \"teaching the whole game\" to natural language processing (NLP). We believe that just like in baseball, students should be able to start playing with a general sense of NLP and gradually learn more rules and details as they progress.\n",
    "\n",
    "Unlike many NLP courses that focus only on the technical aspects of the field, we take a practical approach to NLP. We show how to use fundamental concepts and techniques of NLP, including text pre-processing, morphology, syntax, semantics, text classification, topic modeling, and word embeddings, to solve real-world problems.\n",
    "\n",
    "We begin by introducing students to a complete, working, and very usable NLP system that uses simple and expressive tools. Then, we gradually introduce more advanced concepts, showing students how to apply them to real-world datasets.\n",
    "\n",
    "This approach has several advantages. It makes NLP more accessible and understandable to students, and it allows them to immediately start using NLP to solve their own problems. Furthermore, it helps students learn the whole game of NLP, not just individual concepts or techniques. By covering both the theory and practice of NLP, students will be well-prepared for further study or practical applications in the field.\n",
    "\n",
    "> Harvard Professor David Perkins's book, [Making Learning Whole](https://www.amazon.com/Making-Learning-Whole-Principles-Transform/dp/0470633719), popularized the idea of \"teaching the whole game.\" \n"
   ]
  },
  {
   "cell_type": "markdown",
   "id": "d7e29cd2",
   "metadata": {
    "slideshow": {
     "slide_type": "slide"
    },
    "tags": []
   },
   "source": [
    "## 🗓️ Table of Contents\n",
    "\n",
    "```{tableofcontents}\n",
    "\n",
    "```\n"
   ]
  }
 ],
 "metadata": {
  "kernelspec": {
   "display_name": "Python 3 (ipykernel)",
   "language": "python",
   "name": "python3"
  },
  "language_info": {
   "codemirror_mode": {
    "name": "ipython",
    "version": 3
   },
   "file_extension": ".py",
   "mimetype": "text/x-python",
   "name": "python",
   "nbconvert_exporter": "python",
   "pygments_lexer": "ipython3",
   "version": "3.8.5"
  },
  "vscode": {
   "interpreter": {
    "hash": "d4d1e4263499bec80672ea0156c357c1ee493ec2b1c70f0acce89fc37c4a6abe"
   }
  },
  "widgets": {
   "application/vnd.jupyter.widget-state+json": {
    "state": {},
    "version_major": 2,
    "version_minor": 0
   }
  }
 },
 "nbformat": 4,
 "nbformat_minor": 5
}
