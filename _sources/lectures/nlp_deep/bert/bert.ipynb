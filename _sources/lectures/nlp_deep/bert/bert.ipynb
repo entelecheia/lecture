{
 "cells": [
  {
   "cell_type": "markdown",
   "id": "cfdc61fb",
   "metadata": {
    "slideshow": {
     "slide_type": "slide"
    },
    "tags": []
   },
   "source": [
    "# BERT: Bidirectional Encoder Representations from Transformers\n",
    "\n",
    "![bert](../figs/deep_nlp/bert/entelecheia_bert.png)\n"
   ]
  },
  {
   "cell_type": "markdown",
   "id": "66d50cc3",
   "metadata": {
    "slideshow": {
     "slide_type": "slide"
    },
    "tags": []
   },
   "source": [
    "- The year 2018 marked a turning point for the field of Natural Language Processing (NLP).\n",
    "- The BERT {cite}`devlin2018bert` paper introduced a new language representation model that outperformed all previous models on a wide range of NLP tasks.\n",
    "- BERT is a deep bidirectional transformer model that is pre-trained on a large corpus of unlabeled text.\n",
    "- The model is trained to predict masked words in a sentence and is also trained to predict the next sentence in a sequence of sentences.\n",
    "- The pre-trained model can then be fine-tuned on a variety of downstream NLP tasks with state-of-the-art results.\n"
   ]
  },
  {
   "cell_type": "markdown",
   "id": "cbc7ca46",
   "metadata": {
    "slideshow": {
     "slide_type": "slide"
    },
    "tags": []
   },
   "source": [
    "BERT builds on two key ideas:\n",
    "\n",
    "- The transformer architecture {cite}`vaswani2017attention`\n",
    "- Unsupervised pre-training\n",
    "\n",
    "BERT is pre-trained on a large corpus of unlabeled text. Its weights are learned by predicting masked words in a sentence and predicting the next sentence in a sequence of sentences.\n",
    "\n",
    "BERT is a deep bidirectional transformer model. It is a multi-headed beast with 12(24) layers, 12(16) attention heads, and 110 million parameters. Since model weights are not shared across layers, the total number of different attention weights is 12(24) x 12(16) = 144(384).\n"
   ]
  },
  {
   "cell_type": "markdown",
   "id": "7f0eec5e",
   "metadata": {
    "slideshow": {
     "slide_type": "slide"
    },
    "tags": []
   },
   "source": [
    "## The Architecture of BERT\n",
    "\n",
    "The core component of BERT is the attention mechanism.\n",
    "\n",
    "Attention is a way for a model to assign weights to different parts of the input based on their importance to some task.\n",
    "\n",
    "For the sentence `The dog from down the street ran up to me and ___`, to complete the sentence, a model may give more attention to the word `dog` than to the word `street`. Because knowing that the subject of the sentence is a dog is more important than knowing that where the dog is from.\n"
   ]
  },
  {
   "cell_type": "markdown",
   "id": "2965df5f",
   "metadata": {
    "slideshow": {
     "slide_type": "slide"
    },
    "tags": []
   },
   "source": [
    "### Attention Mechanism\n",
    "\n",
    "The attention mechanism is quite simple. It is a function that takes in two inputs: a query and a key. The query is the part of the input that we want to focus on. The key is the part of the input that we want to compare the query to. The output of the attention mechanism is a weighted sum of the values of the key. The weights are computed by a function of the query and the key.\n",
    "\n",
    "Suppose you have some sequence of words $X$, where each element $x_i$ is a (refered to as the value) of dimension $d$.\n"
   ]
  },
  {
   "cell_type": "markdown",
   "id": "b68945e1",
   "metadata": {
    "slideshow": {
     "slide_type": "slide"
    },
    "tags": []
   },
   "source": [
    "In the following example, $X$ is a sequence of 3 words, each represented by a 4-dimensional vector.\n",
    "\n",
    "![](../figs/deep_nlp/bert/sentence_vector.png)\n"
   ]
  },
  {
   "cell_type": "markdown",
   "id": "9d6f583c",
   "metadata": {
    "slideshow": {
     "slide_type": "slide"
    },
    "tags": []
   },
   "source": [
    "Attention is simply a function that takes X as input and returns another sequence Y of the same length as X, composed of vectors of the same dimension as the vectors in X.\n",
    "\n",
    "![](../figs/deep_nlp/bert/attention_input_output.png)\n"
   ]
  },
  {
   "cell_type": "markdown",
   "id": "928bc752",
   "metadata": {
    "slideshow": {
     "slide_type": "slide"
    },
    "tags": []
   },
   "source": [
    "Each vector in Y is computed by taking a weighted average of the vectors in X.\n",
    "\n",
    "![](../figs/deep_nlp/bert/attention_weighted_average.gif)\n",
    "\n",
    "That is, attention is just a weighted average of the values of the vectors in X. The weights show how much the model **attends** to each vector in X when computing the output vector.\n"
   ]
  },
  {
   "cell_type": "markdown",
   "id": "a6bc9789",
   "metadata": {
    "slideshow": {
     "slide_type": "slide"
    },
    "tags": []
   },
   "source": [
    "### Attending to language\n",
    "\n",
    "How does attention work in the context of language?\n",
    "\n",
    "Suppose we have a sentence `the dog ran`. We can represent this sentence as a sequence of vectors, where each vector is a word embedding.\n",
    "\n",
    "![](../figs/deep_nlp/bert/word_embedding.png)\n"
   ]
  },
  {
   "cell_type": "markdown",
   "id": "63b60875",
   "metadata": {
    "slideshow": {
     "slide_type": "slide"
    },
    "tags": []
   },
   "source": [
    "A word embedding is a vector representation of a word. It is a vector of real numbers. Each element of the vector represents a dimension of the word that captures some aspect of its meaning.\n",
    "\n",
    "Those aspects can be semantic, syntactic, or even phonetic. For example, the first element of the vector may represent the semantic meaning of the word, the second element may represent the syntactic meaning of the word, and the third element may represent the phonetic meaning of the word.\n",
    "\n",
    "In practice, word embeddings are not interpretable. We don't know what each element of the vector represents. But we can use them to compute the meaning of a sentence.\n",
    "\n",
    "For example, we can perform arithmetic operations on word embeddings. For example, we can compute the vector representation of the word `cat` by adding the vectors of the words `kitten` and `dog` and subtracting the vector of the word `puppy`.\n",
    "\n",
    "$$\\text{cat} - \\text{kitten} \\approx \\text{dog} - \\text{puppy}$$\n"
   ]
  },
  {
   "cell_type": "markdown",
   "id": "00902281",
   "metadata": {
    "slideshow": {
     "slide_type": "slide"
    },
    "tags": []
   },
   "source": [
    "Attention is also a form of arithmetic operation. Therefore, you can apply attention to word embeddings to compute the meaning of a sentence.\n",
    "\n",
    "![](../figs/deep_nlp/bert/attention_weighted_average.gif)\n"
   ]
  },
  {
   "cell_type": "markdown",
   "id": "9cccfc38",
   "metadata": {
    "slideshow": {
     "slide_type": "slide"
    },
    "tags": []
   },
   "source": [
    "For example, the embedding of the word `dog` in $Y$ is computed by taking a weighted average of the embeddings of the words `the`, `dog`, and `ran` in $X$ with weights of 0.2, 0.7, and 0.1 respectively.\n",
    "\n",
    "How does this process help the model to understand the meaning of a sentence?\n",
    "\n",
    "To fully understand the meaning of a sentence, we need to know the meaning of each word in the sentence. But we can't just look at each word in the sentence in isolation. We need to know the context of the word.\n",
    "\n",
    "The attention mechanism allows the model to focus on the words that are most important to the meaning of the sentence.\n"
   ]
  },
  {
   "cell_type": "markdown",
   "id": "d2d32a4c",
   "metadata": {
    "slideshow": {
     "slide_type": "slide"
    },
    "tags": []
   },
   "source": [
    "### Multi-head attention\n",
    "\n",
    "BERT learns multiple attention mechanisms, called heads, which operate in parallel. Each head is a different attention mechanism. The output of each head is concatenated and fed into a feed-forward neural network.\n",
    "\n",
    "Multi-head attention enables the model to learn broader types of relationships between words in a sentence than a single attention mechanism.\n",
    "\n",
    "BERT also stacks multiple layers of multi-head attention. Each layer of multi-head attention takes the output of the previous layer as input. The output of the last layer of multi-head attention is fed into a feed-forward neural network.\n",
    "\n",
    "Through this architecture, BERT is able to learn very rich representations of language as it gets to the deeper layers of the network.\n",
    "\n",
    "Because the attention heads do not share parameters, each head learns a different type of relationship between words in a sentence.\n"
   ]
  },
  {
   "cell_type": "markdown",
   "id": "af1c47ca-ae3f-4a87-acdf-2f4889f5d11b",
   "metadata": {
    "slideshow": {
     "slide_type": "slide"
    },
    "tags": []
   },
   "source": [
    "## Visualizing Attention\n"
   ]
  },
  {
   "cell_type": "code",
   "execution_count": null,
   "id": "8c4ce0f6",
   "metadata": {
    "tags": []
   },
   "outputs": [],
   "source": [
    "# %pip install bertviz\n"
   ]
  },
  {
   "cell_type": "code",
   "execution_count": null,
   "id": "2bcd0ca2",
   "metadata": {},
   "outputs": [],
   "source": [
    "%config InlineBackend.figure_format='retina'\n",
    "\n",
    "from bertviz import model_view, head_view\n",
    "from bertviz.neuron_view import show\n",
    "from transformers import AutoTokenizer, AutoModel, utils\n",
    "\n",
    "utils.logging.set_verbosity_error()  # Suppress standard warnings\n",
    "\n",
    "model_version = \"bert-base-uncased\"\n",
    "tokenizer = AutoTokenizer.from_pretrained(model_version)\n",
    "model = AutoModel.from_pretrained(model_version, output_attentions=True)"
   ]
  },
  {
   "cell_type": "code",
   "execution_count": null,
   "id": "c8fe38ae",
   "metadata": {},
   "outputs": [],
   "source": [
    "sentence_a = \"I went to the store.\"\n",
    "sentence_b = \"At the store, I bought fresh strawberries.\"\n",
    "\n",
    "inputs = tokenizer.encode(\n",
    "    [sentence_a, sentence_b],\n",
    "    return_tensors=\"pt\",\n",
    ")\n",
    "outputs = model(inputs)\n",
    "attention = outputs[-1]\n",
    "tokens = tokenizer.convert_ids_to_tokens(inputs[0])\n"
   ]
  },
  {
   "cell_type": "markdown",
   "id": "b171cd3e-cc80-479b-b91d-c12a3a5b9f72",
   "metadata": {
    "slideshow": {
     "slide_type": "slide"
    },
    "tags": []
   },
   "source": [
    "Each cell in the model view shows the attention pattern of a single head. The attention pattern of each head is different. The attention patterns are specific to the input sentence.\n"
   ]
  },
  {
   "cell_type": "code",
   "execution_count": null,
   "id": "2ec439cc",
   "metadata": {
    "scrolled": true,
    "tags": []
   },
   "outputs": [],
   "source": [
    "# model_view(attention, tokens)\n"
   ]
  },
  {
   "cell_type": "markdown",
   "id": "d279fefe-e42b-446c-b604-537f8d2a6ca6",
   "metadata": {
    "slideshow": {
     "slide_type": "slide"
    },
    "tags": []
   },
   "source": [
    "## Deconstructing Attention\n",
    "\n",
    "Let's take a closer look at how attention works.\n",
    "\n",
    "Now that we know that attention is a weighted average of the values of the vectors in X, let's look at how the weights are computed.\n",
    "\n",
    "The weights are computed by a function of the query and the key. The query is the part of the input that we want to focus on. The key is the part of the input that we want to compare the query to.\n",
    "\n",
    "![](../figs/deep_nlp/bert/attention_query_key.png)\n"
   ]
  },
  {
   "cell_type": "markdown",
   "id": "3f8535a8-559d-4e06-939f-b6b1bcb999d1",
   "metadata": {
    "slideshow": {
     "slide_type": "slide"
    },
    "tags": []
   },
   "source": [
    "These vectors can be thought of as a type of word embedding like the value vectors we saw earlier, but constructed specifically for determining the similarity between words.\n",
    "\n",
    "The similarity between two words is computed by taking the dot product of the query and key vectors of those words.\n",
    "\n",
    "![](../figs/deep_nlp/bert/attention_query_key_dot_product.png)\n"
   ]
  },
  {
   "cell_type": "markdown",
   "id": "742accb2-852c-40ac-bb86-c4cd037aaaf0",
   "metadata": {
    "slideshow": {
     "slide_type": "slide"
    },
    "tags": []
   },
   "source": [
    "To convert the dot product into a probability, we apply a softmax function to the dot product, which normalizes the dot product so that it sums to 1.\n",
    "\n",
    "![](../figs/deep_nlp/bert/attention_query_key_softmax.png)\n",
    "\n",
    "The softmax values on the right represent the final weights of the attention mechanism.\n"
   ]
  },
  {
   "cell_type": "markdown",
   "id": "09582d9c-7302-49e4-8b5e-d102641c960f",
   "metadata": {
    "slideshow": {
     "slide_type": "slide"
    },
    "tags": []
   },
   "source": [
    "### Where do these query and key vectors come from?\n",
    "\n",
    "We now understand that attention weights are computed from query and key vectors. But where do these vectors come from?\n",
    "\n",
    "The query and key vectors are computed from the value vectors. The query and key vectors are computed by passing the value vectors through two different linear layers.\n",
    "\n",
    "We can visualize how attention weights are computed from query and key vectors using the neuron view.\n",
    "\n",
    "This view traces the computation of attention from the selected word on the left to the complete sequence of words on the right. Positive values are colored blue and negative values orange, with color intensity representing magnitude.\n"
   ]
  },
  {
   "cell_type": "markdown",
   "id": "ff845edb-c2f9-4d37-b6d7-cc739fba3bb6",
   "metadata": {
    "slideshow": {
     "slide_type": "slide"
    },
    "tags": []
   },
   "source": [
    "![](../figs/deep_nlp/bert/neuron_view.png)\n"
   ]
  },
  {
   "cell_type": "markdown",
   "id": "85255662-f851-4b00-8d66-56dbf5d01f78",
   "metadata": {
    "slideshow": {
     "slide_type": "slide"
    },
    "tags": []
   },
   "source": [
    "Let’s go through the columns in the neuron view one at a time.\n",
    "\n",
    "**Query q**: the query vector q encodes the word on the left that is paying attention, i.e. the one that is “querying” the other words. In the example above, the query vector for “on” (the selected word) is highlighted.\n",
    "\n",
    "**Key k**: the key vector k encodes the word on the right to which attention is being paid. The key vector and the query vector together determine a compatibility score between the two words.\n",
    "\n",
    "**q×k (elementwise)**: the elementwise product between the query vector of the selected word and each of the key vectors. This is a precursor to the dot product (the sum of the elementwise product) and is included for visualization purposes because it shows how individual elements in the query and key vectors contribute to the dot product.\n",
    "\n",
    "**q·k**: the scaled dot product (see above) of the selected query vector and each of the key vectors. This is the unnormalized attention score.\n",
    "\n",
    "**Softmax**: the softmax of the scaled dot product. This normalizes the attention scores to be positive and sum to one.\n"
   ]
  },
  {
   "cell_type": "markdown",
   "id": "31404513-013b-49f2-a5fe-9dbc88e4ad15",
   "metadata": {
    "slideshow": {
     "slide_type": "slide"
    },
    "tags": []
   },
   "source": [
    "## Explaining BERT’s attention patterns\n"
   ]
  },
  {
   "cell_type": "markdown",
   "id": "31878e79",
   "metadata": {},
   "source": [
    "Let's explore the attention patterns of various layers of the BERT (the BERT-Base, uncased version).\n",
    "\n",
    "> Sentence A: I went to the store.\n",
    "\n",
    "> Sentence B: At the store, I bought fresh strawberries.\n",
    "\n",
    "BERT uses WordPiece tokenization and inserts special classifier ([CLS]) and separator ([SEP]) tokens, so the actual input sequence is:\n",
    "\n",
    "> [CLS] I went to the store . [SEP] At the store , I bought fresh straw ##berries . [SEP]\n"
   ]
  },
  {
   "cell_type": "code",
   "execution_count": null,
   "id": "3502214b-4c78-4ccd-8b4e-42dccc63f520",
   "metadata": {
    "slideshow": {
     "slide_type": "slide"
    },
    "tags": []
   },
   "outputs": [],
   "source": [
    "from bertviz.transformers_neuron_view import BertModel, BertTokenizer\n",
    "from bertviz.neuron_view import show\n",
    "\n",
    "model_type = \"bert\"\n",
    "do_lower_case = True\n",
    "neuron_model = BertModel.from_pretrained(model_version, output_attentions=True)\n",
    "neuron_tokenizer = BertTokenizer.from_pretrained(\n",
    "    model_version, do_lower_case=do_lower_case\n",
    ")"
   ]
  },
  {
   "cell_type": "code",
   "execution_count": null,
   "id": "2fd8d208-18f3-44d9-9b0d-5c6b256b351d",
   "metadata": {
    "slideshow": {
     "slide_type": "slide"
    },
    "tags": []
   },
   "outputs": [],
   "source": [
    "show(\n",
    "    neuron_model, model_type, neuron_tokenizer, sentence_a, sentence_b, layer=2, head=0\n",
    ")"
   ]
  },
  {
   "cell_type": "code",
   "execution_count": null,
   "id": "7699f35d",
   "metadata": {
    "slideshow": {
     "slide_type": "slide"
    },
    "tags": []
   },
   "outputs": [],
   "source": [
    "inputs = tokenizer.encode(\n",
    "    [\"I went to the store.\", \"At the store, I bought fresh strawberries.\"],\n",
    "    return_tensors=\"pt\",\n",
    ")\n",
    "outputs = model(inputs)\n",
    "attention = outputs[-1]\n",
    "tokens = tokenizer.convert_ids_to_tokens(inputs[0])\n"
   ]
  },
  {
   "cell_type": "markdown",
   "id": "00cdbce6",
   "metadata": {
    "slideshow": {
     "slide_type": "slide"
    },
    "tags": []
   },
   "source": [
    "## What does BERT actually learn?\n"
   ]
  },
  {
   "cell_type": "markdown",
   "id": "d0211232-99e3-4dd9-af91-95e1c852a0b8",
   "metadata": {
    "slideshow": {
     "slide_type": "slide"
    },
    "tags": []
   },
   "source": [
    "### Delimiter-focused attention patterns\n",
    "\n",
    "This pattern serves as a kind of “no-op”; an attention head focuses on the [SEP] tokens when it can’t find anything else to focus on.\n",
    "\n",
    "How exactly is BERT able to fixate on the [SEP] tokens? The answer lies in the query and key vectors.\n"
   ]
  },
  {
   "cell_type": "markdown",
   "id": "04768070-ca07-44ae-a393-dcfcdf202ce3",
   "metadata": {
    "slideshow": {
     "slide_type": "slide"
    },
    "tags": []
   },
   "source": [
    "![](../figs/deep_nlp/bert/neuron_view_delimiter.png)\n"
   ]
  },
  {
   "cell_type": "markdown",
   "id": "c1f99143-e4a0-4b89-8457-3c5736dd8eac",
   "metadata": {
    "slideshow": {
     "slide_type": "slide"
    },
    "tags": []
   },
   "source": [
    "In the Key column, the key vectors for the two occurrences of [SEP] carry a distinctive signature: they both have a small number of active neurons with strongly positive (blue) or negative (orange) values, and a larger number of neurons with values close to zero (light blue/orange or white):\n",
    "\n",
    "![](../figs/deep_nlp/bert/key_vector_sep.png)\n"
   ]
  },
  {
   "cell_type": "markdown",
   "id": "39750a4b-9cc2-4fe0-a9b3-cbf22aeccd2d",
   "metadata": {
    "slideshow": {
     "slide_type": "slide"
    },
    "tags": []
   },
   "source": [
    "The query vectors tend to match the [SEP] key vectors along those active neurons, resulting in high values for the elementwise product q×k, as in this example:\n",
    "\n",
    "![](../figs/deep_nlp/bert/query_key_sep.png)\n",
    "\n",
    "The query vectors for the other words follow a similar pattern: they match the [SEP] key vector along the same set of neurons. Thus it seems that BERT has designated a small set of neurons as “[SEP]-matching neurons,” and the query vectors assigned values that match the [SEP] key vectors at these positions.\n"
   ]
  },
  {
   "cell_type": "markdown",
   "id": "5c66fcde-b4ca-4b14-b47d-db7aa848afd1",
   "metadata": {
    "slideshow": {
     "slide_type": "slide"
    },
    "tags": []
   },
   "source": [
    "Select layer 6, head 4. In this pattern, attention is directed to the delimiter tokens, [CLS] and [SEP].\n",
    "\n",
    "- For example, most of the attention is directed to [SEP].\n"
   ]
  },
  {
   "cell_type": "code",
   "execution_count": null,
   "id": "0580488f-a4f4-4c47-b41e-b68c546c3691",
   "metadata": {
    "tags": []
   },
   "outputs": [],
   "source": [
    "head_view(attention, tokens, layer=6, heads=[4])\n"
   ]
  },
  {
   "cell_type": "markdown",
   "id": "b42fd159-3c6b-4bcc-be76-f524589163d3",
   "metadata": {
    "slideshow": {
     "slide_type": "slide"
    },
    "tags": []
   },
   "source": [
    "### Bag of Words attention pattern\n",
    "\n",
    "In this pattern, attention is divided fairly evenly across all words in the same sentence:\n",
    "\n",
    "BERT is essentially computing a bag-of-words embedding by taking an (almost) unweighted average of the word embeddings in the same sentence.\n",
    "\n",
    "How does BERT finesse the queries and keys to form this attention pattern? Let’s again turn to the neuron view:\n"
   ]
  },
  {
   "cell_type": "markdown",
   "id": "516786d2-c943-414d-95cf-0343f0e23519",
   "metadata": {
    "slideshow": {
     "slide_type": "slide"
    },
    "tags": []
   },
   "source": [
    "![](../figs/deep_nlp/bert/neuron_view_bow.png)\n"
   ]
  },
  {
   "cell_type": "markdown",
   "id": "5cef778f-b94d-48ff-9316-55635d8065f7",
   "metadata": {
    "slideshow": {
     "slide_type": "slide"
    },
    "tags": []
   },
   "source": [
    "In the $q×k$ column, we see a clear pattern: a small number of neurons (2–4) dominate the calculation of the attention scores. When query and key vector are in the same sentence (the first sentence, in this case), the product shows high values (blue) at these neurons. When query and key vector are in different sentences, the product is strongly negative (orange) at these same positions, as in this example:\n",
    "\n",
    "![](../figs/deep_nlp/bert/query_key_bow.png)\n",
    "\n",
    "When query and key are both from sentence 1, they tend to have values with the same sign along the active neurons, resulting in a positive product. When the query is from sentence 1, and the key is from sentence 2, the same neurons tend to have values with opposite signs, resulting in a negative product.\n"
   ]
  },
  {
   "cell_type": "markdown",
   "id": "1c58dfe1-1910-4871-8605-8a1521c8bdc8",
   "metadata": {
    "slideshow": {
     "slide_type": "slide"
    },
    "tags": []
   },
   "source": [
    "How does BERT know the concept of “sentence”, especially in the first layer of the network before higher-level abstractions are formed? As mentioned earlier, BERT accepts special [SEP] tokens that mark sentence boundaries. Additionally, BERT incorporates sentence-level embeddings that are added to the input layer. The information encoded in these sentence embeddings flows to downstream variables, i.e. queries and keys, and enables them to acquire sentence-specific values.\n",
    "\n",
    "![](../figs/deep_nlp/bert/sentence_embedding.png)\n"
   ]
  },
  {
   "cell_type": "markdown",
   "id": "cb697c64-cce4-4d77-b0f2-8d3ee5c6d494",
   "metadata": {
    "slideshow": {
     "slide_type": "slide"
    },
    "tags": []
   },
   "source": [
    "Select layer 0, head 0\n"
   ]
  },
  {
   "cell_type": "code",
   "execution_count": null,
   "id": "24a5f4fb-9765-4cb8-bd58-d30f197547e6",
   "metadata": {},
   "outputs": [],
   "source": [
    "head_view(attention, tokens, layer=0, heads=[0])\n"
   ]
  },
  {
   "cell_type": "markdown",
   "id": "d2c4bc95-8278-420e-83c3-34e0f36c291f",
   "metadata": {
    "slideshow": {
     "slide_type": "slide"
    },
    "tags": []
   },
   "source": [
    "### Next-word attention pattern\n",
    "\n",
    "It makes sense that the model would focus on the next word, because adjacent words are often the most relevant for understanding a word’s meaning in context. Traditional n-gram language models are based on this same intuition.\n",
    "\n",
    "Let’s check out the neuron view for this pattern:\n",
    "\n",
    "![](../figs/deep_nlp/bert/neuron_view_next_word.png)\n"
   ]
  },
  {
   "cell_type": "markdown",
   "id": "244b69e2-23f2-41d5-b90f-0a0f425f069b",
   "metadata": {},
   "source": [
    "We see that the product of the query vector for “the” and the key vector for “store” (the next word) is strongly positive across most neurons. For tokens other than the next token, the key-query product contains some combination of positive and negative values. The result is a high attention score between “the” and “store”.\n",
    "\n",
    "For this attention pattern, a large number of neurons figure into the attention score, and these neurons differ depending on the token position, as illustrated here:\n",
    "\n",
    "![](../figs/deep_nlp/bert/query_key_next_word.png)\n"
   ]
  },
  {
   "cell_type": "markdown",
   "id": "02af6a0a-461c-4315-a2e5-48d4e2884c79",
   "metadata": {},
   "source": [
    "This behavior differs from the delimiter-focused and the sentence-focused attention patterns, in which a small, fixed set of neurons determine the attention scores. For those two patterns, only a few neurons are required because the patterns are so simple, and there is little variation in the words that receive attention. In contrast, the next-word attention pattern needs to track which of the 512 words receives attention from a given position, i.e., which is the next word. To do so it needs to generate queries and keys such that each query vector matches with a unique key vector from the 512 possibilities. This would be difficult to accomplish using a small subset of neurons.\n"
   ]
  },
  {
   "cell_type": "markdown",
   "id": "5873eff4-ac3e-4a25-8efa-a0a044c909d7",
   "metadata": {},
   "source": [
    "**How is BERT able to generate these position-aware queries and keys?**\n",
    "\n",
    "- The answer lies in BERT’s position embeddings, which are added to the word embeddings at the input layer.\n",
    "- BERT learns a separate position embedding for each position in the sequence, and adds these to the word embeddings.\n",
    "- This position information flows to downstream variables, i.e. queries and keys, and enables them to acquire position-specific values.\n"
   ]
  },
  {
   "cell_type": "markdown",
   "id": "cc3a7e02",
   "metadata": {
    "slideshow": {
     "slide_type": "slide"
    },
    "tags": []
   },
   "source": [
    "Select layer 2, head 0. (The selected head is indicated by the highlighted square in the color bar at the top.) Most of the attention at a particular position is directed to the next token in the sequence.\n",
    "\n",
    "- If you do not select any token, the visualization shows the attention pattern for all tokens in the sequence.\n",
    "- If you select a token, the visualization shows the attention pattern for the selected token.\n",
    "- If you select a token `i`, virtually all the attention is directed to the next token `went`.\n",
    "- The [SEP] token disrupts the next-token attention pattern, as most of the attention from [SEP] is directed to [CLS] (the first token in the sequence) rather than the next token.\n",
    "- This pattern, attention to the next token, appears to work primarily within a sentence.\n",
    "- This pattern is related to the idea of a recurrent neural network (RNN) that is trained to predict the next word in a sequence.\n"
   ]
  },
  {
   "cell_type": "code",
   "execution_count": null,
   "id": "97122519",
   "metadata": {
    "slideshow": {
     "slide_type": "slide"
    },
    "tags": []
   },
   "outputs": [],
   "source": [
    "head_view(attention, tokens, layer=2, heads=[0])\n"
   ]
  },
  {
   "cell_type": "markdown",
   "id": "5b1c6042",
   "metadata": {
    "slideshow": {
     "slide_type": "slide"
    },
    "tags": []
   },
   "source": [
    "### Attention to previous word\n",
    "\n",
    "Select layer 6, head 11. In this pattern, much of the attention is directed to the previous token in the sequence.\n",
    "\n",
    "- For example, most of the attention from `went` is directed to the previous token `i`.\n",
    "- The pattern is not as distinct as the next-token pattern, but it is still present.\n",
    "- Some attention is also dispersed to other tokens in the sequence, especially to the [SEP] token.\n",
    "- This pattern is also related to the idea of an RNN, in this case the forward direction of an RNN.\n"
   ]
  },
  {
   "cell_type": "code",
   "execution_count": null,
   "id": "603755a3",
   "metadata": {
    "slideshow": {
     "slide_type": "slide"
    },
    "tags": []
   },
   "outputs": [],
   "source": [
    "head_view(attention, tokens, layer=6, heads=[11])\n"
   ]
  },
  {
   "cell_type": "markdown",
   "id": "0910a0a3",
   "metadata": {
    "slideshow": {
     "slide_type": "slide"
    },
    "tags": []
   },
   "source": [
    "### Attention to identical/related words pattern\n",
    "\n",
    "Select layer 2, head 6. In this pattern, much of the attention is directed to identical or related words, including the source word itself.\n",
    "\n",
    "- For example, most of the attention for the first occurrence of `store` is directed to itself and to the second occurrence of `store`.\n",
    "- This pattern is not as distict as some of the other patterns.\n"
   ]
  },
  {
   "cell_type": "code",
   "execution_count": null,
   "id": "42ced679",
   "metadata": {
    "slideshow": {
     "slide_type": "slide"
    },
    "tags": []
   },
   "outputs": [],
   "source": [
    "head_view(attention, tokens, layer=2, heads=[6])\n"
   ]
  },
  {
   "cell_type": "markdown",
   "id": "56922718",
   "metadata": {
    "slideshow": {
     "slide_type": "slide"
    },
    "tags": []
   },
   "source": [
    "### Attention to identical/related words in other sentence\n",
    "\n",
    "Select layer 10, head 10. In this pattern, much of the attention is directed to identical or related words in the other sentence.\n",
    "\n",
    "- For example, most of the attention of `store` in the second sentence is directed to `store` in the first sentence.\n",
    "- This is helpful for the next sentence prediction task, which is one of the pre-training tasks for BERT.\n"
   ]
  },
  {
   "cell_type": "code",
   "execution_count": null,
   "id": "8d0dacf0",
   "metadata": {
    "slideshow": {
     "slide_type": "slide"
    },
    "tags": []
   },
   "outputs": [],
   "source": [
    "head_view(attention, tokens, layer=10, heads=[10])\n"
   ]
  },
  {
   "cell_type": "markdown",
   "id": "3241aacc",
   "metadata": {
    "slideshow": {
     "slide_type": "slide"
    },
    "tags": []
   },
   "source": [
    "### Attention to other words predictive of word\n",
    "\n",
    "Select layer 2, head 1. In this pattern, attention seems to be directed to other words that are predictive of the source word, excluding the source word itself.\n",
    "\n",
    "- For example, most of the attention for `straw` is directed to `##berries`, and most of the attention from `##berries` is focused on `straw`.\n"
   ]
  },
  {
   "cell_type": "code",
   "execution_count": null,
   "id": "5960f5f1",
   "metadata": {},
   "outputs": [],
   "source": [
    "head_view(attention, tokens, layer=2, heads=[1])\n"
   ]
  },
  {
   "cell_type": "markdown",
   "id": "459cec5c-391e-42e0-b4e6-ab929a5ca22d",
   "metadata": {},
   "source": [
    "## References\n",
    "\n",
    "- [Deconstructing BERT](https://towardsdatascience.com/deconstructing-bert-part-2-visualizing-the-inner-workings-of-attention-60a16d86b5c1)\n"
   ]
  }
 ],
 "metadata": {
  "kernelspec": {
   "display_name": "Python 3 (ipykernel)",
   "language": "python",
   "name": "python3"
  },
  "language_info": {
   "codemirror_mode": {
    "name": "ipython",
    "version": 3
   },
   "file_extension": ".py",
   "mimetype": "text/x-python",
   "name": "python",
   "nbconvert_exporter": "python",
   "pygments_lexer": "ipython3",
   "version": "3.8.12"
  },
  "vscode": {
   "interpreter": {
    "hash": "d4d1e4263499bec80672ea0156c357c1ee493ec2b1c70f0acce89fc37c4a6abe"
   }
  },
  "widgets": {
   "application/vnd.jupyter.widget-state+json": {
    "state": {},
    "version_major": 2,
    "version_minor": 0
   }
  }
 },
 "nbformat": 4,
 "nbformat_minor": 5
}
