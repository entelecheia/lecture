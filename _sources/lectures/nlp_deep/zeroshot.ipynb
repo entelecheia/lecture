{
 "cells": [
  {
   "attachments": {},
   "cell_type": "markdown",
   "id": "bfc871e8",
   "metadata": {
    "slideshow": {
     "slide_type": "slide"
    },
    "tags": []
   },
   "source": [
    "# Zero Shot, Prompt, and Search Strategies\n",
    "\n",
    "```{image} ../figs/aiart/entelecheia_Zero_Shot.png\n",
    ":alt: Zero Shot, Prompt, and Search Strategies\n",
    ":class: bg-primary mb-1\n",
    ":width: 50%\n",
    ":align: center\n",
    "```"
   ]
  },
  {
   "attachments": {},
   "cell_type": "markdown",
   "id": "72c3e881",
   "metadata": {
    "slideshow": {
     "slide_type": "slide"
    },
    "tags": []
   },
   "source": [
    "## Zero Shot and Few Shot Learners\n",
    "\n",
    "```{image} ../figs/aiart/entelecheia_a_robot.png\n",
    ":alt: Zero Shot and Few Shot Learners\n",
    ":class: bg-primary mb-1\n",
    ":width: 90%\n",
    ":align: center\n",
    "```\n",
    "\n",
    "Zero-shot and few-shot learners are machine learning techniques that allow models to generalize and adapt to new tasks with little or no training data. These approaches are particularly useful in situations where obtaining labeled data is difficult or expensive. They are inspired by the human ability to learn new concepts and skills quickly, even from a few examples.\n",
    "\n",
    "Zero-shot learning (ZSL) refers to the ability of a model to perform a task without having seen any examples from that specific task during training. It relies on the model's capacity to generalize from related tasks or to leverage auxiliary information such as relationships between classes, attributes, or semantic information. For example, a zero-shot image classification model might recognize a never-seen-before object by leveraging its understanding of similar objects or associated attributes.\n",
    "\n",
    "Few-shot learning (FSL), on the other hand, involves training a model to perform a task with only a small number of examples (typically less than 10) from the target task. This is in contrast to traditional machine learning methods that often require large amounts of labeled data. Few-shot learning aims to quickly adapt to new tasks by leveraging prior knowledge and transfer learning. Meta-learning and memory-augmented neural networks are common approaches to few-shot learning, focusing on learning a model that can adapt rapidly to new tasks based on limited data.\n",
    "\n",
    "Both zero-shot and few-shot learners are essential components in the pursuit of artificial general intelligence (AGI), as they enable models to learn efficiently and generalize effectively across various tasks and domains with minimal data."
   ]
  },
  {
   "attachments": {},
   "cell_type": "markdown",
   "id": "f6d22319",
   "metadata": {},
   "source": [
    "## Prompt Engineering\n",
    "\n",
    "Prompt engineering is the process of designing and refining inputs (prompts) for language models like GPT-3 or GPT-4 to obtain better, more accurate, and contextually relevant outputs. Since large-scale language models are trained to generate text based on the input they receive, crafting effective prompts can significantly influence the quality of the generated responses.\n",
    "\n",
    "The main goal of prompt engineering is to maximize the usefulness and relevance of a language model's output by considering factors such as clarity, specificity, context, and constraints. It often involves an iterative process of experimentation and fine-tuning to arrive at the optimal prompt. Some strategies used in prompt engineering include:\n",
    "\n",
    "- Clarity: Ensure that the prompt is clear and unambiguous, which helps the language model understand the question or context better.\n",
    "- Specificity: Make the prompt more specific by including relevant details or asking for specific information. This can help narrow down the potential responses and avoid generic answers.\n",
    "- Context: Provide sufficient context to guide the model in generating responses that are relevant to the given situation or domain.\n",
    "- Constraints: Apply constraints on the response format or content, such as specifying the desired answer type (e.g., a list or a single word) or limiting the length of the response.\n",
    "- Redundancy: Ask the same question in multiple ways or incorporate different perspectives to increase the likelihood of obtaining accurate and comprehensive answers.\n",
    "- Instructiveness: Use explicit instructions or guiding questions to direct the model's attention to the relevant aspects of the problem or task.\n",
    "\n",
    "Prompt engineering is an essential skill in working with language models as it helps to bridge the gap between the model's training data and the desired output for specific use cases. By carefully crafting and refining prompts, users can improve the reliability and usefulness of generated responses, making the models more effective across a wide range of applications.\n"
   ]
  },
  {
   "attachments": {},
   "cell_type": "markdown",
   "id": "64a3564e",
   "metadata": {
    "slideshow": {
     "slide_type": "slide"
    },
    "tags": []
   },
   "source": [
    "## Prompting on LLMs\n",
    "\n",
    "Large Language Models (LLMs) like GPT-3 or GPT-4 can be used for various tasks, including zero-shot, one-shot, and few-shot learning. Here are some examples using text prompts for each case:\n",
    "\n",
    "### Zero-shot learning:\n",
    "\n",
    "Task: Sentiment analysis (positive or negative) for a movie review\n",
    "\n",
    "Prompt:\n",
    "\n",
    "```\n",
    "Determine the sentiment of the following movie review: \"I absolutely loved the movie! The storyline was captivating, and the acting was superb. I can't wait to watch it again!\"\n",
    "```\n",
    "\n",
    "Since the LLM has been pre-trained on a diverse range of texts, it should be able to classify the sentiment of the review without any additional examples.\n",
    "\n",
    "### One-shot learning:\n",
    "\n",
    "Task: Animal classification based on a brief description\n",
    "\n",
    "Prompt:\n",
    "\n",
    "```\n",
    "Based on the given description, classify the animal:\n",
    "Example: \"This animal has a long neck and long legs. It mainly eats leaves from trees.\": Giraffe\n",
    "\n",
    "Description: \"This small creature has a bushy tail, sharp claws, and climbs trees to collect nuts.\"\n",
    "```\n",
    "\n",
    "By providing an example in the prompt, the LLM can use this context to generate an appropriate classification for the given description.\n",
    "\n",
    "### Few-shot learning:\n",
    "\n",
    "Task: Convert a sentence from active to passive voice\n",
    "\n",
    "Prompt:\n",
    "\n",
    "```\n",
    "Transform the following sentences from active to passive voice:\n",
    "Example 1: \"John painted the house.\" -> \"The house was painted by John.\"\n",
    "Example 2: \"She baked a cake.\" -> \"A cake was baked by her.\"\n",
    "\n",
    "Sentence: \"The cat chased the mouse.\"\n",
    "```\n",
    "\n",
    "By providing multiple examples, the LLM can better understand the desired transformation and apply it to the input sentence.\n",
    "\n",
    "In each case, the prompt is designed to guide the LLM to perform the desired task with varying amounts of examples. The specific syntax for providing these prompts to an LLM like GPT-3 or GPT-4 depends on the API or library you are using, but the core idea remains the same: designing effective prompts to maximize the usefulness and relevance of the generated outputs.\n"
   ]
  },
  {
   "cell_type": "code",
   "execution_count": null,
   "id": "58b604eb",
   "metadata": {
    "tags": [
     "remove-cell"
    ]
   },
   "outputs": [],
   "source": [
    "# If you run this notebook in Colab, set Hardware accelerator to GPU.\n",
    "# Then, install transformers\n",
    "%pip install -U transformers tensorflow"
   ]
  },
  {
   "cell_type": "code",
   "execution_count": 1,
   "id": "1a89f8ac",
   "metadata": {},
   "outputs": [
    {
     "name": "stderr",
     "output_type": "stream",
     "text": [
      "/home/yjlee/.cache/pypoetry/virtualenvs/lecture-_dERj_9R-py3.8/lib/python3.8/site-packages/tqdm/auto.py:21: TqdmWarning: IProgress not found. Please update jupyter and ipywidgets. See https://ipywidgets.readthedocs.io/en/stable/user_install.html\n",
      "  from .autonotebook import tqdm as notebook_tqdm\n",
      "2023-03-30 00:19:57.858469: I tensorflow/core/platform/cpu_feature_guard.cc:182] This TensorFlow binary is optimized to use available CPU instructions in performance-critical operations.\n",
      "To enable the following instructions: AVX2 FMA, in other operations, rebuild TensorFlow with the appropriate compiler flags.\n",
      "No model was supplied, defaulted to facebook/bart-large-mnli and revision c626438 (https://huggingface.co/facebook/bart-large-mnli).\n",
      "Using a pipeline without specifying a model name and revision in production is not recommended.\n",
      "Downloading pytorch_model.bin: 100%|██████████| 1.63G/1.63G [00:23<00:00, 68.1MB/s]\n",
      "Downloading (…)okenizer_config.json: 100%|██████████| 26.0/26.0 [00:00<00:00, 10.3kB/s]\n",
      "Downloading (…)olve/main/vocab.json: 100%|██████████| 899k/899k [00:01<00:00, 874kB/s]\n",
      "Downloading (…)olve/main/merges.txt: 100%|██████████| 456k/456k [00:00<00:00, 553kB/s]\n",
      "Downloading (…)/main/tokenizer.json: 100%|██████████| 1.36M/1.36M [00:01<00:00, 1.10MB/s]\n"
     ]
    },
    {
     "name": "stdout",
     "output_type": "stream",
     "text": [
      "positive\n"
     ]
    }
   ],
   "source": [
    "# Zero-shot Learning with Hugging Face's Transformers\n",
    "from transformers import pipeline\n",
    "\n",
    "review = \"I absolutely loved the movie! The storyline was captivating, and the acting was superb. I can't wait to watch it again!\"\n",
    "\n",
    "# Initialize the zero-shot classification pipeline\n",
    "classifier = pipeline(\"zero-shot-classification\")\n",
    "\n",
    "# Classify sentiment using the pipeline\n",
    "result = classifier(review, candidate_labels=[\"positive\", \"negative\"])\n",
    "print(result[\"labels\"][0])"
   ]
  },
  {
   "cell_type": "code",
   "execution_count": 7,
   "id": "5501fdd0",
   "metadata": {},
   "outputs": [
    {
     "name": "stderr",
     "output_type": "stream",
     "text": [
      "The attention mask and the pad token id were not set. As a consequence, you may observe unexpected behavior. Please pass your input's `attention_mask` to obtain reliable results.\n",
      "Setting `pad_token_id` to `eos_token_id`:50256 for open-end generation.\n"
     ]
    },
    {
     "name": "stdout",
     "output_type": "stream",
     "text": [
      "\n",
      "Answer the following geography-related question:\n",
      "Question: \"What is the capital city of France?\": \n",
      "Answer: Paris\n",
      "\n",
      "Question: \"What is the highest mountain in the world?\"\n",
      "\n",
      "Answer: Mount Everest\n",
      "\n",
      "Question\n"
     ]
    }
   ],
   "source": [
    "# One-shot Learning\n",
    "from transformers import GPT2LMHeadModel, GPT2Tokenizer\n",
    "\n",
    "text = \"\"\"\n",
    "Answer the following geography-related question:\n",
    "Question: \"What is the capital city of France?\": \n",
    "Answer: Paris\n",
    "\n",
    "Question: \"What is the highest mountain in the world?\"\n",
    "\"\"\"\n",
    "\n",
    "# Initialize the GPT-2 model and tokenizer\n",
    "model_name = \"gpt2\"\n",
    "tokenizer = GPT2Tokenizer.from_pretrained(model_name)\n",
    "model = GPT2LMHeadModel.from_pretrained(model_name)\n",
    "\n",
    "# Generate a response using the model\n",
    "input_ids = tokenizer.encode(text, return_tensors=\"pt\")\n",
    "output = model.generate(input_ids, max_length=50)\n",
    "response = tokenizer.decode(output[0])\n",
    "\n",
    "print(response)\n"
   ]
  },
  {
   "cell_type": "code",
   "execution_count": 11,
   "id": "1d4314f5",
   "metadata": {},
   "outputs": [
    {
     "name": "stderr",
     "output_type": "stream",
     "text": [
      "The attention mask and the pad token id were not set. As a consequence, you may observe unexpected behavior. Please pass your input's `attention_mask` to obtain reliable results.\n",
      "Setting `pad_token_id` to `eos_token_id`:50256 for open-end generation.\n"
     ]
    },
    {
     "name": "stdout",
     "output_type": "stream",
     "text": [
      "\n",
      "Transform the following sentences from active to passive voice:\n",
      "Example 1: \"John painted the house.\" -> \"The house was painted by John.\"\n",
      "Example 2: \"She baked a cake.\" -> \"A cake was baked by her.\"\n",
      "\n",
      "Example 3: \"The cat chased the mouse.\"\n",
      "\n",
      "Example 4: \"The cat was a cat.\" -> \"The cat was a cat.\"\n",
      "\n",
      "Example 5: \"The cat was a cat.\" -> \"The cat was a cat\n"
     ]
    }
   ],
   "source": [
    "# Few-shot Learning\n",
    "from transformers import GPT2LMHeadModel, GPT2Tokenizer\n",
    "\n",
    "text = \"\"\"\n",
    "Transform the following sentences from active to passive voice:\n",
    "Example 1: \"John painted the house.\" -> \"The house was painted by John.\"\n",
    "Example 2: \"She baked a cake.\" -> \"A cake was baked by her.\"\n",
    "\n",
    "Example 3: \"The cat chased the mouse.\"\n",
    "\"\"\"\n",
    "\n",
    "# Initialize the GPT-2 model and tokenizer\n",
    "model_name = \"gpt2\"\n",
    "tokenizer = GPT2Tokenizer.from_pretrained(model_name)\n",
    "model = GPT2LMHeadModel.from_pretrained(model_name)\n",
    "\n",
    "# Generate a response using the model\n",
    "input_ids = tokenizer.encode(text, return_tensors=\"pt\")\n",
    "output = model.generate(input_ids, max_length=100)\n",
    "response = tokenizer.decode(output[0])\n",
    "\n",
    "print(response)\n"
   ]
  },
  {
   "attachments": {},
   "cell_type": "markdown",
   "id": "75a3c954",
   "metadata": {},
   "source": [
    "## Zero-Shot Reasoners and Chain-of-Thought Prompting\n",
    "\n",
    "The [University of Tokyo and Google Brain team](https://arxiv.org/abs/2205.11916) discovered that large language models (LLMs) possess inherent zero-shot abilities in high-level cognitive tasks. These abilities can be extracted using a method called Chain-of-Thought (CoT) prompting.\n",
    "\n",
    "Further research by the [Google Brain team](https://arxiv.org/abs/2201.11903) delved into CoT prompting and found that generating a series of intermediate reasoning steps, or a \"chain-of-thought,\" significantly improves LLMs' complex reasoning capabilities. Experiments conducted on three LLMs showed that CoT prompting enhances performance in arithmetic, common sense, and symbolic reasoning tasks.\n",
    "\n",
    "Here's an example to illustrate CoT prompting:\n",
    "\n",
    "- Q: Jane has 7 books on her shelf. She borrowed 4 books from the library. How many books does she have now?\n",
    "\n",
    "- A: Jane had 7 books initially. She borrowed 4 books from the library. So, 7 + 4 = 11. The answer is 11.\n",
    "\n",
    "And another example:\n",
    "\n",
    "- Q: A shop had 15 umbrellas. 8 umbrellas were sold, and they restocked 5 more. How many umbrellas do they have now?\n",
    "\n",
    "- A: The shop had 15 umbrellas originally. They sold 8 umbrellas, leaving 15 - 8 = 7. They restocked 5 more umbrellas, so they have 7 + 5 = 12. The answer is 12.\n",
    "\n",
    "\n",
    "In summary, chain-of-thought reasoning enables models to break down complex problems into smaller, manageable steps that can be solved individually. The language-based nature of CoT prompting makes it applicable to any task that can be solved through language. Empirical experiments have shown that CoT prompting improves performance across various reasoning tasks, and successful chain-of-thought reasoning emerges as models scale up."
   ]
  },
  {
   "attachments": {},
   "cell_type": "markdown",
   "id": "eb51ed20",
   "metadata": {},
   "source": [
    "Here's a Python example using Hugging Face Transformers to demonstrate Zero-Shot Reasoners and Chain-of-Thought Prompting with the GPT-2 model:\n",
    "\n",
    "**Import libraries and prepare the model**\n",
    "\n",
    "The following code imports necessary libraries, TensorFlow and Hugging Face Transformers, to work with the GPT-2 model. It initializes a GPT-2 tokenizer and loads the pre-trained GPT-2 model from Hugging Face's model hub. The EOS token is set as the PAD token to avoid warnings during tokenization and padding."
   ]
  },
  {
   "cell_type": "code",
   "execution_count": 8,
   "id": "8f045e9e",
   "metadata": {},
   "outputs": [
    {
     "name": "stderr",
     "output_type": "stream",
     "text": [
      "All model checkpoint layers were used when initializing TFGPT2LMHeadModel.\n",
      "\n",
      "All the layers of TFGPT2LMHeadModel were initialized from the model checkpoint at gpt2.\n",
      "If your task is similar to the task the model of the checkpoint was trained on, you can already use TFGPT2LMHeadModel for predictions without further training.\n"
     ]
    },
    {
     "name": "stdout",
     "output_type": "stream",
     "text": [
      "To find out the total number of books Jane has now, we can first count the number of books on her shelf, which is 7. Then we count the number of books she borrowed from the library, which is 4. Now, we add these two quantities together. What is 7 + 4? Well, it's the number of books she borrowed from the library. So, if you have a library of about 500 books, you have about 7 books on your shelf. So, if you have\n"
     ]
    }
   ],
   "source": [
    "import tensorflow as tf\n",
    "from transformers import TFGPT2LMHeadModel, GPT2Tokenizer\n",
    "\n",
    "def generate_chain_of_thought(prompt, model, tokenizer, max_length=100):\n",
    "    input_ids = tokenizer.encode(prompt, return_tensors=\"tf\")\n",
    "    generated_text = model.generate(input_ids, max_length=max_length, num_return_sequences=1)\n",
    "    return tokenizer.decode(generated_text[0], skip_special_tokens=True)\n",
    "\n",
    "tokenizer = GPT2Tokenizer.from_pretrained(\"gpt2\")\n",
    "model = TFGPT2LMHeadModel.from_pretrained(\"gpt2\", pad_token_id=tokenizer.eos_token_id)\n",
    "\n",
    "# Example problem\n",
    "problem = \"Jane has 7 books on her shelf. She borrowed 4 books from the library. How many books does she have now?\"\n",
    "\n",
    "# Chain-of-Thought Prompt\n",
    "cot_prompt = \"To find out the total number of books Jane has now, we can first count the number of books on her shelf, which is 7. Then we count the number of books she borrowed from the library, which is 4. Now, we add these two quantities together. What is 7 + 4?\"\n",
    "\n",
    "# Generate the answer\n",
    "answer = generate_chain_of_thought(cot_prompt, model, tokenizer)\n",
    "print(answer)\n"
   ]
  },
  {
   "cell_type": "code",
   "execution_count": null,
   "id": "51691090",
   "metadata": {},
   "outputs": [],
   "source": [
    "# You have to install the OpenAI Python library by running the following command:\n",
    "# pip install openai\n",
    "import openai\n",
    "import re\n",
    "\n",
    "openai.api_key = \"API_KEY\"\n",
    "\n",
    "def generate_chain_of_thought(prompt, model_engine=\"text-davinci-003\", max_tokens=100):\n",
    "    response = openai.Completion.create(\n",
    "        engine=model_engine,\n",
    "        prompt=prompt,\n",
    "        max_tokens=max_tokens,\n",
    "        n=1,\n",
    "        stop=None,\n",
    "        temperature=0.5,\n",
    "    )\n",
    "    return response.choices[0].text.strip()\n",
    "\n",
    "# Example problem\n",
    "problem = \"Jane has 7 books on her shelf. She borrowed 4 books from the library. How many books does she have now?\"\n",
    "\n",
    "# Chain-of-Thought Prompt\n",
    "cot_prompt = f\"Jane had 7 books initially. She borrowed 4 books from the library. What is the total number of books Jane has now? 7 + 4 =\"\n",
    "\n",
    "# Generate the answer\n",
    "answer_text = generate_chain_of_thought(cot_prompt)\n",
    "answer = re.findall(r\"\\d+\", answer_text)[0] if re.findall(r\"\\d+\", answer_text) else \"unknown\"\n",
    "print(answer)\n"
   ]
  }
 ],
 "metadata": {
  "celltoolbar": "Tags",
  "kernelspec": {
   "display_name": "Python 3 (ipykernel)",
   "language": "python",
   "name": "python3"
  },
  "language_info": {
   "codemirror_mode": {
    "name": "ipython",
    "version": 3
   },
   "file_extension": ".py",
   "mimetype": "text/x-python",
   "name": "python",
   "nbconvert_exporter": "python",
   "pygments_lexer": "ipython3",
   "version": "3.8.12"
  },
  "vscode": {
   "interpreter": {
    "hash": "f869af7787e6a1c49e09e367fc6e1b81d93d1c6583b43249c80edc047bd13cb2"
   }
  },
  "widgets": {
   "application/vnd.jupyter.widget-state+json": {
    "state": {},
    "version_major": 2,
    "version_minor": 0
   }
  }
 },
 "nbformat": 4,
 "nbformat_minor": 5
}
