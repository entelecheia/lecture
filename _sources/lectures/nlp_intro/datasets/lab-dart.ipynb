{
  "cells": [
    {
      "attachments": {},
      "cell_type": "markdown",
      "metadata": {
        "colab_type": "text",
        "id": "view-in-github"
      },
      "source": [
        "# Lab: Crawling DART Data\n",
        "\n",
        "In this lab, we will learn how to crawl financial data from the DART system (Data Analysis, Retrieval, and Transfer System) provided by the Financial Supervisory Service of South Korea. We will use the **OpenDartReader** library to access the Open DART API, which provides financial information about Korean companies. Additionally, we will extract specific sections from the financial statements using **BeautifulSoup**.\n",
        "\n",
        "## Preparation\n",
        "\n",
        "First, let's set up the workspace and required directories:\n"
      ]
    },
    {
      "cell_type": "code",
      "execution_count": 2,
      "metadata": {
        "colab": {
          "base_uri": "https://localhost:8080/"
        },
        "id": "GDY8BtSle0Go",
        "outputId": "f24cc758-e82d-4c69-d920-f119eb32b74f"
      },
      "outputs": [
        {
          "name": "stdout",
          "output_type": "stream",
          "text": [
            "WORKSPACE_DIR = examples/dart\n"
          ]
        }
      ],
      "source": [
        "import os, sys\n",
        "IN_COLAB = 'google.colab' in sys.modules\n",
        "if IN_COLAB:\n",
        "    from google.colab import drive\n",
        "    if not os.path.exists('/content/drive'):\n",
        "      drive.mount(\"/content/drive\")\n",
        "      !ln -s \"/content/drive/My Drive/colab_workspace\" workspace\n",
        "    WORKSPACE_DIR = \"/content/workspace/projects/dart\"\n",
        "else:\n",
        "    WORKSPACE_DIR = \"examples/dart\"\n",
        "print(f'WORKSPACE_DIR = {WORKSPACE_DIR}')\n",
        "data_dir = os.path.join(WORKSPACE_DIR, \"data\")\n",
        "os.makedirs(data_dir, exist_ok=True)\n"
      ]
    },
    {
      "attachments": {},
      "cell_type": "markdown",
      "metadata": {},
      "source": [
        "## Introduction to OpenDartReader\n",
        "\n",
        "**OpenDartReader** is an open-source Python library that makes it easy to use the Open DART API. The Open DART API provides access to financial data from the Korean Financial Supervisory Service's electronic disclosure system. This API is well-designed and offers a range of useful features. However, using the API directly can be cumbersome, as it requires additional work, such as converting received data into a more usable format like Pandas DataFrame.\n",
        "\n",
        "OpenDartReader simplifies these tasks by providing a user-friendly interface for accessing the Open DART API. It also offers utility functions for downloading and processing attachments and documents, making it easy to retrieve financial statements in Excel format, for example.\n",
        "\n",
        "## Installation\n",
        "\n",
        "To install OpenDartReader, simply run:\n",
        "\n",
        "```bash\n",
        "pip install opendartreader\n",
        "```\n",
        "\n",
        "If you need to upgrade an existing installation, use:\n",
        "\n",
        "```bash\n",
        "pip install --upgrade opendartreader\n",
        "```\n",
        "\n",
        "## Quick Start\n",
        "\n",
        "First, import the OpenDartReader library and create an instance using your API key:\n"
      ]
    },
    {
      "cell_type": "code",
      "execution_count": null,
      "metadata": {
        "colab": {
          "base_uri": "https://localhost:8080/"
        },
        "id": "a-U1PibEPblK",
        "outputId": "8a749da6-b96a-4816-cede-e833a26c4b7f"
      },
      "outputs": [],
      "source": [
        "# %%capture\n",
        "%pip install opendartreader python-dotenv"
      ]
    },
    {
      "cell_type": "code",
      "execution_count": null,
      "metadata": {},
      "outputs": [],
      "source": [
        "import OpenDartReader\n",
        "\n",
        "api_key = \"your_api_key_here\"\n",
        "dart = OpenDartReader(api_key)\n"
      ]
    },
    {
      "attachments": {},
      "cell_type": "markdown",
      "metadata": {},
      "source": [
        "### Accessing Public Disclosure Information\n",
        "\n",
        "You can access the public disclosure information of a specific company (e.g., Samsung Electronics) using the `list()` method:\n",
        "\n",
        "```python\n",
        "# All public disclosures for Samsung Electronics since its IPO\n",
        "dart.list('삼성전자')  # Use either the company name or the stock code (e.g., '005930')\n",
        "```\n",
        "\n",
        "You can also specify a date range for retrieving public disclosures:\n",
        "\n",
        "```python\n",
        "# Public disclosures for Samsung Electronics after a specific date\n",
        "dart.list('005930', start='2022-01-01')  # Disclosures from 2022-01-01 to today\n",
        "\n",
        "# Public disclosures for Samsung Electronics within a specific date range\n",
        "dart.list('005930', start='2022-04-28', end='2022-04-28')\n",
        "```\n",
        "\n",
        "Additionally, you can retrieve specific types of disclosures, such as annual reports, by specifying the `kind` parameter:\n",
        "\n",
        "```python\n",
        "# All annual reports (including corrected ones) for Samsung Electronics since 1999\n",
        "dart.list('005930', start='1999-01-01', kind='A', final=False)\n",
        "\n",
        "# All final annual reports for Samsung Electronics since 1999\n",
        "dart.list('005930', start='1999-01-01', kind='A')\n",
        "```\n",
        "\n",
        "### Accessing Company Overview Information\n",
        "\n",
        "To obtain a company's overview information, use the `company()` method:\n",
        "\n",
        "```python\n",
        "# Overview information for Samsung Electronics\n",
        "dart.company('005930')\n",
        "```\n",
        "\n",
        "You can also search for companies with a specific name using the `company_by_name()` method:\n",
        "\n",
        "```python\n",
        "# Overview information for companies with \"Samsung Electronics\" in their name\n",
        "dart.company_by_name('삼성전자')\n",
        "```\n",
        "\n",
        "### Accessing Disclosure Documents\n",
        "\n",
        "To access the original disclosure document in XML format, use the `document()` method:\n",
        "\n",
        "```python\n",
        "# Samsung Electronics' 2022 semi-annual business report in XML format\n",
        "xml_text = dart.document('20220816001711')\n",
        "```\n",
        "\n",
        "To retrieve a list of all documents related to a specific disclosure, such as the business report and audit report, use the `document_all()` method:\n",
        "\n",
        "```python\n",
        "xml_text_list = dart.document_all('20220816001711')\n",
        "xml_text = xml_text_list[0]\n",
        "```\n",
        "\n",
        "### Finding Corporate Codes\n",
        "\n",
        "You can find a company's unique corporate code using the `find_corp_code()` method:\n",
        "\n",
        "```python\n",
        "# Find corporate code using the stock code\n",
        "dart.find_corp_code('005930')\n",
        "\n",
        "# Find corporate code using the company name\n",
        "dart.find_corp_code('삼성전자')\n",
        "```\n"
      ]
    },
    {
      "attachments": {},
      "cell_type": "markdown",
      "metadata": {},
      "source": [
        "## Download and Extract Company Disclosure from DART\n",
        "\n",
        "First, load the DART API key from the .env file:\n"
      ]
    },
    {
      "cell_type": "code",
      "execution_count": null,
      "metadata": {},
      "outputs": [],
      "source": [
        "from dotenv import load_dotenv, find_dotenv\n",
        "\n",
        "dotenv_path = WORKSPACE_DIR + \"/.env\"\n",
        "load_dotenv(dotenv_path)\n",
        "DART_API_KEY = os.environ.get(\"DART_API_KEY\")\n",
        "\n",
        "dart = OpenDartReader(DART_API_KEY)\n"
      ]
    },
    {
      "attachments": {},
      "cell_type": "markdown",
      "metadata": {},
      "source": [
        "Next, retrieve a list of Samsung Electronics' annual reports since 1999:\n"
      ]
    },
    {
      "cell_type": "code",
      "execution_count": 9,
      "metadata": {
        "id": "2LunQH0P60Mp"
      },
      "outputs": [],
      "source": [
        "dart.list(\"005930\", start=\"1999-01-01\", kind=\"A\")\n"
      ]
    },
    {
      "attachments": {},
      "cell_type": "markdown",
      "metadata": {},
      "source": [
        "Now, we can sort the documents by their relevance to the search query using the `sub_docs()` method:\n"
      ]
    },
    {
      "cell_type": "code",
      "execution_count": null,
      "metadata": {},
      "outputs": [],
      "source": [
        "sub_docs = dart.sub_docs(\"20220308000798\", match=\"이사의 경영진단 및 분석의견\")\n",
        "sub_docs\n"
      ]
    },
    {
      "attachments": {},
      "cell_type": "markdown",
      "metadata": {},
      "source": [
        "Finally, obtain the URL for the most relevant document:\n"
      ]
    },
    {
      "cell_type": "code",
      "execution_count": null,
      "metadata": {},
      "outputs": [],
      "source": [
        "url = sub_docs.url[sub_docs.index[0]]"
      ]
    },
    {
      "attachments": {},
      "cell_type": "markdown",
      "metadata": {},
      "source": [
        "## Crawling the M&DA Section from the Financial Statement\n",
        "\n",
        "To extract the Management's Discussion and Analysis (M&DA) section from the financial statement, we will use the **BeautifulSoup** library. First, install the library:\n",
        "\n",
        "```bash\n",
        "pip install beautifulsoup4\n",
        "```\n",
        "\n",
        "Now, import the necessary libraries and fetch the target URL's content:\n"
      ]
    },
    {
      "cell_type": "code",
      "execution_count": null,
      "metadata": {},
      "outputs": [],
      "source": [
        "%pip install beautifulsoup4"
      ]
    },
    {
      "cell_type": "code",
      "execution_count": null,
      "metadata": {},
      "outputs": [],
      "source": [
        "import requests\n",
        "from bs4 import BeautifulSoup\n",
        "\n",
        "page = requests.get(url)\n",
        "soup = BeautifulSoup(page.content, \"html.parser\")\n",
        "soup.get_text()\n"
      ]
    },
    {
      "attachments": {},
      "cell_type": "markdown",
      "metadata": {},
      "source": [
        "This code retrieves the text content of the M&DA section from the financial statement, which can be further processed and analyzed as needed.\n"
      ]
    }
  ],
  "metadata": {
    "colab": {
      "collapsed_sections": [],
      "include_colab_link": true,
      "name": "01-basic.ipynb",
      "provenance": []
    },
    "kernelspec": {
      "display_name": "Python 3",
      "name": "python3"
    },
    "language_info": {
      "codemirror_mode": {
        "name": "ipython",
        "version": 3
      },
      "file_extension": ".py",
      "mimetype": "text/x-python",
      "name": "python",
      "nbconvert_exporter": "python",
      "pygments_lexer": "ipython3",
      "version": "3.8.12"
    }
  },
  "nbformat": 4,
  "nbformat_minor": 0
}
