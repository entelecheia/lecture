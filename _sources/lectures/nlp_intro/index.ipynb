{
 "cells": [
  {
   "attachments": {},
   "cell_type": "markdown",
   "id": "76b40700",
   "metadata": {
    "slideshow": {
     "slide_type": "slide"
    },
    "tags": []
   },
   "source": [
    "# Introduction to NLP\n"
   ]
  },
  {
   "attachments": {},
   "cell_type": "markdown",
   "id": "e9c99162",
   "metadata": {
    "slideshow": {
     "slide_type": "slide"
    },
    "tags": []
   },
   "source": [
    "## 📜 Course Description\n",
    "\n",
    "This course provides an introduction to natural language processing (NLP), a subfield of artificial intelligence concerned with the interaction between computers and human language. The course will cover the fundamental concepts and techniques of NLP, including text pre-processing, morphology, syntax, semantics, text classification, topic modeling, and word embeddings.\n"
   ]
  },
  {
   "attachments": {},
   "cell_type": "markdown",
   "id": "ee7884ff",
   "metadata": {
    "slideshow": {
     "slide_type": "slide"
    },
    "tags": []
   },
   "source": [
    "## ♾️ Learning Goals\n",
    "\n",
    "By the end of this course, students will be able to:\n",
    "\n",
    "- Understand key concepts, models, and challenges in natural language processing\n",
    "- Implement and apply fundamental algorithms in NLP\n",
    "- Evaluate and use software systems for various NLP tasks\n",
    "- Understand current approaches, datasets, and systems for various NLP tasks\n",
    "- Build NLP models for various applications\n"
   ]
  },
  {
   "attachments": {},
   "cell_type": "markdown",
   "id": "3ac47c37",
   "metadata": {
    "slideshow": {
     "slide_type": "slide"
    },
    "tags": []
   },
   "source": [
    "## 📚 Textbook\n",
    "\n",
    "- Jurafsky, D., & Martin, J. H. (2019). Speech and language processing: An introduction to natural language processing, computational linguistics, and speech recognition (3rd ed.). Upper Saddle River, NJ: Pearson Education.\n",
    "- [https://web.stanford.edu/~jurafsky/slp3/](https://web.stanford.edu/~jurafsky/slp3/)\n",
    "\n",
    "### Reference Books\n",
    "\n",
    "- Eckert, P., & Strunk Jr., W. (2000). Elements of style (4th ed.). New York: Allyn and Bacon.\n",
    "- Gelbukh, A. (Ed.). (2018). Computational linguistics and intelligent text processing: 18th international conference, CICLing 2017, New Delhi, India, February 19-25, 2017, revised selected papers (Vol. 10573). Cham: Springer International Publishing.\n",
    "- Mitchell, T. M. (1997). Machine learning (1st ed.). New York: McGraw-Hill Science/Engineering/Math.\n",
    "- NLTK Book - Bird et al.: [Natural Language Processing with Python](https://www.nltk.org/book/)\n"
   ]
  },
  {
   "cell_type": "markdown",
   "id": "c0bd2f00",
   "metadata": {
    "slideshow": {
     "slide_type": "slide"
    },
    "tags": []
   },
   "source": [
    "## 🏆 Grading\n",
    "\n",
    "- Participation: **10%**\n",
    "- Midterm: **30%**\n",
    "- Term Project: **60%**\n"
   ]
  },
  {
   "attachments": {},
   "cell_type": "markdown",
   "id": "156df085",
   "metadata": {
    "slideshow": {
     "slide_type": "slide"
    },
    "tags": []
   },
   "source": [
    "## 🧠 Term Project\n",
    "\n",
    "- For the term project, students will choose a real-world data set and build a natural language processing system that can perform some task on the data set.\n",
    "- The project will be presented in the form of a poster at the end of the semester.\n"
   ]
  },
  {
   "attachments": {},
   "cell_type": "markdown",
   "id": "31422e23",
   "metadata": {
    "slideshow": {
     "slide_type": "slide"
    },
    "tags": []
   },
   "source": [
    "## 🎲 Whole Game of NLP\n",
    "\n",
    "In this course, we apply the concept of \"teaching the whole game\" to natural language processing (NLP). We believe that just like in baseball, students should be able to start playing with a general sense of NLP and gradually learn more rules and details as they progress.\n",
    "\n",
    "Unlike many NLP courses that focus only on the technical aspects of the field, we take a practical approach to NLP. We show how to use fundamental concepts and techniques of NLP, including text pre-processing, morphology, syntax, semantics, text classification, topic modeling, and word embeddings, to solve real-world problems.\n",
    "\n",
    "We begin by introducing students to a complete, working, and very usable NLP system that uses simple and expressive tools. Then, we gradually introduce more advanced concepts, showing students how to apply them to real-world datasets.\n",
    "\n",
    "This approach has several advantages. It makes NLP more accessible and understandable to students, and it allows them to immediately start using NLP to solve their own problems. Furthermore, it helps students learn the whole game of NLP, not just individual concepts or techniques. By covering both the theory and practice of NLP, students will be well-prepared for further study or practical applications in the field.\n",
    "\n",
    "> Harvard Professor David Perkins's book, [Making Learning Whole](https://www.amazon.com/Making-Learning-Whole-Principles-Transform/dp/0470633719), popularized the idea of \"teaching the whole game.\"\n"
   ]
  },
  {
   "cell_type": "markdown",
   "id": "d7e29cd2",
   "metadata": {
    "slideshow": {
     "slide_type": "slide"
    },
    "tags": []
   },
   "source": [
    "## 🗓️ Table of Contents\n",
    "\n",
    "```{tableofcontents}\n",
    "\n",
    "```\n"
   ]
  }
 ],
 "metadata": {
  "kernelspec": {
   "display_name": "Python 3 (ipykernel)",
   "language": "python",
   "name": "python3"
  },
  "language_info": {
   "codemirror_mode": {
    "name": "ipython",
    "version": 3
   },
   "file_extension": ".py",
   "mimetype": "text/x-python",
   "name": "python",
   "nbconvert_exporter": "python",
   "pygments_lexer": "ipython3",
   "version": "3.8.5"
  },
  "vscode": {
   "interpreter": {
    "hash": "d4d1e4263499bec80672ea0156c357c1ee493ec2b1c70f0acce89fc37c4a6abe"
   }
  },
  "widgets": {
   "application/vnd.jupyter.widget-state+json": {
    "state": {},
    "version_major": 2,
    "version_minor": 0
   }
  }
 },
 "nbformat": 4,
 "nbformat_minor": 5
}
