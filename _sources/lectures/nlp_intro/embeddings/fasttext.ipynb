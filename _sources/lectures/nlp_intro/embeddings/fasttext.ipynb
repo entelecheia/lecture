{
 "cells": [
  {
   "attachments": {},
   "cell_type": "markdown",
   "id": "447ff566",
   "metadata": {},
   "source": [
    "## FastText\n",
    "\n",
    "FastText is an open-source library for learning of word representations and sentence classification. It was introduced by {cite}`bojanowski2016enriching` in 2016.\n",
    "\n",
    "FastText is an extension of word2vec that allows us to learn word representations for out-of-vocabulary words. It is based on the skip-gram model, but it uses character n-grams as its input and output instead of words.\n",
    "\n",
    "Word2vec and GloVe are based on the words in the corpus. Even with a very large corpus, there are still words that are not present in the corpus.\n"
   ]
  },
  {
   "attachments": {},
   "cell_type": "markdown",
   "id": "fff0d2d1",
   "metadata": {},
   "source": [
    "### Character n-grams\n",
    "\n",
    "- Instead of using words to train the model, FastText uses character n-grams as its input and output.\n",
    "- Word embeddings are the average of the character n-grams that make up the word.\n",
    "- Less data is required to train the model, since the model is trained on character n-grams instead of words. A word can be its own context, yielding more information from the same amount of data.\n",
    "\n",
    "For example, the word `reading` generates the following character n-grams:\n",
    "\n",
    "```{image} figs/character_ngrams.png\n",
    ":alt: character_ngrams\n",
    ":class: bg-primary mb-1\n",
    ":width: 300px\n",
    ":align: center\n",
    "```\n",
    "\n",
    "- Angular brackets represent the start and end of a word.\n",
    "- Instead of using each unique n-gram as a feature, FastText uses the hash value of the n-gram as a feature. This reduces the number of features and makes the model more efficient.\n",
    "- Original paper uses a bucket size $B$ of 2 million, and a hash function $h$ that maps the n-gram to an integer in the range $[0, B)$.\n",
    "- Via hashing, each n-gram is mapped to a unique integer between 0 and 2 million.\n",
    "- The hash function is given by: $h(w) = \\text{hash}(w) \\mod B$, where $w$ is the n-gram and $B$ is the bucket size.\n",
    "- Although the hash function is deterministic, it is not reversible. This means that the hash function cannot be used to recover the original n-gram.\n",
    "- The word `reading` can be represented by the following vector: $\\mathbf{v}_{reading} = \\frac{1}{5} \\sum_{i=1}^5 \\mathbf{v}_{<rea>, <ead>, <adi>, <din>, <ing>}$\n"
   ]
  },
  {
   "attachments": {},
   "cell_type": "markdown",
   "id": "5b3225aa",
   "metadata": {},
   "source": [
    "### Using FastText\n",
    "\n",
    "You can install FastText using the following command:\n",
    "\n",
    "```bash\n",
    "pip install fasttext\n",
    "```\n",
    "\n",
    "You can download the pre-trained FastText word vectors from the [FastText website](https://fasttext.cc/docs/en/english-vectors.html).\n",
    "\n",
    "#### Format\n",
    "\n",
    "The first line of the file contains the number of words in the vocabulary and the size of the vectors. Each line contains a word followed by its vectors, like in the default fastText text format. Each value is space separated. Words are ordered by descending frequency. These text models can easily be loaded in Python using the following code:\n",
    "\n",
    "```python\n",
    "import io\n",
    "\n",
    "def load_vectors(fname):\n",
    "    fin = io.open(fname, 'r', encoding='utf-8', newline='\\n', errors='ignore')\n",
    "    n, d = map(int, fin.readline().split())\n",
    "    data = {}\n",
    "    for line in fin:\n",
    "        tokens = line.rstrip().split(' ')\n",
    "        data[tokens[0]] = map(float, tokens[1:])\n",
    "    return data\n",
    "```\n"
   ]
  },
  {
   "attachments": {},
   "cell_type": "markdown",
   "id": "be9b3884",
   "metadata": {},
   "source": [
    "### Training FastText\n",
    "\n",
    "FastText can be trained using the following command:\n",
    "\n",
    "```bash\n",
    "fasttext skipgram -input <input_file> -output <output_file>\n",
    "```\n",
    "\n",
    "Or you can use the following code:\n",
    "\n",
    "```python\n",
    "import fasttext\n",
    "\n",
    "# Skipgram model :\n",
    "model = fasttext.train_unsupervised('data.txt', model='skipgram')\n",
    "\n",
    "# or, cbow model :\n",
    "model = fasttext.train_unsupervised('data.txt', model='cbow')\n",
    "```\n",
    "\n",
    "The returned `model` object represents your learned model, and you can use it to retrieve information.\n",
    "\n",
    "```python\n",
    "print(model.words)   # list of words in dictionary\n",
    "print(model['king']) # get the vector of the word 'king'\n",
    "```\n",
    "\n",
    "#### Saving and loading a model object\n",
    "\n",
    "You can save your trained model object by calling the function `save_model`.\n",
    "\n",
    "```python\n",
    "model.save_model(\"model_filename.bin\")\n",
    "```\n",
    "\n",
    "and retrieve it later thanks to the function `load_model`:\n",
    "\n",
    "```python\n",
    "model = fasttext.load_model(\"model_filename.bin\")\n",
    "```\n"
   ]
  }
 ],
 "metadata": {
  "kernelspec": {
   "display_name": "Python 3.8.12 ('base')",
   "language": "python",
   "name": "python3"
  },
  "language_info": {
   "codemirror_mode": {
    "name": "ipython",
    "version": 3
   },
   "file_extension": ".py",
   "mimetype": "text/x-python",
   "name": "python",
   "nbconvert_exporter": "python",
   "pygments_lexer": "ipython3",
   "version": "3.8.12"
  },
  "vscode": {
   "interpreter": {
    "hash": "d4d1e4263499bec80672ea0156c357c1ee493ec2b1c70f0acce89fc37c4a6abe"
   }
  }
 },
 "nbformat": 4,
 "nbformat_minor": 5
}
