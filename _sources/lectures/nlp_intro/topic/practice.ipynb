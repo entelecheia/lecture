{
 "cells": [
  {
   "attachments": {},
   "cell_type": "markdown",
   "id": "5982a541",
   "metadata": {
    "slideshow": {
     "slide_type": "slide"
    },
    "tags": []
   },
   "source": [
    "# Topic Modeling in Practice\n",
    "\n",
    "## The problem\n",
    "\n",
    "In this example, we will perform topic modeling on a dataset of newsgroup documents using two matrix factorization techniques: Non-negative Matrix Factorization (NMF) and Singular Value Decomposition (SVD).\n",
    "\n",
    "**Term-document matrix**:\n",
    "\n",
    "We start by creating a term-document matrix, which represents the frequency of terms in each document. The goal is to decompose this matrix into the product of one tall, thin matrix and one wide, short matrix (possibly with a diagonal matrix in between).\n",
    "\n",
    "It is important to note that this representation does not consider word order or sentence structure and is an example of a **bag of words** approach.\n",
    "\n",
    "```{figure} figs/document_term.png\n",
    "---\n",
    "width: 70%\n",
    "name: fig-document-term\n",
    "---\n",
    "Term-Document Matrix ([source](http://player.slideplayer.com/15/4528582/#))\n",
    "```\n"
   ]
  },
  {
   "attachments": {},
   "cell_type": "markdown",
   "id": "27911b39",
   "metadata": {},
   "source": [
    "## Motivation\n",
    "\n",
    "The idea behind matrix factorization is to find an optimal way of representing the original term-document matrix using lower-dimensional matrices that capture the latent topic structure in the data.\n",
    "\n",
    "We will use a dataset of newsgroup documents belonging to several different categories and find topics (groups of words) for them. Knowing the actual categories helps us evaluate whether the discovered topics make sense.\n",
    "\n",
    "We will try this with two different matrix factorizations: **Singular Value Decomposition (SVD)** and **Non-negative Matrix Factorization (NMF)**.\n",
    "\n",
    "- **Data source**: The dataset used in this example is the 20 Newsgroups dataset, which contains 18,000 newsgroup posts across 20 topics. Newsgroups were popular discussion groups on Usenet in the 80s and 90s before the web took off. We will focus on four categories for this example: \"alt.atheism\", \"talk.religion.misc\", \"comp.graphics\", and \"sci.space\". To remove noise from the data, we will exclude headers, footers, and quotes from the posts.\n"
   ]
  },
  {
   "cell_type": "code",
   "execution_count": 3,
   "id": "ba565f19",
   "metadata": {},
   "outputs": [
    {
     "name": "stdout",
     "output_type": "stream",
     "text": [
      "Looking in indexes: https://pypi.org/simple, https://pypi.ngc.nvidia.com\n",
      "Collecting scikit-learn\n",
      "  Downloading scikit_learn-1.2.2-cp38-cp38-manylinux_2_17_x86_64.manylinux2014_x86_64.whl (9.8 MB)\n",
      "\u001b[2K     \u001b[90m━━━━━━━━━━━━━━━━━━━━━━━━━━━━━━━━━━━━━━━━\u001b[0m \u001b[32m9.8/9.8 MB\u001b[0m \u001b[31m54.8 MB/s\u001b[0m eta \u001b[36m0:00:00\u001b[0ma \u001b[36m0:00:01\u001b[0m\n",
      "\u001b[?25hRequirement already satisfied: joblib>=1.1.1 in /home/yjlee/.cache/pypoetry/virtualenvs/lecture-_dERj_9R-py3.8/lib/python3.8/site-packages (from scikit-learn) (1.2.0)\n",
      "Requirement already satisfied: scipy>=1.3.2 in /home/yjlee/.cache/pypoetry/virtualenvs/lecture-_dERj_9R-py3.8/lib/python3.8/site-packages (from scikit-learn) (1.9.3)\n",
      "Collecting threadpoolctl>=2.0.0\n",
      "  Downloading threadpoolctl-3.1.0-py3-none-any.whl (14 kB)\n",
      "Requirement already satisfied: numpy>=1.17.3 in /home/yjlee/.cache/pypoetry/virtualenvs/lecture-_dERj_9R-py3.8/lib/python3.8/site-packages (from scikit-learn) (1.23.5)\n",
      "Installing collected packages: threadpoolctl, scikit-learn\n",
      "Successfully installed scikit-learn-1.2.2 threadpoolctl-3.1.0\n",
      "\n",
      "\u001b[1m[\u001b[0m\u001b[34;49mnotice\u001b[0m\u001b[1;39;49m]\u001b[0m\u001b[39;49m A new release of pip is available: \u001b[0m\u001b[31;49m23.0\u001b[0m\u001b[39;49m -> \u001b[0m\u001b[32;49m23.0.1\u001b[0m\n",
      "\u001b[1m[\u001b[0m\u001b[34;49mnotice\u001b[0m\u001b[1;39;49m]\u001b[0m\u001b[39;49m To update, run: \u001b[0m\u001b[32;49mpip install --upgrade pip\u001b[0m\n",
      "Note: you may need to restart the kernel to use updated packages.\n"
     ]
    }
   ],
   "source": [
    "# install the necessary packages\n",
    "%pip install scikit-learn"
   ]
  },
  {
   "cell_type": "code",
   "execution_count": 5,
   "id": "7beb55f1",
   "metadata": {},
   "outputs": [
    {
     "name": "stderr",
     "output_type": "stream",
     "text": [
      "[nltk_data] Downloading package stopwords to /home/yjlee/nltk_data...\n",
      "[nltk_data]   Package stopwords is already up-to-date!\n",
      "[nltk_data] Downloading package wordnet to /home/yjlee/nltk_data...\n",
      "[nltk_data]   Package wordnet is already up-to-date!\n",
      "[nltk_data] Downloading package omw-1.4 to /home/yjlee/nltk_data...\n",
      "[nltk_data]   Package omw-1.4 is already up-to-date!\n"
     ]
    },
    {
     "data": {
      "text/plain": [
       "True"
      ]
     },
     "execution_count": 5,
     "metadata": {},
     "output_type": "execute_result"
    }
   ],
   "source": [
    "%config InlineBackend.figure_format='retina'\n",
    "# import the necessary packages\n",
    "import numpy as np\n",
    "import nltk\n",
    "from sklearn.datasets import fetch_20newsgroups\n",
    "from sklearn import decomposition\n",
    "from scipy import linalg\n",
    "import matplotlib.pyplot as plt\n",
    "\n",
    "nltk.download('stopwords')\n",
    "nltk.download('wordnet')\n",
    "nltk.download('omw-1.4')"
   ]
  },
  {
   "cell_type": "code",
   "execution_count": 7,
   "id": "57d793c9",
   "metadata": {
    "slideshow": {
     "slide_type": "slide"
    },
    "tags": []
   },
   "outputs": [
    {
     "data": {
      "text/plain": [
       "((2034,), (2034,))"
      ]
     },
     "execution_count": 7,
     "metadata": {},
     "output_type": "execute_result"
    }
   ],
   "source": [
    "categories = [\"alt.atheism\", \"talk.religion.misc\", \"comp.graphics\", \"sci.space\"]\n",
    "remove = (\"headers\", \"footers\", \"quotes\")\n",
    "newsgroups_train = fetch_20newsgroups(\n",
    "    subset=\"train\", categories=categories, remove=remove\n",
    ")\n",
    "newsgroups_test = fetch_20newsgroups(\n",
    "    subset=\"test\", categories=categories, remove=remove\n",
    ")\n",
    "newsgroups_train.filenames.shape, newsgroups_train.target.shape"
   ]
  },
  {
   "attachments": {},
   "cell_type": "markdown",
   "id": "210d48bd",
   "metadata": {
    "slideshow": {
     "slide_type": "slide"
    },
    "tags": []
   },
   "source": [
    "Let's take a look at some of the data. Can you guess which category these messages belong to?\n"
   ]
  },
  {
   "cell_type": "code",
   "execution_count": 8,
   "id": "a687a32d",
   "metadata": {},
   "outputs": [
    {
     "name": "stdout",
     "output_type": "stream",
     "text": [
      "Hi,\n",
      "\n",
      "I've noticed that if you only save a model (with all your mapping planes\n",
      "positioned carefully) to a .3DS file that when you reload it after restarting\n",
      "3DS, they are given a default position and orientation.  But if you save\n",
      "to a .PRJ file their positions/orientation are preserved.  Does anyone\n",
      "know why this information is not stored in the .3DS file?  Nothing is\n",
      "explicitly said in the manual about saving texture rules in the .PRJ file. \n",
      "I'd like to be able to read the texture rule information, does anyone have \n",
      "the format for the .PRJ file?\n",
      "\n",
      "Is the .CEL file format available from somewhere?\n",
      "\n",
      "Rych\n",
      "\n",
      "\n",
      "Seems to be, barring evidence to the contrary, that Koresh was simply\n",
      "another deranged fanatic who thought it neccessary to take a whole bunch of\n",
      "folks with him, children and all, to satisfy his delusional mania. Jim\n",
      "Jones, circa 1993.\n",
      "\n",
      "\n",
      "Nope - fruitcakes like Koresh have been demonstrating such evil corruption\n",
      "for centuries.\n"
     ]
    }
   ],
   "source": [
    "print(\"\\n\".join(newsgroups_train.data[:2]))\n"
   ]
  },
  {
   "attachments": {},
   "cell_type": "markdown",
   "id": "b8b87968",
   "metadata": {},
   "source": [
    "The `target` attribute is the integer index of the category.\n"
   ]
  },
  {
   "cell_type": "code",
   "execution_count": 9,
   "id": "9e5f01b6",
   "metadata": {
    "slideshow": {
     "slide_type": "slide"
    },
    "tags": []
   },
   "outputs": [
    {
     "data": {
      "text/plain": [
       "array(['comp.graphics', 'talk.religion.misc', 'sci.space'], dtype='<U18')"
      ]
     },
     "execution_count": 9,
     "metadata": {},
     "output_type": "execute_result"
    }
   ],
   "source": [
    "np.array(newsgroups_train.target_names)[newsgroups_train.target[:3]]"
   ]
  },
  {
   "attachments": {},
   "cell_type": "markdown",
   "id": "efcbf0e6",
   "metadata": {},
   "source": [
    "In this example, we will use NMF and SVD to decompose the term-document matrix and extract latent topics from the newsgroup documents. By comparing the discovered topics with the actual categories, we can evaluate the effectiveness of these matrix factorization techniques in uncovering meaningful topic structures in text data.\n"
   ]
  },
  {
   "cell_type": "code",
   "execution_count": 10,
   "id": "960aa35b",
   "metadata": {},
   "outputs": [
    {
     "data": {
      "text/plain": [
       "array([1, 3, 2, 0, 2, 0, 2, 1, 2, 1])"
      ]
     },
     "execution_count": 10,
     "metadata": {},
     "output_type": "execute_result"
    }
   ],
   "source": [
    "newsgroups_train.target[:10]"
   ]
  },
  {
   "cell_type": "code",
   "execution_count": 11,
   "id": "65347572",
   "metadata": {},
   "outputs": [],
   "source": [
    "num_topics, num_top_words = 6, 8"
   ]
  },
  {
   "attachments": {},
   "cell_type": "markdown",
   "id": "a471e113",
   "metadata": {
    "slideshow": {
     "slide_type": "slide"
    },
    "tags": []
   },
   "source": [
    "```{note}\n",
    "**Stopwords**\n",
    "\n",
    "Stopwords are extremely common words that appear to have little value in helping to identify or match documents based on user needs. In text processing and information retrieval, these words are often excluded from the analysis to reduce noise and improve efficiency. Examples of stopwords include \"a\", \"an\", \"the\", \"and\", and \"in\".\n",
    "\n",
    "Over time, the trend in information retrieval systems has shifted from using large stop lists (200-300 terms) to very small stop lists (7-12 terms), and eventually to not using stop lists at all. Web search engines typically do not use stop lists.\n",
    "\n",
    "**Stemming and Lemmatization**\n",
    "\n",
    "Stemming and lemmatization are text preprocessing techniques that aim to generate the root form of words. This is particularly useful in information retrieval, as it helps group similar words together and improves search accuracy. Consider the following words:\n",
    "\n",
    "- organize, organizes, and organizing\n",
    "- democracy, democratic, and democratization\n",
    "\n",
    "Both stemming and lemmatization aim to reduce these words to their base forms, making it easier to identify their similarities.\n",
    "\n",
    "Lemmatization uses linguistic rules and knowledge about a language to generate the root form of words. The resulting tokens are actual words that carry meaning in the language. In contrast, stemming is a simpler and more heuristic-based approach that truncates words by chopping off their ends. The resulting tokens may not always be real words. As a result, stemming is faster than lemmatization but may not be as accurate.\n",
    "\n",
    "In summary, stopwords, stemming, and lemmatization are essential techniques in text processing and information retrieval. They help reduce noise, improve efficiency, and enhance the overall effectiveness of search and topic modeling tasks by simplifying the input text and generating meaningful word representations.\n",
    "```\n"
   ]
  },
  {
   "cell_type": "code",
   "execution_count": 12,
   "id": "bd7c9810",
   "metadata": {
    "slideshow": {
     "slide_type": "slide"
    },
    "tags": []
   },
   "outputs": [
    {
     "name": "stdout",
     "output_type": "stream",
     "text": [
      "179\n",
      "['i', 'me', 'my', 'myself', 'we', 'our', 'ours', 'ourselves', 'you', \"you're\"]\n"
     ]
    }
   ],
   "source": [
    "from nltk.corpus import stopwords\n",
    "\n",
    "STOPWORDS = stopwords.words(\"english\")\n",
    "print(len(STOPWORDS))\n",
    "print(STOPWORDS[:10])"
   ]
  },
  {
   "cell_type": "code",
   "execution_count": 13,
   "id": "ea58e460",
   "metadata": {
    "slideshow": {
     "slide_type": "slide"
    },
    "tags": []
   },
   "outputs": [],
   "source": [
    "from nltk import stem\n",
    "\n",
    "wnl = stem.WordNetLemmatizer()\n",
    "porter = stem.porter.PorterStemmer()\n",
    "\n",
    "word_list = [\"feet\", \"foot\", \"foots\", \"footing\"]"
   ]
  },
  {
   "cell_type": "code",
   "execution_count": 14,
   "id": "348d8a7d",
   "metadata": {},
   "outputs": [
    {
     "data": {
      "text/plain": [
       "['foot', 'foot', 'foot', 'footing']"
      ]
     },
     "execution_count": 14,
     "metadata": {},
     "output_type": "execute_result"
    }
   ],
   "source": [
    "[wnl.lemmatize(word) for word in word_list]"
   ]
  },
  {
   "cell_type": "code",
   "execution_count": 15,
   "id": "b8986738",
   "metadata": {},
   "outputs": [
    {
     "data": {
      "text/plain": [
       "['feet', 'foot', 'foot', 'foot']"
      ]
     },
     "execution_count": 15,
     "metadata": {},
     "output_type": "execute_result"
    }
   ],
   "source": [
    "[porter.stem(word) for word in word_list]"
   ]
  },
  {
   "attachments": {},
   "cell_type": "markdown",
   "id": "4385bf26",
   "metadata": {
    "slideshow": {
     "slide_type": "slide"
    },
    "tags": []
   },
   "source": [
    "## Data Processing\n",
    "\n",
    "In this step, we will process the newsgroup data by extracting word counts using scikit-learn's `CountVectorizer`. This method will create a term-document matrix representing the frequency of terms in each document. In a later lesson, we will learn how to create our own version of `CountVectorizer` to gain a better understanding of what happens under the hood.\n"
   ]
  },
  {
   "cell_type": "code",
   "execution_count": 16,
   "id": "4b7963a0",
   "metadata": {},
   "outputs": [
    {
     "name": "stdout",
     "output_type": "stream",
     "text": [
      "2034 (2034, 26576)\n",
      "(26576,)\n",
      "['zurich' 'zurvanism' 'zus' 'zvi' 'zwaartepunten' 'zwak' 'zwakke' 'zware'\n",
      " 'zwarte' 'zyxel']\n"
     ]
    }
   ],
   "source": [
    "from sklearn.feature_extraction.text import CountVectorizer\n",
    "\n",
    "# Initialize the CountVectorizer with English stopwords\n",
    "vectorizer = CountVectorizer(stop_words=\"english\")\n",
    "\n",
    "# Fit the vectorizer to the newsgroups_train.data and transform the text data\n",
    "vectors = vectorizer.fit_transform(\n",
    "    newsgroups_train.data\n",
    ").todense()  # (documents, vocab)\n",
    "\n",
    "# Print the shape of the term-document matrix (documents, vocabulary)\n",
    "print(len(newsgroups_train.data), vectors.shape)\n",
    "\n",
    "# Retrieve the vocabulary from the vectorizer\n",
    "vocab = np.array(vectorizer.get_feature_names_out())\n",
    "\n",
    "# Print the shape of the vocabulary\n",
    "print(vocab.shape)\n",
    "\n",
    "# Display the last 10 terms in the vocabulary\n",
    "print(vocab[-10:])\n"
   ]
  },
  {
   "attachments": {},
   "cell_type": "markdown",
   "id": "466229fe",
   "metadata": {},
   "source": [
    "In this code snippet, we first import `CountVectorizer` from scikit-learn's `feature_extraction.text` module. We then initialize the `CountVectorizer` object, specifying that we want to remove English stopwords from the text data. Next, we fit the vectorizer to the training data and transform the text data into a term-document matrix. Finally, we retrieve the vocabulary from the vectorizer and display its shape and the last 10 terms.\n",
    "\n",
    "By applying `CountVectorizer` to the newsgroup data, we can transform the text data into a structured format suitable for further analysis using NMF and SVD.\n"
   ]
  },
  {
   "attachments": {},
   "cell_type": "markdown",
   "id": "9c7d46be",
   "metadata": {
    "slideshow": {
     "slide_type": "slide"
    },
    "tags": []
   },
   "source": [
    "## Singular Value Decomposition (SVD)\n",
    "\n",
    "SVD is a matrix factorization technique that can be used to identify latent topics in a term-document matrix. We expect the topics to be **orthogonal** since words that appear frequently in one topic should appear less frequently in others, making them suitable for separating topics.\n",
    "\n",
    "The SVD algorithm factorizes a matrix into one matrix with **orthogonal columns** and one with **orthogonal rows**, along with a diagonal matrix that contains the **relative importance** of each factor. SVD is an **exact decomposition** as the resulting matrices fully cover the original matrix. It is widely used in data science for tasks such as semantic analysis, collaborative filtering, data compression, and principal component analysis. Latent Semantic Analysis (LSA) also employs SVD.\n",
    "\n",
    "```{figure} figs/svd_fb.png\n",
    "---\n",
    "width: 70%\n",
    "name: fig-svd-fb\n",
    "---\n",
    "Fast Randomized SVD ([source](https://research.fb.com/fast-randomized-svd/))\n",
    "```\n"
   ]
  },
  {
   "attachments": {},
   "cell_type": "markdown",
   "id": "a52cc0c4",
   "metadata": {
    "slideshow": {
     "slide_type": "slide"
    },
    "tags": []
   },
   "source": [
    "Latent Semantic Analysis (LSA) uses SVD.\n"
   ]
  },
  {
   "cell_type": "code",
   "execution_count": 17,
   "id": "b15cedff",
   "metadata": {},
   "outputs": [
    {
     "name": "stdout",
     "output_type": "stream",
     "text": [
      "(2034, 2034) (2034,) (2034, 26576)\n",
      "CPU times: user 9min 13s, sys: 7min 22s, total: 16min 35s\n",
      "Wall time: 17.8 s\n"
     ]
    }
   ],
   "source": [
    "%%time \n",
    "from scipy import linalg\n",
    "\n",
    "# Perform SVD on the term-document matrix\n",
    "U, s, Vh = linalg.svd(vectors, full_matrices=False)\n",
    "\n",
    "# Print the shapes of the resulting matrices\n",
    "print(U.shape, s.shape, Vh.shape)\n"
   ]
  },
  {
   "attachments": {},
   "cell_type": "markdown",
   "id": "07e62031",
   "metadata": {},
   "source": [
    "In this code snippet, we import the linalg module from SciPy and use its svd function to perform SVD on the term-document matrix. We then print the shapes of the resulting matrices U, s, and Vh.\n"
   ]
  },
  {
   "cell_type": "code",
   "execution_count": 26,
   "id": "d3296249",
   "metadata": {
    "slideshow": {
     "slide_type": "slide"
    },
    "tags": []
   },
   "outputs": [],
   "source": [
    "num_top_words = 8\n",
    "\n",
    "\n",
    "def show_topics(a):\n",
    "    # Helper function to retrieve top words for each topic\n",
    "    top_words = lambda t: [vocab[i] for i in np.argsort(t)[: -num_top_words - 1 : -1]]\n",
    "    topic_words = [top_words(t) for t in a]\n",
    "    return [\" \".join(t) for t in topic_words]\n"
   ]
  },
  {
   "cell_type": "code",
   "execution_count": 27,
   "id": "29a71994",
   "metadata": {
    "slideshow": {
     "slide_type": "slide"
    },
    "tags": []
   },
   "outputs": [
    {
     "data": {
      "text/plain": [
       "['critus ditto propagandist surname galacticentric kindergarten surreal imaginative',\n",
       " 'jpeg gif file color quality image jfif format',\n",
       " 'graphics edu pub mail 128 3d ray ftp',\n",
       " 'jesus god matthew people atheists atheism does graphics',\n",
       " 'image data processing analysis software available tools display',\n",
       " 'god atheists atheism religious believe religion argument true',\n",
       " 'space nasa lunar mars probe moon missions probes',\n",
       " 'image probe surface lunar mars probes moon orbit',\n",
       " 'argument fallacy conclusion example true ad argumentum premises',\n",
       " 'space larson image theory universe physical nasa material']"
      ]
     },
     "execution_count": 27,
     "metadata": {},
     "output_type": "execute_result"
    }
   ],
   "source": [
    "# Display the top topics extracted using SVD\n",
    "show_topics(Vh[:10])\n"
   ]
  },
  {
   "attachments": {},
   "cell_type": "markdown",
   "id": "7124d609",
   "metadata": {},
   "source": [
    "In this part, we define a function `show_topics` to display the top words associated with each topic. We then use this function to display the top topics extracted using SVD. The results match the expected clusters, even though this is an **unsupervised algorithm** - meaning we never provided information about the grouping of our documents during the process.\n"
   ]
  },
  {
   "attachments": {},
   "cell_type": "markdown",
   "id": "3356eb3d",
   "metadata": {
    "slideshow": {
     "slide_type": "slide"
    },
    "tags": []
   },
   "source": [
    "## Non-negative Matrix Factorization (NMF)\n",
    "\n",
    "In contrast to constraining our factors to be _orthogonal_ as in SVD, we can constrain them to be _non-negative_. NMF is a factorization of a non-negative data set $V$ into non-negative matrices $W$ and $H$: $V=WH$. Often, positive factors are **more easily interpretable**, contributing to NMF's popularity.\n",
    "\n",
    "NMF is a non-exact factorization that factors a matrix into one skinny positive matrix and one short positive matrix. It is NP-hard and non-unique, with various versions created by adding different constraints.\n",
    "\n",
    "```{figure} figs/nmf_doc.png\n",
    "---\n",
    "width: 70%\n",
    "name: fig-nmf-doc\n",
    "---\n",
    "Non-negative Matrix Factorization ([source](http://perso.telecom-paristech.fr/~essid/teach/NMF_tutorial_ICME-2014.pdf))\n",
    "```\n",
    "\n",
    "### NMF Applications\n",
    "\n",
    "NMF has been applied in various fields, such as:\n",
    "\n",
    "- [Face Decompositions](http://scikit-learn.org/stable/auto_examples/decomposition/plot_faces_decomposition.html#sphx-glr-auto-examples-decomposition-plot-faces-decomposition-py)\n",
    "- [Collaborative Filtering, eg movie recommendations](http://www.quuxlabs.com/blog/2010/09/matrix-factorization-a-simple-tutorial-and-implementation-in-python/)\n",
    "- [Audio source separation](https://pdfs.semanticscholar.org/cc88/0b24791349df39c5d9b8c352911a0417df34.pdf)\n",
    "- [Chemistry](http://ieeexplore.ieee.org/document/1532909/)\n",
    "- [Bioinformatics](https://bmcbioinformatics.biomedcentral.com/articles/10.1186/s12859-015-0485-4)\n",
    "- [Gene Expression](https://www.ncbi.nlm.nih.gov/pmc/articles/PMC2623306/)\n",
    "\n",
    "### NMF using scikit-learn\n"
   ]
  },
  {
   "cell_type": "code",
   "execution_count": 28,
   "id": "cab6059f",
   "metadata": {},
   "outputs": [
    {
     "name": "stdout",
     "output_type": "stream",
     "text": [
      "CPU times: user 1min 36s, sys: 1min 33s, total: 3min 9s\n",
      "Wall time: 2.86 s\n"
     ]
    }
   ],
   "source": [
    "%%time\n",
    "from sklearn import decomposition\n",
    "\n",
    "# Perform NMF on the term-document matrix\n",
    "m, n = vectors.shape\n",
    "d = 5  # num topics\n",
    "\n",
    "clf = decomposition.NMF(n_components=d, random_state=1)\n",
    "\n",
    "W1 = clf.fit_transform(np.asarray(vectors))\n",
    "H1 = clf.components_\n"
   ]
  },
  {
   "cell_type": "code",
   "execution_count": 29,
   "id": "667b4dc1",
   "metadata": {},
   "outputs": [
    {
     "data": {
      "text/plain": [
       "['jpeg image gif file color images format quality',\n",
       " 'edu graphics pub mail 128 ray ftp send',\n",
       " 'space launch satellite nasa commercial satellites year market',\n",
       " 'jesus god people matthew atheists does atheism said',\n",
       " 'image data available software processing ftp edu analysis']"
      ]
     },
     "execution_count": 29,
     "metadata": {},
     "output_type": "execute_result"
    }
   ],
   "source": [
    "# Display the top topics extracted using NMF\n",
    "show_topics(H1)\n"
   ]
  },
  {
   "attachments": {},
   "cell_type": "markdown",
   "id": "3351516e",
   "metadata": {
    "slideshow": {
     "slide_type": "slide"
    },
    "tags": []
   },
   "source": [
    "In this code snippet, we import the `decomposition` module from scikit-learn and use its `NMF` class to perform NMF on the term-document matrix. We then display the top topics extracted using NMF.\n",
    "\n",
    "```{note}\n",
    "-   For NMF, the matrix needs to be at least as tall as it is wide, or we get an error with `fit_transform`.\n",
    "-   You can use `min_df` in `CountVectorizer` to only consider words that appear in at least k of the split texts.\n",
    "```\n"
   ]
  },
  {
   "attachments": {},
   "cell_type": "markdown",
   "id": "4327e31c",
   "metadata": {
    "slideshow": {
     "slide_type": "slide"
    },
    "tags": []
   },
   "source": [
    "## Truncated SVD\n",
    "\n",
    "When we calculated NMF, we saved a lot of time by only calculating the subset of columns we were interested in. We can achieve a similar benefit with SVD by using truncated SVD. Truncated SVD focuses on the vectors corresponding to the **largest** singular values, which can save computation time.\n",
    "\n",
    "### Shortcomings of classical algorithms for decomposition:\n",
    "\n",
    "- Matrices can be \"stupendously big.\"\n",
    "- Data are often **missing or inaccurate**. Spending extra computational resources may not be worthwhile when the imprecision of input limits the precision of the output.\n",
    "- **Data transfer** plays a significant role in the time complexity of algorithms. Techniques that require fewer passes over the data might be faster, even if they require more floating point operations (flops).\n",
    "- It is essential to take advantage of **GPUs**.\n",
    "\n",
    "### Advantages of randomized algorithms:\n",
    "\n",
    "- Inherently stable.\n",
    "- Performance guarantees do not depend on subtle spectral properties.\n",
    "- The required matrix-vector products can be performed in parallel.\n",
    "\n",
    "(source: [Halko](https://arxiv.org/abs/0909.4061))\n",
    "\n",
    "### Timing comparison\n",
    "\n",
    "In the following code snippets, we compare the computation time for full SVD and randomized SVD:\n"
   ]
  },
  {
   "cell_type": "code",
   "execution_count": 30,
   "id": "9f18515c",
   "metadata": {},
   "outputs": [
    {
     "name": "stdout",
     "output_type": "stream",
     "text": [
      "CPU times: user 10min 29s, sys: 10min 50s, total: 21min 20s\n",
      "Wall time: 20.7 s\n"
     ]
    }
   ],
   "source": [
    "%%time \n",
    "# Full SVD\n",
    "u, s, v = np.linalg.svd(vectors, full_matrices=False)"
   ]
  },
  {
   "cell_type": "code",
   "execution_count": 31,
   "id": "725317ab",
   "metadata": {},
   "outputs": [
    {
     "name": "stdout",
     "output_type": "stream",
     "text": [
      "CPU times: user 1min 1s, sys: 2min 30s, total: 3min 32s\n",
      "Wall time: 5.91 s\n"
     ]
    }
   ],
   "source": [
    "%%time \n",
    "# Randomized SVD\n",
    "u, s, v = decomposition.randomized_svd(vectors, n_components=10, random_state=123)"
   ]
  },
  {
   "attachments": {},
   "cell_type": "markdown",
   "id": "d25c96b0",
   "metadata": {},
   "source": [
    "These code snippets demonstrate the time difference between full SVD and randomized SVD, showing that the latter can be more efficient in certain cases.\n"
   ]
  }
 ],
 "metadata": {
  "kernelspec": {
   "display_name": "Python 3 (ipykernel)",
   "language": "python",
   "name": "python3"
  },
  "language_info": {
   "codemirror_mode": {
    "name": "ipython",
    "version": 3
   },
   "file_extension": ".py",
   "mimetype": "text/x-python",
   "name": "python",
   "nbconvert_exporter": "python",
   "pygments_lexer": "ipython3",
   "version": "3.8.12"
  },
  "vscode": {
   "interpreter": {
    "hash": "d4d1e4263499bec80672ea0156c357c1ee493ec2b1c70f0acce89fc37c4a6abe"
   }
  }
 },
 "nbformat": 4,
 "nbformat_minor": 5
}
