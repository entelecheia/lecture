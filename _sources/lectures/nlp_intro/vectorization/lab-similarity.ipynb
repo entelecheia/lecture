{
 "cells": [
  {
   "attachments": {},
   "cell_type": "markdown",
   "metadata": {
    "id": "cjgz1WTcPWee"
   },
   "source": [
    "# Lab: Word Similarity\n",
    "\n",
    "## Introduction\n",
    "\n",
    "Welcome to today's lab lecture. Our topic today is the exploration of word similarity and the application of Pointwise Mutual Information (PMI) in Natural Language Processing (NLP).\n",
    "\n",
    "## Word Similarity\n",
    "\n",
    "Words that are used in similar contexts are likely to have similar meanings. This forms the foundation of distributional semantics and is the basis for many word similarity measures.\n",
    "\n",
    "Word similarity has many applications in NLP, including but not limited to:\n",
    "\n",
    "- Information Retrieval: In search engines, we often want to retrieve documents that are relevant to a user's query, even if they don't share the exact same words. Understanding word similarity allows us to retrieve documents that contain words similar to those in the query.\n",
    "- Text Summarization: When we're summarizing a text, we often need to identify the main themes or topics, which often involve words that are similar in meaning.\n",
    "- Machine Translation: In translating a text from one language to another, we often need to find the best match for a given word in the target language, which often involves identifying words that are similar in meaning.\n",
    "\n",
    "## Pointwise Mutual Information (PMI)\n",
    "\n",
    "As we discussed in our earlier theory lecture, PMI is a measure that quantifies the discrepancy between the probability of two words co-occurring and the probabilities of the two words occurring independently. This is especially useful in identifying words that co-occur more often than we would expect by chance, which often corresponds to words that are semantically related.\n",
    "\n",
    "## Lab Exercise: Calculating PMI\n",
    "\n",
    "Today, we will apply PMI to a real-world corpus to identify semantically related words.\n",
    "\n",
    "Here's an outline of the steps we'll take:\n",
    "\n",
    "1. **Preprocessing**: We'll start by cleaning and tokenizing our corpus.\n",
    "\n",
    "2. **Frequency Counting**: We'll count the frequency of each word, each context, and each word-context pair in the corpus.\n",
    "\n",
    "3. **Probability Calculation**: We'll then calculate the probabilities $p(w)$, $p(c)$, and $p(w,c)$ based on these frequencies.\n",
    "\n",
    "4. **PMI Calculation**: With these probabilities, we'll calculate the PMI for each word-context pair.\n",
    "\n",
    "5. **Sorting and Visualization**: Finally, we'll sort the word-context pairs based on their PMI and visualize the results.\n",
    "\n",
    "6. **Applying PPMI**: As an optional step, we'll also apply Positive Pointwise Mutual Information (PPMI), which sets all negative PMI values to 0.\n",
    "\n",
    "7. **Evaluation**: We will evaluate our results by examining the word pairs with the highest PMI, which should ideally be pairs of words that are highly associated.\n",
    "\n",
    "Please follow along as we go through each step, and feel free to ask questions if anything is unclear.\n",
    "\n",
    "## Practice\n",
    "\n",
    "Let's use Python for our example codes, and NLTK's Brown Corpus as our dataset:\n"
   ]
  },
  {
   "cell_type": "code",
   "execution_count": 1,
   "metadata": {},
   "outputs": [
    {
     "name": "stderr",
     "output_type": "stream",
     "text": [
      "[nltk_data] Downloading package brown to /home/yjlee/nltk_data...\n",
      "[nltk_data]   Package brown is already up-to-date!\n"
     ]
    },
    {
     "name": "stdout",
     "output_type": "stream",
     "text": [
      "(('decries', 'joblessness'), 15.274446924376207)\n",
      "(('joblessness', 'decries'), 15.274446924376207)\n",
      "(('procaine', 'penicillin'), 13.888152563256316)\n",
      "(('penicillin', 'procaine'), 13.888152563256316)\n",
      "(('featherbed', 'reversal'), 13.665009011942105)\n",
      "(('reversal', 'featherbed'), 13.665009011942105)\n",
      "(('bingles', 'bobbles'), 13.48268745514815)\n",
      "(('bobbles', 'bingles'), 13.48268745514815)\n",
      "(('deane', 'beman'), 13.48268745514815)\n",
      "(('beman', 'deane'), 13.48268745514815)\n",
      "(('decries', 'joblessness'), 15.274446924376207)\n",
      "(('joblessness', 'decries'), 15.274446924376207)\n",
      "(('procaine', 'penicillin'), 13.888152563256316)\n",
      "(('penicillin', 'procaine'), 13.888152563256316)\n",
      "(('featherbed', 'reversal'), 13.665009011942105)\n",
      "(('reversal', 'featherbed'), 13.665009011942105)\n",
      "(('bingles', 'bobbles'), 13.48268745514815)\n",
      "(('bobbles', 'bingles'), 13.48268745514815)\n",
      "(('deane', 'beman'), 13.48268745514815)\n",
      "(('beman', 'deane'), 13.48268745514815)\n"
     ]
    }
   ],
   "source": [
    "import nltk\n",
    "from collections import defaultdict\n",
    "from math import log\n",
    "import operator\n",
    "\n",
    "# Download the corpus\n",
    "nltk.download(\"brown\")\n",
    "\n",
    "# Load the corpus\n",
    "from nltk.corpus import brown\n",
    "\n",
    "# Preprocessing\n",
    "sentences = brown.sents()\n",
    "tokens = [[word.lower() for word in sent] for sent in sentences]\n",
    "\n",
    "# Frequency counting\n",
    "f_w = defaultdict(int)  # frequency of each word\n",
    "f_c = defaultdict(int)  # frequency of each context\n",
    "f_wc = defaultdict(int)  # frequency of each word-context pair\n",
    "N = 0  # total number of word-context pairs\n",
    "\n",
    "# Define the context window (change this value to adjust the window size)\n",
    "window_size = 2\n",
    "\n",
    "# Loop over sentences, and for each word, add its surrounding words to its context\n",
    "for sentence in tokens:\n",
    "    for i, word in enumerate(sentence):\n",
    "        for j in range(\n",
    "            max(0, i - window_size), min(len(sentence), i + window_size + 1)\n",
    "        ):\n",
    "            if i != j:  # exclude the word itself\n",
    "                context_word = sentence[j]\n",
    "                f_w[word] += 1\n",
    "                f_c[context_word] += 1\n",
    "                f_wc[(word, context_word)] += 1\n",
    "                N += 1\n",
    "\n",
    "# Probability calculation\n",
    "p_w = {word: f / N for word, f in f_w.items()}  # probability of each word\n",
    "p_c = {context: f / N for context, f in f_c.items()}  # probability of each context\n",
    "p_wc = {\n",
    "    (w, c): f / N for (w, c), f in f_wc.items()\n",
    "}  # probability of each word-context pair\n",
    "\n",
    "# PMI calculation\n",
    "PMI = {(w, c): log(p_wc[(w, c)] / (p_w[w] * p_c[c])) for (w, c) in p_wc}\n",
    "\n",
    "# Sorting and visualization\n",
    "sorted_PMI = sorted(PMI.items(), key=operator.itemgetter(1), reverse=True)\n",
    "\n",
    "# Print the top 10 word-context pairs by PMI\n",
    "for i in range(10):\n",
    "    print(sorted_PMI[i])\n",
    "\n",
    "# Applying PPMI\n",
    "PPMI = {wc: max(value, 0) for wc, value in PMI.items()}\n",
    "\n",
    "# Print the top 10 word-context pairs by PPMI\n",
    "sorted_PPMI = sorted(PPMI.items(), key=operator.itemgetter(1), reverse=True)\n",
    "for i in range(10):\n",
    "    print(sorted_PPMI[i])"
   ]
  },
  {
   "attachments": {},
   "cell_type": "markdown",
   "metadata": {},
   "source": [
    "This script preprocesses the text, calculates frequencies and probabilities, computes PMI, applies PPMI, and prints out the top 10 word-context pairs by PMI and PPMI.\n",
    "\n",
    "Keep in mind that these calculations can take a long time if your corpus is large. There are also more efficient ways to compute PMI and PPMI that use sparse matrix representations and matrix factorization methods.\n",
    "\n",
    "### Visualization\n"
   ]
  },
  {
   "cell_type": "code",
   "execution_count": 2,
   "metadata": {},
   "outputs": [
    {
     "data": {
      "image/png": "[encoded data removed]",
      "text/plain": [
       "<Figure size 1000x500 with 1 Axes>"
      ]
     },
     "metadata": {},
     "output_type": "display_data"
    },
    {
     "data": {
      "image/png": "[encoded data removed]",
      "text/plain": [
       "<Figure size 1000x500 with 1 Axes>"
      ]
     },
     "metadata": {},
     "output_type": "display_data"
    }
   ],
   "source": [
    "import matplotlib.pyplot as plt\n",
    "\n",
    "# Get words and PMI/PPMI values\n",
    "words_PMI = [str(pair[0]) for pair in sorted_PMI[:10]]\n",
    "PMI_values = [pair[1] for pair in sorted_PMI[:10]]\n",
    "\n",
    "words_PPMI = [str(pair[0]) for pair in sorted_PPMI[:10]]\n",
    "PPMI_values = [pair[1] for pair in sorted_PPMI[:10]]\n",
    "\n",
    "# Plot PMI values\n",
    "plt.figure(figsize=(10, 5))\n",
    "plt.barh(words_PMI, PMI_values, color=\"blue\")\n",
    "plt.xlabel(\"PMI values\")\n",
    "plt.title(\"Top 10 word pairs by PMI\")\n",
    "plt.gca().invert_yaxis()  # Invert axis for better visualization\n",
    "plt.show()\n",
    "\n",
    "# Plot PPMI values\n",
    "plt.figure(figsize=(10, 5))\n",
    "plt.barh(words_PPMI, PPMI_values, color=\"green\")\n",
    "plt.xlabel(\"PPMI values\")\n",
    "plt.title(\"Top 10 word pairs by PPMI\")\n",
    "plt.gca().invert_yaxis()  # Invert axis for better visualization\n",
    "plt.show()"
   ]
  },
  {
   "attachments": {},
   "cell_type": "markdown",
   "metadata": {},
   "source": [
    "In this script, we first extract the word pairs and their corresponding PMI and PPMI values. Then, we create bar plots for both PMI and PPMI values. This provides a simple, effective visualization of the words in the corpus with the highest pointwise mutual information values. These are words that co-occur together more often than would be expected by chance, indicating a potentially strong semantic relationship.\n",
    "\n",
    "> **Note**\n",
    ">\n",
    "> The `str()` function is used to convert the word pairs to strings so they can be properly displayed on the plots.\n",
    "\n",
    "## Conclusion\n",
    "\n",
    "By the end of this lab, you should have a good understanding of how PMI works and how to apply it in practice. You should also be familiar with the concept of word similarity and its role in NLP.\n"
   ]
  },
  {
   "attachments": {},
   "cell_type": "markdown",
   "metadata": {},
   "source": []
  }
 ],
 "metadata": {
  "colab": {
   "name": "corpus.ipynb",
   "provenance": []
  },
  "kernelspec": {
   "display_name": "Python 3 (ipykernel)",
   "language": "python",
   "name": "python3"
  },
  "language_info": {
   "codemirror_mode": {
    "name": "ipython",
    "version": 3
   },
   "file_extension": ".py",
   "mimetype": "text/x-python",
   "name": "python",
   "nbconvert_exporter": "python",
   "pygments_lexer": "ipython3",
   "version": "3.8.12"
  },
  "vscode": {
   "interpreter": {
    "hash": "d4d1e4263499bec80672ea0156c357c1ee493ec2b1c70f0acce89fc37c4a6abe"
   }
  },
  "widgets": {
   "application/vnd.jupyter.widget-state+json": {
    "state": {
     "000ec8d21e454a6880c446dd0628e2bd": {
      "model_module": "@jupyter-widgets/controls",
      "model_module_version": "1.5.0",
      "model_name": "HTMLModel",
      "state": {
       "layout": "IPY_MODEL_218dae277015451eb454dbf5e1a0aae5",
       "style": "IPY_MODEL_c7c0ec324d944c7ab06c24b495ba68a1",
       "value": " 10000/10000 [00:01&lt;00:00, 7512.75it/s]"
      }
     },
     "005ef18316504acf9fb3a936bd138349": {
      "model_module": "@jupyter-widgets/controls",
      "model_module_version": "1.5.0",
      "model_name": "FloatProgressModel",
      "state": {
       "bar_style": "success",
       "layout": "IPY_MODEL_a00bd22a33d0473084ee4df64a3547f8",
       "max": 10000,
       "style": "IPY_MODEL_66a2f79e01f34bfe95542cd390ea168e",
       "value": 10000
      }
     },
     "006eed8f29204a17a23b524752719de9": {
      "model_module": "@jupyter-widgets/base",
      "model_module_version": "1.2.0",
      "model_name": "LayoutModel",
      "state": {}
     },
     "0076a37028be4e74a1da12890008a43b": {
      "model_module": "@jupyter-widgets/controls",
      "model_module_version": "1.5.0",
      "model_name": "HTMLModel",
      "state": {
       "layout": "IPY_MODEL_31a6b203214b4ed6adb61b41b8742dfc",
       "style": "IPY_MODEL_c771cda579dc4d1a9b786a5fb0e3a135",
       "value": " 10000/10000 [00:01&lt;00:00, 7415.62it/s]"
      }
     },
     "00891f8d4fdf4a2e8156144cbf395139": {
      "model_module": "@jupyter-widgets/controls",
      "model_module_version": "1.5.0",
      "model_name": "ProgressStyleModel",
      "state": {
       "description_width": ""
      }
     },
     "009335ddfbd14f41bc10eb304a9a8915": {
      "model_module": "@jupyter-widgets/base",
      "model_module_version": "1.2.0",
      "model_name": "LayoutModel",
      "state": {}
     },
     "00b6e8888e1a4061ad8131bf72a788ed": {
      "model_module": "@jupyter-widgets/controls",
      "model_module_version": "1.5.0",
      "model_name": "HTMLModel",
      "state": {
       "layout": "IPY_MODEL_ee2cffbc1b4f463e92eb8e7fd89e3f2f",
       "style": "IPY_MODEL_83f549a8fd6f427ca6535a14958f3755",
       "value": "Writing sentences to sent_chunk_0047.txt: 100%"
      }
     },
     "012431ec61bd4fe083e56d2dba2f7e07": {
      "model_module": "@jupyter-widgets/controls",
      "model_module_version": "1.5.0",
      "model_name": "FloatProgressModel",
      "state": {
       "bar_style": "success",
       "layout": "IPY_MODEL_60e63118dd904d47a60c977b7ab3e281",
       "max": 10000,
       "style": "IPY_MODEL_50055dc922ff4637946781cd6c35a5b8",
       "value": 10000
      }
     },
     "012f0d75f33f43e4bff653fa57600c45": {
      "model_module": "@jupyter-widgets/controls",
      "model_module_version": "1.5.0",
      "model_name": "HTMLModel",
      "state": {
       "layout": "IPY_MODEL_8a2b8135e6194c3085bc48b8cfb349d8",
       "style": "IPY_MODEL_6b4d31f232d4436d9ab491aeffa58fa5",
       "value": " 10000/10000 [00:01&lt;00:00, 7652.41it/s]"
      }
     },
     "01420f020117439eb40ba9bd3784d7a5": {
      "model_module": "@jupyter-widgets/controls",
      "model_module_version": "1.5.0",
      "model_name": "HTMLModel",
      "state": {
       "layout": "IPY_MODEL_418ac4fdc42f4b669b70f6cab6a56e44",
       "style": "IPY_MODEL_32f54374905a4b95b859eca93bdf5aac",
       "value": "Writing sentences to sent_chunk_0005.txt: 100%"
      }
     },
     "01782fdb34d543f090d120140b337678": {
      "model_module": "@jupyter-widgets/controls",
      "model_module_version": "1.5.0",
      "model_name": "FloatProgressModel",
      "state": {
       "bar_style": "success",
       "layout": "IPY_MODEL_dfdb07e6af40441aac392cbb5196b7fc",
       "max": 10000,
       "style": "IPY_MODEL_865b935ce2fb4e2985e85b62bb5fef0b",
       "value": 10000
      }
     },
     "017b02bbaf224d93a675a6ffa12bebe7": {
      "model_module": "@jupyter-widgets/controls",
      "model_module_version": "1.5.0",
      "model_name": "HTMLModel",
      "state": {
       "layout": "IPY_MODEL_f63d9ee671f34e7c83a5b08330915245",
       "style": "IPY_MODEL_36cf03135c8b490cbf38f4126ee5cd0d",
       "value": "sent_chunk_0028.txt: 100%"
      }
     },
     "019ea359c3ab4df59c93af2781b414b4": {
      "model_module": "@jupyter-widgets/base",
      "model_module_version": "1.2.0",
      "model_name": "LayoutModel",
      "state": {}
     },
     "01c97d1608314954bb78c55072952c6d": {
      "model_module": "@jupyter-widgets/base",
      "model_module_version": "1.2.0",
      "model_name": "LayoutModel",
      "state": {}
     },
     "01cd06097f44440d90039fb7def5b73f": {
      "model_module": "@jupyter-widgets/base",
      "model_module_version": "1.2.0",
      "model_name": "LayoutModel",
      "state": {}
     },
     "0217554c3fbb4996988df3301fd09ea5": {
      "model_module": "@jupyter-widgets/controls",
      "model_module_version": "1.5.0",
      "model_name": "HTMLModel",
      "state": {
       "layout": "IPY_MODEL_d131fb904e8f4faa823303bf3d6fef89",
       "style": "IPY_MODEL_db4e37b7ea6549ec9c8e34e6ce07f405",
       "value": "sent_chunk_0041.txt: 100%"
      }
     },
     "0249b4aaa774471f9ca782680ed85cea": {
      "model_module": "@jupyter-widgets/controls",
      "model_module_version": "1.5.0",
      "model_name": "FloatProgressModel",
      "state": {
       "bar_style": "success",
       "layout": "IPY_MODEL_17bc1a6734314bb9bdec3a8d3a8e5c39",
       "max": 10000,
       "style": "IPY_MODEL_ff11f30995c4412db0f231cf97aeb0ce",
       "value": 10000
      }
     },
     "026f81a03bcb4863a47ed3e8248cfcfc": {
      "model_module": "@jupyter-widgets/base",
      "model_module_version": "1.2.0",
      "model_name": "LayoutModel",
      "state": {}
     },
     "02a35a9f457d41c4b0e4b2e5872f68d6": {
      "model_module": "@jupyter-widgets/controls",
      "model_module_version": "1.5.0",
      "model_name": "HTMLModel",
      "state": {
       "layout": "IPY_MODEL_4fe10017953c411ca24fc5d1c540d48f",
       "style": "IPY_MODEL_277b6b88d3774308a89e1b220993e157",
       "value": "Writing sentences to sent_chunk_0001.txt: 100%"
      }
     },
     "02f9ec49463e43648b1cc57d2b6bb7f5": {
      "model_module": "@jupyter-widgets/base",
      "model_module_version": "1.2.0",
      "model_name": "LayoutModel",
      "state": {}
     },
     "032f02d62bf2433787cead65f8925aae": {
      "model_module": "@jupyter-widgets/base",
      "model_module_version": "1.2.0",
      "model_name": "LayoutModel",
      "state": {}
     },
     "03514fc2eb6f46eb89f39cdfcbe52f28": {
      "model_module": "@jupyter-widgets/base",
      "model_module_version": "1.2.0",
      "model_name": "LayoutModel",
      "state": {}
     },
     "036fd01085e04c02816013e34cdc0ffb": {
      "model_module": "@jupyter-widgets/controls",
      "model_module_version": "1.5.0",
      "model_name": "DescriptionStyleModel",
      "state": {
       "description_width": ""
      }
     },
     "03a00c6d77e8491b8efb94ffc5a2c74d": {
      "model_module": "@jupyter-widgets/controls",
      "model_module_version": "1.5.0",
      "model_name": "ProgressStyleModel",
      "state": {
       "description_width": ""
      }
     },
     "03b46d156af040fd96684fef027b3406": {
      "model_module": "@jupyter-widgets/controls",
      "model_module_version": "1.5.0",
      "model_name": "DescriptionStyleModel",
      "state": {
       "description_width": ""
      }
     },
     "03c2fdb2e3e74819a2a071377c81e52c": {
      "model_module": "@jupyter-widgets/base",
      "model_module_version": "1.2.0",
      "model_name": "LayoutModel",
      "state": {}
     },
     "041937a00afa4103b68d74cd15b62f7b": {
      "model_module": "@jupyter-widgets/base",
      "model_module_version": "1.2.0",
      "model_name": "LayoutModel",
      "state": {}
     },
     "041aca1c19a2461fac36e314d91d81aa": {
      "model_module": "@jupyter-widgets/controls",
      "model_module_version": "1.5.0",
      "model_name": "HTMLModel",
      "state": {
       "layout": "IPY_MODEL_bd363bddd8c445f0bf561e498d2de1ba",
       "style": "IPY_MODEL_918b9c3c346745fca0d64aa984b93e10",
       "value": " 10000/10000 [00:01&lt;00:00, 7399.83it/s]"
      }
     },
     "048a7973d05a4247bf7a101fd5e3ed6d": {
      "model_module": "@jupyter-widgets/controls",
      "model_module_version": "1.5.0",
      "model_name": "HTMLModel",
      "state": {
       "layout": "IPY_MODEL_b4330a2d5d4e44fc8b07ca8e8e220363",
       "style": "IPY_MODEL_2f53784d8c3d4d638b5e095692ca4674",
       "value": "sent_chunk_0038.txt: 100%"
      }
     },
     "051682ef6280432f8d12db44b271a350": {
      "model_module": "@jupyter-widgets/base",
      "model_module_version": "1.2.0",
      "model_name": "LayoutModel",
      "state": {}
     },
     "053311823b214323bb2355fb55793fc2": {
      "model_module": "@jupyter-widgets/controls",
      "model_module_version": "1.5.0",
      "model_name": "DescriptionStyleModel",
      "state": {
       "description_width": ""
      }
     },
     "056c04c43d244888af14809cbb0ee6fa": {
      "model_module": "@jupyter-widgets/controls",
      "model_module_version": "1.5.0",
      "model_name": "FloatProgressModel",
      "state": {
       "bar_style": "success",
       "layout": "IPY_MODEL_f2f67951cf4148a981762a2d2eb5e2d4",
       "max": 10000,
       "style": "IPY_MODEL_e3a4d979848a4a0ea817d8c2a8f5d280",
       "value": 10000
      }
     },
     "0579bb7dd617428eb05a98ac7380adc6": {
      "model_module": "@jupyter-widgets/controls",
      "model_module_version": "1.5.0",
      "model_name": "HTMLModel",
      "state": {
       "layout": "IPY_MODEL_cab291ab0154436da66a53bca18a14a1",
       "style": "IPY_MODEL_a87660e52acf45e7b66a9c6ec6c25a68",
       "value": "Writing sentences to sent_chunk_0002.txt: 100%"
      }
     },
     "05ba9cfbf3cc424f98dc27b96b268736": {
      "model_module": "@jupyter-widgets/controls",
      "model_module_version": "1.5.0",
      "model_name": "DescriptionStyleModel",
      "state": {
       "description_width": ""
      }
     },
     "05ef68e2b1814db798d2c99b6e0bde9e": {
      "model_module": "@jupyter-widgets/base",
      "model_module_version": "1.2.0",
      "model_name": "LayoutModel",
      "state": {}
     },
     "06dd05c524894755ab92062472edb80c": {
      "model_module": "@jupyter-widgets/controls",
      "model_module_version": "1.5.0",
      "model_name": "HTMLModel",
      "state": {
       "layout": "IPY_MODEL_e71aefd6dd3347349b3058cb5337ac00",
       "style": "IPY_MODEL_42b611b05f984e67ad251782a73f545f",
       "value": " 10000/10000 [00:01&lt;00:00, 7501.84it/s]"
      }
     },
     "06dfca3dc1854b61979ee6f3423fa8da": {
      "model_module": "@jupyter-widgets/controls",
      "model_module_version": "1.5.0",
      "model_name": "HBoxModel",
      "state": {
       "children": [
        "IPY_MODEL_feda48811a004743941798ea42b5113b",
        "IPY_MODEL_6fd7e0ce7d23492b9ba3ff8b1913a2e8",
        "IPY_MODEL_7f899017a7c446e79ff51d5c92a7ebbf"
       ],
       "layout": "IPY_MODEL_447b7a679a0643f088a61b83bdf8485a"
      }
     },
     "06f87cf0540f46dab3028d4969a10af0": {
      "model_module": "@jupyter-widgets/controls",
      "model_module_version": "1.5.0",
      "model_name": "DescriptionStyleModel",
      "state": {
       "description_width": ""
      }
     },
     "072c6d24c62b4e30892e554a1edb3cbe": {
      "model_module": "@jupyter-widgets/controls",
      "model_module_version": "1.5.0",
      "model_name": "ProgressStyleModel",
      "state": {
       "description_width": ""
      }
     },
     "076bd536980b44c9819b4894ea29e673": {
      "model_module": "@jupyter-widgets/controls",
      "model_module_version": "1.5.0",
      "model_name": "FloatProgressModel",
      "state": {
       "bar_style": "success",
       "layout": "IPY_MODEL_07cccf94fcfe49ccabb00079ef7cbd0f",
       "max": 3719,
       "style": "IPY_MODEL_152ef9d1e6f044ac9734a6b21fc9baa4",
       "value": 3719
      }
     },
     "07be257ea5e641be93a2327ea4a8882d": {
      "model_module": "@jupyter-widgets/controls",
      "model_module_version": "1.5.0",
      "model_name": "HBoxModel",
      "state": {
       "children": [
        "IPY_MODEL_ec71c8c27f0f420e8a95d0edb2204deb",
        "IPY_MODEL_53e7dcbc889448a1b5b2e61940beeb07",
        "IPY_MODEL_67d15d62c2e6496e80f89954731de505"
       ],
       "layout": "IPY_MODEL_03514fc2eb6f46eb89f39cdfcbe52f28"
      }
     },
     "07cccf94fcfe49ccabb00079ef7cbd0f": {
      "model_module": "@jupyter-widgets/base",
      "model_module_version": "1.2.0",
      "model_name": "LayoutModel",
      "state": {}
     },
     "07deceb36a844dc79811f41fde01018e": {
      "model_module": "@jupyter-widgets/base",
      "model_module_version": "1.2.0",
      "model_name": "LayoutModel",
      "state": {}
     },
     "082ba9773b344598bde28ca32773d9af": {
      "model_module": "@jupyter-widgets/controls",
      "model_module_version": "1.5.0",
      "model_name": "HTMLModel",
      "state": {
       "layout": "IPY_MODEL_2c1a9258ff7342afa3104417ba4b626d",
       "style": "IPY_MODEL_16f9cab995fc4901ad488f11e832610f",
       "value": "Writing sentences to sent_chunk_0016.txt: 100%"
      }
     },
     "084d8686345447099bc73b1088583791": {
      "model_module": "@jupyter-widgets/controls",
      "model_module_version": "1.5.0",
      "model_name": "HTMLModel",
      "state": {
       "layout": "IPY_MODEL_df6dbfdbaec842f5a825a0e27e30335e",
       "style": "IPY_MODEL_f5b3f887485149ddbb7ef61b2a972be9",
       "value": " 10000/10000 [00:01&lt;00:00, 7608.12it/s]"
      }
     },
     "087eb44b9b4244ea9ab8cfc6a8fd2289": {
      "model_module": "@jupyter-widgets/base",
      "model_module_version": "1.2.0",
      "model_name": "LayoutModel",
      "state": {}
     },
     "093f693eed0a484d884c4b08ba06317f": {
      "model_module": "@jupyter-widgets/controls",
      "model_module_version": "1.5.0",
      "model_name": "DescriptionStyleModel",
      "state": {
       "description_width": ""
      }
     },
     "0980f0e1c3554fb28082ac4507ca3676": {
      "model_module": "@jupyter-widgets/controls",
      "model_module_version": "1.5.0",
      "model_name": "DescriptionStyleModel",
      "state": {
       "description_width": ""
      }
     },
     "0a027f38070d4483ae321c087550007c": {
      "model_module": "@jupyter-widgets/controls",
      "model_module_version": "1.5.0",
      "model_name": "DescriptionStyleModel",
      "state": {
       "description_width": ""
      }
     },
     "0a2da2114724491184c841af72d6c9d7": {
      "model_module": "@jupyter-widgets/controls",
      "model_module_version": "1.5.0",
      "model_name": "FloatProgressModel",
      "state": {
       "bar_style": "success",
       "layout": "IPY_MODEL_23e90b54160c4f969e62ef336f87d3ff",
       "max": 10000,
       "style": "IPY_MODEL_0dc741b7a2784fb68a437cf1c587a5ae",
       "value": 10000
      }
     },
     "0a6a3c01f9184094aa24f2632f5648b0": {
      "model_module": "@jupyter-widgets/base",
      "model_module_version": "1.2.0",
      "model_name": "LayoutModel",
      "state": {}
     },
     "0a6c69de15a743b4b4d8403d01785c20": {
      "model_module": "@jupyter-widgets/controls",
      "model_module_version": "1.5.0",
      "model_name": "HTMLModel",
      "state": {
       "layout": "IPY_MODEL_e0f6404b94a44ef4b17a03c2ad99c553",
       "style": "IPY_MODEL_56b16edd921d492ab89e88a4e12e9688",
       "value": "Writing sentences to sent_chunk_0020.txt: 100%"
      }
     },
     "0a9d1259711e4e3bb607a4a556fb3238": {
      "model_module": "@jupyter-widgets/controls",
      "model_module_version": "1.5.0",
      "model_name": "HTMLModel",
      "state": {
       "layout": "IPY_MODEL_c8e76de5bbd0450f8d5f5988eec2d0f9",
       "style": "IPY_MODEL_79e419e738d243a4b8c6d49328ad305b",
       "value": " 10000/10000 [00:01&lt;00:00, 7339.19it/s]"
      }
     },
     "0ac0c10c5b2d49fca36f8689cc53d32a": {
      "model_module": "@jupyter-widgets/controls",
      "model_module_version": "1.5.0",
      "model_name": "ProgressStyleModel",
      "state": {
       "description_width": ""
      }
     },
     "0afb9ff6bad941cfb065090d4e13ead2": {
      "model_module": "@jupyter-widgets/controls",
      "model_module_version": "1.5.0",
      "model_name": "HBoxModel",
      "state": {
       "children": [
        "IPY_MODEL_a9ad4a4205d945ae86503fbadad7d55f",
        "IPY_MODEL_912f5971ef4645799bab089a2062b147",
        "IPY_MODEL_42f9a8ebec844c52ab86380013ea4157"
       ],
       "layout": "IPY_MODEL_793d9a3ca51d4585a552bba45921cd2d"
      }
     },
     "0b56fdc2525f4b34a632ec6d314ee904": {
      "model_module": "@jupyter-widgets/controls",
      "model_module_version": "1.5.0",
      "model_name": "DescriptionStyleModel",
      "state": {
       "description_width": ""
      }
     },
     "0b68e75cff024a77b025fde8494fd759": {
      "model_module": "@jupyter-widgets/base",
      "model_module_version": "1.2.0",
      "model_name": "LayoutModel",
      "state": {}
     },
     "0b6e0dd81fc54957a578afdd65100ab9": {
      "model_module": "@jupyter-widgets/controls",
      "model_module_version": "1.5.0",
      "model_name": "HTMLModel",
      "state": {
       "layout": "IPY_MODEL_19e7b0cb6f8543e08da35347d8eb7d27",
       "style": "IPY_MODEL_60edabf6d7714b2280a246577a5c6cd7",
       "value": "sent_chunk_0026.txt: 100%"
      }
     },
     "0b874701ce3846bcba6655d16c60e9b2": {
      "model_module": "@jupyter-widgets/controls",
      "model_module_version": "1.5.0",
      "model_name": "FloatProgressModel",
      "state": {
       "bar_style": "success",
       "layout": "IPY_MODEL_d5044fb22dde4a23a259000b3ff939da",
       "max": 10000,
       "style": "IPY_MODEL_6b178272672748a192f72cad896912bc",
       "value": 10000
      }
     },
     "0bce16b736234781b3896136c1466a0f": {
      "model_module": "@jupyter-widgets/controls",
      "model_module_version": "1.5.0",
      "model_name": "HTMLModel",
      "state": {
       "layout": "IPY_MODEL_a36d83eb6740413a8f9036e5bb7a7b86",
       "style": "IPY_MODEL_5331eaa8757f42019af2472cfca4e23d",
       "value": " 10000/10000 [00:01&lt;00:00, 7510.48it/s]"
      }
     },
     "0be1924f7d8f415f9bf5442152fc172b": {
      "model_module": "@jupyter-widgets/base",
      "model_module_version": "1.2.0",
      "model_name": "LayoutModel",
      "state": {}
     },
     "0c798b1eaa0147d09c302c3efae5f1d3": {
      "model_module": "@jupyter-widgets/base",
      "model_module_version": "1.2.0",
      "model_name": "LayoutModel",
      "state": {}
     },
     "0c8f52e54a374042914c0ed1c6de1d93": {
      "model_module": "@jupyter-widgets/base",
      "model_module_version": "1.2.0",
      "model_name": "LayoutModel",
      "state": {}
     },
     "0c9683c03bba43979a9e8e9cabcc9bdb": {
      "model_module": "@jupyter-widgets/base",
      "model_module_version": "1.2.0",
      "model_name": "LayoutModel",
      "state": {}
     },
     "0d5ee347993d416db864324dbca051af": {
      "model_module": "@jupyter-widgets/controls",
      "model_module_version": "1.5.0",
      "model_name": "HTMLModel",
      "state": {
       "layout": "IPY_MODEL_8f2bd870c2364c01ae67ca3beaf0060a",
       "style": "IPY_MODEL_830086ddbc2d4c4a8d1168621dbd9980",
       "value": " 10000/10000 [00:01&lt;00:00, 7480.61it/s]"
      }
     },
     "0d7509e02b2e495f9e5cfb6dd61c9a9d": {
      "model_module": "@jupyter-widgets/base",
      "model_module_version": "1.2.0",
      "model_name": "LayoutModel",
      "state": {}
     },
     "0dc741b7a2784fb68a437cf1c587a5ae": {
      "model_module": "@jupyter-widgets/controls",
      "model_module_version": "1.5.0",
      "model_name": "ProgressStyleModel",
      "state": {
       "description_width": ""
      }
     },
     "0e022d775c794ab182beff8723255e4f": {
      "model_module": "@jupyter-widgets/controls",
      "model_module_version": "1.5.0",
      "model_name": "ProgressStyleModel",
      "state": {
       "description_width": ""
      }
     },
     "0e169c6d901b4d2ba6392af06f5cf9ef": {
      "model_module": "@jupyter-widgets/controls",
      "model_module_version": "1.5.0",
      "model_name": "DescriptionStyleModel",
      "state": {
       "description_width": ""
      }
     },
     "0e3bbc7c0be64888b0320b5c027a0e1f": {
      "model_module": "@jupyter-widgets/controls",
      "model_module_version": "1.5.0",
      "model_name": "DescriptionStyleModel",
      "state": {
       "description_width": ""
      }
     },
     "0e43145f464c45408f94e688ee42540c": {
      "model_module": "@jupyter-widgets/base",
      "model_module_version": "1.2.0",
      "model_name": "LayoutModel",
      "state": {}
     },
     "0eff81575c074eeab7b32f783c1c93f9": {
      "model_module": "@jupyter-widgets/controls",
      "model_module_version": "1.5.0",
      "model_name": "DescriptionStyleModel",
      "state": {
       "description_width": ""
      }
     },
     "0f047d9a4ceb4990a3c011c04f291522": {
      "model_module": "@jupyter-widgets/base",
      "model_module_version": "1.2.0",
      "model_name": "LayoutModel",
      "state": {}
     },
     "0f15e3821b22482799cff1c6f8e43d6d": {
      "model_module": "@jupyter-widgets/base",
      "model_module_version": "1.2.0",
      "model_name": "LayoutModel",
      "state": {}
     },
     "0f6c74a70ebe4b379d21047fc611dde3": {
      "model_module": "@jupyter-widgets/controls",
      "model_module_version": "1.5.0",
      "model_name": "HTMLModel",
      "state": {
       "layout": "IPY_MODEL_f2543efb41d648fb865384f97e0a1c62",
       "style": "IPY_MODEL_cccadb6b3b62435c9c64208a10faa7ca",
       "value": "Writing sentences to sent_chunk_0039.txt: 100%"
      }
     },
     "0f8845d0d17048618cd96274c6aae163": {
      "model_module": "@jupyter-widgets/controls",
      "model_module_version": "1.5.0",
      "model_name": "DescriptionStyleModel",
      "state": {
       "description_width": ""
      }
     },
     "0fdde755b3884275b13a8251fedbce91": {
      "model_module": "@jupyter-widgets/controls",
      "model_module_version": "1.5.0",
      "model_name": "HBoxModel",
      "state": {
       "children": [
        "IPY_MODEL_f757184fd8ea401e9ad9ee0c21c96dbc",
        "IPY_MODEL_57b4a6b8ceae4385ace1eb39ae75ca31",
        "IPY_MODEL_5a25ea53cafb46bea41457d1821b31ca"
       ],
       "layout": "IPY_MODEL_ea933790a4ea4f03a3bc18f3df277122"
      }
     },
     "1184c14940ba46b8b7da7693b1d55e2c": {
      "model_module": "@jupyter-widgets/controls",
      "model_module_version": "1.5.0",
      "model_name": "DescriptionStyleModel",
      "state": {
       "description_width": ""
      }
     },
     "12266c89beb64c80aabb4bf2882cd8cf": {
      "model_module": "@jupyter-widgets/controls",
      "model_module_version": "1.5.0",
      "model_name": "HBoxModel",
      "state": {
       "children": [
        "IPY_MODEL_adadf0b233a84cfa958e8181dde02291",
        "IPY_MODEL_f4c77c856256407882cf2dde41e41ed8",
        "IPY_MODEL_8cd61901a00548e282dbb0039f529a83"
       ],
       "layout": "IPY_MODEL_eb23b60307df46aabf18bedd6d210270"
      }
     },
     "1271faee251c47f2a9a942e8c8580551": {
      "model_module": "@jupyter-widgets/controls",
      "model_module_version": "1.5.0",
      "model_name": "HTMLModel",
      "state": {
       "layout": "IPY_MODEL_8bb3a7c561d34a6a999546d5da73dbed",
       "style": "IPY_MODEL_3962e183eab74ddbbcbf3ee12c546fe4",
       "value": " 10000/10000 [00:01&lt;00:00, 7459.63it/s]"
      }
     },
     "1297ee1dca3047eeafcdec717c759fb8": {
      "model_module": "@jupyter-widgets/base",
      "model_module_version": "1.2.0",
      "model_name": "LayoutModel",
      "state": {}
     },
     "129ccb6c323a41cf949d751ff9224d2a": {
      "model_module": "@jupyter-widgets/base",
      "model_module_version": "1.2.0",
      "model_name": "LayoutModel",
      "state": {}
     },
     "12b1a6542cb3474890c6c72412bde863": {
      "model_module": "@jupyter-widgets/base",
      "model_module_version": "1.2.0",
      "model_name": "LayoutModel",
      "state": {}
     },
     "12c55c44ec5b4d7c841690b8d9158258": {
      "model_module": "@jupyter-widgets/controls",
      "model_module_version": "1.5.0",
      "model_name": "HTMLModel",
      "state": {
       "layout": "IPY_MODEL_4be3fb8198c046248f8f87d0ec31d37f",
       "style": "IPY_MODEL_9c16d69955b943d2b741de92dc82b4ee",
       "value": "Writing sentences to sent_chunk_0008.txt: 100%"
      }
     },
     "12e79fc3b6c54c6098e49b9cf9ce2f01": {
      "model_module": "@jupyter-widgets/controls",
      "model_module_version": "1.5.0",
      "model_name": "HTMLModel",
      "state": {
       "layout": "IPY_MODEL_f1424a25ebc24f06979e95ceda9f4c88",
       "style": "IPY_MODEL_ef314deb003b4abbbb93df35ec0fb4c8",
       "value": " 10000/10000 [00:01&lt;00:00, 7415.30it/s]"
      }
     },
     "132ca712c96642b39d263a996de35ca6": {
      "model_module": "@jupyter-widgets/controls",
      "model_module_version": "1.5.0",
      "model_name": "HBoxModel",
      "state": {
       "children": [
        "IPY_MODEL_f35232911d164e1e861c2891afecbb94",
        "IPY_MODEL_01782fdb34d543f090d120140b337678",
        "IPY_MODEL_b883a1062ff34605a02eae7f84deffaf"
       ],
       "layout": "IPY_MODEL_8d03a220d43e4df0afcb344562083677"
      }
     },
     "138f460dbcf4448d805c3b9dafb1e69d": {
      "model_module": "@jupyter-widgets/base",
      "model_module_version": "1.2.0",
      "model_name": "LayoutModel",
      "state": {}
     },
     "139777e4818f409b872fd721f1d22c80": {
      "model_module": "@jupyter-widgets/controls",
      "model_module_version": "1.5.0",
      "model_name": "HTMLModel",
      "state": {
       "layout": "IPY_MODEL_1acf08d8b36c413b80857132adf3b7ae",
       "style": "IPY_MODEL_2991bcc00c2440a48c01bbf409ca716a",
       "value": " 10000/10000 [00:01&lt;00:00, 7631.31it/s]"
      }
     },
     "13e0f82f7e0243a3b6f1d6ae3aefa698": {
      "model_module": "@jupyter-widgets/controls",
      "model_module_version": "1.5.0",
      "model_name": "HBoxModel",
      "state": {
       "children": [
        "IPY_MODEL_d1174568705c456ba2a5a9f829994848",
        "IPY_MODEL_9098a1bd45084d1e98ff1adda6648800",
        "IPY_MODEL_a7ca7c0aef50476da8a6dd47b636f695"
       ],
       "layout": "IPY_MODEL_22fbc80a11064501bac45f63daf86790"
      }
     },
     "13ed830897f04cec9d64f43fa8d2104a": {
      "model_module": "@jupyter-widgets/controls",
      "model_module_version": "1.5.0",
      "model_name": "HTMLModel",
      "state": {
       "layout": "IPY_MODEL_719abc747810447e9afd2911fe46afac",
       "style": "IPY_MODEL_36894347c2c741a0a4ab173e6dc7bbb0",
       "value": " 10000/10000 [00:01&lt;00:00, 7446.66it/s]"
      }
     },
     "144c94ba195b4190a9c6402413477b71": {
      "model_module": "@jupyter-widgets/controls",
      "model_module_version": "1.5.0",
      "model_name": "DescriptionStyleModel",
      "state": {
       "description_width": ""
      }
     },
     "147d995d4d4e4c65879c3de4166bc174": {
      "model_module": "@jupyter-widgets/controls",
      "model_module_version": "1.5.0",
      "model_name": "ProgressStyleModel",
      "state": {
       "description_width": ""
      }
     },
     "147daede748a4d38941cd47813d0bb32": {
      "model_module": "@jupyter-widgets/controls",
      "model_module_version": "1.5.0",
      "model_name": "DescriptionStyleModel",
      "state": {
       "description_width": ""
      }
     },
     "14f1952bfb7a48e7933cbd820f038e38": {
      "model_module": "@jupyter-widgets/controls",
      "model_module_version": "1.5.0",
      "model_name": "HTMLModel",
      "state": {
       "layout": "IPY_MODEL_5a40cc5113184fa08f7f5b0827c5bceb",
       "style": "IPY_MODEL_b41c8253f5d844b196ad8327ff372f87",
       "value": " 10000/10000 [00:01&lt;00:00, 7315.43it/s]"
      }
     },
     "15031b80330743aaa1b07d276ce92ede": {
      "model_module": "@jupyter-widgets/controls",
      "model_module_version": "1.5.0",
      "model_name": "HBoxModel",
      "state": {
       "children": [
        "IPY_MODEL_eb96087f48524e7d86f1912af14e3efd",
        "IPY_MODEL_522a7b4b44594cf2a5445b76f31ef2da",
        "IPY_MODEL_9367477c876b4fd38834f71edf6bdd3f"
       ],
       "layout": "IPY_MODEL_46f4ff1402be43d094bcdc9556e145a5"
      }
     },
     "152ef9d1e6f044ac9734a6b21fc9baa4": {
      "model_module": "@jupyter-widgets/controls",
      "model_module_version": "1.5.0",
      "model_name": "ProgressStyleModel",
      "state": {
       "description_width": ""
      }
     },
     "1537ce234a444843b3d429e86fe041cb": {
      "model_module": "@jupyter-widgets/controls",
      "model_module_version": "1.5.0",
      "model_name": "DescriptionStyleModel",
      "state": {
       "description_width": ""
      }
     },
     "153b6f978c2e410da58df8496171bbeb": {
      "model_module": "@jupyter-widgets/base",
      "model_module_version": "1.2.0",
      "model_name": "LayoutModel",
      "state": {}
     },
     "16000d5c9f3c437ab6e5d338007f6f40": {
      "model_module": "@jupyter-widgets/base",
      "model_module_version": "1.2.0",
      "model_name": "LayoutModel",
      "state": {}
     },
     "1697c877e56b4417987156938f93b498": {
      "model_module": "@jupyter-widgets/controls",
      "model_module_version": "1.5.0",
      "model_name": "HTMLModel",
      "state": {
       "layout": "IPY_MODEL_7d0c76b2b77548c59dae221d7bfbc928",
       "style": "IPY_MODEL_e77b3f79df93499d95b89f42c7ba5d0b",
       "value": " 10000/10000 [00:01&lt;00:00, 7344.36it/s]"
      }
     },
     "16f9cab995fc4901ad488f11e832610f": {
      "model_module": "@jupyter-widgets/controls",
      "model_module_version": "1.5.0",
      "model_name": "DescriptionStyleModel",
      "state": {
       "description_width": ""
      }
     },
     "172f69c0bda94b88a2175ee02fb3cf97": {
      "model_module": "@jupyter-widgets/base",
      "model_module_version": "1.2.0",
      "model_name": "LayoutModel",
      "state": {}
     },
     "17bc1a6734314bb9bdec3a8d3a8e5c39": {
      "model_module": "@jupyter-widgets/base",
      "model_module_version": "1.2.0",
      "model_name": "LayoutModel",
      "state": {}
     },
     "17dc762b4507486ebc5e148f6e0afaa6": {
      "model_module": "@jupyter-widgets/base",
      "model_module_version": "1.2.0",
      "model_name": "LayoutModel",
      "state": {}
     },
     "17e9b112a0a14614b500c3bac003861b": {
      "model_module": "@jupyter-widgets/base",
      "model_module_version": "1.2.0",
      "model_name": "LayoutModel",
      "state": {}
     },
     "182c09963e7b4ec39061ce05c9d1a459": {
      "model_module": "@jupyter-widgets/base",
      "model_module_version": "1.2.0",
      "model_name": "LayoutModel",
      "state": {}
     },
     "185bcdf50c324caf8e316107500c1bf8": {
      "model_module": "@jupyter-widgets/controls",
      "model_module_version": "1.5.0",
      "model_name": "HTMLModel",
      "state": {
       "layout": "IPY_MODEL_153b6f978c2e410da58df8496171bbeb",
       "style": "IPY_MODEL_84f679ed9bf6455ca9a80bf6ff905af9",
       "value": "sent_chunk_0033.txt: 100%"
      }
     },
     "18b367c035b94903a6d7f7f0e47970f5": {
      "model_module": "@jupyter-widgets/controls",
      "model_module_version": "1.5.0",
      "model_name": "HTMLModel",
      "state": {
       "layout": "IPY_MODEL_f4bbe0732e1a40f28e6efe5ace5ccc26",
       "style": "IPY_MODEL_8de7c26c121244cfa85625f5df30d7c4",
       "value": " 10000/10000 [00:01&lt;00:00, 7174.19it/s]"
      }
     },
     "18d7f82b0e5b4d66bbf3d19b0c8fd224": {
      "model_module": "@jupyter-widgets/base",
      "model_module_version": "1.2.0",
      "model_name": "LayoutModel",
      "state": {}
     },
     "18ed9becdd0b47ae8b59ed3732ecf832": {
      "model_module": "@jupyter-widgets/controls",
      "model_module_version": "1.5.0",
      "model_name": "FloatProgressModel",
      "state": {
       "bar_style": "success",
       "layout": "IPY_MODEL_4316d89a1a144ba59532ae16c42e9174",
       "max": 10000,
       "style": "IPY_MODEL_d60df96216cd4b35b8d975d19054f796",
       "value": 10000
      }
     },
     "1908f3d7d77b47909354e5d7d2861911": {
      "model_module": "@jupyter-widgets/controls",
      "model_module_version": "1.5.0",
      "model_name": "DescriptionStyleModel",
      "state": {
       "description_width": ""
      }
     },
     "190c530ba3c64002bbc11cd2abb58246": {
      "model_module": "@jupyter-widgets/controls",
      "model_module_version": "1.5.0",
      "model_name": "FloatProgressModel",
      "state": {
       "bar_style": "success",
       "layout": "IPY_MODEL_bd6fe78ca334499d9b7fd3dce0b80f98",
       "max": 10000,
       "style": "IPY_MODEL_b28bae956ee14760882bc46414bc5ce0",
       "value": 10000
      }
     },
     "192cb07eacfb461398caf4f65229ee28": {
      "model_module": "@jupyter-widgets/controls",
      "model_module_version": "1.5.0",
      "model_name": "HTMLModel",
      "state": {
       "layout": "IPY_MODEL_e684328da75c49a3b036cc2be23e2484",
       "style": "IPY_MODEL_fe37948c59574109971a9cfeb5fe0897",
       "value": "sent_chunk_0003.txt: 100%"
      }
     },
     "19478f0a66f644c085b9172dbfb4654b": {
      "model_module": "@jupyter-widgets/base",
      "model_module_version": "1.2.0",
      "model_name": "LayoutModel",
      "state": {}
     },
     "194ac65fa5ea4146b3c01aa3d4c43cef": {
      "model_module": "@jupyter-widgets/controls",
      "model_module_version": "1.5.0",
      "model_name": "DescriptionStyleModel",
      "state": {
       "description_width": ""
      }
     },
     "195d350c016441d79cb2622c167a2e47": {
      "model_module": "@jupyter-widgets/controls",
      "model_module_version": "1.5.0",
      "model_name": "HTMLModel",
      "state": {
       "layout": "IPY_MODEL_946f4debd10942608936fae6612fa0a7",
       "style": "IPY_MODEL_7c792e103ece45199cac20f6cf13f63c",
       "value": "Writing sentences to sent_chunk_0004.txt: 100%"
      }
     },
     "197238bd1cc44c10b027d941e3de31bc": {
      "model_module": "@jupyter-widgets/controls",
      "model_module_version": "1.5.0",
      "model_name": "HBoxModel",
      "state": {
       "children": [
        "IPY_MODEL_4f9bed7d7cc94d96b909237d65c9083b",
        "IPY_MODEL_8de27ed9a21649cd9c238b09cc2be53b",
        "IPY_MODEL_6fa9e0c33c4d46fca905f67838ab6b70"
       ],
       "layout": "IPY_MODEL_23b878cd506547b2bd18c64a2171a4fb"
      }
     },
     "19a4eacad2f04b88a2a70cc66ad85756": {
      "model_module": "@jupyter-widgets/base",
      "model_module_version": "1.2.0",
      "model_name": "LayoutModel",
      "state": {}
     },
     "19a5dfc4d27844cfb2a0451b855aac51": {
      "model_module": "@jupyter-widgets/controls",
      "model_module_version": "1.5.0",
      "model_name": "ProgressStyleModel",
      "state": {
       "description_width": ""
      }
     },
     "19a7f57fdb27400fa17a4726e4183691": {
      "model_module": "@jupyter-widgets/controls",
      "model_module_version": "1.5.0",
      "model_name": "FloatProgressModel",
      "state": {
       "bar_style": "success",
       "layout": "IPY_MODEL_97431a3fe3d04285bcb94fea234ba0a9",
       "max": 10000,
       "style": "IPY_MODEL_6c83b5dd78004bf4b4d055a67f9e1e93",
       "value": 10000
      }
     },
     "19a88b87ae0c4809a3968b641ed06e17": {
      "model_module": "@jupyter-widgets/base",
      "model_module_version": "1.2.0",
      "model_name": "LayoutModel",
      "state": {}
     },
     "19be78638b81413e8da5687d2d76c343": {
      "model_module": "@jupyter-widgets/base",
      "model_module_version": "1.2.0",
      "model_name": "LayoutModel",
      "state": {}
     },
     "19c1d95694d64a69896337604c7c2872": {
      "model_module": "@jupyter-widgets/controls",
      "model_module_version": "1.5.0",
      "model_name": "HBoxModel",
      "state": {
       "children": [
        "IPY_MODEL_12c55c44ec5b4d7c841690b8d9158258",
        "IPY_MODEL_5fe06e73a85b4048bed8bc26a31e3699",
        "IPY_MODEL_cdceb1537b6b49e5895f983179e2d2fb"
       ],
       "layout": "IPY_MODEL_779c57eb6807469e89fb392b77d57886"
      }
     },
     "19d5a6a15f784480b62966144e137e0d": {
      "model_module": "@jupyter-widgets/base",
      "model_module_version": "1.2.0",
      "model_name": "LayoutModel",
      "state": {}
     },
     "19e7b0cb6f8543e08da35347d8eb7d27": {
      "model_module": "@jupyter-widgets/base",
      "model_module_version": "1.2.0",
      "model_name": "LayoutModel",
      "state": {}
     },
     "19f06d31532844ac93db88890a1e4836": {
      "model_module": "@jupyter-widgets/base",
      "model_module_version": "1.2.0",
      "model_name": "LayoutModel",
      "state": {}
     },
     "1a577dcd886b47ef863774669ab14943": {
      "model_module": "@jupyter-widgets/base",
      "model_module_version": "1.2.0",
      "model_name": "LayoutModel",
      "state": {}
     },
     "1acf08d8b36c413b80857132adf3b7ae": {
      "model_module": "@jupyter-widgets/base",
      "model_module_version": "1.2.0",
      "model_name": "LayoutModel",
      "state": {}
     },
     "1b028fa2bd8d427ca935e4cf7e36f3b0": {
      "model_module": "@jupyter-widgets/base",
      "model_module_version": "1.2.0",
      "model_name": "LayoutModel",
      "state": {}
     },
     "1b692739d5c74e1b81d25d7b9e90865e": {
      "model_module": "@jupyter-widgets/controls",
      "model_module_version": "1.5.0",
      "model_name": "HBoxModel",
      "state": {
       "children": [
        "IPY_MODEL_dd051ec0c9464b77b4c8be9f8e665e7a",
        "IPY_MODEL_3ec47e5ee0254929b93598e863e96dc6",
        "IPY_MODEL_7dc98581e5164d38bd6c682b9495d74e"
       ],
       "layout": "IPY_MODEL_380d9d7d337144de9b973dbbc8c3ea46"
      }
     },
     "1b6fa60d245547579d0870fc1fdca680": {
      "model_module": "@jupyter-widgets/base",
      "model_module_version": "1.2.0",
      "model_name": "LayoutModel",
      "state": {}
     },
     "1bd3e35b48844797944a53d93c893558": {
      "model_module": "@jupyter-widgets/controls",
      "model_module_version": "1.5.0",
      "model_name": "HBoxModel",
      "state": {
       "children": [
        "IPY_MODEL_8c09aad45dc04c7e91653695dbdf2d5d",
        "IPY_MODEL_7481f200118343c0a016453d849ad780",
        "IPY_MODEL_1697c877e56b4417987156938f93b498"
       ],
       "layout": "IPY_MODEL_582b3a60425f49629795e9f981945eef"
      }
     },
     "1c164a8ff1614bafa8227f150ab5ae3a": {
      "model_module": "@jupyter-widgets/controls",
      "model_module_version": "1.5.0",
      "model_name": "HTMLModel",
      "state": {
       "layout": "IPY_MODEL_2c8d36aeaa9b44b4bcfa0e49777c97a8",
       "style": "IPY_MODEL_1537ce234a444843b3d429e86fe041cb",
       "value": " 10000/10000 [00:01&lt;00:00, 7451.39it/s]"
      }
     },
     "1c51053b82ad4e51b2c3b9155bc0132c": {
      "model_module": "@jupyter-widgets/base",
      "model_module_version": "1.2.0",
      "model_name": "LayoutModel",
      "state": {}
     },
     "1cd6cc038bc74b5a8496bc83e3c1a421": {
      "model_module": "@jupyter-widgets/controls",
      "model_module_version": "1.5.0",
      "model_name": "DescriptionStyleModel",
      "state": {
       "description_width": ""
      }
     },
     "1cf565d8b6e540749f1f075824bf4595": {
      "model_module": "@jupyter-widgets/base",
      "model_module_version": "1.2.0",
      "model_name": "LayoutModel",
      "state": {}
     },
     "1d2c86d3349c499194a0d3e97cdeda21": {
      "model_module": "@jupyter-widgets/controls",
      "model_module_version": "1.5.0",
      "model_name": "DescriptionStyleModel",
      "state": {
       "description_width": ""
      }
     },
     "1d504c69051a4b5dbebd56eec25654df": {
      "model_module": "@jupyter-widgets/controls",
      "model_module_version": "1.5.0",
      "model_name": "HTMLModel",
      "state": {
       "layout": "IPY_MODEL_7943d8211e284973b14f3a6208045f79",
       "style": "IPY_MODEL_0b56fdc2525f4b34a632ec6d314ee904",
       "value": "Writing sentences to sent_chunk_0006.txt: 100%"
      }
     },
     "1d7bf85283474b3d8d6db52b3e65b6c0": {
      "model_module": "@jupyter-widgets/base",
      "model_module_version": "1.2.0",
      "model_name": "LayoutModel",
      "state": {}
     },
     "1df11003f7fe4ef1b483fcaad51cc374": {
      "model_module": "@jupyter-widgets/base",
      "model_module_version": "1.2.0",
      "model_name": "LayoutModel",
      "state": {}
     },
     "1e00fc31224345b68de807c3cfff44cf": {
      "model_module": "@jupyter-widgets/base",
      "model_module_version": "1.2.0",
      "model_name": "LayoutModel",
      "state": {}
     },
     "1e0a4f2ea6354c05af452fd9afa5dc36": {
      "model_module": "@jupyter-widgets/controls",
      "model_module_version": "1.5.0",
      "model_name": "DescriptionStyleModel",
      "state": {
       "description_width": ""
      }
     },
     "1e39dc17383945fdadbb4f7509232212": {
      "model_module": "@jupyter-widgets/base",
      "model_module_version": "1.2.0",
      "model_name": "LayoutModel",
      "state": {}
     },
     "1e81d98b8c2640aa9de8e9d5a5c62f97": {
      "model_module": "@jupyter-widgets/controls",
      "model_module_version": "1.5.0",
      "model_name": "DescriptionStyleModel",
      "state": {
       "description_width": ""
      }
     },
     "1ef70368fa0049d79b80e35fd2be3bfc": {
      "model_module": "@jupyter-widgets/controls",
      "model_module_version": "1.5.0",
      "model_name": "FloatProgressModel",
      "state": {
       "bar_style": "success",
       "layout": "IPY_MODEL_6049b410732148bd89e3d25b154cc959",
       "max": 10000,
       "style": "IPY_MODEL_666073a7350841a697b2bd06eca98cee",
       "value": 10000
      }
     },
     "1f2310ed30604e5f9ceeb211bcadb27f": {
      "model_module": "@jupyter-widgets/controls",
      "model_module_version": "1.5.0",
      "model_name": "HTMLModel",
      "state": {
       "layout": "IPY_MODEL_496bbb2ab9664240bfc75f46e445bdf1",
       "style": "IPY_MODEL_4cdbd61725924ecc8aff930144adc619",
       "value": " 10000/10000 [00:01&lt;00:00, 7345.24it/s]"
      }
     },
     "2025c9ab243b4f25bd3c8d919fcb1d73": {
      "model_module": "@jupyter-widgets/controls",
      "model_module_version": "1.5.0",
      "model_name": "DescriptionStyleModel",
      "state": {
       "description_width": ""
      }
     },
     "2025dc5a23ab4ad3b74e38f66751bc8c": {
      "model_module": "@jupyter-widgets/controls",
      "model_module_version": "1.5.0",
      "model_name": "HTMLModel",
      "state": {
       "layout": "IPY_MODEL_fad53a1b301f4c46a9684835304c1597",
       "style": "IPY_MODEL_c5d23a342c474ddda30b25d2be9fd8f6",
       "value": " 10000/10000 [00:01&lt;00:00, 7619.00it/s]"
      }
     },
     "20387e451e884e5e89d6cc68109bdfd0": {
      "model_module": "@jupyter-widgets/controls",
      "model_module_version": "1.5.0",
      "model_name": "DescriptionStyleModel",
      "state": {
       "description_width": ""
      }
     },
     "203e73e767c541ba9f6b01f6c0e8e118": {
      "model_module": "@jupyter-widgets/base",
      "model_module_version": "1.2.0",
      "model_name": "LayoutModel",
      "state": {}
     },
     "204c5ca3cdfa455dae2b718c25507be0": {
      "model_module": "@jupyter-widgets/controls",
      "model_module_version": "1.5.0",
      "model_name": "DescriptionStyleModel",
      "state": {
       "description_width": ""
      }
     },
     "20c3bb59ea9d44cda37645494c5dd997": {
      "model_module": "@jupyter-widgets/base",
      "model_module_version": "1.2.0",
      "model_name": "LayoutModel",
      "state": {}
     },
     "20f83d1716194c758eb043b85169e0c1": {
      "model_module": "@jupyter-widgets/controls",
      "model_module_version": "1.5.0",
      "model_name": "DescriptionStyleModel",
      "state": {
       "description_width": ""
      }
     },
     "2183f56ea8d94b5a9e7601a543b4d0ca": {
      "model_module": "@jupyter-widgets/base",
      "model_module_version": "1.2.0",
      "model_name": "LayoutModel",
      "state": {}
     },
     "218dae277015451eb454dbf5e1a0aae5": {
      "model_module": "@jupyter-widgets/base",
      "model_module_version": "1.2.0",
      "model_name": "LayoutModel",
      "state": {}
     },
     "21e090e2a0db4e2fb395b7f1ab864abd": {
      "model_module": "@jupyter-widgets/controls",
      "model_module_version": "1.5.0",
      "model_name": "HTMLModel",
      "state": {
       "layout": "IPY_MODEL_1c51053b82ad4e51b2c3b9155bc0132c",
       "style": "IPY_MODEL_6f14778379d44b56b6ef374ff7325ead",
       "value": " 10000/10000 [00:01&lt;00:00, 7423.93it/s]"
      }
     },
     "225001d3d6ca4a609a3822cda8bd2ca8": {
      "model_module": "@jupyter-widgets/controls",
      "model_module_version": "1.5.0",
      "model_name": "HBoxModel",
      "state": {
       "children": [
        "IPY_MODEL_f17d44632598487b8d445dc683d3de2f",
        "IPY_MODEL_80b70e7ac6624ea5b854d5ede757c7ad",
        "IPY_MODEL_608b1121758e45fea123429fcd6e641e"
       ],
       "layout": "IPY_MODEL_35bb0bf9f1254246aa92eaebe0ff9176"
      }
     },
     "22fbc80a11064501bac45f63daf86790": {
      "model_module": "@jupyter-widgets/base",
      "model_module_version": "1.2.0",
      "model_name": "LayoutModel",
      "state": {}
     },
     "235b39b0013746caa1f21b29624d34b3": {
      "model_module": "@jupyter-widgets/base",
      "model_module_version": "1.2.0",
      "model_name": "LayoutModel",
      "state": {}
     },
     "23933c6f580a4c16b0c5c1070fd9b52b": {
      "model_module": "@jupyter-widgets/base",
      "model_module_version": "1.2.0",
      "model_name": "LayoutModel",
      "state": {}
     },
     "23b878cd506547b2bd18c64a2171a4fb": {
      "model_module": "@jupyter-widgets/base",
      "model_module_version": "1.2.0",
      "model_name": "LayoutModel",
      "state": {}
     },
     "23be2badc1094ad2bbb3dbc9c783e683": {
      "model_module": "@jupyter-widgets/controls",
      "model_module_version": "1.5.0",
      "model_name": "FloatProgressModel",
      "state": {
       "bar_style": "success",
       "layout": "IPY_MODEL_78f477ad26e9457cb0a0886ee031c495",
       "max": 10000,
       "style": "IPY_MODEL_d4846cf0b96c4423bcdefd40b12aaf45",
       "value": 10000
      }
     },
     "23ca1b58763b4c32a0b7974e7c84d153": {
      "model_module": "@jupyter-widgets/controls",
      "model_module_version": "1.5.0",
      "model_name": "HBoxModel",
      "state": {
       "children": [
        "IPY_MODEL_96d6d8b75ea34d659a25e88c9c1af7b8",
        "IPY_MODEL_1ef70368fa0049d79b80e35fd2be3bfc",
        "IPY_MODEL_18b367c035b94903a6d7f7f0e47970f5"
       ],
       "layout": "IPY_MODEL_eb0e69e769744ba98977df2a36c48e53"
      }
     },
     "23e90b54160c4f969e62ef336f87d3ff": {
      "model_module": "@jupyter-widgets/base",
      "model_module_version": "1.2.0",
      "model_name": "LayoutModel",
      "state": {}
     },
     "245d39d4f66d477fa1772229b8992406": {
      "model_module": "@jupyter-widgets/base",
      "model_module_version": "1.2.0",
      "model_name": "LayoutModel",
      "state": {}
     },
     "2468a158910f49e4a4b799a4dea22d38": {
      "model_module": "@jupyter-widgets/base",
      "model_module_version": "1.2.0",
      "model_name": "LayoutModel",
      "state": {}
     },
     "24dda96297324040b30911c96444d46a": {
      "model_module": "@jupyter-widgets/controls",
      "model_module_version": "1.5.0",
      "model_name": "HTMLModel",
      "state": {
       "layout": "IPY_MODEL_edf11cb039a04c32a0b3d41a3c16c939",
       "style": "IPY_MODEL_c41dfe1a87bd4761abcc0d8b5497b7d9",
       "value": "Writing sentences to sent_chunk_0050.txt: 100%"
      }
     },
     "2511e490e549476286e8cb1f974d4547": {
      "model_module": "@jupyter-widgets/controls",
      "model_module_version": "1.5.0",
      "model_name": "ProgressStyleModel",
      "state": {
       "description_width": ""
      }
     },
     "2523870087cb4b9da9628cb60b36084c": {
      "model_module": "@jupyter-widgets/base",
      "model_module_version": "1.2.0",
      "model_name": "LayoutModel",
      "state": {}
     },
     "25647cd12ace4d5db81a7aa04f2795af": {
      "model_module": "@jupyter-widgets/base",
      "model_module_version": "1.2.0",
      "model_name": "LayoutModel",
      "state": {}
     },
     "257e68f8bcf84ab188b592caf270e440": {
      "model_module": "@jupyter-widgets/base",
      "model_module_version": "1.2.0",
      "model_name": "LayoutModel",
      "state": {}
     },
     "259bb45fe1364ad1b14ecdc0f5499871": {
      "model_module": "@jupyter-widgets/base",
      "model_module_version": "1.2.0",
      "model_name": "LayoutModel",
      "state": {}
     },
     "264b720d92a54987b753e688228d9c96": {
      "model_module": "@jupyter-widgets/controls",
      "model_module_version": "1.5.0",
      "model_name": "HTMLModel",
      "state": {
       "layout": "IPY_MODEL_9da738d22d714469b173a1bf3b795d68",
       "style": "IPY_MODEL_9df7f81407844dc59364220039de57a4",
       "value": "Writing sentences to sent_chunk_0018.txt: 100%"
      }
     },
     "265ee6760e2147d6ae645dd767de8665": {
      "model_module": "@jupyter-widgets/controls",
      "model_module_version": "1.5.0",
      "model_name": "HTMLModel",
      "state": {
       "layout": "IPY_MODEL_138f460dbcf4448d805c3b9dafb1e69d",
       "style": "IPY_MODEL_97d250d3813045eeada46421377fdcf2",
       "value": "Writing sentences to sent_chunk_0058.txt: 100%"
      }
     },
     "266ff8e55ef645cfa1ccef2278700b4f": {
      "model_module": "@jupyter-widgets/base",
      "model_module_version": "1.2.0",
      "model_name": "LayoutModel",
      "state": {}
     },
     "26d4b3df4ea142ef8b0da37010a1eca3": {
      "model_module": "@jupyter-widgets/base",
      "model_module_version": "1.2.0",
      "model_name": "LayoutModel",
      "state": {}
     },
     "26dab737d8a54e3eb56f0114bbcc8e74": {
      "model_module": "@jupyter-widgets/controls",
      "model_module_version": "1.5.0",
      "model_name": "HBoxModel",
      "state": {
       "children": [
        "IPY_MODEL_8c7c2097ece749769fe67eff89eea803",
        "IPY_MODEL_9673443bb2844defbba806eabbcd27e5",
        "IPY_MODEL_06dd05c524894755ab92062472edb80c"
       ],
       "layout": "IPY_MODEL_b7df4f6749ce404397a8990ebad73bc7"
      }
     },
     "27298f799d9043d091e5635d4edcbad6": {
      "model_module": "@jupyter-widgets/base",
      "model_module_version": "1.2.0",
      "model_name": "LayoutModel",
      "state": {}
     },
     "275a36cab57641eea3709ef2d9f5aa28": {
      "model_module": "@jupyter-widgets/controls",
      "model_module_version": "1.5.0",
      "model_name": "ProgressStyleModel",
      "state": {
       "description_width": ""
      }
     },
     "2763f8597db04e0f93af3b2addb55438": {
      "model_module": "@jupyter-widgets/controls",
      "model_module_version": "1.5.0",
      "model_name": "FloatProgressModel",
      "state": {
       "bar_style": "success",
       "layout": "IPY_MODEL_e3120c4794b3443c9a36924f89a347b8",
       "max": 10000,
       "style": "IPY_MODEL_7a022349011e4fcc8efb875a893a092f",
       "value": 10000
      }
     },
     "2778e9a2f6de436d80b5285f2511484b": {
      "model_module": "@jupyter-widgets/controls",
      "model_module_version": "1.5.0",
      "model_name": "HBoxModel",
      "state": {
       "children": [
        "IPY_MODEL_b9014edb10474f0facf9be9ada4732ee",
        "IPY_MODEL_2908c48a29a24ac8a25ab7e90fd00c27",
        "IPY_MODEL_c0e7b335d13e49a48daefdb624b701b7"
       ],
       "layout": "IPY_MODEL_8c3558fc5be542db8067b37f7d53d4b9"
      }
     },
     "277b6b88d3774308a89e1b220993e157": {
      "model_module": "@jupyter-widgets/controls",
      "model_module_version": "1.5.0",
      "model_name": "DescriptionStyleModel",
      "state": {
       "description_width": ""
      }
     },
     "27ca469af0454222938fb76afdef806a": {
      "model_module": "@jupyter-widgets/controls",
      "model_module_version": "1.5.0",
      "model_name": "HTMLModel",
      "state": {
       "layout": "IPY_MODEL_03c2fdb2e3e74819a2a071377c81e52c",
       "style": "IPY_MODEL_6c39dfa68f464d34ac701b7188a40c53",
       "value": " 10000/10000 [00:01&lt;00:00, 7585.70it/s]"
      }
     },
     "283fbab0c63444b7b937b814e4f6046e": {
      "model_module": "@jupyter-widgets/controls",
      "model_module_version": "1.5.0",
      "model_name": "HTMLModel",
      "state": {
       "layout": "IPY_MODEL_8c8a15da3a8943dfa40037724e847951",
       "style": "IPY_MODEL_92170d8f8e8f46b7a5126d21fb74e7e9",
       "value": "sent_chunk_0022.txt: 100%"
      }
     },
     "284b0389e48b4822914bbbc52b4ea26b": {
      "model_module": "@jupyter-widgets/controls",
      "model_module_version": "1.5.0",
      "model_name": "ProgressStyleModel",
      "state": {
       "description_width": ""
      }
     },
     "284b5547c4604ebf812edac4b47cc755": {
      "model_module": "@jupyter-widgets/base",
      "model_module_version": "1.2.0",
      "model_name": "LayoutModel",
      "state": {}
     },
     "285437adcd9e4906a4eb981d54ab7b1c": {
      "model_module": "@jupyter-widgets/controls",
      "model_module_version": "1.5.0",
      "model_name": "HTMLModel",
      "state": {
       "layout": "IPY_MODEL_c500bd617b074f30bf23e59243e3a761",
       "style": "IPY_MODEL_b368798d816141ada5624675f04377a4",
       "value": "sent_chunk_0013.txt: 100%"
      }
     },
     "285e1f03065e4dc693c889356a7d571f": {
      "model_module": "@jupyter-widgets/controls",
      "model_module_version": "1.5.0",
      "model_name": "DescriptionStyleModel",
      "state": {
       "description_width": ""
      }
     },
     "2908c48a29a24ac8a25ab7e90fd00c27": {
      "model_module": "@jupyter-widgets/controls",
      "model_module_version": "1.5.0",
      "model_name": "FloatProgressModel",
      "state": {
       "bar_style": "success",
       "layout": "IPY_MODEL_5274c4a49a1b40e8bbf6003f509ef666",
       "max": 10000,
       "style": "IPY_MODEL_389ad92a05644d958bce67bccc219fa4",
       "value": 10000
      }
     },
     "290f1a66e98c45fb850174b48d8ef554": {
      "model_module": "@jupyter-widgets/base",
      "model_module_version": "1.2.0",
      "model_name": "LayoutModel",
      "state": {}
     },
     "2991bcc00c2440a48c01bbf409ca716a": {
      "model_module": "@jupyter-widgets/controls",
      "model_module_version": "1.5.0",
      "model_name": "DescriptionStyleModel",
      "state": {
       "description_width": ""
      }
     },
     "29a5c7f7de9d42b9b77f1936aa2e8bad": {
      "model_module": "@jupyter-widgets/controls",
      "model_module_version": "1.5.0",
      "model_name": "HBoxModel",
      "state": {
       "children": [
        "IPY_MODEL_00b6e8888e1a4061ad8131bf72a788ed",
        "IPY_MODEL_7828eaa5164e42749e1331bc8880d406",
        "IPY_MODEL_3a1d99ed12774ad6ab55199fa5c4c56f"
       ],
       "layout": "IPY_MODEL_582b73bcd71749318f5e608c462b4e1d"
      }
     },
     "29e244fd2c2a4460ad3fa455942bec01": {
      "model_module": "@jupyter-widgets/controls",
      "model_module_version": "1.5.0",
      "model_name": "DescriptionStyleModel",
      "state": {
       "description_width": ""
      }
     },
     "2a524f65d0fd4dc3b521faa6e5ecaa16": {
      "model_module": "@jupyter-widgets/base",
      "model_module_version": "1.2.0",
      "model_name": "LayoutModel",
      "state": {}
     },
     "2a952c7615bd4704967c56e1422be837": {
      "model_module": "@jupyter-widgets/controls",
      "model_module_version": "1.5.0",
      "model_name": "HBoxModel",
      "state": {
       "children": [
        "IPY_MODEL_b9c66b55417a403989d8c15e151edfc7",
        "IPY_MODEL_f01d582f9c4f4ff88f80ae7b5fb3c457",
        "IPY_MODEL_000ec8d21e454a6880c446dd0628e2bd"
       ],
       "layout": "IPY_MODEL_7b622a42992f4fb4b834ebda82b417f5"
      }
     },
     "2ad8db2b41b54f58a9f24651f7a3d16f": {
      "model_module": "@jupyter-widgets/controls",
      "model_module_version": "1.5.0",
      "model_name": "HBoxModel",
      "state": {
       "children": [
        "IPY_MODEL_7e32143fe1314ffaa108bb4016464621",
        "IPY_MODEL_fa03930ab596428ba78562b3b87aceb4",
        "IPY_MODEL_6ea9c3c8e2ca480f971cfd3256645c18"
       ],
       "layout": "IPY_MODEL_8a8f96dbc26645f9b4ece5572b05e6ab"
      }
     },
     "2b8c5b759e3b4758a24416c4bafc4013": {
      "model_module": "@jupyter-widgets/controls",
      "model_module_version": "1.5.0",
      "model_name": "FloatProgressModel",
      "state": {
       "bar_style": "success",
       "layout": "IPY_MODEL_aa513997363f4edcbca6573dcda3fbe1",
       "max": 10000,
       "style": "IPY_MODEL_00891f8d4fdf4a2e8156144cbf395139",
       "value": 10000
      }
     },
     "2bd77824c31d4a9e93c9ea5b30ae622b": {
      "model_module": "@jupyter-widgets/controls",
      "model_module_version": "1.5.0",
      "model_name": "HBoxModel",
      "state": {
       "children": [
        "IPY_MODEL_886e58404a724d4eaac9b8e5225e8be8",
        "IPY_MODEL_8194eba5dcc840398df0a272264c78bd",
        "IPY_MODEL_ed37bb53beb1478b98a7089772bfb82e"
       ],
       "layout": "IPY_MODEL_ab6a494b521840cf829bec688453a295"
      }
     },
     "2c1a9258ff7342afa3104417ba4b626d": {
      "model_module": "@jupyter-widgets/base",
      "model_module_version": "1.2.0",
      "model_name": "LayoutModel",
      "state": {}
     },
     "2c8d36aeaa9b44b4bcfa0e49777c97a8": {
      "model_module": "@jupyter-widgets/base",
      "model_module_version": "1.2.0",
      "model_name": "LayoutModel",
      "state": {}
     },
     "2cd5650f24b740fc8235d0a1477162b5": {
      "model_module": "@jupyter-widgets/base",
      "model_module_version": "1.2.0",
      "model_name": "LayoutModel",
      "state": {}
     },
     "2cf652a6b5d642f8a28a0e4456b7ea01": {
      "model_module": "@jupyter-widgets/controls",
      "model_module_version": "1.5.0",
      "model_name": "DescriptionStyleModel",
      "state": {
       "description_width": ""
      }
     },
     "2d1b997c42f14e5594e91b3ec653150b": {
      "model_module": "@jupyter-widgets/base",
      "model_module_version": "1.2.0",
      "model_name": "LayoutModel",
      "state": {}
     },
     "2d4e7833556249e6a7993f72fd152c19": {
      "model_module": "@jupyter-widgets/controls",
      "model_module_version": "1.5.0",
      "model_name": "HTMLModel",
      "state": {
       "layout": "IPY_MODEL_6fbc347c6bb1455190149471fa51c1e9",
       "style": "IPY_MODEL_093f693eed0a484d884c4b08ba06317f",
       "value": " 10000/10000 [00:01&lt;00:00, 7478.96it/s]"
      }
     },
     "2da71e6b75d04e368ac30c33a6da7222": {
      "model_module": "@jupyter-widgets/controls",
      "model_module_version": "1.5.0",
      "model_name": "HTMLModel",
      "state": {
       "layout": "IPY_MODEL_1a577dcd886b47ef863774669ab14943",
       "style": "IPY_MODEL_9bb157d28e3d4a089843bb9dea6cb71b",
       "value": "Writing sentences to sent_chunk_0052.txt: 100%"
      }
     },
     "2e2d9f2f37594ff3ac8e59ba79bd725a": {
      "model_module": "@jupyter-widgets/controls",
      "model_module_version": "1.5.0",
      "model_name": "HBoxModel",
      "state": {
       "children": [
        "IPY_MODEL_5bee561e13c547e7ba9e0ca1c4e7bb4d",
        "IPY_MODEL_c94759c680a04c619730db40c3546b27",
        "IPY_MODEL_8bb28b91a326405ea16bc8580b16d195"
       ],
       "layout": "IPY_MODEL_5737e6db299d464eb06f590e2dccd4e9"
      }
     },
     "2e308833c0b1421baf0b1ba48dd83470": {
      "model_module": "@jupyter-widgets/controls",
      "model_module_version": "1.5.0",
      "model_name": "DescriptionStyleModel",
      "state": {
       "description_width": ""
      }
     },
     "2e5dfd0fe0fa4bbebe46156b1b852409": {
      "model_module": "@jupyter-widgets/controls",
      "model_module_version": "1.5.0",
      "model_name": "FloatProgressModel",
      "state": {
       "bar_style": "success",
       "layout": "IPY_MODEL_290f1a66e98c45fb850174b48d8ef554",
       "max": 10000,
       "style": "IPY_MODEL_4cf5c39413184a0abd1bdc428fbed7ab",
       "value": 10000
      }
     },
     "2e6cde9789c743338c5dc8d16ff04720": {
      "model_module": "@jupyter-widgets/controls",
      "model_module_version": "1.5.0",
      "model_name": "DescriptionStyleModel",
      "state": {
       "description_width": ""
      }
     },
     "2ea6e9542996489d8fac3de4ffae7045": {
      "model_module": "@jupyter-widgets/controls",
      "model_module_version": "1.5.0",
      "model_name": "ProgressStyleModel",
      "state": {
       "description_width": ""
      }
     },
     "2f03a1eb848a4d679945a0759b7149f7": {
      "model_module": "@jupyter-widgets/base",
      "model_module_version": "1.2.0",
      "model_name": "LayoutModel",
      "state": {}
     },
     "2f49cbe4fe5c4a7ca78f2b0be9b81f9e": {
      "model_module": "@jupyter-widgets/controls",
      "model_module_version": "1.5.0",
      "model_name": "ProgressStyleModel",
      "state": {
       "description_width": ""
      }
     },
     "2f53784d8c3d4d638b5e095692ca4674": {
      "model_module": "@jupyter-widgets/controls",
      "model_module_version": "1.5.0",
      "model_name": "DescriptionStyleModel",
      "state": {
       "description_width": ""
      }
     },
     "2f5692da625b4bfea43a8b6afbbd823a": {
      "model_module": "@jupyter-widgets/base",
      "model_module_version": "1.2.0",
      "model_name": "LayoutModel",
      "state": {}
     },
     "2f9b051f83d0436bb744e602ce32d79e": {
      "model_module": "@jupyter-widgets/base",
      "model_module_version": "1.2.0",
      "model_name": "LayoutModel",
      "state": {}
     },
     "2fbfde5543bc45b9a016b211e0f81a4f": {
      "model_module": "@jupyter-widgets/controls",
      "model_module_version": "1.5.0",
      "model_name": "HBoxModel",
      "state": {
       "children": [
        "IPY_MODEL_6e71e2e4ddf548b3ba095b903e8ebaca",
        "IPY_MODEL_2b8c5b759e3b4758a24416c4bafc4013",
        "IPY_MODEL_36ab55437b494ec0b5b99701cc3329ce"
       ],
       "layout": "IPY_MODEL_d00b423cd2694dc885e92fe13b9bed36"
      }
     },
     "2fd771ef61454fefb0a220c62251e264": {
      "model_module": "@jupyter-widgets/base",
      "model_module_version": "1.2.0",
      "model_name": "LayoutModel",
      "state": {}
     },
     "30c14331d02d41e8a37beef8cf39d47c": {
      "model_module": "@jupyter-widgets/base",
      "model_module_version": "1.2.0",
      "model_name": "LayoutModel",
      "state": {}
     },
     "315606b062c442d7a8e01293aed4e650": {
      "model_module": "@jupyter-widgets/base",
      "model_module_version": "1.2.0",
      "model_name": "LayoutModel",
      "state": {}
     },
     "316b9348e79e4158a2ff4ce429e88a5f": {
      "model_module": "@jupyter-widgets/controls",
      "model_module_version": "1.5.0",
      "model_name": "ProgressStyleModel",
      "state": {
       "description_width": ""
      }
     },
     "31a6b203214b4ed6adb61b41b8742dfc": {
      "model_module": "@jupyter-widgets/base",
      "model_module_version": "1.2.0",
      "model_name": "LayoutModel",
      "state": {}
     },
     "31d80f9cfb3e410780091b2b26ed211c": {
      "model_module": "@jupyter-widgets/controls",
      "model_module_version": "1.5.0",
      "model_name": "DescriptionStyleModel",
      "state": {
       "description_width": ""
      }
     },
     "32675ecbf2e448e2835e3cdd61d4f52c": {
      "model_module": "@jupyter-widgets/controls",
      "model_module_version": "1.5.0",
      "model_name": "HTMLModel",
      "state": {
       "layout": "IPY_MODEL_f04eccfc751b4dd093c0455ccbdbe2f9",
       "style": "IPY_MODEL_d16404646129441c9de1828953ecefa5",
       "value": " 74%"
      }
     },
     "3280b849c1de4a53b8b116d524a7d5b9": {
      "model_module": "@jupyter-widgets/controls",
      "model_module_version": "1.5.0",
      "model_name": "FloatProgressModel",
      "state": {
       "bar_style": "success",
       "layout": "IPY_MODEL_983f9ffa59bb4c238dbf3537872ec762",
       "max": 10000,
       "style": "IPY_MODEL_6f07dbc300304f599a270f102c1f3a64",
       "value": 10000
      }
     },
     "32894dd632e24357a29a4c373047d010": {
      "model_module": "@jupyter-widgets/controls",
      "model_module_version": "1.5.0",
      "model_name": "HBoxModel",
      "state": {
       "children": [
        "IPY_MODEL_e5b1f8c76d9c49d88a9d3c2665fb8eeb",
        "IPY_MODEL_f1b89a0d1e004cf583e4b24c599c04c4",
        "IPY_MODEL_5eda21c9a98643899cefc47a0211b176"
       ],
       "layout": "IPY_MODEL_05ef68e2b1814db798d2c99b6e0bde9e"
      }
     },
     "32a4f1b2aa944b30a4e4be95f722d7ac": {
      "model_module": "@jupyter-widgets/base",
      "model_module_version": "1.2.0",
      "model_name": "LayoutModel",
      "state": {}
     },
     "32f54374905a4b95b859eca93bdf5aac": {
      "model_module": "@jupyter-widgets/controls",
      "model_module_version": "1.5.0",
      "model_name": "DescriptionStyleModel",
      "state": {
       "description_width": ""
      }
     },
     "33566e719f474e3683f7102438e0b9d2": {
      "model_module": "@jupyter-widgets/controls",
      "model_module_version": "1.5.0",
      "model_name": "FloatProgressModel",
      "state": {
       "bar_style": "success",
       "layout": "IPY_MODEL_6f3dfc5147b541a791df2f77f2a283f0",
       "max": 10000,
       "style": "IPY_MODEL_fddab80959074b4dab689d3658101836",
       "value": 10000
      }
     },
     "337f424f82e54a2d8c710fd9f5e1e2fd": {
      "model_module": "@jupyter-widgets/base",
      "model_module_version": "1.2.0",
      "model_name": "LayoutModel",
      "state": {}
     },
     "339c4916c67a4d2c84224465803369f7": {
      "model_module": "@jupyter-widgets/controls",
      "model_module_version": "1.5.0",
      "model_name": "DescriptionStyleModel",
      "state": {
       "description_width": ""
      }
     },
     "34db2858c47c4f149df52d99ddf9d499": {
      "model_module": "@jupyter-widgets/controls",
      "model_module_version": "1.5.0",
      "model_name": "DescriptionStyleModel",
      "state": {
       "description_width": ""
      }
     },
     "34fb05381c5240278c47a29f6338d83e": {
      "model_module": "@jupyter-widgets/controls",
      "model_module_version": "1.5.0",
      "model_name": "DescriptionStyleModel",
      "state": {
       "description_width": ""
      }
     },
     "35950b9ac89445038d7609a46605ef2b": {
      "model_module": "@jupyter-widgets/controls",
      "model_module_version": "1.5.0",
      "model_name": "ProgressStyleModel",
      "state": {
       "description_width": ""
      }
     },
     "35ab2d66d90c40369588d572d5ee0c95": {
      "model_module": "@jupyter-widgets/controls",
      "model_module_version": "1.5.0",
      "model_name": "HTMLModel",
      "state": {
       "layout": "IPY_MODEL_f644e8357cd546059a8591cb5046ac9c",
       "style": "IPY_MODEL_e9c4c6d51f2944148b45e44b1d8f919b",
       "value": "Writing sentences to sent_chunk_0043.txt: 100%"
      }
     },
     "35bb0bf9f1254246aa92eaebe0ff9176": {
      "model_module": "@jupyter-widgets/base",
      "model_module_version": "1.2.0",
      "model_name": "LayoutModel",
      "state": {}
     },
     "365ccd6cc44942aeba0ba245511a4919": {
      "model_module": "@jupyter-widgets/controls",
      "model_module_version": "1.5.0",
      "model_name": "DescriptionStyleModel",
      "state": {
       "description_width": ""
      }
     },
     "365eafd338064e75adec02816e872131": {
      "model_module": "@jupyter-widgets/base",
      "model_module_version": "1.2.0",
      "model_name": "LayoutModel",
      "state": {}
     },
     "36894347c2c741a0a4ab173e6dc7bbb0": {
      "model_module": "@jupyter-widgets/controls",
      "model_module_version": "1.5.0",
      "model_name": "DescriptionStyleModel",
      "state": {
       "description_width": ""
      }
     },
     "36a0c2d1a4ba4ea0bc6401f3e9ab54c1": {
      "model_module": "@jupyter-widgets/base",
      "model_module_version": "1.2.0",
      "model_name": "LayoutModel",
      "state": {}
     },
     "36ab55437b494ec0b5b99701cc3329ce": {
      "model_module": "@jupyter-widgets/controls",
      "model_module_version": "1.5.0",
      "model_name": "HTMLModel",
      "state": {
       "layout": "IPY_MODEL_a2da1acd7c7d495897e3e873d70d060d",
       "style": "IPY_MODEL_9846cc83995d4a2fa31f66f0ab218dfd",
       "value": " 10000/10000 [00:01&lt;00:00, 7539.40it/s]"
      }
     },
     "36cf03135c8b490cbf38f4126ee5cd0d": {
      "model_module": "@jupyter-widgets/controls",
      "model_module_version": "1.5.0",
      "model_name": "DescriptionStyleModel",
      "state": {
       "description_width": ""
      }
     },
     "36eaa45b4a4c43ed87cad91e153c30c4": {
      "model_module": "@jupyter-widgets/base",
      "model_module_version": "1.2.0",
      "model_name": "LayoutModel",
      "state": {}
     },
     "3768d1e5b1434c499c0902b4869f0b83": {
      "model_module": "@jupyter-widgets/base",
      "model_module_version": "1.2.0",
      "model_name": "LayoutModel",
      "state": {}
     },
     "3771b7e905a047e087ce526134bd6da7": {
      "model_module": "@jupyter-widgets/base",
      "model_module_version": "1.2.0",
      "model_name": "LayoutModel",
      "state": {}
     },
     "37a23db4311b42f588e6a0db1e1c9d7e": {
      "model_module": "@jupyter-widgets/controls",
      "model_module_version": "1.5.0",
      "model_name": "ProgressStyleModel",
      "state": {
       "description_width": ""
      }
     },
     "380d9d7d337144de9b973dbbc8c3ea46": {
      "model_module": "@jupyter-widgets/base",
      "model_module_version": "1.2.0",
      "model_name": "LayoutModel",
      "state": {}
     },
     "386b9f3a7f90420f9904534953e1ac3e": {
      "model_module": "@jupyter-widgets/controls",
      "model_module_version": "1.5.0",
      "model_name": "DescriptionStyleModel",
      "state": {
       "description_width": ""
      }
     },
     "3872906532524885915d5f001c6ecd4a": {
      "model_module": "@jupyter-widgets/controls",
      "model_module_version": "1.5.0",
      "model_name": "HTMLModel",
      "state": {
       "layout": "IPY_MODEL_bba9136a9d06488ca32a167347c9065c",
       "style": "IPY_MODEL_bd9ac13e816543f6a0668c7c8b3fe5d7",
       "value": " 10000/10000 [00:01&lt;00:00, 7457.73it/s]"
      }
     },
     "389ad92a05644d958bce67bccc219fa4": {
      "model_module": "@jupyter-widgets/controls",
      "model_module_version": "1.5.0",
      "model_name": "ProgressStyleModel",
      "state": {
       "description_width": ""
      }
     },
     "3910d43f91a7411db55bdf933744f0ac": {
      "model_module": "@jupyter-widgets/base",
      "model_module_version": "1.2.0",
      "model_name": "LayoutModel",
      "state": {}
     },
     "3962e183eab74ddbbcbf3ee12c546fe4": {
      "model_module": "@jupyter-widgets/controls",
      "model_module_version": "1.5.0",
      "model_name": "DescriptionStyleModel",
      "state": {
       "description_width": ""
      }
     },
     "3a1d99ed12774ad6ab55199fa5c4c56f": {
      "model_module": "@jupyter-widgets/controls",
      "model_module_version": "1.5.0",
      "model_name": "HTMLModel",
      "state": {
       "layout": "IPY_MODEL_92bf080f7003488793733dfd15db6134",
       "style": "IPY_MODEL_29e244fd2c2a4460ad3fa455942bec01",
       "value": " 10000/10000 [00:01&lt;00:00, 7568.07it/s]"
      }
     },
     "3af02fc8d26741c09739f361f3edab38": {
      "model_module": "@jupyter-widgets/base",
      "model_module_version": "1.2.0",
      "model_name": "LayoutModel",
      "state": {}
     },
     "3b32b6233c4c4e5aa78449902ee944d8": {
      "model_module": "@jupyter-widgets/controls",
      "model_module_version": "1.5.0",
      "model_name": "HTMLModel",
      "state": {
       "layout": "IPY_MODEL_d507a381a39847eca83e9036ef90e0a5",
       "style": "IPY_MODEL_9485ba021c894df894acb1daad7995ac",
       "value": "Writing sentences to sent_chunk_0041.txt: 100%"
      }
     },
     "3b5e98b191404f74ad23da0bdf063b8f": {
      "model_module": "@jupyter-widgets/controls",
      "model_module_version": "1.5.0",
      "model_name": "HTMLModel",
      "state": {
       "layout": "IPY_MODEL_1df11003f7fe4ef1b483fcaad51cc374",
       "style": "IPY_MODEL_3bb093239aa143f9ae2765db67a9a569",
       "value": " 10000/10000 [00:01&lt;00:00, 7381.95it/s]"
      }
     },
     "3b62605535c54c9a994ceb8fdfefaf19": {
      "model_module": "@jupyter-widgets/base",
      "model_module_version": "1.2.0",
      "model_name": "LayoutModel",
      "state": {}
     },
     "3bb093239aa143f9ae2765db67a9a569": {
      "model_module": "@jupyter-widgets/controls",
      "model_module_version": "1.5.0",
      "model_name": "DescriptionStyleModel",
      "state": {
       "description_width": ""
      }
     },
     "3bc5b3e604ab45189201e095be96e5a5": {
      "model_module": "@jupyter-widgets/controls",
      "model_module_version": "1.5.0",
      "model_name": "HTMLModel",
      "state": {
       "layout": "IPY_MODEL_56dbad5633f34daf8c5313c624baf6fc",
       "style": "IPY_MODEL_e4e72180c530405bb84f50ddc19b4fbc",
       "value": " 10000/10000 [00:01&lt;00:00, 7505.89it/s]"
      }
     },
     "3bcd3ee740c545b4a247d9bdfd6aabb3": {
      "model_module": "@jupyter-widgets/controls",
      "model_module_version": "1.5.0",
      "model_name": "DescriptionStyleModel",
      "state": {
       "description_width": ""
      }
     },
     "3bd1b129df87474c8edf8cd4b5dc7724": {
      "model_module": "@jupyter-widgets/controls",
      "model_module_version": "1.5.0",
      "model_name": "HTMLModel",
      "state": {
       "layout": "IPY_MODEL_1b028fa2bd8d427ca935e4cf7e36f3b0",
       "style": "IPY_MODEL_7512461fae924732a652d0b19d0045ec",
       "value": "sent_chunk_0009.txt: 100%"
      }
     },
     "3bd29586c800471e9d5d27877f928466": {
      "model_module": "@jupyter-widgets/base",
      "model_module_version": "1.2.0",
      "model_name": "LayoutModel",
      "state": {}
     },
     "3bfd5809526f481f93bc46b45469caa6": {
      "model_module": "@jupyter-widgets/controls",
      "model_module_version": "1.5.0",
      "model_name": "DescriptionStyleModel",
      "state": {
       "description_width": ""
      }
     },
     "3c3279860c6f4ebb8877a50461eb0255": {
      "model_module": "@jupyter-widgets/base",
      "model_module_version": "1.2.0",
      "model_name": "LayoutModel",
      "state": {}
     },
     "3c55b70b47664f7292e4932796f95056": {
      "model_module": "@jupyter-widgets/controls",
      "model_module_version": "1.5.0",
      "model_name": "FloatProgressModel",
      "state": {
       "bar_style": "success",
       "layout": "IPY_MODEL_5c532eb4885943728baf0b5a8eea6f61",
       "max": 10000,
       "style": "IPY_MODEL_db2476b10da84e8b878e8c644e1cc67d",
       "value": 10000
      }
     },
     "3cbba1a552224fe89a32daa9d3cc9d46": {
      "model_module": "@jupyter-widgets/controls",
      "model_module_version": "1.5.0",
      "model_name": "ProgressStyleModel",
      "state": {
       "description_width": ""
      }
     },
     "3cc758bca82a4cf09be81a7a7e04acdd": {
      "model_module": "@jupyter-widgets/base",
      "model_module_version": "1.2.0",
      "model_name": "LayoutModel",
      "state": {}
     },
     "3cff79535ad448b08392db2c7bbd8f40": {
      "model_module": "@jupyter-widgets/controls",
      "model_module_version": "1.5.0",
      "model_name": "HBoxModel",
      "state": {
       "children": [
        "IPY_MODEL_192cb07eacfb461398caf4f65229ee28",
        "IPY_MODEL_582c78ac42404d35b79f06ad5992ee0c",
        "IPY_MODEL_b128da9de1974273a1b5f7227d52cb63"
       ],
       "layout": "IPY_MODEL_f51402584bbb43188d6f0eb0040bd78e"
      }
     },
     "3d151860318544148caba589007f51d1": {
      "model_module": "@jupyter-widgets/base",
      "model_module_version": "1.2.0",
      "model_name": "LayoutModel",
      "state": {}
     },
     "3d154498783a444aa2ac45949474f61e": {
      "model_module": "@jupyter-widgets/controls",
      "model_module_version": "1.5.0",
      "model_name": "FloatProgressModel",
      "state": {
       "bar_style": "success",
       "layout": "IPY_MODEL_006eed8f29204a17a23b524752719de9",
       "max": 10000,
       "style": "IPY_MODEL_92fdf5eb52294409bbac202fd49987f2",
       "value": 10000
      }
     },
     "3d22881b97ef4858b1190445e17c90a9": {
      "model_module": "@jupyter-widgets/controls",
      "model_module_version": "1.5.0",
      "model_name": "HTMLModel",
      "state": {
       "layout": "IPY_MODEL_7a2cc6251f0346c9b6af24062c6218bd",
       "style": "IPY_MODEL_67cbf7a13bab4a77ac1eca6adcfff05c",
       "value": "sent_chunk_0043.txt: 100%"
      }
     },
     "3d86182bc76e4b2a9ec5ae34e5215ab3": {
      "model_module": "@jupyter-widgets/base",
      "model_module_version": "1.2.0",
      "model_name": "LayoutModel",
      "state": {}
     },
     "3dc6006b853c4fef872b7cd738d2b5a9": {
      "model_module": "@jupyter-widgets/controls",
      "model_module_version": "1.5.0",
      "model_name": "HTMLModel",
      "state": {
       "layout": "IPY_MODEL_6efa91b7be564d19a89c6d6e4dd00c45",
       "style": "IPY_MODEL_557dc31bec7e4cf283031e23778dcee0",
       "value": " 10000/10000 [00:01&lt;00:00, 7640.96it/s]"
      }
     },
     "3e26d1f31d0e4c7cba669578744975ef": {
      "model_module": "@jupyter-widgets/base",
      "model_module_version": "1.2.0",
      "model_name": "LayoutModel",
      "state": {}
     },
     "3e947d4fec984c6594342e1edc0f8c87": {
      "model_module": "@jupyter-widgets/base",
      "model_module_version": "1.2.0",
      "model_name": "LayoutModel",
      "state": {}
     },
     "3ec47e5ee0254929b93598e863e96dc6": {
      "model_module": "@jupyter-widgets/controls",
      "model_module_version": "1.5.0",
      "model_name": "FloatProgressModel",
      "state": {
       "bar_style": "success",
       "layout": "IPY_MODEL_7e2ec347906d4f4a976c7e72c5ebb31e",
       "max": 10000,
       "style": "IPY_MODEL_9721b976597d4de9b5efbe4277c4809d",
       "value": 10000
      }
     },
     "3ef70cb6146e419482493e1656dfcf7e": {
      "model_module": "@jupyter-widgets/base",
      "model_module_version": "1.2.0",
      "model_name": "LayoutModel",
      "state": {}
     },
     "3f2a273568ff480b833f1844b4f21db7": {
      "model_module": "@jupyter-widgets/base",
      "model_module_version": "1.2.0",
      "model_name": "LayoutModel",
      "state": {}
     },
     "3f30012b4c3841d39af40031a75286bb": {
      "model_module": "@jupyter-widgets/controls",
      "model_module_version": "1.5.0",
      "model_name": "HTMLModel",
      "state": {
       "layout": "IPY_MODEL_8f530691ec554a23be6bb6cdef21f482",
       "style": "IPY_MODEL_386b9f3a7f90420f9904534953e1ac3e",
       "value": "Writing sentences to sent_chunk_0055.txt: 100%"
      }
     },
     "3fc7ec99131a4271a04ad204b7b2a305": {
      "model_module": "@jupyter-widgets/controls",
      "model_module_version": "1.5.0",
      "model_name": "FloatProgressModel",
      "state": {
       "bar_style": "success",
       "layout": "IPY_MODEL_3b62605535c54c9a994ceb8fdfefaf19",
       "max": 10000,
       "style": "IPY_MODEL_4dcb735ca8b54eefb5e25e9544f736e9",
       "value": 10000
      }
     },
     "3fde02a457fa410c915bb5e5bf906203": {
      "model_module": "@jupyter-widgets/base",
      "model_module_version": "1.2.0",
      "model_name": "LayoutModel",
      "state": {}
     },
     "401142091e064d019e336aee27091d21": {
      "model_module": "@jupyter-widgets/base",
      "model_module_version": "1.2.0",
      "model_name": "LayoutModel",
      "state": {}
     },
     "4047d7c33f624a6aa99a06080e799926": {
      "model_module": "@jupyter-widgets/base",
      "model_module_version": "1.2.0",
      "model_name": "LayoutModel",
      "state": {}
     },
     "405422babc9f4e19a64ff3e73e22f6ff": {
      "model_module": "@jupyter-widgets/controls",
      "model_module_version": "1.5.0",
      "model_name": "DescriptionStyleModel",
      "state": {
       "description_width": ""
      }
     },
     "4055d6376e6a439eb25f2ce2c7d049b5": {
      "model_module": "@jupyter-widgets/controls",
      "model_module_version": "1.5.0",
      "model_name": "DescriptionStyleModel",
      "state": {
       "description_width": ""
      }
     },
     "4059b562323845c18a9dfc98b2f07b39": {
      "model_module": "@jupyter-widgets/base",
      "model_module_version": "1.2.0",
      "model_name": "LayoutModel",
      "state": {}
     },
     "407052e1cc1b4f9d80b96677c5448c84": {
      "model_module": "@jupyter-widgets/controls",
      "model_module_version": "1.5.0",
      "model_name": "HTMLModel",
      "state": {
       "layout": "IPY_MODEL_19d5a6a15f784480b62966144e137e0d",
       "style": "IPY_MODEL_caea583698e0494fb93f1dac1882dd3e",
       "value": "Writing sentences to sent_chunk_0009.txt: 100%"
      }
     },
     "40b5a8bcdd1d45aabaf6dbc21e38eb59": {
      "model_module": "@jupyter-widgets/base",
      "model_module_version": "1.2.0",
      "model_name": "LayoutModel",
      "state": {}
     },
     "40bce43d17c249bb966342a62445cb9c": {
      "model_module": "@jupyter-widgets/base",
      "model_module_version": "1.2.0",
      "model_name": "LayoutModel",
      "state": {}
     },
     "40ee720f7f194525b7f28a50785be7e9": {
      "model_module": "@jupyter-widgets/controls",
      "model_module_version": "1.5.0",
      "model_name": "HBoxModel",
      "state": {
       "children": [
        "IPY_MODEL_d7309beda9a74b488fb05e60a2026bc2",
        "IPY_MODEL_6a36560f4ae44ec1a4a67db06b172294",
        "IPY_MODEL_bb9d16b13b574f2fa7ca2dfedfa5ba48"
       ],
       "layout": "IPY_MODEL_90f5af3c64314d348c8804450cf8daef"
      }
     },
     "410e3c5e25e14061aad7646216b6ce82": {
      "model_module": "@jupyter-widgets/controls",
      "model_module_version": "1.5.0",
      "model_name": "HTMLModel",
      "state": {
       "layout": "IPY_MODEL_da26e758b7644a16b0be5d7e5389e5f0",
       "style": "IPY_MODEL_d94a4da9254c4f358e3c75bbcb6a9e22",
       "value": "sent_chunk_0035.txt: 100%"
      }
     },
     "4155a9e117264ce18c964af0966cf17e": {
      "model_module": "@jupyter-widgets/controls",
      "model_module_version": "1.5.0",
      "model_name": "DescriptionStyleModel",
      "state": {
       "description_width": ""
      }
     },
     "418ac4fdc42f4b669b70f6cab6a56e44": {
      "model_module": "@jupyter-widgets/base",
      "model_module_version": "1.2.0",
      "model_name": "LayoutModel",
      "state": {}
     },
     "41b39de4a537424691a25448e7172d0c": {
      "model_module": "@jupyter-widgets/controls",
      "model_module_version": "1.5.0",
      "model_name": "HTMLModel",
      "state": {
       "layout": "IPY_MODEL_4a4c65d37efc452fba691edc25da7a84",
       "style": "IPY_MODEL_5c3b005c769d4291849c6cdb41ea019a",
       "value": " 10000/10000 [00:01&lt;00:00, 7392.08it/s]"
      }
     },
     "41b45bf3e99b4d539eff75e15d51da9b": {
      "model_module": "@jupyter-widgets/controls",
      "model_module_version": "1.5.0",
      "model_name": "DescriptionStyleModel",
      "state": {
       "description_width": ""
      }
     },
     "41bf9e2725cf45678c5e9bdd6aff1d65": {
      "model_module": "@jupyter-widgets/controls",
      "model_module_version": "1.5.0",
      "model_name": "ProgressStyleModel",
      "state": {
       "description_width": ""
      }
     },
     "41cd4c8c87844c62b01e42ddd325a265": {
      "model_module": "@jupyter-widgets/controls",
      "model_module_version": "1.5.0",
      "model_name": "DescriptionStyleModel",
      "state": {
       "description_width": ""
      }
     },
     "42920453861140eebc6755e8ec95fb09": {
      "model_module": "@jupyter-widgets/base",
      "model_module_version": "1.2.0",
      "model_name": "LayoutModel",
      "state": {}
     },
     "42a76683e5fc4ead823135ce0788fd12": {
      "model_module": "@jupyter-widgets/controls",
      "model_module_version": "1.5.0",
      "model_name": "ProgressStyleModel",
      "state": {
       "description_width": ""
      }
     },
     "42b611b05f984e67ad251782a73f545f": {
      "model_module": "@jupyter-widgets/controls",
      "model_module_version": "1.5.0",
      "model_name": "DescriptionStyleModel",
      "state": {
       "description_width": ""
      }
     },
     "42f9a8ebec844c52ab86380013ea4157": {
      "model_module": "@jupyter-widgets/controls",
      "model_module_version": "1.5.0",
      "model_name": "HTMLModel",
      "state": {
       "layout": "IPY_MODEL_c1e76f53ce19483ab20109564638233e",
       "style": "IPY_MODEL_8c30a76faf9b4e999ebfc5c2e9387ab6",
       "value": " 10000/10000 [00:01&lt;00:00, 7286.81it/s]"
      }
     },
     "430339acbbd94f80a394ed236c10fb16": {
      "model_module": "@jupyter-widgets/controls",
      "model_module_version": "1.5.0",
      "model_name": "HBoxModel",
      "state": {
       "children": [
        "IPY_MODEL_8fd2640be15f40deb90443577050262f",
        "IPY_MODEL_f8288c00dc4247089aac620d508358de",
        "IPY_MODEL_1f2310ed30604e5f9ceeb211bcadb27f"
       ],
       "layout": "IPY_MODEL_4c113918efbd4fa4809460bb7e0a78de"
      }
     },
     "4316d89a1a144ba59532ae16c42e9174": {
      "model_module": "@jupyter-widgets/base",
      "model_module_version": "1.2.0",
      "model_name": "LayoutModel",
      "state": {}
     },
     "43332d93cbc04d479091e1ac1cc642aa": {
      "model_module": "@jupyter-widgets/base",
      "model_module_version": "1.2.0",
      "model_name": "LayoutModel",
      "state": {}
     },
     "434079e4727f4c95aa7d1b8909915b83": {
      "model_module": "@jupyter-widgets/controls",
      "model_module_version": "1.5.0",
      "model_name": "HTMLModel",
      "state": {
       "layout": "IPY_MODEL_2fd771ef61454fefb0a220c62251e264",
       "style": "IPY_MODEL_1908f3d7d77b47909354e5d7d2861911",
       "value": " 10000/10000 [00:01&lt;00:00, 7515.77it/s]"
      }
     },
     "43682044d7d447aeae868917f97bf151": {
      "model_module": "@jupyter-widgets/controls",
      "model_module_version": "1.5.0",
      "model_name": "ProgressStyleModel",
      "state": {
       "description_width": ""
      }
     },
     "43762f3c8f5945e79a07818d330f87f8": {
      "model_module": "@jupyter-widgets/controls",
      "model_module_version": "1.5.0",
      "model_name": "HTMLModel",
      "state": {
       "layout": "IPY_MODEL_adb309fa44814371a19c7e83045c56b6",
       "style": "IPY_MODEL_96f05d91117e49b4b0e154c817a5dc01",
       "value": "Writing sentences to sent_chunk_0032.txt: 100%"
      }
     },
     "43f79eb7105c4668bbdeeed742b464bf": {
      "model_module": "@jupyter-widgets/base",
      "model_module_version": "1.2.0",
      "model_name": "LayoutModel",
      "state": {}
     },
     "44190b4c9bff49f4bb26ce2ab754e6b2": {
      "model_module": "@jupyter-widgets/controls",
      "model_module_version": "1.5.0",
      "model_name": "HTMLModel",
      "state": {
       "layout": "IPY_MODEL_01c97d1608314954bb78c55072952c6d",
       "style": "IPY_MODEL_3bfd5809526f481f93bc46b45469caa6",
       "value": " 10000/10000 [00:01&lt;00:00, 7122.37it/s]"
      }
     },
     "441a39d376f64f9b9db4907fecc4658b": {
      "model_module": "@jupyter-widgets/controls",
      "model_module_version": "1.5.0",
      "model_name": "HTMLModel",
      "state": {
       "layout": "IPY_MODEL_337f424f82e54a2d8c710fd9f5e1e2fd",
       "style": "IPY_MODEL_34fb05381c5240278c47a29f6338d83e",
       "value": "sent_chunk_0040.txt: 100%"
      }
     },
     "447b7a679a0643f088a61b83bdf8485a": {
      "model_module": "@jupyter-widgets/base",
      "model_module_version": "1.2.0",
      "model_name": "LayoutModel",
      "state": {}
     },
     "4496947d5806484fba171c997de976a1": {
      "model_module": "@jupyter-widgets/controls",
      "model_module_version": "1.5.0",
      "model_name": "ProgressStyleModel",
      "state": {
       "description_width": ""
      }
     },
     "44a34fa7c8f4446aa034d4075b16cda9": {
      "model_module": "@jupyter-widgets/base",
      "model_module_version": "1.2.0",
      "model_name": "LayoutModel",
      "state": {}
     },
     "44f02ecaa13f4e029af393a554db2a8d": {
      "model_module": "@jupyter-widgets/controls",
      "model_module_version": "1.5.0",
      "model_name": "FloatProgressModel",
      "state": {
       "bar_style": "success",
       "layout": "IPY_MODEL_c593bc83356b4aa5bf6d49ef4b930fa5",
       "max": 10000,
       "style": "IPY_MODEL_03a00c6d77e8491b8efb94ffc5a2c74d",
       "value": 10000
      }
     },
     "453d300e84a541e08db565a85c750721": {
      "model_module": "@jupyter-widgets/controls",
      "model_module_version": "1.5.0",
      "model_name": "ProgressStyleModel",
      "state": {
       "description_width": ""
      }
     },
     "4549d57629c248e4909bec7523253b19": {
      "model_module": "@jupyter-widgets/base",
      "model_module_version": "1.2.0",
      "model_name": "LayoutModel",
      "state": {}
     },
     "455b6e561a214ad0b7a28f8c58d3c1f4": {
      "model_module": "@jupyter-widgets/base",
      "model_module_version": "1.2.0",
      "model_name": "LayoutModel",
      "state": {}
     },
     "455e7ccc4e4b47ef9ce48d290bae01a0": {
      "model_module": "@jupyter-widgets/base",
      "model_module_version": "1.2.0",
      "model_name": "LayoutModel",
      "state": {}
     },
     "45ab558d1c70498f9b1c06cdc7670d1c": {
      "model_module": "@jupyter-widgets/controls",
      "model_module_version": "1.5.0",
      "model_name": "DescriptionStyleModel",
      "state": {
       "description_width": ""
      }
     },
     "45ed09ad53254e9d80052216e35ccab6": {
      "model_module": "@jupyter-widgets/controls",
      "model_module_version": "1.5.0",
      "model_name": "HTMLModel",
      "state": {
       "layout": "IPY_MODEL_7acec57f3a464a56a6b4ae4bc47d422f",
       "style": "IPY_MODEL_d90fd03f7b814420b9b20dc158098276",
       "value": "Writing sentences to sent_chunk_0015.txt: 100%"
      }
     },
     "45f0a3d1e4f041c9bd59f3b0d03e223f": {
      "model_module": "@jupyter-widgets/controls",
      "model_module_version": "1.5.0",
      "model_name": "DescriptionStyleModel",
      "state": {
       "description_width": ""
      }
     },
     "462257b3265f4b50af3001af689a4c1e": {
      "model_module": "@jupyter-widgets/controls",
      "model_module_version": "1.5.0",
      "model_name": "HBoxModel",
      "state": {
       "children": [
        "IPY_MODEL_dcafbe6775ee4df18523c168a8a647f6",
        "IPY_MODEL_cb1c7f8dbc8141b19edb1dea11e5b0a3",
        "IPY_MODEL_12e79fc3b6c54c6098e49b9cf9ce2f01"
       ],
       "layout": "IPY_MODEL_aed2b9b701ab48428a4d2c6949e02e7c"
      }
     },
     "468a9b71b0124c93a376a9d5cc9dd34f": {
      "model_module": "@jupyter-widgets/base",
      "model_module_version": "1.2.0",
      "model_name": "LayoutModel",
      "state": {}
     },
     "46c640d0da50437294d1f8b3842b86c1": {
      "model_module": "@jupyter-widgets/controls",
      "model_module_version": "1.5.0",
      "model_name": "HBoxModel",
      "state": {
       "children": [
        "IPY_MODEL_e4983cfb8bf64ebda48cd2dc2b058d29",
        "IPY_MODEL_48ba760a07e248618460b5c3f1647757",
        "IPY_MODEL_1c164a8ff1614bafa8227f150ab5ae3a"
       ],
       "layout": "IPY_MODEL_0a6a3c01f9184094aa24f2632f5648b0"
      }
     },
     "46f4ff1402be43d094bcdc9556e145a5": {
      "model_module": "@jupyter-widgets/base",
      "model_module_version": "1.2.0",
      "model_name": "LayoutModel",
      "state": {}
     },
     "4772cdf4916a407aa637ea42beea0460": {
      "model_module": "@jupyter-widgets/base",
      "model_module_version": "1.2.0",
      "model_name": "LayoutModel",
      "state": {}
     },
     "4778d0b96acf418da39b13556bb297f6": {
      "model_module": "@jupyter-widgets/controls",
      "model_module_version": "1.5.0",
      "model_name": "FloatProgressModel",
      "state": {
       "bar_style": "success",
       "layout": "IPY_MODEL_07deceb36a844dc79811f41fde01018e",
       "max": 10000,
       "style": "IPY_MODEL_82f4e36c8ab74556a59b5db6ad714acc",
       "value": 10000
      }
     },
     "47890460b9c24d1ebe4611ee7d0ee556": {
      "model_module": "@jupyter-widgets/controls",
      "model_module_version": "1.5.0",
      "model_name": "HTMLModel",
      "state": {
       "layout": "IPY_MODEL_25647cd12ace4d5db81a7aa04f2795af",
       "style": "IPY_MODEL_ea9e04266b284cb5b2a4d33c0e6807c7",
       "value": "Writing sentences to sent_chunk_0059.txt: 100%"
      }
     },
     "47fd6a28a1a54a4e982a4545abf5cd90": {
      "model_module": "@jupyter-widgets/controls",
      "model_module_version": "1.5.0",
      "model_name": "HBoxModel",
      "state": {
       "children": [
        "IPY_MODEL_9ca50a1c131d4cbeb381aa405b856c84",
        "IPY_MODEL_91b7edd99399451597299955daa2c325",
        "IPY_MODEL_f15939363500453b9b5df7a546882963"
       ],
       "layout": "IPY_MODEL_4d7d2f0e68054986ae37565c27a1a0ed"
      }
     },
     "48651a1ec0b94e0cb9c221ca147dbfbc": {
      "model_module": "@jupyter-widgets/controls",
      "model_module_version": "1.5.0",
      "model_name": "DescriptionStyleModel",
      "state": {
       "description_width": ""
      }
     },
     "48ba760a07e248618460b5c3f1647757": {
      "model_module": "@jupyter-widgets/controls",
      "model_module_version": "1.5.0",
      "model_name": "FloatProgressModel",
      "state": {
       "bar_style": "success",
       "layout": "IPY_MODEL_2d1b997c42f14e5594e91b3ec653150b",
       "max": 10000,
       "style": "IPY_MODEL_d27867807ef04cac9b7ffa0ce93cac97",
       "value": 10000
      }
     },
     "4901dd1321ea4424abfc5b62b1fbda14": {
      "model_module": "@jupyter-widgets/base",
      "model_module_version": "1.2.0",
      "model_name": "LayoutModel",
      "state": {}
     },
     "493a2a9f8e06406abad5744d13de2ec6": {
      "model_module": "@jupyter-widgets/controls",
      "model_module_version": "1.5.0",
      "model_name": "FloatProgressModel",
      "state": {
       "bar_style": "success",
       "layout": "IPY_MODEL_69dabeb6240a4e3d965dc6a3df025680",
       "max": 10000,
       "style": "IPY_MODEL_a863fc8ac22c40a3b4701cd50a974470",
       "value": 10000
      }
     },
     "493f584838454c578a7a5b019f4f796a": {
      "model_module": "@jupyter-widgets/controls",
      "model_module_version": "1.5.0",
      "model_name": "HTMLModel",
      "state": {
       "layout": "IPY_MODEL_12b1a6542cb3474890c6c72412bde863",
       "style": "IPY_MODEL_840e53d86d9f4c90bbdd715f16a0abfb",
       "value": "Writing sentences to sent_chunk_0025.txt: 100%"
      }
     },
     "496bbb2ab9664240bfc75f46e445bdf1": {
      "model_module": "@jupyter-widgets/base",
      "model_module_version": "1.2.0",
      "model_name": "LayoutModel",
      "state": {}
     },
     "498a3a99685a4327b8d8fbe78f399161": {
      "model_module": "@jupyter-widgets/controls",
      "model_module_version": "1.5.0",
      "model_name": "HBoxModel",
      "state": {
       "children": [
        "IPY_MODEL_680df4d7a82647339cf46024c7ca7cbd",
        "IPY_MODEL_012431ec61bd4fe083e56d2dba2f7e07",
        "IPY_MODEL_bd5be733bb6344648c3d512829f25e02"
       ],
       "layout": "IPY_MODEL_c31bd1facfd84149af12c73195911176"
      }
     },
     "49ea3a612943467cba7c38104cbdcd26": {
      "model_module": "@jupyter-widgets/controls",
      "model_module_version": "1.5.0",
      "model_name": "HBoxModel",
      "state": {
       "children": [
        "IPY_MODEL_32675ecbf2e448e2835e3cdd61d4f52c",
        "IPY_MODEL_82bdde60b15340708322df027ae74008",
        "IPY_MODEL_f60661d32c2f4e219ce9daae263df771"
       ],
       "layout": "IPY_MODEL_aca47c2b021e43f9a3f9999794382b33"
      }
     },
     "4a226add3aff49cf81dd8b66c874c314": {
      "model_module": "@jupyter-widgets/base",
      "model_module_version": "1.2.0",
      "model_name": "LayoutModel",
      "state": {}
     },
     "4a4c65d37efc452fba691edc25da7a84": {
      "model_module": "@jupyter-widgets/base",
      "model_module_version": "1.2.0",
      "model_name": "LayoutModel",
      "state": {}
     },
     "4a80a151b1cb492ba8f6f2b518af33e0": {
      "model_module": "@jupyter-widgets/controls",
      "model_module_version": "1.5.0",
      "model_name": "HTMLModel",
      "state": {
       "layout": "IPY_MODEL_182c09963e7b4ec39061ce05c9d1a459",
       "style": "IPY_MODEL_194ac65fa5ea4146b3c01aa3d4c43cef",
       "value": " 10000/10000 [00:01&lt;00:00, 7593.19it/s]"
      }
     },
     "4b0aada47e62430ba893d2044df13146": {
      "model_module": "@jupyter-widgets/base",
      "model_module_version": "1.2.0",
      "model_name": "LayoutModel",
      "state": {}
     },
     "4bc554f049c84426b219cf04612f531b": {
      "model_module": "@jupyter-widgets/controls",
      "model_module_version": "1.5.0",
      "model_name": "HTMLModel",
      "state": {
       "layout": "IPY_MODEL_6d1c6e7565ed4e79a94264e037c475a0",
       "style": "IPY_MODEL_57bc0b9ae04d48e49f0f57ae850f8ea3",
       "value": "Writing sentences to sent_chunk_0030.txt: 100%"
      }
     },
     "4be3fb8198c046248f8f87d0ec31d37f": {
      "model_module": "@jupyter-widgets/base",
      "model_module_version": "1.2.0",
      "model_name": "LayoutModel",
      "state": {}
     },
     "4be40b4feb7e49e19ab6e311d3cd9527": {
      "model_module": "@jupyter-widgets/controls",
      "model_module_version": "1.5.0",
      "model_name": "HBoxModel",
      "state": {
       "children": [
        "IPY_MODEL_082ba9773b344598bde28ca32773d9af",
        "IPY_MODEL_a1b580aff50c4b9bb2038da5daad692b",
        "IPY_MODEL_012f0d75f33f43e4bff653fa57600c45"
       ],
       "layout": "IPY_MODEL_e05db058e2734eee8c6123fe6ce86a03"
      }
     },
     "4c0df699cfac4d088d7e8e4f2b78d91c": {
      "model_module": "@jupyter-widgets/base",
      "model_module_version": "1.2.0",
      "model_name": "LayoutModel",
      "state": {}
     },
     "4c113918efbd4fa4809460bb7e0a78de": {
      "model_module": "@jupyter-widgets/base",
      "model_module_version": "1.2.0",
      "model_name": "LayoutModel",
      "state": {}
     },
     "4c1b9c918902443bbd898b70b8116b71": {
      "model_module": "@jupyter-widgets/base",
      "model_module_version": "1.2.0",
      "model_name": "LayoutModel",
      "state": {}
     },
     "4c2c9b4b330a4c4daabdd0fcbec14f11": {
      "model_module": "@jupyter-widgets/controls",
      "model_module_version": "1.5.0",
      "model_name": "DescriptionStyleModel",
      "state": {
       "description_width": ""
      }
     },
     "4ca24211fccf41d89098ffb2445a01d0": {
      "model_module": "@jupyter-widgets/base",
      "model_module_version": "1.2.0",
      "model_name": "LayoutModel",
      "state": {}
     },
     "4cbf3f79a1764e92b916b3c6c5e606a0": {
      "model_module": "@jupyter-widgets/base",
      "model_module_version": "1.2.0",
      "model_name": "LayoutModel",
      "state": {}
     },
     "4cdbd61725924ecc8aff930144adc619": {
      "model_module": "@jupyter-widgets/controls",
      "model_module_version": "1.5.0",
      "model_name": "DescriptionStyleModel",
      "state": {
       "description_width": ""
      }
     },
     "4cf5c39413184a0abd1bdc428fbed7ab": {
      "model_module": "@jupyter-widgets/controls",
      "model_module_version": "1.5.0",
      "model_name": "ProgressStyleModel",
      "state": {
       "description_width": ""
      }
     },
     "4d7d2f0e68054986ae37565c27a1a0ed": {
      "model_module": "@jupyter-widgets/base",
      "model_module_version": "1.2.0",
      "model_name": "LayoutModel",
      "state": {}
     },
     "4dcb735ca8b54eefb5e25e9544f736e9": {
      "model_module": "@jupyter-widgets/controls",
      "model_module_version": "1.5.0",
      "model_name": "ProgressStyleModel",
      "state": {
       "description_width": ""
      }
     },
     "4dd331b784fa4131b562810a7635a60d": {
      "model_module": "@jupyter-widgets/base",
      "model_module_version": "1.2.0",
      "model_name": "LayoutModel",
      "state": {}
     },
     "4ddf7c6e467e4063b2c932018126a3f5": {
      "model_module": "@jupyter-widgets/base",
      "model_module_version": "1.2.0",
      "model_name": "LayoutModel",
      "state": {}
     },
     "4e116eedd19a44de9ef0a65e4d429c37": {
      "model_module": "@jupyter-widgets/base",
      "model_module_version": "1.2.0",
      "model_name": "LayoutModel",
      "state": {}
     },
     "4e2d2d297951408580aafa4cfa392e29": {
      "model_module": "@jupyter-widgets/base",
      "model_module_version": "1.2.0",
      "model_name": "LayoutModel",
      "state": {}
     },
     "4e35edee8fc347ca9fe5a09bf8bdaa9a": {
      "model_module": "@jupyter-widgets/controls",
      "model_module_version": "1.5.0",
      "model_name": "DescriptionStyleModel",
      "state": {
       "description_width": ""
      }
     },
     "4eabaf5f0a09499696a5dec5a685a4f0": {
      "model_module": "@jupyter-widgets/controls",
      "model_module_version": "1.5.0",
      "model_name": "HTMLModel",
      "state": {
       "layout": "IPY_MODEL_1e39dc17383945fdadbb4f7509232212",
       "style": "IPY_MODEL_6434453b50f44abd800b1007e82dad64",
       "value": "sent_chunk_0005.txt: 100%"
      }
     },
     "4ef9c72157ee4412966ee85a2487d55c": {
      "model_module": "@jupyter-widgets/controls",
      "model_module_version": "1.5.0",
      "model_name": "HBoxModel",
      "state": {
       "children": [
        "IPY_MODEL_6391b3b70cdd446abdf8c9cda876ee65",
        "IPY_MODEL_d8d7a97990e64b82b7e31d1a8c6bf19f",
        "IPY_MODEL_3dc6006b853c4fef872b7cd738d2b5a9"
       ],
       "layout": "IPY_MODEL_5fb1e21655744dd1bc4f191443db9355"
      }
     },
     "4f256d1decfb4751839a5b4135f69079": {
      "model_module": "@jupyter-widgets/base",
      "model_module_version": "1.2.0",
      "model_name": "LayoutModel",
      "state": {}
     },
     "4f5d56a526ff4b4c9ad784389c72e614": {
      "model_module": "@jupyter-widgets/controls",
      "model_module_version": "1.5.0",
      "model_name": "DescriptionStyleModel",
      "state": {
       "description_width": ""
      }
     },
     "4f9bed7d7cc94d96b909237d65c9083b": {
      "model_module": "@jupyter-widgets/controls",
      "model_module_version": "1.5.0",
      "model_name": "HTMLModel",
      "state": {
       "layout": "IPY_MODEL_915a16e0690f4bbead2c0b87d45f7f95",
       "style": "IPY_MODEL_6699a570d8664a299aaeafa4c0ce8b65",
       "value": "Writing sentences to sent_chunk_0042.txt: 100%"
      }
     },
     "4fab6bb2a2714bbe83a014d389ff6626": {
      "model_module": "@jupyter-widgets/base",
      "model_module_version": "1.2.0",
      "model_name": "LayoutModel",
      "state": {}
     },
     "4fbd3ac14ca64689aa2ca348ad6621fa": {
      "model_module": "@jupyter-widgets/base",
      "model_module_version": "1.2.0",
      "model_name": "LayoutModel",
      "state": {}
     },
     "4fc90312320d418289d8412aa585dabe": {
      "model_module": "@jupyter-widgets/controls",
      "model_module_version": "1.5.0",
      "model_name": "DescriptionStyleModel",
      "state": {
       "description_width": ""
      }
     },
     "4fcc94e93e6e4f568fd8e3b8d1c1c0ab": {
      "model_module": "@jupyter-widgets/base",
      "model_module_version": "1.2.0",
      "model_name": "LayoutModel",
      "state": {}
     },
     "4fe10017953c411ca24fc5d1c540d48f": {
      "model_module": "@jupyter-widgets/base",
      "model_module_version": "1.2.0",
      "model_name": "LayoutModel",
      "state": {}
     },
     "4fff138b60d64506802420a8124d74bb": {
      "model_module": "@jupyter-widgets/controls",
      "model_module_version": "1.5.0",
      "model_name": "DescriptionStyleModel",
      "state": {
       "description_width": ""
      }
     },
     "50055dc922ff4637946781cd6c35a5b8": {
      "model_module": "@jupyter-widgets/controls",
      "model_module_version": "1.5.0",
      "model_name": "ProgressStyleModel",
      "state": {
       "description_width": ""
      }
     },
     "50bc6077b75a4810867663296cb3af7c": {
      "model_module": "@jupyter-widgets/controls",
      "model_module_version": "1.5.0",
      "model_name": "ProgressStyleModel",
      "state": {
       "description_width": ""
      }
     },
     "50ecaf473ac3426a867ee3f4b8e0c13c": {
      "model_module": "@jupyter-widgets/controls",
      "model_module_version": "1.5.0",
      "model_name": "ProgressStyleModel",
      "state": {
       "description_width": ""
      }
     },
     "50f14b4a17be4fbc865996e7083ef2a6": {
      "model_module": "@jupyter-widgets/controls",
      "model_module_version": "1.5.0",
      "model_name": "DescriptionStyleModel",
      "state": {
       "description_width": ""
      }
     },
     "5133b2f3086947ecb57b151bb0fe7c0c": {
      "model_module": "@jupyter-widgets/base",
      "model_module_version": "1.2.0",
      "model_name": "LayoutModel",
      "state": {}
     },
     "51341578bfbf4130a0fe3a27e04456c2": {
      "model_module": "@jupyter-widgets/controls",
      "model_module_version": "1.5.0",
      "model_name": "HBoxModel",
      "state": {
       "children": [
        "IPY_MODEL_017b02bbaf224d93a675a6ffa12bebe7",
        "IPY_MODEL_f324014d8ab64af1840a2991f5a05cee",
        "IPY_MODEL_5a3299cd8ff34298a7af317fcbc8ed2f"
       ],
       "layout": "IPY_MODEL_fb483d02dd9843d78fedc1ef9bf83d71"
      }
     },
     "521fdebf7e0f46e2b4bcde9c43d8bfcb": {
      "model_module": "@jupyter-widgets/controls",
      "model_module_version": "1.5.0",
      "model_name": "ProgressStyleModel",
      "state": {
       "description_width": ""
      }
     },
     "522a7b4b44594cf2a5445b76f31ef2da": {
      "model_module": "@jupyter-widgets/controls",
      "model_module_version": "1.5.0",
      "model_name": "FloatProgressModel",
      "state": {
       "bar_style": "success",
       "layout": "IPY_MODEL_4e2d2d297951408580aafa4cfa392e29",
       "max": 10000,
       "style": "IPY_MODEL_95c1e0772c9d4213aa5dc822f9da2ca9",
       "value": 10000
      }
     },
     "5245471deae841ce96655cd37b5af37a": {
      "model_module": "@jupyter-widgets/controls",
      "model_module_version": "1.5.0",
      "model_name": "ProgressStyleModel",
      "state": {
       "description_width": ""
      }
     },
     "5245600bc84a4fa48f3418977fb23b1b": {
      "model_module": "@jupyter-widgets/controls",
      "model_module_version": "1.5.0",
      "model_name": "ProgressStyleModel",
      "state": {
       "description_width": ""
      }
     },
     "526442bca7fa474d9f8d5059b57856f8": {
      "model_module": "@jupyter-widgets/controls",
      "model_module_version": "1.5.0",
      "model_name": "HBoxModel",
      "state": {
       "children": [
        "IPY_MODEL_35ab2d66d90c40369588d572d5ee0c95",
        "IPY_MODEL_493a2a9f8e06406abad5744d13de2ec6",
        "IPY_MODEL_bfa8f43e91514173b157c430fc1e9f34"
       ],
       "layout": "IPY_MODEL_ff2419e719fd44b5ae95ae86e88790d7"
      }
     },
     "5274c4a49a1b40e8bbf6003f509ef666": {
      "model_module": "@jupyter-widgets/base",
      "model_module_version": "1.2.0",
      "model_name": "LayoutModel",
      "state": {}
     },
     "52b1ceb331524b76847158e0ad35c491": {
      "model_module": "@jupyter-widgets/controls",
      "model_module_version": "1.5.0",
      "model_name": "HBoxModel",
      "state": {
       "children": [
        "IPY_MODEL_01420f020117439eb40ba9bd3784d7a5",
        "IPY_MODEL_5995847da1de4655af3ef448df4b8b2f",
        "IPY_MODEL_f0a86ef2bd8547b998b1d640d92010c5"
       ],
       "layout": "IPY_MODEL_e613225a322f4d03bd1f3f2edfb27913"
      }
     },
     "52f44c6c22404a4ab14a00bbc203996b": {
      "model_module": "@jupyter-widgets/controls",
      "model_module_version": "1.5.0",
      "model_name": "HBoxModel",
      "state": {
       "children": [
        "IPY_MODEL_185bcdf50c324caf8e316107500c1bf8",
        "IPY_MODEL_56be08fd03884200970bd530b7cfbd9c",
        "IPY_MODEL_ee2d8905caf541c48c718e6940d3e964"
       ],
       "layout": "IPY_MODEL_ade83a5c49a0478fbec6901ea459a78f"
      }
     },
     "5331eaa8757f42019af2472cfca4e23d": {
      "model_module": "@jupyter-widgets/controls",
      "model_module_version": "1.5.0",
      "model_name": "DescriptionStyleModel",
      "state": {
       "description_width": ""
      }
     },
     "5365a1c9f6d143d7b5ea16039b8b056e": {
      "model_module": "@jupyter-widgets/controls",
      "model_module_version": "1.5.0",
      "model_name": "ProgressStyleModel",
      "state": {
       "description_width": ""
      }
     },
     "538dfa013709461ea1f47b8baa5b248c": {
      "model_module": "@jupyter-widgets/controls",
      "model_module_version": "1.5.0",
      "model_name": "DescriptionStyleModel",
      "state": {
       "description_width": ""
      }
     },
     "53c21f73333345a391907e3db6ed98ae": {
      "model_module": "@jupyter-widgets/base",
      "model_module_version": "1.2.0",
      "model_name": "LayoutModel",
      "state": {}
     },
     "53e25972a6ce44118d092e94f88bfe91": {
      "model_module": "@jupyter-widgets/controls",
      "model_module_version": "1.5.0",
      "model_name": "ProgressStyleModel",
      "state": {
       "description_width": ""
      }
     },
     "53e7dcbc889448a1b5b2e61940beeb07": {
      "model_module": "@jupyter-widgets/controls",
      "model_module_version": "1.5.0",
      "model_name": "FloatProgressModel",
      "state": {
       "bar_style": "success",
       "layout": "IPY_MODEL_4ca24211fccf41d89098ffb2445a01d0",
       "max": 10000,
       "style": "IPY_MODEL_9937d401d56244d58ed303c6ba938c6c",
       "value": 10000
      }
     },
     "5425164e9e68493383c92eda0abc20f4": {
      "model_module": "@jupyter-widgets/controls",
      "model_module_version": "1.5.0",
      "model_name": "HTMLModel",
      "state": {
       "layout": "IPY_MODEL_97118e794d8d469e8b9e8595238b5861",
       "style": "IPY_MODEL_e1a88f8c7c164ce18c81a15d899e39a0",
       "value": " 10000/10000 [00:01&lt;00:00, 7509.64it/s]"
      }
     },
     "544f26618e8d469dbdb94ac886b4cdcd": {
      "model_module": "@jupyter-widgets/controls",
      "model_module_version": "1.5.0",
      "model_name": "DescriptionStyleModel",
      "state": {
       "description_width": ""
      }
     },
     "546623b11df84343a1bc547887e70df3": {
      "model_module": "@jupyter-widgets/controls",
      "model_module_version": "1.5.0",
      "model_name": "ProgressStyleModel",
      "state": {
       "description_width": ""
      }
     },
     "54d92b3eea164ad6aac9e6e32a39f403": {
      "model_module": "@jupyter-widgets/controls",
      "model_module_version": "1.5.0",
      "model_name": "DescriptionStyleModel",
      "state": {
       "description_width": ""
      }
     },
     "550f337526b94a318c69f502b24b9f9b": {
      "model_module": "@jupyter-widgets/controls",
      "model_module_version": "1.5.0",
      "model_name": "ProgressStyleModel",
      "state": {
       "description_width": ""
      }
     },
     "554a2147982a45168ac0ffe8408fa718": {
      "model_module": "@jupyter-widgets/base",
      "model_module_version": "1.2.0",
      "model_name": "LayoutModel",
      "state": {}
     },
     "55762a4c62fe4e889a3a16e27c630ef8": {
      "model_module": "@jupyter-widgets/base",
      "model_module_version": "1.2.0",
      "model_name": "LayoutModel",
      "state": {}
     },
     "557dc31bec7e4cf283031e23778dcee0": {
      "model_module": "@jupyter-widgets/controls",
      "model_module_version": "1.5.0",
      "model_name": "DescriptionStyleModel",
      "state": {
       "description_width": ""
      }
     },
     "55e94b4d84a646daa5b9ce17c4a42d16": {
      "model_module": "@jupyter-widgets/controls",
      "model_module_version": "1.5.0",
      "model_name": "DescriptionStyleModel",
      "state": {
       "description_width": ""
      }
     },
     "5645450283c14085bdde6a0150b38228": {
      "model_module": "@jupyter-widgets/base",
      "model_module_version": "1.2.0",
      "model_name": "LayoutModel",
      "state": {}
     },
     "568d8e04a11047fcb74041f7c5a4d48e": {
      "model_module": "@jupyter-widgets/base",
      "model_module_version": "1.2.0",
      "model_name": "LayoutModel",
      "state": {}
     },
     "568f252a248d4e4fa10c87d499e733ca": {
      "model_module": "@jupyter-widgets/controls",
      "model_module_version": "1.5.0",
      "model_name": "DescriptionStyleModel",
      "state": {
       "description_width": ""
      }
     },
     "56b16edd921d492ab89e88a4e12e9688": {
      "model_module": "@jupyter-widgets/controls",
      "model_module_version": "1.5.0",
      "model_name": "DescriptionStyleModel",
      "state": {
       "description_width": ""
      }
     },
     "56be08fd03884200970bd530b7cfbd9c": {
      "model_module": "@jupyter-widgets/controls",
      "model_module_version": "1.5.0",
      "model_name": "FloatProgressModel",
      "state": {
       "bar_style": "success",
       "layout": "IPY_MODEL_2a524f65d0fd4dc3b521faa6e5ecaa16",
       "max": 10000,
       "style": "IPY_MODEL_2511e490e549476286e8cb1f974d4547",
       "value": 10000
      }
     },
     "56dbad5633f34daf8c5313c624baf6fc": {
      "model_module": "@jupyter-widgets/base",
      "model_module_version": "1.2.0",
      "model_name": "LayoutModel",
      "state": {}
     },
     "56e910bfecf34181bf200369b0f61049": {
      "model_module": "@jupyter-widgets/controls",
      "model_module_version": "1.5.0",
      "model_name": "DescriptionStyleModel",
      "state": {
       "description_width": ""
      }
     },
     "56f794d4c19d47e3bd4b9a5476d506ab": {
      "model_module": "@jupyter-widgets/controls",
      "model_module_version": "1.5.0",
      "model_name": "HTMLModel",
      "state": {
       "layout": "IPY_MODEL_d5f6ad7fdb2a40059dbcd46f34a58efb",
       "style": "IPY_MODEL_9973fbaea85a44bb90f028c561e197f6",
       "value": " 10000/10000 [00:01&lt;00:00, 7469.68it/s]"
      }
     },
     "5737e6db299d464eb06f590e2dccd4e9": {
      "model_module": "@jupyter-widgets/base",
      "model_module_version": "1.2.0",
      "model_name": "LayoutModel",
      "state": {}
     },
     "576df1cdf3d34ae185e02f339c29253e": {
      "model_module": "@jupyter-widgets/base",
      "model_module_version": "1.2.0",
      "model_name": "LayoutModel",
      "state": {}
     },
     "57818ac770e54f5b8ab5a854fec8c35d": {
      "model_module": "@jupyter-widgets/controls",
      "model_module_version": "1.5.0",
      "model_name": "HTMLModel",
      "state": {
       "layout": "IPY_MODEL_af72ff591a824496b7fd3a4bc2a985b9",
       "style": "IPY_MODEL_91fb982c2f934e62b8c31b84144f41bb",
       "value": " 10000/10000 [00:01&lt;00:00, 7550.37it/s]"
      }
     },
     "57b4a6b8ceae4385ace1eb39ae75ca31": {
      "model_module": "@jupyter-widgets/controls",
      "model_module_version": "1.5.0",
      "model_name": "FloatProgressModel",
      "state": {
       "bar_style": "success",
       "layout": "IPY_MODEL_3768d1e5b1434c499c0902b4869f0b83",
       "max": 10000,
       "style": "IPY_MODEL_546623b11df84343a1bc547887e70df3",
       "value": 10000
      }
     },
     "57bc0b9ae04d48e49f0f57ae850f8ea3": {
      "model_module": "@jupyter-widgets/controls",
      "model_module_version": "1.5.0",
      "model_name": "DescriptionStyleModel",
      "state": {
       "description_width": ""
      }
     },
     "582b3a60425f49629795e9f981945eef": {
      "model_module": "@jupyter-widgets/base",
      "model_module_version": "1.2.0",
      "model_name": "LayoutModel",
      "state": {}
     },
     "582b73bcd71749318f5e608c462b4e1d": {
      "model_module": "@jupyter-widgets/base",
      "model_module_version": "1.2.0",
      "model_name": "LayoutModel",
      "state": {}
     },
     "582c78ac42404d35b79f06ad5992ee0c": {
      "model_module": "@jupyter-widgets/controls",
      "model_module_version": "1.5.0",
      "model_name": "FloatProgressModel",
      "state": {
       "bar_style": "success",
       "layout": "IPY_MODEL_dcb0e36e5d3f4c8295eb276052fd2e02",
       "max": 10000,
       "style": "IPY_MODEL_072c6d24c62b4e30892e554a1edb3cbe",
       "value": 10000
      }
     },
     "58d9feb22e7f4295890c43a11b7c226e": {
      "model_module": "@jupyter-widgets/controls",
      "model_module_version": "1.5.0",
      "model_name": "HTMLModel",
      "state": {
       "layout": "IPY_MODEL_d7ac21ad7ad14abbb63dfb838b0c8118",
       "style": "IPY_MODEL_bc93544029c4445e8f16aec5c864a8c4",
       "value": " 10000/10000 [00:01&lt;00:00, 7326.31it/s]"
      }
     },
     "595adc1234504ef4be33d447fec1a6e9": {
      "model_module": "@jupyter-widgets/base",
      "model_module_version": "1.2.0",
      "model_name": "LayoutModel",
      "state": {}
     },
     "59926056e8274318b9d031fef04eb4cc": {
      "model_module": "@jupyter-widgets/base",
      "model_module_version": "1.2.0",
      "model_name": "LayoutModel",
      "state": {}
     },
     "5995847da1de4655af3ef448df4b8b2f": {
      "model_module": "@jupyter-widgets/controls",
      "model_module_version": "1.5.0",
      "model_name": "FloatProgressModel",
      "state": {
       "bar_style": "success",
       "layout": "IPY_MODEL_23933c6f580a4c16b0c5c1070fd9b52b",
       "max": 10000,
       "style": "IPY_MODEL_736f2e2d9f1f455f89977570bba8a024",
       "value": 10000
      }
     },
     "59a3693264e94ae3bc010d07bc94beba": {
      "model_module": "@jupyter-widgets/base",
      "model_module_version": "1.2.0",
      "model_name": "LayoutModel",
      "state": {}
     },
     "59f0e7e4fb884f9cbb013dadb849f175": {
      "model_module": "@jupyter-widgets/base",
      "model_module_version": "1.2.0",
      "model_name": "LayoutModel",
      "state": {}
     },
     "5a25ea53cafb46bea41457d1821b31ca": {
      "model_module": "@jupyter-widgets/controls",
      "model_module_version": "1.5.0",
      "model_name": "HTMLModel",
      "state": {
       "layout": "IPY_MODEL_5645450283c14085bdde6a0150b38228",
       "style": "IPY_MODEL_dab3584053154a1b9394da923982b7cf",
       "value": " 10000/10000 [00:01&lt;00:00, 7307.22it/s]"
      }
     },
     "5a3299cd8ff34298a7af317fcbc8ed2f": {
      "model_module": "@jupyter-widgets/controls",
      "model_module_version": "1.5.0",
      "model_name": "HTMLModel",
      "state": {
       "layout": "IPY_MODEL_990e7006052f4d9db145617d0f3f43ac",
       "style": "IPY_MODEL_f1eb182302204900b225594f6d2c1a19",
       "value": " 10000/10000 [00:01&lt;00:00, 7450.84it/s]"
      }
     },
     "5a40cc5113184fa08f7f5b0827c5bceb": {
      "model_module": "@jupyter-widgets/base",
      "model_module_version": "1.2.0",
      "model_name": "LayoutModel",
      "state": {}
     },
     "5abcfa51c9044ecfaa67f9f62f5029e6": {
      "model_module": "@jupyter-widgets/controls",
      "model_module_version": "1.5.0",
      "model_name": "HTMLModel",
      "state": {
       "layout": "IPY_MODEL_1e00fc31224345b68de807c3cfff44cf",
       "style": "IPY_MODEL_cab87409b9344d8ab59c317ae6b4c5f6",
       "value": " 10000/10000 [00:01&lt;00:00, 7245.05it/s]"
      }
     },
     "5b74fae785f04c87a0d34e83b96c1a14": {
      "model_module": "@jupyter-widgets/base",
      "model_module_version": "1.2.0",
      "model_name": "LayoutModel",
      "state": {}
     },
     "5be8cac8225747209f5f69fe78d1715f": {
      "model_module": "@jupyter-widgets/base",
      "model_module_version": "1.2.0",
      "model_name": "LayoutModel",
      "state": {}
     },
     "5bee561e13c547e7ba9e0ca1c4e7bb4d": {
      "model_module": "@jupyter-widgets/controls",
      "model_module_version": "1.5.0",
      "model_name": "HTMLModel",
      "state": {
       "layout": "IPY_MODEL_26d4b3df4ea142ef8b0da37010a1eca3",
       "style": "IPY_MODEL_bc114903be7d4ecdb5a19cae0e4c6ca4",
       "value": "Writing sentences to sent_chunk_0038.txt: 100%"
      }
     },
     "5c3b005c769d4291849c6cdb41ea019a": {
      "model_module": "@jupyter-widgets/controls",
      "model_module_version": "1.5.0",
      "model_name": "DescriptionStyleModel",
      "state": {
       "description_width": ""
      }
     },
     "5c532eb4885943728baf0b5a8eea6f61": {
      "model_module": "@jupyter-widgets/base",
      "model_module_version": "1.2.0",
      "model_name": "LayoutModel",
      "state": {}
     },
     "5ca2f922ddf947c591bfe9596e2d6f94": {
      "model_module": "@jupyter-widgets/base",
      "model_module_version": "1.2.0",
      "model_name": "LayoutModel",
      "state": {}
     },
     "5ca72712f7cf4942a78581edf0732426": {
      "model_module": "@jupyter-widgets/base",
      "model_module_version": "1.2.0",
      "model_name": "LayoutModel",
      "state": {}
     },
     "5cabaadcf0d14b47bc48bf8cc297308f": {
      "model_module": "@jupyter-widgets/controls",
      "model_module_version": "1.5.0",
      "model_name": "HBoxModel",
      "state": {
       "children": [
        "IPY_MODEL_e8288855a47c4ccebc8464c153b41c5b",
        "IPY_MODEL_ca11eeebaf2e4e7f89539df2b0189d1c",
        "IPY_MODEL_d16008822d94418a94b42efc8dba1123"
       ],
       "layout": "IPY_MODEL_4b0aada47e62430ba893d2044df13146"
      }
     },
     "5ccd70fc6c3348a19be5bafeb774850a": {
      "model_module": "@jupyter-widgets/controls",
      "model_module_version": "1.5.0",
      "model_name": "DescriptionStyleModel",
      "state": {
       "description_width": ""
      }
     },
     "5d09da822f8941c48023da28a172af2c": {
      "model_module": "@jupyter-widgets/base",
      "model_module_version": "1.2.0",
      "model_name": "LayoutModel",
      "state": {}
     },
     "5d59bd95a42d44a894fc3fdb9892f867": {
      "model_module": "@jupyter-widgets/controls",
      "model_module_version": "1.5.0",
      "model_name": "HBoxModel",
      "state": {
       "children": [
        "IPY_MODEL_3d22881b97ef4858b1190445e17c90a9",
        "IPY_MODEL_eb5581ef6f944664b6e944967704bd79",
        "IPY_MODEL_764c9bb72a1145d8b574cd03cf1dbdb3"
       ],
       "layout": "IPY_MODEL_c00eaa5083b640e2baec80ef3966f2c9"
      }
     },
     "5daf5bf70a7d454e98700ac9b5d5fc0d": {
      "model_module": "@jupyter-widgets/controls",
      "model_module_version": "1.5.0",
      "model_name": "HTMLModel",
      "state": {
       "layout": "IPY_MODEL_ecdb1ec6fcd94041b17993c9632d2c74",
       "style": "IPY_MODEL_7af0c202e6cb458e8f57c887d53b00ac",
       "value": "Writing sentences to sent_chunk_0029.txt: 100%"
      }
     },
     "5dc05b070e96492a855d6ec6f897dcaa": {
      "model_module": "@jupyter-widgets/controls",
      "model_module_version": "1.5.0",
      "model_name": "HTMLModel",
      "state": {
       "layout": "IPY_MODEL_59a3693264e94ae3bc010d07bc94beba",
       "style": "IPY_MODEL_7b7e3a3dd24442c29d3d96b5f18f17ce",
       "value": " 10000/10000 [00:01&lt;00:00, 7624.75it/s]"
      }
     },
     "5df69437c3094ede8019841b07576f99": {
      "model_module": "@jupyter-widgets/controls",
      "model_module_version": "1.5.0",
      "model_name": "ProgressStyleModel",
      "state": {
       "description_width": ""
      }
     },
     "5ebf1adf3d194dc1a9fa45afd3aea797": {
      "model_module": "@jupyter-widgets/controls",
      "model_module_version": "1.5.0",
      "model_name": "HBoxModel",
      "state": {
       "children": [
        "IPY_MODEL_0a6c69de15a743b4b4d8403d01785c20",
        "IPY_MODEL_9523897232524d48b0fd5dcd9f67facd",
        "IPY_MODEL_d51a9e7ba920406a9b5f86d8d66a5647"
       ],
       "layout": "IPY_MODEL_7f14b6ff160c416f8d64bcaaf72e211e"
      }
     },
     "5eda21c9a98643899cefc47a0211b176": {
      "model_module": "@jupyter-widgets/controls",
      "model_module_version": "1.5.0",
      "model_name": "HTMLModel",
      "state": {
       "layout": "IPY_MODEL_c76c02b95f544690ba1474339633013c",
       "style": "IPY_MODEL_405422babc9f4e19a64ff3e73e22f6ff",
       "value": " 10000/10000 [00:01&lt;00:00, 7612.52it/s]"
      }
     },
     "5f3e13ccd66c452d9380b27ee23de657": {
      "model_module": "@jupyter-widgets/controls",
      "model_module_version": "1.5.0",
      "model_name": "HTMLModel",
      "state": {
       "layout": "IPY_MODEL_6027d975f96f46d9916ef4019067387e",
       "style": "IPY_MODEL_97701efda58e41f7938919b54bc6c0ce",
       "value": " 10000/10000 [00:01&lt;00:00, 7515.39it/s]"
      }
     },
     "5f5e1941832945be88936f7e8727a750": {
      "model_module": "@jupyter-widgets/controls",
      "model_module_version": "1.5.0",
      "model_name": "FloatProgressModel",
      "state": {
       "bar_style": "success",
       "layout": "IPY_MODEL_aba67809cbbc4dffa050464d3dccc7ef",
       "max": 10000,
       "style": "IPY_MODEL_fd0ab2eb96f5470890019576ecb29700",
       "value": 10000
      }
     },
     "5f6bf11152b44c7a80b9849ffc29f300": {
      "model_module": "@jupyter-widgets/base",
      "model_module_version": "1.2.0",
      "model_name": "LayoutModel",
      "state": {}
     },
     "5fb1e21655744dd1bc4f191443db9355": {
      "model_module": "@jupyter-widgets/base",
      "model_module_version": "1.2.0",
      "model_name": "LayoutModel",
      "state": {}
     },
     "5fe06e73a85b4048bed8bc26a31e3699": {
      "model_module": "@jupyter-widgets/controls",
      "model_module_version": "1.5.0",
      "model_name": "FloatProgressModel",
      "state": {
       "bar_style": "success",
       "layout": "IPY_MODEL_3bd29586c800471e9d5d27877f928466",
       "max": 10000,
       "style": "IPY_MODEL_4496947d5806484fba171c997de976a1",
       "value": 10000
      }
     },
     "5ff5a758f8e24371892c6647eee6b58e": {
      "model_module": "@jupyter-widgets/base",
      "model_module_version": "1.2.0",
      "model_name": "LayoutModel",
      "state": {}
     },
     "600a1b6f0248411eb18f5d1537acfe89": {
      "model_module": "@jupyter-widgets/controls",
      "model_module_version": "1.5.0",
      "model_name": "HBoxModel",
      "state": {
       "children": [
        "IPY_MODEL_3f30012b4c3841d39af40031a75286bb",
        "IPY_MODEL_19a7f57fdb27400fa17a4726e4183691",
        "IPY_MODEL_b4e9f5dfa5884a41b8ee15f5588e3086"
       ],
       "layout": "IPY_MODEL_4ddf7c6e467e4063b2c932018126a3f5"
      }
     },
     "600d978621d345ceb32fac3c91376be6": {
      "model_module": "@jupyter-widgets/base",
      "model_module_version": "1.2.0",
      "model_name": "LayoutModel",
      "state": {}
     },
     "6026cb4b6e0b4bc4b93aa75fbac279ab": {
      "model_module": "@jupyter-widgets/controls",
      "model_module_version": "1.5.0",
      "model_name": "DescriptionStyleModel",
      "state": {
       "description_width": ""
      }
     },
     "6027d975f96f46d9916ef4019067387e": {
      "model_module": "@jupyter-widgets/base",
      "model_module_version": "1.2.0",
      "model_name": "LayoutModel",
      "state": {}
     },
     "603f9a84cca74e9baa510c8d32b429d9": {
      "model_module": "@jupyter-widgets/controls",
      "model_module_version": "1.5.0",
      "model_name": "ProgressStyleModel",
      "state": {
       "description_width": ""
      }
     },
     "6041736c8eb444fa96a3057dcf5fee79": {
      "model_module": "@jupyter-widgets/controls",
      "model_module_version": "1.5.0",
      "model_name": "DescriptionStyleModel",
      "state": {
       "description_width": ""
      }
     },
     "6049b410732148bd89e3d25b154cc959": {
      "model_module": "@jupyter-widgets/base",
      "model_module_version": "1.2.0",
      "model_name": "LayoutModel",
      "state": {}
     },
     "608b1121758e45fea123429fcd6e641e": {
      "model_module": "@jupyter-widgets/controls",
      "model_module_version": "1.5.0",
      "model_name": "HTMLModel",
      "state": {
       "layout": "IPY_MODEL_4901dd1321ea4424abfc5b62b1fbda14",
       "style": "IPY_MODEL_b1bd6b9c42984e1eb3d366c3213b40a5",
       "value": " 10000/10000 [00:01&lt;00:00, 7373.95it/s]"
      }
     },
     "60c535f76d1345e4b358066b4f86bdce": {
      "model_module": "@jupyter-widgets/controls",
      "model_module_version": "1.5.0",
      "model_name": "DescriptionStyleModel",
      "state": {
       "description_width": ""
      }
     },
     "60e54d7112064b20bfbf2e795057fb0d": {
      "model_module": "@jupyter-widgets/controls",
      "model_module_version": "1.5.0",
      "model_name": "FloatProgressModel",
      "state": {
       "bar_style": "success",
       "layout": "IPY_MODEL_8a7cf454687340578ec32612605acbb1",
       "max": 10000,
       "style": "IPY_MODEL_db15ef2771b3444e848650310efffae4",
       "value": 10000
      }
     },
     "60e63118dd904d47a60c977b7ab3e281": {
      "model_module": "@jupyter-widgets/base",
      "model_module_version": "1.2.0",
      "model_name": "LayoutModel",
      "state": {}
     },
     "60edabf6d7714b2280a246577a5c6cd7": {
      "model_module": "@jupyter-widgets/controls",
      "model_module_version": "1.5.0",
      "model_name": "DescriptionStyleModel",
      "state": {
       "description_width": ""
      }
     },
     "6145edfca71d40a6acc3e135eaefdc58": {
      "model_module": "@jupyter-widgets/controls",
      "model_module_version": "1.5.0",
      "model_name": "DescriptionStyleModel",
      "state": {
       "description_width": ""
      }
     },
     "6173f266d7a24f0cb9a62d9aa2665ffd": {
      "model_module": "@jupyter-widgets/controls",
      "model_module_version": "1.5.0",
      "model_name": "HBoxModel",
      "state": {
       "children": [
        "IPY_MODEL_3bd1b129df87474c8edf8cd4b5dc7724",
        "IPY_MODEL_8c466ade02234d75a60f52eea59b0360",
        "IPY_MODEL_6f6d2a17d43a47f8a2bd0d8d724b5f8f"
       ],
       "layout": "IPY_MODEL_ef2ab361d96248a185775efdb9038765"
      }
     },
     "6185a3c2331a48cfb882907aede0563e": {
      "model_module": "@jupyter-widgets/controls",
      "model_module_version": "1.5.0",
      "model_name": "FloatProgressModel",
      "state": {
       "layout": "IPY_MODEL_ea4a568e02d149e5859cfcd0c5974b21",
       "max": 10000,
       "style": "IPY_MODEL_965cbd6a13db4f3f8daf225f1992f221",
       "value": 2125
      }
     },
     "61a9ab856119453589ac163c903fcad4": {
      "model_module": "@jupyter-widgets/controls",
      "model_module_version": "1.5.0",
      "model_name": "DescriptionStyleModel",
      "state": {
       "description_width": ""
      }
     },
     "62250cd0795c4789a47bf124f408fb90": {
      "model_module": "@jupyter-widgets/controls",
      "model_module_version": "1.5.0",
      "model_name": "ProgressStyleModel",
      "state": {
       "description_width": ""
      }
     },
     "624b27d80f5e4e8b958d69fb1f2c39f4": {
      "model_module": "@jupyter-widgets/controls",
      "model_module_version": "1.5.0",
      "model_name": "HTMLModel",
      "state": {
       "layout": "IPY_MODEL_365eafd338064e75adec02816e872131",
       "style": "IPY_MODEL_ec009b35fcb4463ebe8427ba1eebeee1",
       "value": " 10000/10000 [00:01&lt;00:00, 7491.41it/s]"
      }
     },
     "6335cdbf28344f8586bf96efe8c2df6e": {
      "model_module": "@jupyter-widgets/controls",
      "model_module_version": "1.5.0",
      "model_name": "FloatProgressModel",
      "state": {
       "bar_style": "success",
       "layout": "IPY_MODEL_8e830228b5c741a291a821475a93b65d",
       "max": 2998856,
       "style": "IPY_MODEL_5df69437c3094ede8019841b07576f99",
       "value": 2998856
      }
     },
     "6391b3b70cdd446abdf8c9cda876ee65": {
      "model_module": "@jupyter-widgets/controls",
      "model_module_version": "1.5.0",
      "model_name": "HTMLModel",
      "state": {
       "layout": "IPY_MODEL_d4f2bec85d12458793beaa9813edae1f",
       "style": "IPY_MODEL_55e94b4d84a646daa5b9ce17c4a42d16",
       "value": "sent_chunk_0016.txt: 100%"
      }
     },
     "63a219b7c68945bf8db1239347f74979": {
      "model_module": "@jupyter-widgets/base",
      "model_module_version": "1.2.0",
      "model_name": "LayoutModel",
      "state": {}
     },
     "63c811a9528e4afc88b981879268437e": {
      "model_module": "@jupyter-widgets/controls",
      "model_module_version": "1.5.0",
      "model_name": "DescriptionStyleModel",
      "state": {
       "description_width": ""
      }
     },
     "6434453b50f44abd800b1007e82dad64": {
      "model_module": "@jupyter-widgets/controls",
      "model_module_version": "1.5.0",
      "model_name": "DescriptionStyleModel",
      "state": {
       "description_width": ""
      }
     },
     "645cb18028544097ab82516933a603c1": {
      "model_module": "@jupyter-widgets/base",
      "model_module_version": "1.2.0",
      "model_name": "LayoutModel",
      "state": {}
     },
     "646db2b10baf432a9ecd1a26daea6753": {
      "model_module": "@jupyter-widgets/controls",
      "model_module_version": "1.5.0",
      "model_name": "HTMLModel",
      "state": {
       "layout": "IPY_MODEL_992001d9383f4c27942b45afd49e354c",
       "style": "IPY_MODEL_568f252a248d4e4fa10c87d499e733ca",
       "value": "Writing sentences to sent_chunk_0003.txt: 100%"
      }
     },
     "64802b4eb40c41e7898ffd20cfb222bd": {
      "model_module": "@jupyter-widgets/controls",
      "model_module_version": "1.5.0",
      "model_name": "HTMLModel",
      "state": {
       "layout": "IPY_MODEL_026f81a03bcb4863a47ed3e8248cfcfc",
       "style": "IPY_MODEL_cc3e24ada4f045c189746236271e8925",
       "value": " 10000/10000 [00:01&lt;00:00, 7365.02it/s]"
      }
     },
     "6510ddf0d5284e93a737edc03039dc32": {
      "model_module": "@jupyter-widgets/base",
      "model_module_version": "1.2.0",
      "model_name": "LayoutModel",
      "state": {}
     },
     "654c658f8f5c46398c4c345f23ce3754": {
      "model_module": "@jupyter-widgets/controls",
      "model_module_version": "1.5.0",
      "model_name": "DescriptionStyleModel",
      "state": {
       "description_width": ""
      }
     },
     "6599d99c8cb348e9afe606ef7c627c42": {
      "model_module": "@jupyter-widgets/controls",
      "model_module_version": "1.5.0",
      "model_name": "HBoxModel",
      "state": {
       "children": [
        "IPY_MODEL_bbd0e4c43daf49399f314e021b9cce76",
        "IPY_MODEL_6185a3c2331a48cfb882907aede0563e",
        "IPY_MODEL_a1dcb38c4f57412ab66785956c239d80"
       ],
       "layout": "IPY_MODEL_3d86182bc76e4b2a9ec5ae34e5215ab3"
      }
     },
     "666073a7350841a697b2bd06eca98cee": {
      "model_module": "@jupyter-widgets/controls",
      "model_module_version": "1.5.0",
      "model_name": "ProgressStyleModel",
      "state": {
       "description_width": ""
      }
     },
     "6699a570d8664a299aaeafa4c0ce8b65": {
      "model_module": "@jupyter-widgets/controls",
      "model_module_version": "1.5.0",
      "model_name": "DescriptionStyleModel",
      "state": {
       "description_width": ""
      }
     },
     "66a2f79e01f34bfe95542cd390ea168e": {
      "model_module": "@jupyter-widgets/controls",
      "model_module_version": "1.5.0",
      "model_name": "ProgressStyleModel",
      "state": {
       "description_width": ""
      }
     },
     "66fe27c7b9324edfa8b11bd744a8c193": {
      "model_module": "@jupyter-widgets/controls",
      "model_module_version": "1.5.0",
      "model_name": "HTMLModel",
      "state": {
       "layout": "IPY_MODEL_600d978621d345ceb32fac3c91376be6",
       "style": "IPY_MODEL_2e6cde9789c743338c5dc8d16ff04720",
       "value": " 10000/10000 [00:01&lt;00:00, 7439.91it/s]"
      }
     },
     "6767e05c38ae4735bcb7a95b84f1b871": {
      "model_module": "@jupyter-widgets/controls",
      "model_module_version": "1.5.0",
      "model_name": "HTMLModel",
      "state": {
       "layout": "IPY_MODEL_7f1ebb53f5024783a97694a39beebf5b",
       "style": "IPY_MODEL_1d2c86d3349c499194a0d3e97cdeda21",
       "value": "Writing sentences to sent_chunk_0027.txt: 100%"
      }
     },
     "678de0735fa24c4b9ef6970bee994a21": {
      "model_module": "@jupyter-widgets/controls",
      "model_module_version": "1.5.0",
      "model_name": "HBoxModel",
      "state": {
       "children": [
        "IPY_MODEL_9ffaffcc49554cdbb82e7ed1d9449ca8",
        "IPY_MODEL_0a2da2114724491184c841af72d6c9d7",
        "IPY_MODEL_64802b4eb40c41e7898ffd20cfb222bd"
       ],
       "layout": "IPY_MODEL_032f02d62bf2433787cead65f8925aae"
      }
     },
     "67cbf7a13bab4a77ac1eca6adcfff05c": {
      "model_module": "@jupyter-widgets/controls",
      "model_module_version": "1.5.0",
      "model_name": "DescriptionStyleModel",
      "state": {
       "description_width": ""
      }
     },
     "67d15d62c2e6496e80f89954731de505": {
      "model_module": "@jupyter-widgets/controls",
      "model_module_version": "1.5.0",
      "model_name": "HTMLModel",
      "state": {
       "layout": "IPY_MODEL_455e7ccc4e4b47ef9ce48d290bae01a0",
       "style": "IPY_MODEL_0e3bbc7c0be64888b0320b5c027a0e1f",
       "value": " 10000/10000 [00:01&lt;00:00, 7465.06it/s]"
      }
     },
     "680df4d7a82647339cf46024c7ca7cbd": {
      "model_module": "@jupyter-widgets/controls",
      "model_module_version": "1.5.0",
      "model_name": "HTMLModel",
      "state": {
       "layout": "IPY_MODEL_cd268ed44dad4f168910b643f9ccd1a6",
       "style": "IPY_MODEL_c09f62f6192040fb9c15e8e0b6a4b582",
       "value": "sent_chunk_0014.txt: 100%"
      }
     },
     "682a85ad097d4910b0028f8c87ad6f03": {
      "model_module": "@jupyter-widgets/base",
      "model_module_version": "1.2.0",
      "model_name": "LayoutModel",
      "state": {}
     },
     "6853756ceea94d1bb589b4fc56febc61": {
      "model_module": "@jupyter-widgets/controls",
      "model_module_version": "1.5.0",
      "model_name": "HBoxModel",
      "state": {
       "children": [
        "IPY_MODEL_db63dcd055324b16963a986aca20766f",
        "IPY_MODEL_fa9f8144200d4dc582203feedd755309",
        "IPY_MODEL_fe863ed46c204d78bc4ba1c59f5a17c3"
       ],
       "layout": "IPY_MODEL_f29163e65d7142b88a6627f3571541c9"
      }
     },
     "685c801b9f1b477a8070bbd38c4138ef": {
      "model_module": "@jupyter-widgets/controls",
      "model_module_version": "1.5.0",
      "model_name": "DescriptionStyleModel",
      "state": {
       "description_width": ""
      }
     },
     "68a9e6ee32604937a5eaa7120ff43ff0": {
      "model_module": "@jupyter-widgets/controls",
      "model_module_version": "1.5.0",
      "model_name": "DescriptionStyleModel",
      "state": {
       "description_width": ""
      }
     },
     "68c241b660d94785a504987f7df40574": {
      "model_module": "@jupyter-widgets/base",
      "model_module_version": "1.2.0",
      "model_name": "LayoutModel",
      "state": {}
     },
     "692938a90ec34c9a8401a06a098e704a": {
      "model_module": "@jupyter-widgets/base",
      "model_module_version": "1.2.0",
      "model_name": "LayoutModel",
      "state": {}
     },
     "69d157bc9a514e09be76e4a300bcfebd": {
      "model_module": "@jupyter-widgets/base",
      "model_module_version": "1.2.0",
      "model_name": "LayoutModel",
      "state": {}
     },
     "69dabeb6240a4e3d965dc6a3df025680": {
      "model_module": "@jupyter-widgets/base",
      "model_module_version": "1.2.0",
      "model_name": "LayoutModel",
      "state": {}
     },
     "69dac325566f423dae6c0e07b98a151b": {
      "model_module": "@jupyter-widgets/controls",
      "model_module_version": "1.5.0",
      "model_name": "DescriptionStyleModel",
      "state": {
       "description_width": ""
      }
     },
     "69f174bf8b354b978b81b54efec6ed58": {
      "model_module": "@jupyter-widgets/base",
      "model_module_version": "1.2.0",
      "model_name": "LayoutModel",
      "state": {}
     },
     "6a36560f4ae44ec1a4a67db06b172294": {
      "model_module": "@jupyter-widgets/controls",
      "model_module_version": "1.5.0",
      "model_name": "FloatProgressModel",
      "state": {
       "bar_style": "success",
       "layout": "IPY_MODEL_1297ee1dca3047eeafcdec717c759fb8",
       "max": 10000,
       "style": "IPY_MODEL_62250cd0795c4789a47bf124f408fb90",
       "value": 10000
      }
     },
     "6a6f8e572a59414b842766cb3732606d": {
      "model_module": "@jupyter-widgets/base",
      "model_module_version": "1.2.0",
      "model_name": "LayoutModel",
      "state": {}
     },
     "6b178272672748a192f72cad896912bc": {
      "model_module": "@jupyter-widgets/controls",
      "model_module_version": "1.5.0",
      "model_name": "ProgressStyleModel",
      "state": {
       "description_width": ""
      }
     },
     "6b4d31f232d4436d9ab491aeffa58fa5": {
      "model_module": "@jupyter-widgets/controls",
      "model_module_version": "1.5.0",
      "model_name": "DescriptionStyleModel",
      "state": {
       "description_width": ""
      }
     },
     "6b5bc701d7ba4d658d1193cee645d2de": {
      "model_module": "@jupyter-widgets/base",
      "model_module_version": "1.2.0",
      "model_name": "LayoutModel",
      "state": {}
     },
     "6bcdb6dc7e604826bf648aa0eda6656c": {
      "model_module": "@jupyter-widgets/controls",
      "model_module_version": "1.5.0",
      "model_name": "DescriptionStyleModel",
      "state": {
       "description_width": ""
      }
     },
     "6c31f3034b33498081f4f3a06ef46fd9": {
      "model_module": "@jupyter-widgets/base",
      "model_module_version": "1.2.0",
      "model_name": "LayoutModel",
      "state": {}
     },
     "6c39dfa68f464d34ac701b7188a40c53": {
      "model_module": "@jupyter-widgets/controls",
      "model_module_version": "1.5.0",
      "model_name": "DescriptionStyleModel",
      "state": {
       "description_width": ""
      }
     },
     "6c8057762644403483793691b33377e0": {
      "model_module": "@jupyter-widgets/base",
      "model_module_version": "1.2.0",
      "model_name": "LayoutModel",
      "state": {}
     },
     "6c83b5dd78004bf4b4d055a67f9e1e93": {
      "model_module": "@jupyter-widgets/controls",
      "model_module_version": "1.5.0",
      "model_name": "ProgressStyleModel",
      "state": {
       "description_width": ""
      }
     },
     "6d1c6e7565ed4e79a94264e037c475a0": {
      "model_module": "@jupyter-widgets/base",
      "model_module_version": "1.2.0",
      "model_name": "LayoutModel",
      "state": {}
     },
     "6d2a4a75982c4296abd1a198882622f1": {
      "model_module": "@jupyter-widgets/controls",
      "model_module_version": "1.5.0",
      "model_name": "ProgressStyleModel",
      "state": {
       "description_width": ""
      }
     },
     "6d41981ddd1e429cb38aaa14e71b077c": {
      "model_module": "@jupyter-widgets/controls",
      "model_module_version": "1.5.0",
      "model_name": "HTMLModel",
      "state": {
       "layout": "IPY_MODEL_7d95c0320b684ea88299dc7c96bd373b",
       "style": "IPY_MODEL_3bcd3ee740c545b4a247d9bdfd6aabb3",
       "value": " 10000/10000 [00:01&lt;00:00, 7471.10it/s]"
      }
     },
     "6d836e7924b146e7b3da2cd18facdb65": {
      "model_module": "@jupyter-widgets/base",
      "model_module_version": "1.2.0",
      "model_name": "LayoutModel",
      "state": {}
     },
     "6dab55d17fc047d5962268296eacd271": {
      "model_module": "@jupyter-widgets/base",
      "model_module_version": "1.2.0",
      "model_name": "LayoutModel",
      "state": {}
     },
     "6e1d69e6071440fabed7701f31aa5ed5": {
      "model_module": "@jupyter-widgets/base",
      "model_module_version": "1.2.0",
      "model_name": "LayoutModel",
      "state": {}
     },
     "6e51498032fd426da54ca8fe9842df73": {
      "model_module": "@jupyter-widgets/controls",
      "model_module_version": "1.5.0",
      "model_name": "HBoxModel",
      "state": {
       "children": [
        "IPY_MODEL_bd8d1b55da874a9f8a2ba827f630232c",
        "IPY_MODEL_dd1dc69fc88949ef97d184d8a429cdf4",
        "IPY_MODEL_041aca1c19a2461fac36e314d91d81aa"
       ],
       "layout": "IPY_MODEL_3cc758bca82a4cf09be81a7a7e04acdd"
      }
     },
     "6e71e2e4ddf548b3ba095b903e8ebaca": {
      "model_module": "@jupyter-widgets/controls",
      "model_module_version": "1.5.0",
      "model_name": "HTMLModel",
      "state": {
       "layout": "IPY_MODEL_692938a90ec34c9a8401a06a098e704a",
       "style": "IPY_MODEL_de2b5584d742495c8e0c6bd26825ff9e",
       "value": "sent_chunk_0039.txt: 100%"
      }
     },
     "6e9637ee6ff0493f9dd6fe7db8c6d31f": {
      "model_module": "@jupyter-widgets/controls",
      "model_module_version": "1.5.0",
      "model_name": "FloatProgressModel",
      "state": {
       "bar_style": "success",
       "layout": "IPY_MODEL_86c1b44b479a4eb2996a6b78dffe0128",
       "max": 10000,
       "style": "IPY_MODEL_41bf9e2725cf45678c5e9bdd6aff1d65",
       "value": 10000
      }
     },
     "6ea9c3c8e2ca480f971cfd3256645c18": {
      "model_module": "@jupyter-widgets/controls",
      "model_module_version": "1.5.0",
      "model_name": "HTMLModel",
      "state": {
       "layout": "IPY_MODEL_7a5533945f74497fbbd708d1cc8413bc",
       "style": "IPY_MODEL_7c6608d2767f4a96ad58525974fb375c",
       "value": " 60519/60519 [00:00&lt;00:00, 157257.64it/s]"
      }
     },
     "6ec84677739d4f0bb3bcc8731cd8346c": {
      "model_module": "@jupyter-widgets/controls",
      "model_module_version": "1.5.0",
      "model_name": "HTMLModel",
      "state": {
       "layout": "IPY_MODEL_e3cc6543a6cc4ff1afe86dbcffcb8521",
       "style": "IPY_MODEL_69dac325566f423dae6c0e07b98a151b",
       "value": " 10000/10000 [00:01&lt;00:00, 7397.08it/s]"
      }
     },
     "6ee0cb9514a74244aa05f54eaa70f19e": {
      "model_module": "@jupyter-widgets/base",
      "model_module_version": "1.2.0",
      "model_name": "LayoutModel",
      "state": {}
     },
     "6efa91b7be564d19a89c6d6e4dd00c45": {
      "model_module": "@jupyter-widgets/base",
      "model_module_version": "1.2.0",
      "model_name": "LayoutModel",
      "state": {}
     },
     "6f000569533e497f9018c6d4c1c5083c": {
      "model_module": "@jupyter-widgets/controls",
      "model_module_version": "1.5.0",
      "model_name": "HTMLModel",
      "state": {
       "layout": "IPY_MODEL_c9c8f7ca157d4ca181063da7323742f4",
       "style": "IPY_MODEL_45ab558d1c70498f9b1c06cdc7670d1c",
       "value": "sent_chunk_0011.txt: 100%"
      }
     },
     "6f07dbc300304f599a270f102c1f3a64": {
      "model_module": "@jupyter-widgets/controls",
      "model_module_version": "1.5.0",
      "model_name": "ProgressStyleModel",
      "state": {
       "description_width": ""
      }
     },
     "6f14778379d44b56b6ef374ff7325ead": {
      "model_module": "@jupyter-widgets/controls",
      "model_module_version": "1.5.0",
      "model_name": "DescriptionStyleModel",
      "state": {
       "description_width": ""
      }
     },
     "6f3dfc5147b541a791df2f77f2a283f0": {
      "model_module": "@jupyter-widgets/base",
      "model_module_version": "1.2.0",
      "model_name": "LayoutModel",
      "state": {}
     },
     "6f5c0f36c9aa4016a4784563ae842cba": {
      "model_module": "@jupyter-widgets/controls",
      "model_module_version": "1.5.0",
      "model_name": "HBoxModel",
      "state": {
       "children": [
        "IPY_MODEL_a7ec3b94f8a544a4a929ce83127d5967",
        "IPY_MODEL_6335cdbf28344f8586bf96efe8c2df6e",
        "IPY_MODEL_b8b90601a7664deabf593bbb81f11ce5"
       ],
       "layout": "IPY_MODEL_dca21a8dbd814ead8b0969c98bbbf5ea"
      }
     },
     "6f6d2a17d43a47f8a2bd0d8d724b5f8f": {
      "model_module": "@jupyter-widgets/controls",
      "model_module_version": "1.5.0",
      "model_name": "HTMLModel",
      "state": {
       "layout": "IPY_MODEL_59f0e7e4fb884f9cbb013dadb849f175",
       "style": "IPY_MODEL_544f26618e8d469dbdb94ac886b4cdcd",
       "value": " 10000/10000 [00:01&lt;00:00, 7624.63it/s]"
      }
     },
     "6f75fa089db44749bb04d01cda799c87": {
      "model_module": "@jupyter-widgets/controls",
      "model_module_version": "1.5.0",
      "model_name": "FloatProgressModel",
      "state": {
       "bar_style": "success",
       "layout": "IPY_MODEL_94b47fb4cc5348febdf794f7b841ffa0",
       "max": 10000,
       "style": "IPY_MODEL_9f5dc95057374d87acb8e67661118ca7",
       "value": 10000
      }
     },
     "6fa9e0c33c4d46fca905f67838ab6b70": {
      "model_module": "@jupyter-widgets/controls",
      "model_module_version": "1.5.0",
      "model_name": "HTMLModel",
      "state": {
       "layout": "IPY_MODEL_235b39b0013746caa1f21b29624d34b3",
       "style": "IPY_MODEL_4c2c9b4b330a4c4daabdd0fcbec14f11",
       "value": " 10000/10000 [00:01&lt;00:00, 7418.06it/s]"
      }
     },
     "6fbc347c6bb1455190149471fa51c1e9": {
      "model_module": "@jupyter-widgets/base",
      "model_module_version": "1.2.0",
      "model_name": "LayoutModel",
      "state": {}
     },
     "6fd7e0ce7d23492b9ba3ff8b1913a2e8": {
      "model_module": "@jupyter-widgets/controls",
      "model_module_version": "1.5.0",
      "model_name": "FloatProgressModel",
      "state": {
       "bar_style": "success",
       "layout": "IPY_MODEL_e89be0e830aa4ed19dfab2f3bcb6e49b",
       "max": 10000,
       "style": "IPY_MODEL_7ccac416303f4437a0b8de3332a02a6d",
       "value": 10000
      }
     },
     "6fdd9fa69f0a40ed8717f63e4c82fb3a": {
      "model_module": "@jupyter-widgets/controls",
      "model_module_version": "1.5.0",
      "model_name": "HBoxModel",
      "state": {
       "children": [
        "IPY_MODEL_9d39d8e972fb43c1b970a5c0fd608d83",
        "IPY_MODEL_c800230e3fe745a18fcaeb43331bb971",
        "IPY_MODEL_7e6192e5075f4d4ea831652e028f5471"
       ],
       "layout": "IPY_MODEL_5f6bf11152b44c7a80b9849ffc29f300"
      }
     },
     "6feccb7ea35e4da79bf15cd9b6cd14fc": {
      "model_module": "@jupyter-widgets/controls",
      "model_module_version": "1.5.0",
      "model_name": "ProgressStyleModel",
      "state": {
       "description_width": ""
      }
     },
     "7048d0a577334bfe8e75fd909864c135": {
      "model_module": "@jupyter-widgets/controls",
      "model_module_version": "1.5.0",
      "model_name": "HBoxModel",
      "state": {
       "children": [
        "IPY_MODEL_74e0be9305af437ea6f1f081d933da8c",
        "IPY_MODEL_076bd536980b44c9819b4894ea29e673",
        "IPY_MODEL_bc51b2b26b9a4778ae6eb8dde7d1176c"
       ],
       "layout": "IPY_MODEL_009335ddfbd14f41bc10eb304a9a8915"
      }
     },
     "705dcb4dfdfd45ceaaea263fdb675b6a": {
      "model_module": "@jupyter-widgets/base",
      "model_module_version": "1.2.0",
      "model_name": "LayoutModel",
      "state": {}
     },
     "7072d80a96be405cade742ceda23aa97": {
      "model_module": "@jupyter-widgets/controls",
      "model_module_version": "1.5.0",
      "model_name": "FloatProgressModel",
      "state": {
       "bar_style": "success",
       "layout": "IPY_MODEL_b30b91edaf8646bda39d838fff24069e",
       "max": 10000,
       "style": "IPY_MODEL_95dca009fbd847c08ff6bababfa86576",
       "value": 10000
      }
     },
     "708907c490d64a17b74ffe6ee7b544bd": {
      "model_module": "@jupyter-widgets/controls",
      "model_module_version": "1.5.0",
      "model_name": "HBoxModel",
      "state": {
       "children": [
        "IPY_MODEL_75cf0b11d20e46868c227d048c6f305c",
        "IPY_MODEL_dcf0eae48fa442ed86442ec967c28678",
        "IPY_MODEL_f1e33582f08b4c82af9806121829130e"
       ],
       "layout": "IPY_MODEL_aadad63bd2904115bb54ec2169e409ca"
      }
     },
     "70f2301fff774d9bb05ced0d6353974a": {
      "model_module": "@jupyter-widgets/controls",
      "model_module_version": "1.5.0",
      "model_name": "DescriptionStyleModel",
      "state": {
       "description_width": ""
      }
     },
     "719abc747810447e9afd2911fe46afac": {
      "model_module": "@jupyter-widgets/base",
      "model_module_version": "1.2.0",
      "model_name": "LayoutModel",
      "state": {}
     },
     "71d49a69f7fa4bd88752c8d9140365fa": {
      "model_module": "@jupyter-widgets/controls",
      "model_module_version": "1.5.0",
      "model_name": "HTMLModel",
      "state": {
       "layout": "IPY_MODEL_c471df5d163a4de3974261966cc16e4e",
       "style": "IPY_MODEL_4f5d56a526ff4b4c9ad784389c72e614",
       "value": "sent_chunk_0036.txt: 100%"
      }
     },
     "728cf5727e964e3b8b4f25e771fcdba0": {
      "model_module": "@jupyter-widgets/controls",
      "model_module_version": "1.5.0",
      "model_name": "HTMLModel",
      "state": {
       "layout": "IPY_MODEL_6e1d69e6071440fabed7701f31aa5ed5",
       "style": "IPY_MODEL_a4479cd364c749bbb60519bdb420bedb",
       "value": " 10000/10000 [00:01&lt;00:00, 7542.85it/s]"
      }
     },
     "736f2e2d9f1f455f89977570bba8a024": {
      "model_module": "@jupyter-widgets/controls",
      "model_module_version": "1.5.0",
      "model_name": "ProgressStyleModel",
      "state": {
       "description_width": ""
      }
     },
     "7378bce816024dbbb9a929f9b63a5abe": {
      "model_module": "@jupyter-widgets/controls",
      "model_module_version": "1.5.0",
      "model_name": "ProgressStyleModel",
      "state": {
       "description_width": ""
      }
     },
     "7386d948dbb844ea8894b9d0e9edaf8d": {
      "model_module": "@jupyter-widgets/base",
      "model_module_version": "1.2.0",
      "model_name": "LayoutModel",
      "state": {}
     },
     "73984a36e8904df583c1cf9546a30feb": {
      "model_module": "@jupyter-widgets/controls",
      "model_module_version": "1.5.0",
      "model_name": "HTMLModel",
      "state": {
       "layout": "IPY_MODEL_4772cdf4916a407aa637ea42beea0460",
       "style": "IPY_MODEL_6bcdb6dc7e604826bf648aa0eda6656c",
       "value": "sent_chunk_0020.txt: 100%"
      }
     },
     "73cb29f4dc9f4937ad76b6920e903b5e": {
      "model_module": "@jupyter-widgets/base",
      "model_module_version": "1.2.0",
      "model_name": "LayoutModel",
      "state": {}
     },
     "73e2add3920e4095ab7d5b9c68cb3449": {
      "model_module": "@jupyter-widgets/controls",
      "model_module_version": "1.5.0",
      "model_name": "FloatProgressModel",
      "state": {
       "bar_style": "success",
       "layout": "IPY_MODEL_bd05cb6f775044278e82ec4a18ecdb70",
       "max": 10000,
       "style": "IPY_MODEL_6d2a4a75982c4296abd1a198882622f1",
       "value": 10000
      }
     },
     "7476610fbdf94baabb992f2942a9be3b": {
      "model_module": "@jupyter-widgets/base",
      "model_module_version": "1.2.0",
      "model_name": "LayoutModel",
      "state": {}
     },
     "7481f200118343c0a016453d849ad780": {
      "model_module": "@jupyter-widgets/controls",
      "model_module_version": "1.5.0",
      "model_name": "FloatProgressModel",
      "state": {
       "bar_style": "success",
       "layout": "IPY_MODEL_c40255e3ded245f695ef6e11325635c7",
       "max": 10000,
       "style": "IPY_MODEL_453d300e84a541e08db565a85c750721",
       "value": 10000
      }
     },
     "74ad1aa65bbb47f98ed4314176a0bb20": {
      "model_module": "@jupyter-widgets/base",
      "model_module_version": "1.2.0",
      "model_name": "LayoutModel",
      "state": {}
     },
     "74e0be9305af437ea6f1f081d933da8c": {
      "model_module": "@jupyter-widgets/controls",
      "model_module_version": "1.5.0",
      "model_name": "HTMLModel",
      "state": {
       "layout": "IPY_MODEL_9d03d82aa93b490e9e7636d43b42c3d9",
       "style": "IPY_MODEL_685c801b9f1b477a8070bbd38c4138ef",
       "value": "Writing sentences to sent_chunk_0060.txt: 100%"
      }
     },
     "74e223d0ecf64e3f934cdbf9dfa19ef7": {
      "model_module": "@jupyter-widgets/base",
      "model_module_version": "1.2.0",
      "model_name": "LayoutModel",
      "state": {}
     },
     "7512461fae924732a652d0b19d0045ec": {
      "model_module": "@jupyter-widgets/controls",
      "model_module_version": "1.5.0",
      "model_name": "DescriptionStyleModel",
      "state": {
       "description_width": ""
      }
     },
     "7548ac5ab7214f1091f892725ca79f80": {
      "model_module": "@jupyter-widgets/base",
      "model_module_version": "1.2.0",
      "model_name": "LayoutModel",
      "state": {}
     },
     "756a25bb12564a50b965a49e399557c2": {
      "model_module": "@jupyter-widgets/controls",
      "model_module_version": "1.5.0",
      "model_name": "HTMLModel",
      "state": {
       "layout": "IPY_MODEL_afed4bceeaa24889a4cb62d576258413",
       "style": "IPY_MODEL_aaa965bff6c24154b9472b2648a06285",
       "value": "Writing sentences to sent_chunk_0057.txt: 100%"
      }
     },
     "75cf0b11d20e46868c227d048c6f305c": {
      "model_module": "@jupyter-widgets/controls",
      "model_module_version": "1.5.0",
      "model_name": "HTMLModel",
      "state": {
       "layout": "IPY_MODEL_95eb27d2534c40edb1384291928fbf0b",
       "style": "IPY_MODEL_0f8845d0d17048618cd96274c6aae163",
       "value": "Writing sentences to sent_chunk_0046.txt: 100%"
      }
     },
     "75d2e1b345914cd68400ea8f1a93fe2f": {
      "model_module": "@jupyter-widgets/controls",
      "model_module_version": "1.5.0",
      "model_name": "HBoxModel",
      "state": {
       "children": [
        "IPY_MODEL_0579bb7dd617428eb05a98ac7380adc6",
        "IPY_MODEL_7072d80a96be405cade742ceda23aa97",
        "IPY_MODEL_14f1952bfb7a48e7933cbd820f038e38"
       ],
       "layout": "IPY_MODEL_63a219b7c68945bf8db1239347f74979"
      }
     },
     "763e4ea4c5e446fd84f8ebf616ed11dd": {
      "model_module": "@jupyter-widgets/base",
      "model_module_version": "1.2.0",
      "model_name": "LayoutModel",
      "state": {}
     },
     "763fdeeb67ad4eb29630e253083c17dc": {
      "model_module": "@jupyter-widgets/controls",
      "model_module_version": "1.5.0",
      "model_name": "ProgressStyleModel",
      "state": {
       "description_width": ""
      }
     },
     "764c9bb72a1145d8b574cd03cf1dbdb3": {
      "model_module": "@jupyter-widgets/controls",
      "model_module_version": "1.5.0",
      "model_name": "HTMLModel",
      "state": {
       "layout": "IPY_MODEL_59926056e8274318b9d031fef04eb4cc",
       "style": "IPY_MODEL_dbe986319268424aaa73f7b63712fd19",
       "value": " 10000/10000 [00:01&lt;00:00, 7470.83it/s]"
      }
     },
     "779c57eb6807469e89fb392b77d57886": {
      "model_module": "@jupyter-widgets/base",
      "model_module_version": "1.2.0",
      "model_name": "LayoutModel",
      "state": {}
     },
     "77d2992a88c04cff811237449a9ebf2d": {
      "model_module": "@jupyter-widgets/controls",
      "model_module_version": "1.5.0",
      "model_name": "FloatProgressModel",
      "state": {
       "bar_style": "success",
       "layout": "IPY_MODEL_94f6cac380d34f1a84c06ad8d042c3ba",
       "max": 10000,
       "style": "IPY_MODEL_91b3f2e4def1463280e61c5affd650bb",
       "value": 10000
      }
     },
     "7810ac4cb2024b139cccb5a345810e45": {
      "model_module": "@jupyter-widgets/controls",
      "model_module_version": "1.5.0",
      "model_name": "DescriptionStyleModel",
      "state": {
       "description_width": ""
      }
     },
     "7828eaa5164e42749e1331bc8880d406": {
      "model_module": "@jupyter-widgets/controls",
      "model_module_version": "1.5.0",
      "model_name": "FloatProgressModel",
      "state": {
       "bar_style": "success",
       "layout": "IPY_MODEL_e337e2813f86413c8bfaf8b19ab65d0c",
       "max": 10000,
       "style": "IPY_MODEL_84fde92316274b05a7b2b2db10aecb23",
       "value": 10000
      }
     },
     "78a840c0b734409196cdf029d320b145": {
      "model_module": "@jupyter-widgets/controls",
      "model_module_version": "1.5.0",
      "model_name": "HTMLModel",
      "state": {
       "layout": "IPY_MODEL_0f15e3821b22482799cff1c6f8e43d6d",
       "style": "IPY_MODEL_c7c54527cf334b07acf826a77fed022e",
       "value": " 10000/10000 [00:01&lt;00:00, 7251.14it/s]"
      }
     },
     "78f477ad26e9457cb0a0886ee031c495": {
      "model_module": "@jupyter-widgets/base",
      "model_module_version": "1.2.0",
      "model_name": "LayoutModel",
      "state": {}
     },
     "790439b3a6974a0d852df5b01241c3d2": {
      "model_module": "@jupyter-widgets/controls",
      "model_module_version": "1.5.0",
      "model_name": "DescriptionStyleModel",
      "state": {
       "description_width": ""
      }
     },
     "792d939e902349c182cc285c0bfeab20": {
      "model_module": "@jupyter-widgets/controls",
      "model_module_version": "1.5.0",
      "model_name": "FloatProgressModel",
      "state": {
       "bar_style": "success",
       "layout": "IPY_MODEL_b6cfb35f60e94e19b62f9ab55f1616f8",
       "max": 10000,
       "style": "IPY_MODEL_7f3913d5335e40da8c0d8d6995340aa8",
       "value": 10000
      }
     },
     "793d9a3ca51d4585a552bba45921cd2d": {
      "model_module": "@jupyter-widgets/base",
      "model_module_version": "1.2.0",
      "model_name": "LayoutModel",
      "state": {}
     },
     "7943d8211e284973b14f3a6208045f79": {
      "model_module": "@jupyter-widgets/base",
      "model_module_version": "1.2.0",
      "model_name": "LayoutModel",
      "state": {}
     },
     "79ad307bb86b41948445f99f8397b81c": {
      "model_module": "@jupyter-widgets/controls",
      "model_module_version": "1.5.0",
      "model_name": "HBoxModel",
      "state": {
       "children": [
        "IPY_MODEL_eebb7e29a2d645e3ba201faba69ed475",
        "IPY_MODEL_f700be9fec6443e4a5e46436b956c076",
        "IPY_MODEL_b652f4a0abb8499bb558471c2bf9c3e8"
       ],
       "layout": "IPY_MODEL_fa8b159550ec4d8e95a6118747a26be7"
      }
     },
     "79d1e1921511492bb571dcb1b7a024d8": {
      "model_module": "@jupyter-widgets/base",
      "model_module_version": "1.2.0",
      "model_name": "LayoutModel",
      "state": {}
     },
     "79da9e38c35d49cfb8ac50bcbed3850d": {
      "model_module": "@jupyter-widgets/controls",
      "model_module_version": "1.5.0",
      "model_name": "HTMLModel",
      "state": {
       "layout": "IPY_MODEL_6510ddf0d5284e93a737edc03039dc32",
       "style": "IPY_MODEL_036fd01085e04c02816013e34cdc0ffb",
       "value": "sent_chunk_0025.txt: 100%"
      }
     },
     "79e419e738d243a4b8c6d49328ad305b": {
      "model_module": "@jupyter-widgets/controls",
      "model_module_version": "1.5.0",
      "model_name": "DescriptionStyleModel",
      "state": {
       "description_width": ""
      }
     },
     "7a022349011e4fcc8efb875a893a092f": {
      "model_module": "@jupyter-widgets/controls",
      "model_module_version": "1.5.0",
      "model_name": "ProgressStyleModel",
      "state": {
       "description_width": ""
      }
     },
     "7a2cc6251f0346c9b6af24062c6218bd": {
      "model_module": "@jupyter-widgets/base",
      "model_module_version": "1.2.0",
      "model_name": "LayoutModel",
      "state": {}
     },
     "7a5533945f74497fbbd708d1cc8413bc": {
      "model_module": "@jupyter-widgets/base",
      "model_module_version": "1.2.0",
      "model_name": "LayoutModel",
      "state": {}
     },
     "7a6cc8274c8e46afa84e612fabb4b7a8": {
      "model_module": "@jupyter-widgets/controls",
      "model_module_version": "1.5.0",
      "model_name": "HBoxModel",
      "state": {
       "children": [
        "IPY_MODEL_7b742e9f6c6d4b39a1fe96f72944c538",
        "IPY_MODEL_33566e719f474e3683f7102438e0b9d2",
        "IPY_MODEL_ed3d9df0b33b4ee5bfcbad74271a4dd0"
       ],
       "layout": "IPY_MODEL_aeb3ba2b548340989304b93a240346b9"
      }
     },
     "7acec57f3a464a56a6b4ae4bc47d422f": {
      "model_module": "@jupyter-widgets/base",
      "model_module_version": "1.2.0",
      "model_name": "LayoutModel",
      "state": {}
     },
     "7ad377eba7514a479ad5eaf7079756bc": {
      "model_module": "@jupyter-widgets/controls",
      "model_module_version": "1.5.0",
      "model_name": "HTMLModel",
      "state": {
       "layout": "IPY_MODEL_0c8f52e54a374042914c0ed1c6de1d93",
       "style": "IPY_MODEL_9388a7e954d64a0f9be367018352ab50",
       "value": "Writing sentences to sent_chunk_0028.txt: 100%"
      }
     },
     "7af0c202e6cb458e8f57c887d53b00ac": {
      "model_module": "@jupyter-widgets/controls",
      "model_module_version": "1.5.0",
      "model_name": "DescriptionStyleModel",
      "state": {
       "description_width": ""
      }
     },
     "7b1b6d92aaf4498e9d672125bfa16836": {
      "model_module": "@jupyter-widgets/base",
      "model_module_version": "1.2.0",
      "model_name": "LayoutModel",
      "state": {}
     },
     "7b622a42992f4fb4b834ebda82b417f5": {
      "model_module": "@jupyter-widgets/base",
      "model_module_version": "1.2.0",
      "model_name": "LayoutModel",
      "state": {}
     },
     "7b742e9f6c6d4b39a1fe96f72944c538": {
      "model_module": "@jupyter-widgets/controls",
      "model_module_version": "1.5.0",
      "model_name": "HTMLModel",
      "state": {
       "layout": "IPY_MODEL_682a85ad097d4910b0028f8c87ad6f03",
       "style": "IPY_MODEL_c6953bde73814bb896b6bc43ae683b17",
       "value": "sent_chunk_0027.txt: 100%"
      }
     },
     "7b7e3a3dd24442c29d3d96b5f18f17ce": {
      "model_module": "@jupyter-widgets/controls",
      "model_module_version": "1.5.0",
      "model_name": "DescriptionStyleModel",
      "state": {
       "description_width": ""
      }
     },
     "7ba34563bbdc410ba64dabf564db1cf5": {
      "model_module": "@jupyter-widgets/controls",
      "model_module_version": "1.5.0",
      "model_name": "ProgressStyleModel",
      "state": {
       "description_width": ""
      }
     },
     "7c3425683ba642a1ab354b84deea4e38": {
      "model_module": "@jupyter-widgets/controls",
      "model_module_version": "1.5.0",
      "model_name": "HTMLModel",
      "state": {
       "layout": "IPY_MODEL_259bb45fe1364ad1b14ecdc0f5499871",
       "style": "IPY_MODEL_bcb2f55d8a6644d9ba45ea8fddf02740",
       "value": "Writing sentences to sent_chunk_0019.txt: 100%"
      }
     },
     "7c6608d2767f4a96ad58525974fb375c": {
      "model_module": "@jupyter-widgets/controls",
      "model_module_version": "1.5.0",
      "model_name": "DescriptionStyleModel",
      "state": {
       "description_width": ""
      }
     },
     "7c792e103ece45199cac20f6cf13f63c": {
      "model_module": "@jupyter-widgets/controls",
      "model_module_version": "1.5.0",
      "model_name": "DescriptionStyleModel",
      "state": {
       "description_width": ""
      }
     },
     "7c99ddc9f0a34d5daeef78b930fdfb85": {
      "model_module": "@jupyter-widgets/controls",
      "model_module_version": "1.5.0",
      "model_name": "ProgressStyleModel",
      "state": {
       "description_width": ""
      }
     },
     "7ccac416303f4437a0b8de3332a02a6d": {
      "model_module": "@jupyter-widgets/controls",
      "model_module_version": "1.5.0",
      "model_name": "ProgressStyleModel",
      "state": {
       "description_width": ""
      }
     },
     "7cf9a794f3c64143bf65a30c4e90c113": {
      "model_module": "@jupyter-widgets/controls",
      "model_module_version": "1.5.0",
      "model_name": "ProgressStyleModel",
      "state": {
       "description_width": ""
      }
     },
     "7d0c76b2b77548c59dae221d7bfbc928": {
      "model_module": "@jupyter-widgets/base",
      "model_module_version": "1.2.0",
      "model_name": "LayoutModel",
      "state": {}
     },
     "7d4157a75f584c1695cf9c7d5e052edf": {
      "model_module": "@jupyter-widgets/base",
      "model_module_version": "1.2.0",
      "model_name": "LayoutModel",
      "state": {}
     },
     "7d6dcf57b6804ffe96806ff6e5f29efa": {
      "model_module": "@jupyter-widgets/controls",
      "model_module_version": "1.5.0",
      "model_name": "DescriptionStyleModel",
      "state": {
       "description_width": ""
      }
     },
     "7d95c0320b684ea88299dc7c96bd373b": {
      "model_module": "@jupyter-widgets/base",
      "model_module_version": "1.2.0",
      "model_name": "LayoutModel",
      "state": {}
     },
     "7dc98581e5164d38bd6c682b9495d74e": {
      "model_module": "@jupyter-widgets/controls",
      "model_module_version": "1.5.0",
      "model_name": "HTMLModel",
      "state": {
       "layout": "IPY_MODEL_f45fd753cbc147bea44ebcae84dda436",
       "style": "IPY_MODEL_4055d6376e6a439eb25f2ce2c7d049b5",
       "value": " 10000/10000 [00:01&lt;00:00, 7326.40it/s]"
      }
     },
     "7dcd3bd6956c43528faf5c289d04323d": {
      "model_module": "@jupyter-widgets/controls",
      "model_module_version": "1.5.0",
      "model_name": "HBoxModel",
      "state": {
       "children": [
        "IPY_MODEL_756a25bb12564a50b965a49e399557c2",
        "IPY_MODEL_0249b4aaa774471f9ca782680ed85cea",
        "IPY_MODEL_44190b4c9bff49f4bb26ce2ab754e6b2"
       ],
       "layout": "IPY_MODEL_cfdfbe01448a466eb709f6feceb5a4bd"
      }
     },
     "7e2ec347906d4f4a976c7e72c5ebb31e": {
      "model_module": "@jupyter-widgets/base",
      "model_module_version": "1.2.0",
      "model_name": "LayoutModel",
      "state": {}
     },
     "7e32143fe1314ffaa108bb4016464621": {
      "model_module": "@jupyter-widgets/controls",
      "model_module_version": "1.5.0",
      "model_name": "HTMLModel",
      "state": {
       "layout": "IPY_MODEL_bc2ee050262b408b9f62c193225b5a04",
       "style": "IPY_MODEL_790439b3a6974a0d852df5b01241c3d2",
       "value": "100%"
      }
     },
     "7e56db624d8e4c3ca9e2c3f5f07b8405": {
      "model_module": "@jupyter-widgets/controls",
      "model_module_version": "1.5.0",
      "model_name": "HTMLModel",
      "state": {
       "layout": "IPY_MODEL_8438d3c926b342be95805d1249ef86d6",
       "style": "IPY_MODEL_4fff138b60d64506802420a8124d74bb",
       "value": "Writing sentences to sent_chunk_0013.txt: 100%"
      }
     },
     "7e582b5592c144cd9c82f23f68cf984a": {
      "model_module": "@jupyter-widgets/base",
      "model_module_version": "1.2.0",
      "model_name": "LayoutModel",
      "state": {}
     },
     "7e6192e5075f4d4ea831652e028f5471": {
      "model_module": "@jupyter-widgets/controls",
      "model_module_version": "1.5.0",
      "model_name": "HTMLModel",
      "state": {
       "layout": "IPY_MODEL_ab35a5ea836f44d1be05122a3eecbe65",
       "style": "IPY_MODEL_1cd6cc038bc74b5a8496bc83e3c1a421",
       "value": " 10000/10000 [00:01&lt;00:00, 7528.09it/s]"
      }
     },
     "7ec3fd54c8cf44b9bdf278968be34c65": {
      "model_module": "@jupyter-widgets/base",
      "model_module_version": "1.2.0",
      "model_name": "LayoutModel",
      "state": {}
     },
     "7f14b6ff160c416f8d64bcaaf72e211e": {
      "model_module": "@jupyter-widgets/base",
      "model_module_version": "1.2.0",
      "model_name": "LayoutModel",
      "state": {}
     },
     "7f1ebb53f5024783a97694a39beebf5b": {
      "model_module": "@jupyter-widgets/base",
      "model_module_version": "1.2.0",
      "model_name": "LayoutModel",
      "state": {}
     },
     "7f268d8c804d45afb4d0b3bb49f5c8f5": {
      "model_module": "@jupyter-widgets/controls",
      "model_module_version": "1.5.0",
      "model_name": "HTMLModel",
      "state": {
       "layout": "IPY_MODEL_468a9b71b0124c93a376a9d5cc9dd34f",
       "style": "IPY_MODEL_940ef757424c481da1550ccefe7c4a2d",
       "value": " 10000/10000 [00:01&lt;00:00, 7337.26it/s]"
      }
     },
     "7f3913d5335e40da8c0d8d6995340aa8": {
      "model_module": "@jupyter-widgets/controls",
      "model_module_version": "1.5.0",
      "model_name": "ProgressStyleModel",
      "state": {
       "description_width": ""
      }
     },
     "7f4f293ac3fe49c6b24a2fbb03665d79": {
      "model_module": "@jupyter-widgets/base",
      "model_module_version": "1.2.0",
      "model_name": "LayoutModel",
      "state": {}
     },
     "7f5f99d1fcbc4968897f3c5d7b520200": {
      "model_module": "@jupyter-widgets/base",
      "model_module_version": "1.2.0",
      "model_name": "LayoutModel",
      "state": {}
     },
     "7f7c64ab5b0640f3b36cc469567dd3c5": {
      "model_module": "@jupyter-widgets/base",
      "model_module_version": "1.2.0",
      "model_name": "LayoutModel",
      "state": {}
     },
     "7f899017a7c446e79ff51d5c92a7ebbf": {
      "model_module": "@jupyter-widgets/controls",
      "model_module_version": "1.5.0",
      "model_name": "HTMLModel",
      "state": {
       "layout": "IPY_MODEL_cf31fc396da74b7e8d02a62f60275464",
       "style": "IPY_MODEL_c16a39c5a03e4d1788b9f75349f336f5",
       "value": " 10000/10000 [00:01&lt;00:00, 7521.26it/s]"
      }
     },
     "7fc13ba65a0c4a6a9b22f7b656ca1e51": {
      "model_module": "@jupyter-widgets/controls",
      "model_module_version": "1.5.0",
      "model_name": "HBoxModel",
      "state": {
       "children": [
        "IPY_MODEL_410e3c5e25e14061aad7646216b6ce82",
        "IPY_MODEL_df3e0b7c0fd8485fa97da051afc91ea3",
        "IPY_MODEL_2d4e7833556249e6a7993f72fd152c19"
       ],
       "layout": "IPY_MODEL_9a1ad04015294eb789fddc1446bce584"
      }
     },
     "7ffdf9de2d5449a68ebf27d5a9fa6d4d": {
      "model_module": "@jupyter-widgets/controls",
      "model_module_version": "1.5.0",
      "model_name": "ProgressStyleModel",
      "state": {
       "description_width": ""
      }
     },
     "80474cc528b24fdfbe0bec3da8ed5a39": {
      "model_module": "@jupyter-widgets/controls",
      "model_module_version": "1.5.0",
      "model_name": "ProgressStyleModel",
      "state": {
       "description_width": ""
      }
     },
     "80a06b40e014433681c7aed537c48dac": {
      "model_module": "@jupyter-widgets/controls",
      "model_module_version": "1.5.0",
      "model_name": "DescriptionStyleModel",
      "state": {
       "description_width": ""
      }
     },
     "80a0f9b59f57402cbdb06dce4020fb7f": {
      "model_module": "@jupyter-widgets/controls",
      "model_module_version": "1.5.0",
      "model_name": "ProgressStyleModel",
      "state": {
       "description_width": ""
      }
     },
     "80b70e7ac6624ea5b854d5ede757c7ad": {
      "model_module": "@jupyter-widgets/controls",
      "model_module_version": "1.5.0",
      "model_name": "FloatProgressModel",
      "state": {
       "bar_style": "success",
       "layout": "IPY_MODEL_3771b7e905a047e087ce526134bd6da7",
       "max": 10000,
       "style": "IPY_MODEL_7ffdf9de2d5449a68ebf27d5a9fa6d4d",
       "value": 10000
      }
     },
     "812bb633f87c499bb21f19001e23ccbc": {
      "model_module": "@jupyter-widgets/base",
      "model_module_version": "1.2.0",
      "model_name": "LayoutModel",
      "state": {}
     },
     "814abbf33f624d0d922927070033a9fe": {
      "model_module": "@jupyter-widgets/controls",
      "model_module_version": "1.5.0",
      "model_name": "DescriptionStyleModel",
      "state": {
       "description_width": ""
      }
     },
     "8176b5eac51b4832b157971a89c99b74": {
      "model_module": "@jupyter-widgets/controls",
      "model_module_version": "1.5.0",
      "model_name": "ProgressStyleModel",
      "state": {
       "description_width": ""
      }
     },
     "8194eba5dcc840398df0a272264c78bd": {
      "model_module": "@jupyter-widgets/controls",
      "model_module_version": "1.5.0",
      "model_name": "FloatProgressModel",
      "state": {
       "bar_style": "success",
       "layout": "IPY_MODEL_d039181cf57547e4b4e55a29f8d80fc5",
       "max": 10000,
       "style": "IPY_MODEL_82cf22fdce5740b1a5b52476e622ce99",
       "value": 10000
      }
     },
     "81fddb120f914c16aaf73932622553c1": {
      "model_module": "@jupyter-widgets/controls",
      "model_module_version": "1.5.0",
      "model_name": "HTMLModel",
      "state": {
       "layout": "IPY_MODEL_9c30b669b1414faabf95d0fa3d46ca21",
       "style": "IPY_MODEL_80a06b40e014433681c7aed537c48dac",
       "value": "Writing sentences to sent_chunk_0049.txt: 100%"
      }
     },
     "81ff91cf209546c3ac19a299591fefe9": {
      "model_module": "@jupyter-widgets/controls",
      "model_module_version": "1.5.0",
      "model_name": "FloatProgressModel",
      "state": {
       "bar_style": "success",
       "layout": "IPY_MODEL_16000d5c9f3c437ab6e5d338007f6f40",
       "max": 10000,
       "style": "IPY_MODEL_3cbba1a552224fe89a32daa9d3cc9d46",
       "value": 10000
      }
     },
     "8223f14752c34a088d92a27dc395cc03": {
      "model_module": "@jupyter-widgets/controls",
      "model_module_version": "1.5.0",
      "model_name": "HTMLModel",
      "state": {
       "layout": "IPY_MODEL_4047d7c33f624a6aa99a06080e799926",
       "style": "IPY_MODEL_9a8db3d5c8b341c1877f48c1f78daaae",
       "value": "Writing sentences to sent_chunk_0034.txt: 100%"
      }
     },
     "827711a444134defa6d2019012241059": {
      "model_module": "@jupyter-widgets/controls",
      "model_module_version": "1.5.0",
      "model_name": "DescriptionStyleModel",
      "state": {
       "description_width": ""
      }
     },
     "82bdde60b15340708322df027ae74008": {
      "model_module": "@jupyter-widgets/controls",
      "model_module_version": "1.5.0",
      "model_name": "FloatProgressModel",
      "state": {
       "layout": "IPY_MODEL_7ec3fd54c8cf44b9bdf278968be34c65",
       "max": 61,
       "style": "IPY_MODEL_147d995d4d4e4c65879c3de4166bc174",
       "value": 45
      }
     },
     "82cf22fdce5740b1a5b52476e622ce99": {
      "model_module": "@jupyter-widgets/controls",
      "model_module_version": "1.5.0",
      "model_name": "ProgressStyleModel",
      "state": {
       "description_width": ""
      }
     },
     "82dda7586426464dbd8de4482e6e20eb": {
      "model_module": "@jupyter-widgets/controls",
      "model_module_version": "1.5.0",
      "model_name": "DescriptionStyleModel",
      "state": {
       "description_width": ""
      }
     },
     "82f4e36c8ab74556a59b5db6ad714acc": {
      "model_module": "@jupyter-widgets/controls",
      "model_module_version": "1.5.0",
      "model_name": "ProgressStyleModel",
      "state": {
       "description_width": ""
      }
     },
     "830086ddbc2d4c4a8d1168621dbd9980": {
      "model_module": "@jupyter-widgets/controls",
      "model_module_version": "1.5.0",
      "model_name": "DescriptionStyleModel",
      "state": {
       "description_width": ""
      }
     },
     "830db0bdaa984ea0b8abbf628bac3711": {
      "model_module": "@jupyter-widgets/base",
      "model_module_version": "1.2.0",
      "model_name": "LayoutModel",
      "state": {}
     },
     "831aae7c929d4ddeb63a930a1eeaded6": {
      "model_module": "@jupyter-widgets/controls",
      "model_module_version": "1.5.0",
      "model_name": "DescriptionStyleModel",
      "state": {
       "description_width": ""
      }
     },
     "83f4c9f3f9ad42509ef4f52d9a4daea1": {
      "model_module": "@jupyter-widgets/controls",
      "model_module_version": "1.5.0",
      "model_name": "DescriptionStyleModel",
      "state": {
       "description_width": ""
      }
     },
     "83f549a8fd6f427ca6535a14958f3755": {
      "model_module": "@jupyter-widgets/controls",
      "model_module_version": "1.5.0",
      "model_name": "DescriptionStyleModel",
      "state": {
       "description_width": ""
      }
     },
     "840e53d86d9f4c90bbdd715f16a0abfb": {
      "model_module": "@jupyter-widgets/controls",
      "model_module_version": "1.5.0",
      "model_name": "DescriptionStyleModel",
      "state": {
       "description_width": ""
      }
     },
     "8438d3c926b342be95805d1249ef86d6": {
      "model_module": "@jupyter-widgets/base",
      "model_module_version": "1.2.0",
      "model_name": "LayoutModel",
      "state": {}
     },
     "849fdd03c05b443787f616e01c93e1e4": {
      "model_module": "@jupyter-widgets/base",
      "model_module_version": "1.2.0",
      "model_name": "LayoutModel",
      "state": {}
     },
     "84c72f1d000e4fdd87d2c34f6751b41c": {
      "model_module": "@jupyter-widgets/base",
      "model_module_version": "1.2.0",
      "model_name": "LayoutModel",
      "state": {}
     },
     "84e11c82d96847318789a010eae28961": {
      "model_module": "@jupyter-widgets/base",
      "model_module_version": "1.2.0",
      "model_name": "LayoutModel",
      "state": {}
     },
     "84f25f31d65e4f6a85a102915f52bf35": {
      "model_module": "@jupyter-widgets/controls",
      "model_module_version": "1.5.0",
      "model_name": "ProgressStyleModel",
      "state": {
       "description_width": ""
      }
     },
     "84f679ed9bf6455ca9a80bf6ff905af9": {
      "model_module": "@jupyter-widgets/controls",
      "model_module_version": "1.5.0",
      "model_name": "DescriptionStyleModel",
      "state": {
       "description_width": ""
      }
     },
     "84fde92316274b05a7b2b2db10aecb23": {
      "model_module": "@jupyter-widgets/controls",
      "model_module_version": "1.5.0",
      "model_name": "ProgressStyleModel",
      "state": {
       "description_width": ""
      }
     },
     "852b27f7f651403cbc5919954b2aa134": {
      "model_module": "@jupyter-widgets/base",
      "model_module_version": "1.2.0",
      "model_name": "LayoutModel",
      "state": {}
     },
     "857caf9c47334c9b9718c6e62bc4703d": {
      "model_module": "@jupyter-widgets/base",
      "model_module_version": "1.2.0",
      "model_name": "LayoutModel",
      "state": {}
     },
     "865b935ce2fb4e2985e85b62bb5fef0b": {
      "model_module": "@jupyter-widgets/controls",
      "model_module_version": "1.5.0",
      "model_name": "ProgressStyleModel",
      "state": {
       "description_width": ""
      }
     },
     "86a9f7209d2b42b2ad69bf1730fef19b": {
      "model_module": "@jupyter-widgets/controls",
      "model_module_version": "1.5.0",
      "model_name": "DescriptionStyleModel",
      "state": {
       "description_width": ""
      }
     },
     "86ad283486aa4efc89e700a306bc3299": {
      "model_module": "@jupyter-widgets/controls",
      "model_module_version": "1.5.0",
      "model_name": "DescriptionStyleModel",
      "state": {
       "description_width": ""
      }
     },
     "86c1b44b479a4eb2996a6b78dffe0128": {
      "model_module": "@jupyter-widgets/base",
      "model_module_version": "1.2.0",
      "model_name": "LayoutModel",
      "state": {}
     },
     "87dd5c3e8ee147e3bd06b9c71a1d31ef": {
      "model_module": "@jupyter-widgets/controls",
      "model_module_version": "1.5.0",
      "model_name": "HTMLModel",
      "state": {
       "layout": "IPY_MODEL_eeeb7b53695a454ca6e6f5aa7ffcd9c2",
       "style": "IPY_MODEL_68a9e6ee32604937a5eaa7120ff43ff0",
       "value": "Writing sentences to sent_chunk_0012.txt: 100%"
      }
     },
     "882a6d3f87254d8e9f47aef4f8b58047": {
      "model_module": "@jupyter-widgets/controls",
      "model_module_version": "1.5.0",
      "model_name": "ProgressStyleModel",
      "state": {
       "description_width": ""
      }
     },
     "8833020f58214d2695b8168906383f44": {
      "model_module": "@jupyter-widgets/base",
      "model_module_version": "1.2.0",
      "model_name": "LayoutModel",
      "state": {}
     },
     "88386d49d258481fb74ac39daa878dd3": {
      "model_module": "@jupyter-widgets/base",
      "model_module_version": "1.2.0",
      "model_name": "LayoutModel",
      "state": {}
     },
     "8838c58cceaa4b96b1824165081628d0": {
      "model_module": "@jupyter-widgets/base",
      "model_module_version": "1.2.0",
      "model_name": "LayoutModel",
      "state": {}
     },
     "8861ce63c50344f588640d023ab2706c": {
      "model_module": "@jupyter-widgets/controls",
      "model_module_version": "1.5.0",
      "model_name": "DescriptionStyleModel",
      "state": {
       "description_width": ""
      }
     },
     "886e58404a724d4eaac9b8e5225e8be8": {
      "model_module": "@jupyter-widgets/controls",
      "model_module_version": "1.5.0",
      "model_name": "HTMLModel",
      "state": {
       "layout": "IPY_MODEL_6c8057762644403483793691b33377e0",
       "style": "IPY_MODEL_a95db3db9b34427d9b241aac52bb71aa",
       "value": "Writing sentences to sent_chunk_0026.txt: 100%"
      }
     },
     "8a1885defc5f4ece9c1d710fbe114e6c": {
      "model_module": "@jupyter-widgets/controls",
      "model_module_version": "1.5.0",
      "model_name": "HBoxModel",
      "state": {
       "children": [
        "IPY_MODEL_4bc554f049c84426b219cf04612f531b",
        "IPY_MODEL_b68422aa92f14f99b26c565adc6bad1a",
        "IPY_MODEL_3bc5b3e604ab45189201e095be96e5a5"
       ],
       "layout": "IPY_MODEL_3e26d1f31d0e4c7cba669578744975ef"
      }
     },
     "8a2b8135e6194c3085bc48b8cfb349d8": {
      "model_module": "@jupyter-widgets/base",
      "model_module_version": "1.2.0",
      "model_name": "LayoutModel",
      "state": {}
     },
     "8a474c99735046ec88c34864932a7654": {
      "model_module": "@jupyter-widgets/controls",
      "model_module_version": "1.5.0",
      "model_name": "HTMLModel",
      "state": {
       "layout": "IPY_MODEL_3910d43f91a7411db55bdf933744f0ac",
       "style": "IPY_MODEL_9446f4dd1df14666878d106b4a8efb5d",
       "value": " 10000/10000 [00:01&lt;00:00, 7610.67it/s]"
      }
     },
     "8a77c3c723e34e1c965d96b914fc448e": {
      "model_module": "@jupyter-widgets/controls",
      "model_module_version": "1.5.0",
      "model_name": "HTMLModel",
      "state": {
       "layout": "IPY_MODEL_d6b2a137df624648ac574592d7d7fd8e",
       "style": "IPY_MODEL_63c811a9528e4afc88b981879268437e",
       "value": " 10000/10000 [00:01&lt;00:00, 7422.80it/s]"
      }
     },
     "8a7cf454687340578ec32612605acbb1": {
      "model_module": "@jupyter-widgets/base",
      "model_module_version": "1.2.0",
      "model_name": "LayoutModel",
      "state": {}
     },
     "8a86e860d5d449df94f9c6d998d5b82f": {
      "model_module": "@jupyter-widgets/base",
      "model_module_version": "1.2.0",
      "model_name": "LayoutModel",
      "state": {}
     },
     "8a8f96dbc26645f9b4ece5572b05e6ab": {
      "model_module": "@jupyter-widgets/base",
      "model_module_version": "1.2.0",
      "model_name": "LayoutModel",
      "state": {}
     },
     "8aed5cff06cd4096870810ae60532e16": {
      "model_module": "@jupyter-widgets/controls",
      "model_module_version": "1.5.0",
      "model_name": "FloatProgressModel",
      "state": {
       "bar_style": "success",
       "layout": "IPY_MODEL_203e73e767c541ba9f6b01f6c0e8e118",
       "max": 10000,
       "style": "IPY_MODEL_d6d06ac48b3b478c84e7f0cdb7732042",
       "value": 10000
      }
     },
     "8b99d581c4d44c8c921cfa78e6b522d8": {
      "model_module": "@jupyter-widgets/controls",
      "model_module_version": "1.5.0",
      "model_name": "DescriptionStyleModel",
      "state": {
       "description_width": ""
      }
     },
     "8bb28b91a326405ea16bc8580b16d195": {
      "model_module": "@jupyter-widgets/controls",
      "model_module_version": "1.5.0",
      "model_name": "HTMLModel",
      "state": {
       "layout": "IPY_MODEL_3f2a273568ff480b833f1844b4f21db7",
       "style": "IPY_MODEL_86ad283486aa4efc89e700a306bc3299",
       "value": " 10000/10000 [00:01&lt;00:00, 7452.99it/s]"
      }
     },
     "8bb3a7c561d34a6a999546d5da73dbed": {
      "model_module": "@jupyter-widgets/base",
      "model_module_version": "1.2.0",
      "model_name": "LayoutModel",
      "state": {}
     },
     "8bd6d1bb984d4020ada826e9a39c6cc0": {
      "model_module": "@jupyter-widgets/controls",
      "model_module_version": "1.5.0",
      "model_name": "HBoxModel",
      "state": {
       "children": [
        "IPY_MODEL_0217554c3fbb4996988df3301fd09ea5",
        "IPY_MODEL_ca12cb5f4e8348cf9b934fb580809b16",
        "IPY_MODEL_7f268d8c804d45afb4d0b3bb49f5c8f5"
       ],
       "layout": "IPY_MODEL_0b68e75cff024a77b025fde8494fd759"
      }
     },
     "8c09aad45dc04c7e91653695dbdf2d5d": {
      "model_module": "@jupyter-widgets/controls",
      "model_module_version": "1.5.0",
      "model_name": "HTMLModel",
      "state": {
       "layout": "IPY_MODEL_d4d2bbab4950418c9c9df5e752656178",
       "style": "IPY_MODEL_814abbf33f624d0d922927070033a9fe",
       "value": "sent_chunk_0004.txt: 100%"
      }
     },
     "8c24c8e17a824e3c94e72115c2a57a20": {
      "model_module": "@jupyter-widgets/base",
      "model_module_version": "1.2.0",
      "model_name": "LayoutModel",
      "state": {}
     },
     "8c30a76faf9b4e999ebfc5c2e9387ab6": {
      "model_module": "@jupyter-widgets/controls",
      "model_module_version": "1.5.0",
      "model_name": "DescriptionStyleModel",
      "state": {
       "description_width": ""
      }
     },
     "8c3558fc5be542db8067b37f7d53d4b9": {
      "model_module": "@jupyter-widgets/base",
      "model_module_version": "1.2.0",
      "model_name": "LayoutModel",
      "state": {}
     },
     "8c466ade02234d75a60f52eea59b0360": {
      "model_module": "@jupyter-widgets/controls",
      "model_module_version": "1.5.0",
      "model_name": "FloatProgressModel",
      "state": {
       "bar_style": "success",
       "layout": "IPY_MODEL_8e22ba108810436fb81ef0337907684a",
       "max": 10000,
       "style": "IPY_MODEL_ab45db095c9a46bebb8302e515c267f2",
       "value": 10000
      }
     },
     "8c466b97072d49c7880f8a0b5ca61606": {
      "model_module": "@jupyter-widgets/controls",
      "model_module_version": "1.5.0",
      "model_name": "HTMLModel",
      "state": {
       "layout": "IPY_MODEL_d04a9078b5fb489a9bff7d51dcdb834d",
       "style": "IPY_MODEL_60c535f76d1345e4b358066b4f86bdce",
       "value": "Writing sentences to sent_chunk_0011.txt: 100%"
      }
     },
     "8c71b4d84e1a4692865d4a9c88df4738": {
      "model_module": "@jupyter-widgets/controls",
      "model_module_version": "1.5.0",
      "model_name": "ProgressStyleModel",
      "state": {
       "description_width": ""
      }
     },
     "8c79468901644c7abeda2199ddef1bfd": {
      "model_module": "@jupyter-widgets/base",
      "model_module_version": "1.2.0",
      "model_name": "LayoutModel",
      "state": {}
     },
     "8c7c2097ece749769fe67eff89eea803": {
      "model_module": "@jupyter-widgets/controls",
      "model_module_version": "1.5.0",
      "model_name": "HTMLModel",
      "state": {
       "layout": "IPY_MODEL_20c3bb59ea9d44cda37645494c5dd997",
       "style": "IPY_MODEL_8d0a4946ed634b82855fd548eb7b1bfc",
       "value": "sent_chunk_0021.txt: 100%"
      }
     },
     "8c8a15da3a8943dfa40037724e847951": {
      "model_module": "@jupyter-widgets/base",
      "model_module_version": "1.2.0",
      "model_name": "LayoutModel",
      "state": {}
     },
     "8cadc8a2cc2e4972a6a5221e7475b969": {
      "model_module": "@jupyter-widgets/controls",
      "model_module_version": "1.5.0",
      "model_name": "DescriptionStyleModel",
      "state": {
       "description_width": ""
      }
     },
     "8cbc4a49a2c149c1aaf020535f90b7aa": {
      "model_module": "@jupyter-widgets/controls",
      "model_module_version": "1.5.0",
      "model_name": "DescriptionStyleModel",
      "state": {
       "description_width": ""
      }
     },
     "8cc0694ee701496ebad2bf6d29886a65": {
      "model_module": "@jupyter-widgets/controls",
      "model_module_version": "1.5.0",
      "model_name": "HBoxModel",
      "state": {
       "children": [
        "IPY_MODEL_7c3425683ba642a1ab354b84deea4e38",
        "IPY_MODEL_9a3e65bbb62c498d99e699cc8f899ec9",
        "IPY_MODEL_e0186495b4524a1ab7668f34d724b1f1"
       ],
       "layout": "IPY_MODEL_5b74fae785f04c87a0d34e83b96c1a14"
      }
     },
     "8cd61901a00548e282dbb0039f529a83": {
      "model_module": "@jupyter-widgets/controls",
      "model_module_version": "1.5.0",
      "model_name": "HTMLModel",
      "state": {
       "layout": "IPY_MODEL_6b5bc701d7ba4d658d1193cee645d2de",
       "style": "IPY_MODEL_e1332fe9165f4fc2aaafe55c45fd412c",
       "value": " 10000/10000 [00:01&lt;00:00, 7429.05it/s]"
      }
     },
     "8d03a220d43e4df0afcb344562083677": {
      "model_module": "@jupyter-widgets/base",
      "model_module_version": "1.2.0",
      "model_name": "LayoutModel",
      "state": {}
     },
     "8d0a4946ed634b82855fd548eb7b1bfc": {
      "model_module": "@jupyter-widgets/controls",
      "model_module_version": "1.5.0",
      "model_name": "DescriptionStyleModel",
      "state": {
       "description_width": ""
      }
     },
     "8d204df54a7445a8bf70fd07b32797f6": {
      "model_module": "@jupyter-widgets/controls",
      "model_module_version": "1.5.0",
      "model_name": "DescriptionStyleModel",
      "state": {
       "description_width": ""
      }
     },
     "8d72a955593148a2af6cc1042e00f5ce": {
      "model_module": "@jupyter-widgets/controls",
      "model_module_version": "1.5.0",
      "model_name": "HTMLModel",
      "state": {
       "layout": "IPY_MODEL_455b6e561a214ad0b7a28f8c58d3c1f4",
       "style": "IPY_MODEL_fa14d234a8da4687af47c70ea724c8b4",
       "value": " 10000/10000 [00:01&lt;00:00, 7624.96it/s]"
      }
     },
     "8dd8ac289fca45748135ba5b6846e30e": {
      "model_module": "@jupyter-widgets/controls",
      "model_module_version": "1.5.0",
      "model_name": "ProgressStyleModel",
      "state": {
       "description_width": ""
      }
     },
     "8de27ed9a21649cd9c238b09cc2be53b": {
      "model_module": "@jupyter-widgets/controls",
      "model_module_version": "1.5.0",
      "model_name": "FloatProgressModel",
      "state": {
       "bar_style": "success",
       "layout": "IPY_MODEL_fdc20e533c8a47d88d854271410697ed",
       "max": 10000,
       "style": "IPY_MODEL_80a0f9b59f57402cbdb06dce4020fb7f",
       "value": 10000
      }
     },
     "8de7c26c121244cfa85625f5df30d7c4": {
      "model_module": "@jupyter-widgets/controls",
      "model_module_version": "1.5.0",
      "model_name": "DescriptionStyleModel",
      "state": {
       "description_width": ""
      }
     },
     "8e22ba108810436fb81ef0337907684a": {
      "model_module": "@jupyter-widgets/base",
      "model_module_version": "1.2.0",
      "model_name": "LayoutModel",
      "state": {}
     },
     "8e4c9a7a3c7b4cb6b863ac541071e9f0": {
      "model_module": "@jupyter-widgets/controls",
      "model_module_version": "1.5.0",
      "model_name": "HBoxModel",
      "state": {
       "children": [
        "IPY_MODEL_c364653960f546ecbe82d3fcfde9cb54",
        "IPY_MODEL_eae4d3ab75d848739d7e5cee41ce265d",
        "IPY_MODEL_b8622343d97d40d1a3eab1af2bda0df3"
       ],
       "layout": "IPY_MODEL_2468a158910f49e4a4b799a4dea22d38"
      }
     },
     "8e641c14e37645a283bc29a94bc21138": {
      "model_module": "@jupyter-widgets/controls",
      "model_module_version": "1.5.0",
      "model_name": "HBoxModel",
      "state": {
       "children": [
        "IPY_MODEL_fb2463063d1c4aa1931032cdfaee5db7",
        "IPY_MODEL_e4d81705665e4a31a206576778f78dee",
        "IPY_MODEL_e14e7de9d0234538a429492b42394c78"
       ],
       "layout": "IPY_MODEL_763e4ea4c5e446fd84f8ebf616ed11dd"
      }
     },
     "8e7c33a433cf473c8514e016572e6d91": {
      "model_module": "@jupyter-widgets/controls",
      "model_module_version": "1.5.0",
      "model_name": "HBoxModel",
      "state": {
       "children": [
        "IPY_MODEL_9ad207e7472c4ae9b5aedf07b27de949",
        "IPY_MODEL_babcdb1592c245e79c7ffb343cd9cfb0",
        "IPY_MODEL_58d9feb22e7f4295890c43a11b7c226e"
       ],
       "layout": "IPY_MODEL_7f7c64ab5b0640f3b36cc469567dd3c5"
      }
     },
     "8e830228b5c741a291a821475a93b65d": {
      "model_module": "@jupyter-widgets/base",
      "model_module_version": "1.2.0",
      "model_name": "LayoutModel",
      "state": {}
     },
     "8ed09fd2749a435686fc4fa888da752e": {
      "model_module": "@jupyter-widgets/controls",
      "model_module_version": "1.5.0",
      "model_name": "DescriptionStyleModel",
      "state": {
       "description_width": ""
      }
     },
     "8f2bd870c2364c01ae67ca3beaf0060a": {
      "model_module": "@jupyter-widgets/base",
      "model_module_version": "1.2.0",
      "model_name": "LayoutModel",
      "state": {}
     },
     "8f530691ec554a23be6bb6cdef21f482": {
      "model_module": "@jupyter-widgets/base",
      "model_module_version": "1.2.0",
      "model_name": "LayoutModel",
      "state": {}
     },
     "8fcb2aee1c974793b43521abcd9dc410": {
      "model_module": "@jupyter-widgets/controls",
      "model_module_version": "1.5.0",
      "model_name": "HTMLModel",
      "state": {
       "layout": "IPY_MODEL_d7435a0596174e469d6f9fe8f7371d08",
       "style": "IPY_MODEL_34db2858c47c4f149df52d99ddf9d499",
       "value": "Writing sentences to sent_chunk_0035.txt: 100%"
      }
     },
     "8fd2640be15f40deb90443577050262f": {
      "model_module": "@jupyter-widgets/controls",
      "model_module_version": "1.5.0",
      "model_name": "HTMLModel",
      "state": {
       "layout": "IPY_MODEL_be8aa4e95a2b49bab2c8f0c64c62b041",
       "style": "IPY_MODEL_61a9ab856119453589ac163c903fcad4",
       "value": "sent_chunk_0037.txt: 100%"
      }
     },
     "8fef9489204e4a1fa7713ab2415ddefd": {
      "model_module": "@jupyter-widgets/controls",
      "model_module_version": "1.5.0",
      "model_name": "ProgressStyleModel",
      "state": {
       "description_width": ""
      }
     },
     "9047aac1174b491b9ad636d040f89972": {
      "model_module": "@jupyter-widgets/controls",
      "model_module_version": "1.5.0",
      "model_name": "DescriptionStyleModel",
      "state": {
       "description_width": ""
      }
     },
     "906a127af7994d07b9f9557a4d0cbf76": {
      "model_module": "@jupyter-widgets/controls",
      "model_module_version": "1.5.0",
      "model_name": "DescriptionStyleModel",
      "state": {
       "description_width": ""
      }
     },
     "9098a1bd45084d1e98ff1adda6648800": {
      "model_module": "@jupyter-widgets/controls",
      "model_module_version": "1.5.0",
      "model_name": "FloatProgressModel",
      "state": {
       "bar_style": "success",
       "layout": "IPY_MODEL_a050b9cf0efa40bd9c45e754715bdc9f",
       "max": 61,
       "style": "IPY_MODEL_316b9348e79e4158a2ff4ce429e88a5f",
       "value": 61
      }
     },
     "90a3614999624fc9a43e6ec020d1a815": {
      "model_module": "@jupyter-widgets/base",
      "model_module_version": "1.2.0",
      "model_name": "LayoutModel",
      "state": {}
     },
     "90f5af3c64314d348c8804450cf8daef": {
      "model_module": "@jupyter-widgets/base",
      "model_module_version": "1.2.0",
      "model_name": "LayoutModel",
      "state": {}
     },
     "90fde96cc40a4e0d8ae0b7f171af793f": {
      "model_module": "@jupyter-widgets/controls",
      "model_module_version": "1.5.0",
      "model_name": "HBoxModel",
      "state": {
       "children": [
        "IPY_MODEL_7e56db624d8e4c3ca9e2c3f5f07b8405",
        "IPY_MODEL_db56cd5eeec74911978982d5bb7a2334",
        "IPY_MODEL_f047eeb7f73f4b7cb859a5504c83ab90"
       ],
       "layout": "IPY_MODEL_18d7f82b0e5b4d66bbf3d19b0c8fd224"
      }
     },
     "9101acff925140a0b3074d716647301b": {
      "model_module": "@jupyter-widgets/base",
      "model_module_version": "1.2.0",
      "model_name": "LayoutModel",
      "state": {}
     },
     "912f5971ef4645799bab089a2062b147": {
      "model_module": "@jupyter-widgets/controls",
      "model_module_version": "1.5.0",
      "model_name": "FloatProgressModel",
      "state": {
       "bar_style": "success",
       "layout": "IPY_MODEL_6ee0cb9514a74244aa05f54eaa70f19e",
       "max": 10000,
       "style": "IPY_MODEL_9628fb4f1b1e4d61931f3bef2434c7ca",
       "value": 10000
      }
     },
     "915a16e0690f4bbead2c0b87d45f7f95": {
      "model_module": "@jupyter-widgets/base",
      "model_module_version": "1.2.0",
      "model_name": "LayoutModel",
      "state": {}
     },
     "918b9c3c346745fca0d64aa984b93e10": {
      "model_module": "@jupyter-widgets/controls",
      "model_module_version": "1.5.0",
      "model_name": "DescriptionStyleModel",
      "state": {
       "description_width": ""
      }
     },
     "91b3f2e4def1463280e61c5affd650bb": {
      "model_module": "@jupyter-widgets/controls",
      "model_module_version": "1.5.0",
      "model_name": "ProgressStyleModel",
      "state": {
       "description_width": ""
      }
     },
     "91b7edd99399451597299955daa2c325": {
      "model_module": "@jupyter-widgets/controls",
      "model_module_version": "1.5.0",
      "model_name": "FloatProgressModel",
      "state": {
       "bar_style": "success",
       "layout": "IPY_MODEL_4c1b9c918902443bbd898b70b8116b71",
       "max": 10000,
       "style": "IPY_MODEL_7cf9a794f3c64143bf65a30c4e90c113",
       "value": 10000
      }
     },
     "91fb982c2f934e62b8c31b84144f41bb": {
      "model_module": "@jupyter-widgets/controls",
      "model_module_version": "1.5.0",
      "model_name": "DescriptionStyleModel",
      "state": {
       "description_width": ""
      }
     },
     "92170d8f8e8f46b7a5126d21fb74e7e9": {
      "model_module": "@jupyter-widgets/controls",
      "model_module_version": "1.5.0",
      "model_name": "DescriptionStyleModel",
      "state": {
       "description_width": ""
      }
     },
     "9269c6ca594741a48dbf095d1798ee3a": {
      "model_module": "@jupyter-widgets/controls",
      "model_module_version": "1.5.0",
      "model_name": "FloatProgressModel",
      "state": {
       "bar_style": "success",
       "layout": "IPY_MODEL_a254cbc6a5dc491d9d8e1fe52260afe6",
       "max": 10000,
       "style": "IPY_MODEL_7ba34563bbdc410ba64dabf564db1cf5",
       "value": 10000
      }
     },
     "92bf080f7003488793733dfd15db6134": {
      "model_module": "@jupyter-widgets/base",
      "model_module_version": "1.2.0",
      "model_name": "LayoutModel",
      "state": {}
     },
     "92bf8d0d59f4476aa8fc19db65235536": {
      "model_module": "@jupyter-widgets/controls",
      "model_module_version": "1.5.0",
      "model_name": "HTMLModel",
      "state": {
       "layout": "IPY_MODEL_266ff8e55ef645cfa1ccef2278700b4f",
       "style": "IPY_MODEL_41b45bf3e99b4d539eff75e15d51da9b",
       "value": " 10000/10000 [00:01&lt;00:00, 7558.68it/s]"
      }
     },
     "92fdf5eb52294409bbac202fd49987f2": {
      "model_module": "@jupyter-widgets/controls",
      "model_module_version": "1.5.0",
      "model_name": "ProgressStyleModel",
      "state": {
       "description_width": ""
      }
     },
     "93377d5188f24bfa8b016af1a756e8a7": {
      "model_module": "@jupyter-widgets/controls",
      "model_module_version": "1.5.0",
      "model_name": "DescriptionStyleModel",
      "state": {
       "description_width": ""
      }
     },
     "933f98e8009e4338b4ab1096423c1edc": {
      "model_module": "@jupyter-widgets/controls",
      "model_module_version": "1.5.0",
      "model_name": "HTMLModel",
      "state": {
       "layout": "IPY_MODEL_df652a8832fb4117beeb1a5d4d46a44e",
       "style": "IPY_MODEL_053311823b214323bb2355fb55793fc2",
       "value": "sent_chunk_0032.txt: 100%"
      }
     },
     "9367477c876b4fd38834f71edf6bdd3f": {
      "model_module": "@jupyter-widgets/controls",
      "model_module_version": "1.5.0",
      "model_name": "HTMLModel",
      "state": {
       "layout": "IPY_MODEL_ad1f13e0804c49d1b5a75544a49cebf5",
       "style": "IPY_MODEL_0eff81575c074eeab7b32f783c1c93f9",
       "value": " 10000/10000 [00:01&lt;00:00, 7344.00it/s]"
      }
     },
     "9388a7e954d64a0f9be367018352ab50": {
      "model_module": "@jupyter-widgets/controls",
      "model_module_version": "1.5.0",
      "model_name": "DescriptionStyleModel",
      "state": {
       "description_width": ""
      }
     },
     "940ef757424c481da1550ccefe7c4a2d": {
      "model_module": "@jupyter-widgets/controls",
      "model_module_version": "1.5.0",
      "model_name": "DescriptionStyleModel",
      "state": {
       "description_width": ""
      }
     },
     "9446f4dd1df14666878d106b4a8efb5d": {
      "model_module": "@jupyter-widgets/controls",
      "model_module_version": "1.5.0",
      "model_name": "DescriptionStyleModel",
      "state": {
       "description_width": ""
      }
     },
     "946f4debd10942608936fae6612fa0a7": {
      "model_module": "@jupyter-widgets/base",
      "model_module_version": "1.2.0",
      "model_name": "LayoutModel",
      "state": {}
     },
     "9485ba021c894df894acb1daad7995ac": {
      "model_module": "@jupyter-widgets/controls",
      "model_module_version": "1.5.0",
      "model_name": "DescriptionStyleModel",
      "state": {
       "description_width": ""
      }
     },
     "94b47fb4cc5348febdf794f7b841ffa0": {
      "model_module": "@jupyter-widgets/base",
      "model_module_version": "1.2.0",
      "model_name": "LayoutModel",
      "state": {}
     },
     "94d80a6645e947b0b97723f795be3d38": {
      "model_module": "@jupyter-widgets/base",
      "model_module_version": "1.2.0",
      "model_name": "LayoutModel",
      "state": {}
     },
     "94f6cac380d34f1a84c06ad8d042c3ba": {
      "model_module": "@jupyter-widgets/base",
      "model_module_version": "1.2.0",
      "model_name": "LayoutModel",
      "state": {}
     },
     "9523897232524d48b0fd5dcd9f67facd": {
      "model_module": "@jupyter-widgets/controls",
      "model_module_version": "1.5.0",
      "model_name": "FloatProgressModel",
      "state": {
       "bar_style": "success",
       "layout": "IPY_MODEL_019ea359c3ab4df59c93af2781b414b4",
       "max": 10000,
       "style": "IPY_MODEL_b6b671fe328a4acba481993948634bb0",
       "value": 10000
      }
     },
     "95aca8a757f64aed8fdc4a7f20991642": {
      "model_module": "@jupyter-widgets/base",
      "model_module_version": "1.2.0",
      "model_name": "LayoutModel",
      "state": {}
     },
     "95c1e0772c9d4213aa5dc822f9da2ca9": {
      "model_module": "@jupyter-widgets/controls",
      "model_module_version": "1.5.0",
      "model_name": "ProgressStyleModel",
      "state": {
       "description_width": ""
      }
     },
     "95dca009fbd847c08ff6bababfa86576": {
      "model_module": "@jupyter-widgets/controls",
      "model_module_version": "1.5.0",
      "model_name": "ProgressStyleModel",
      "state": {
       "description_width": ""
      }
     },
     "95eb27d2534c40edb1384291928fbf0b": {
      "model_module": "@jupyter-widgets/base",
      "model_module_version": "1.2.0",
      "model_name": "LayoutModel",
      "state": {}
     },
     "9628fb4f1b1e4d61931f3bef2434c7ca": {
      "model_module": "@jupyter-widgets/controls",
      "model_module_version": "1.5.0",
      "model_name": "ProgressStyleModel",
      "state": {
       "description_width": ""
      }
     },
     "96439ce211f64b51bb1140240e59b0a9": {
      "model_module": "@jupyter-widgets/controls",
      "model_module_version": "1.5.0",
      "model_name": "HBoxModel",
      "state": {
       "children": [
        "IPY_MODEL_71d49a69f7fa4bd88752c8d9140365fa",
        "IPY_MODEL_f9f500214a0d47b99d15d040e70b753c",
        "IPY_MODEL_3b5e98b191404f74ad23da0bdf063b8f"
       ],
       "layout": "IPY_MODEL_ec05d98251e44e738b38640ef82dc4a3"
      }
     },
     "965cbd6a13db4f3f8daf225f1992f221": {
      "model_module": "@jupyter-widgets/controls",
      "model_module_version": "1.5.0",
      "model_name": "ProgressStyleModel",
      "state": {
       "description_width": ""
      }
     },
     "9673443bb2844defbba806eabbcd27e5": {
      "model_module": "@jupyter-widgets/controls",
      "model_module_version": "1.5.0",
      "model_name": "FloatProgressModel",
      "state": {
       "bar_style": "success",
       "layout": "IPY_MODEL_5133b2f3086947ecb57b151bb0fe7c0c",
       "max": 10000,
       "style": "IPY_MODEL_0ac0c10c5b2d49fca36f8689cc53d32a",
       "value": 10000
      }
     },
     "967c84a9964f4500b4dd0e80b60d1ac3": {
      "model_module": "@jupyter-widgets/controls",
      "model_module_version": "1.5.0",
      "model_name": "FloatProgressModel",
      "state": {
       "bar_style": "success",
       "layout": "IPY_MODEL_4cbf3f79a1764e92b916b3c6c5e606a0",
       "max": 10000,
       "style": "IPY_MODEL_de42947adb9c4ffa8b3d49f9aff2fdef",
       "value": 10000
      }
     },
     "96d6d8b75ea34d659a25e88c9c1af7b8": {
      "model_module": "@jupyter-widgets/controls",
      "model_module_version": "1.5.0",
      "model_name": "HTMLModel",
      "state": {
       "layout": "IPY_MODEL_74e223d0ecf64e3f934cdbf9dfa19ef7",
       "style": "IPY_MODEL_d203da253a674c30a6e59e4202cd68ec",
       "value": "Writing sentences to sent_chunk_0056.txt: 100%"
      }
     },
     "96f05d91117e49b4b0e154c817a5dc01": {
      "model_module": "@jupyter-widgets/controls",
      "model_module_version": "1.5.0",
      "model_name": "DescriptionStyleModel",
      "state": {
       "description_width": ""
      }
     },
     "97118e794d8d469e8b9e8595238b5861": {
      "model_module": "@jupyter-widgets/base",
      "model_module_version": "1.2.0",
      "model_name": "LayoutModel",
      "state": {}
     },
     "971222c8a06848379578334e88baf1ea": {
      "model_module": "@jupyter-widgets/controls",
      "model_module_version": "1.5.0",
      "model_name": "HBoxModel",
      "state": {
       "children": [
        "IPY_MODEL_b4cc520093c8412eab242cc7ffc5ce43",
        "IPY_MODEL_e22d0dea970e4c25ba23334701ea8163",
        "IPY_MODEL_6ec84677739d4f0bb3bcc8731cd8346c"
       ],
       "layout": "IPY_MODEL_f17d03bdd2ae44e29281a1a9a35fddd7"
      }
     },
     "97158ba0eac849d98c73d6bc46927da2": {
      "model_module": "@jupyter-widgets/controls",
      "model_module_version": "1.5.0",
      "model_name": "DescriptionStyleModel",
      "state": {
       "description_width": ""
      }
     },
     "9721b976597d4de9b5efbe4277c4809d": {
      "model_module": "@jupyter-widgets/controls",
      "model_module_version": "1.5.0",
      "model_name": "ProgressStyleModel",
      "state": {
       "description_width": ""
      }
     },
     "97431a3fe3d04285bcb94fea234ba0a9": {
      "model_module": "@jupyter-widgets/base",
      "model_module_version": "1.2.0",
      "model_name": "LayoutModel",
      "state": {}
     },
     "975c006170ad4ba6a336282cee5b5dc8": {
      "model_module": "@jupyter-widgets/controls",
      "model_module_version": "1.5.0",
      "model_name": "DescriptionStyleModel",
      "state": {
       "description_width": ""
      }
     },
     "976fa26c7b844281af3f9eb1c7f38e6b": {
      "model_module": "@jupyter-widgets/controls",
      "model_module_version": "1.5.0",
      "model_name": "FloatProgressModel",
      "state": {
       "bar_style": "success",
       "layout": "IPY_MODEL_315606b062c442d7a8e01293aed4e650",
       "max": 10000,
       "style": "IPY_MODEL_19a5dfc4d27844cfb2a0451b855aac51",
       "value": 10000
      }
     },
     "97701efda58e41f7938919b54bc6c0ce": {
      "model_module": "@jupyter-widgets/controls",
      "model_module_version": "1.5.0",
      "model_name": "DescriptionStyleModel",
      "state": {
       "description_width": ""
      }
     },
     "978673fba96b4bbea7eeeeb9da128dab": {
      "model_module": "@jupyter-widgets/controls",
      "model_module_version": "1.5.0",
      "model_name": "FloatProgressModel",
      "state": {
       "bar_style": "success",
       "layout": "IPY_MODEL_fe308cd9b0a84d61b759888f139e4736",
       "max": 10000,
       "style": "IPY_MODEL_ba5141ac64d0403a810e11b6e0f4ea1a",
       "value": 10000
      }
     },
     "979b25ff13264c5d8b2bfb4accdf124d": {
      "model_module": "@jupyter-widgets/base",
      "model_module_version": "1.2.0",
      "model_name": "LayoutModel",
      "state": {}
     },
     "97d250d3813045eeada46421377fdcf2": {
      "model_module": "@jupyter-widgets/controls",
      "model_module_version": "1.5.0",
      "model_name": "DescriptionStyleModel",
      "state": {
       "description_width": ""
      }
     },
     "97eb9cac582f4801ad03a93d908f06f2": {
      "model_module": "@jupyter-widgets/controls",
      "model_module_version": "1.5.0",
      "model_name": "HBoxModel",
      "state": {
       "children": [
        "IPY_MODEL_45ed09ad53254e9d80052216e35ccab6",
        "IPY_MODEL_8aed5cff06cd4096870810ae60532e16",
        "IPY_MODEL_92bf8d0d59f4476aa8fc19db65235536"
       ],
       "layout": "IPY_MODEL_a0f2c87e2f02478ca53c9a4439b00518"
      }
     },
     "9822c00ae9c3482e8220c30513a12e27": {
      "model_module": "@jupyter-widgets/controls",
      "model_module_version": "1.5.0",
      "model_name": "HTMLModel",
      "state": {
       "layout": "IPY_MODEL_4fcc94e93e6e4f568fd8e3b8d1c1c0ab",
       "style": "IPY_MODEL_831aae7c929d4ddeb63a930a1eeaded6",
       "value": " 10000/10000 [00:01&lt;00:00, 7600.11it/s]"
      }
     },
     "983f9ffa59bb4c238dbf3537872ec762": {
      "model_module": "@jupyter-widgets/base",
      "model_module_version": "1.2.0",
      "model_name": "LayoutModel",
      "state": {}
     },
     "9846cc83995d4a2fa31f66f0ab218dfd": {
      "model_module": "@jupyter-widgets/controls",
      "model_module_version": "1.5.0",
      "model_name": "DescriptionStyleModel",
      "state": {
       "description_width": ""
      }
     },
     "990e7006052f4d9db145617d0f3f43ac": {
      "model_module": "@jupyter-widgets/base",
      "model_module_version": "1.2.0",
      "model_name": "LayoutModel",
      "state": {}
     },
     "992001d9383f4c27942b45afd49e354c": {
      "model_module": "@jupyter-widgets/base",
      "model_module_version": "1.2.0",
      "model_name": "LayoutModel",
      "state": {}
     },
     "9937d401d56244d58ed303c6ba938c6c": {
      "model_module": "@jupyter-widgets/controls",
      "model_module_version": "1.5.0",
      "model_name": "ProgressStyleModel",
      "state": {
       "description_width": ""
      }
     },
     "99639130b3874420a9dd36bd22388872": {
      "model_module": "@jupyter-widgets/controls",
      "model_module_version": "1.5.0",
      "model_name": "DescriptionStyleModel",
      "state": {
       "description_width": ""
      }
     },
     "9973fbaea85a44bb90f028c561e197f6": {
      "model_module": "@jupyter-widgets/controls",
      "model_module_version": "1.5.0",
      "model_name": "DescriptionStyleModel",
      "state": {
       "description_width": ""
      }
     },
     "99909deae81c4c2496dbcc2525af715c": {
      "model_module": "@jupyter-widgets/controls",
      "model_module_version": "1.5.0",
      "model_name": "FloatProgressModel",
      "state": {
       "bar_style": "success",
       "layout": "IPY_MODEL_ded03933c12644baab225760fbac33be",
       "max": 10000,
       "style": "IPY_MODEL_d82b42c80b8f402e8ebb82f70e9a89f2",
       "value": 10000
      }
     },
     "9a1ad04015294eb789fddc1446bce584": {
      "model_module": "@jupyter-widgets/base",
      "model_module_version": "1.2.0",
      "model_name": "LayoutModel",
      "state": {}
     },
     "9a3e65bbb62c498d99e699cc8f899ec9": {
      "model_module": "@jupyter-widgets/controls",
      "model_module_version": "1.5.0",
      "model_name": "FloatProgressModel",
      "state": {
       "bar_style": "success",
       "layout": "IPY_MODEL_bbdd53d00d584829b8c028bd64f04559",
       "max": 10000,
       "style": "IPY_MODEL_8c71b4d84e1a4692865d4a9c88df4738",
       "value": 10000
      }
     },
     "9a4649766e0544f0a70e65d3688f9e97": {
      "model_module": "@jupyter-widgets/controls",
      "model_module_version": "1.5.0",
      "model_name": "ProgressStyleModel",
      "state": {
       "description_width": ""
      }
     },
     "9a4a85345db34cfdb01231d71da9e329": {
      "model_module": "@jupyter-widgets/controls",
      "model_module_version": "1.5.0",
      "model_name": "FloatProgressModel",
      "state": {
       "bar_style": "success",
       "layout": "IPY_MODEL_a9df89a332314f129b4519c0289c0251",
       "max": 10000,
       "style": "IPY_MODEL_5365a1c9f6d143d7b5ea16039b8b056e",
       "value": 10000
      }
     },
     "9a8db3d5c8b341c1877f48c1f78daaae": {
      "model_module": "@jupyter-widgets/controls",
      "model_module_version": "1.5.0",
      "model_name": "DescriptionStyleModel",
      "state": {
       "description_width": ""
      }
     },
     "9ad207e7472c4ae9b5aedf07b27de949": {
      "model_module": "@jupyter-widgets/controls",
      "model_module_version": "1.5.0",
      "model_name": "HTMLModel",
      "state": {
       "layout": "IPY_MODEL_849fdd03c05b443787f616e01c93e1e4",
       "style": "IPY_MODEL_20f83d1716194c758eb043b85169e0c1",
       "value": "Writing sentences to sent_chunk_0054.txt: 100%"
      }
     },
     "9b0c3f5f89574df0bbde4d623b542cf8": {
      "model_module": "@jupyter-widgets/controls",
      "model_module_version": "1.5.0",
      "model_name": "DescriptionStyleModel",
      "state": {
       "description_width": ""
      }
     },
     "9ba62c5cbb934d508f57dbbb9d27081c": {
      "model_module": "@jupyter-widgets/base",
      "model_module_version": "1.2.0",
      "model_name": "LayoutModel",
      "state": {}
     },
     "9bb157d28e3d4a089843bb9dea6cb71b": {
      "model_module": "@jupyter-widgets/controls",
      "model_module_version": "1.5.0",
      "model_name": "DescriptionStyleModel",
      "state": {
       "description_width": ""
      }
     },
     "9bb955e2f45b45aebca563b5d20d484e": {
      "model_module": "@jupyter-widgets/controls",
      "model_module_version": "1.5.0",
      "model_name": "HBoxModel",
      "state": {
       "children": [
        "IPY_MODEL_79da9e38c35d49cfb8ac50bcbed3850d",
        "IPY_MODEL_976fa26c7b844281af3f9eb1c7f38e6b",
        "IPY_MODEL_2025dc5a23ab4ad3b74e38f66751bc8c"
       ],
       "layout": "IPY_MODEL_cd1ddf9bbb144c85a6de777c3adccf07"
      }
     },
     "9bd7e6559257483db0ceea1d8fa690e9": {
      "model_module": "@jupyter-widgets/controls",
      "model_module_version": "1.5.0",
      "model_name": "DescriptionStyleModel",
      "state": {
       "description_width": ""
      }
     },
     "9c16d69955b943d2b741de92dc82b4ee": {
      "model_module": "@jupyter-widgets/controls",
      "model_module_version": "1.5.0",
      "model_name": "DescriptionStyleModel",
      "state": {
       "description_width": ""
      }
     },
     "9c30b669b1414faabf95d0fa3d46ca21": {
      "model_module": "@jupyter-widgets/base",
      "model_module_version": "1.2.0",
      "model_name": "LayoutModel",
      "state": {}
     },
     "9ca50a1c131d4cbeb381aa405b856c84": {
      "model_module": "@jupyter-widgets/controls",
      "model_module_version": "1.5.0",
      "model_name": "HTMLModel",
      "state": {
       "layout": "IPY_MODEL_73cb29f4dc9f4937ad76b6920e903b5e",
       "style": "IPY_MODEL_93377d5188f24bfa8b016af1a756e8a7",
       "value": "sent_chunk_0008.txt: 100%"
      }
     },
     "9d03d82aa93b490e9e7636d43b42c3d9": {
      "model_module": "@jupyter-widgets/base",
      "model_module_version": "1.2.0",
      "model_name": "LayoutModel",
      "state": {}
     },
     "9d0cf277ca634777a1ee0d0b96a48c15": {
      "model_module": "@jupyter-widgets/controls",
      "model_module_version": "1.5.0",
      "model_name": "HTMLModel",
      "state": {
       "layout": "IPY_MODEL_d929bac603d84db48b7ab0ed0ec6b72d",
       "style": "IPY_MODEL_5ccd70fc6c3348a19be5bafeb774850a",
       "value": " 10000/10000 [00:01&lt;00:00, 7669.34it/s]"
      }
     },
     "9d2480bdcdac477b8e67ff68eaf8efa5": {
      "model_module": "@jupyter-widgets/controls",
      "model_module_version": "1.5.0",
      "model_name": "DescriptionStyleModel",
      "state": {
       "description_width": ""
      }
     },
     "9d39d8e972fb43c1b970a5c0fd608d83": {
      "model_module": "@jupyter-widgets/controls",
      "model_module_version": "1.5.0",
      "model_name": "HTMLModel",
      "state": {
       "layout": "IPY_MODEL_9f845c21279542ac975a18e2233202f2",
       "style": "IPY_MODEL_9047aac1174b491b9ad636d040f89972",
       "value": "sent_chunk_0034.txt: 100%"
      }
     },
     "9d90d4d14e0c4a989111a4affe662892": {
      "model_module": "@jupyter-widgets/controls",
      "model_module_version": "1.5.0",
      "model_name": "HTMLModel",
      "state": {
       "layout": "IPY_MODEL_aff7ac6ce1344f938343b51c8434d53c",
       "style": "IPY_MODEL_9bd7e6559257483db0ceea1d8fa690e9",
       "value": " 10000/10000 [00:01&lt;00:00, 7497.21it/s]"
      }
     },
     "9da738d22d714469b173a1bf3b795d68": {
      "model_module": "@jupyter-widgets/base",
      "model_module_version": "1.2.0",
      "model_name": "LayoutModel",
      "state": {}
     },
     "9dbc976d01fb468fa472ce0a48054483": {
      "model_module": "@jupyter-widgets/controls",
      "model_module_version": "1.5.0",
      "model_name": "HBoxModel",
      "state": {
       "children": [
        "IPY_MODEL_048a7973d05a4247bf7a101fd5e3ed6d",
        "IPY_MODEL_9dde37ecf6c0415ca5d323ca9d54bfb5",
        "IPY_MODEL_a2c93e23656443689e275d14f44a9176"
       ],
       "layout": "IPY_MODEL_6a6f8e572a59414b842766cb3732606d"
      }
     },
     "9dde37ecf6c0415ca5d323ca9d54bfb5": {
      "model_module": "@jupyter-widgets/controls",
      "model_module_version": "1.5.0",
      "model_name": "FloatProgressModel",
      "state": {
       "bar_style": "success",
       "layout": "IPY_MODEL_acfe009622e347a5a78f3d8cc6f25c03",
       "max": 10000,
       "style": "IPY_MODEL_ca6b17b038d24954a53ebb442d797e9b",
       "value": 10000
      }
     },
     "9df7f81407844dc59364220039de57a4": {
      "model_module": "@jupyter-widgets/controls",
      "model_module_version": "1.5.0",
      "model_name": "DescriptionStyleModel",
      "state": {
       "description_width": ""
      }
     },
     "9e66869053e1493da22bb1f7c77bec75": {
      "model_module": "@jupyter-widgets/base",
      "model_module_version": "1.2.0",
      "model_name": "LayoutModel",
      "state": {}
     },
     "9ea97e1bb4f44570a6a00a3b68397b7c": {
      "model_module": "@jupyter-widgets/controls",
      "model_module_version": "1.5.0",
      "model_name": "DescriptionStyleModel",
      "state": {
       "description_width": ""
      }
     },
     "9f2d3bc337514d459faeacc8aa03647a": {
      "model_module": "@jupyter-widgets/controls",
      "model_module_version": "1.5.0",
      "model_name": "HTMLModel",
      "state": {
       "layout": "IPY_MODEL_1b6fa60d245547579d0870fc1fdca680",
       "style": "IPY_MODEL_365ccd6cc44942aeba0ba245511a4919",
       "value": " 10000/10000 [00:01&lt;00:00, 7712.89it/s]"
      }
     },
     "9f3aadcdd46f4f70ad490b94f7274128": {
      "model_module": "@jupyter-widgets/controls",
      "model_module_version": "1.5.0",
      "model_name": "HBoxModel",
      "state": {
       "children": [
        "IPY_MODEL_2da71e6b75d04e368ac30c33a6da7222",
        "IPY_MODEL_fcc5fc632c3c4916902771dde2ec488a",
        "IPY_MODEL_66fe27c7b9324edfa8b11bd744a8c193"
       ],
       "layout": "IPY_MODEL_32a4f1b2aa944b30a4e4be95f722d7ac"
      }
     },
     "9f4c6acdfc1a4475b3d8079b666fd782": {
      "model_module": "@jupyter-widgets/controls",
      "model_module_version": "1.5.0",
      "model_name": "ProgressStyleModel",
      "state": {
       "description_width": ""
      }
     },
     "9f5c99ce818b49b29c74d8bfda08ee37": {
      "model_module": "@jupyter-widgets/base",
      "model_module_version": "1.2.0",
      "model_name": "LayoutModel",
      "state": {}
     },
     "9f5dc95057374d87acb8e67661118ca7": {
      "model_module": "@jupyter-widgets/controls",
      "model_module_version": "1.5.0",
      "model_name": "ProgressStyleModel",
      "state": {
       "description_width": ""
      }
     },
     "9f835278352a4f5db2bc963942fb2450": {
      "model_module": "@jupyter-widgets/controls",
      "model_module_version": "1.5.0",
      "model_name": "HBoxModel",
      "state": {
       "children": [
        "IPY_MODEL_8c466b97072d49c7880f8a0b5ca61606",
        "IPY_MODEL_da5f2ebd8925436bb4020f7654964112",
        "IPY_MODEL_e122313382b74d778a41fea42976e4a7"
       ],
       "layout": "IPY_MODEL_43f79eb7105c4668bbdeeed742b464bf"
      }
     },
     "9f845c21279542ac975a18e2233202f2": {
      "model_module": "@jupyter-widgets/base",
      "model_module_version": "1.2.0",
      "model_name": "LayoutModel",
      "state": {}
     },
     "9fa8a6b75839424bae04bcbe7e59e7b7": {
      "model_module": "@jupyter-widgets/controls",
      "model_module_version": "1.5.0",
      "model_name": "HTMLModel",
      "state": {
       "layout": "IPY_MODEL_b8c8b71b41fa4a369a157fc1678cd0ec",
       "style": "IPY_MODEL_fe013604e1d1453da723f2ae088a7071",
       "value": "sent_chunk_0024.txt: 100%"
      }
     },
     "9ffaffcc49554cdbb82e7ed1d9449ca8": {
      "model_module": "@jupyter-widgets/controls",
      "model_module_version": "1.5.0",
      "model_name": "HTMLModel",
      "state": {
       "layout": "IPY_MODEL_bbec34d5b0624713bd082178eb784a98",
       "style": "IPY_MODEL_4e35edee8fc347ca9fe5a09bf8bdaa9a",
       "value": "sent_chunk_0002.txt: 100%"
      }
     },
     "a00bd22a33d0473084ee4df64a3547f8": {
      "model_module": "@jupyter-widgets/base",
      "model_module_version": "1.2.0",
      "model_name": "LayoutModel",
      "state": {}
     },
     "a01ac3d4012347a78ec2e9bfd20d3530": {
      "model_module": "@jupyter-widgets/controls",
      "model_module_version": "1.5.0",
      "model_name": "HBoxModel",
      "state": {
       "children": [
        "IPY_MODEL_47890460b9c24d1ebe4611ee7d0ee556",
        "IPY_MODEL_e5e70bb29aa8498681a4626e896fe7f6",
        "IPY_MODEL_0a9d1259711e4e3bb607a4a556fb3238"
       ],
       "layout": "IPY_MODEL_3ef70cb6146e419482493e1656dfcf7e"
      }
     },
     "a050b9cf0efa40bd9c45e754715bdc9f": {
      "model_module": "@jupyter-widgets/base",
      "model_module_version": "1.2.0",
      "model_name": "LayoutModel",
      "state": {}
     },
     "a06fc1a2e52a4dab83d19093d5cfee21": {
      "model_module": "@jupyter-widgets/controls",
      "model_module_version": "1.5.0",
      "model_name": "HBoxModel",
      "state": {
       "children": [
        "IPY_MODEL_0f6c74a70ebe4b379d21047fc611dde3",
        "IPY_MODEL_0b874701ce3846bcba6655d16c60e9b2",
        "IPY_MODEL_21e090e2a0db4e2fb395b7f1ab864abd"
       ],
       "layout": "IPY_MODEL_40b5a8bcdd1d45aabaf6dbc21e38eb59"
      }
     },
     "a0ce72a4b8eb4f4ebc8a308825f7bf57": {
      "model_module": "@jupyter-widgets/controls",
      "model_module_version": "1.5.0",
      "model_name": "ProgressStyleModel",
      "state": {
       "description_width": ""
      }
     },
     "a0f2c87e2f02478ca53c9a4439b00518": {
      "model_module": "@jupyter-widgets/base",
      "model_module_version": "1.2.0",
      "model_name": "LayoutModel",
      "state": {}
     },
     "a0f99817cd504745bd08ec353d05155d": {
      "model_module": "@jupyter-widgets/controls",
      "model_module_version": "1.5.0",
      "model_name": "HTMLModel",
      "state": {
       "layout": "IPY_MODEL_9101acff925140a0b3074d716647301b",
       "style": "IPY_MODEL_204c5ca3cdfa455dae2b718c25507be0",
       "value": " 10000/10000 [00:01&lt;00:00, 7592.75it/s]"
      }
     },
     "a0fa8f6998cc49659da9978f7dff4716": {
      "model_module": "@jupyter-widgets/base",
      "model_module_version": "1.2.0",
      "model_name": "LayoutModel",
      "state": {}
     },
     "a1b580aff50c4b9bb2038da5daad692b": {
      "model_module": "@jupyter-widgets/controls",
      "model_module_version": "1.5.0",
      "model_name": "FloatProgressModel",
      "state": {
       "bar_style": "success",
       "layout": "IPY_MODEL_f6b0ce77355543d8ac46de0db5cef8d1",
       "max": 10000,
       "style": "IPY_MODEL_cfc73913c82a403fbc253765b34005c9",
       "value": 10000
      }
     },
     "a1da545540f548b1b2abcf0187d3a558": {
      "model_module": "@jupyter-widgets/controls",
      "model_module_version": "1.5.0",
      "model_name": "HTMLModel",
      "state": {
       "layout": "IPY_MODEL_0d7509e02b2e495f9e5cfb6dd61c9a9d",
       "style": "IPY_MODEL_fe9980655ce94d609cb5b1e5660d04f6",
       "value": " 10000/10000 [00:01&lt;00:00, 7350.58it/s]"
      }
     },
     "a1dcb38c4f57412ab66785956c239d80": {
      "model_module": "@jupyter-widgets/controls",
      "model_module_version": "1.5.0",
      "model_name": "HTMLModel",
      "state": {
       "layout": "IPY_MODEL_d873906abf8542b894aca68a6ec253e1",
       "style": "IPY_MODEL_bb051927dca2499c9184d6a1ef35f4c8",
       "value": " 2125/10000 [00:00&lt;00:01, 7186.48it/s]"
      }
     },
     "a254cbc6a5dc491d9d8e1fe52260afe6": {
      "model_module": "@jupyter-widgets/base",
      "model_module_version": "1.2.0",
      "model_name": "LayoutModel",
      "state": {}
     },
     "a25b9c45d02c4d7197a1def76a7e8d83": {
      "model_module": "@jupyter-widgets/controls",
      "model_module_version": "1.5.0",
      "model_name": "HTMLModel",
      "state": {
       "layout": "IPY_MODEL_01cd06097f44440d90039fb7def5b73f",
       "style": "IPY_MODEL_6026cb4b6e0b4bc4b93aa75fbac279ab",
       "value": "Writing sentences to sent_chunk_0024.txt: 100%"
      }
     },
     "a27199df0dfc48179769b2873ab1d757": {
      "model_module": "@jupyter-widgets/controls",
      "model_module_version": "1.5.0",
      "model_name": "HBoxModel",
      "state": {
       "children": [
        "IPY_MODEL_cb84f5f2dcbb423a86b915cf701fcb54",
        "IPY_MODEL_9269c6ca594741a48dbf095d1798ee3a",
        "IPY_MODEL_5dc05b070e96492a855d6ec6f897dcaa"
       ],
       "layout": "IPY_MODEL_3fde02a457fa410c915bb5e5bf906203"
      }
     },
     "a2c93e23656443689e275d14f44a9176": {
      "model_module": "@jupyter-widgets/controls",
      "model_module_version": "1.5.0",
      "model_name": "HTMLModel",
      "state": {
       "layout": "IPY_MODEL_b74fc295aaca4cc1adf354a0931a8351",
       "style": "IPY_MODEL_975c006170ad4ba6a336282cee5b5dc8",
       "value": " 10000/10000 [00:01&lt;00:00, 7440.92it/s]"
      }
     },
     "a2da1acd7c7d495897e3e873d70d060d": {
      "model_module": "@jupyter-widgets/base",
      "model_module_version": "1.2.0",
      "model_name": "LayoutModel",
      "state": {}
     },
     "a36d83eb6740413a8f9036e5bb7a7b86": {
      "model_module": "@jupyter-widgets/base",
      "model_module_version": "1.2.0",
      "model_name": "LayoutModel",
      "state": {}
     },
     "a416c7802d664930be2e1bd2a2549034": {
      "model_module": "@jupyter-widgets/base",
      "model_module_version": "1.2.0",
      "model_name": "LayoutModel",
      "state": {}
     },
     "a4479cd364c749bbb60519bdb420bedb": {
      "model_module": "@jupyter-widgets/controls",
      "model_module_version": "1.5.0",
      "model_name": "DescriptionStyleModel",
      "state": {
       "description_width": ""
      }
     },
     "a472769feb8e40fdb3c7fd5957dbdb9d": {
      "model_module": "@jupyter-widgets/controls",
      "model_module_version": "1.5.0",
      "model_name": "HBoxModel",
      "state": {
       "children": [
        "IPY_MODEL_d69fd0e067d14db79e26fc5ca90809ec",
        "IPY_MODEL_bdf4abee0b0b4d4191dc0a3399efac12",
        "IPY_MODEL_5425164e9e68493383c92eda0abc20f4"
       ],
       "layout": "IPY_MODEL_3c3279860c6f4ebb8877a50461eb0255"
      }
     },
     "a4ce5581145347b5b74f15306dac8655": {
      "model_module": "@jupyter-widgets/controls",
      "model_module_version": "1.5.0",
      "model_name": "FloatProgressModel",
      "state": {
       "bar_style": "success",
       "layout": "IPY_MODEL_6dab55d17fc047d5962268296eacd271",
       "max": 10000,
       "style": "IPY_MODEL_521fdebf7e0f46e2b4bcde9c43d8bfcb",
       "value": 10000
      }
     },
     "a4e544e703234403bc7c31053103a64a": {
      "model_module": "@jupyter-widgets/controls",
      "model_module_version": "1.5.0",
      "model_name": "HTMLModel",
      "state": {
       "layout": "IPY_MODEL_53c21f73333345a391907e3db6ed98ae",
       "style": "IPY_MODEL_8861ce63c50344f588640d023ab2706c",
       "value": "Writing sentences to sent_chunk_0040.txt: 100%"
      }
     },
     "a50500e3016c413d8b8173e98af23db5": {
      "model_module": "@jupyter-widgets/base",
      "model_module_version": "1.2.0",
      "model_name": "LayoutModel",
      "state": {}
     },
     "a5f5dd934e664078b743581af741afd9": {
      "model_module": "@jupyter-widgets/controls",
      "model_module_version": "1.5.0",
      "model_name": "HTMLModel",
      "state": {
       "layout": "IPY_MODEL_4a226add3aff49cf81dd8b66c874c314",
       "style": "IPY_MODEL_0a027f38070d4483ae321c087550007c",
       "value": " 10000/10000 [00:01&lt;00:00, 7169.80it/s]"
      }
     },
     "a724d6d543b74ba4827d64b9bf7f0192": {
      "model_module": "@jupyter-widgets/base",
      "model_module_version": "1.2.0",
      "model_name": "LayoutModel",
      "state": {}
     },
     "a77093b65490453f9bf5415c1e01a553": {
      "model_module": "@jupyter-widgets/controls",
      "model_module_version": "1.5.0",
      "model_name": "DescriptionStyleModel",
      "state": {
       "description_width": ""
      }
     },
     "a77a8121ba66411dad442dfb422aaf12": {
      "model_module": "@jupyter-widgets/controls",
      "model_module_version": "1.5.0",
      "model_name": "HTMLModel",
      "state": {
       "layout": "IPY_MODEL_d62a1e69f6674957810ca1f6c7721006",
       "style": "IPY_MODEL_dee00bb42f404b92844570cbbf973633",
       "value": "sent_chunk_0018.txt: 100%"
      }
     },
     "a7ca7c0aef50476da8a6dd47b636f695": {
      "model_module": "@jupyter-widgets/controls",
      "model_module_version": "1.5.0",
      "model_name": "HTMLModel",
      "state": {
       "layout": "IPY_MODEL_f7d33e1d6ad5458ab3cc5bfbdcf3b86c",
       "style": "IPY_MODEL_1e0a4f2ea6354c05af452fd9afa5dc36",
       "value": " 61/61 [01:29&lt;00:00,  1.22s/it]"
      }
     },
     "a7ec3b94f8a544a4a929ce83127d5967": {
      "model_module": "@jupyter-widgets/controls",
      "model_module_version": "1.5.0",
      "model_name": "HTMLModel",
      "state": {
       "layout": "IPY_MODEL_7548ac5ab7214f1091f892725ca79f80",
       "style": "IPY_MODEL_1184c14940ba46b8b7da7693b1d55e2c",
       "value": "100%"
      }
     },
     "a860cb820ead494c8f3b1a23e19546bf": {
      "model_module": "@jupyter-widgets/base",
      "model_module_version": "1.2.0",
      "model_name": "LayoutModel",
      "state": {}
     },
     "a863fc8ac22c40a3b4701cd50a974470": {
      "model_module": "@jupyter-widgets/controls",
      "model_module_version": "1.5.0",
      "model_name": "ProgressStyleModel",
      "state": {
       "description_width": ""
      }
     },
     "a87660e52acf45e7b66a9c6ec6c25a68": {
      "model_module": "@jupyter-widgets/controls",
      "model_module_version": "1.5.0",
      "model_name": "DescriptionStyleModel",
      "state": {
       "description_width": ""
      }
     },
     "a95db3db9b34427d9b241aac52bb71aa": {
      "model_module": "@jupyter-widgets/controls",
      "model_module_version": "1.5.0",
      "model_name": "DescriptionStyleModel",
      "state": {
       "description_width": ""
      }
     },
     "a9ad4a4205d945ae86503fbadad7d55f": {
      "model_module": "@jupyter-widgets/controls",
      "model_module_version": "1.5.0",
      "model_name": "HTMLModel",
      "state": {
       "layout": "IPY_MODEL_e541f89f7ca14b86afb2dcf2c2d7a79e",
       "style": "IPY_MODEL_144c94ba195b4190a9c6402413477b71",
       "value": "sent_chunk_0031.txt: 100%"
      }
     },
     "a9df89a332314f129b4519c0289c0251": {
      "model_module": "@jupyter-widgets/base",
      "model_module_version": "1.2.0",
      "model_name": "LayoutModel",
      "state": {}
     },
     "aa513997363f4edcbca6573dcda3fbe1": {
      "model_module": "@jupyter-widgets/base",
      "model_module_version": "1.2.0",
      "model_name": "LayoutModel",
      "state": {}
     },
     "aaa965bff6c24154b9472b2648a06285": {
      "model_module": "@jupyter-widgets/controls",
      "model_module_version": "1.5.0",
      "model_name": "DescriptionStyleModel",
      "state": {
       "description_width": ""
      }
     },
     "aadad63bd2904115bb54ec2169e409ca": {
      "model_module": "@jupyter-widgets/base",
      "model_module_version": "1.2.0",
      "model_name": "LayoutModel",
      "state": {}
     },
     "ab005d42bb194027a2866a829700a229": {
      "model_module": "@jupyter-widgets/controls",
      "model_module_version": "1.5.0",
      "model_name": "FloatProgressModel",
      "state": {
       "bar_style": "success",
       "layout": "IPY_MODEL_d3f0156302a54b3b8c9a68f254540dde",
       "max": 10000,
       "style": "IPY_MODEL_8dd8ac289fca45748135ba5b6846e30e",
       "value": 10000
      }
     },
     "ab35a5ea836f44d1be05122a3eecbe65": {
      "model_module": "@jupyter-widgets/base",
      "model_module_version": "1.2.0",
      "model_name": "LayoutModel",
      "state": {}
     },
     "ab45db095c9a46bebb8302e515c267f2": {
      "model_module": "@jupyter-widgets/controls",
      "model_module_version": "1.5.0",
      "model_name": "ProgressStyleModel",
      "state": {
       "description_width": ""
      }
     },
     "ab604b9e249a4ad2b471da11fbfa6ede": {
      "model_module": "@jupyter-widgets/base",
      "model_module_version": "1.2.0",
      "model_name": "LayoutModel",
      "state": {}
     },
     "ab65db58ab2243d69e08ba5c4b7bbd7b": {
      "model_module": "@jupyter-widgets/controls",
      "model_module_version": "1.5.0",
      "model_name": "DescriptionStyleModel",
      "state": {
       "description_width": ""
      }
     },
     "ab6a494b521840cf829bec688453a295": {
      "model_module": "@jupyter-widgets/base",
      "model_module_version": "1.2.0",
      "model_name": "LayoutModel",
      "state": {}
     },
     "aba67809cbbc4dffa050464d3dccc7ef": {
      "model_module": "@jupyter-widgets/base",
      "model_module_version": "1.2.0",
      "model_name": "LayoutModel",
      "state": {}
     },
     "abdfc3cb3bfe4a9d97a84ab795b81b1b": {
      "model_module": "@jupyter-widgets/base",
      "model_module_version": "1.2.0",
      "model_name": "LayoutModel",
      "state": {}
     },
     "aca47c2b021e43f9a3f9999794382b33": {
      "model_module": "@jupyter-widgets/base",
      "model_module_version": "1.2.0",
      "model_name": "LayoutModel",
      "state": {}
     },
     "aca4a8011730489a9ddd1431d451996b": {
      "model_module": "@jupyter-widgets/controls",
      "model_module_version": "1.5.0",
      "model_name": "HTMLModel",
      "state": {
       "layout": "IPY_MODEL_0c9683c03bba43979a9e8e9cabcc9bdb",
       "style": "IPY_MODEL_0980f0e1c3554fb28082ac4507ca3676",
       "value": " 10000/10000 [00:01&lt;00:00, 7397.97it/s]"
      }
     },
     "acc66cf64d5346f08ce38ab0c0f0e644": {
      "model_module": "@jupyter-widgets/controls",
      "model_module_version": "1.5.0",
      "model_name": "DescriptionStyleModel",
      "state": {
       "description_width": ""
      }
     },
     "acd8673e51af441eadd6e3ecda6f595e": {
      "model_module": "@jupyter-widgets/controls",
      "model_module_version": "1.5.0",
      "model_name": "ProgressStyleModel",
      "state": {
       "description_width": ""
      }
     },
     "acfe009622e347a5a78f3d8cc6f25c03": {
      "model_module": "@jupyter-widgets/base",
      "model_module_version": "1.2.0",
      "model_name": "LayoutModel",
      "state": {}
     },
     "ad0d55e283114dedbbbf56ad7d871bd1": {
      "model_module": "@jupyter-widgets/base",
      "model_module_version": "1.2.0",
      "model_name": "LayoutModel",
      "state": {}
     },
     "ad18885138e94db8adbbb94e5c3bbc7d": {
      "model_module": "@jupyter-widgets/controls",
      "model_module_version": "1.5.0",
      "model_name": "HBoxModel",
      "state": {
       "children": [
        "IPY_MODEL_a77a8121ba66411dad442dfb422aaf12",
        "IPY_MODEL_ee84a693b57a4eb4bde5970b82a19158",
        "IPY_MODEL_728cf5727e964e3b8b4f25e771fcdba0"
       ],
       "layout": "IPY_MODEL_705dcb4dfdfd45ceaaea263fdb675b6a"
      }
     },
     "ad1f13e0804c49d1b5a75544a49cebf5": {
      "model_module": "@jupyter-widgets/base",
      "model_module_version": "1.2.0",
      "model_name": "LayoutModel",
      "state": {}
     },
     "ad74e1f050f2473283b7602fbe4954c2": {
      "model_module": "@jupyter-widgets/controls",
      "model_module_version": "1.5.0",
      "model_name": "DescriptionStyleModel",
      "state": {
       "description_width": ""
      }
     },
     "adadf0b233a84cfa958e8181dde02291": {
      "model_module": "@jupyter-widgets/controls",
      "model_module_version": "1.5.0",
      "model_name": "HTMLModel",
      "state": {
       "layout": "IPY_MODEL_abdfc3cb3bfe4a9d97a84ab795b81b1b",
       "style": "IPY_MODEL_d755b58a1b004cd59c41377d6018b8c9",
       "value": "Writing sentences to sent_chunk_0033.txt: 100%"
      }
     },
     "adb309fa44814371a19c7e83045c56b6": {
      "model_module": "@jupyter-widgets/base",
      "model_module_version": "1.2.0",
      "model_name": "LayoutModel",
      "state": {}
     },
     "ade83a5c49a0478fbec6901ea459a78f": {
      "model_module": "@jupyter-widgets/base",
      "model_module_version": "1.2.0",
      "model_name": "LayoutModel",
      "state": {}
     },
     "ae1c872645b94074ba31225eed67c3d5": {
      "model_module": "@jupyter-widgets/controls",
      "model_module_version": "1.5.0",
      "model_name": "HBoxModel",
      "state": {
       "children": [
        "IPY_MODEL_6f000569533e497f9018c6d4c1c5083c",
        "IPY_MODEL_005ef18316504acf9fb3a936bd138349",
        "IPY_MODEL_a0f99817cd504745bd08ec353d05155d"
       ],
       "layout": "IPY_MODEL_576df1cdf3d34ae185e02f339c29253e"
      }
     },
     "aeb3ba2b548340989304b93a240346b9": {
      "model_module": "@jupyter-widgets/base",
      "model_module_version": "1.2.0",
      "model_name": "LayoutModel",
      "state": {}
     },
     "aed2b9b701ab48428a4d2c6949e02e7c": {
      "model_module": "@jupyter-widgets/base",
      "model_module_version": "1.2.0",
      "model_name": "LayoutModel",
      "state": {}
     },
     "af72ff591a824496b7fd3a4bc2a985b9": {
      "model_module": "@jupyter-widgets/base",
      "model_module_version": "1.2.0",
      "model_name": "LayoutModel",
      "state": {}
     },
     "af8dd10b519941baa62737270715cff8": {
      "model_module": "@jupyter-widgets/base",
      "model_module_version": "1.2.0",
      "model_name": "LayoutModel",
      "state": {}
     },
     "afed4bceeaa24889a4cb62d576258413": {
      "model_module": "@jupyter-widgets/base",
      "model_module_version": "1.2.0",
      "model_name": "LayoutModel",
      "state": {}
     },
     "aff7ac6ce1344f938343b51c8434d53c": {
      "model_module": "@jupyter-widgets/base",
      "model_module_version": "1.2.0",
      "model_name": "LayoutModel",
      "state": {}
     },
     "b01f3fd93ddb4d5aba246cb2fe34701b": {
      "model_module": "@jupyter-widgets/controls",
      "model_module_version": "1.5.0",
      "model_name": "HBoxModel",
      "state": {
       "children": [
        "IPY_MODEL_ca606d58719d490bacc2a03f060e24aa",
        "IPY_MODEL_3c55b70b47664f7292e4932796f95056",
        "IPY_MODEL_aca4a8011730489a9ddd1431d451996b"
       ],
       "layout": "IPY_MODEL_69f174bf8b354b978b81b54efec6ed58"
      }
     },
     "b0eaf55ef4e94ef7bfb4d57a2eeccde7": {
      "model_module": "@jupyter-widgets/controls",
      "model_module_version": "1.5.0",
      "model_name": "HBoxModel",
      "state": {
       "children": [
        "IPY_MODEL_441a39d376f64f9b9db4907fecc4658b",
        "IPY_MODEL_2e5dfd0fe0fa4bbebe46156b1b852409",
        "IPY_MODEL_434079e4727f4c95aa7d1b8909915b83"
       ],
       "layout": "IPY_MODEL_19f06d31532844ac93db88890a1e4836"
      }
     },
     "b128da9de1974273a1b5f7227d52cb63": {
      "model_module": "@jupyter-widgets/controls",
      "model_module_version": "1.5.0",
      "model_name": "HTMLModel",
      "state": {
       "layout": "IPY_MODEL_42920453861140eebc6755e8ec95fb09",
       "style": "IPY_MODEL_a77093b65490453f9bf5415c1e01a553",
       "value": " 10000/10000 [00:01&lt;00:00, 7519.18it/s]"
      }
     },
     "b16270c3874443fa9820cc86672e2529": {
      "model_module": "@jupyter-widgets/controls",
      "model_module_version": "1.5.0",
      "model_name": "HBoxModel",
      "state": {
       "children": [
        "IPY_MODEL_1d504c69051a4b5dbebd56eec25654df",
        "IPY_MODEL_73e2add3920e4095ab7d5b9c68cb3449",
        "IPY_MODEL_57818ac770e54f5b8ab5a854fec8c35d"
       ],
       "layout": "IPY_MODEL_8c79468901644c7abeda2199ddef1bfd"
      }
     },
     "b1bd6b9c42984e1eb3d366c3213b40a5": {
      "model_module": "@jupyter-widgets/controls",
      "model_module_version": "1.5.0",
      "model_name": "DescriptionStyleModel",
      "state": {
       "description_width": ""
      }
     },
     "b1d2d98285144206a8bfd30c9df8ad7e": {
      "model_module": "@jupyter-widgets/controls",
      "model_module_version": "1.5.0",
      "model_name": "FloatProgressModel",
      "state": {
       "bar_style": "success",
       "layout": "IPY_MODEL_7e582b5592c144cd9c82f23f68cf984a",
       "max": 10000,
       "style": "IPY_MODEL_6feccb7ea35e4da79bf15cd9b6cd14fc",
       "value": 10000
      }
     },
     "b1e02c91c5ee4b28b96042f2e2064143": {
      "model_module": "@jupyter-widgets/base",
      "model_module_version": "1.2.0",
      "model_name": "LayoutModel",
      "state": {}
     },
     "b2778e47b04948ed9e5bfff640d8c6f1": {
      "model_module": "@jupyter-widgets/controls",
      "model_module_version": "1.5.0",
      "model_name": "DescriptionStyleModel",
      "state": {
       "description_width": ""
      }
     },
     "b28bae956ee14760882bc46414bc5ce0": {
      "model_module": "@jupyter-widgets/controls",
      "model_module_version": "1.5.0",
      "model_name": "ProgressStyleModel",
      "state": {
       "description_width": ""
      }
     },
     "b2bd02fe7c6840c5bae1340bbb6072ec": {
      "model_module": "@jupyter-widgets/controls",
      "model_module_version": "1.5.0",
      "model_name": "FloatProgressModel",
      "state": {
       "bar_style": "success",
       "layout": "IPY_MODEL_051682ef6280432f8d12db44b271a350",
       "max": 10000,
       "style": "IPY_MODEL_2f49cbe4fe5c4a7ca78f2b0be9b81f9e",
       "value": 10000
      }
     },
     "b30b91edaf8646bda39d838fff24069e": {
      "model_module": "@jupyter-widgets/base",
      "model_module_version": "1.2.0",
      "model_name": "LayoutModel",
      "state": {}
     },
     "b3431d3988f44a299c6300bbd3bc73ea": {
      "model_module": "@jupyter-widgets/controls",
      "model_module_version": "1.5.0",
      "model_name": "HTMLModel",
      "state": {
       "layout": "IPY_MODEL_6c31f3034b33498081f4f3a06ef46fd9",
       "style": "IPY_MODEL_4fc90312320d418289d8412aa585dabe",
       "value": " 10000/10000 [00:01&lt;00:00, 7486.91it/s]"
      }
     },
     "b368798d816141ada5624675f04377a4": {
      "model_module": "@jupyter-widgets/controls",
      "model_module_version": "1.5.0",
      "model_name": "DescriptionStyleModel",
      "state": {
       "description_width": ""
      }
     },
     "b38811fae5124a2c9dd82cbe4c5a6bb1": {
      "model_module": "@jupyter-widgets/controls",
      "model_module_version": "1.5.0",
      "model_name": "HBoxModel",
      "state": {
       "children": [
        "IPY_MODEL_b5eaa77c2bee4c33a437fcb4d182985a",
        "IPY_MODEL_23be2badc1094ad2bbb3dbc9c783e683",
        "IPY_MODEL_f2e5d38877bf46dc8754c5b61411652a"
       ],
       "layout": "IPY_MODEL_d4025945f1f24a16bac33356ae33de59"
      }
     },
     "b41c8253f5d844b196ad8327ff372f87": {
      "model_module": "@jupyter-widgets/controls",
      "model_module_version": "1.5.0",
      "model_name": "DescriptionStyleModel",
      "state": {
       "description_width": ""
      }
     },
     "b4330a2d5d4e44fc8b07ca8e8e220363": {
      "model_module": "@jupyter-widgets/base",
      "model_module_version": "1.2.0",
      "model_name": "LayoutModel",
      "state": {}
     },
     "b4c9e8d1769741de8e2aae48add2f715": {
      "model_module": "@jupyter-widgets/controls",
      "model_module_version": "1.5.0",
      "model_name": "HTMLModel",
      "state": {
       "layout": "IPY_MODEL_f3d37fd7032c40e7893de5903b33c284",
       "style": "IPY_MODEL_2025c9ab243b4f25bd3c8d919fcb1d73",
       "value": " 10000/10000 [00:01&lt;00:00, 7279.51it/s]"
      }
     },
     "b4cc520093c8412eab242cc7ffc5ce43": {
      "model_module": "@jupyter-widgets/controls",
      "model_module_version": "1.5.0",
      "model_name": "HTMLModel",
      "state": {
       "layout": "IPY_MODEL_74ad1aa65bbb47f98ed4314176a0bb20",
       "style": "IPY_MODEL_6145edfca71d40a6acc3e135eaefdc58",
       "value": "Writing sentences to sent_chunk_0007.txt: 100%"
      }
     },
     "b4e9f5dfa5884a41b8ee15f5588e3086": {
      "model_module": "@jupyter-widgets/controls",
      "model_module_version": "1.5.0",
      "model_name": "HTMLModel",
      "state": {
       "layout": "IPY_MODEL_041937a00afa4103b68d74cd15b62f7b",
       "style": "IPY_MODEL_c9a102fccd0a4151b6d03e4ce8977c13",
       "value": " 10000/10000 [00:01&lt;00:00, 7389.07it/s]"
      }
     },
     "b5c30207c77d47039f18093549e7b0c5": {
      "model_module": "@jupyter-widgets/controls",
      "model_module_version": "1.5.0",
      "model_name": "DescriptionStyleModel",
      "state": {
       "description_width": ""
      }
     },
     "b5c794fc19904edf87b96372d79a2522": {
      "model_module": "@jupyter-widgets/controls",
      "model_module_version": "1.5.0",
      "model_name": "HBoxModel",
      "state": {
       "children": [
        "IPY_MODEL_87dd5c3e8ee147e3bd06b9c71a1d31ef",
        "IPY_MODEL_cc027e39889945ef89a6e55c279b6d52",
        "IPY_MODEL_78a840c0b734409196cdf029d320b145"
       ],
       "layout": "IPY_MODEL_ca5c90f4ee334518ae228a9578d70469"
      }
     },
     "b5eaa77c2bee4c33a437fcb4d182985a": {
      "model_module": "@jupyter-widgets/controls",
      "model_module_version": "1.5.0",
      "model_name": "HTMLModel",
      "state": {
       "layout": "IPY_MODEL_2f03a1eb848a4d679945a0759b7149f7",
       "style": "IPY_MODEL_339c4916c67a4d2c84224465803369f7",
       "value": "sent_chunk_0000.txt: 100%"
      }
     },
     "b652f4a0abb8499bb558471c2bf9c3e8": {
      "model_module": "@jupyter-widgets/controls",
      "model_module_version": "1.5.0",
      "model_name": "HTMLModel",
      "state": {
       "layout": "IPY_MODEL_4c0df699cfac4d088d7e8e4f2b78d91c",
       "style": "IPY_MODEL_99639130b3874420a9dd36bd22388872",
       "value": " 10000/10000 [00:01&lt;00:00, 7539.09it/s]"
      }
     },
     "b68422aa92f14f99b26c565adc6bad1a": {
      "model_module": "@jupyter-widgets/controls",
      "model_module_version": "1.5.0",
      "model_name": "FloatProgressModel",
      "state": {
       "bar_style": "success",
       "layout": "IPY_MODEL_087eb44b9b4244ea9ab8cfc6a8fd2289",
       "max": 10000,
       "style": "IPY_MODEL_b7c3abb372a44e718836ce3a603aa284",
       "value": 10000
      }
     },
     "b6b671fe328a4acba481993948634bb0": {
      "model_module": "@jupyter-widgets/controls",
      "model_module_version": "1.5.0",
      "model_name": "ProgressStyleModel",
      "state": {
       "description_width": ""
      }
     },
     "b6cfb35f60e94e19b62f9ab55f1616f8": {
      "model_module": "@jupyter-widgets/base",
      "model_module_version": "1.2.0",
      "model_name": "LayoutModel",
      "state": {}
     },
     "b6d7bcfe0e1741be87e30fb600641dea": {
      "model_module": "@jupyter-widgets/controls",
      "model_module_version": "1.5.0",
      "model_name": "DescriptionStyleModel",
      "state": {
       "description_width": ""
      }
     },
     "b74fc295aaca4cc1adf354a0931a8351": {
      "model_module": "@jupyter-widgets/base",
      "model_module_version": "1.2.0",
      "model_name": "LayoutModel",
      "state": {}
     },
     "b7c3abb372a44e718836ce3a603aa284": {
      "model_module": "@jupyter-widgets/controls",
      "model_module_version": "1.5.0",
      "model_name": "ProgressStyleModel",
      "state": {
       "description_width": ""
      }
     },
     "b7df4f6749ce404397a8990ebad73bc7": {
      "model_module": "@jupyter-widgets/base",
      "model_module_version": "1.2.0",
      "model_name": "LayoutModel",
      "state": {}
     },
     "b8622343d97d40d1a3eab1af2bda0df3": {
      "model_module": "@jupyter-widgets/controls",
      "model_module_version": "1.5.0",
      "model_name": "HTMLModel",
      "state": {
       "layout": "IPY_MODEL_3af02fc8d26741c09739f361f3edab38",
       "style": "IPY_MODEL_4155a9e117264ce18c964af0966cf17e",
       "value": " 10000/10000 [00:01&lt;00:00, 7567.92it/s]"
      }
     },
     "b883a1062ff34605a02eae7f84deffaf": {
      "model_module": "@jupyter-widgets/controls",
      "model_module_version": "1.5.0",
      "model_name": "HTMLModel",
      "state": {
       "layout": "IPY_MODEL_c870bf3c450a485a9fc0f231651d5c32",
       "style": "IPY_MODEL_9d2480bdcdac477b8e67ff68eaf8efa5",
       "value": " 10000/10000 [00:01&lt;00:00, 7648.68it/s]"
      }
     },
     "b8ad9b89c4ec449f9ac3020b64e05bc8": {
      "model_module": "@jupyter-widgets/controls",
      "model_module_version": "1.5.0",
      "model_name": "HBoxModel",
      "state": {
       "children": [
        "IPY_MODEL_8223f14752c34a088d92a27dc395cc03",
        "IPY_MODEL_a4ce5581145347b5b74f15306dac8655",
        "IPY_MODEL_9d90d4d14e0c4a989111a4affe662892"
       ],
       "layout": "IPY_MODEL_4f256d1decfb4751839a5b4135f69079"
      }
     },
     "b8b90601a7664deabf593bbb81f11ce5": {
      "model_module": "@jupyter-widgets/controls",
      "model_module_version": "1.5.0",
      "model_name": "HTMLModel",
      "state": {
       "layout": "IPY_MODEL_6d836e7924b146e7b3da2cd18facdb65",
       "style": "IPY_MODEL_45f0a3d1e4f041c9bd59f3b0d03e223f",
       "value": " 2998856/2998856 [00:18&lt;00:00, 164275.24it/s]"
      }
     },
     "b8c8b71b41fa4a369a157fc1678cd0ec": {
      "model_module": "@jupyter-widgets/base",
      "model_module_version": "1.2.0",
      "model_name": "LayoutModel",
      "state": {}
     },
     "b9014edb10474f0facf9be9ada4732ee": {
      "model_module": "@jupyter-widgets/controls",
      "model_module_version": "1.5.0",
      "model_name": "HTMLModel",
      "state": {
       "layout": "IPY_MODEL_129ccb6c323a41cf949d751ff9224d2a",
       "style": "IPY_MODEL_31d80f9cfb3e410780091b2b26ed211c",
       "value": "sent_chunk_0010.txt: 100%"
      }
     },
     "b99f9072cb42422c8b8074bd7c2df7bb": {
      "model_module": "@jupyter-widgets/base",
      "model_module_version": "1.2.0",
      "model_name": "LayoutModel",
      "state": {}
     },
     "b9c66b55417a403989d8c15e151edfc7": {
      "model_module": "@jupyter-widgets/controls",
      "model_module_version": "1.5.0",
      "model_name": "HTMLModel",
      "state": {
       "layout": "IPY_MODEL_b1e02c91c5ee4b28b96042f2e2064143",
       "style": "IPY_MODEL_f57d4247059845f59022337e39eaa185",
       "value": "Writing sentences to sent_chunk_0044.txt: 100%"
      }
     },
     "b9f70a2cdb014b2787b1b5e8c9fca75e": {
      "model_module": "@jupyter-widgets/base",
      "model_module_version": "1.2.0",
      "model_name": "LayoutModel",
      "state": {}
     },
     "ba5141ac64d0403a810e11b6e0f4ea1a": {
      "model_module": "@jupyter-widgets/controls",
      "model_module_version": "1.5.0",
      "model_name": "ProgressStyleModel",
      "state": {
       "description_width": ""
      }
     },
     "babcdb1592c245e79c7ffb343cd9cfb0": {
      "model_module": "@jupyter-widgets/controls",
      "model_module_version": "1.5.0",
      "model_name": "FloatProgressModel",
      "state": {
       "bar_style": "success",
       "layout": "IPY_MODEL_17e9b112a0a14614b500c3bac003861b",
       "max": 10000,
       "style": "IPY_MODEL_ca3a6a4f7d3040b6a302021646ddc8ae",
       "value": 10000
      }
     },
     "bb051927dca2499c9184d6a1ef35f4c8": {
      "model_module": "@jupyter-widgets/controls",
      "model_module_version": "1.5.0",
      "model_name": "DescriptionStyleModel",
      "state": {
       "description_width": ""
      }
     },
     "bb9d16b13b574f2fa7ca2dfedfa5ba48": {
      "model_module": "@jupyter-widgets/controls",
      "model_module_version": "1.5.0",
      "model_name": "HTMLModel",
      "state": {
       "layout": "IPY_MODEL_af8dd10b519941baa62737270715cff8",
       "style": "IPY_MODEL_c1f71ed66b6b4537b41741206b09de85",
       "value": " 10000/10000 [00:01&lt;00:00, 7861.97it/s]"
      }
     },
     "bba9136a9d06488ca32a167347c9065c": {
      "model_module": "@jupyter-widgets/base",
      "model_module_version": "1.2.0",
      "model_name": "LayoutModel",
      "state": {}
     },
     "bbd0e4c43daf49399f314e021b9cce76": {
      "model_module": "@jupyter-widgets/controls",
      "model_module_version": "1.5.0",
      "model_name": "HTMLModel",
      "state": {
       "layout": "IPY_MODEL_4549d57629c248e4909bec7523253b19",
       "style": "IPY_MODEL_2cf652a6b5d642f8a28a0e4456b7ea01",
       "value": "sent_chunk_0045.txt:  21%"
      }
     },
     "bbdd53d00d584829b8c028bd64f04559": {
      "model_module": "@jupyter-widgets/base",
      "model_module_version": "1.2.0",
      "model_name": "LayoutModel",
      "state": {}
     },
     "bbec34d5b0624713bd082178eb784a98": {
      "model_module": "@jupyter-widgets/base",
      "model_module_version": "1.2.0",
      "model_name": "LayoutModel",
      "state": {}
     },
     "bc114903be7d4ecdb5a19cae0e4c6ca4": {
      "model_module": "@jupyter-widgets/controls",
      "model_module_version": "1.5.0",
      "model_name": "DescriptionStyleModel",
      "state": {
       "description_width": ""
      }
     },
     "bc2ee050262b408b9f62c193225b5a04": {
      "model_module": "@jupyter-widgets/base",
      "model_module_version": "1.2.0",
      "model_name": "LayoutModel",
      "state": {}
     },
     "bc51b2b26b9a4778ae6eb8dde7d1176c": {
      "model_module": "@jupyter-widgets/controls",
      "model_module_version": "1.5.0",
      "model_name": "HTMLModel",
      "state": {
       "layout": "IPY_MODEL_4fab6bb2a2714bbe83a014d389ff6626",
       "style": "IPY_MODEL_e8be7c430f894d1ab0f6581cd2d22da6",
       "value": " 3719/3719 [00:00&lt;00:00, 7442.09it/s]"
      }
     },
     "bc93544029c4445e8f16aec5c864a8c4": {
      "model_module": "@jupyter-widgets/controls",
      "model_module_version": "1.5.0",
      "model_name": "DescriptionStyleModel",
      "state": {
       "description_width": ""
      }
     },
     "bc952ef382bf4010b00c81c71605bea0": {
      "model_module": "@jupyter-widgets/base",
      "model_module_version": "1.2.0",
      "model_name": "LayoutModel",
      "state": {}
     },
     "bcb2f55d8a6644d9ba45ea8fddf02740": {
      "model_module": "@jupyter-widgets/controls",
      "model_module_version": "1.5.0",
      "model_name": "DescriptionStyleModel",
      "state": {
       "description_width": ""
      }
     },
     "bcdc9f44b3974bd0b38e9cf3c0847c15": {
      "model_module": "@jupyter-widgets/controls",
      "model_module_version": "1.5.0",
      "model_name": "HBoxModel",
      "state": {
       "children": [
        "IPY_MODEL_8fcb2aee1c974793b43521abcd9dc410",
        "IPY_MODEL_3280b849c1de4a53b8b116d524a7d5b9",
        "IPY_MODEL_dc9557d563f24de8bee7625e73f8cde1"
       ],
       "layout": "IPY_MODEL_8833020f58214d2695b8168906383f44"
      }
     },
     "bd05cb6f775044278e82ec4a18ecdb70": {
      "model_module": "@jupyter-widgets/base",
      "model_module_version": "1.2.0",
      "model_name": "LayoutModel",
      "state": {}
     },
     "bd363bddd8c445f0bf561e498d2de1ba": {
      "model_module": "@jupyter-widgets/base",
      "model_module_version": "1.2.0",
      "model_name": "LayoutModel",
      "state": {}
     },
     "bd5be733bb6344648c3d512829f25e02": {
      "model_module": "@jupyter-widgets/controls",
      "model_module_version": "1.5.0",
      "model_name": "HTMLModel",
      "state": {
       "layout": "IPY_MODEL_43332d93cbc04d479091e1ac1cc642aa",
       "style": "IPY_MODEL_6041736c8eb444fa96a3057dcf5fee79",
       "value": " 10000/10000 [00:01&lt;00:00, 7614.69it/s]"
      }
     },
     "bd6fe78ca334499d9b7fd3dce0b80f98": {
      "model_module": "@jupyter-widgets/base",
      "model_module_version": "1.2.0",
      "model_name": "LayoutModel",
      "state": {}
     },
     "bd8d1b55da874a9f8a2ba827f630232c": {
      "model_module": "@jupyter-widgets/controls",
      "model_module_version": "1.5.0",
      "model_name": "HTMLModel",
      "state": {
       "layout": "IPY_MODEL_dc4da36594394372904489dc6abf4a9f",
       "style": "IPY_MODEL_827711a444134defa6d2019012241059",
       "value": "Writing sentences to sent_chunk_0000.txt: 100%"
      }
     },
     "bd9ac13e816543f6a0668c7c8b3fe5d7": {
      "model_module": "@jupyter-widgets/controls",
      "model_module_version": "1.5.0",
      "model_name": "DescriptionStyleModel",
      "state": {
       "description_width": ""
      }
     },
     "bdcaf0ffad9a47bba4d2054c75e99680": {
      "model_module": "@jupyter-widgets/base",
      "model_module_version": "1.2.0",
      "model_name": "LayoutModel",
      "state": {}
     },
     "bdf4abee0b0b4d4191dc0a3399efac12": {
      "model_module": "@jupyter-widgets/controls",
      "model_module_version": "1.5.0",
      "model_name": "FloatProgressModel",
      "state": {
       "bar_style": "success",
       "layout": "IPY_MODEL_a860cb820ead494c8f3b1a23e19546bf",
       "max": 10000,
       "style": "IPY_MODEL_efbbb680ce7141a58db70e80544aa4ed",
       "value": 10000
      }
     },
     "be8aa4e95a2b49bab2c8f0c64c62b041": {
      "model_module": "@jupyter-widgets/base",
      "model_module_version": "1.2.0",
      "model_name": "LayoutModel",
      "state": {}
     },
     "beead13e35094725815f8b6bc8647670": {
      "model_module": "@jupyter-widgets/controls",
      "model_module_version": "1.5.0",
      "model_name": "HBoxModel",
      "state": {
       "children": [
        "IPY_MODEL_0b6e0dd81fc54957a578afdd65100ab9",
        "IPY_MODEL_5f5e1941832945be88936f7e8727a750",
        "IPY_MODEL_5abcfa51c9044ecfaa67f9f62f5029e6"
       ],
       "layout": "IPY_MODEL_f7ea8c5031aa4be5939935db2c47e011"
      }
     },
     "bf6dede804fa41d09d2333cc2f3e3729": {
      "model_module": "@jupyter-widgets/controls",
      "model_module_version": "1.5.0",
      "model_name": "ProgressStyleModel",
      "state": {
       "description_width": ""
      }
     },
     "bfa8f43e91514173b157c430fc1e9f34": {
      "model_module": "@jupyter-widgets/controls",
      "model_module_version": "1.5.0",
      "model_name": "HTMLModel",
      "state": {
       "layout": "IPY_MODEL_fec69f19712b4f9ebd092a1dfcd57e7d",
       "style": "IPY_MODEL_48651a1ec0b94e0cb9c221ca147dbfbc",
       "value": " 10000/10000 [00:01&lt;00:00, 7586.02it/s]"
      }
     },
     "c00eaa5083b640e2baec80ef3966f2c9": {
      "model_module": "@jupyter-widgets/base",
      "model_module_version": "1.2.0",
      "model_name": "LayoutModel",
      "state": {}
     },
     "c09f62f6192040fb9c15e8e0b6a4b582": {
      "model_module": "@jupyter-widgets/controls",
      "model_module_version": "1.5.0",
      "model_name": "DescriptionStyleModel",
      "state": {
       "description_width": ""
      }
     },
     "c0ba60cab4b0433f873bc31b4af50624": {
      "model_module": "@jupyter-widgets/base",
      "model_module_version": "1.2.0",
      "model_name": "LayoutModel",
      "state": {}
     },
     "c0e7b335d13e49a48daefdb624b701b7": {
      "model_module": "@jupyter-widgets/controls",
      "model_module_version": "1.5.0",
      "model_name": "HTMLModel",
      "state": {
       "layout": "IPY_MODEL_4fbd3ac14ca64689aa2ca348ad6621fa",
       "style": "IPY_MODEL_8cbc4a49a2c149c1aaf020535f90b7aa",
       "value": " 10000/10000 [00:01&lt;00:00, 7404.97it/s]"
      }
     },
     "c16a39c5a03e4d1788b9f75349f336f5": {
      "model_module": "@jupyter-widgets/controls",
      "model_module_version": "1.5.0",
      "model_name": "DescriptionStyleModel",
      "state": {
       "description_width": ""
      }
     },
     "c1cdb2aa977641c0ab15a601ee92e96b": {
      "model_module": "@jupyter-widgets/base",
      "model_module_version": "1.2.0",
      "model_name": "LayoutModel",
      "state": {}
     },
     "c1e76f53ce19483ab20109564638233e": {
      "model_module": "@jupyter-widgets/base",
      "model_module_version": "1.2.0",
      "model_name": "LayoutModel",
      "state": {}
     },
     "c1f71ed66b6b4537b41741206b09de85": {
      "model_module": "@jupyter-widgets/controls",
      "model_module_version": "1.5.0",
      "model_name": "DescriptionStyleModel",
      "state": {
       "description_width": ""
      }
     },
     "c2214b68159f4178a31a87bc210c27a3": {
      "model_module": "@jupyter-widgets/base",
      "model_module_version": "1.2.0",
      "model_name": "LayoutModel",
      "state": {}
     },
     "c2932a5a55644dc0831db37d6720b76b": {
      "model_module": "@jupyter-widgets/controls",
      "model_module_version": "1.5.0",
      "model_name": "ProgressStyleModel",
      "state": {
       "description_width": ""
      }
     },
     "c2f63147bf914af493a501261a149e82": {
      "model_module": "@jupyter-widgets/base",
      "model_module_version": "1.2.0",
      "model_name": "LayoutModel",
      "state": {}
     },
     "c31bd1facfd84149af12c73195911176": {
      "model_module": "@jupyter-widgets/base",
      "model_module_version": "1.2.0",
      "model_name": "LayoutModel",
      "state": {}
     },
     "c364653960f546ecbe82d3fcfde9cb54": {
      "model_module": "@jupyter-widgets/controls",
      "model_module_version": "1.5.0",
      "model_name": "HTMLModel",
      "state": {
       "layout": "IPY_MODEL_e6aa5f82e47c45e4a5cefca7615db27b",
       "style": "IPY_MODEL_ec272ca867ab4bcda0d2eeeb349ee027",
       "value": "sent_chunk_0044.txt: 100%"
      }
     },
     "c37cea877d4743a1952b54cd4a1afb1c": {
      "model_module": "@jupyter-widgets/controls",
      "model_module_version": "1.5.0",
      "model_name": "DescriptionStyleModel",
      "state": {
       "description_width": ""
      }
     },
     "c40255e3ded245f695ef6e11325635c7": {
      "model_module": "@jupyter-widgets/base",
      "model_module_version": "1.2.0",
      "model_name": "LayoutModel",
      "state": {}
     },
     "c41dfe1a87bd4761abcc0d8b5497b7d9": {
      "model_module": "@jupyter-widgets/controls",
      "model_module_version": "1.5.0",
      "model_name": "DescriptionStyleModel",
      "state": {
       "description_width": ""
      }
     },
     "c471df5d163a4de3974261966cc16e4e": {
      "model_module": "@jupyter-widgets/base",
      "model_module_version": "1.2.0",
      "model_name": "LayoutModel",
      "state": {}
     },
     "c4bf1bcec4cd49be9aad276840ccc0d1": {
      "model_module": "@jupyter-widgets/controls",
      "model_module_version": "1.5.0",
      "model_name": "HBoxModel",
      "state": {
       "children": [
        "IPY_MODEL_265ee6760e2147d6ae645dd767de8665",
        "IPY_MODEL_6e9637ee6ff0493f9dd6fe7db8c6d31f",
        "IPY_MODEL_a5f5dd934e664078b743581af741afd9"
       ],
       "layout": "IPY_MODEL_69d157bc9a514e09be76e4a300bcfebd"
      }
     },
     "c4e6cf7b1b2645aea7b82597b9d9e34f": {
      "model_module": "@jupyter-widgets/controls",
      "model_module_version": "1.5.0",
      "model_name": "ProgressStyleModel",
      "state": {
       "description_width": ""
      }
     },
     "c500bd617b074f30bf23e59243e3a761": {
      "model_module": "@jupyter-widgets/base",
      "model_module_version": "1.2.0",
      "model_name": "LayoutModel",
      "state": {}
     },
     "c57f9c6070a54f058922117a96065dee": {
      "model_module": "@jupyter-widgets/base",
      "model_module_version": "1.2.0",
      "model_name": "LayoutModel",
      "state": {}
     },
     "c593bc83356b4aa5bf6d49ef4b930fa5": {
      "model_module": "@jupyter-widgets/base",
      "model_module_version": "1.2.0",
      "model_name": "LayoutModel",
      "state": {}
     },
     "c5d23a342c474ddda30b25d2be9fd8f6": {
      "model_module": "@jupyter-widgets/controls",
      "model_module_version": "1.5.0",
      "model_name": "DescriptionStyleModel",
      "state": {
       "description_width": ""
      }
     },
     "c60ff7c0efa34fd38989096bb56e83f3": {
      "model_module": "@jupyter-widgets/base",
      "model_module_version": "1.2.0",
      "model_name": "LayoutModel",
      "state": {}
     },
     "c680dca3127f425786d74f56feeed3f3": {
      "model_module": "@jupyter-widgets/controls",
      "model_module_version": "1.5.0",
      "model_name": "HBoxModel",
      "state": {
       "children": [
        "IPY_MODEL_3b32b6233c4c4e5aa78449902ee944d8",
        "IPY_MODEL_f8b88a74676842f791f5d43b87352e08",
        "IPY_MODEL_a1da545540f548b1b2abcf0187d3a558"
       ],
       "layout": "IPY_MODEL_0e43145f464c45408f94e688ee42540c"
      }
     },
     "c6953bde73814bb896b6bc43ae683b17": {
      "model_module": "@jupyter-widgets/controls",
      "model_module_version": "1.5.0",
      "model_name": "DescriptionStyleModel",
      "state": {
       "description_width": ""
      }
     },
     "c709581148d74200b98a415dbf862d27": {
      "model_module": "@jupyter-widgets/controls",
      "model_module_version": "1.5.0",
      "model_name": "HBoxModel",
      "state": {
       "children": [
        "IPY_MODEL_283fbab0c63444b7b937b814e4f6046e",
        "IPY_MODEL_81ff91cf209546c3ac19a299591fefe9",
        "IPY_MODEL_084d8686345447099bc73b1088583791"
       ],
       "layout": "IPY_MODEL_f712c7c8e9fc49dfbae02bf826120f84"
      }
     },
     "c74f7f178b3844f6a119e25db5e7c496": {
      "model_module": "@jupyter-widgets/controls",
      "model_module_version": "1.5.0",
      "model_name": "HBoxModel",
      "state": {
       "children": [
        "IPY_MODEL_646db2b10baf432a9ecd1a26daea6753",
        "IPY_MODEL_18ed9becdd0b47ae8b59ed3732ecf832",
        "IPY_MODEL_9822c00ae9c3482e8220c30513a12e27"
       ],
       "layout": "IPY_MODEL_4dd331b784fa4131b562810a7635a60d"
      }
     },
     "c76c02b95f544690ba1474339633013c": {
      "model_module": "@jupyter-widgets/base",
      "model_module_version": "1.2.0",
      "model_name": "LayoutModel",
      "state": {}
     },
     "c771cda579dc4d1a9b786a5fb0e3a135": {
      "model_module": "@jupyter-widgets/controls",
      "model_module_version": "1.5.0",
      "model_name": "DescriptionStyleModel",
      "state": {
       "description_width": ""
      }
     },
     "c7c0ec324d944c7ab06c24b495ba68a1": {
      "model_module": "@jupyter-widgets/controls",
      "model_module_version": "1.5.0",
      "model_name": "DescriptionStyleModel",
      "state": {
       "description_width": ""
      }
     },
     "c7c54527cf334b07acf826a77fed022e": {
      "model_module": "@jupyter-widgets/controls",
      "model_module_version": "1.5.0",
      "model_name": "DescriptionStyleModel",
      "state": {
       "description_width": ""
      }
     },
     "c800230e3fe745a18fcaeb43331bb971": {
      "model_module": "@jupyter-widgets/controls",
      "model_module_version": "1.5.0",
      "model_name": "FloatProgressModel",
      "state": {
       "bar_style": "success",
       "layout": "IPY_MODEL_44a34fa7c8f4446aa034d4075b16cda9",
       "max": 10000,
       "style": "IPY_MODEL_bf6dede804fa41d09d2333cc2f3e3729",
       "value": 10000
      }
     },
     "c870bf3c450a485a9fc0f231651d5c32": {
      "model_module": "@jupyter-widgets/base",
      "model_module_version": "1.2.0",
      "model_name": "LayoutModel",
      "state": {}
     },
     "c8ad2bd48de04b6fbad93f90b1bf49d8": {
      "model_module": "@jupyter-widgets/controls",
      "model_module_version": "1.5.0",
      "model_name": "HBoxModel",
      "state": {
       "children": [
        "IPY_MODEL_285437adcd9e4906a4eb981d54ab7b1c",
        "IPY_MODEL_44f02ecaa13f4e029af393a554db2a8d",
        "IPY_MODEL_6d41981ddd1e429cb38aaa14e71b077c"
       ],
       "layout": "IPY_MODEL_02f9ec49463e43648b1cc57d2b6bb7f5"
      }
     },
     "c8e76de5bbd0450f8d5f5988eec2d0f9": {
      "model_module": "@jupyter-widgets/base",
      "model_module_version": "1.2.0",
      "model_name": "LayoutModel",
      "state": {}
     },
     "c94759c680a04c619730db40c3546b27": {
      "model_module": "@jupyter-widgets/controls",
      "model_module_version": "1.5.0",
      "model_name": "FloatProgressModel",
      "state": {
       "bar_style": "success",
       "layout": "IPY_MODEL_ab604b9e249a4ad2b471da11fbfa6ede",
       "max": 10000,
       "style": "IPY_MODEL_275a36cab57641eea3709ef2d9f5aa28",
       "value": 10000
      }
     },
     "c9a102fccd0a4151b6d03e4ce8977c13": {
      "model_module": "@jupyter-widgets/controls",
      "model_module_version": "1.5.0",
      "model_name": "DescriptionStyleModel",
      "state": {
       "description_width": ""
      }
     },
     "c9c8f7ca157d4ca181063da7323742f4": {
      "model_module": "@jupyter-widgets/base",
      "model_module_version": "1.2.0",
      "model_name": "LayoutModel",
      "state": {}
     },
     "c9eb317f03434b24878c320b74b914a4": {
      "model_module": "@jupyter-widgets/controls",
      "model_module_version": "1.5.0",
      "model_name": "HBoxModel",
      "state": {
       "children": [
        "IPY_MODEL_933f98e8009e4338b4ab1096423c1edc",
        "IPY_MODEL_60e54d7112064b20bfbf2e795057fb0d",
        "IPY_MODEL_f8889c4608da4136b7e6b364b1038bc3"
       ],
       "layout": "IPY_MODEL_f37f59eaafe64133b16e1fe80568d8a2"
      }
     },
     "ca03c7788d4943c3b33b4d224d57715e": {
      "model_module": "@jupyter-widgets/controls",
      "model_module_version": "1.5.0",
      "model_name": "HBoxModel",
      "state": {
       "children": [
        "IPY_MODEL_f3cd2f9338494e62a9fbbd323121223d",
        "IPY_MODEL_b1d2d98285144206a8bfd30c9df8ad7e",
        "IPY_MODEL_56f794d4c19d47e3bd4b9a5476d506ab"
       ],
       "layout": "IPY_MODEL_2cd5650f24b740fc8235d0a1477162b5"
      }
     },
     "ca0aadceae0741e3889859b87dab5b03": {
      "model_module": "@jupyter-widgets/controls",
      "model_module_version": "1.5.0",
      "model_name": "HBoxModel",
      "state": {
       "children": [
        "IPY_MODEL_195d350c016441d79cb2622c167a2e47",
        "IPY_MODEL_967c84a9964f4500b4dd0e80b60d1ac3",
        "IPY_MODEL_5f3e13ccd66c452d9380b27ee23de657"
       ],
       "layout": "IPY_MODEL_f1ceb1ed5912401abbe368ead04703f7"
      }
     },
     "ca11eeebaf2e4e7f89539df2b0189d1c": {
      "model_module": "@jupyter-widgets/controls",
      "model_module_version": "1.5.0",
      "model_name": "FloatProgressModel",
      "state": {
       "bar_style": "success",
       "layout": "IPY_MODEL_a724d6d543b74ba4827d64b9bf7f0192",
       "max": 10000,
       "style": "IPY_MODEL_fa24f5f3a8804bd4be8c58fe15470318",
       "value": 10000
      }
     },
     "ca12cb5f4e8348cf9b934fb580809b16": {
      "model_module": "@jupyter-widgets/controls",
      "model_module_version": "1.5.0",
      "model_name": "FloatProgressModel",
      "state": {
       "bar_style": "success",
       "layout": "IPY_MODEL_e2b312aa18ae42a5a1363187a27a834e",
       "max": 10000,
       "style": "IPY_MODEL_a0ce72a4b8eb4f4ebc8a308825f7bf57",
       "value": 10000
      }
     },
     "ca3a6a4f7d3040b6a302021646ddc8ae": {
      "model_module": "@jupyter-widgets/controls",
      "model_module_version": "1.5.0",
      "model_name": "ProgressStyleModel",
      "state": {
       "description_width": ""
      }
     },
     "ca5c90f4ee334518ae228a9578d70469": {
      "model_module": "@jupyter-widgets/base",
      "model_module_version": "1.2.0",
      "model_name": "LayoutModel",
      "state": {}
     },
     "ca606d58719d490bacc2a03f060e24aa": {
      "model_module": "@jupyter-widgets/controls",
      "model_module_version": "1.5.0",
      "model_name": "HTMLModel",
      "state": {
       "layout": "IPY_MODEL_ec7b9e3719364ed5ae8e912d8fc277c6",
       "style": "IPY_MODEL_e9ce7bbe128546c487046c5767836d67",
       "value": "sent_chunk_0030.txt: 100%"
      }
     },
     "ca6b17b038d24954a53ebb442d797e9b": {
      "model_module": "@jupyter-widgets/controls",
      "model_module_version": "1.5.0",
      "model_name": "ProgressStyleModel",
      "state": {
       "description_width": ""
      }
     },
     "cab291ab0154436da66a53bca18a14a1": {
      "model_module": "@jupyter-widgets/base",
      "model_module_version": "1.2.0",
      "model_name": "LayoutModel",
      "state": {}
     },
     "cab87409b9344d8ab59c317ae6b4c5f6": {
      "model_module": "@jupyter-widgets/controls",
      "model_module_version": "1.5.0",
      "model_name": "DescriptionStyleModel",
      "state": {
       "description_width": ""
      }
     },
     "caea583698e0494fb93f1dac1882dd3e": {
      "model_module": "@jupyter-widgets/controls",
      "model_module_version": "1.5.0",
      "model_name": "DescriptionStyleModel",
      "state": {
       "description_width": ""
      }
     },
     "cb1c7f8dbc8141b19edb1dea11e5b0a3": {
      "model_module": "@jupyter-widgets/controls",
      "model_module_version": "1.5.0",
      "model_name": "FloatProgressModel",
      "state": {
       "bar_style": "success",
       "layout": "IPY_MODEL_3e947d4fec984c6594342e1edc0f8c87",
       "max": 10000,
       "style": "IPY_MODEL_763fdeeb67ad4eb29630e253083c17dc",
       "value": 10000
      }
     },
     "cb84f5f2dcbb423a86b915cf701fcb54": {
      "model_module": "@jupyter-widgets/controls",
      "model_module_version": "1.5.0",
      "model_name": "HTMLModel",
      "state": {
       "layout": "IPY_MODEL_979b25ff13264c5d8b2bfb4accdf124d",
       "style": "IPY_MODEL_20387e451e884e5e89d6cc68109bdfd0",
       "value": "sent_chunk_0017.txt: 100%"
      }
     },
     "cbde916bf2d443dfb5f2caf17b6bf0e2": {
      "model_module": "@jupyter-widgets/controls",
      "model_module_version": "1.5.0",
      "model_name": "HBoxModel",
      "state": {
       "children": [
        "IPY_MODEL_de4c533ca7314f2a80a872cad959d1c5",
        "IPY_MODEL_f20dcac0881c4e4aa301f7ef0f907f13",
        "IPY_MODEL_139777e4818f409b872fd721f1d22c80"
       ],
       "layout": "IPY_MODEL_d7475a7cf6ec41d597de6f5feda7af2b"
      }
     },
     "cc027e39889945ef89a6e55c279b6d52": {
      "model_module": "@jupyter-widgets/controls",
      "model_module_version": "1.5.0",
      "model_name": "FloatProgressModel",
      "state": {
       "bar_style": "success",
       "layout": "IPY_MODEL_17dc762b4507486ebc5e148f6e0afaa6",
       "max": 10000,
       "style": "IPY_MODEL_acd8673e51af441eadd6e3ecda6f595e",
       "value": 10000
      }
     },
     "cc3e24ada4f045c189746236271e8925": {
      "model_module": "@jupyter-widgets/controls",
      "model_module_version": "1.5.0",
      "model_name": "DescriptionStyleModel",
      "state": {
       "description_width": ""
      }
     },
     "cc87c68a596b486aa80c950b2bf81bd1": {
      "model_module": "@jupyter-widgets/base",
      "model_module_version": "1.2.0",
      "model_name": "LayoutModel",
      "state": {}
     },
     "cca87b8696ca4513bc54c727905230c7": {
      "model_module": "@jupyter-widgets/controls",
      "model_module_version": "1.5.0",
      "model_name": "ProgressStyleModel",
      "state": {
       "description_width": ""
      }
     },
     "cccadb6b3b62435c9c64208a10faa7ca": {
      "model_module": "@jupyter-widgets/controls",
      "model_module_version": "1.5.0",
      "model_name": "DescriptionStyleModel",
      "state": {
       "description_width": ""
      }
     },
     "ccd687653acf46ef8ec498287e0a9734": {
      "model_module": "@jupyter-widgets/controls",
      "model_module_version": "1.5.0",
      "model_name": "HBoxModel",
      "state": {
       "children": [
        "IPY_MODEL_d597cb55ed42485f901fe7cb25bd87a9",
        "IPY_MODEL_6f75fa089db44749bb04d01cda799c87",
        "IPY_MODEL_13ed830897f04cec9d64f43fa8d2104a"
       ],
       "layout": "IPY_MODEL_f45769522e7f40c3ab0c4f6966642a00"
      }
     },
     "cd1ddf9bbb144c85a6de777c3adccf07": {
      "model_module": "@jupyter-widgets/base",
      "model_module_version": "1.2.0",
      "model_name": "LayoutModel",
      "state": {}
     },
     "cd1ef125918c4e049ed14b2dc4016d79": {
      "model_module": "@jupyter-widgets/controls",
      "model_module_version": "1.5.0",
      "model_name": "HBoxModel",
      "state": {
       "children": [
        "IPY_MODEL_a25b9c45d02c4d7197a1def76a7e8d83",
        "IPY_MODEL_4778d0b96acf418da39b13556bb297f6",
        "IPY_MODEL_dec17b5939ec4ef4a15510b681f4d0fc"
       ],
       "layout": "IPY_MODEL_19478f0a66f644c085b9172dbfb4654b"
      }
     },
     "cd268ed44dad4f168910b643f9ccd1a6": {
      "model_module": "@jupyter-widgets/base",
      "model_module_version": "1.2.0",
      "model_name": "LayoutModel",
      "state": {}
     },
     "cdceb1537b6b49e5895f983179e2d2fb": {
      "model_module": "@jupyter-widgets/controls",
      "model_module_version": "1.5.0",
      "model_name": "HTMLModel",
      "state": {
       "layout": "IPY_MODEL_0be1924f7d8f415f9bf5442152fc172b",
       "style": "IPY_MODEL_83f4c9f3f9ad42509ef4f52d9a4daea1",
       "value": " 10000/10000 [00:01&lt;00:00, 7497.64it/s]"
      }
     },
     "ced4f75ec31e4167b50d2987caf70827": {
      "model_module": "@jupyter-widgets/base",
      "model_module_version": "1.2.0",
      "model_name": "LayoutModel",
      "state": {}
     },
     "cf31fc396da74b7e8d02a62f60275464": {
      "model_module": "@jupyter-widgets/base",
      "model_module_version": "1.2.0",
      "model_name": "LayoutModel",
      "state": {}
     },
     "cf9c35c4abd644d39fbeddd194b11f50": {
      "model_module": "@jupyter-widgets/controls",
      "model_module_version": "1.5.0",
      "model_name": "HBoxModel",
      "state": {
       "children": [
        "IPY_MODEL_24dda96297324040b30911c96444d46a",
        "IPY_MODEL_ebb3fa3720dc4584b903afb0f0a38a0c",
        "IPY_MODEL_0d5ee347993d416db864324dbca051af"
       ],
       "layout": "IPY_MODEL_eee3c67086334c87bcd1bcf1bc09be10"
      }
     },
     "cfc73913c82a403fbc253765b34005c9": {
      "model_module": "@jupyter-widgets/controls",
      "model_module_version": "1.5.0",
      "model_name": "ProgressStyleModel",
      "state": {
       "description_width": ""
      }
     },
     "cfdfbe01448a466eb709f6feceb5a4bd": {
      "model_module": "@jupyter-widgets/base",
      "model_module_version": "1.2.0",
      "model_name": "LayoutModel",
      "state": {}
     },
     "d00b423cd2694dc885e92fe13b9bed36": {
      "model_module": "@jupyter-widgets/base",
      "model_module_version": "1.2.0",
      "model_name": "LayoutModel",
      "state": {}
     },
     "d039181cf57547e4b4e55a29f8d80fc5": {
      "model_module": "@jupyter-widgets/base",
      "model_module_version": "1.2.0",
      "model_name": "LayoutModel",
      "state": {}
     },
     "d03ddacc7b7d49d1af95af4dbcf979db": {
      "model_module": "@jupyter-widgets/controls",
      "model_module_version": "1.5.0",
      "model_name": "HBoxModel",
      "state": {
       "children": [
        "IPY_MODEL_81fddb120f914c16aaf73932622553c1",
        "IPY_MODEL_2763f8597db04e0f93af3b2addb55438",
        "IPY_MODEL_624b27d80f5e4e8b958d69fb1f2c39f4"
       ],
       "layout": "IPY_MODEL_84c72f1d000e4fdd87d2c34f6751b41c"
      }
     },
     "d04a9078b5fb489a9bff7d51dcdb834d": {
      "model_module": "@jupyter-widgets/base",
      "model_module_version": "1.2.0",
      "model_name": "LayoutModel",
      "state": {}
     },
     "d0ba0e4ba70c465aafdd731f74cd8414": {
      "model_module": "@jupyter-widgets/base",
      "model_module_version": "1.2.0",
      "model_name": "LayoutModel",
      "state": {}
     },
     "d0eaec157b9f4a5bac98c25d5b8977a9": {
      "model_module": "@jupyter-widgets/base",
      "model_module_version": "1.2.0",
      "model_name": "LayoutModel",
      "state": {}
     },
     "d1174568705c456ba2a5a9f829994848": {
      "model_module": "@jupyter-widgets/controls",
      "model_module_version": "1.5.0",
      "model_name": "HTMLModel",
      "state": {
       "layout": "IPY_MODEL_bc952ef382bf4010b00c81c71605bea0",
       "style": "IPY_MODEL_285e1f03065e4dc693c889356a7d571f",
       "value": "100%"
      }
     },
     "d131fb904e8f4faa823303bf3d6fef89": {
      "model_module": "@jupyter-widgets/base",
      "model_module_version": "1.2.0",
      "model_name": "LayoutModel",
      "state": {}
     },
     "d16008822d94418a94b42efc8dba1123": {
      "model_module": "@jupyter-widgets/controls",
      "model_module_version": "1.5.0",
      "model_name": "HTMLModel",
      "state": {
       "layout": "IPY_MODEL_0c798b1eaa0147d09c302c3efae5f1d3",
       "style": "IPY_MODEL_56e910bfecf34181bf200369b0f61049",
       "value": " 10000/10000 [00:01&lt;00:00, 7641.80it/s]"
      }
     },
     "d16404646129441c9de1828953ecefa5": {
      "model_module": "@jupyter-widgets/controls",
      "model_module_version": "1.5.0",
      "model_name": "DescriptionStyleModel",
      "state": {
       "description_width": ""
      }
     },
     "d203da253a674c30a6e59e4202cd68ec": {
      "model_module": "@jupyter-widgets/controls",
      "model_module_version": "1.5.0",
      "model_name": "DescriptionStyleModel",
      "state": {
       "description_width": ""
      }
     },
     "d22fd9a046a8446a99ec8824031a8fdf": {
      "model_module": "@jupyter-widgets/controls",
      "model_module_version": "1.5.0",
      "model_name": "FloatProgressModel",
      "state": {
       "bar_style": "success",
       "layout": "IPY_MODEL_857caf9c47334c9b9718c6e62bc4703d",
       "max": 10000,
       "style": "IPY_MODEL_50bc6077b75a4810867663296cb3af7c",
       "value": 10000
      }
     },
     "d27867807ef04cac9b7ffa0ce93cac97": {
      "model_module": "@jupyter-widgets/controls",
      "model_module_version": "1.5.0",
      "model_name": "ProgressStyleModel",
      "state": {
       "description_width": ""
      }
     },
     "d28347c5957c4fc0b07aa1936f73927c": {
      "model_module": "@jupyter-widgets/controls",
      "model_module_version": "1.5.0",
      "model_name": "DescriptionStyleModel",
      "state": {
       "description_width": ""
      }
     },
     "d2d26ba546dc4b9890e2d612ab27595f": {
      "model_module": "@jupyter-widgets/controls",
      "model_module_version": "1.5.0",
      "model_name": "DescriptionStyleModel",
      "state": {
       "description_width": ""
      }
     },
     "d3f0156302a54b3b8c9a68f254540dde": {
      "model_module": "@jupyter-widgets/base",
      "model_module_version": "1.2.0",
      "model_name": "LayoutModel",
      "state": {}
     },
     "d4025945f1f24a16bac33356ae33de59": {
      "model_module": "@jupyter-widgets/base",
      "model_module_version": "1.2.0",
      "model_name": "LayoutModel",
      "state": {}
     },
     "d4846cf0b96c4423bcdefd40b12aaf45": {
      "model_module": "@jupyter-widgets/controls",
      "model_module_version": "1.5.0",
      "model_name": "ProgressStyleModel",
      "state": {
       "description_width": ""
      }
     },
     "d4d2bbab4950418c9c9df5e752656178": {
      "model_module": "@jupyter-widgets/base",
      "model_module_version": "1.2.0",
      "model_name": "LayoutModel",
      "state": {}
     },
     "d4d9311af101455ab7b90bfa4631bdc6": {
      "model_module": "@jupyter-widgets/controls",
      "model_module_version": "1.5.0",
      "model_name": "ProgressStyleModel",
      "state": {
       "description_width": ""
      }
     },
     "d4f2bec85d12458793beaa9813edae1f": {
      "model_module": "@jupyter-widgets/base",
      "model_module_version": "1.2.0",
      "model_name": "LayoutModel",
      "state": {}
     },
     "d5044fb22dde4a23a259000b3ff939da": {
      "model_module": "@jupyter-widgets/base",
      "model_module_version": "1.2.0",
      "model_name": "LayoutModel",
      "state": {}
     },
     "d507a381a39847eca83e9036ef90e0a5": {
      "model_module": "@jupyter-widgets/base",
      "model_module_version": "1.2.0",
      "model_name": "LayoutModel",
      "state": {}
     },
     "d51a9e7ba920406a9b5f86d8d66a5647": {
      "model_module": "@jupyter-widgets/controls",
      "model_module_version": "1.5.0",
      "model_name": "HTMLModel",
      "state": {
       "layout": "IPY_MODEL_19be78638b81413e8da5687d2d76c343",
       "style": "IPY_MODEL_906a127af7994d07b9f9557a4d0cbf76",
       "value": " 10000/10000 [00:01&lt;00:00, 7586.42it/s]"
      }
     },
     "d58db400179d48809105e79b0ca9a16c": {
      "model_module": "@jupyter-widgets/controls",
      "model_module_version": "1.5.0",
      "model_name": "HTMLModel",
      "state": {
       "layout": "IPY_MODEL_2523870087cb4b9da9628cb60b36084c",
       "style": "IPY_MODEL_538dfa013709461ea1f47b8baa5b248c",
       "value": "sent_chunk_0001.txt: 100%"
      }
     },
     "d597cb55ed42485f901fe7cb25bd87a9": {
      "model_module": "@jupyter-widgets/controls",
      "model_module_version": "1.5.0",
      "model_name": "HTMLModel",
      "state": {
       "layout": "IPY_MODEL_2f9b051f83d0436bb744e602ce32d79e",
       "style": "IPY_MODEL_86a9f7209d2b42b2ad69bf1730fef19b",
       "value": "Writing sentences to sent_chunk_0031.txt: 100%"
      }
     },
     "d5f6ad7fdb2a40059dbcd46f34a58efb": {
      "model_module": "@jupyter-widgets/base",
      "model_module_version": "1.2.0",
      "model_name": "LayoutModel",
      "state": {}
     },
     "d60df96216cd4b35b8d975d19054f796": {
      "model_module": "@jupyter-widgets/controls",
      "model_module_version": "1.5.0",
      "model_name": "ProgressStyleModel",
      "state": {
       "description_width": ""
      }
     },
     "d629e96f21464c72b83a7441ab376be9": {
      "model_module": "@jupyter-widgets/base",
      "model_module_version": "1.2.0",
      "model_name": "LayoutModel",
      "state": {}
     },
     "d62a1e69f6674957810ca1f6c7721006": {
      "model_module": "@jupyter-widgets/base",
      "model_module_version": "1.2.0",
      "model_name": "LayoutModel",
      "state": {}
     },
     "d656d2d5e4c24e4d89d478b96713dfb6": {
      "model_module": "@jupyter-widgets/controls",
      "model_module_version": "1.5.0",
      "model_name": "HBoxModel",
      "state": {
       "children": [
        "IPY_MODEL_407052e1cc1b4f9d80b96677c5448c84",
        "IPY_MODEL_9a4a85345db34cfdb01231d71da9e329",
        "IPY_MODEL_b4c9e8d1769741de8e2aae48add2f715"
       ],
       "layout": "IPY_MODEL_7d4157a75f584c1695cf9c7d5e052edf"
      }
     },
     "d69fd0e067d14db79e26fc5ca90809ec": {
      "model_module": "@jupyter-widgets/controls",
      "model_module_version": "1.5.0",
      "model_name": "HTMLModel",
      "state": {
       "layout": "IPY_MODEL_36a0c2d1a4ba4ea0bc6401f3e9ab54c1",
       "style": "IPY_MODEL_df59984b5d8b47159f9da8346e0020f8",
       "value": "Writing sentences to sent_chunk_0036.txt: 100%"
      }
     },
     "d6b2a137df624648ac574592d7d7fd8e": {
      "model_module": "@jupyter-widgets/base",
      "model_module_version": "1.2.0",
      "model_name": "LayoutModel",
      "state": {}
     },
     "d6c661f58e1141aab2fc24cd3b030083": {
      "model_module": "@jupyter-widgets/base",
      "model_module_version": "1.2.0",
      "model_name": "LayoutModel",
      "state": {}
     },
     "d6c716bc22ce48718ab305ff25b1e9ea": {
      "model_module": "@jupyter-widgets/controls",
      "model_module_version": "1.5.0",
      "model_name": "ProgressStyleModel",
      "state": {
       "description_width": ""
      }
     },
     "d6d06ac48b3b478c84e7f0cdb7732042": {
      "model_module": "@jupyter-widgets/controls",
      "model_module_version": "1.5.0",
      "model_name": "ProgressStyleModel",
      "state": {
       "description_width": ""
      }
     },
     "d6e78d3d142644689812830b5400b05e": {
      "model_module": "@jupyter-widgets/base",
      "model_module_version": "1.2.0",
      "model_name": "LayoutModel",
      "state": {}
     },
     "d7309beda9a74b488fb05e60a2026bc2": {
      "model_module": "@jupyter-widgets/controls",
      "model_module_version": "1.5.0",
      "model_name": "HTMLModel",
      "state": {
       "layout": "IPY_MODEL_245d39d4f66d477fa1772229b8992406",
       "style": "IPY_MODEL_deafd426cc3b42668fc4fef4a0b3e735",
       "value": "Writing sentences to sent_chunk_0014.txt: 100%"
      }
     },
     "d7435a0596174e469d6f9fe8f7371d08": {
      "model_module": "@jupyter-widgets/base",
      "model_module_version": "1.2.0",
      "model_name": "LayoutModel",
      "state": {}
     },
     "d7475a7cf6ec41d597de6f5feda7af2b": {
      "model_module": "@jupyter-widgets/base",
      "model_module_version": "1.2.0",
      "model_name": "LayoutModel",
      "state": {}
     },
     "d755b58a1b004cd59c41377d6018b8c9": {
      "model_module": "@jupyter-widgets/controls",
      "model_module_version": "1.5.0",
      "model_name": "DescriptionStyleModel",
      "state": {
       "description_width": ""
      }
     },
     "d7ac21ad7ad14abbb63dfb838b0c8118": {
      "model_module": "@jupyter-widgets/base",
      "model_module_version": "1.2.0",
      "model_name": "LayoutModel",
      "state": {}
     },
     "d82b42c80b8f402e8ebb82f70e9a89f2": {
      "model_module": "@jupyter-widgets/controls",
      "model_module_version": "1.5.0",
      "model_name": "ProgressStyleModel",
      "state": {
       "description_width": ""
      }
     },
     "d873906abf8542b894aca68a6ec253e1": {
      "model_module": "@jupyter-widgets/base",
      "model_module_version": "1.2.0",
      "model_name": "LayoutModel",
      "state": {}
     },
     "d8d7a97990e64b82b7e31d1a8c6bf19f": {
      "model_module": "@jupyter-widgets/controls",
      "model_module_version": "1.5.0",
      "model_name": "FloatProgressModel",
      "state": {
       "bar_style": "success",
       "layout": "IPY_MODEL_90a3614999624fc9a43e6ec020d1a815",
       "max": 10000,
       "style": "IPY_MODEL_0e022d775c794ab182beff8723255e4f",
       "value": 10000
      }
     },
     "d8f40e05a6464a29af2307da753e113e": {
      "model_module": "@jupyter-widgets/base",
      "model_module_version": "1.2.0",
      "model_name": "LayoutModel",
      "state": {}
     },
     "d90fd03f7b814420b9b20dc158098276": {
      "model_module": "@jupyter-widgets/controls",
      "model_module_version": "1.5.0",
      "model_name": "DescriptionStyleModel",
      "state": {
       "description_width": ""
      }
     },
     "d929bac603d84db48b7ab0ed0ec6b72d": {
      "model_module": "@jupyter-widgets/base",
      "model_module_version": "1.2.0",
      "model_name": "LayoutModel",
      "state": {}
     },
     "d94a4da9254c4f358e3c75bbcb6a9e22": {
      "model_module": "@jupyter-widgets/controls",
      "model_module_version": "1.5.0",
      "model_name": "DescriptionStyleModel",
      "state": {
       "description_width": ""
      }
     },
     "d9d7640f3d8c493dac19bd3090e8a69c": {
      "model_module": "@jupyter-widgets/controls",
      "model_module_version": "1.5.0",
      "model_name": "HTMLModel",
      "state": {
       "layout": "IPY_MODEL_d6c661f58e1141aab2fc24cd3b030083",
       "style": "IPY_MODEL_8cadc8a2cc2e4972a6a5221e7475b969",
       "value": "sent_chunk_0019.txt: 100%"
      }
     },
     "da26e758b7644a16b0be5d7e5389e5f0": {
      "model_module": "@jupyter-widgets/base",
      "model_module_version": "1.2.0",
      "model_name": "LayoutModel",
      "state": {}
     },
     "da5463d45de043e2805439e978b4b3ba": {
      "model_module": "@jupyter-widgets/controls",
      "model_module_version": "1.5.0",
      "model_name": "HBoxModel",
      "state": {
       "children": [
        "IPY_MODEL_264b720d92a54987b753e688228d9c96",
        "IPY_MODEL_77d2992a88c04cff811237449a9ebf2d",
        "IPY_MODEL_9f2d3bc337514d459faeacc8aa03647a"
       ],
       "layout": "IPY_MODEL_fa1fd781ca15470f93a2c47a45a9b061"
      }
     },
     "da5f2ebd8925436bb4020f7654964112": {
      "model_module": "@jupyter-widgets/controls",
      "model_module_version": "1.5.0",
      "model_name": "FloatProgressModel",
      "state": {
       "bar_style": "success",
       "layout": "IPY_MODEL_d629e96f21464c72b83a7441ab376be9",
       "max": 10000,
       "style": "IPY_MODEL_fc9cb6c75c4d48a799ee41240871cf3b",
       "value": 10000
      }
     },
     "dab3584053154a1b9394da923982b7cf": {
      "model_module": "@jupyter-widgets/controls",
      "model_module_version": "1.5.0",
      "model_name": "DescriptionStyleModel",
      "state": {
       "description_width": ""
      }
     },
     "daf7f6f4f5814c50a384d4841575af4c": {
      "model_module": "@jupyter-widgets/controls",
      "model_module_version": "1.5.0",
      "model_name": "FloatProgressModel",
      "state": {
       "bar_style": "success",
       "layout": "IPY_MODEL_9f5c99ce818b49b29c74d8bfda08ee37",
       "max": 10000,
       "style": "IPY_MODEL_c2932a5a55644dc0831db37d6720b76b",
       "value": 10000
      }
     },
     "db15ef2771b3444e848650310efffae4": {
      "model_module": "@jupyter-widgets/controls",
      "model_module_version": "1.5.0",
      "model_name": "ProgressStyleModel",
      "state": {
       "description_width": ""
      }
     },
     "db1feaad323f462a85249dc1a9265bc6": {
      "model_module": "@jupyter-widgets/controls",
      "model_module_version": "1.5.0",
      "model_name": "HBoxModel",
      "state": {
       "children": [
        "IPY_MODEL_4eabaf5f0a09499696a5dec5a685a4f0",
        "IPY_MODEL_190c530ba3c64002bbc11cd2abb58246",
        "IPY_MODEL_41b39de4a537424691a25448e7172d0c"
       ],
       "layout": "IPY_MODEL_a50500e3016c413d8b8173e98af23db5"
      }
     },
     "db2476b10da84e8b878e8c644e1cc67d": {
      "model_module": "@jupyter-widgets/controls",
      "model_module_version": "1.5.0",
      "model_name": "ProgressStyleModel",
      "state": {
       "description_width": ""
      }
     },
     "db370333ff1d406683b4adbab1d7b6ca": {
      "model_module": "@jupyter-widgets/controls",
      "model_module_version": "1.5.0",
      "model_name": "DescriptionStyleModel",
      "state": {
       "description_width": ""
      }
     },
     "db4e37b7ea6549ec9c8e34e6ce07f405": {
      "model_module": "@jupyter-widgets/controls",
      "model_module_version": "1.5.0",
      "model_name": "DescriptionStyleModel",
      "state": {
       "description_width": ""
      }
     },
     "db56cd5eeec74911978982d5bb7a2334": {
      "model_module": "@jupyter-widgets/controls",
      "model_module_version": "1.5.0",
      "model_name": "FloatProgressModel",
      "state": {
       "bar_style": "success",
       "layout": "IPY_MODEL_2183f56ea8d94b5a9e7601a543b4d0ca",
       "max": 10000,
       "style": "IPY_MODEL_7c99ddc9f0a34d5daeef78b930fdfb85",
       "value": 10000
      }
     },
     "db63dcd055324b16963a986aca20766f": {
      "model_module": "@jupyter-widgets/controls",
      "model_module_version": "1.5.0",
      "model_name": "HTMLModel",
      "state": {
       "layout": "IPY_MODEL_812bb633f87c499bb21f19001e23ccbc",
       "style": "IPY_MODEL_2e308833c0b1421baf0b1ba48dd83470",
       "value": "Writing sentences to sent_chunk_0053.txt: 100%"
      }
     },
     "dbab8954e17d48f08cb8445f52a70d7f": {
      "model_module": "@jupyter-widgets/controls",
      "model_module_version": "1.5.0",
      "model_name": "HBoxModel",
      "state": {
       "children": [
        "IPY_MODEL_9fa8a6b75839424bae04bcbe7e59e7b7",
        "IPY_MODEL_3d154498783a444aa2ac45949474f61e",
        "IPY_MODEL_0bce16b736234781b3896136c1466a0f"
       ],
       "layout": "IPY_MODEL_5ff5a758f8e24371892c6647eee6b58e"
      }
     },
     "dbe986319268424aaa73f7b63712fd19": {
      "model_module": "@jupyter-widgets/controls",
      "model_module_version": "1.5.0",
      "model_name": "DescriptionStyleModel",
      "state": {
       "description_width": ""
      }
     },
     "dc4441ddfa60483d8d2a5f767d6f9700": {
      "model_module": "@jupyter-widgets/controls",
      "model_module_version": "1.5.0",
      "model_name": "HBoxModel",
      "state": {
       "children": [
        "IPY_MODEL_5daf5bf70a7d454e98700ac9b5d5fc0d",
        "IPY_MODEL_d22fd9a046a8446a99ec8824031a8fdf",
        "IPY_MODEL_3872906532524885915d5f001c6ecd4a"
       ],
       "layout": "IPY_MODEL_95aca8a757f64aed8fdc4a7f20991642"
      }
     },
     "dc4da36594394372904489dc6abf4a9f": {
      "model_module": "@jupyter-widgets/base",
      "model_module_version": "1.2.0",
      "model_name": "LayoutModel",
      "state": {}
     },
     "dc9557d563f24de8bee7625e73f8cde1": {
      "model_module": "@jupyter-widgets/controls",
      "model_module_version": "1.5.0",
      "model_name": "HTMLModel",
      "state": {
       "layout": "IPY_MODEL_1cf565d8b6e540749f1f075824bf4595",
       "style": "IPY_MODEL_54d92b3eea164ad6aac9e6e32a39f403",
       "value": " 10000/10000 [00:01&lt;00:00, 7410.64it/s]"
      }
     },
     "dca21a8dbd814ead8b0969c98bbbf5ea": {
      "model_module": "@jupyter-widgets/base",
      "model_module_version": "1.2.0",
      "model_name": "LayoutModel",
      "state": {}
     },
     "dcafbe6775ee4df18523c168a8a647f6": {
      "model_module": "@jupyter-widgets/controls",
      "model_module_version": "1.5.0",
      "model_name": "HTMLModel",
      "state": {
       "layout": "IPY_MODEL_7386d948dbb844ea8894b9d0e9edaf8d",
       "style": "IPY_MODEL_e2c41d7ac0a04db2ae971e4724840a83",
       "value": "sent_chunk_0012.txt: 100%"
      }
     },
     "dcb0e36e5d3f4c8295eb276052fd2e02": {
      "model_module": "@jupyter-widgets/base",
      "model_module_version": "1.2.0",
      "model_name": "LayoutModel",
      "state": {}
     },
     "dcf0eae48fa442ed86442ec967c28678": {
      "model_module": "@jupyter-widgets/controls",
      "model_module_version": "1.5.0",
      "model_name": "FloatProgressModel",
      "state": {
       "bar_style": "success",
       "layout": "IPY_MODEL_7476610fbdf94baabb992f2942a9be3b",
       "max": 10000,
       "style": "IPY_MODEL_2ea6e9542996489d8fac3de4ffae7045",
       "value": 10000
      }
     },
     "dd051ec0c9464b77b4c8be9f8e665e7a": {
      "model_module": "@jupyter-widgets/controls",
      "model_module_version": "1.5.0",
      "model_name": "HTMLModel",
      "state": {
       "layout": "IPY_MODEL_284b5547c4604ebf812edac4b47cc755",
       "style": "IPY_MODEL_8ed09fd2749a435686fc4fa888da752e",
       "value": "sent_chunk_0023.txt: 100%"
      }
     },
     "dd1dc69fc88949ef97d184d8a429cdf4": {
      "model_module": "@jupyter-widgets/controls",
      "model_module_version": "1.5.0",
      "model_name": "FloatProgressModel",
      "state": {
       "bar_style": "success",
       "layout": "IPY_MODEL_bdcaf0ffad9a47bba4d2054c75e99680",
       "max": 10000,
       "style": "IPY_MODEL_8176b5eac51b4832b157971a89c99b74",
       "value": 10000
      }
     },
     "de2b5584d742495c8e0c6bd26825ff9e": {
      "model_module": "@jupyter-widgets/controls",
      "model_module_version": "1.5.0",
      "model_name": "DescriptionStyleModel",
      "state": {
       "description_width": ""
      }
     },
     "de42947adb9c4ffa8b3d49f9aff2fdef": {
      "model_module": "@jupyter-widgets/controls",
      "model_module_version": "1.5.0",
      "model_name": "ProgressStyleModel",
      "state": {
       "description_width": ""
      }
     },
     "de4c533ca7314f2a80a872cad959d1c5": {
      "model_module": "@jupyter-widgets/controls",
      "model_module_version": "1.5.0",
      "model_name": "HTMLModel",
      "state": {
       "layout": "IPY_MODEL_c2214b68159f4178a31a87bc210c27a3",
       "style": "IPY_MODEL_9ea97e1bb4f44570a6a00a3b68397b7c",
       "value": "Writing sentences to sent_chunk_0022.txt: 100%"
      }
     },
     "de6428ccca8a46a78494fff6f13e69ac": {
      "model_module": "@jupyter-widgets/controls",
      "model_module_version": "1.5.0",
      "model_name": "HBoxModel",
      "state": {
       "children": [
        "IPY_MODEL_f0f5eaf36459486d81ba35c8beadc978",
        "IPY_MODEL_daf7f6f4f5814c50a384d4841575af4c",
        "IPY_MODEL_e55a4c10777b4a428f56201652ce33b1"
       ],
       "layout": "IPY_MODEL_c2f63147bf914af493a501261a149e82"
      }
     },
     "deafd426cc3b42668fc4fef4a0b3e735": {
      "model_module": "@jupyter-widgets/controls",
      "model_module_version": "1.5.0",
      "model_name": "DescriptionStyleModel",
      "state": {
       "description_width": ""
      }
     },
     "dec17b5939ec4ef4a15510b681f4d0fc": {
      "model_module": "@jupyter-widgets/controls",
      "model_module_version": "1.5.0",
      "model_name": "HTMLModel",
      "state": {
       "layout": "IPY_MODEL_5ca2f922ddf947c591bfe9596e2d6f94",
       "style": "IPY_MODEL_8b99d581c4d44c8c921cfa78e6b522d8",
       "value": " 10000/10000 [00:01&lt;00:00, 7531.35it/s]"
      }
     },
     "ded03933c12644baab225760fbac33be": {
      "model_module": "@jupyter-widgets/base",
      "model_module_version": "1.2.0",
      "model_name": "LayoutModel",
      "state": {}
     },
     "dee00bb42f404b92844570cbbf973633": {
      "model_module": "@jupyter-widgets/controls",
      "model_module_version": "1.5.0",
      "model_name": "DescriptionStyleModel",
      "state": {
       "description_width": ""
      }
     },
     "df3e0b7c0fd8485fa97da051afc91ea3": {
      "model_module": "@jupyter-widgets/controls",
      "model_module_version": "1.5.0",
      "model_name": "FloatProgressModel",
      "state": {
       "bar_style": "success",
       "layout": "IPY_MODEL_0f047d9a4ceb4990a3c011c04f291522",
       "max": 10000,
       "style": "IPY_MODEL_d6c716bc22ce48718ab305ff25b1e9ea",
       "value": 10000
      }
     },
     "df59984b5d8b47159f9da8346e0020f8": {
      "model_module": "@jupyter-widgets/controls",
      "model_module_version": "1.5.0",
      "model_name": "DescriptionStyleModel",
      "state": {
       "description_width": ""
      }
     },
     "df652a8832fb4117beeb1a5d4d46a44e": {
      "model_module": "@jupyter-widgets/base",
      "model_module_version": "1.2.0",
      "model_name": "LayoutModel",
      "state": {}
     },
     "df6dbfdbaec842f5a825a0e27e30335e": {
      "model_module": "@jupyter-widgets/base",
      "model_module_version": "1.2.0",
      "model_name": "LayoutModel",
      "state": {}
     },
     "dfab48f388164770930efd8ae1540ad0": {
      "model_module": "@jupyter-widgets/controls",
      "model_module_version": "1.5.0",
      "model_name": "DescriptionStyleModel",
      "state": {
       "description_width": ""
      }
     },
     "dfdb07e6af40441aac392cbb5196b7fc": {
      "model_module": "@jupyter-widgets/base",
      "model_module_version": "1.2.0",
      "model_name": "LayoutModel",
      "state": {}
     },
     "e0186495b4524a1ab7668f34d724b1f1": {
      "model_module": "@jupyter-widgets/controls",
      "model_module_version": "1.5.0",
      "model_name": "HTMLModel",
      "state": {
       "layout": "IPY_MODEL_c60ff7c0efa34fd38989096bb56e83f3",
       "style": "IPY_MODEL_147daede748a4d38941cd47813d0bb32",
       "value": " 10000/10000 [00:01&lt;00:00, 7580.63it/s]"
      }
     },
     "e05db058e2734eee8c6123fe6ce86a03": {
      "model_module": "@jupyter-widgets/base",
      "model_module_version": "1.2.0",
      "model_name": "LayoutModel",
      "state": {}
     },
     "e0f6404b94a44ef4b17a03c2ad99c553": {
      "model_module": "@jupyter-widgets/base",
      "model_module_version": "1.2.0",
      "model_name": "LayoutModel",
      "state": {}
     },
     "e122313382b74d778a41fea42976e4a7": {
      "model_module": "@jupyter-widgets/controls",
      "model_module_version": "1.5.0",
      "model_name": "HTMLModel",
      "state": {
       "layout": "IPY_MODEL_ced4f75ec31e4167b50d2987caf70827",
       "style": "IPY_MODEL_654c658f8f5c46398c4c345f23ce3754",
       "value": " 10000/10000 [00:01&lt;00:00, 7624.46it/s]"
      }
     },
     "e1332fe9165f4fc2aaafe55c45fd412c": {
      "model_module": "@jupyter-widgets/controls",
      "model_module_version": "1.5.0",
      "model_name": "DescriptionStyleModel",
      "state": {
       "description_width": ""
      }
     },
     "e14e7de9d0234538a429492b42394c78": {
      "model_module": "@jupyter-widgets/controls",
      "model_module_version": "1.5.0",
      "model_name": "HTMLModel",
      "state": {
       "layout": "IPY_MODEL_84e11c82d96847318789a010eae28961",
       "style": "IPY_MODEL_1e81d98b8c2640aa9de8e9d5a5c62f97",
       "value": " 10000/10000 [00:01&lt;00:00, 7849.74it/s]"
      }
     },
     "e1a88f8c7c164ce18c81a15d899e39a0": {
      "model_module": "@jupyter-widgets/controls",
      "model_module_version": "1.5.0",
      "model_name": "DescriptionStyleModel",
      "state": {
       "description_width": ""
      }
     },
     "e22d0dea970e4c25ba23334701ea8163": {
      "model_module": "@jupyter-widgets/controls",
      "model_module_version": "1.5.0",
      "model_name": "FloatProgressModel",
      "state": {
       "bar_style": "success",
       "layout": "IPY_MODEL_2f5692da625b4bfea43a8b6afbbd823a",
       "max": 10000,
       "style": "IPY_MODEL_284b0389e48b4822914bbbc52b4ea26b",
       "value": 10000
      }
     },
     "e2b312aa18ae42a5a1363187a27a834e": {
      "model_module": "@jupyter-widgets/base",
      "model_module_version": "1.2.0",
      "model_name": "LayoutModel",
      "state": {}
     },
     "e2c41d7ac0a04db2ae971e4724840a83": {
      "model_module": "@jupyter-widgets/controls",
      "model_module_version": "1.5.0",
      "model_name": "DescriptionStyleModel",
      "state": {
       "description_width": ""
      }
     },
     "e3120c4794b3443c9a36924f89a347b8": {
      "model_module": "@jupyter-widgets/base",
      "model_module_version": "1.2.0",
      "model_name": "LayoutModel",
      "state": {}
     },
     "e337e2813f86413c8bfaf8b19ab65d0c": {
      "model_module": "@jupyter-widgets/base",
      "model_module_version": "1.2.0",
      "model_name": "LayoutModel",
      "state": {}
     },
     "e3a4d979848a4a0ea817d8c2a8f5d280": {
      "model_module": "@jupyter-widgets/controls",
      "model_module_version": "1.5.0",
      "model_name": "ProgressStyleModel",
      "state": {
       "description_width": ""
      }
     },
     "e3cc6543a6cc4ff1afe86dbcffcb8521": {
      "model_module": "@jupyter-widgets/base",
      "model_module_version": "1.2.0",
      "model_name": "LayoutModel",
      "state": {}
     },
     "e4983cfb8bf64ebda48cd2dc2b058d29": {
      "model_module": "@jupyter-widgets/controls",
      "model_module_version": "1.5.0",
      "model_name": "HTMLModel",
      "state": {
       "layout": "IPY_MODEL_c0ba60cab4b0433f873bc31b4af50624",
       "style": "IPY_MODEL_db370333ff1d406683b4adbab1d7b6ca",
       "value": "sent_chunk_0042.txt: 100%"
      }
     },
     "e4d81705665e4a31a206576778f78dee": {
      "model_module": "@jupyter-widgets/controls",
      "model_module_version": "1.5.0",
      "model_name": "FloatProgressModel",
      "state": {
       "bar_style": "success",
       "layout": "IPY_MODEL_e6734cdcd8944dc58d3c858cc95a3b1f",
       "max": 10000,
       "style": "IPY_MODEL_5245471deae841ce96655cd37b5af37a",
       "value": 10000
      }
     },
     "e4e72180c530405bb84f50ddc19b4fbc": {
      "model_module": "@jupyter-widgets/controls",
      "model_module_version": "1.5.0",
      "model_name": "DescriptionStyleModel",
      "state": {
       "description_width": ""
      }
     },
     "e541f89f7ca14b86afb2dcf2c2d7a79e": {
      "model_module": "@jupyter-widgets/base",
      "model_module_version": "1.2.0",
      "model_name": "LayoutModel",
      "state": {}
     },
     "e55a4c10777b4a428f56201652ce33b1": {
      "model_module": "@jupyter-widgets/controls",
      "model_module_version": "1.5.0",
      "model_name": "HTMLModel",
      "state": {
       "layout": "IPY_MODEL_b9f70a2cdb014b2787b1b5e8c9fca75e",
       "style": "IPY_MODEL_82dda7586426464dbd8de4482e6e20eb",
       "value": " 10000/10000 [00:01&lt;00:00, 7500.98it/s]"
      }
     },
     "e5b1f8c76d9c49d88a9d3c2665fb8eeb": {
      "model_module": "@jupyter-widgets/controls",
      "model_module_version": "1.5.0",
      "model_name": "HTMLModel",
      "state": {
       "layout": "IPY_MODEL_8838c58cceaa4b96b1824165081628d0",
       "style": "IPY_MODEL_05ba9cfbf3cc424f98dc27b96b268736",
       "value": "sent_chunk_0015.txt: 100%"
      }
     },
     "e5e70bb29aa8498681a4626e896fe7f6": {
      "model_module": "@jupyter-widgets/controls",
      "model_module_version": "1.5.0",
      "model_name": "FloatProgressModel",
      "state": {
       "bar_style": "success",
       "layout": "IPY_MODEL_55762a4c62fe4e889a3a16e27c630ef8",
       "max": 10000,
       "style": "IPY_MODEL_8fef9489204e4a1fa7713ab2415ddefd",
       "value": 10000
      }
     },
     "e613225a322f4d03bd1f3f2edfb27913": {
      "model_module": "@jupyter-widgets/base",
      "model_module_version": "1.2.0",
      "model_name": "LayoutModel",
      "state": {}
     },
     "e6734cdcd8944dc58d3c858cc95a3b1f": {
      "model_module": "@jupyter-widgets/base",
      "model_module_version": "1.2.0",
      "model_name": "LayoutModel",
      "state": {}
     },
     "e684328da75c49a3b036cc2be23e2484": {
      "model_module": "@jupyter-widgets/base",
      "model_module_version": "1.2.0",
      "model_name": "LayoutModel",
      "state": {}
     },
     "e6aa5f82e47c45e4a5cefca7615db27b": {
      "model_module": "@jupyter-widgets/base",
      "model_module_version": "1.2.0",
      "model_name": "LayoutModel",
      "state": {}
     },
     "e71aefd6dd3347349b3058cb5337ac00": {
      "model_module": "@jupyter-widgets/base",
      "model_module_version": "1.2.0",
      "model_name": "LayoutModel",
      "state": {}
     },
     "e77b3f79df93499d95b89f42c7ba5d0b": {
      "model_module": "@jupyter-widgets/controls",
      "model_module_version": "1.5.0",
      "model_name": "DescriptionStyleModel",
      "state": {
       "description_width": ""
      }
     },
     "e8288855a47c4ccebc8464c153b41c5b": {
      "model_module": "@jupyter-widgets/controls",
      "model_module_version": "1.5.0",
      "model_name": "HTMLModel",
      "state": {
       "layout": "IPY_MODEL_852b27f7f651403cbc5919954b2aa134",
       "style": "IPY_MODEL_41cd4c8c87844c62b01e42ddd325a265",
       "value": "sent_chunk_0029.txt: 100%"
      }
     },
     "e884bb03b12e48dd97055888c066242b": {
      "model_module": "@jupyter-widgets/controls",
      "model_module_version": "1.5.0",
      "model_name": "FloatProgressModel",
      "state": {
       "bar_style": "success",
       "layout": "IPY_MODEL_401142091e064d019e336aee27091d21",
       "max": 10000,
       "style": "IPY_MODEL_37a23db4311b42f588e6a0db1e1c9d7e",
       "value": 10000
      }
     },
     "e89be0e830aa4ed19dfab2f3bcb6e49b": {
      "model_module": "@jupyter-widgets/base",
      "model_module_version": "1.2.0",
      "model_name": "LayoutModel",
      "state": {}
     },
     "e8be7c430f894d1ab0f6581cd2d22da6": {
      "model_module": "@jupyter-widgets/controls",
      "model_module_version": "1.5.0",
      "model_name": "DescriptionStyleModel",
      "state": {
       "description_width": ""
      }
     },
     "e9c4c6d51f2944148b45e44b1d8f919b": {
      "model_module": "@jupyter-widgets/controls",
      "model_module_version": "1.5.0",
      "model_name": "DescriptionStyleModel",
      "state": {
       "description_width": ""
      }
     },
     "e9ce7bbe128546c487046c5767836d67": {
      "model_module": "@jupyter-widgets/controls",
      "model_module_version": "1.5.0",
      "model_name": "DescriptionStyleModel",
      "state": {
       "description_width": ""
      }
     },
     "ea4a568e02d149e5859cfcd0c5974b21": {
      "model_module": "@jupyter-widgets/base",
      "model_module_version": "1.2.0",
      "model_name": "LayoutModel",
      "state": {}
     },
     "ea933790a4ea4f03a3bc18f3df277122": {
      "model_module": "@jupyter-widgets/base",
      "model_module_version": "1.2.0",
      "model_name": "LayoutModel",
      "state": {}
     },
     "ea9e04266b284cb5b2a4d33c0e6807c7": {
      "model_module": "@jupyter-widgets/controls",
      "model_module_version": "1.5.0",
      "model_name": "DescriptionStyleModel",
      "state": {
       "description_width": ""
      }
     },
     "eae4d3ab75d848739d7e5cee41ce265d": {
      "model_module": "@jupyter-widgets/controls",
      "model_module_version": "1.5.0",
      "model_name": "FloatProgressModel",
      "state": {
       "bar_style": "success",
       "layout": "IPY_MODEL_fc3e49356775479cb021916678597591",
       "max": 10000,
       "style": "IPY_MODEL_42a76683e5fc4ead823135ce0788fd12",
       "value": 10000
      }
     },
     "eb0e69e769744ba98977df2a36c48e53": {
      "model_module": "@jupyter-widgets/base",
      "model_module_version": "1.2.0",
      "model_name": "LayoutModel",
      "state": {}
     },
     "eb23b60307df46aabf18bedd6d210270": {
      "model_module": "@jupyter-widgets/base",
      "model_module_version": "1.2.0",
      "model_name": "LayoutModel",
      "state": {}
     },
     "eb5581ef6f944664b6e944967704bd79": {
      "model_module": "@jupyter-widgets/controls",
      "model_module_version": "1.5.0",
      "model_name": "FloatProgressModel",
      "state": {
       "bar_style": "success",
       "layout": "IPY_MODEL_f7675fdd2c624325ade929b640a3308c",
       "max": 10000,
       "style": "IPY_MODEL_84f25f31d65e4f6a85a102915f52bf35",
       "value": 10000
      }
     },
     "eb5e97b9a0a64c3299eef180f1d3578c": {
      "model_module": "@jupyter-widgets/controls",
      "model_module_version": "1.5.0",
      "model_name": "HBoxModel",
      "state": {
       "children": [
        "IPY_MODEL_493f584838454c578a7a5b019f4f796a",
        "IPY_MODEL_b2bd02fe7c6840c5bae1340bbb6072ec",
        "IPY_MODEL_9d0cf277ca634777a1ee0d0b96a48c15"
       ],
       "layout": "IPY_MODEL_19a88b87ae0c4809a3968b641ed06e17"
      }
     },
     "eb96087f48524e7d86f1912af14e3efd": {
      "model_module": "@jupyter-widgets/controls",
      "model_module_version": "1.5.0",
      "model_name": "HTMLModel",
      "state": {
       "layout": "IPY_MODEL_36eaa45b4a4c43ed87cad91e153c30c4",
       "style": "IPY_MODEL_ad74e1f050f2473283b7602fbe4954c2",
       "value": "Writing sentences to sent_chunk_0037.txt: 100%"
      }
     },
     "ebb3fa3720dc4584b903afb0f0a38a0c": {
      "model_module": "@jupyter-widgets/controls",
      "model_module_version": "1.5.0",
      "model_name": "FloatProgressModel",
      "state": {
       "bar_style": "success",
       "layout": "IPY_MODEL_568d8e04a11047fcb74041f7c5a4d48e",
       "max": 10000,
       "style": "IPY_MODEL_9a4649766e0544f0a70e65d3688f9e97",
       "value": 10000
      }
     },
     "ebf8a97e559b4e07a8d85dce90e3c72a": {
      "model_module": "@jupyter-widgets/base",
      "model_module_version": "1.2.0",
      "model_name": "LayoutModel",
      "state": {}
     },
     "ec009b35fcb4463ebe8427ba1eebeee1": {
      "model_module": "@jupyter-widgets/controls",
      "model_module_version": "1.5.0",
      "model_name": "DescriptionStyleModel",
      "state": {
       "description_width": ""
      }
     },
     "ec05d98251e44e738b38640ef82dc4a3": {
      "model_module": "@jupyter-widgets/base",
      "model_module_version": "1.2.0",
      "model_name": "LayoutModel",
      "state": {}
     },
     "ec272ca867ab4bcda0d2eeeb349ee027": {
      "model_module": "@jupyter-widgets/controls",
      "model_module_version": "1.5.0",
      "model_name": "DescriptionStyleModel",
      "state": {
       "description_width": ""
      }
     },
     "ec71c8c27f0f420e8a95d0edb2204deb": {
      "model_module": "@jupyter-widgets/controls",
      "model_module_version": "1.5.0",
      "model_name": "HTMLModel",
      "state": {
       "layout": "IPY_MODEL_8c24c8e17a824e3c94e72115c2a57a20",
       "style": "IPY_MODEL_f3ee0ad782024a5681e154a699ba1880",
       "value": "Writing sentences to sent_chunk_0045.txt: 100%"
      }
     },
     "ec7b9e3719364ed5ae8e912d8fc277c6": {
      "model_module": "@jupyter-widgets/base",
      "model_module_version": "1.2.0",
      "model_name": "LayoutModel",
      "state": {}
     },
     "ecdb1ec6fcd94041b17993c9632d2c74": {
      "model_module": "@jupyter-widgets/base",
      "model_module_version": "1.2.0",
      "model_name": "LayoutModel",
      "state": {}
     },
     "ed26c87046384f70b776e496db2a79c0": {
      "model_module": "@jupyter-widgets/controls",
      "model_module_version": "1.5.0",
      "model_name": "HBoxModel",
      "state": {
       "children": [
        "IPY_MODEL_6767e05c38ae4735bcb7a95b84f1b871",
        "IPY_MODEL_978673fba96b4bbea7eeeeb9da128dab",
        "IPY_MODEL_8a474c99735046ec88c34864932a7654"
       ],
       "layout": "IPY_MODEL_f6d534ab804345c790d6ff1ecbf733b7"
      }
     },
     "ed37bb53beb1478b98a7089772bfb82e": {
      "model_module": "@jupyter-widgets/controls",
      "model_module_version": "1.5.0",
      "model_name": "HTMLModel",
      "state": {
       "layout": "IPY_MODEL_257e68f8bcf84ab188b592caf270e440",
       "style": "IPY_MODEL_50f14b4a17be4fbc865996e7083ef2a6",
       "value": " 10000/10000 [00:01&lt;00:00, 7432.53it/s]"
      }
     },
     "ed3d9df0b33b4ee5bfcbad74271a4dd0": {
      "model_module": "@jupyter-widgets/controls",
      "model_module_version": "1.5.0",
      "model_name": "HTMLModel",
      "state": {
       "layout": "IPY_MODEL_1d7bf85283474b3d8d6db52b3e65b6c0",
       "style": "IPY_MODEL_dfab48f388164770930efd8ae1540ad0",
       "value": " 10000/10000 [00:01&lt;00:00, 7495.03it/s]"
      }
     },
     "edf11cb039a04c32a0b3d41a3c16c939": {
      "model_module": "@jupyter-widgets/base",
      "model_module_version": "1.2.0",
      "model_name": "LayoutModel",
      "state": {}
     },
     "ee2cffbc1b4f463e92eb8e7fd89e3f2f": {
      "model_module": "@jupyter-widgets/base",
      "model_module_version": "1.2.0",
      "model_name": "LayoutModel",
      "state": {}
     },
     "ee2d8905caf541c48c718e6940d3e964": {
      "model_module": "@jupyter-widgets/controls",
      "model_module_version": "1.5.0",
      "model_name": "HTMLModel",
      "state": {
       "layout": "IPY_MODEL_595adc1234504ef4be33d447fec1a6e9",
       "style": "IPY_MODEL_d28347c5957c4fc0b07aa1936f73927c",
       "value": " 10000/10000 [00:01&lt;00:00, 7438.61it/s]"
      }
     },
     "ee3b459275aa468da87f37371c35aa13": {
      "model_module": "@jupyter-widgets/controls",
      "model_module_version": "1.5.0",
      "model_name": "HBoxModel",
      "state": {
       "children": [
        "IPY_MODEL_d58db400179d48809105e79b0ca9a16c",
        "IPY_MODEL_e884bb03b12e48dd97055888c066242b",
        "IPY_MODEL_b3431d3988f44a299c6300bbd3bc73ea"
       ],
       "layout": "IPY_MODEL_7b1b6d92aaf4498e9d672125bfa16836"
      }
     },
     "ee84a693b57a4eb4bde5970b82a19158": {
      "model_module": "@jupyter-widgets/controls",
      "model_module_version": "1.5.0",
      "model_name": "FloatProgressModel",
      "state": {
       "bar_style": "success",
       "layout": "IPY_MODEL_68c241b660d94785a504987f7df40574",
       "max": 10000,
       "style": "IPY_MODEL_53e25972a6ce44118d092e94f88bfe91",
       "value": 10000
      }
     },
     "eebb7e29a2d645e3ba201faba69ed475": {
      "model_module": "@jupyter-widgets/controls",
      "model_module_version": "1.5.0",
      "model_name": "HTMLModel",
      "state": {
       "layout": "IPY_MODEL_ad0d55e283114dedbbbf56ad7d871bd1",
       "style": "IPY_MODEL_03b46d156af040fd96684fef027b3406",
       "value": "Writing sentences to sent_chunk_0010.txt: 100%"
      }
     },
     "eee3c67086334c87bcd1bcf1bc09be10": {
      "model_module": "@jupyter-widgets/base",
      "model_module_version": "1.2.0",
      "model_name": "LayoutModel",
      "state": {}
     },
     "eeeb7b53695a454ca6e6f5aa7ffcd9c2": {
      "model_module": "@jupyter-widgets/base",
      "model_module_version": "1.2.0",
      "model_name": "LayoutModel",
      "state": {}
     },
     "ef2ab361d96248a185775efdb9038765": {
      "model_module": "@jupyter-widgets/base",
      "model_module_version": "1.2.0",
      "model_name": "LayoutModel",
      "state": {}
     },
     "ef314deb003b4abbbb93df35ec0fb4c8": {
      "model_module": "@jupyter-widgets/controls",
      "model_module_version": "1.5.0",
      "model_name": "DescriptionStyleModel",
      "state": {
       "description_width": ""
      }
     },
     "efbbb680ce7141a58db70e80544aa4ed": {
      "model_module": "@jupyter-widgets/controls",
      "model_module_version": "1.5.0",
      "model_name": "ProgressStyleModel",
      "state": {
       "description_width": ""
      }
     },
     "f01d582f9c4f4ff88f80ae7b5fb3c457": {
      "model_module": "@jupyter-widgets/controls",
      "model_module_version": "1.5.0",
      "model_name": "FloatProgressModel",
      "state": {
       "bar_style": "success",
       "layout": "IPY_MODEL_5d09da822f8941c48023da28a172af2c",
       "max": 10000,
       "style": "IPY_MODEL_cca87b8696ca4513bc54c727905230c7",
       "value": 10000
      }
     },
     "f047eeb7f73f4b7cb859a5504c83ab90": {
      "model_module": "@jupyter-widgets/controls",
      "model_module_version": "1.5.0",
      "model_name": "HTMLModel",
      "state": {
       "layout": "IPY_MODEL_a416c7802d664930be2e1bd2a2549034",
       "style": "IPY_MODEL_b2778e47b04948ed9e5bfff640d8c6f1",
       "value": " 10000/10000 [00:01&lt;00:00, 7654.81it/s]"
      }
     },
     "f04eccfc751b4dd093c0455ccbdbe2f9": {
      "model_module": "@jupyter-widgets/base",
      "model_module_version": "1.2.0",
      "model_name": "LayoutModel",
      "state": {}
     },
     "f080e621858c4a0390bddf0cfdf96af2": {
      "model_module": "@jupyter-widgets/controls",
      "model_module_version": "1.5.0",
      "model_name": "HBoxModel",
      "state": {
       "children": [
        "IPY_MODEL_a4e544e703234403bc7c31053103a64a",
        "IPY_MODEL_f08ea2c557404018971da44524e06a49",
        "IPY_MODEL_0076a37028be4e74a1da12890008a43b"
       ],
       "layout": "IPY_MODEL_4059b562323845c18a9dfc98b2f07b39"
      }
     },
     "f08ea2c557404018971da44524e06a49": {
      "model_module": "@jupyter-widgets/controls",
      "model_module_version": "1.5.0",
      "model_name": "FloatProgressModel",
      "state": {
       "bar_style": "success",
       "layout": "IPY_MODEL_d6e78d3d142644689812830b5400b05e",
       "max": 10000,
       "style": "IPY_MODEL_882a6d3f87254d8e9f47aef4f8b58047",
       "value": 10000
      }
     },
     "f0a86ef2bd8547b998b1d640d92010c5": {
      "model_module": "@jupyter-widgets/controls",
      "model_module_version": "1.5.0",
      "model_name": "HTMLModel",
      "state": {
       "layout": "IPY_MODEL_645cb18028544097ab82516933a603c1",
       "style": "IPY_MODEL_9b0c3f5f89574df0bbde4d623b542cf8",
       "value": " 10000/10000 [00:01&lt;00:00, 7600.63it/s]"
      }
     },
     "f0f5eaf36459486d81ba35c8beadc978": {
      "model_module": "@jupyter-widgets/controls",
      "model_module_version": "1.5.0",
      "model_name": "HTMLModel",
      "state": {
       "layout": "IPY_MODEL_7f5f99d1fcbc4968897f3c5d7b520200",
       "style": "IPY_MODEL_d2d26ba546dc4b9890e2d612ab27595f",
       "value": "sent_chunk_0006.txt: 100%"
      }
     },
     "f1424a25ebc24f06979e95ceda9f4c88": {
      "model_module": "@jupyter-widgets/base",
      "model_module_version": "1.2.0",
      "model_name": "LayoutModel",
      "state": {}
     },
     "f15939363500453b9b5df7a546882963": {
      "model_module": "@jupyter-widgets/controls",
      "model_module_version": "1.5.0",
      "model_name": "HTMLModel",
      "state": {
       "layout": "IPY_MODEL_4e116eedd19a44de9ef0a65e4d429c37",
       "style": "IPY_MODEL_70f2301fff774d9bb05ced0d6353974a",
       "value": " 10000/10000 [00:01&lt;00:00, 7426.00it/s]"
      }
     },
     "f17d03bdd2ae44e29281a1a9a35fddd7": {
      "model_module": "@jupyter-widgets/base",
      "model_module_version": "1.2.0",
      "model_name": "LayoutModel",
      "state": {}
     },
     "f17d44632598487b8d445dc683d3de2f": {
      "model_module": "@jupyter-widgets/controls",
      "model_module_version": "1.5.0",
      "model_name": "HTMLModel",
      "state": {
       "layout": "IPY_MODEL_5ca72712f7cf4942a78581edf0732426",
       "style": "IPY_MODEL_06f87cf0540f46dab3028d4969a10af0",
       "value": "Writing sentences to sent_chunk_0023.txt: 100%"
      }
     },
     "f1b03b5bf3c643f68d0affdc225510fc": {
      "model_module": "@jupyter-widgets/controls",
      "model_module_version": "1.5.0",
      "model_name": "HBoxModel",
      "state": {
       "children": [
        "IPY_MODEL_7ad377eba7514a479ad5eaf7079756bc",
        "IPY_MODEL_792d939e902349c182cc285c0bfeab20",
        "IPY_MODEL_8d72a955593148a2af6cc1042e00f5ce"
       ],
       "layout": "IPY_MODEL_cc87c68a596b486aa80c950b2bf81bd1"
      }
     },
     "f1b89a0d1e004cf583e4b24c599c04c4": {
      "model_module": "@jupyter-widgets/controls",
      "model_module_version": "1.5.0",
      "model_name": "FloatProgressModel",
      "state": {
       "bar_style": "success",
       "layout": "IPY_MODEL_830db0bdaa984ea0b8abbf628bac3711",
       "max": 10000,
       "style": "IPY_MODEL_43682044d7d447aeae868917f97bf151",
       "value": 10000
      }
     },
     "f1ceb1ed5912401abbe368ead04703f7": {
      "model_module": "@jupyter-widgets/base",
      "model_module_version": "1.2.0",
      "model_name": "LayoutModel",
      "state": {}
     },
     "f1e33582f08b4c82af9806121829130e": {
      "model_module": "@jupyter-widgets/controls",
      "model_module_version": "1.5.0",
      "model_name": "HTMLModel",
      "state": {
       "layout": "IPY_MODEL_d0ba0e4ba70c465aafdd731f74cd8414",
       "style": "IPY_MODEL_b6d7bcfe0e1741be87e30fb600641dea",
       "value": " 10000/10000 [00:01&lt;00:00, 7431.01it/s]"
      }
     },
     "f1eb182302204900b225594f6d2c1a19": {
      "model_module": "@jupyter-widgets/controls",
      "model_module_version": "1.5.0",
      "model_name": "DescriptionStyleModel",
      "state": {
       "description_width": ""
      }
     },
     "f20dcac0881c4e4aa301f7ef0f907f13": {
      "model_module": "@jupyter-widgets/controls",
      "model_module_version": "1.5.0",
      "model_name": "FloatProgressModel",
      "state": {
       "bar_style": "success",
       "layout": "IPY_MODEL_d8f40e05a6464a29af2307da753e113e",
       "max": 10000,
       "style": "IPY_MODEL_35950b9ac89445038d7609a46605ef2b",
       "value": 10000
      }
     },
     "f2543efb41d648fb865384f97e0a1c62": {
      "model_module": "@jupyter-widgets/base",
      "model_module_version": "1.2.0",
      "model_name": "LayoutModel",
      "state": {}
     },
     "f29163e65d7142b88a6627f3571541c9": {
      "model_module": "@jupyter-widgets/base",
      "model_module_version": "1.2.0",
      "model_name": "LayoutModel",
      "state": {}
     },
     "f2e5d38877bf46dc8754c5b61411652a": {
      "model_module": "@jupyter-widgets/controls",
      "model_module_version": "1.5.0",
      "model_name": "HTMLModel",
      "state": {
       "layout": "IPY_MODEL_5be8cac8225747209f5f69fe78d1715f",
       "style": "IPY_MODEL_0e169c6d901b4d2ba6392af06f5cf9ef",
       "value": " 10000/10000 [00:01&lt;00:00, 7422.03it/s]"
      }
     },
     "f2f67951cf4148a981762a2d2eb5e2d4": {
      "model_module": "@jupyter-widgets/base",
      "model_module_version": "1.2.0",
      "model_name": "LayoutModel",
      "state": {}
     },
     "f324014d8ab64af1840a2991f5a05cee": {
      "model_module": "@jupyter-widgets/controls",
      "model_module_version": "1.5.0",
      "model_name": "FloatProgressModel",
      "state": {
       "bar_style": "success",
       "layout": "IPY_MODEL_7f4f293ac3fe49c6b24a2fbb03665d79",
       "max": 10000,
       "style": "IPY_MODEL_603f9a84cca74e9baa510c8d32b429d9",
       "value": 10000
      }
     },
     "f35232911d164e1e861c2891afecbb94": {
      "model_module": "@jupyter-widgets/controls",
      "model_module_version": "1.5.0",
      "model_name": "HTMLModel",
      "state": {
       "layout": "IPY_MODEL_b99f9072cb42422c8b8074bd7c2df7bb",
       "style": "IPY_MODEL_97158ba0eac849d98c73d6bc46927da2",
       "value": "Writing sentences to sent_chunk_0048.txt: 100%"
      }
     },
     "f37f59eaafe64133b16e1fe80568d8a2": {
      "model_module": "@jupyter-widgets/base",
      "model_module_version": "1.2.0",
      "model_name": "LayoutModel",
      "state": {}
     },
     "f3933a30a8804728aa937ea2acf7d35d": {
      "model_module": "@jupyter-widgets/controls",
      "model_module_version": "1.5.0",
      "model_name": "HBoxModel",
      "state": {
       "children": [
        "IPY_MODEL_73984a36e8904df583c1cf9546a30feb",
        "IPY_MODEL_ab005d42bb194027a2866a829700a229",
        "IPY_MODEL_8a77c3c723e34e1c965d96b914fc448e"
       ],
       "layout": "IPY_MODEL_ebf8a97e559b4e07a8d85dce90e3c72a"
      }
     },
     "f3cd2f9338494e62a9fbbd323121223d": {
      "model_module": "@jupyter-widgets/controls",
      "model_module_version": "1.5.0",
      "model_name": "HTMLModel",
      "state": {
       "layout": "IPY_MODEL_554a2147982a45168ac0ffe8408fa718",
       "style": "IPY_MODEL_8d204df54a7445a8bf70fd07b32797f6",
       "value": "Writing sentences to sent_chunk_0021.txt: 100%"
      }
     },
     "f3d37fd7032c40e7893de5903b33c284": {
      "model_module": "@jupyter-widgets/base",
      "model_module_version": "1.2.0",
      "model_name": "LayoutModel",
      "state": {}
     },
     "f3ee0ad782024a5681e154a699ba1880": {
      "model_module": "@jupyter-widgets/controls",
      "model_module_version": "1.5.0",
      "model_name": "DescriptionStyleModel",
      "state": {
       "description_width": ""
      }
     },
     "f45769522e7f40c3ab0c4f6966642a00": {
      "model_module": "@jupyter-widgets/base",
      "model_module_version": "1.2.0",
      "model_name": "LayoutModel",
      "state": {}
     },
     "f45fd753cbc147bea44ebcae84dda436": {
      "model_module": "@jupyter-widgets/base",
      "model_module_version": "1.2.0",
      "model_name": "LayoutModel",
      "state": {}
     },
     "f4bbe0732e1a40f28e6efe5ace5ccc26": {
      "model_module": "@jupyter-widgets/base",
      "model_module_version": "1.2.0",
      "model_name": "LayoutModel",
      "state": {}
     },
     "f4c77c856256407882cf2dde41e41ed8": {
      "model_module": "@jupyter-widgets/controls",
      "model_module_version": "1.5.0",
      "model_name": "FloatProgressModel",
      "state": {
       "bar_style": "success",
       "layout": "IPY_MODEL_172f69c0bda94b88a2175ee02fb3cf97",
       "max": 10000,
       "style": "IPY_MODEL_d4d9311af101455ab7b90bfa4631bdc6",
       "value": 10000
      }
     },
     "f51402584bbb43188d6f0eb0040bd78e": {
      "model_module": "@jupyter-widgets/base",
      "model_module_version": "1.2.0",
      "model_name": "LayoutModel",
      "state": {}
     },
     "f57d4247059845f59022337e39eaa185": {
      "model_module": "@jupyter-widgets/controls",
      "model_module_version": "1.5.0",
      "model_name": "DescriptionStyleModel",
      "state": {
       "description_width": ""
      }
     },
     "f5b3f887485149ddbb7ef61b2a972be9": {
      "model_module": "@jupyter-widgets/controls",
      "model_module_version": "1.5.0",
      "model_name": "DescriptionStyleModel",
      "state": {
       "description_width": ""
      }
     },
     "f60661d32c2f4e219ce9daae263df771": {
      "model_module": "@jupyter-widgets/controls",
      "model_module_version": "1.5.0",
      "model_name": "HTMLModel",
      "state": {
       "layout": "IPY_MODEL_c57f9c6070a54f058922117a96065dee",
       "style": "IPY_MODEL_ab65db58ab2243d69e08ba5c4b7bbd7b",
       "value": " 45/61 [01:06&lt;00:23,  1.47s/it]"
      }
     },
     "f63d9ee671f34e7c83a5b08330915245": {
      "model_module": "@jupyter-widgets/base",
      "model_module_version": "1.2.0",
      "model_name": "LayoutModel",
      "state": {}
     },
     "f644e8357cd546059a8591cb5046ac9c": {
      "model_module": "@jupyter-widgets/base",
      "model_module_version": "1.2.0",
      "model_name": "LayoutModel",
      "state": {}
     },
     "f6b0ce77355543d8ac46de0db5cef8d1": {
      "model_module": "@jupyter-widgets/base",
      "model_module_version": "1.2.0",
      "model_name": "LayoutModel",
      "state": {}
     },
     "f6d534ab804345c790d6ff1ecbf733b7": {
      "model_module": "@jupyter-widgets/base",
      "model_module_version": "1.2.0",
      "model_name": "LayoutModel",
      "state": {}
     },
     "f700be9fec6443e4a5e46436b956c076": {
      "model_module": "@jupyter-widgets/controls",
      "model_module_version": "1.5.0",
      "model_name": "FloatProgressModel",
      "state": {
       "bar_style": "success",
       "layout": "IPY_MODEL_d0eaec157b9f4a5bac98c25d5b8977a9",
       "max": 10000,
       "style": "IPY_MODEL_9f4c6acdfc1a4475b3d8079b666fd782",
       "value": 10000
      }
     },
     "f712c7c8e9fc49dfbae02bf826120f84": {
      "model_module": "@jupyter-widgets/base",
      "model_module_version": "1.2.0",
      "model_name": "LayoutModel",
      "state": {}
     },
     "f757184fd8ea401e9ad9ee0c21c96dbc": {
      "model_module": "@jupyter-widgets/controls",
      "model_module_version": "1.5.0",
      "model_name": "HTMLModel",
      "state": {
       "layout": "IPY_MODEL_9e66869053e1493da22bb1f7c77bec75",
       "style": "IPY_MODEL_acc66cf64d5346f08ce38ab0c0f0e644",
       "value": "Writing sentences to sent_chunk_0051.txt: 100%"
      }
     },
     "f7675fdd2c624325ade929b640a3308c": {
      "model_module": "@jupyter-widgets/base",
      "model_module_version": "1.2.0",
      "model_name": "LayoutModel",
      "state": {}
     },
     "f7d33e1d6ad5458ab3cc5bfbdcf3b86c": {
      "model_module": "@jupyter-widgets/base",
      "model_module_version": "1.2.0",
      "model_name": "LayoutModel",
      "state": {}
     },
     "f7ea8c5031aa4be5939935db2c47e011": {
      "model_module": "@jupyter-widgets/base",
      "model_module_version": "1.2.0",
      "model_name": "LayoutModel",
      "state": {}
     },
     "f8288c00dc4247089aac620d508358de": {
      "model_module": "@jupyter-widgets/controls",
      "model_module_version": "1.5.0",
      "model_name": "FloatProgressModel",
      "state": {
       "bar_style": "success",
       "layout": "IPY_MODEL_88386d49d258481fb74ac39daa878dd3",
       "max": 10000,
       "style": "IPY_MODEL_5245600bc84a4fa48f3418977fb23b1b",
       "value": 10000
      }
     },
     "f8889c4608da4136b7e6b364b1038bc3": {
      "model_module": "@jupyter-widgets/controls",
      "model_module_version": "1.5.0",
      "model_name": "HTMLModel",
      "state": {
       "layout": "IPY_MODEL_f89be56dc6b44785940ef3fff62df721",
       "style": "IPY_MODEL_c37cea877d4743a1952b54cd4a1afb1c",
       "value": " 10000/10000 [00:01&lt;00:00, 7500.03it/s]"
      }
     },
     "f89be56dc6b44785940ef3fff62df721": {
      "model_module": "@jupyter-widgets/base",
      "model_module_version": "1.2.0",
      "model_name": "LayoutModel",
      "state": {}
     },
     "f8b88a74676842f791f5d43b87352e08": {
      "model_module": "@jupyter-widgets/controls",
      "model_module_version": "1.5.0",
      "model_name": "FloatProgressModel",
      "state": {
       "bar_style": "success",
       "layout": "IPY_MODEL_9ba62c5cbb934d508f57dbbb9d27081c",
       "max": 10000,
       "style": "IPY_MODEL_80474cc528b24fdfbe0bec3da8ed5a39",
       "value": 10000
      }
     },
     "f9f500214a0d47b99d15d040e70b753c": {
      "model_module": "@jupyter-widgets/controls",
      "model_module_version": "1.5.0",
      "model_name": "FloatProgressModel",
      "state": {
       "bar_style": "success",
       "layout": "IPY_MODEL_27298f799d9043d091e5635d4edcbad6",
       "max": 10000,
       "style": "IPY_MODEL_7378bce816024dbbb9a929f9b63a5abe",
       "value": 10000
      }
     },
     "fa03930ab596428ba78562b3b87aceb4": {
      "model_module": "@jupyter-widgets/controls",
      "model_module_version": "1.5.0",
      "model_name": "FloatProgressModel",
      "state": {
       "bar_style": "success",
       "layout": "IPY_MODEL_94d80a6645e947b0b97723f795be3d38",
       "max": 60519,
       "style": "IPY_MODEL_c4e6cf7b1b2645aea7b82597b9d9e34f",
       "value": 60519
      }
     },
     "fa14d234a8da4687af47c70ea724c8b4": {
      "model_module": "@jupyter-widgets/controls",
      "model_module_version": "1.5.0",
      "model_name": "DescriptionStyleModel",
      "state": {
       "description_width": ""
      }
     },
     "fa1fd781ca15470f93a2c47a45a9b061": {
      "model_module": "@jupyter-widgets/base",
      "model_module_version": "1.2.0",
      "model_name": "LayoutModel",
      "state": {}
     },
     "fa24f5f3a8804bd4be8c58fe15470318": {
      "model_module": "@jupyter-widgets/controls",
      "model_module_version": "1.5.0",
      "model_name": "ProgressStyleModel",
      "state": {
       "description_width": ""
      }
     },
     "fa8b159550ec4d8e95a6118747a26be7": {
      "model_module": "@jupyter-widgets/base",
      "model_module_version": "1.2.0",
      "model_name": "LayoutModel",
      "state": {}
     },
     "fa9f8144200d4dc582203feedd755309": {
      "model_module": "@jupyter-widgets/controls",
      "model_module_version": "1.5.0",
      "model_name": "FloatProgressModel",
      "state": {
       "bar_style": "success",
       "layout": "IPY_MODEL_c1cdb2aa977641c0ab15a601ee92e96b",
       "max": 10000,
       "style": "IPY_MODEL_550f337526b94a318c69f502b24b9f9b",
       "value": 10000
      }
     },
     "fad53a1b301f4c46a9684835304c1597": {
      "model_module": "@jupyter-widgets/base",
      "model_module_version": "1.2.0",
      "model_name": "LayoutModel",
      "state": {}
     },
     "fb2463063d1c4aa1931032cdfaee5db7": {
      "model_module": "@jupyter-widgets/controls",
      "model_module_version": "1.5.0",
      "model_name": "HTMLModel",
      "state": {
       "layout": "IPY_MODEL_a0fa8f6998cc49659da9978f7dff4716",
       "style": "IPY_MODEL_b5c30207c77d47039f18093549e7b0c5",
       "value": "Writing sentences to sent_chunk_0017.txt: 100%"
      }
     },
     "fb483d02dd9843d78fedc1ef9bf83d71": {
      "model_module": "@jupyter-widgets/base",
      "model_module_version": "1.2.0",
      "model_name": "LayoutModel",
      "state": {}
     },
     "fc3e49356775479cb021916678597591": {
      "model_module": "@jupyter-widgets/base",
      "model_module_version": "1.2.0",
      "model_name": "LayoutModel",
      "state": {}
     },
     "fc9cb6c75c4d48a799ee41240871cf3b": {
      "model_module": "@jupyter-widgets/controls",
      "model_module_version": "1.5.0",
      "model_name": "ProgressStyleModel",
      "state": {
       "description_width": ""
      }
     },
     "fcc5fc632c3c4916902771dde2ec488a": {
      "model_module": "@jupyter-widgets/controls",
      "model_module_version": "1.5.0",
      "model_name": "FloatProgressModel",
      "state": {
       "bar_style": "success",
       "layout": "IPY_MODEL_8a86e860d5d449df94f9c6d998d5b82f",
       "max": 10000,
       "style": "IPY_MODEL_50ecaf473ac3426a867ee3f4b8e0c13c",
       "value": 10000
      }
     },
     "fd0ab2eb96f5470890019576ecb29700": {
      "model_module": "@jupyter-widgets/controls",
      "model_module_version": "1.5.0",
      "model_name": "ProgressStyleModel",
      "state": {
       "description_width": ""
      }
     },
     "fd2e719c31644626a4ec14d97f2fe3cf": {
      "model_module": "@jupyter-widgets/controls",
      "model_module_version": "1.5.0",
      "model_name": "HBoxModel",
      "state": {
       "children": [
        "IPY_MODEL_43762f3c8f5945e79a07818d330f87f8",
        "IPY_MODEL_99909deae81c4c2496dbcc2525af715c",
        "IPY_MODEL_4a80a151b1cb492ba8f6f2b518af33e0"
       ],
       "layout": "IPY_MODEL_3d151860318544148caba589007f51d1"
      }
     },
     "fdc20e533c8a47d88d854271410697ed": {
      "model_module": "@jupyter-widgets/base",
      "model_module_version": "1.2.0",
      "model_name": "LayoutModel",
      "state": {}
     },
     "fddab80959074b4dab689d3658101836": {
      "model_module": "@jupyter-widgets/controls",
      "model_module_version": "1.5.0",
      "model_name": "ProgressStyleModel",
      "state": {
       "description_width": ""
      }
     },
     "fe013604e1d1453da723f2ae088a7071": {
      "model_module": "@jupyter-widgets/controls",
      "model_module_version": "1.5.0",
      "model_name": "DescriptionStyleModel",
      "state": {
       "description_width": ""
      }
     },
     "fe308cd9b0a84d61b759888f139e4736": {
      "model_module": "@jupyter-widgets/base",
      "model_module_version": "1.2.0",
      "model_name": "LayoutModel",
      "state": {}
     },
     "fe37948c59574109971a9cfeb5fe0897": {
      "model_module": "@jupyter-widgets/controls",
      "model_module_version": "1.5.0",
      "model_name": "DescriptionStyleModel",
      "state": {
       "description_width": ""
      }
     },
     "fe863ed46c204d78bc4ba1c59f5a17c3": {
      "model_module": "@jupyter-widgets/controls",
      "model_module_version": "1.5.0",
      "model_name": "HTMLModel",
      "state": {
       "layout": "IPY_MODEL_79d1e1921511492bb571dcb1b7a024d8",
       "style": "IPY_MODEL_7d6dcf57b6804ffe96806ff6e5f29efa",
       "value": " 10000/10000 [00:01&lt;00:00, 7448.95it/s]"
      }
     },
     "fe9980655ce94d609cb5b1e5660d04f6": {
      "model_module": "@jupyter-widgets/controls",
      "model_module_version": "1.5.0",
      "model_name": "DescriptionStyleModel",
      "state": {
       "description_width": ""
      }
     },
     "fea20bf0c7fb460aa948e4f04d99baac": {
      "model_module": "@jupyter-widgets/controls",
      "model_module_version": "1.5.0",
      "model_name": "HBoxModel",
      "state": {
       "children": [
        "IPY_MODEL_02a35a9f457d41c4b0e4b2e5872f68d6",
        "IPY_MODEL_3fc7ec99131a4271a04ad204b7b2a305",
        "IPY_MODEL_27ca469af0454222938fb76afdef806a"
       ],
       "layout": "IPY_MODEL_30c14331d02d41e8a37beef8cf39d47c"
      }
     },
     "fec69f19712b4f9ebd092a1dfcd57e7d": {
      "model_module": "@jupyter-widgets/base",
      "model_module_version": "1.2.0",
      "model_name": "LayoutModel",
      "state": {}
     },
     "feda48811a004743941798ea42b5113b": {
      "model_module": "@jupyter-widgets/controls",
      "model_module_version": "1.5.0",
      "model_name": "HTMLModel",
      "state": {
       "layout": "IPY_MODEL_19a4eacad2f04b88a2a70cc66ad85756",
       "style": "IPY_MODEL_7810ac4cb2024b139cccb5a345810e45",
       "value": "sent_chunk_0007.txt: 100%"
      }
     },
     "ff11f30995c4412db0f231cf97aeb0ce": {
      "model_module": "@jupyter-widgets/controls",
      "model_module_version": "1.5.0",
      "model_name": "ProgressStyleModel",
      "state": {
       "description_width": ""
      }
     },
     "ff2419e719fd44b5ae95ae86e88790d7": {
      "model_module": "@jupyter-widgets/base",
      "model_module_version": "1.2.0",
      "model_name": "LayoutModel",
      "state": {}
     },
     "ff35171958134576b9534d039cdde74d": {
      "model_module": "@jupyter-widgets/controls",
      "model_module_version": "1.5.0",
      "model_name": "HBoxModel",
      "state": {
       "children": [
        "IPY_MODEL_d9d7640f3d8c493dac19bd3090e8a69c",
        "IPY_MODEL_056c04c43d244888af14809cbb0ee6fa",
        "IPY_MODEL_1271faee251c47f2a9a942e8c8580551"
       ],
       "layout": "IPY_MODEL_40bce43d17c249bb966342a62445cb9c"
      }
     }
    },
    "version_major": 2,
    "version_minor": 0
   }
  }
 },
 "nbformat": 4,
 "nbformat_minor": 1
}
