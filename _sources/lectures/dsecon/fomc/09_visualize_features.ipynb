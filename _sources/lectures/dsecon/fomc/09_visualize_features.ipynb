{
 "cells": [
  {
   "attachments": {},
   "cell_type": "markdown",
   "metadata": {},
   "source": [
    "# Visualize Features\n"
   ]
  },
  {
   "cell_type": "code",
   "execution_count": 1,
   "metadata": {
    "scrolled": true
   },
   "outputs": [
    {
     "name": "stderr",
     "output_type": "stream",
     "text": [
      "INFO:ekorpkit.base:IPython version: (6, 9, 0), client: jupyter_client\n",
      "INFO:ekorpkit.base:Google Colab not detected.\n"
     ]
    },
    {
     "name": "stdout",
     "output_type": "stream",
     "text": [
      "version: 0.1.35+0.g69734d6.dirty\n",
      "is notebook? True\n",
      "is colab? False\n",
      "evironment varialbles:\n",
      "{'CUDA_DEVICE_ORDER': None,\n",
      " 'CUDA_VISIBLE_DEVICES': None,\n",
      " 'EKORPKIT_CONFIG_DIR': '/workspace/projects/ekorpkit-book/config',\n",
      " 'EKORPKIT_DATA_DIR': None,\n",
      " 'EKORPKIT_LOG_LEVEL': 'WARNING',\n",
      " 'EKORPKIT_PROJECT': 'ekorpkit-book',\n",
      " 'EKORPKIT_WORKSPACE_ROOT': '/workspace',\n",
      " 'KMP_DUPLICATE_LIB_OK': 'TRUE',\n",
      " 'NUM_WORKERS': 230}\n"
     ]
    }
   ],
   "source": [
    "%config InlineBackend.figure_format='retina'\n",
    "from ekorpkit import eKonf\n",
    "\n",
    "eKonf.setLogger(\"WARNING\")\n",
    "print(\"version:\", eKonf.__version__)\n",
    "print(\"is notebook?\", eKonf.is_notebook())\n",
    "print(\"is colab?\", eKonf.is_colab())\n",
    "print(\"evironment varialbles:\")\n",
    "eKonf.print(eKonf.env().dict())"
   ]
  },
  {
   "cell_type": "code",
   "execution_count": 2,
   "metadata": {},
   "outputs": [
    {
     "data": {
      "text/plain": [
       "pydantic.types.SecretStr"
      ]
     },
     "execution_count": 2,
     "metadata": {},
     "output_type": "execute_result"
    }
   ],
   "source": [
    "start_year = 1999\n",
    "data_dir = \"../data/fomc\"\n",
    "eKonf.env().FRED_API_KEY\n"
   ]
  },
  {
   "attachments": {},
   "cell_type": "markdown",
   "metadata": {},
   "source": [
    "## Build and load a feature set with tones\n"
   ]
  },
  {
   "cell_type": "code",
   "execution_count": 14,
   "metadata": {},
   "outputs": [
    {
     "data": {
      "text/html": [
       "<div>\n",
       "<style scoped>\n",
       "    .dataframe tbody tr th:only-of-type {\n",
       "        vertical-align: middle;\n",
       "    }\n",
       "\n",
       "    .dataframe tbody tr th {\n",
       "        vertical-align: top;\n",
       "    }\n",
       "\n",
       "    .dataframe thead th {\n",
       "        text-align: right;\n",
       "    }\n",
       "</style>\n",
       "<table border=\"1\" class=\"dataframe\">\n",
       "  <thead>\n",
       "    <tr style=\"text-align: right;\">\n",
       "      <th></th>\n",
       "      <th>target</th>\n",
       "      <th>prev_decision</th>\n",
       "      <th>GDP_diff_prev</th>\n",
       "      <th>PMI</th>\n",
       "      <th>EMP_diff_prev</th>\n",
       "      <th>RSALES_diff_year</th>\n",
       "      <th>UNEMP_diff_prev</th>\n",
       "      <th>HSALES_diff_year</th>\n",
       "      <th>Inertia_diff</th>\n",
       "      <th>Balanced_diff</th>\n",
       "    </tr>\n",
       "    <tr>\n",
       "      <th>date</th>\n",
       "      <th></th>\n",
       "      <th></th>\n",
       "      <th></th>\n",
       "      <th></th>\n",
       "      <th></th>\n",
       "      <th></th>\n",
       "      <th></th>\n",
       "      <th></th>\n",
       "      <th></th>\n",
       "      <th></th>\n",
       "    </tr>\n",
       "  </thead>\n",
       "  <tbody>\n",
       "    <tr>\n",
       "      <th>1982-10-05</th>\n",
       "      <td>Cut</td>\n",
       "      <td>0.0</td>\n",
       "      <td>0.456199</td>\n",
       "      <td>38.8</td>\n",
       "      <td>-0.201426</td>\n",
       "      <td>2.094256</td>\n",
       "      <td>3.061224</td>\n",
       "      <td>42.307692</td>\n",
       "      <td>0.0</td>\n",
       "      <td>0.0</td>\n",
       "    </tr>\n",
       "    <tr>\n",
       "      <th>1982-11-16</th>\n",
       "      <td>Cut</td>\n",
       "      <td>-1.0</td>\n",
       "      <td>-0.382299</td>\n",
       "      <td>39.4</td>\n",
       "      <td>-0.309476</td>\n",
       "      <td>2.094256</td>\n",
       "      <td>2.970297</td>\n",
       "      <td>34.831461</td>\n",
       "      <td>0.0</td>\n",
       "      <td>0.0</td>\n",
       "    </tr>\n",
       "    <tr>\n",
       "      <th>1982-12-21</th>\n",
       "      <td>Hold</td>\n",
       "      <td>-1.0</td>\n",
       "      <td>-0.382299</td>\n",
       "      <td>39.2</td>\n",
       "      <td>-0.136097</td>\n",
       "      <td>2.094256</td>\n",
       "      <td>3.846154</td>\n",
       "      <td>45.026178</td>\n",
       "      <td>0.0</td>\n",
       "      <td>0.0</td>\n",
       "    </tr>\n",
       "    <tr>\n",
       "      <th>1983-01-14</th>\n",
       "      <td>Hold</td>\n",
       "      <td>0.0</td>\n",
       "      <td>-0.382299</td>\n",
       "      <td>42.8</td>\n",
       "      <td>-0.016895</td>\n",
       "      <td>2.094256</td>\n",
       "      <td>0.000000</td>\n",
       "      <td>14.004376</td>\n",
       "      <td>0.0</td>\n",
       "      <td>0.0</td>\n",
       "    </tr>\n",
       "    <tr>\n",
       "      <th>1983-01-21</th>\n",
       "      <td>Hold</td>\n",
       "      <td>0.0</td>\n",
       "      <td>-0.382299</td>\n",
       "      <td>42.8</td>\n",
       "      <td>-0.016895</td>\n",
       "      <td>2.094256</td>\n",
       "      <td>0.000000</td>\n",
       "      <td>14.004376</td>\n",
       "      <td>0.0</td>\n",
       "      <td>0.0</td>\n",
       "    </tr>\n",
       "    <tr>\n",
       "      <th>...</th>\n",
       "      <td>...</td>\n",
       "      <td>...</td>\n",
       "      <td>...</td>\n",
       "      <td>...</td>\n",
       "      <td>...</td>\n",
       "      <td>...</td>\n",
       "      <td>...</td>\n",
       "      <td>...</td>\n",
       "      <td>...</td>\n",
       "      <td>...</td>\n",
       "    </tr>\n",
       "    <tr>\n",
       "      <th>2021-11-03</th>\n",
       "      <td>Hold</td>\n",
       "      <td>0.0</td>\n",
       "      <td>0.570948</td>\n",
       "      <td>60.5</td>\n",
       "      <td>0.288624</td>\n",
       "      <td>8.474656</td>\n",
       "      <td>-9.615385</td>\n",
       "      <td>-26.135217</td>\n",
       "      <td>0.0</td>\n",
       "      <td>0.0</td>\n",
       "    </tr>\n",
       "    <tr>\n",
       "      <th>2021-12-15</th>\n",
       "      <td>Hold</td>\n",
       "      <td>0.0</td>\n",
       "      <td>0.570948</td>\n",
       "      <td>60.6</td>\n",
       "      <td>0.437147</td>\n",
       "      <td>10.977142</td>\n",
       "      <td>-8.695652</td>\n",
       "      <td>-11.163337</td>\n",
       "      <td>0.0</td>\n",
       "      <td>0.0</td>\n",
       "    </tr>\n",
       "    <tr>\n",
       "      <th>2022-01-26</th>\n",
       "      <td>Hold</td>\n",
       "      <td>0.0</td>\n",
       "      <td>0.570948</td>\n",
       "      <td>58.8</td>\n",
       "      <td>0.395555</td>\n",
       "      <td>9.101289</td>\n",
       "      <td>-7.142857</td>\n",
       "      <td>-3.673938</td>\n",
       "      <td>0.0</td>\n",
       "      <td>0.0</td>\n",
       "    </tr>\n",
       "    <tr>\n",
       "      <th>2022-03-16</th>\n",
       "      <td>Hike</td>\n",
       "      <td>0.0</td>\n",
       "      <td>1.680778</td>\n",
       "      <td>58.6</td>\n",
       "      <td>0.476814</td>\n",
       "      <td>9.076698</td>\n",
       "      <td>-5.000000</td>\n",
       "      <td>3.125000</td>\n",
       "      <td>0.0</td>\n",
       "      <td>0.0</td>\n",
       "    </tr>\n",
       "    <tr>\n",
       "      <th>2022-05-04</th>\n",
       "      <td>Hike</td>\n",
       "      <td>1.0</td>\n",
       "      <td>-0.355417</td>\n",
       "      <td>57.1</td>\n",
       "      <td>0.283658</td>\n",
       "      <td>-0.034915</td>\n",
       "      <td>0.000000</td>\n",
       "      <td>-26.946848</td>\n",
       "      <td>0.0</td>\n",
       "      <td>0.0</td>\n",
       "    </tr>\n",
       "  </tbody>\n",
       "</table>\n",
       "<p>415 rows × 10 columns</p>\n",
       "</div>"
      ],
      "text/plain": [
       "           target  prev_decision  GDP_diff_prev   PMI  EMP_diff_prev  \\\n",
       "date                                                                   \n",
       "1982-10-05    Cut            0.0       0.456199  38.8      -0.201426   \n",
       "1982-11-16    Cut           -1.0      -0.382299  39.4      -0.309476   \n",
       "1982-12-21   Hold           -1.0      -0.382299  39.2      -0.136097   \n",
       "1983-01-14   Hold            0.0      -0.382299  42.8      -0.016895   \n",
       "1983-01-21   Hold            0.0      -0.382299  42.8      -0.016895   \n",
       "...           ...            ...            ...   ...            ...   \n",
       "2021-11-03   Hold            0.0       0.570948  60.5       0.288624   \n",
       "2021-12-15   Hold            0.0       0.570948  60.6       0.437147   \n",
       "2022-01-26   Hold            0.0       0.570948  58.8       0.395555   \n",
       "2022-03-16   Hike            0.0       1.680778  58.6       0.476814   \n",
       "2022-05-04   Hike            1.0      -0.355417  57.1       0.283658   \n",
       "\n",
       "            RSALES_diff_year  UNEMP_diff_prev  HSALES_diff_year  Inertia_diff  \\\n",
       "date                                                                            \n",
       "1982-10-05          2.094256         3.061224         42.307692           0.0   \n",
       "1982-11-16          2.094256         2.970297         34.831461           0.0   \n",
       "1982-12-21          2.094256         3.846154         45.026178           0.0   \n",
       "1983-01-14          2.094256         0.000000         14.004376           0.0   \n",
       "1983-01-21          2.094256         0.000000         14.004376           0.0   \n",
       "...                      ...              ...               ...           ...   \n",
       "2021-11-03          8.474656        -9.615385        -26.135217           0.0   \n",
       "2021-12-15         10.977142        -8.695652        -11.163337           0.0   \n",
       "2022-01-26          9.101289        -7.142857         -3.673938           0.0   \n",
       "2022-03-16          9.076698        -5.000000          3.125000           0.0   \n",
       "2022-05-04         -0.034915         0.000000        -26.946848           0.0   \n",
       "\n",
       "            Balanced_diff  \n",
       "date                       \n",
       "1982-10-05            0.0  \n",
       "1982-11-16            0.0  \n",
       "1982-12-21            0.0  \n",
       "1983-01-14            0.0  \n",
       "1983-01-21            0.0  \n",
       "...                   ...  \n",
       "2021-11-03            0.0  \n",
       "2021-12-15            0.0  \n",
       "2022-01-26            0.0  \n",
       "2022-03-16            0.0  \n",
       "2022-05-04            0.0  \n",
       "\n",
       "[415 rows x 10 columns]"
      ]
     },
     "execution_count": 14,
     "metadata": {},
     "output_type": "execute_result"
    }
   ],
   "source": [
    "econ_train_small = eKonf.load_data(\"econ_train_small.parquet\", data_dir)\n",
    "econ_train_small\n"
   ]
  },
  {
   "cell_type": "code",
   "execution_count": 15,
   "metadata": {},
   "outputs": [
    {
     "data": {
      "text/html": [
       "<div>\n",
       "<style scoped>\n",
       "    .dataframe tbody tr th:only-of-type {\n",
       "        vertical-align: middle;\n",
       "    }\n",
       "\n",
       "    .dataframe tbody tr th {\n",
       "        vertical-align: top;\n",
       "    }\n",
       "\n",
       "    .dataframe thead th {\n",
       "        text-align: right;\n",
       "    }\n",
       "</style>\n",
       "<table border=\"1\" class=\"dataframe\">\n",
       "  <thead>\n",
       "    <tr style=\"text-align: right;\">\n",
       "      <th></th>\n",
       "      <th>target</th>\n",
       "      <th>prev_decision</th>\n",
       "      <th>GDP_diff_prev</th>\n",
       "      <th>PMI</th>\n",
       "      <th>EMP_diff_prev</th>\n",
       "      <th>RSALES_diff_year</th>\n",
       "      <th>UNEMP_diff_prev</th>\n",
       "      <th>HSALES_diff_year</th>\n",
       "      <th>Inertia_diff</th>\n",
       "      <th>Balanced_diff</th>\n",
       "      <th>...</th>\n",
       "      <th>polarity_diffusion_statement</th>\n",
       "      <th>finbert_diffusion_minutes</th>\n",
       "      <th>finbert_diffusion_speech</th>\n",
       "      <th>finbert_diffusion_statement</th>\n",
       "      <th>t5_diffusion_minutes</th>\n",
       "      <th>t5_diffusion_speech</th>\n",
       "      <th>t5_diffusion_statement</th>\n",
       "      <th>lm_tones</th>\n",
       "      <th>finbert_tones</th>\n",
       "      <th>t5_tones</th>\n",
       "    </tr>\n",
       "    <tr>\n",
       "      <th>date</th>\n",
       "      <th></th>\n",
       "      <th></th>\n",
       "      <th></th>\n",
       "      <th></th>\n",
       "      <th></th>\n",
       "      <th></th>\n",
       "      <th></th>\n",
       "      <th></th>\n",
       "      <th></th>\n",
       "      <th></th>\n",
       "      <th></th>\n",
       "      <th></th>\n",
       "      <th></th>\n",
       "      <th></th>\n",
       "      <th></th>\n",
       "      <th></th>\n",
       "      <th></th>\n",
       "      <th></th>\n",
       "      <th></th>\n",
       "      <th></th>\n",
       "      <th></th>\n",
       "    </tr>\n",
       "  </thead>\n",
       "  <tbody>\n",
       "    <tr>\n",
       "      <th>1999-02-03</th>\n",
       "      <td>Hold</td>\n",
       "      <td>0.0</td>\n",
       "      <td>1.616191</td>\n",
       "      <td>46.8</td>\n",
       "      <td>0.286880</td>\n",
       "      <td>4.952373</td>\n",
       "      <td>0.000000</td>\n",
       "      <td>19.672131</td>\n",
       "      <td>0.0</td>\n",
       "      <td>0.0</td>\n",
       "      <td>...</td>\n",
       "      <td>-0.363636</td>\n",
       "      <td>0.662069</td>\n",
       "      <td>0.222222</td>\n",
       "      <td>0.636364</td>\n",
       "      <td>0.420690</td>\n",
       "      <td>0.111111</td>\n",
       "      <td>0.136364</td>\n",
       "      <td>-0.243343</td>\n",
       "      <td>0.506885</td>\n",
       "      <td>0.222721</td>\n",
       "    </tr>\n",
       "    <tr>\n",
       "      <th>1999-03-30</th>\n",
       "      <td>Hold</td>\n",
       "      <td>0.0</td>\n",
       "      <td>1.616191</td>\n",
       "      <td>51.7</td>\n",
       "      <td>0.327325</td>\n",
       "      <td>5.932944</td>\n",
       "      <td>2.325581</td>\n",
       "      <td>-2.078522</td>\n",
       "      <td>0.0</td>\n",
       "      <td>0.0</td>\n",
       "      <td>...</td>\n",
       "      <td>-0.363636</td>\n",
       "      <td>0.570048</td>\n",
       "      <td>0.381295</td>\n",
       "      <td>0.636364</td>\n",
       "      <td>0.405797</td>\n",
       "      <td>0.187050</td>\n",
       "      <td>0.136364</td>\n",
       "      <td>-0.241290</td>\n",
       "      <td>0.529236</td>\n",
       "      <td>0.243070</td>\n",
       "    </tr>\n",
       "    <tr>\n",
       "      <th>1999-05-18</th>\n",
       "      <td>Hold</td>\n",
       "      <td>0.0</td>\n",
       "      <td>0.943827</td>\n",
       "      <td>52.3</td>\n",
       "      <td>0.288551</td>\n",
       "      <td>4.601659</td>\n",
       "      <td>2.380952</td>\n",
       "      <td>6.004619</td>\n",
       "      <td>0.0</td>\n",
       "      <td>0.0</td>\n",
       "      <td>...</td>\n",
       "      <td>-0.363636</td>\n",
       "      <td>0.719424</td>\n",
       "      <td>0.383234</td>\n",
       "      <td>0.636364</td>\n",
       "      <td>0.474820</td>\n",
       "      <td>0.245509</td>\n",
       "      <td>0.136364</td>\n",
       "      <td>-0.112051</td>\n",
       "      <td>0.579674</td>\n",
       "      <td>0.285564</td>\n",
       "    </tr>\n",
       "    <tr>\n",
       "      <th>1999-06-30</th>\n",
       "      <td>Hike</td>\n",
       "      <td>0.0</td>\n",
       "      <td>0.943827</td>\n",
       "      <td>54.3</td>\n",
       "      <td>0.164078</td>\n",
       "      <td>5.248177</td>\n",
       "      <td>-2.325581</td>\n",
       "      <td>0.112740</td>\n",
       "      <td>0.0</td>\n",
       "      <td>0.0</td>\n",
       "      <td>...</td>\n",
       "      <td>0.000000</td>\n",
       "      <td>0.767606</td>\n",
       "      <td>0.097561</td>\n",
       "      <td>1.000000</td>\n",
       "      <td>0.514085</td>\n",
       "      <td>0.097561</td>\n",
       "      <td>0.625000</td>\n",
       "      <td>-0.050040</td>\n",
       "      <td>0.621722</td>\n",
       "      <td>0.412215</td>\n",
       "    </tr>\n",
       "    <tr>\n",
       "      <th>1999-08-24</th>\n",
       "      <td>Hike</td>\n",
       "      <td>1.0</td>\n",
       "      <td>0.835000</td>\n",
       "      <td>53.6</td>\n",
       "      <td>0.251764</td>\n",
       "      <td>6.166822</td>\n",
       "      <td>0.000000</td>\n",
       "      <td>2.739726</td>\n",
       "      <td>0.0</td>\n",
       "      <td>0.0</td>\n",
       "      <td>...</td>\n",
       "      <td>-0.346154</td>\n",
       "      <td>0.773810</td>\n",
       "      <td>0.178947</td>\n",
       "      <td>0.692308</td>\n",
       "      <td>0.583333</td>\n",
       "      <td>0.178947</td>\n",
       "      <td>0.269231</td>\n",
       "      <td>-0.135226</td>\n",
       "      <td>0.548355</td>\n",
       "      <td>0.343837</td>\n",
       "    </tr>\n",
       "    <tr>\n",
       "      <th>...</th>\n",
       "      <td>...</td>\n",
       "      <td>...</td>\n",
       "      <td>...</td>\n",
       "      <td>...</td>\n",
       "      <td>...</td>\n",
       "      <td>...</td>\n",
       "      <td>...</td>\n",
       "      <td>...</td>\n",
       "      <td>...</td>\n",
       "      <td>...</td>\n",
       "      <td>...</td>\n",
       "      <td>...</td>\n",
       "      <td>...</td>\n",
       "      <td>...</td>\n",
       "      <td>...</td>\n",
       "      <td>...</td>\n",
       "      <td>...</td>\n",
       "      <td>...</td>\n",
       "      <td>...</td>\n",
       "      <td>...</td>\n",
       "      <td>...</td>\n",
       "    </tr>\n",
       "    <tr>\n",
       "      <th>2021-06-16</th>\n",
       "      <td>Hold</td>\n",
       "      <td>0.0</td>\n",
       "      <td>1.533890</td>\n",
       "      <td>61.6</td>\n",
       "      <td>0.308928</td>\n",
       "      <td>22.314413</td>\n",
       "      <td>-3.333333</td>\n",
       "      <td>4.815864</td>\n",
       "      <td>0.0</td>\n",
       "      <td>0.0</td>\n",
       "      <td>...</td>\n",
       "      <td>0.307692</td>\n",
       "      <td>0.666667</td>\n",
       "      <td>0.464567</td>\n",
       "      <td>0.615385</td>\n",
       "      <td>0.407407</td>\n",
       "      <td>0.330709</td>\n",
       "      <td>0.384615</td>\n",
       "      <td>0.086359</td>\n",
       "      <td>0.582206</td>\n",
       "      <td>0.374244</td>\n",
       "    </tr>\n",
       "    <tr>\n",
       "      <th>2021-07-28</th>\n",
       "      <td>Hold</td>\n",
       "      <td>0.0</td>\n",
       "      <td>1.533890</td>\n",
       "      <td>60.9</td>\n",
       "      <td>0.383765</td>\n",
       "      <td>13.352829</td>\n",
       "      <td>1.724138</td>\n",
       "      <td>-22.559653</td>\n",
       "      <td>0.0</td>\n",
       "      <td>0.0</td>\n",
       "      <td>...</td>\n",
       "      <td>0.384615</td>\n",
       "      <td>0.640138</td>\n",
       "      <td>0.157895</td>\n",
       "      <td>0.461538</td>\n",
       "      <td>0.456747</td>\n",
       "      <td>0.228070</td>\n",
       "      <td>0.615385</td>\n",
       "      <td>0.167826</td>\n",
       "      <td>0.419857</td>\n",
       "      <td>0.433401</td>\n",
       "    </tr>\n",
       "    <tr>\n",
       "      <th>2021-09-22</th>\n",
       "      <td>Hold</td>\n",
       "      <td>0.0</td>\n",
       "      <td>1.640747</td>\n",
       "      <td>59.7</td>\n",
       "      <td>0.353173</td>\n",
       "      <td>9.952513</td>\n",
       "      <td>-3.703704</td>\n",
       "      <td>-33.783784</td>\n",
       "      <td>0.0</td>\n",
       "      <td>0.0</td>\n",
       "      <td>...</td>\n",
       "      <td>0.461538</td>\n",
       "      <td>0.611842</td>\n",
       "      <td>0.172840</td>\n",
       "      <td>0.538462</td>\n",
       "      <td>0.414474</td>\n",
       "      <td>0.148148</td>\n",
       "      <td>0.538462</td>\n",
       "      <td>0.176087</td>\n",
       "      <td>0.441048</td>\n",
       "      <td>0.367028</td>\n",
       "    </tr>\n",
       "    <tr>\n",
       "      <th>2021-11-03</th>\n",
       "      <td>Hold</td>\n",
       "      <td>0.0</td>\n",
       "      <td>0.570948</td>\n",
       "      <td>60.5</td>\n",
       "      <td>0.288624</td>\n",
       "      <td>8.474656</td>\n",
       "      <td>-9.615385</td>\n",
       "      <td>-26.135217</td>\n",
       "      <td>0.0</td>\n",
       "      <td>0.0</td>\n",
       "      <td>...</td>\n",
       "      <td>0.428571</td>\n",
       "      <td>0.651163</td>\n",
       "      <td>0.371429</td>\n",
       "      <td>0.571429</td>\n",
       "      <td>0.395349</td>\n",
       "      <td>0.085714</td>\n",
       "      <td>0.571429</td>\n",
       "      <td>-0.037468</td>\n",
       "      <td>0.531340</td>\n",
       "      <td>0.350831</td>\n",
       "    </tr>\n",
       "    <tr>\n",
       "      <th>2021-12-15</th>\n",
       "      <td>Hold</td>\n",
       "      <td>0.0</td>\n",
       "      <td>0.570948</td>\n",
       "      <td>60.6</td>\n",
       "      <td>0.437147</td>\n",
       "      <td>10.977142</td>\n",
       "      <td>-8.695652</td>\n",
       "      <td>-11.163337</td>\n",
       "      <td>0.0</td>\n",
       "      <td>0.0</td>\n",
       "      <td>...</td>\n",
       "      <td>0.176471</td>\n",
       "      <td>0.706383</td>\n",
       "      <td>0.338889</td>\n",
       "      <td>0.647059</td>\n",
       "      <td>0.476596</td>\n",
       "      <td>0.250000</td>\n",
       "      <td>0.705882</td>\n",
       "      <td>-0.001460</td>\n",
       "      <td>0.564110</td>\n",
       "      <td>0.477493</td>\n",
       "    </tr>\n",
       "  </tbody>\n",
       "</table>\n",
       "<p>219 rows × 22 columns</p>\n",
       "</div>"
      ],
      "text/plain": [
       "           target  prev_decision  GDP_diff_prev   PMI  EMP_diff_prev  \\\n",
       "date                                                                   \n",
       "1999-02-03   Hold            0.0       1.616191  46.8       0.286880   \n",
       "1999-03-30   Hold            0.0       1.616191  51.7       0.327325   \n",
       "1999-05-18   Hold            0.0       0.943827  52.3       0.288551   \n",
       "1999-06-30   Hike            0.0       0.943827  54.3       0.164078   \n",
       "1999-08-24   Hike            1.0       0.835000  53.6       0.251764   \n",
       "...           ...            ...            ...   ...            ...   \n",
       "2021-06-16   Hold            0.0       1.533890  61.6       0.308928   \n",
       "2021-07-28   Hold            0.0       1.533890  60.9       0.383765   \n",
       "2021-09-22   Hold            0.0       1.640747  59.7       0.353173   \n",
       "2021-11-03   Hold            0.0       0.570948  60.5       0.288624   \n",
       "2021-12-15   Hold            0.0       0.570948  60.6       0.437147   \n",
       "\n",
       "            RSALES_diff_year  UNEMP_diff_prev  HSALES_diff_year  Inertia_diff  \\\n",
       "date                                                                            \n",
       "1999-02-03          4.952373         0.000000         19.672131           0.0   \n",
       "1999-03-30          5.932944         2.325581         -2.078522           0.0   \n",
       "1999-05-18          4.601659         2.380952          6.004619           0.0   \n",
       "1999-06-30          5.248177        -2.325581          0.112740           0.0   \n",
       "1999-08-24          6.166822         0.000000          2.739726           0.0   \n",
       "...                      ...              ...               ...           ...   \n",
       "2021-06-16         22.314413        -3.333333          4.815864           0.0   \n",
       "2021-07-28         13.352829         1.724138        -22.559653           0.0   \n",
       "2021-09-22          9.952513        -3.703704        -33.783784           0.0   \n",
       "2021-11-03          8.474656        -9.615385        -26.135217           0.0   \n",
       "2021-12-15         10.977142        -8.695652        -11.163337           0.0   \n",
       "\n",
       "            Balanced_diff  ...  polarity_diffusion_statement  \\\n",
       "date                       ...                                 \n",
       "1999-02-03            0.0  ...                     -0.363636   \n",
       "1999-03-30            0.0  ...                     -0.363636   \n",
       "1999-05-18            0.0  ...                     -0.363636   \n",
       "1999-06-30            0.0  ...                      0.000000   \n",
       "1999-08-24            0.0  ...                     -0.346154   \n",
       "...                   ...  ...                           ...   \n",
       "2021-06-16            0.0  ...                      0.307692   \n",
       "2021-07-28            0.0  ...                      0.384615   \n",
       "2021-09-22            0.0  ...                      0.461538   \n",
       "2021-11-03            0.0  ...                      0.428571   \n",
       "2021-12-15            0.0  ...                      0.176471   \n",
       "\n",
       "            finbert_diffusion_minutes  finbert_diffusion_speech  \\\n",
       "date                                                              \n",
       "1999-02-03                   0.662069                  0.222222   \n",
       "1999-03-30                   0.570048                  0.381295   \n",
       "1999-05-18                   0.719424                  0.383234   \n",
       "1999-06-30                   0.767606                  0.097561   \n",
       "1999-08-24                   0.773810                  0.178947   \n",
       "...                               ...                       ...   \n",
       "2021-06-16                   0.666667                  0.464567   \n",
       "2021-07-28                   0.640138                  0.157895   \n",
       "2021-09-22                   0.611842                  0.172840   \n",
       "2021-11-03                   0.651163                  0.371429   \n",
       "2021-12-15                   0.706383                  0.338889   \n",
       "\n",
       "            finbert_diffusion_statement  t5_diffusion_minutes  \\\n",
       "date                                                            \n",
       "1999-02-03                     0.636364              0.420690   \n",
       "1999-03-30                     0.636364              0.405797   \n",
       "1999-05-18                     0.636364              0.474820   \n",
       "1999-06-30                     1.000000              0.514085   \n",
       "1999-08-24                     0.692308              0.583333   \n",
       "...                                 ...                   ...   \n",
       "2021-06-16                     0.615385              0.407407   \n",
       "2021-07-28                     0.461538              0.456747   \n",
       "2021-09-22                     0.538462              0.414474   \n",
       "2021-11-03                     0.571429              0.395349   \n",
       "2021-12-15                     0.647059              0.476596   \n",
       "\n",
       "            t5_diffusion_speech  t5_diffusion_statement  lm_tones  \\\n",
       "date                                                                \n",
       "1999-02-03             0.111111                0.136364 -0.243343   \n",
       "1999-03-30             0.187050                0.136364 -0.241290   \n",
       "1999-05-18             0.245509                0.136364 -0.112051   \n",
       "1999-06-30             0.097561                0.625000 -0.050040   \n",
       "1999-08-24             0.178947                0.269231 -0.135226   \n",
       "...                         ...                     ...       ...   \n",
       "2021-06-16             0.330709                0.384615  0.086359   \n",
       "2021-07-28             0.228070                0.615385  0.167826   \n",
       "2021-09-22             0.148148                0.538462  0.176087   \n",
       "2021-11-03             0.085714                0.571429 -0.037468   \n",
       "2021-12-15             0.250000                0.705882 -0.001460   \n",
       "\n",
       "            finbert_tones  t5_tones  \n",
       "date                                 \n",
       "1999-02-03       0.506885  0.222721  \n",
       "1999-03-30       0.529236  0.243070  \n",
       "1999-05-18       0.579674  0.285564  \n",
       "1999-06-30       0.621722  0.412215  \n",
       "1999-08-24       0.548355  0.343837  \n",
       "...                   ...       ...  \n",
       "2021-06-16       0.582206  0.374244  \n",
       "2021-07-28       0.419857  0.433401  \n",
       "2021-09-22       0.441048  0.367028  \n",
       "2021-11-03       0.531340  0.350831  \n",
       "2021-12-15       0.564110  0.477493  \n",
       "\n",
       "[219 rows x 22 columns]"
      ]
     },
     "execution_count": 15,
     "metadata": {},
     "output_type": "execute_result"
    }
   ],
   "source": [
    "cols = [\n",
    "    \"polarity_diffusion_minutes\",\n",
    "    \"polarity_diffusion_speech\",\n",
    "    \"polarity_diffusion_statement\",\n",
    "    \"finbert_diffusion_minutes\",\n",
    "    \"finbert_diffusion_speech\",\n",
    "    \"finbert_diffusion_statement\",\n",
    "    \"t5_diffusion_minutes\",\n",
    "    \"t5_diffusion_speech\",\n",
    "    \"t5_diffusion_statement\",\n",
    "    \"lm_tones\",\n",
    "    \"finbert_tones\",\n",
    "    \"t5_tones\",\n",
    "]\n",
    "fomc_train_tones = econ_train_small.merge(\n",
    "    merged_tone_data[cols], left_index=True, right_index=True\n",
    ")\n",
    "fomc_train_tones.index.name = \"date\"\n",
    "eKonf.save_data(fomc_train_tones, \"fomc_train_tones.parquet\", data_dir)\n",
    "fomc_train_tones"
   ]
  },
  {
   "cell_type": "code",
   "execution_count": 16,
   "metadata": {},
   "outputs": [
    {
     "name": "stderr",
     "output_type": "stream",
     "text": [
      "INFO:ekorpkit.base:Applying pipe: functools.partial(<function load_dataframe at 0x7f4a924ba1f0>)\n",
      "INFO:ekorpkit.base:Applying pipe: functools.partial(<function reset_index at 0x7f4a921d7ca0>)\n",
      "INFO:ekorpkit.base:Applying pipe: functools.partial(<function split_sampling at 0x7f4a921e43a0>)\n",
      "WARNING:ekorpkit.datasets.base:File fomc_tone_features-dev.parquet not found.\n"
     ]
    }
   ],
   "source": [
    "econ_cols = [\n",
    "    \"prev_decision\",\n",
    "    \"GDP_diff_prev\",\n",
    "    \"PMI\",\n",
    "    \"EMP_diff_prev\",\n",
    "    \"RSALES_diff_year\",\n",
    "    \"UNEMP_diff_prev\",\n",
    "    \"HSALES_diff_year\",\n",
    "    \"Inertia_diff\",\n",
    "    \"Balanced_diff\",\n",
    "]\n",
    "data_cols = econ_cols + cols\n",
    "\n",
    "cfg = eKonf.compose(\"dataset=feature_build\")\n",
    "cfg.name = \"fomc_tone_features\"\n",
    "cfg.data_dir = data_dir\n",
    "cfg.data_file = \"fomc_train_tones.parquet\"\n",
    "cfg.force.build = True\n",
    "cfg.pipeline.split_sampling.stratify_on = \"target\"\n",
    "cfg.pipeline.split_sampling.random_state = 5678\n",
    "cfg.pipeline.split_sampling.test_size = 0.3\n",
    "cfg.pipeline.reset_index.index_column_name = \"date\"\n",
    "cfg.column_info.columns.index = \"index\"\n",
    "cfg.column_info.columns.id = \"date\"\n",
    "cfg.column_info.columns.x = data_cols\n",
    "cfg.column_info.columns.y = \"target\"\n",
    "f_tones = eKonf.instantiate(cfg)\n",
    "f_tones.persist()\n"
   ]
  },
  {
   "cell_type": "code",
   "execution_count": 17,
   "metadata": {},
   "outputs": [
    {
     "name": "stdout",
     "output_type": "stream",
     "text": [
      "FeatureSet : fomc_tone_features\n"
     ]
    }
   ],
   "source": [
    "cfg = eKonf.compose(config_group=\"dataset=feature\")\n",
    "cfg.name = \"fomc_tone_features\"\n",
    "cfg.data_dir = data_dir\n",
    "f_tones = eKonf.instantiate(cfg)\n",
    "print(f_tones)\n"
   ]
  },
  {
   "cell_type": "code",
   "execution_count": 18,
   "metadata": {},
   "outputs": [
    {
     "data": {
      "text/plain": [
       "['prev_decision',\n",
       " 'GDP_diff_prev',\n",
       " 'PMI',\n",
       " 'EMP_diff_prev',\n",
       " 'RSALES_diff_year',\n",
       " 'UNEMP_diff_prev',\n",
       " 'HSALES_diff_year',\n",
       " 'Inertia_diff',\n",
       " 'Balanced_diff',\n",
       " 'polarity_diffusion_minutes',\n",
       " 'polarity_diffusion_speech',\n",
       " 'polarity_diffusion_statement',\n",
       " 'finbert_diffusion_minutes',\n",
       " 'finbert_diffusion_speech',\n",
       " 'finbert_diffusion_statement',\n",
       " 't5_diffusion_minutes',\n",
       " 't5_diffusion_speech',\n",
       " 't5_diffusion_statement',\n",
       " 'lm_tones',\n",
       " 'finbert_tones',\n",
       " 't5_tones']"
      ]
     },
     "execution_count": 18,
     "metadata": {},
     "output_type": "execute_result"
    }
   ],
   "source": [
    "f_tones.COLUMN.X\n"
   ]
  },
  {
   "attachments": {},
   "cell_type": "markdown",
   "metadata": {},
   "source": [
    "## Visualize Features\n"
   ]
  },
  {
   "cell_type": "code",
   "execution_count": 19,
   "metadata": {},
   "outputs": [],
   "source": [
    "f_tones.y_train = f_tones.transform_labels(f_tones.y_train)\n",
    "f_tones.y_dev = f_tones.transform_labels(f_tones.y_dev)\n",
    "f_tones.y_test = f_tones.transform_labels(f_tones.y_test)\n"
   ]
  },
  {
   "cell_type": "code",
   "execution_count": 20,
   "metadata": {},
   "outputs": [
    {
     "name": "stdout",
     "output_type": "stream",
     "text": [
      "['Cut', 'Hike', 'Hold'] ['prev_decision', 'GDP_diff_prev', 'PMI', 'EMP_diff_prev', 'RSALES_diff_year', 'UNEMP_diff_prev', 'HSALES_diff_year', 'Inertia_diff', 'Balanced_diff', 'polarity_diffusion_minutes', 'polarity_diffusion_speech', 'polarity_diffusion_statement', 'finbert_diffusion_minutes', 'finbert_diffusion_speech', 'finbert_diffusion_statement', 't5_diffusion_minutes', 't5_diffusion_speech', 't5_diffusion_statement', 'lm_tones', 'finbert_tones', 't5_tones'] target\n"
     ]
    }
   ],
   "source": [
    "X_cols = f_tones.COLUMN.X\n",
    "y_col = f_tones.COLUMN.Y\n",
    "print(f_tones.classes, X_cols, y_col)\n"
   ]
  },
  {
   "cell_type": "code",
   "execution_count": 21,
   "metadata": {},
   "outputs": [
    {
     "data": {
      "text/html": [
       "<div>\n",
       "<style scoped>\n",
       "    .dataframe tbody tr th:only-of-type {\n",
       "        vertical-align: middle;\n",
       "    }\n",
       "\n",
       "    .dataframe tbody tr th {\n",
       "        vertical-align: top;\n",
       "    }\n",
       "\n",
       "    .dataframe thead th {\n",
       "        text-align: right;\n",
       "    }\n",
       "</style>\n",
       "<table border=\"1\" class=\"dataframe\">\n",
       "  <thead>\n",
       "    <tr style=\"text-align: right;\">\n",
       "      <th></th>\n",
       "      <th>date</th>\n",
       "      <th>target</th>\n",
       "      <th>prev_decision</th>\n",
       "      <th>GDP_diff_prev</th>\n",
       "      <th>PMI</th>\n",
       "      <th>EMP_diff_prev</th>\n",
       "      <th>RSALES_diff_year</th>\n",
       "      <th>UNEMP_diff_prev</th>\n",
       "      <th>HSALES_diff_year</th>\n",
       "      <th>Inertia_diff</th>\n",
       "      <th>...</th>\n",
       "      <th>finbert_diffusion_minutes</th>\n",
       "      <th>finbert_diffusion_speech</th>\n",
       "      <th>finbert_diffusion_statement</th>\n",
       "      <th>t5_diffusion_minutes</th>\n",
       "      <th>t5_diffusion_speech</th>\n",
       "      <th>t5_diffusion_statement</th>\n",
       "      <th>lm_tones</th>\n",
       "      <th>finbert_tones</th>\n",
       "      <th>t5_tones</th>\n",
       "      <th>split</th>\n",
       "    </tr>\n",
       "    <tr>\n",
       "      <th>index</th>\n",
       "      <th></th>\n",
       "      <th></th>\n",
       "      <th></th>\n",
       "      <th></th>\n",
       "      <th></th>\n",
       "      <th></th>\n",
       "      <th></th>\n",
       "      <th></th>\n",
       "      <th></th>\n",
       "      <th></th>\n",
       "      <th></th>\n",
       "      <th></th>\n",
       "      <th></th>\n",
       "      <th></th>\n",
       "      <th></th>\n",
       "      <th></th>\n",
       "      <th></th>\n",
       "      <th></th>\n",
       "      <th></th>\n",
       "      <th></th>\n",
       "      <th></th>\n",
       "    </tr>\n",
       "  </thead>\n",
       "  <tbody>\n",
       "    <tr>\n",
       "      <th>0</th>\n",
       "      <td>2010-04-28</td>\n",
       "      <td>2</td>\n",
       "      <td>0.0</td>\n",
       "      <td>1.067962</td>\n",
       "      <td>58.8</td>\n",
       "      <td>0.139555</td>\n",
       "      <td>5.061896</td>\n",
       "      <td>1.020408</td>\n",
       "      <td>12.389381</td>\n",
       "      <td>0.0</td>\n",
       "      <td>...</td>\n",
       "      <td>0.677083</td>\n",
       "      <td>0.117647</td>\n",
       "      <td>0.583333</td>\n",
       "      <td>0.359375</td>\n",
       "      <td>0.117647</td>\n",
       "      <td>0.333333</td>\n",
       "      <td>-0.050143</td>\n",
       "      <td>0.459355</td>\n",
       "      <td>0.270118</td>\n",
       "      <td>train</td>\n",
       "    </tr>\n",
       "    <tr>\n",
       "      <th>1</th>\n",
       "      <td>2008-10-29</td>\n",
       "      <td>0</td>\n",
       "      <td>-1.0</td>\n",
       "      <td>0.572295</td>\n",
       "      <td>44.8</td>\n",
       "      <td>-0.335245</td>\n",
       "      <td>-6.288802</td>\n",
       "      <td>0.000000</td>\n",
       "      <td>-36.880466</td>\n",
       "      <td>0.0</td>\n",
       "      <td>...</td>\n",
       "      <td>0.628378</td>\n",
       "      <td>0.388889</td>\n",
       "      <td>0.791667</td>\n",
       "      <td>0.283784</td>\n",
       "      <td>0.126984</td>\n",
       "      <td>0.208333</td>\n",
       "      <td>-0.297673</td>\n",
       "      <td>0.602978</td>\n",
       "      <td>0.206367</td>\n",
       "      <td>train</td>\n",
       "    </tr>\n",
       "    <tr>\n",
       "      <th>2</th>\n",
       "      <td>2018-12-19</td>\n",
       "      <td>1</td>\n",
       "      <td>0.0</td>\n",
       "      <td>0.481953</td>\n",
       "      <td>58.8</td>\n",
       "      <td>0.068241</td>\n",
       "      <td>1.349789</td>\n",
       "      <td>0.000000</td>\n",
       "      <td>-15.611814</td>\n",
       "      <td>0.0</td>\n",
       "      <td>...</td>\n",
       "      <td>0.650206</td>\n",
       "      <td>0.689394</td>\n",
       "      <td>0.444444</td>\n",
       "      <td>0.362140</td>\n",
       "      <td>0.378788</td>\n",
       "      <td>0.333333</td>\n",
       "      <td>-0.017770</td>\n",
       "      <td>0.594681</td>\n",
       "      <td>0.358087</td>\n",
       "      <td>train</td>\n",
       "    </tr>\n",
       "    <tr>\n",
       "      <th>3</th>\n",
       "      <td>2009-08-12</td>\n",
       "      <td>2</td>\n",
       "      <td>0.0</td>\n",
       "      <td>-0.169238</td>\n",
       "      <td>49.9</td>\n",
       "      <td>-0.259526</td>\n",
       "      <td>-7.390883</td>\n",
       "      <td>0.000000</td>\n",
       "      <td>-13.836478</td>\n",
       "      <td>0.0</td>\n",
       "      <td>...</td>\n",
       "      <td>0.676806</td>\n",
       "      <td>0.458333</td>\n",
       "      <td>0.545455</td>\n",
       "      <td>0.334601</td>\n",
       "      <td>0.208333</td>\n",
       "      <td>0.454545</td>\n",
       "      <td>-0.117091</td>\n",
       "      <td>0.560198</td>\n",
       "      <td>0.332493</td>\n",
       "      <td>train</td>\n",
       "    </tr>\n",
       "    <tr>\n",
       "      <th>4</th>\n",
       "      <td>2000-11-15</td>\n",
       "      <td>2</td>\n",
       "      <td>0.0</td>\n",
       "      <td>0.099774</td>\n",
       "      <td>48.7</td>\n",
       "      <td>-0.001511</td>\n",
       "      <td>2.243324</td>\n",
       "      <td>0.000000</td>\n",
       "      <td>6.995413</td>\n",
       "      <td>0.0</td>\n",
       "      <td>...</td>\n",
       "      <td>0.752381</td>\n",
       "      <td>0.642276</td>\n",
       "      <td>0.842105</td>\n",
       "      <td>0.466667</td>\n",
       "      <td>0.471545</td>\n",
       "      <td>0.736842</td>\n",
       "      <td>0.016816</td>\n",
       "      <td>0.745588</td>\n",
       "      <td>0.558351</td>\n",
       "      <td>train</td>\n",
       "    </tr>\n",
       "  </tbody>\n",
       "</table>\n",
       "<p>5 rows × 24 columns</p>\n",
       "</div>"
      ],
      "text/plain": [
       "            date  target  prev_decision  GDP_diff_prev   PMI  EMP_diff_prev  \\\n",
       "index                                                                         \n",
       "0     2010-04-28       2            0.0       1.067962  58.8       0.139555   \n",
       "1     2008-10-29       0           -1.0       0.572295  44.8      -0.335245   \n",
       "2     2018-12-19       1            0.0       0.481953  58.8       0.068241   \n",
       "3     2009-08-12       2            0.0      -0.169238  49.9      -0.259526   \n",
       "4     2000-11-15       2            0.0       0.099774  48.7      -0.001511   \n",
       "\n",
       "       RSALES_diff_year  UNEMP_diff_prev  HSALES_diff_year  Inertia_diff  ...  \\\n",
       "index                                                                     ...   \n",
       "0              5.061896         1.020408         12.389381           0.0  ...   \n",
       "1             -6.288802         0.000000        -36.880466           0.0  ...   \n",
       "2              1.349789         0.000000        -15.611814           0.0  ...   \n",
       "3             -7.390883         0.000000        -13.836478           0.0  ...   \n",
       "4              2.243324         0.000000          6.995413           0.0  ...   \n",
       "\n",
       "       finbert_diffusion_minutes  finbert_diffusion_speech  \\\n",
       "index                                                        \n",
       "0                       0.677083                  0.117647   \n",
       "1                       0.628378                  0.388889   \n",
       "2                       0.650206                  0.689394   \n",
       "3                       0.676806                  0.458333   \n",
       "4                       0.752381                  0.642276   \n",
       "\n",
       "       finbert_diffusion_statement  t5_diffusion_minutes  t5_diffusion_speech  \\\n",
       "index                                                                           \n",
       "0                         0.583333              0.359375             0.117647   \n",
       "1                         0.791667              0.283784             0.126984   \n",
       "2                         0.444444              0.362140             0.378788   \n",
       "3                         0.545455              0.334601             0.208333   \n",
       "4                         0.842105              0.466667             0.471545   \n",
       "\n",
       "       t5_diffusion_statement  lm_tones  finbert_tones  t5_tones  split  \n",
       "index                                                                    \n",
       "0                    0.333333 -0.050143       0.459355  0.270118  train  \n",
       "1                    0.208333 -0.297673       0.602978  0.206367  train  \n",
       "2                    0.333333 -0.017770       0.594681  0.358087  train  \n",
       "3                    0.454545 -0.117091       0.560198  0.332493  train  \n",
       "4                    0.736842  0.016816       0.745588  0.558351  train  \n",
       "\n",
       "[5 rows x 24 columns]"
      ]
     },
     "execution_count": 21,
     "metadata": {},
     "output_type": "execute_result"
    }
   ],
   "source": [
    "f_tones.train_data.head()\n"
   ]
  },
  {
   "cell_type": "code",
   "execution_count": 22,
   "metadata": {},
   "outputs": [
    {
     "data": {
      "image/png": "[encoded data removed]",
      "text/plain": [
       "<Figure size 720x360 with 1 Axes>"
      ]
     },
     "metadata": {
      "image/png": {
       "height": 348,
       "width": 708
      }
     },
     "output_type": "display_data"
    }
   ],
   "source": [
    "cfg = eKonf.compose(config_group=\"visualize/plot=rank1d\")\n",
    "cfg.plots[0].x = X_cols\n",
    "cfg.plots[0].y = y_col\n",
    "cfg.plots[0].classes = f_tones.classes\n",
    "eKonf.instantiate(cfg, data=f_tones.data)\n"
   ]
  },
  {
   "cell_type": "code",
   "execution_count": 23,
   "metadata": {},
   "outputs": [
    {
     "data": {
      "image/png": "[encoded data removed]",
      "text/plain": [
       "<Figure size 720x576 with 2 Axes>"
      ]
     },
     "metadata": {
      "image/png": {
       "height": 568,
       "width": 633
      }
     },
     "output_type": "display_data"
    }
   ],
   "source": [
    "cfg = eKonf.compose(config_group=\"visualize/plot=rank2d\")\n",
    "cfg.plots[0].x = X_cols\n",
    "cfg.plots[0].y = y_col\n",
    "cfg.figure.figsize = (10, 8)\n",
    "eKonf.instantiate(cfg, data=f_tones.data)\n"
   ]
  },
  {
   "cell_type": "code",
   "execution_count": null,
   "metadata": {},
   "outputs": [],
   "source": []
  }
 ],
 "metadata": {
  "interpreter": {
   "hash": "f869af7787e6a1c49e09e367fc6e1b81d93d1c6583b43249c80edc047bd13cb2"
  },
  "kernelspec": {
   "display_name": "Python 3 (ipykernel)",
   "language": "python",
   "name": "python3"
  },
  "language_info": {
   "codemirror_mode": {
    "name": "ipython",
    "version": 3
   },
   "file_extension": ".py",
   "mimetype": "text/x-python",
   "name": "python",
   "nbconvert_exporter": "python",
   "pygments_lexer": "ipython3",
   "version": "3.8.12"
  },
  "widgets": {
   "application/vnd.jupyter.widget-state+json": {
    "state": {
     "00e5580d1f95421dac096a5e487b346b": {
      "model_module": "@jupyter-widgets/controls",
      "model_module_version": "1.5.0",
      "model_name": "DescriptionStyleModel",
      "state": {
       "description_width": ""
      }
     },
     "025c492aa9d044e5b1604bd7020be0fa": {
      "model_module": "@jupyter-widgets/controls",
      "model_module_version": "1.5.0",
      "model_name": "HBoxModel",
      "state": {
       "children": [
        "IPY_MODEL_9f4623063eef4180bc041e355d2d476b",
        "IPY_MODEL_7424d78b1f374ee4b955512604180206",
        "IPY_MODEL_6cbe7f3ee5e3477dbc924e7b5576e9d9"
       ],
       "layout": "IPY_MODEL_339b4b871a8b4362ac94d168de1c0bf6"
      }
     },
     "0280b4579d5543e98cc6093dfcebc2eb": {
      "model_module": "@jupyter-widgets/base",
      "model_module_version": "1.2.0",
      "model_name": "LayoutModel",
      "state": {}
     },
     "05bbb2995ca345cab86e5e00448f6a68": {
      "model_module": "@jupyter-widgets/base",
      "model_module_version": "1.2.0",
      "model_name": "LayoutModel",
      "state": {}
     },
     "05bff68faf8a4874a37d6b2579f9226f": {
      "model_module": "@jupyter-widgets/base",
      "model_module_version": "1.2.0",
      "model_name": "LayoutModel",
      "state": {}
     },
     "0689d0d9942846189e091dfb31ed02bc": {
      "model_module": "@jupyter-widgets/base",
      "model_module_version": "1.2.0",
      "model_name": "LayoutModel",
      "state": {}
     },
     "0821703bd5854da4a4d60bd9a4513adc": {
      "model_module": "@jupyter-widgets/base",
      "model_module_version": "1.2.0",
      "model_name": "LayoutModel",
      "state": {}
     },
     "0d11c2ea08204915a2eb73e4de18c966": {
      "model_module": "@jupyter-widgets/base",
      "model_module_version": "1.2.0",
      "model_name": "LayoutModel",
      "state": {}
     },
     "0d359391475448b38de0301e1e8a274d": {
      "model_module": "@jupyter-widgets/controls",
      "model_module_version": "1.5.0",
      "model_name": "FloatProgressModel",
      "state": {
       "bar_style": "success",
       "layout": "IPY_MODEL_1cf6d74c411745b4bbcb492eec6d71d6",
       "max": 415,
       "style": "IPY_MODEL_f24a9b2c0894427fa339a90986f74381",
       "value": 415
      }
     },
     "0d75715ee6204d70b81925057983b04f": {
      "model_module": "@jupyter-widgets/controls",
      "model_module_version": "1.5.0",
      "model_name": "HTMLModel",
      "state": {
       "layout": "IPY_MODEL_ca3796c0a8f048749efa8c604bf40185",
       "style": "IPY_MODEL_868beff75803458db8270a13da21f7d3",
       "value": "100%"
      }
     },
     "0de003a060864f9081696e5dcd756e5f": {
      "model_module": "@jupyter-widgets/base",
      "model_module_version": "1.2.0",
      "model_name": "LayoutModel",
      "state": {}
     },
     "0e2dca5122c5464ead3480a3f5380721": {
      "model_module": "@jupyter-widgets/controls",
      "model_module_version": "1.5.0",
      "model_name": "ProgressStyleModel",
      "state": {
       "description_width": ""
      }
     },
     "0e43e824dad846599c6a06f90dcdc5b8": {
      "model_module": "@jupyter-widgets/controls",
      "model_module_version": "1.5.0",
      "model_name": "HTMLModel",
      "state": {
       "layout": "IPY_MODEL_189966527ac14ab49486b97c53f64809",
       "style": "IPY_MODEL_c6bde98e2dc74fc7b527f2c5dae00d4b",
       "value": "100%"
      }
     },
     "0ec10aaa5113420e9ad2fca218979336": {
      "model_module": "@jupyter-widgets/base",
      "model_module_version": "1.2.0",
      "model_name": "LayoutModel",
      "state": {}
     },
     "0ec87e2c20194f6cad587c12a73c557c": {
      "model_module": "@jupyter-widgets/controls",
      "model_module_version": "1.5.0",
      "model_name": "ProgressStyleModel",
      "state": {
       "description_width": ""
      }
     },
     "1067a7067eab498180f02409b6d0ef5d": {
      "model_module": "@jupyter-widgets/base",
      "model_module_version": "1.2.0",
      "model_name": "LayoutModel",
      "state": {}
     },
     "10da98b2aa854b249e1269481369990a": {
      "model_module": "@jupyter-widgets/base",
      "model_module_version": "1.2.0",
      "model_name": "LayoutModel",
      "state": {}
     },
     "10eac0b30e6c470ab94d7f9450ad4546": {
      "model_module": "@jupyter-widgets/controls",
      "model_module_version": "1.5.0",
      "model_name": "DescriptionStyleModel",
      "state": {
       "description_width": ""
      }
     },
     "11208cba387e4a358fa5a5ad88d9643f": {
      "model_module": "@jupyter-widgets/controls",
      "model_module_version": "1.5.0",
      "model_name": "HTMLModel",
      "state": {
       "layout": "IPY_MODEL_1067a7067eab498180f02409b6d0ef5d",
       "style": "IPY_MODEL_50746f0549824a4eada3329bef885520",
       "value": "100%"
      }
     },
     "11a2da3569954199938666c5e998829a": {
      "model_module": "@jupyter-widgets/base",
      "model_module_version": "1.2.0",
      "model_name": "LayoutModel",
      "state": {}
     },
     "11c093c219bf4be89f9a2ba4ce4c5e46": {
      "model_module": "@jupyter-widgets/base",
      "model_module_version": "1.2.0",
      "model_name": "LayoutModel",
      "state": {}
     },
     "11f7ac5a7da14685b93974dafc7c6d5a": {
      "model_module": "@jupyter-widgets/controls",
      "model_module_version": "1.5.0",
      "model_name": "FloatProgressModel",
      "state": {
       "bar_style": "success",
       "layout": "IPY_MODEL_11a2da3569954199938666c5e998829a",
       "max": 415,
       "style": "IPY_MODEL_b9a06f821f484af1b831029829152202",
       "value": 415
      }
     },
     "11ff81b2268f492e963716611024fae7": {
      "model_module": "@jupyter-widgets/base",
      "model_module_version": "1.2.0",
      "model_name": "LayoutModel",
      "state": {}
     },
     "1352da17e9824f539dbf421eec23a5ea": {
      "model_module": "@jupyter-widgets/controls",
      "model_module_version": "1.5.0",
      "model_name": "HTMLModel",
      "state": {
       "layout": "IPY_MODEL_e860943a3c93440fa0636f87bf2b6ddb",
       "style": "IPY_MODEL_c3a5b068a736431f9e7d980ba6272ebb",
       "value": "100%"
      }
     },
     "14493d2e411c498cb40dbd49cc417ca3": {
      "model_module": "@jupyter-widgets/base",
      "model_module_version": "1.2.0",
      "model_name": "LayoutModel",
      "state": {}
     },
     "14f25dbd7018478594b4a648bb92bf27": {
      "model_module": "@jupyter-widgets/controls",
      "model_module_version": "1.5.0",
      "model_name": "HTMLModel",
      "state": {
       "layout": "IPY_MODEL_9860a00f65bd4067a26b9dbe4f4d389f",
       "style": "IPY_MODEL_d29b669e21374ab4bfecdff40f3cac5e",
       "value": "100%"
      }
     },
     "15bacd6ec1cf4f529b52cb6c87bd6b64": {
      "model_module": "@jupyter-widgets/controls",
      "model_module_version": "1.5.0",
      "model_name": "HBoxModel",
      "state": {
       "children": [
        "IPY_MODEL_84496e73ccb24cb6bd81fb8b52b43189",
        "IPY_MODEL_421c28a1491249f2b5d05199ae5944b1",
        "IPY_MODEL_b53960c28f1941e189eb2a665b151744"
       ],
       "layout": "IPY_MODEL_b22984fcd1e34a9597eb867fb86e3610"
      }
     },
     "15d30e83d7b14b009f99db22b8aa4af2": {
      "model_module": "@jupyter-widgets/controls",
      "model_module_version": "1.5.0",
      "model_name": "FloatProgressModel",
      "state": {
       "bar_style": "success",
       "layout": "IPY_MODEL_affd81085de94d309dee8bb8a5b3f065",
       "max": 415,
       "style": "IPY_MODEL_6015265a89ed40dab89691d4cf5fd186",
       "value": 415
      }
     },
     "15d68eac8098440e8e8e4620786c9605": {
      "model_module": "@jupyter-widgets/controls",
      "model_module_version": "1.5.0",
      "model_name": "HBoxModel",
      "state": {
       "children": [
        "IPY_MODEL_0d75715ee6204d70b81925057983b04f",
        "IPY_MODEL_88a24cd06d184c07a3550eefe3b269fe",
        "IPY_MODEL_2b264a06adf94277b4272d6732f67783"
       ],
       "layout": "IPY_MODEL_61747756fdf74dbcb8bdc83196833fee"
      }
     },
     "16383d09d00842109de83d03ca5d75c8": {
      "model_module": "@jupyter-widgets/base",
      "model_module_version": "1.2.0",
      "model_name": "LayoutModel",
      "state": {}
     },
     "189966527ac14ab49486b97c53f64809": {
      "model_module": "@jupyter-widgets/base",
      "model_module_version": "1.2.0",
      "model_name": "LayoutModel",
      "state": {}
     },
     "18efd44725ca4ef8a24c89119f6c8302": {
      "model_module": "@jupyter-widgets/controls",
      "model_module_version": "1.5.0",
      "model_name": "ProgressStyleModel",
      "state": {
       "description_width": ""
      }
     },
     "19edc7d6b9154dfea5c3889e3f1e3eaa": {
      "model_module": "@jupyter-widgets/controls",
      "model_module_version": "1.5.0",
      "model_name": "HTMLModel",
      "state": {
       "layout": "IPY_MODEL_3cffe3cd97c948d88e53d5d86aa54fcf",
       "style": "IPY_MODEL_e0d3e479b84a418e807c2b50b271cc6c",
       "value": "100%"
      }
     },
     "19ee7cd2b0f0426e9885987015b3ceef": {
      "model_module": "@jupyter-widgets/controls",
      "model_module_version": "1.5.0",
      "model_name": "DescriptionStyleModel",
      "state": {
       "description_width": ""
      }
     },
     "1a884e4dc3544319ba5e49d5811d199c": {
      "model_module": "@jupyter-widgets/base",
      "model_module_version": "1.2.0",
      "model_name": "LayoutModel",
      "state": {}
     },
     "1ab9fe12d4244d649e17c2e2b5968e64": {
      "model_module": "@jupyter-widgets/base",
      "model_module_version": "1.2.0",
      "model_name": "LayoutModel",
      "state": {}
     },
     "1b5ee0de5efb44e196eceba5736959bf": {
      "model_module": "@jupyter-widgets/controls",
      "model_module_version": "1.5.0",
      "model_name": "HBoxModel",
      "state": {
       "children": [
        "IPY_MODEL_cbbfa03350ad41fb8c37521084c1fc32",
        "IPY_MODEL_5003e233a11f48d3b993815c58358196",
        "IPY_MODEL_9153caa9ceba44b7b4fbba305ddee861"
       ],
       "layout": "IPY_MODEL_5a8348fd69594f8c8238469df775e13d"
      }
     },
     "1bdfd4aedd9a49e5beb2e9b4f02bfe19": {
      "model_module": "@jupyter-widgets/controls",
      "model_module_version": "1.5.0",
      "model_name": "DescriptionStyleModel",
      "state": {
       "description_width": ""
      }
     },
     "1c441d2f78d14b568fbec51a6dff9315": {
      "model_module": "@jupyter-widgets/controls",
      "model_module_version": "1.5.0",
      "model_name": "HBoxModel",
      "state": {
       "children": [
        "IPY_MODEL_a4d4dcbea6d2448ba674a768caa331bf",
        "IPY_MODEL_0d359391475448b38de0301e1e8a274d",
        "IPY_MODEL_e05982172b344bc3aa6ddd73506f98ae"
       ],
       "layout": "IPY_MODEL_1ab9fe12d4244d649e17c2e2b5968e64"
      }
     },
     "1c504451a23b41afa2199edb34fbdb3e": {
      "model_module": "@jupyter-widgets/controls",
      "model_module_version": "1.5.0",
      "model_name": "HBoxModel",
      "state": {
       "children": [
        "IPY_MODEL_19edc7d6b9154dfea5c3889e3f1e3eaa",
        "IPY_MODEL_acbba215c72c482c87e45b211a0b1127",
        "IPY_MODEL_60645d90b6394d9ea335da4d29b37a2f"
       ],
       "layout": "IPY_MODEL_11c093c219bf4be89f9a2ba4ce4c5e46"
      }
     },
     "1c54ca211c1c42618cd336cbb77fc730": {
      "model_module": "@jupyter-widgets/controls",
      "model_module_version": "1.5.0",
      "model_name": "DescriptionStyleModel",
      "state": {
       "description_width": ""
      }
     },
     "1c8e0d6a60af4a128b0915e82f39f9cb": {
      "model_module": "@jupyter-widgets/controls",
      "model_module_version": "1.5.0",
      "model_name": "DescriptionStyleModel",
      "state": {
       "description_width": ""
      }
     },
     "1c96351d986c44f088f314be65f4f295": {
      "model_module": "@jupyter-widgets/base",
      "model_module_version": "1.2.0",
      "model_name": "LayoutModel",
      "state": {}
     },
     "1cf6d74c411745b4bbcb492eec6d71d6": {
      "model_module": "@jupyter-widgets/base",
      "model_module_version": "1.2.0",
      "model_name": "LayoutModel",
      "state": {}
     },
     "1db7aa4b94b8439aa22bbea2f5d1663b": {
      "model_module": "@jupyter-widgets/base",
      "model_module_version": "1.2.0",
      "model_name": "LayoutModel",
      "state": {}
     },
     "1ed011e2cabe4a2792a240c206d4d651": {
      "model_module": "@jupyter-widgets/base",
      "model_module_version": "1.2.0",
      "model_name": "LayoutModel",
      "state": {}
     },
     "1ef5fa216e3c450da58fefe46a3d0220": {
      "model_module": "@jupyter-widgets/controls",
      "model_module_version": "1.5.0",
      "model_name": "HTMLModel",
      "state": {
       "layout": "IPY_MODEL_11ff81b2268f492e963716611024fae7",
       "style": "IPY_MODEL_f33e45da32ff47f184cd70af8f15136b",
       "value": "100%"
      }
     },
     "1fd0802079f94a5480dfbade4f074c0a": {
      "model_module": "@jupyter-widgets/base",
      "model_module_version": "1.2.0",
      "model_name": "LayoutModel",
      "state": {}
     },
     "20bc1ea789eb465fafd8102b3e3ed09e": {
      "model_module": "@jupyter-widgets/controls",
      "model_module_version": "1.5.0",
      "model_name": "ProgressStyleModel",
      "state": {
       "description_width": ""
      }
     },
     "210bf8452cfd4e779cebeef7c73617f8": {
      "model_module": "@jupyter-widgets/controls",
      "model_module_version": "1.5.0",
      "model_name": "ProgressStyleModel",
      "state": {
       "description_width": ""
      }
     },
     "244fcc25eefc4acf87eb494c1ca2fc91": {
      "model_module": "@jupyter-widgets/controls",
      "model_module_version": "1.5.0",
      "model_name": "ProgressStyleModel",
      "state": {
       "description_width": ""
      }
     },
     "25252b889d0c41e7a8e91f4ac7a88d3b": {
      "model_module": "@jupyter-widgets/base",
      "model_module_version": "1.2.0",
      "model_name": "LayoutModel",
      "state": {}
     },
     "25859f6c7da24c2482956719164bfcca": {
      "model_module": "@jupyter-widgets/controls",
      "model_module_version": "1.5.0",
      "model_name": "DescriptionStyleModel",
      "state": {
       "description_width": ""
      }
     },
     "269b108dccf948f3b34f573a602300b1": {
      "model_module": "@jupyter-widgets/controls",
      "model_module_version": "1.5.0",
      "model_name": "HTMLModel",
      "state": {
       "layout": "IPY_MODEL_1db7aa4b94b8439aa22bbea2f5d1663b",
       "style": "IPY_MODEL_10eac0b30e6c470ab94d7f9450ad4546",
       "value": " 415/415 [00:00&lt;00:00, 2481.06it/s]"
      }
     },
     "2837ac295a8048b4894a642aa49e709e": {
      "model_module": "@jupyter-widgets/controls",
      "model_module_version": "1.5.0",
      "model_name": "DescriptionStyleModel",
      "state": {
       "description_width": ""
      }
     },
     "2a63deacc5fe4047a3360ced3ac9d5c9": {
      "model_module": "@jupyter-widgets/base",
      "model_module_version": "1.2.0",
      "model_name": "LayoutModel",
      "state": {}
     },
     "2b264a06adf94277b4272d6732f67783": {
      "model_module": "@jupyter-widgets/controls",
      "model_module_version": "1.5.0",
      "model_name": "HTMLModel",
      "state": {
       "layout": "IPY_MODEL_85e70d76b3fd412485cdd3f64dc0c088",
       "style": "IPY_MODEL_1c54ca211c1c42618cd336cbb77fc730",
       "value": " 415/415 [00:00&lt;00:00, 2469.77it/s]"
      }
     },
     "2ee694100b5e4b36af05bb4dc407c0d6": {
      "model_module": "@jupyter-widgets/base",
      "model_module_version": "1.2.0",
      "model_name": "LayoutModel",
      "state": {}
     },
     "2f0271c24f5247b88d5f5da9bfac5f9d": {
      "model_module": "@jupyter-widgets/base",
      "model_module_version": "1.2.0",
      "model_name": "LayoutModel",
      "state": {}
     },
     "2f0c8b283b4f42d6a8223524fd4ed86d": {
      "model_module": "@jupyter-widgets/controls",
      "model_module_version": "1.5.0",
      "model_name": "HTMLModel",
      "state": {
       "layout": "IPY_MODEL_9bd4c909f94f46dca820dc05aa9506d6",
       "style": "IPY_MODEL_406763e44d8a467bb9d1ef7f572d2e7e",
       "value": " 415/415 [00:00&lt;00:00, 2509.51it/s]"
      }
     },
     "3042efa026be4d659dcb10281dcd6479": {
      "model_module": "@jupyter-widgets/base",
      "model_module_version": "1.2.0",
      "model_name": "LayoutModel",
      "state": {}
     },
     "3127ab2300514aba80157f06ff1bf5a8": {
      "model_module": "@jupyter-widgets/controls",
      "model_module_version": "1.5.0",
      "model_name": "DescriptionStyleModel",
      "state": {
       "description_width": ""
      }
     },
     "314ed4a38c5b4e8db9d4f6960ea99093": {
      "model_module": "@jupyter-widgets/controls",
      "model_module_version": "1.5.0",
      "model_name": "DescriptionStyleModel",
      "state": {
       "description_width": ""
      }
     },
     "324cf8e9cfa6421dafb852142a02c36c": {
      "model_module": "@jupyter-widgets/controls",
      "model_module_version": "1.5.0",
      "model_name": "DescriptionStyleModel",
      "state": {
       "description_width": ""
      }
     },
     "339b4b871a8b4362ac94d168de1c0bf6": {
      "model_module": "@jupyter-widgets/base",
      "model_module_version": "1.2.0",
      "model_name": "LayoutModel",
      "state": {}
     },
     "35c37f6ec8544406859819f623154e74": {
      "model_module": "@jupyter-widgets/controls",
      "model_module_version": "1.5.0",
      "model_name": "DescriptionStyleModel",
      "state": {
       "description_width": ""
      }
     },
     "36869ce396ce451e9545074a466ff950": {
      "model_module": "@jupyter-widgets/base",
      "model_module_version": "1.2.0",
      "model_name": "LayoutModel",
      "state": {}
     },
     "36f0e783fb014d22a6f1065da93927ec": {
      "model_module": "@jupyter-widgets/controls",
      "model_module_version": "1.5.0",
      "model_name": "FloatProgressModel",
      "state": {
       "bar_style": "success",
       "layout": "IPY_MODEL_cef9bda623464074846301f5346d2f8f",
       "max": 415,
       "style": "IPY_MODEL_761813c714aa4cdcb9fe2500c4fc83e2",
       "value": 415
      }
     },
     "3901e1d313454866bb2f910626c67509": {
      "model_module": "@jupyter-widgets/base",
      "model_module_version": "1.2.0",
      "model_name": "LayoutModel",
      "state": {}
     },
     "3b15b21c77b54cf2aa6840641bccfe15": {
      "model_module": "@jupyter-widgets/controls",
      "model_module_version": "1.5.0",
      "model_name": "HBoxModel",
      "state": {
       "children": [
        "IPY_MODEL_c02f6626a02848bd85b5645cd5d1d829",
        "IPY_MODEL_8507dbcfc4f14340bafa6b0baab5e782",
        "IPY_MODEL_d0d954e6cd4742f8a7a4a12c53a71482"
       ],
       "layout": "IPY_MODEL_7c5574eeff6b42f19b0adf2660d0a0c8"
      }
     },
     "3cce5dc9f4b04a3faa309f122ecff34f": {
      "model_module": "@jupyter-widgets/controls",
      "model_module_version": "1.5.0",
      "model_name": "DescriptionStyleModel",
      "state": {
       "description_width": ""
      }
     },
     "3cffe3cd97c948d88e53d5d86aa54fcf": {
      "model_module": "@jupyter-widgets/base",
      "model_module_version": "1.2.0",
      "model_name": "LayoutModel",
      "state": {}
     },
     "3d86ace29f9641ba8993cf5ebdd54eaf": {
      "model_module": "@jupyter-widgets/controls",
      "model_module_version": "1.5.0",
      "model_name": "HTMLModel",
      "state": {
       "layout": "IPY_MODEL_1a884e4dc3544319ba5e49d5811d199c",
       "style": "IPY_MODEL_00e5580d1f95421dac096a5e487b346b",
       "value": " 415/415 [00:00&lt;00:00, 2508.26it/s]"
      }
     },
     "3dbbfb7a6a6c4d4ea0eb0c0ff1470060": {
      "model_module": "@jupyter-widgets/controls",
      "model_module_version": "1.5.0",
      "model_name": "DescriptionStyleModel",
      "state": {
       "description_width": ""
      }
     },
     "404801b3f7fd40128bf6a83a7b7b2bec": {
      "model_module": "@jupyter-widgets/controls",
      "model_module_version": "1.5.0",
      "model_name": "FloatProgressModel",
      "state": {
       "bar_style": "success",
       "layout": "IPY_MODEL_9f58132fe52e42e091a52afda7efcc58",
       "max": 415,
       "style": "IPY_MODEL_914d6588abed4a378a94a3e72899bb42",
       "value": 415
      }
     },
     "406763e44d8a467bb9d1ef7f572d2e7e": {
      "model_module": "@jupyter-widgets/controls",
      "model_module_version": "1.5.0",
      "model_name": "DescriptionStyleModel",
      "state": {
       "description_width": ""
      }
     },
     "41caf86cd7594c92865b245a1d7b0c98": {
      "model_module": "@jupyter-widgets/base",
      "model_module_version": "1.2.0",
      "model_name": "LayoutModel",
      "state": {}
     },
     "421c28a1491249f2b5d05199ae5944b1": {
      "model_module": "@jupyter-widgets/controls",
      "model_module_version": "1.5.0",
      "model_name": "FloatProgressModel",
      "state": {
       "bar_style": "success",
       "layout": "IPY_MODEL_8b39d001c47e414cadb5f30bbeb79f15",
       "max": 415,
       "style": "IPY_MODEL_0e2dca5122c5464ead3480a3f5380721",
       "value": 415
      }
     },
     "45e84950970e4f4fa0caa89055a137ce": {
      "model_module": "@jupyter-widgets/controls",
      "model_module_version": "1.5.0",
      "model_name": "HTMLModel",
      "state": {
       "layout": "IPY_MODEL_1c96351d986c44f088f314be65f4f295",
       "style": "IPY_MODEL_3cce5dc9f4b04a3faa309f122ecff34f",
       "value": " 415/415 [00:00&lt;00:00, 2504.85it/s]"
      }
     },
     "4725a4fb844648bf9082cf3386dd951d": {
      "model_module": "@jupyter-widgets/base",
      "model_module_version": "1.2.0",
      "model_name": "LayoutModel",
      "state": {}
     },
     "49fd92fa79ce4f30bb3d09320ffdd87c": {
      "model_module": "@jupyter-widgets/controls",
      "model_module_version": "1.5.0",
      "model_name": "HBoxModel",
      "state": {
       "children": [
        "IPY_MODEL_1352da17e9824f539dbf421eec23a5ea",
        "IPY_MODEL_404801b3f7fd40128bf6a83a7b7b2bec",
        "IPY_MODEL_a3af1dd0007f42cba83a6588142bc29f"
       ],
       "layout": "IPY_MODEL_a9f1991c05c94d81849f9b2b9a964c4b"
      }
     },
     "4b4d1cc03bfd4148b219b859ccbc227b": {
      "model_module": "@jupyter-widgets/base",
      "model_module_version": "1.2.0",
      "model_name": "LayoutModel",
      "state": {}
     },
     "4b9ec353d5534d88bfe0120f0e50e356": {
      "model_module": "@jupyter-widgets/controls",
      "model_module_version": "1.5.0",
      "model_name": "HTMLModel",
      "state": {
       "layout": "IPY_MODEL_25252b889d0c41e7a8e91f4ac7a88d3b",
       "style": "IPY_MODEL_ebb5f5dcad004647a19bef46d7d463b1",
       "value": " 415/415 [00:00&lt;00:00, 2492.60it/s]"
      }
     },
     "4ba01d1fe3c1477385d11974ec8409bc": {
      "model_module": "@jupyter-widgets/controls",
      "model_module_version": "1.5.0",
      "model_name": "HBoxModel",
      "state": {
       "children": [
        "IPY_MODEL_be64b1a46a394f6bb6d0e021c085ea88",
        "IPY_MODEL_968c943b69fe468d8728a933a2cc7879",
        "IPY_MODEL_f6a6c96fffba48178bcc30b8198d1bda"
       ],
       "layout": "IPY_MODEL_05bff68faf8a4874a37d6b2579f9226f"
      }
     },
     "4bd0de706b0b4d1dae2f9f7469e23607": {
      "model_module": "@jupyter-widgets/controls",
      "model_module_version": "1.5.0",
      "model_name": "ProgressStyleModel",
      "state": {
       "description_width": ""
      }
     },
     "4e1f04b48ec44054acb08c09b8cfe2a9": {
      "model_module": "@jupyter-widgets/controls",
      "model_module_version": "1.5.0",
      "model_name": "HTMLModel",
      "state": {
       "layout": "IPY_MODEL_10da98b2aa854b249e1269481369990a",
       "style": "IPY_MODEL_6ad299a6efae4cf3830d67d2e8bb43eb",
       "value": " 415/415 [00:00&lt;00:00, 2487.72it/s]"
      }
     },
     "4e8d6d002d94410f92b0e67a37aa841a": {
      "model_module": "@jupyter-widgets/controls",
      "model_module_version": "1.5.0",
      "model_name": "ProgressStyleModel",
      "state": {
       "description_width": ""
      }
     },
     "5003e233a11f48d3b993815c58358196": {
      "model_module": "@jupyter-widgets/controls",
      "model_module_version": "1.5.0",
      "model_name": "FloatProgressModel",
      "state": {
       "bar_style": "success",
       "layout": "IPY_MODEL_3042efa026be4d659dcb10281dcd6479",
       "max": 415,
       "style": "IPY_MODEL_95190046cb404155b9a212602a9dce23",
       "value": 415
      }
     },
     "50746f0549824a4eada3329bef885520": {
      "model_module": "@jupyter-widgets/controls",
      "model_module_version": "1.5.0",
      "model_name": "DescriptionStyleModel",
      "state": {
       "description_width": ""
      }
     },
     "50a80b387c2348ea91d54f90521e6681": {
      "model_module": "@jupyter-widgets/base",
      "model_module_version": "1.2.0",
      "model_name": "LayoutModel",
      "state": {}
     },
     "53136e80f229410dacf676264947cfda": {
      "model_module": "@jupyter-widgets/controls",
      "model_module_version": "1.5.0",
      "model_name": "DescriptionStyleModel",
      "state": {
       "description_width": ""
      }
     },
     "53f718eff3524d5eb9259a33db8855c7": {
      "model_module": "@jupyter-widgets/base",
      "model_module_version": "1.2.0",
      "model_name": "LayoutModel",
      "state": {}
     },
     "5597c051a3a8403ea554c30529145664": {
      "model_module": "@jupyter-widgets/base",
      "model_module_version": "1.2.0",
      "model_name": "LayoutModel",
      "state": {}
     },
     "55eb3a1013d54311b62583b9c0cc761f": {
      "model_module": "@jupyter-widgets/controls",
      "model_module_version": "1.5.0",
      "model_name": "HBoxModel",
      "state": {
       "children": [
        "IPY_MODEL_69425e7b4500442688bbff8c9e991b85",
        "IPY_MODEL_36f0e783fb014d22a6f1065da93927ec",
        "IPY_MODEL_2f0c8b283b4f42d6a8223524fd4ed86d"
       ],
       "layout": "IPY_MODEL_8d84b7ab75714f32822d5f7316af185f"
      }
     },
     "56fefddb83ef4ccc987984d9a428eb50": {
      "model_module": "@jupyter-widgets/controls",
      "model_module_version": "1.5.0",
      "model_name": "HBoxModel",
      "state": {
       "children": [
        "IPY_MODEL_b39693c9fdd14353bd75ed3e473cea4a",
        "IPY_MODEL_e9be57792e944bf5952014441cb9949d",
        "IPY_MODEL_912bf633513d4cb19cf1affe201522b4"
       ],
       "layout": "IPY_MODEL_b7f2240c5fe0498aa509cdfa3a2f3fee"
      }
     },
     "577a859e7dca4cf9945cfbc603c20563": {
      "model_module": "@jupyter-widgets/base",
      "model_module_version": "1.2.0",
      "model_name": "LayoutModel",
      "state": {}
     },
     "5871c954432842f28fb84c40f8779231": {
      "model_module": "@jupyter-widgets/base",
      "model_module_version": "1.2.0",
      "model_name": "LayoutModel",
      "state": {}
     },
     "5a8348fd69594f8c8238469df775e13d": {
      "model_module": "@jupyter-widgets/base",
      "model_module_version": "1.2.0",
      "model_name": "LayoutModel",
      "state": {}
     },
     "5baf789b87724162bbae49f48a479d3c": {
      "model_module": "@jupyter-widgets/controls",
      "model_module_version": "1.5.0",
      "model_name": "DescriptionStyleModel",
      "state": {
       "description_width": ""
      }
     },
     "5d3fd7e4389943e89c017be6ff2d4748": {
      "model_module": "@jupyter-widgets/base",
      "model_module_version": "1.2.0",
      "model_name": "LayoutModel",
      "state": {}
     },
     "5db6c3b9c4da49ee8e49901ae4b7165e": {
      "model_module": "@jupyter-widgets/controls",
      "model_module_version": "1.5.0",
      "model_name": "ProgressStyleModel",
      "state": {
       "description_width": ""
      }
     },
     "5dd1d8468d2b4608bf329c64464220a8": {
      "model_module": "@jupyter-widgets/controls",
      "model_module_version": "1.5.0",
      "model_name": "HTMLModel",
      "state": {
       "layout": "IPY_MODEL_8ca9286e54d74ebdac0ea8004ab67d8d",
       "style": "IPY_MODEL_314ed4a38c5b4e8db9d4f6960ea99093",
       "value": " 415/415 [00:00&lt;00:00, 3379.41it/s]"
      }
     },
     "5f147e5590174515b94b5cb455ede966": {
      "model_module": "@jupyter-widgets/controls",
      "model_module_version": "1.5.0",
      "model_name": "DescriptionStyleModel",
      "state": {
       "description_width": ""
      }
     },
     "6015265a89ed40dab89691d4cf5fd186": {
      "model_module": "@jupyter-widgets/controls",
      "model_module_version": "1.5.0",
      "model_name": "ProgressStyleModel",
      "state": {
       "description_width": ""
      }
     },
     "60645d90b6394d9ea335da4d29b37a2f": {
      "model_module": "@jupyter-widgets/controls",
      "model_module_version": "1.5.0",
      "model_name": "HTMLModel",
      "state": {
       "layout": "IPY_MODEL_0280b4579d5543e98cc6093dfcebc2eb",
       "style": "IPY_MODEL_5f147e5590174515b94b5cb455ede966",
       "value": " 415/415 [00:00&lt;00:00, 3448.92it/s]"
      }
     },
     "61747756fdf74dbcb8bdc83196833fee": {
      "model_module": "@jupyter-widgets/base",
      "model_module_version": "1.2.0",
      "model_name": "LayoutModel",
      "state": {}
     },
     "64cfdc6306a545c9af6bd5c46eb8347c": {
      "model_module": "@jupyter-widgets/controls",
      "model_module_version": "1.5.0",
      "model_name": "FloatProgressModel",
      "state": {
       "bar_style": "success",
       "layout": "IPY_MODEL_ff089740dff94d8ca4326417fdaecfa7",
       "max": 415,
       "style": "IPY_MODEL_18efd44725ca4ef8a24c89119f6c8302",
       "value": 415
      }
     },
     "6562ced6575e4c50aec8b4113ac297af": {
      "model_module": "@jupyter-widgets/controls",
      "model_module_version": "1.5.0",
      "model_name": "HBoxModel",
      "state": {
       "children": [
        "IPY_MODEL_14f25dbd7018478594b4a648bb92bf27",
        "IPY_MODEL_82540051af054e2292c90fe445558da1",
        "IPY_MODEL_8aa52763334d41df9f311c9f7536790b"
       ],
       "layout": "IPY_MODEL_8cb03a0cde534ad98c90389ca9676838"
      }
     },
     "65b9fe59cdbf43649b08510d0e830bdb": {
      "model_module": "@jupyter-widgets/base",
      "model_module_version": "1.2.0",
      "model_name": "LayoutModel",
      "state": {}
     },
     "6642796583074dc282e2375212981157": {
      "model_module": "@jupyter-widgets/controls",
      "model_module_version": "1.5.0",
      "model_name": "DescriptionStyleModel",
      "state": {
       "description_width": ""
      }
     },
     "66b0391f23824740b2d6d086fed7c6ea": {
      "model_module": "@jupyter-widgets/base",
      "model_module_version": "1.2.0",
      "model_name": "LayoutModel",
      "state": {}
     },
     "678c0f1e769544b485df32790e32499c": {
      "model_module": "@jupyter-widgets/base",
      "model_module_version": "1.2.0",
      "model_name": "LayoutModel",
      "state": {}
     },
     "679ef9964b0042e7a2410102625c7006": {
      "model_module": "@jupyter-widgets/controls",
      "model_module_version": "1.5.0",
      "model_name": "DescriptionStyleModel",
      "state": {
       "description_width": ""
      }
     },
     "67e5b2a3cd7b401cbb900e5d4f3f4677": {
      "model_module": "@jupyter-widgets/controls",
      "model_module_version": "1.5.0",
      "model_name": "ProgressStyleModel",
      "state": {
       "description_width": ""
      }
     },
     "686224b07a694d4c800b26d711f36aeb": {
      "model_module": "@jupyter-widgets/controls",
      "model_module_version": "1.5.0",
      "model_name": "FloatProgressModel",
      "state": {
       "bar_style": "success",
       "layout": "IPY_MODEL_5d3fd7e4389943e89c017be6ff2d4748",
       "max": 415,
       "style": "IPY_MODEL_20bc1ea789eb465fafd8102b3e3ed09e",
       "value": 415
      }
     },
     "69425e7b4500442688bbff8c9e991b85": {
      "model_module": "@jupyter-widgets/controls",
      "model_module_version": "1.5.0",
      "model_name": "HTMLModel",
      "state": {
       "layout": "IPY_MODEL_a893f261e4b54978a5b4e95c6cdd2a4f",
       "style": "IPY_MODEL_1bdfd4aedd9a49e5beb2e9b4f02bfe19",
       "value": "100%"
      }
     },
     "6ad299a6efae4cf3830d67d2e8bb43eb": {
      "model_module": "@jupyter-widgets/controls",
      "model_module_version": "1.5.0",
      "model_name": "DescriptionStyleModel",
      "state": {
       "description_width": ""
      }
     },
     "6cbe7f3ee5e3477dbc924e7b5576e9d9": {
      "model_module": "@jupyter-widgets/controls",
      "model_module_version": "1.5.0",
      "model_name": "HTMLModel",
      "state": {
       "layout": "IPY_MODEL_9443d69e856342d8877433ad616a9b94",
       "style": "IPY_MODEL_ff26a67c8db3467e813fde1c656d6814",
       "value": " 415/415 [00:00&lt;00:00, 3465.46it/s]"
      }
     },
     "6cf9e1071a4148e782c536da1cc80fd8": {
      "model_module": "@jupyter-widgets/controls",
      "model_module_version": "1.5.0",
      "model_name": "HBoxModel",
      "state": {
       "children": [
        "IPY_MODEL_11208cba387e4a358fa5a5ad88d9643f",
        "IPY_MODEL_778dc967d8fa4360854b3a36ede3dece",
        "IPY_MODEL_9af49441b679493aa4e1bb06a9496314"
       ],
       "layout": "IPY_MODEL_898a3c395a2147869ad5ffe448053081"
      }
     },
     "6d078871c5644f968cf2b14af1ed7045": {
      "model_module": "@jupyter-widgets/controls",
      "model_module_version": "1.5.0",
      "model_name": "HBoxModel",
      "state": {
       "children": [
        "IPY_MODEL_8f535b720f58434a93c4d2187829f26e",
        "IPY_MODEL_78e17600a20547629f18fa1f92647751",
        "IPY_MODEL_5dd1d8468d2b4608bf329c64464220a8"
       ],
       "layout": "IPY_MODEL_6df959642b5b4920a3183090c6f23ce6"
      }
     },
     "6df959642b5b4920a3183090c6f23ce6": {
      "model_module": "@jupyter-widgets/base",
      "model_module_version": "1.2.0",
      "model_name": "LayoutModel",
      "state": {}
     },
     "7075d8ba1da04c82afddfbd33cb11ab9": {
      "model_module": "@jupyter-widgets/controls",
      "model_module_version": "1.5.0",
      "model_name": "HTMLModel",
      "state": {
       "layout": "IPY_MODEL_a579a557a1e047a8bb1151240eb0512c",
       "style": "IPY_MODEL_ba0c8b1d7ed64ecaa12371c6c355a0f2",
       "value": " 415/415 [00:00&lt;00:00, 3408.97it/s]"
      }
     },
     "7347e2c4da004b15982e3b570d9eb933": {
      "model_module": "@jupyter-widgets/controls",
      "model_module_version": "1.5.0",
      "model_name": "DescriptionStyleModel",
      "state": {
       "description_width": ""
      }
     },
     "73b0b1898c40449abb85a7a1ed1e910c": {
      "model_module": "@jupyter-widgets/base",
      "model_module_version": "1.2.0",
      "model_name": "LayoutModel",
      "state": {}
     },
     "7424d78b1f374ee4b955512604180206": {
      "model_module": "@jupyter-widgets/controls",
      "model_module_version": "1.5.0",
      "model_name": "FloatProgressModel",
      "state": {
       "bar_style": "success",
       "layout": "IPY_MODEL_66b0391f23824740b2d6d086fed7c6ea",
       "max": 415,
       "style": "IPY_MODEL_ae5ee1dbbf084825b0bb390fb5fd4055",
       "value": 415
      }
     },
     "74cc53201ba74a41b3e4ac1885dafd7a": {
      "model_module": "@jupyter-widgets/controls",
      "model_module_version": "1.5.0",
      "model_name": "DescriptionStyleModel",
      "state": {
       "description_width": ""
      }
     },
     "75fbd4c5d6774ffdad12b15ec53706fe": {
      "model_module": "@jupyter-widgets/controls",
      "model_module_version": "1.5.0",
      "model_name": "DescriptionStyleModel",
      "state": {
       "description_width": ""
      }
     },
     "761813c714aa4cdcb9fe2500c4fc83e2": {
      "model_module": "@jupyter-widgets/controls",
      "model_module_version": "1.5.0",
      "model_name": "ProgressStyleModel",
      "state": {
       "description_width": ""
      }
     },
     "7780ae32bb9d41a99177187ba7c35eb5": {
      "model_module": "@jupyter-widgets/controls",
      "model_module_version": "1.5.0",
      "model_name": "HTMLModel",
      "state": {
       "layout": "IPY_MODEL_5871c954432842f28fb84c40f8779231",
       "style": "IPY_MODEL_bd1b3d8752044f2ba180a649d1e2cf5d",
       "value": "100%"
      }
     },
     "778dc967d8fa4360854b3a36ede3dece": {
      "model_module": "@jupyter-widgets/controls",
      "model_module_version": "1.5.0",
      "model_name": "FloatProgressModel",
      "state": {
       "bar_style": "success",
       "layout": "IPY_MODEL_577a859e7dca4cf9945cfbc603c20563",
       "max": 415,
       "style": "IPY_MODEL_ac2280f5fb8b45ee83671a0f62166397",
       "value": 415
      }
     },
     "77d8806de47b413fb796428278d848ff": {
      "model_module": "@jupyter-widgets/base",
      "model_module_version": "1.2.0",
      "model_name": "LayoutModel",
      "state": {}
     },
     "78e17600a20547629f18fa1f92647751": {
      "model_module": "@jupyter-widgets/controls",
      "model_module_version": "1.5.0",
      "model_name": "FloatProgressModel",
      "state": {
       "bar_style": "success",
       "layout": "IPY_MODEL_f5ca233d81e9477d8a106bacb1ecb1ac",
       "max": 415,
       "style": "IPY_MODEL_99a3e30788854c88b6c4f891b3db03eb",
       "value": 415
      }
     },
     "79a91d4f3ea64c7e95e48d63c33b0f33": {
      "model_module": "@jupyter-widgets/controls",
      "model_module_version": "1.5.0",
      "model_name": "HTMLModel",
      "state": {
       "layout": "IPY_MODEL_cbe0ae05df89404f8f8189e1eff34ed0",
       "style": "IPY_MODEL_5baf789b87724162bbae49f48a479d3c",
       "value": " 415/415 [00:00&lt;00:00, 2535.60it/s]"
      }
     },
     "7b622ead6a814b4da0af303da3da7f4f": {
      "model_module": "@jupyter-widgets/base",
      "model_module_version": "1.2.0",
      "model_name": "LayoutModel",
      "state": {}
     },
     "7c3ab66e1af24507b03d816f18f2fc7a": {
      "model_module": "@jupyter-widgets/base",
      "model_module_version": "1.2.0",
      "model_name": "LayoutModel",
      "state": {}
     },
     "7c428b89cbc0453c8c01269a20b2d92a": {
      "model_module": "@jupyter-widgets/base",
      "model_module_version": "1.2.0",
      "model_name": "LayoutModel",
      "state": {}
     },
     "7c5574eeff6b42f19b0adf2660d0a0c8": {
      "model_module": "@jupyter-widgets/base",
      "model_module_version": "1.2.0",
      "model_name": "LayoutModel",
      "state": {}
     },
     "7e5e09d82af64f208b43bc4ef79bb79c": {
      "model_module": "@jupyter-widgets/base",
      "model_module_version": "1.2.0",
      "model_name": "LayoutModel",
      "state": {}
     },
     "7f2fdfffea1c4214a87fa8930677692d": {
      "model_module": "@jupyter-widgets/base",
      "model_module_version": "1.2.0",
      "model_name": "LayoutModel",
      "state": {}
     },
     "80d928ab5e2e4f57a152b5302a49f495": {
      "model_module": "@jupyter-widgets/controls",
      "model_module_version": "1.5.0",
      "model_name": "ProgressStyleModel",
      "state": {
       "description_width": ""
      }
     },
     "811b64b311f24a41a6ab6443ab773ed2": {
      "model_module": "@jupyter-widgets/controls",
      "model_module_version": "1.5.0",
      "model_name": "ProgressStyleModel",
      "state": {
       "description_width": ""
      }
     },
     "82540051af054e2292c90fe445558da1": {
      "model_module": "@jupyter-widgets/controls",
      "model_module_version": "1.5.0",
      "model_name": "FloatProgressModel",
      "state": {
       "bar_style": "success",
       "layout": "IPY_MODEL_98d4f3e9f89c48e9a6590e6f4a5ba50b",
       "max": 415,
       "style": "IPY_MODEL_80d928ab5e2e4f57a152b5302a49f495",
       "value": 415
      }
     },
     "83a9390327de4f4182f021f74b356a85": {
      "model_module": "@jupyter-widgets/base",
      "model_module_version": "1.2.0",
      "model_name": "LayoutModel",
      "state": {}
     },
     "84496e73ccb24cb6bd81fb8b52b43189": {
      "model_module": "@jupyter-widgets/controls",
      "model_module_version": "1.5.0",
      "model_name": "HTMLModel",
      "state": {
       "layout": "IPY_MODEL_96d6eae873e3479fb89271e2dd1819f1",
       "style": "IPY_MODEL_324cf8e9cfa6421dafb852142a02c36c",
       "value": "100%"
      }
     },
     "8507dbcfc4f14340bafa6b0baab5e782": {
      "model_module": "@jupyter-widgets/controls",
      "model_module_version": "1.5.0",
      "model_name": "FloatProgressModel",
      "state": {
       "bar_style": "success",
       "layout": "IPY_MODEL_65b9fe59cdbf43649b08510d0e830bdb",
       "max": 415,
       "style": "IPY_MODEL_67e5b2a3cd7b401cbb900e5d4f3f4677",
       "value": 415
      }
     },
     "85da05c30bc94b32b3105a205cf3bbed": {
      "model_module": "@jupyter-widgets/controls",
      "model_module_version": "1.5.0",
      "model_name": "HTMLModel",
      "state": {
       "layout": "IPY_MODEL_7c428b89cbc0453c8c01269a20b2d92a",
       "style": "IPY_MODEL_a20d186e9c734cc4880a803017f5a561",
       "value": "100%"
      }
     },
     "85e70d76b3fd412485cdd3f64dc0c088": {
      "model_module": "@jupyter-widgets/base",
      "model_module_version": "1.2.0",
      "model_name": "LayoutModel",
      "state": {}
     },
     "868beff75803458db8270a13da21f7d3": {
      "model_module": "@jupyter-widgets/controls",
      "model_module_version": "1.5.0",
      "model_name": "DescriptionStyleModel",
      "state": {
       "description_width": ""
      }
     },
     "88a24cd06d184c07a3550eefe3b269fe": {
      "model_module": "@jupyter-widgets/controls",
      "model_module_version": "1.5.0",
      "model_name": "FloatProgressModel",
      "state": {
       "bar_style": "success",
       "layout": "IPY_MODEL_2a63deacc5fe4047a3360ced3ac9d5c9",
       "max": 415,
       "style": "IPY_MODEL_5db6c3b9c4da49ee8e49901ae4b7165e",
       "value": 415
      }
     },
     "88a82e0d954f4e31957561838e02be0e": {
      "model_module": "@jupyter-widgets/controls",
      "model_module_version": "1.5.0",
      "model_name": "HTMLModel",
      "state": {
       "layout": "IPY_MODEL_c12ea9531d4045bfafb9d6c38e9673e4",
       "style": "IPY_MODEL_3127ab2300514aba80157f06ff1bf5a8",
       "value": "100%"
      }
     },
     "898a3c395a2147869ad5ffe448053081": {
      "model_module": "@jupyter-widgets/base",
      "model_module_version": "1.2.0",
      "model_name": "LayoutModel",
      "state": {}
     },
     "8a40e8fc6d6543d3ac158e5b3c23fe50": {
      "model_module": "@jupyter-widgets/controls",
      "model_module_version": "1.5.0",
      "model_name": "HTMLModel",
      "state": {
       "layout": "IPY_MODEL_73b0b1898c40449abb85a7a1ed1e910c",
       "style": "IPY_MODEL_3dbbfb7a6a6c4d4ea0eb0c0ff1470060",
       "value": "100%"
      }
     },
     "8aa52763334d41df9f311c9f7536790b": {
      "model_module": "@jupyter-widgets/controls",
      "model_module_version": "1.5.0",
      "model_name": "HTMLModel",
      "state": {
       "layout": "IPY_MODEL_0689d0d9942846189e091dfb31ed02bc",
       "style": "IPY_MODEL_7347e2c4da004b15982e3b570d9eb933",
       "value": " 415/415 [00:00&lt;00:00, 2518.59it/s]"
      }
     },
     "8ac0c767e6c6446d8d13419e433402ea": {
      "model_module": "@jupyter-widgets/controls",
      "model_module_version": "1.5.0",
      "model_name": "DescriptionStyleModel",
      "state": {
       "description_width": ""
      }
     },
     "8b39d001c47e414cadb5f30bbeb79f15": {
      "model_module": "@jupyter-widgets/base",
      "model_module_version": "1.2.0",
      "model_name": "LayoutModel",
      "state": {}
     },
     "8ca9286e54d74ebdac0ea8004ab67d8d": {
      "model_module": "@jupyter-widgets/base",
      "model_module_version": "1.2.0",
      "model_name": "LayoutModel",
      "state": {}
     },
     "8cb03a0cde534ad98c90389ca9676838": {
      "model_module": "@jupyter-widgets/base",
      "model_module_version": "1.2.0",
      "model_name": "LayoutModel",
      "state": {}
     },
     "8d84b7ab75714f32822d5f7316af185f": {
      "model_module": "@jupyter-widgets/base",
      "model_module_version": "1.2.0",
      "model_name": "LayoutModel",
      "state": {}
     },
     "8db4ff61e92e4a3797718af0d07a3ead": {
      "model_module": "@jupyter-widgets/controls",
      "model_module_version": "1.5.0",
      "model_name": "HBoxModel",
      "state": {
       "children": [
        "IPY_MODEL_a1e0e39be18a4ec5bc2d6df06db8adbf",
        "IPY_MODEL_90190f2b6df24281a1b70aab51243c39",
        "IPY_MODEL_bd6ee97a583d43258d07dd4fb6e76d28"
       ],
       "layout": "IPY_MODEL_5597c051a3a8403ea554c30529145664"
      }
     },
     "8dece75b25f14f419d228e3c82fa4e81": {
      "model_module": "@jupyter-widgets/controls",
      "model_module_version": "1.5.0",
      "model_name": "FloatProgressModel",
      "state": {
       "bar_style": "success",
       "layout": "IPY_MODEL_0ec10aaa5113420e9ad2fca218979336",
       "max": 415,
       "style": "IPY_MODEL_244fcc25eefc4acf87eb494c1ca2fc91",
       "value": 415
      }
     },
     "8f250410844649909390e6bf86039464": {
      "model_module": "@jupyter-widgets/controls",
      "model_module_version": "1.5.0",
      "model_name": "DescriptionStyleModel",
      "state": {
       "description_width": ""
      }
     },
     "8f535b720f58434a93c4d2187829f26e": {
      "model_module": "@jupyter-widgets/controls",
      "model_module_version": "1.5.0",
      "model_name": "HTMLModel",
      "state": {
       "layout": "IPY_MODEL_0821703bd5854da4a4d60bd9a4513adc",
       "style": "IPY_MODEL_c68b3de14269408e94b0415294d2e958",
       "value": "100%"
      }
     },
     "90190f2b6df24281a1b70aab51243c39": {
      "model_module": "@jupyter-widgets/controls",
      "model_module_version": "1.5.0",
      "model_name": "FloatProgressModel",
      "state": {
       "bar_style": "success",
       "layout": "IPY_MODEL_1fd0802079f94a5480dfbade4f074c0a",
       "max": 415,
       "style": "IPY_MODEL_4e8d6d002d94410f92b0e67a37aa841a",
       "value": 415
      }
     },
     "912bf633513d4cb19cf1affe201522b4": {
      "model_module": "@jupyter-widgets/controls",
      "model_module_version": "1.5.0",
      "model_name": "HTMLModel",
      "state": {
       "layout": "IPY_MODEL_83a9390327de4f4182f021f74b356a85",
       "style": "IPY_MODEL_25859f6c7da24c2482956719164bfcca",
       "value": " 415/415 [00:00&lt;00:00, 2470.11it/s]"
      }
     },
     "914d6588abed4a378a94a3e72899bb42": {
      "model_module": "@jupyter-widgets/controls",
      "model_module_version": "1.5.0",
      "model_name": "ProgressStyleModel",
      "state": {
       "description_width": ""
      }
     },
     "9153caa9ceba44b7b4fbba305ddee861": {
      "model_module": "@jupyter-widgets/controls",
      "model_module_version": "1.5.0",
      "model_name": "HTMLModel",
      "state": {
       "layout": "IPY_MODEL_a1b14019e5d44f3596d1dcf5d6b68ec2",
       "style": "IPY_MODEL_6642796583074dc282e2375212981157",
       "value": " 415/415 [00:00&lt;00:00, 2503.66it/s]"
      }
     },
     "919cb6d185934bd6834b59b34147a7b4": {
      "model_module": "@jupyter-widgets/controls",
      "model_module_version": "1.5.0",
      "model_name": "ProgressStyleModel",
      "state": {
       "description_width": ""
      }
     },
     "92427f03672546f3a8ff8547537d6ea1": {
      "model_module": "@jupyter-widgets/controls",
      "model_module_version": "1.5.0",
      "model_name": "DescriptionStyleModel",
      "state": {
       "description_width": ""
      }
     },
     "9443d69e856342d8877433ad616a9b94": {
      "model_module": "@jupyter-widgets/base",
      "model_module_version": "1.2.0",
      "model_name": "LayoutModel",
      "state": {}
     },
     "95190046cb404155b9a212602a9dce23": {
      "model_module": "@jupyter-widgets/controls",
      "model_module_version": "1.5.0",
      "model_name": "ProgressStyleModel",
      "state": {
       "description_width": ""
      }
     },
     "9599be09ed96495999048779a2673b5d": {
      "model_module": "@jupyter-widgets/controls",
      "model_module_version": "1.5.0",
      "model_name": "DescriptionStyleModel",
      "state": {
       "description_width": ""
      }
     },
     "95e5890e34b1458ca8f5d08c54a117f6": {
      "model_module": "@jupyter-widgets/base",
      "model_module_version": "1.2.0",
      "model_name": "LayoutModel",
      "state": {}
     },
     "968c943b69fe468d8728a933a2cc7879": {
      "model_module": "@jupyter-widgets/controls",
      "model_module_version": "1.5.0",
      "model_name": "FloatProgressModel",
      "state": {
       "bar_style": "success",
       "layout": "IPY_MODEL_ef0a1fa47a9a4cd0b659527b2ec4241a",
       "max": 415,
       "style": "IPY_MODEL_0ec87e2c20194f6cad587c12a73c557c",
       "value": 415
      }
     },
     "96d1ca6d979c49d0b6afe38f6a8e87ff": {
      "model_module": "@jupyter-widgets/controls",
      "model_module_version": "1.5.0",
      "model_name": "ProgressStyleModel",
      "state": {
       "description_width": ""
      }
     },
     "96d6eae873e3479fb89271e2dd1819f1": {
      "model_module": "@jupyter-widgets/base",
      "model_module_version": "1.2.0",
      "model_name": "LayoutModel",
      "state": {}
     },
     "9815f4ba3c2949848fbf7d1c04929c27": {
      "model_module": "@jupyter-widgets/base",
      "model_module_version": "1.2.0",
      "model_name": "LayoutModel",
      "state": {}
     },
     "9860a00f65bd4067a26b9dbe4f4d389f": {
      "model_module": "@jupyter-widgets/base",
      "model_module_version": "1.2.0",
      "model_name": "LayoutModel",
      "state": {}
     },
     "98d4f3e9f89c48e9a6590e6f4a5ba50b": {
      "model_module": "@jupyter-widgets/base",
      "model_module_version": "1.2.0",
      "model_name": "LayoutModel",
      "state": {}
     },
     "99a3e30788854c88b6c4f891b3db03eb": {
      "model_module": "@jupyter-widgets/controls",
      "model_module_version": "1.5.0",
      "model_name": "ProgressStyleModel",
      "state": {
       "description_width": ""
      }
     },
     "9a00aa07e8bb470881f1dd288fb946b9": {
      "model_module": "@jupyter-widgets/controls",
      "model_module_version": "1.5.0",
      "model_name": "HTMLModel",
      "state": {
       "layout": "IPY_MODEL_14493d2e411c498cb40dbd49cc417ca3",
       "style": "IPY_MODEL_9599be09ed96495999048779a2673b5d",
       "value": " 415/415 [00:00&lt;00:00, 2507.05it/s]"
      }
     },
     "9af49441b679493aa4e1bb06a9496314": {
      "model_module": "@jupyter-widgets/controls",
      "model_module_version": "1.5.0",
      "model_name": "HTMLModel",
      "state": {
       "layout": "IPY_MODEL_77d8806de47b413fb796428278d848ff",
       "style": "IPY_MODEL_92427f03672546f3a8ff8547537d6ea1",
       "value": " 415/415 [00:00&lt;00:00, 3396.79it/s]"
      }
     },
     "9bd4c909f94f46dca820dc05aa9506d6": {
      "model_module": "@jupyter-widgets/base",
      "model_module_version": "1.2.0",
      "model_name": "LayoutModel",
      "state": {}
     },
     "9f4623063eef4180bc041e355d2d476b": {
      "model_module": "@jupyter-widgets/controls",
      "model_module_version": "1.5.0",
      "model_name": "HTMLModel",
      "state": {
       "layout": "IPY_MODEL_7f2fdfffea1c4214a87fa8930677692d",
       "style": "IPY_MODEL_bf9dd25478c741fd9da6a59279840b50",
       "value": "100%"
      }
     },
     "9f58132fe52e42e091a52afda7efcc58": {
      "model_module": "@jupyter-widgets/base",
      "model_module_version": "1.2.0",
      "model_name": "LayoutModel",
      "state": {}
     },
     "a1b14019e5d44f3596d1dcf5d6b68ec2": {
      "model_module": "@jupyter-widgets/base",
      "model_module_version": "1.2.0",
      "model_name": "LayoutModel",
      "state": {}
     },
     "a1e0e39be18a4ec5bc2d6df06db8adbf": {
      "model_module": "@jupyter-widgets/controls",
      "model_module_version": "1.5.0",
      "model_name": "HTMLModel",
      "state": {
       "layout": "IPY_MODEL_f05b0ea0a720490f9026feae587ef6e6",
       "style": "IPY_MODEL_53136e80f229410dacf676264947cfda",
       "value": "100%"
      }
     },
     "a20d186e9c734cc4880a803017f5a561": {
      "model_module": "@jupyter-widgets/controls",
      "model_module_version": "1.5.0",
      "model_name": "DescriptionStyleModel",
      "state": {
       "description_width": ""
      }
     },
     "a3af1dd0007f42cba83a6588142bc29f": {
      "model_module": "@jupyter-widgets/controls",
      "model_module_version": "1.5.0",
      "model_name": "HTMLModel",
      "state": {
       "layout": "IPY_MODEL_0d11c2ea08204915a2eb73e4de18c966",
       "style": "IPY_MODEL_2837ac295a8048b4894a642aa49e709e",
       "value": " 415/415 [00:00&lt;00:00, 3453.24it/s]"
      }
     },
     "a4d4dcbea6d2448ba674a768caa331bf": {
      "model_module": "@jupyter-widgets/controls",
      "model_module_version": "1.5.0",
      "model_name": "HTMLModel",
      "state": {
       "layout": "IPY_MODEL_7b622ead6a814b4da0af303da3da7f4f",
       "style": "IPY_MODEL_8ac0c767e6c6446d8d13419e433402ea",
       "value": "100%"
      }
     },
     "a4dfd3effdfd4dfb91405ec426df2198": {
      "model_module": "@jupyter-widgets/controls",
      "model_module_version": "1.5.0",
      "model_name": "HTMLModel",
      "state": {
       "layout": "IPY_MODEL_4b4d1cc03bfd4148b219b859ccbc227b",
       "style": "IPY_MODEL_ee1b4aa6debd44a4be4e1c0cf6ede248",
       "value": "100%"
      }
     },
     "a579a557a1e047a8bb1151240eb0512c": {
      "model_module": "@jupyter-widgets/base",
      "model_module_version": "1.2.0",
      "model_name": "LayoutModel",
      "state": {}
     },
     "a625bae85eb54660a4b844deeb0f9e1e": {
      "model_module": "@jupyter-widgets/base",
      "model_module_version": "1.2.0",
      "model_name": "LayoutModel",
      "state": {}
     },
     "a6f51dd3de6f4ccebc6ce136dfd194ae": {
      "model_module": "@jupyter-widgets/controls",
      "model_module_version": "1.5.0",
      "model_name": "FloatProgressModel",
      "state": {
       "bar_style": "success",
       "layout": "IPY_MODEL_50a80b387c2348ea91d54f90521e6681",
       "max": 415,
       "style": "IPY_MODEL_210bf8452cfd4e779cebeef7c73617f8",
       "value": 415
      }
     },
     "a7e3062189a4434c9dd2f6214a8f78ca": {
      "model_module": "@jupyter-widgets/controls",
      "model_module_version": "1.5.0",
      "model_name": "HBoxModel",
      "state": {
       "children": [
        "IPY_MODEL_b407572502c3414cbbd3de54edfc0c85",
        "IPY_MODEL_686224b07a694d4c800b26d711f36aeb",
        "IPY_MODEL_ed55a4835b4e459a94ab54399d4eaafc"
       ],
       "layout": "IPY_MODEL_a625bae85eb54660a4b844deeb0f9e1e"
      }
     },
     "a893f261e4b54978a5b4e95c6cdd2a4f": {
      "model_module": "@jupyter-widgets/base",
      "model_module_version": "1.2.0",
      "model_name": "LayoutModel",
      "state": {}
     },
     "a8a8cb0014f7494cb3f8da55845e8e93": {
      "model_module": "@jupyter-widgets/base",
      "model_module_version": "1.2.0",
      "model_name": "LayoutModel",
      "state": {}
     },
     "a9f1991c05c94d81849f9b2b9a964c4b": {
      "model_module": "@jupyter-widgets/base",
      "model_module_version": "1.2.0",
      "model_name": "LayoutModel",
      "state": {}
     },
     "ac2280f5fb8b45ee83671a0f62166397": {
      "model_module": "@jupyter-widgets/controls",
      "model_module_version": "1.5.0",
      "model_name": "ProgressStyleModel",
      "state": {
       "description_width": ""
      }
     },
     "acbba215c72c482c87e45b211a0b1127": {
      "model_module": "@jupyter-widgets/controls",
      "model_module_version": "1.5.0",
      "model_name": "FloatProgressModel",
      "state": {
       "bar_style": "success",
       "layout": "IPY_MODEL_36869ce396ce451e9545074a466ff950",
       "max": 415,
       "style": "IPY_MODEL_96d1ca6d979c49d0b6afe38f6a8e87ff",
       "value": 415
      }
     },
     "ad0c756dd2e346049c2e04ae94e2a7fa": {
      "model_module": "@jupyter-widgets/base",
      "model_module_version": "1.2.0",
      "model_name": "LayoutModel",
      "state": {}
     },
     "ae5ee1dbbf084825b0bb390fb5fd4055": {
      "model_module": "@jupyter-widgets/controls",
      "model_module_version": "1.5.0",
      "model_name": "ProgressStyleModel",
      "state": {
       "description_width": ""
      }
     },
     "affd81085de94d309dee8bb8a5b3f065": {
      "model_module": "@jupyter-widgets/base",
      "model_module_version": "1.2.0",
      "model_name": "LayoutModel",
      "state": {}
     },
     "b22984fcd1e34a9597eb867fb86e3610": {
      "model_module": "@jupyter-widgets/base",
      "model_module_version": "1.2.0",
      "model_name": "LayoutModel",
      "state": {}
     },
     "b39693c9fdd14353bd75ed3e473cea4a": {
      "model_module": "@jupyter-widgets/controls",
      "model_module_version": "1.5.0",
      "model_name": "HTMLModel",
      "state": {
       "layout": "IPY_MODEL_e42130cf9ad04db8a33d9f07a053b509",
       "style": "IPY_MODEL_74cc53201ba74a41b3e4ac1885dafd7a",
       "value": "100%"
      }
     },
     "b407572502c3414cbbd3de54edfc0c85": {
      "model_module": "@jupyter-widgets/controls",
      "model_module_version": "1.5.0",
      "model_name": "HTMLModel",
      "state": {
       "layout": "IPY_MODEL_3901e1d313454866bb2f910626c67509",
       "style": "IPY_MODEL_75fbd4c5d6774ffdad12b15ec53706fe",
       "value": "100%"
      }
     },
     "b4c59b0afc214705a000519c49e0af5e": {
      "model_module": "@jupyter-widgets/controls",
      "model_module_version": "1.5.0",
      "model_name": "HBoxModel",
      "state": {
       "children": [
        "IPY_MODEL_88a82e0d954f4e31957561838e02be0e",
        "IPY_MODEL_ba9bf237e99b41888be7cf1350355724",
        "IPY_MODEL_45e84950970e4f4fa0caa89055a137ce"
       ],
       "layout": "IPY_MODEL_ad0c756dd2e346049c2e04ae94e2a7fa"
      }
     },
     "b53960c28f1941e189eb2a665b151744": {
      "model_module": "@jupyter-widgets/controls",
      "model_module_version": "1.5.0",
      "model_name": "HTMLModel",
      "state": {
       "layout": "IPY_MODEL_678c0f1e769544b485df32790e32499c",
       "style": "IPY_MODEL_f6cb60a74bb442b8974cd27c7550da5b",
       "value": " 415/415 [00:00&lt;00:00, 2452.67it/s]"
      }
     },
     "b6e5e511bd494f39ba5b9fc925b3257f": {
      "model_module": "@jupyter-widgets/controls",
      "model_module_version": "1.5.0",
      "model_name": "HBoxModel",
      "state": {
       "children": [
        "IPY_MODEL_7780ae32bb9d41a99177187ba7c35eb5",
        "IPY_MODEL_64cfdc6306a545c9af6bd5c46eb8347c",
        "IPY_MODEL_4b9ec353d5534d88bfe0120f0e50e356"
       ],
       "layout": "IPY_MODEL_0de003a060864f9081696e5dcd756e5f"
      }
     },
     "b7f2240c5fe0498aa509cdfa3a2f3fee": {
      "model_module": "@jupyter-widgets/base",
      "model_module_version": "1.2.0",
      "model_name": "LayoutModel",
      "state": {}
     },
     "b8976f94950841ffae916a43f8ca953a": {
      "model_module": "@jupyter-widgets/controls",
      "model_module_version": "1.5.0",
      "model_name": "DescriptionStyleModel",
      "state": {
       "description_width": ""
      }
     },
     "b94a32b129d949e98a85f9482309c05d": {
      "model_module": "@jupyter-widgets/controls",
      "model_module_version": "1.5.0",
      "model_name": "HBoxModel",
      "state": {
       "children": [
        "IPY_MODEL_a4dfd3effdfd4dfb91405ec426df2198",
        "IPY_MODEL_8dece75b25f14f419d228e3c82fa4e81",
        "IPY_MODEL_9a00aa07e8bb470881f1dd288fb946b9"
       ],
       "layout": "IPY_MODEL_ff09bcda881042f28cf9ec300a337cc8"
      }
     },
     "b9a06f821f484af1b831029829152202": {
      "model_module": "@jupyter-widgets/controls",
      "model_module_version": "1.5.0",
      "model_name": "ProgressStyleModel",
      "state": {
       "description_width": ""
      }
     },
     "b9a543e4cf154068b69d4037f8021f0c": {
      "model_module": "@jupyter-widgets/controls",
      "model_module_version": "1.5.0",
      "model_name": "DescriptionStyleModel",
      "state": {
       "description_width": ""
      }
     },
     "ba0c8b1d7ed64ecaa12371c6c355a0f2": {
      "model_module": "@jupyter-widgets/controls",
      "model_module_version": "1.5.0",
      "model_name": "DescriptionStyleModel",
      "state": {
       "description_width": ""
      }
     },
     "ba9bf237e99b41888be7cf1350355724": {
      "model_module": "@jupyter-widgets/controls",
      "model_module_version": "1.5.0",
      "model_name": "FloatProgressModel",
      "state": {
       "bar_style": "success",
       "layout": "IPY_MODEL_2f0271c24f5247b88d5f5da9bfac5f9d",
       "max": 415,
       "style": "IPY_MODEL_919cb6d185934bd6834b59b34147a7b4",
       "value": 415
      }
     },
     "bd1b3d8752044f2ba180a649d1e2cf5d": {
      "model_module": "@jupyter-widgets/controls",
      "model_module_version": "1.5.0",
      "model_name": "DescriptionStyleModel",
      "state": {
       "description_width": ""
      }
     },
     "bd6ee97a583d43258d07dd4fb6e76d28": {
      "model_module": "@jupyter-widgets/controls",
      "model_module_version": "1.5.0",
      "model_name": "HTMLModel",
      "state": {
       "layout": "IPY_MODEL_f3bead3f0bc84445a499133cbff144d4",
       "style": "IPY_MODEL_35c37f6ec8544406859819f623154e74",
       "value": " 415/415 [00:00&lt;00:00, 2429.16it/s]"
      }
     },
     "be64b1a46a394f6bb6d0e021c085ea88": {
      "model_module": "@jupyter-widgets/controls",
      "model_module_version": "1.5.0",
      "model_name": "HTMLModel",
      "state": {
       "layout": "IPY_MODEL_16383d09d00842109de83d03ca5d75c8",
       "style": "IPY_MODEL_b8976f94950841ffae916a43f8ca953a",
       "value": "100%"
      }
     },
     "bf9dd25478c741fd9da6a59279840b50": {
      "model_module": "@jupyter-widgets/controls",
      "model_module_version": "1.5.0",
      "model_name": "DescriptionStyleModel",
      "state": {
       "description_width": ""
      }
     },
     "c01d01fb815a46bc8824cf352b2a29d2": {
      "model_module": "@jupyter-widgets/controls",
      "model_module_version": "1.5.0",
      "model_name": "HTMLModel",
      "state": {
       "layout": "IPY_MODEL_d32633623c5d4d97bfb7eef81060f243",
       "style": "IPY_MODEL_19ee7cd2b0f0426e9885987015b3ceef",
       "value": "100%"
      }
     },
     "c02f6626a02848bd85b5645cd5d1d829": {
      "model_module": "@jupyter-widgets/controls",
      "model_module_version": "1.5.0",
      "model_name": "HTMLModel",
      "state": {
       "layout": "IPY_MODEL_f8e16fe212984e68b42ca90ed3523d4d",
       "style": "IPY_MODEL_c81c4061547f441f9b2f8ef4e7f09845",
       "value": "100%"
      }
     },
     "c12ea9531d4045bfafb9d6c38e9673e4": {
      "model_module": "@jupyter-widgets/base",
      "model_module_version": "1.2.0",
      "model_name": "LayoutModel",
      "state": {}
     },
     "c3a5b068a736431f9e7d980ba6272ebb": {
      "model_module": "@jupyter-widgets/controls",
      "model_module_version": "1.5.0",
      "model_name": "DescriptionStyleModel",
      "state": {
       "description_width": ""
      }
     },
     "c68b3de14269408e94b0415294d2e958": {
      "model_module": "@jupyter-widgets/controls",
      "model_module_version": "1.5.0",
      "model_name": "DescriptionStyleModel",
      "state": {
       "description_width": ""
      }
     },
     "c6bde98e2dc74fc7b527f2c5dae00d4b": {
      "model_module": "@jupyter-widgets/controls",
      "model_module_version": "1.5.0",
      "model_name": "DescriptionStyleModel",
      "state": {
       "description_width": ""
      }
     },
     "c81c4061547f441f9b2f8ef4e7f09845": {
      "model_module": "@jupyter-widgets/controls",
      "model_module_version": "1.5.0",
      "model_name": "DescriptionStyleModel",
      "state": {
       "description_width": ""
      }
     },
     "c96198b41fc5481f9772134cc4e1213c": {
      "model_module": "@jupyter-widgets/controls",
      "model_module_version": "1.5.0",
      "model_name": "HBoxModel",
      "state": {
       "children": [
        "IPY_MODEL_1ef5fa216e3c450da58fefe46a3d0220",
        "IPY_MODEL_a6f51dd3de6f4ccebc6ce136dfd194ae",
        "IPY_MODEL_79a91d4f3ea64c7e95e48d63c33b0f33"
       ],
       "layout": "IPY_MODEL_95e5890e34b1458ca8f5d08c54a117f6"
      }
     },
     "ca3796c0a8f048749efa8c604bf40185": {
      "model_module": "@jupyter-widgets/base",
      "model_module_version": "1.2.0",
      "model_name": "LayoutModel",
      "state": {}
     },
     "cbbfa03350ad41fb8c37521084c1fc32": {
      "model_module": "@jupyter-widgets/controls",
      "model_module_version": "1.5.0",
      "model_name": "HTMLModel",
      "state": {
       "layout": "IPY_MODEL_05bbb2995ca345cab86e5e00448f6a68",
       "style": "IPY_MODEL_fcbbc341ab7d4ccba29360dbe3e0568e",
       "value": "100%"
      }
     },
     "cbe0ae05df89404f8f8189e1eff34ed0": {
      "model_module": "@jupyter-widgets/base",
      "model_module_version": "1.2.0",
      "model_name": "LayoutModel",
      "state": {}
     },
     "cc3c8b5bfe604c53adc8812f5d072785": {
      "model_module": "@jupyter-widgets/base",
      "model_module_version": "1.2.0",
      "model_name": "LayoutModel",
      "state": {}
     },
     "cc9d55270164496bb67fac288c9fe016": {
      "model_module": "@jupyter-widgets/base",
      "model_module_version": "1.2.0",
      "model_name": "LayoutModel",
      "state": {}
     },
     "cef9bda623464074846301f5346d2f8f": {
      "model_module": "@jupyter-widgets/base",
      "model_module_version": "1.2.0",
      "model_name": "LayoutModel",
      "state": {}
     },
     "d0d954e6cd4742f8a7a4a12c53a71482": {
      "model_module": "@jupyter-widgets/controls",
      "model_module_version": "1.5.0",
      "model_name": "HTMLModel",
      "state": {
       "layout": "IPY_MODEL_1ed011e2cabe4a2792a240c206d4d651",
       "style": "IPY_MODEL_1c8e0d6a60af4a128b0915e82f39f9cb",
       "value": " 415/415 [00:00&lt;00:00, 2406.04it/s]"
      }
     },
     "d29b669e21374ab4bfecdff40f3cac5e": {
      "model_module": "@jupyter-widgets/controls",
      "model_module_version": "1.5.0",
      "model_name": "DescriptionStyleModel",
      "state": {
       "description_width": ""
      }
     },
     "d32633623c5d4d97bfb7eef81060f243": {
      "model_module": "@jupyter-widgets/base",
      "model_module_version": "1.2.0",
      "model_name": "LayoutModel",
      "state": {}
     },
     "d4b1e22aabf445989cf31c6448d39d1d": {
      "model_module": "@jupyter-widgets/controls",
      "model_module_version": "1.5.0",
      "model_name": "FloatProgressModel",
      "state": {
       "bar_style": "success",
       "layout": "IPY_MODEL_4725a4fb844648bf9082cf3386dd951d",
       "max": 415,
       "style": "IPY_MODEL_4bd0de706b0b4d1dae2f9f7469e23607",
       "value": 415
      }
     },
     "d7ff9387113047a096dd8ea52edea373": {
      "model_module": "@jupyter-widgets/controls",
      "model_module_version": "1.5.0",
      "model_name": "HBoxModel",
      "state": {
       "children": [
        "IPY_MODEL_c01d01fb815a46bc8824cf352b2a29d2",
        "IPY_MODEL_d4b1e22aabf445989cf31c6448d39d1d",
        "IPY_MODEL_269b108dccf948f3b34f573a602300b1"
       ],
       "layout": "IPY_MODEL_cc3c8b5bfe604c53adc8812f5d072785"
      }
     },
     "df46571ce8b14cc0bbaf750bd9e06988": {
      "model_module": "@jupyter-widgets/controls",
      "model_module_version": "1.5.0",
      "model_name": "ProgressStyleModel",
      "state": {
       "description_width": ""
      }
     },
     "e05982172b344bc3aa6ddd73506f98ae": {
      "model_module": "@jupyter-widgets/controls",
      "model_module_version": "1.5.0",
      "model_name": "HTMLModel",
      "state": {
       "layout": "IPY_MODEL_7c3ab66e1af24507b03d816f18f2fc7a",
       "style": "IPY_MODEL_b9a543e4cf154068b69d4037f8021f0c",
       "value": " 415/415 [00:00&lt;00:00, 2506.70it/s]"
      }
     },
     "e0d3e479b84a418e807c2b50b271cc6c": {
      "model_module": "@jupyter-widgets/controls",
      "model_module_version": "1.5.0",
      "model_name": "DescriptionStyleModel",
      "state": {
       "description_width": ""
      }
     },
     "e42130cf9ad04db8a33d9f07a053b509": {
      "model_module": "@jupyter-widgets/base",
      "model_module_version": "1.2.0",
      "model_name": "LayoutModel",
      "state": {}
     },
     "e860943a3c93440fa0636f87bf2b6ddb": {
      "model_module": "@jupyter-widgets/base",
      "model_module_version": "1.2.0",
      "model_name": "LayoutModel",
      "state": {}
     },
     "e9be57792e944bf5952014441cb9949d": {
      "model_module": "@jupyter-widgets/controls",
      "model_module_version": "1.5.0",
      "model_name": "FloatProgressModel",
      "state": {
       "bar_style": "success",
       "layout": "IPY_MODEL_41caf86cd7594c92865b245a1d7b0c98",
       "max": 415,
       "style": "IPY_MODEL_811b64b311f24a41a6ab6443ab773ed2",
       "value": 415
      }
     },
     "eb20be0fc3fa4894b337a7e86b199f87": {
      "model_module": "@jupyter-widgets/controls",
      "model_module_version": "1.5.0",
      "model_name": "HBoxModel",
      "state": {
       "children": [
        "IPY_MODEL_8a40e8fc6d6543d3ac158e5b3c23fe50",
        "IPY_MODEL_11f7ac5a7da14685b93974dafc7c6d5a",
        "IPY_MODEL_4e1f04b48ec44054acb08c09b8cfe2a9"
       ],
       "layout": "IPY_MODEL_cc9d55270164496bb67fac288c9fe016"
      }
     },
     "ebb5f5dcad004647a19bef46d7d463b1": {
      "model_module": "@jupyter-widgets/controls",
      "model_module_version": "1.5.0",
      "model_name": "DescriptionStyleModel",
      "state": {
       "description_width": ""
      }
     },
     "ec3dde848db346e6acc64470016d3900": {
      "model_module": "@jupyter-widgets/controls",
      "model_module_version": "1.5.0",
      "model_name": "HBoxModel",
      "state": {
       "children": [
        "IPY_MODEL_85da05c30bc94b32b3105a205cf3bbed",
        "IPY_MODEL_15d30e83d7b14b009f99db22b8aa4af2",
        "IPY_MODEL_3d86ace29f9641ba8993cf5ebdd54eaf"
       ],
       "layout": "IPY_MODEL_53f718eff3524d5eb9259a33db8855c7"
      }
     },
     "ed55a4835b4e459a94ab54399d4eaafc": {
      "model_module": "@jupyter-widgets/controls",
      "model_module_version": "1.5.0",
      "model_name": "HTMLModel",
      "state": {
       "layout": "IPY_MODEL_2ee694100b5e4b36af05bb4dc407c0d6",
       "style": "IPY_MODEL_8f250410844649909390e6bf86039464",
       "value": " 415/415 [00:00&lt;00:00, 2547.24it/s]"
      }
     },
     "ee1b4aa6debd44a4be4e1c0cf6ede248": {
      "model_module": "@jupyter-widgets/controls",
      "model_module_version": "1.5.0",
      "model_name": "DescriptionStyleModel",
      "state": {
       "description_width": ""
      }
     },
     "ef0a1fa47a9a4cd0b659527b2ec4241a": {
      "model_module": "@jupyter-widgets/base",
      "model_module_version": "1.2.0",
      "model_name": "LayoutModel",
      "state": {}
     },
     "f05b0ea0a720490f9026feae587ef6e6": {
      "model_module": "@jupyter-widgets/base",
      "model_module_version": "1.2.0",
      "model_name": "LayoutModel",
      "state": {}
     },
     "f24a9b2c0894427fa339a90986f74381": {
      "model_module": "@jupyter-widgets/controls",
      "model_module_version": "1.5.0",
      "model_name": "ProgressStyleModel",
      "state": {
       "description_width": ""
      }
     },
     "f33e45da32ff47f184cd70af8f15136b": {
      "model_module": "@jupyter-widgets/controls",
      "model_module_version": "1.5.0",
      "model_name": "DescriptionStyleModel",
      "state": {
       "description_width": ""
      }
     },
     "f3bead3f0bc84445a499133cbff144d4": {
      "model_module": "@jupyter-widgets/base",
      "model_module_version": "1.2.0",
      "model_name": "LayoutModel",
      "state": {}
     },
     "f5ca233d81e9477d8a106bacb1ecb1ac": {
      "model_module": "@jupyter-widgets/base",
      "model_module_version": "1.2.0",
      "model_name": "LayoutModel",
      "state": {}
     },
     "f601e24652f141088f682768c2d3585c": {
      "model_module": "@jupyter-widgets/controls",
      "model_module_version": "1.5.0",
      "model_name": "HBoxModel",
      "state": {
       "children": [
        "IPY_MODEL_0e43e824dad846599c6a06f90dcdc5b8",
        "IPY_MODEL_f662449d6231425d9bb1c2371168e4a2",
        "IPY_MODEL_7075d8ba1da04c82afddfbd33cb11ab9"
       ],
       "layout": "IPY_MODEL_7e5e09d82af64f208b43bc4ef79bb79c"
      }
     },
     "f662449d6231425d9bb1c2371168e4a2": {
      "model_module": "@jupyter-widgets/controls",
      "model_module_version": "1.5.0",
      "model_name": "FloatProgressModel",
      "state": {
       "bar_style": "success",
       "layout": "IPY_MODEL_a8a8cb0014f7494cb3f8da55845e8e93",
       "max": 415,
       "style": "IPY_MODEL_df46571ce8b14cc0bbaf750bd9e06988",
       "value": 415
      }
     },
     "f6a6c96fffba48178bcc30b8198d1bda": {
      "model_module": "@jupyter-widgets/controls",
      "model_module_version": "1.5.0",
      "model_name": "HTMLModel",
      "state": {
       "layout": "IPY_MODEL_9815f4ba3c2949848fbf7d1c04929c27",
       "style": "IPY_MODEL_679ef9964b0042e7a2410102625c7006",
       "value": " 415/415 [00:00&lt;00:00, 2460.10it/s]"
      }
     },
     "f6cb60a74bb442b8974cd27c7550da5b": {
      "model_module": "@jupyter-widgets/controls",
      "model_module_version": "1.5.0",
      "model_name": "DescriptionStyleModel",
      "state": {
       "description_width": ""
      }
     },
     "f8e16fe212984e68b42ca90ed3523d4d": {
      "model_module": "@jupyter-widgets/base",
      "model_module_version": "1.2.0",
      "model_name": "LayoutModel",
      "state": {}
     },
     "fcbbc341ab7d4ccba29360dbe3e0568e": {
      "model_module": "@jupyter-widgets/controls",
      "model_module_version": "1.5.0",
      "model_name": "DescriptionStyleModel",
      "state": {
       "description_width": ""
      }
     },
     "ff089740dff94d8ca4326417fdaecfa7": {
      "model_module": "@jupyter-widgets/base",
      "model_module_version": "1.2.0",
      "model_name": "LayoutModel",
      "state": {}
     },
     "ff09bcda881042f28cf9ec300a337cc8": {
      "model_module": "@jupyter-widgets/base",
      "model_module_version": "1.2.0",
      "model_name": "LayoutModel",
      "state": {}
     },
     "ff26a67c8db3467e813fde1c656d6814": {
      "model_module": "@jupyter-widgets/controls",
      "model_module_version": "1.5.0",
      "model_name": "DescriptionStyleModel",
      "state": {
       "description_width": ""
      }
     }
    },
    "version_major": 2,
    "version_minor": 0
   }
  }
 },
 "nbformat": 4,
 "nbformat_minor": 2
}
