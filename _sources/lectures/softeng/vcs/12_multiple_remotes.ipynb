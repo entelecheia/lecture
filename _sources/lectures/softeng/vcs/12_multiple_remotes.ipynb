{
 "cells": [
  {
   "cell_type": "markdown",
   "metadata": {},
   "source": [
    "# 12. Working with multiple remotes\n"
   ]
  },
  {
   "cell_type": "markdown",
   "metadata": {},
   "source": [
    "## Distributed versus centralised\n",
    "\n",
    "Older version control systems (cvs, svn) were \"centralised\"; the history was kept only on a server,\n",
    "and all commits required an internet.\n",
    "\n",
    "| Centralised                      | Distributed                       |\n",
    "| -------------------------------- | --------------------------------- |\n",
    "| Server has history               | Every user has full history       |\n",
    "| Your computer has one snapshot   | Many local branches               |\n",
    "| To access history, need internet | History always available          |\n",
    "| You commit to remote server      | Users synchronise histories       |\n",
    "| cvs, subversion(svn)             | git, mercurial (hg), bazaar (bzr) |\n"
   ]
  },
  {
   "cell_type": "markdown",
   "metadata": {},
   "source": [
    "With modern distributed systems, we can add a second remote. This might be a personal _fork_ on github:\n"
   ]
  },
  {
   "cell_type": "code",
   "execution_count": 1,
   "metadata": {},
   "outputs": [
    {
     "name": "stdout",
     "output_type": "stream",
     "text": [
      "Not running on colab\n",
      "Drive dir: /mnt/nvme1n1p2/home/yj.lee/workspace/projects/lecture/book/lectures/softeng/vcs/drive/MyDrive\n",
      "Git example directory: /mnt/nvme1n1p2/home/yj.lee/workspace/projects/lecture/book/lectures/softeng/vcs/drive/MyDrive/learning_git/git_example\n"
     ]
    }
   ],
   "source": [
    "import os\n",
    "\n",
    "try:\n",
    "    from google.colab import drive  # type: ignore\n",
    "\n",
    "    drive.mount(\"/content/drive\")\n",
    "    drive_dir = \"/content/drive/MyDrive\"\n",
    "except ImportError:\n",
    "    print(\"Not running on colab\")\n",
    "    drive_dir = os.path.join(os.getcwd(), \"drive\", \"MyDrive\")\n",
    "    os.makedirs(drive_dir, exist_ok=True)\n",
    "\n",
    "print(f\"Drive dir: {drive_dir}\")\n",
    "\n",
    "git_dir = os.path.join(drive_dir, \"learning_git\")\n",
    "working_dir = os.path.join(git_dir, \"git_example\")\n",
    "\n",
    "if os.path.exists(working_dir):\n",
    "    print(f\"Git example directory: {working_dir}\")\n",
    "    os.chdir(working_dir)\n",
    "else:\n",
    "    print(\"Start from the beginning\")"
   ]
  },
  {
   "cell_type": "code",
   "execution_count": 2,
   "metadata": {
    "attributes": {
     "classes": [
      " Bash"
     ],
     "id": ""
    }
   },
   "outputs": [
    {
     "name": "stderr",
     "output_type": "stream",
     "text": [
      "Already on 'main'\n"
     ]
    },
    {
     "name": "stdout",
     "output_type": "stream",
     "text": [
      "Your branch is up to date with 'origin/main'.\n"
     ]
    },
    {
     "name": "stderr",
     "output_type": "stream",
     "text": [
      "From https://github.com/entelecheia-ai/github-example\n",
      " * [new branch]      main       -> entelecheia-ai/main\n"
     ]
    }
   ],
   "source": [
    "%%bash\n",
    "git checkout main\n",
    "git remote add entelecheia-ai https://github.com/entelecheia-ai/github-example.git\n",
    "git fetch entelecheia-ai"
   ]
  },
  {
   "cell_type": "markdown",
   "metadata": {},
   "source": [
    "Check your remote branches:\n"
   ]
  },
  {
   "cell_type": "code",
   "execution_count": 3,
   "metadata": {},
   "outputs": [
    {
     "name": "stdout",
     "output_type": "stream",
     "text": [
      "entelecheia-ai\thttps://github.com/entelecheia-ai/github-example.git (fetch)\n",
      "entelecheia-ai\thttps://github.com/entelecheia-ai/github-example.git (push)\n",
      "origin\thttps://github.com/chu-aie/github-example.git (fetch)\n",
      "origin\thttps://github.com/chu-aie/github-example.git (push)\n"
     ]
    }
   ],
   "source": [
    "%%bash\n",
    "git remote -v"
   ]
  },
  {
   "cell_type": "markdown",
   "metadata": {},
   "source": [
    "and ensure that the newly-added remote is up-to-date\n"
   ]
  },
  {
   "cell_type": "code",
   "execution_count": 4,
   "metadata": {},
   "outputs": [],
   "source": [
    "%%bash\n",
    "git fetch entelecheia-ai"
   ]
  },
  {
   "cell_type": "code",
   "execution_count": 5,
   "metadata": {},
   "outputs": [
    {
     "name": "stdout",
     "output_type": "stream",
     "text": [
      "Writing Pennines.md\n"
     ]
    }
   ],
   "source": [
    "%%writefile Pennines.md\n",
    "\n",
    "Mountains In the Pennines\n",
    "========================\n",
    "\n",
    "* Cross Fell\n",
    "* Whernside"
   ]
  },
  {
   "cell_type": "code",
   "execution_count": 6,
   "metadata": {},
   "outputs": [
    {
     "name": "stdout",
     "output_type": "stream",
     "text": [
      "[main 8977bc2] Add Whernside\n",
      " 1 file changed, 6 insertions(+)\n",
      " create mode 100644 Pennines.md\n"
     ]
    }
   ],
   "source": [
    "%%bash\n",
    "git add Pennines.md\n",
    "git commit -am \"Add Whernside\""
   ]
  },
  {
   "cell_type": "markdown",
   "metadata": {},
   "source": [
    "We can specify which remote to push to by name:\n"
   ]
  },
  {
   "cell_type": "code",
   "execution_count": 7,
   "metadata": {},
   "outputs": [
    {
     "name": "stderr",
     "output_type": "stream",
     "text": [
      "To https://github.com/entelecheia-ai/github-example.git\n",
      " ! [remote rejected] main -> main (permission denied)\n",
      "error: failed to push some refs to 'https://github.com/entelecheia-ai/github-example.git'\n"
     ]
    },
    {
     "name": "stdout",
     "output_type": "stream",
     "text": [
      "Push failed\n"
     ]
    }
   ],
   "source": [
    "%%bash\n",
    "git push -uf entelecheia-ai || echo \"Push failed\""
   ]
  },
  {
   "cell_type": "markdown",
   "metadata": {},
   "source": [
    "... but note that you need to have the correct permissions to do so.\n"
   ]
  },
  {
   "cell_type": "code",
   "execution_count": 8,
   "metadata": {},
   "outputs": [
    {
     "name": "stderr",
     "output_type": "stream",
     "text": [
      "To https://github.com/chu-aie/github-example.git\n",
      "   964c673..8977bc2  main -> main\n"
     ]
    },
    {
     "name": "stdout",
     "output_type": "stream",
     "text": [
      "branch 'main' set up to track 'origin/main'.\n"
     ]
    }
   ],
   "source": [
    "%%bash\n",
    "git push -uf origin main"
   ]
  },
  {
   "cell_type": "markdown",
   "metadata": {},
   "source": [
    "## Referencing remotes\n",
    "\n",
    "You can always refer to commits on a remote like this:\n"
   ]
  },
  {
   "cell_type": "code",
   "execution_count": 10,
   "metadata": {},
   "outputs": [
    {
     "name": "stdout",
     "output_type": "stream",
     "text": [
      "> 8977bc2 Add Whernside\n"
     ]
    }
   ],
   "source": [
    "%%bash\n",
    "git fetch\n",
    "git log --oneline --left-right entelecheia-ai/main...origin/main"
   ]
  },
  {
   "cell_type": "markdown",
   "metadata": {},
   "source": [
    "To see the differences between remotes, for example.\n",
    "\n",
    "To see what files you have changed that aren't updated on a particular remote, for example:\n"
   ]
  },
  {
   "cell_type": "code",
   "execution_count": 11,
   "metadata": {},
   "outputs": [],
   "source": [
    "%%bash\n",
    "git diff --name-only origin/main"
   ]
  },
  {
   "cell_type": "markdown",
   "metadata": {},
   "source": [
    "When you reference remotes like this, you're working with a cached copy of the last time you interacted with the remote. You can do `git fetch` to update local data with the remotes without actually pulling. You can also get useful information about whether tracking branches are ahead or behind the remote branches they track:\n"
   ]
  },
  {
   "cell_type": "code",
   "execution_count": 12,
   "metadata": {},
   "outputs": [
    {
     "name": "stdout",
     "output_type": "stream",
     "text": [
      "* main 8977bc2 [origin/main] Add Whernside\n"
     ]
    }
   ],
   "source": [
    "%%bash\n",
    "git branch -vv"
   ]
  },
  {
   "cell_type": "markdown",
   "metadata": {},
   "source": [
    "## Hosting Servers\n",
    "\n",
    "### Hosting a local server\n",
    "\n",
    "- Any repository can be a remote for pulls\n",
    "- Can pull/push over shared folders or ssh\n",
    "- Pushing to someone's working copy is dangerous\n",
    "- Use `git init --bare` to make a copy for pushing\n",
    "- You don't need to create a \"server\" as such, any 'bare' git repo will do.\n"
   ]
  },
  {
   "cell_type": "code",
   "execution_count": 13,
   "metadata": {},
   "outputs": [],
   "source": [
    "bare_dir = os.path.join(git_dir, \"bare_repo\")\n",
    "os.chdir(git_dir)"
   ]
  },
  {
   "cell_type": "code",
   "execution_count": 14,
   "metadata": {},
   "outputs": [
    {
     "name": "stdout",
     "output_type": "stream",
     "text": [
      "Initialized empty Git repository in /raid/cis/yjlee/workspace/projects/lecture/book/lectures/softeng/vcs/learning_git/bare_repo/\n"
     ]
    }
   ],
   "source": [
    "%%bash\n",
    "mkdir -p bare_repo\n",
    "rm -rf bare_repo/*\n",
    "cd bare_repo\n",
    "git init --bare --initial-branch=main"
   ]
  },
  {
   "cell_type": "code",
   "execution_count": 15,
   "metadata": {},
   "outputs": [],
   "source": [
    "os.chdir(working_dir)"
   ]
  },
  {
   "cell_type": "code",
   "execution_count": 16,
   "metadata": {},
   "outputs": [
    {
     "name": "stderr",
     "output_type": "stream",
     "text": [
      "To ../bare_repo\n",
      " * [new branch]      main -> main\n"
     ]
    },
    {
     "name": "stdout",
     "output_type": "stream",
     "text": [
      "branch 'main' set up to track 'local_bare/main'.\n"
     ]
    }
   ],
   "source": [
    "%%bash\n",
    "git remote add local_bare ../bare_repo\n",
    "git push -u local_bare main"
   ]
  },
  {
   "cell_type": "markdown",
   "metadata": {},
   "source": [
    "Check your remote branches:\n"
   ]
  },
  {
   "cell_type": "code",
   "execution_count": 17,
   "metadata": {},
   "outputs": [
    {
     "name": "stdout",
     "output_type": "stream",
     "text": [
      "entelecheia-ai\thttps://github.com/entelecheia-ai/github-example.git (fetch)\n",
      "entelecheia-ai\thttps://github.com/entelecheia-ai/github-example.git (push)\n",
      "local_bare\t../bare_repo (fetch)\n",
      "local_bare\t../bare_repo (push)\n",
      "origin\thttps://github.com/chu-aie/github-example.git (fetch)\n",
      "origin\thttps://github.com/chu-aie/github-example.git (push)\n"
     ]
    }
   ],
   "source": [
    "%%bash\n",
    "git remote -v"
   ]
  },
  {
   "cell_type": "markdown",
   "metadata": {},
   "source": [
    "You can now work with this local repository, just as with any other git server.\n",
    "If you have a colleague on a shared file system, you can use this approach to collaborate through that file system.\n"
   ]
  },
  {
   "cell_type": "markdown",
   "metadata": {},
   "source": [
    "### Home-made SSH servers\n",
    "\n",
    "Classroom exercise: Try creating a server for yourself using a machine you can SSH to:\n"
   ]
  },
  {
   "cell_type": "markdown",
   "metadata": {
    "collapsed": true
   },
   "source": [
    "```bash\n",
    "ssh <mymachine>\n",
    "mkdir mygitserver\n",
    "cd mygitserver\n",
    "git init --bare\n",
    "exit\n",
    "git remote add <somename> ssh://user@host/mygitserver\n",
    "git push -u <somename> master\n",
    "```\n"
   ]
  },
  {
   "cell_type": "markdown",
   "metadata": {},
   "source": [
    "## SSH keys and GitHub\n",
    "\n",
    "Classroom exercise: If you haven't already, you should set things up so that you don't have to keep typing in your\n",
    "password whenever you interact with GitHub via the command line.\n",
    "\n",
    "You can do this with an \"ssh keypair\". You may have created a keypair in the\n",
    "Software Carpentry shell training. Go to the [ssh settings\n",
    "page](https://github.com/settings/ssh) on GitHub and upload your public key by\n",
    "copying the content from your computer. (Probably at .ssh/id_rsa.pub)\n",
    "\n",
    "If you have difficulties, the instructions for this are [on the GitHub\n",
    "website](https://help.github.com/articles/generating-ssh-keys).\n"
   ]
  },
  {
   "cell_type": "markdown",
   "metadata": {},
   "source": []
  }
 ],
 "metadata": {
  "jekyll": {
   "display_name": "Remotes"
  },
  "kernelspec": {
   "display_name": "Python 3 (ipykernel)",
   "language": "python",
   "name": "python3"
  },
  "language_info": {
   "codemirror_mode": {
    "name": "ipython",
    "version": 3
   },
   "file_extension": ".py",
   "mimetype": "text/x-python",
   "name": "python",
   "nbconvert_exporter": "python",
   "pygments_lexer": "ipython3",
   "version": "3.8.10"
  }
 },
 "nbformat": 4,
 "nbformat_minor": 1
}
