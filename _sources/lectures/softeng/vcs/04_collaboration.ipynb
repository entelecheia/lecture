{
 "cells": [
  {
   "cell_type": "markdown",
   "metadata": {},
   "source": [
    "# 4. Collaboration\n"
   ]
  },
  {
   "cell_type": "markdown",
   "metadata": {},
   "source": [
    "## Form a team\n",
    "\n",
    "Now we're going to get to the most important question of all with Git and GitHub: working with others.\n",
    "\n",
    "Organise into pairs. You're going to be working on the website of one of the two of you, together, so decide who is going to be the leader, and who the collaborator.\n"
   ]
  },
  {
   "cell_type": "markdown",
   "metadata": {},
   "source": [
    "## Giving permission\n",
    "\n",
    "The leader needs to let the collaborator have the right to make changes to his code.\n",
    "\n",
    "In GitHub, go to `Settings` on the right, then `Collaborators & teams` on the left.\n",
    "\n",
    "Add the user name of your collaborator to the box. They now have the right to push to your repository.\n"
   ]
  },
  {
   "cell_type": "markdown",
   "metadata": {},
   "source": [
    "## Obtaining a colleague's code\n",
    "\n",
    "Next, the collaborator needs to get a copy of the leader's code. For this example notebook,\n",
    "I'm going to be collaborating with myself, swapping between my two repositories.\n",
    "Make yourself a space to put it your work. (I will have two)\n"
   ]
  },
  {
   "cell_type": "code",
   "execution_count": 1,
   "metadata": {},
   "outputs": [
    {
     "name": "stdout",
     "output_type": "stream",
     "text": [
      "Not running on colab\n",
      "Drive dir: /mnt/nvme1n1p2/home/yj.lee/workspace/projects/lecture/book/lectures/softeng/vcs/drive/MyDrive\n",
      "Git example directory: /mnt/nvme1n1p2/home/yj.lee/workspace/projects/lecture/book/lectures/softeng/vcs/drive/MyDrive/learning_git/git_example\n"
     ]
    }
   ],
   "source": [
    "import os\n",
    "\n",
    "try:\n",
    "    from google.colab import drive  # type: ignore\n",
    "\n",
    "    drive.mount(\"/content/drive\")\n",
    "    drive_dir = \"/content/drive/MyDrive\"\n",
    "except ImportError:\n",
    "    print(\"Not running on colab\")\n",
    "    drive_dir = os.path.join(os.getcwd(), \"drive\", \"MyDrive\")\n",
    "    os.makedirs(drive_dir, exist_ok=True)\n",
    "\n",
    "print(f\"Drive dir: {drive_dir}\")\n",
    "\n",
    "git_dir = os.path.join(drive_dir, \"learning_git\")\n",
    "working_dir = os.path.join(git_dir, \"git_example\")\n",
    "\n",
    "if os.path.exists(git_dir):\n",
    "    print(f\"Git directory: {git_dir}\")\n",
    "    os.chdir(git_dir)\n",
    "else:\n",
    "    print(\"Start from the beginning\")"
   ]
  },
  {
   "cell_type": "code",
   "execution_count": 2,
   "metadata": {},
   "outputs": [
    {
     "name": "stdout",
     "output_type": "stream",
     "text": [
      "/raid/cis/yjlee/workspace/projects/lecture/book/lectures/softeng/vcs/learning_git\n"
     ]
    }
   ],
   "source": [
    "%%bash\n",
    "pwd\n",
    "rm -rf github-example # cleanup after previous example\n",
    "rm -rf partner_dir # cleanup after previous example"
   ]
  },
  {
   "cell_type": "markdown",
   "metadata": {},
   "source": [
    "Next, the collaborator needs to find out the URL of the repository: they should go to the leader's repository's GitHub page, and note the URL on the top of the screen.\n",
    "\n",
    "As before, we're using `HTTPS` to connect - to do this you'll need to make sure the `HTTS` button is pushed, and check that the URL begins with `https://github.com`.\n",
    "\n",
    "Copy the URL into your clipboard by clicking on the icon to the right of the URL, and then:\n"
   ]
  },
  {
   "cell_type": "code",
   "execution_count": 3,
   "metadata": {
    "attributes": {
     "classes": [
      " Bash"
     ],
     "id": ""
    }
   },
   "outputs": [
    {
     "name": "stdout",
     "output_type": "stream",
     "text": [
      "/raid/cis/yjlee/workspace/projects/lecture/book/lectures/softeng/vcs/learning_git\n"
     ]
    },
    {
     "name": "stderr",
     "output_type": "stream",
     "text": [
      "Cloning into 'partner_dir'...\n"
     ]
    }
   ],
   "source": [
    "%%bash\n",
    "pwd\n",
    "git clone https://github.com/chu-aie/github-example.git partner_dir"
   ]
  },
  {
   "cell_type": "code",
   "execution_count": 4,
   "metadata": {},
   "outputs": [],
   "source": [
    "partner_dir = os.path.join(git_dir, \"partner_dir\")\n",
    "os.chdir(partner_dir)"
   ]
  },
  {
   "cell_type": "code",
   "execution_count": 5,
   "metadata": {},
   "outputs": [
    {
     "name": "stdout",
     "output_type": "stream",
     "text": [
      "/raid/cis/yjlee/workspace/projects/lecture/book/lectures/softeng/vcs/learning_git/partner_dir\n",
      "lakeland.md\n",
      "test.md\n"
     ]
    }
   ],
   "source": [
    "%%bash\n",
    "pwd\n",
    "ls"
   ]
  },
  {
   "cell_type": "markdown",
   "metadata": {},
   "source": [
    "Note that your partner's files are now present on your disk:\n"
   ]
  },
  {
   "cell_type": "code",
   "execution_count": 6,
   "metadata": {},
   "outputs": [
    {
     "name": "stdout",
     "output_type": "stream",
     "text": [
      "Lakeland\n",
      "========\n",
      "\n",
      "Cumbria has some pretty hills, and lakes too\n",
      "\n",
      "Mountains:\n",
      "* Helvellyn\n"
     ]
    }
   ],
   "source": [
    "%%bash\n",
    "cat lakeland.md"
   ]
  },
  {
   "cell_type": "markdown",
   "metadata": {},
   "source": [
    "## Nonconflicting changes\n",
    "\n",
    "Now, both of you should make some changes. To start with, make changes to _different_ files. This will mean your work doesn't \"conflict\". Later, we'll see how to deal with changes to a shared file.\n"
   ]
  },
  {
   "cell_type": "markdown",
   "metadata": {},
   "source": [
    "Both of you should commit, but not push, your changes to your respective files:\n"
   ]
  },
  {
   "cell_type": "markdown",
   "metadata": {},
   "source": [
    "E.g., the leader:\n"
   ]
  },
  {
   "cell_type": "code",
   "execution_count": 7,
   "metadata": {},
   "outputs": [],
   "source": [
    "os.chdir(working_dir)"
   ]
  },
  {
   "cell_type": "code",
   "execution_count": 8,
   "metadata": {},
   "outputs": [
    {
     "name": "stdout",
     "output_type": "stream",
     "text": [
      "Writing Wales.md\n"
     ]
    }
   ],
   "source": [
    "%%writefile Wales.md\n",
    "Mountains In Wales\n",
    "==================\n",
    "\n",
    "* Tryfan\n",
    "* Yr Wyddfa"
   ]
  },
  {
   "cell_type": "code",
   "execution_count": 9,
   "metadata": {},
   "outputs": [
    {
     "name": "stdout",
     "output_type": "stream",
     "text": [
      "lakeland.md\n",
      "test.md\n",
      "Wales.md\n"
     ]
    }
   ],
   "source": [
    "%%bash\n",
    "ls"
   ]
  },
  {
   "cell_type": "code",
   "execution_count": 10,
   "metadata": {},
   "outputs": [
    {
     "name": "stdout",
     "output_type": "stream",
     "text": [
      "[main 046a712] Add wales\n",
      " 1 file changed, 5 insertions(+)\n",
      " create mode 100644 Wales.md\n"
     ]
    }
   ],
   "source": [
    "%%bash\n",
    "git add Wales.md\n",
    "git commit -m \"Add wales\""
   ]
  },
  {
   "cell_type": "markdown",
   "metadata": {},
   "source": [
    "And the partner:\n"
   ]
  },
  {
   "cell_type": "code",
   "execution_count": 11,
   "metadata": {},
   "outputs": [],
   "source": [
    "os.chdir(partner_dir)"
   ]
  },
  {
   "cell_type": "code",
   "execution_count": 12,
   "metadata": {},
   "outputs": [
    {
     "name": "stdout",
     "output_type": "stream",
     "text": [
      "Writing Scotland.md\n"
     ]
    }
   ],
   "source": [
    "%%writefile Scotland.md\n",
    "Mountains In Scotland\n",
    "==================\n",
    "\n",
    "* Ben Eighe\n",
    "* Cairngorm"
   ]
  },
  {
   "cell_type": "code",
   "execution_count": 13,
   "metadata": {},
   "outputs": [
    {
     "name": "stdout",
     "output_type": "stream",
     "text": [
      "lakeland.md\n",
      "Scotland.md\n",
      "test.md\n"
     ]
    }
   ],
   "source": [
    "%%bash\n",
    "ls"
   ]
  },
  {
   "cell_type": "code",
   "execution_count": 14,
   "metadata": {},
   "outputs": [
    {
     "name": "stdout",
     "output_type": "stream",
     "text": [
      "[main 5524925] Add Scotland\n",
      " 1 file changed, 5 insertions(+)\n",
      " create mode 100644 Scotland.md\n"
     ]
    }
   ],
   "source": [
    "%%bash\n",
    "git add Scotland.md\n",
    "git commit -m \"Add Scotland\""
   ]
  },
  {
   "cell_type": "markdown",
   "metadata": {},
   "source": [
    "One of you should now push with `git push`:\n"
   ]
  },
  {
   "cell_type": "code",
   "execution_count": 15,
   "metadata": {},
   "outputs": [
    {
     "name": "stderr",
     "output_type": "stream",
     "text": [
      "To https://github.com/chu-aie/github-example.git\n",
      "   4fa39c8..5524925  main -> main\n"
     ]
    }
   ],
   "source": [
    "%%bash\n",
    "git push"
   ]
  },
  {
   "cell_type": "markdown",
   "metadata": {},
   "source": [
    "## Rejected push\n"
   ]
  },
  {
   "cell_type": "markdown",
   "metadata": {},
   "source": [
    "The other should then attempt to push, but should receive an error message:\n"
   ]
  },
  {
   "cell_type": "code",
   "execution_count": 16,
   "metadata": {},
   "outputs": [],
   "source": [
    "os.chdir(working_dir)"
   ]
  },
  {
   "cell_type": "code",
   "execution_count": 17,
   "metadata": {},
   "outputs": [
    {
     "name": "stderr",
     "output_type": "stream",
     "text": [
      "To https://github.com/chu-aie/github-example.git\n",
      " ! [rejected]        main -> main (fetch first)\n",
      "error: failed to push some refs to 'https://github.com/chu-aie/github-example.git'\n",
      "hint: Updates were rejected because the remote contains work that you do\n",
      "hint: not have locally. This is usually caused by another repository pushing\n",
      "hint: to the same ref. You may want to first integrate the remote changes\n",
      "hint: (e.g., 'git pull ...') before pushing again.\n",
      "hint: See the 'Note about fast-forwards' in 'git push --help' for details.\n"
     ]
    },
    {
     "name": "stdout",
     "output_type": "stream",
     "text": [
      "Push failed\n"
     ]
    }
   ],
   "source": [
    "%%bash\n",
    "git push || echo \"Push failed\""
   ]
  },
  {
   "cell_type": "markdown",
   "metadata": {},
   "source": [
    "Do as it suggests:\n"
   ]
  },
  {
   "cell_type": "code",
   "execution_count": 18,
   "metadata": {},
   "outputs": [
    {
     "name": "stderr",
     "output_type": "stream",
     "text": [
      "From https://github.com/chu-aie/github-example\n",
      "   4fa39c8..5524925  main       -> origin/main\n",
      "\u001b[KSuccessfully rebased and updated refs/heads/main.\n"
     ]
    }
   ],
   "source": [
    "%%bash\n",
    "git pull"
   ]
  },
  {
   "cell_type": "markdown",
   "metadata": {},
   "source": [
    "## Merge commits\n",
    "\n",
    "A window may pop up with a suggested default commit message. This commit is special: it is a _merge_ commit. It is a commit which combines your collaborator's work with your own.\n"
   ]
  },
  {
   "cell_type": "markdown",
   "metadata": {},
   "source": [
    "Now, push again with `git push`. This time it works. If you look on GitHub, you'll now see that it contains both sets of changes.\n"
   ]
  },
  {
   "cell_type": "code",
   "execution_count": 19,
   "metadata": {},
   "outputs": [
    {
     "name": "stderr",
     "output_type": "stream",
     "text": [
      "To https://github.com/chu-aie/github-example.git\n",
      "   5524925..54fa40f  main -> main\n"
     ]
    }
   ],
   "source": [
    "%%bash\n",
    "git push"
   ]
  },
  {
   "cell_type": "markdown",
   "metadata": {},
   "source": [
    "The partner now needs to pull down that commit:\n"
   ]
  },
  {
   "cell_type": "code",
   "execution_count": 20,
   "metadata": {},
   "outputs": [],
   "source": [
    "os.chdir(partner_dir)"
   ]
  },
  {
   "cell_type": "code",
   "execution_count": 21,
   "metadata": {},
   "outputs": [
    {
     "name": "stderr",
     "output_type": "stream",
     "text": [
      "From https://github.com/chu-aie/github-example\n",
      "   5524925..54fa40f  main       -> origin/main\n"
     ]
    },
    {
     "name": "stdout",
     "output_type": "stream",
     "text": [
      "Updating 5524925..54fa40f\n",
      "Fast-forward\n",
      " Wales.md | 5 +++++\n",
      " 1 file changed, 5 insertions(+)\n",
      " create mode 100644 Wales.md\n"
     ]
    }
   ],
   "source": [
    "%%bash\n",
    "git pull"
   ]
  },
  {
   "cell_type": "code",
   "execution_count": 22,
   "metadata": {},
   "outputs": [
    {
     "name": "stdout",
     "output_type": "stream",
     "text": [
      "lakeland.md\n",
      "Scotland.md\n",
      "test.md\n",
      "Wales.md\n"
     ]
    }
   ],
   "source": [
    "%%bash\n",
    "ls"
   ]
  },
  {
   "cell_type": "markdown",
   "metadata": {},
   "source": [
    "## Nonconflicted commits to the same file\n",
    "\n",
    "Go through the whole process again, but this time, both of you should make changes to a single file, but make sure that you don't touch the same _line_. Again, the merge should work as before:\n"
   ]
  },
  {
   "cell_type": "code",
   "execution_count": 23,
   "metadata": {},
   "outputs": [
    {
     "name": "stdout",
     "output_type": "stream",
     "text": [
      "Overwriting Wales.md\n"
     ]
    }
   ],
   "source": [
    "%%writefile Wales.md\n",
    "Mountains In Wales\n",
    "==================\n",
    "\n",
    "* Tryfan\n",
    "* Snowdon"
   ]
  },
  {
   "cell_type": "code",
   "execution_count": 24,
   "metadata": {},
   "outputs": [
    {
     "name": "stdout",
     "output_type": "stream",
     "text": [
      "diff --git a/Wales.md b/Wales.md\n",
      "index f3e88b4..90f23ec 100644\n",
      "--- a/Wales.md\n",
      "+++ b/Wales.md\n",
      "@@ -2,4 +2,4 @@ Mountains In Wales\n",
      " ==================\n",
      " \n",
      " * Tryfan\n",
      "-* Yr Wyddfa\n",
      "+* Snowdon\n"
     ]
    }
   ],
   "source": [
    "%%bash\n",
    "git diff"
   ]
  },
  {
   "cell_type": "code",
   "execution_count": 25,
   "metadata": {},
   "outputs": [
    {
     "name": "stdout",
     "output_type": "stream",
     "text": [
      "[main ce8bddc] Translating from the Welsh\n",
      " 1 file changed, 1 insertion(+), 1 deletion(-)\n"
     ]
    }
   ],
   "source": [
    "%%bash\n",
    "git commit -am \"Translating from the Welsh\""
   ]
  },
  {
   "cell_type": "code",
   "execution_count": 26,
   "metadata": {},
   "outputs": [
    {
     "name": "stdout",
     "output_type": "stream",
     "text": [
      "ce8bddc Translating from the Welsh\n",
      "54fa40f Add wales\n",
      "5524925 Add Scotland\n",
      "4fa39c8 Add Helvellyn\n",
      "d2b4434 Include lakes in the scope\n",
      "b943bed Add lakeland\n",
      "9793609 Revert \"Add a lie about a mountain\"\n",
      "6626d56 Change title\n",
      "453f5bc Add a lie about a mountain\n",
      "74efc42 First commit of discourse on UK topography\n"
     ]
    }
   ],
   "source": [
    "%%bash\n",
    "git log --oneline"
   ]
  },
  {
   "cell_type": "code",
   "execution_count": 27,
   "metadata": {},
   "outputs": [],
   "source": [
    "os.chdir(working_dir)"
   ]
  },
  {
   "cell_type": "code",
   "execution_count": 28,
   "metadata": {},
   "outputs": [
    {
     "name": "stdout",
     "output_type": "stream",
     "text": [
      "Overwriting Wales.md\n"
     ]
    }
   ],
   "source": [
    "%%writefile Wales.md\n",
    "Mountains In Wales\n",
    "==================\n",
    "\n",
    "* Pen y Fan\n",
    "* Tryfan\n",
    "* Yr Wyddfa"
   ]
  },
  {
   "cell_type": "code",
   "execution_count": 29,
   "metadata": {},
   "outputs": [
    {
     "name": "stdout",
     "output_type": "stream",
     "text": [
      "[main ac80a2f] Add a beacon\n",
      " 1 file changed, 1 insertion(+)\n"
     ]
    }
   ],
   "source": [
    "%%bash\n",
    "git commit -am \"Add a beacon\""
   ]
  },
  {
   "cell_type": "code",
   "execution_count": 30,
   "metadata": {},
   "outputs": [
    {
     "name": "stdout",
     "output_type": "stream",
     "text": [
      "ac80a2f Add a beacon\n",
      "54fa40f Add wales\n",
      "5524925 Add Scotland\n",
      "4fa39c8 Add Helvellyn\n",
      "d2b4434 Include lakes in the scope\n",
      "b943bed Add lakeland\n",
      "9793609 Revert \"Add a lie about a mountain\"\n",
      "6626d56 Change title\n",
      "453f5bc Add a lie about a mountain\n",
      "74efc42 First commit of discourse on UK topography\n"
     ]
    }
   ],
   "source": [
    "%%bash\n",
    "git log --oneline"
   ]
  },
  {
   "cell_type": "code",
   "execution_count": 31,
   "metadata": {},
   "outputs": [
    {
     "name": "stderr",
     "output_type": "stream",
     "text": [
      "To https://github.com/chu-aie/github-example.git\n",
      "   54fa40f..ac80a2f  main -> main\n"
     ]
    }
   ],
   "source": [
    "%%bash\n",
    "git push"
   ]
  },
  {
   "cell_type": "markdown",
   "metadata": {},
   "source": [
    "Switching back to the other partner...\n"
   ]
  },
  {
   "cell_type": "code",
   "execution_count": 32,
   "metadata": {},
   "outputs": [],
   "source": [
    "os.chdir(partner_dir)"
   ]
  },
  {
   "cell_type": "code",
   "execution_count": 33,
   "metadata": {},
   "outputs": [
    {
     "name": "stderr",
     "output_type": "stream",
     "text": [
      "To https://github.com/chu-aie/github-example.git\n",
      " ! [rejected]        main -> main (fetch first)\n",
      "error: failed to push some refs to 'https://github.com/chu-aie/github-example.git'\n",
      "hint: Updates were rejected because the remote contains work that you do\n",
      "hint: not have locally. This is usually caused by another repository pushing\n",
      "hint: to the same ref. You may want to first integrate the remote changes\n",
      "hint: (e.g., 'git pull ...') before pushing again.\n",
      "hint: See the 'Note about fast-forwards' in 'git push --help' for details.\n"
     ]
    },
    {
     "name": "stdout",
     "output_type": "stream",
     "text": [
      "Push failed\n"
     ]
    }
   ],
   "source": [
    "%%bash\n",
    "git push || echo \"Push failed\""
   ]
  },
  {
   "cell_type": "code",
   "execution_count": 34,
   "metadata": {},
   "outputs": [
    {
     "name": "stderr",
     "output_type": "stream",
     "text": [
      "From https://github.com/chu-aie/github-example\n",
      "   54fa40f..ac80a2f  main       -> origin/main\n",
      "\u001b[KSuccessfully rebased and updated refs/heads/main.\n"
     ]
    }
   ],
   "source": [
    "%%bash\n",
    "git pull"
   ]
  },
  {
   "cell_type": "code",
   "execution_count": 35,
   "metadata": {},
   "outputs": [
    {
     "name": "stderr",
     "output_type": "stream",
     "text": [
      "To https://github.com/chu-aie/github-example.git\n",
      "   ac80a2f..b101602  main -> main\n"
     ]
    }
   ],
   "source": [
    "%%bash\n",
    "git push"
   ]
  },
  {
   "cell_type": "code",
   "execution_count": 36,
   "metadata": {},
   "outputs": [
    {
     "name": "stdout",
     "output_type": "stream",
     "text": [
      "* b101602 Translating from the Welsh\n",
      "* ac80a2f Add a beacon\n",
      "* 54fa40f Add wales\n",
      "* 5524925 Add Scotland\n",
      "* 4fa39c8 Add Helvellyn\n",
      "* d2b4434 Include lakes in the scope\n",
      "* b943bed Add lakeland\n",
      "* 9793609 Revert \"Add a lie about a mountain\"\n",
      "* 6626d56 Change title\n",
      "* 453f5bc Add a lie about a mountain\n",
      "* 74efc42 First commit of discourse on UK topography\n"
     ]
    }
   ],
   "source": [
    "%%bash\n",
    "git log --oneline --graph"
   ]
  },
  {
   "cell_type": "code",
   "execution_count": 37,
   "metadata": {},
   "outputs": [],
   "source": [
    "os.chdir(working_dir)"
   ]
  },
  {
   "cell_type": "code",
   "execution_count": 38,
   "metadata": {},
   "outputs": [
    {
     "name": "stderr",
     "output_type": "stream",
     "text": [
      "From https://github.com/chu-aie/github-example\n",
      "   ac80a2f..b101602  main       -> origin/main\n"
     ]
    },
    {
     "name": "stdout",
     "output_type": "stream",
     "text": [
      "Updating ac80a2f..b101602\n",
      "Fast-forward\n",
      " Wales.md | 2 +-\n",
      " 1 file changed, 1 insertion(+), 1 deletion(-)\n"
     ]
    }
   ],
   "source": [
    "%%bash\n",
    "git pull"
   ]
  },
  {
   "cell_type": "code",
   "execution_count": 39,
   "metadata": {},
   "outputs": [
    {
     "name": "stdout",
     "output_type": "stream",
     "text": [
      "* b101602 Translating from the Welsh\n",
      "* ac80a2f Add a beacon\n",
      "* 54fa40f Add wales\n",
      "* 5524925 Add Scotland\n",
      "* 4fa39c8 Add Helvellyn\n",
      "* d2b4434 Include lakes in the scope\n",
      "* b943bed Add lakeland\n",
      "* 9793609 Revert \"Add a lie about a mountain\"\n",
      "* 6626d56 Change title\n",
      "* 453f5bc Add a lie about a mountain\n",
      "* 74efc42 First commit of discourse on UK topography\n"
     ]
    }
   ],
   "source": [
    "%%bash\n",
    "git log --graph --oneline"
   ]
  },
  {
   "cell_type": "markdown",
   "metadata": {},
   "source": [
    "```{mermaid}\n",
    ":align: center\n",
    "\n",
    "sequenceDiagram\n",
    "  participant S as Sue\n",
    "  participant SR as Sue's repo\n",
    "  participant M as Shared remote\n",
    "  participant JR as Jim's repo\n",
    "  participant J as Jim\n",
    "\n",
    "  Note over S: git clone\n",
    "  M->>SR: Fetch commits\n",
    "  SR->>S: Working directory as at latest commit\n",
    "\n",
    "  Note over S: Edit Scotland.md\n",
    "  Note over J: Edit Wales.md\n",
    "\n",
    "  Note over S: git commit -am \"Add Scotland\"\n",
    "  S->>SR: Create commit with Scotland file\n",
    "\n",
    "  Note over J: git commit -am \"Add Wales\"\n",
    "  J->>JR: Create commit with Wales file\n",
    "\n",
    "  Note over S: git push\n",
    "  SR->>M: Update remote with changes\n",
    "\n",
    "  Note over J: git push\n",
    "  JR-xM: !Rejected change\n",
    "\n",
    "  Note over J: git pull\n",
    "  M->>JR: Pull in Sue's last commit, merge histories\n",
    "  JR->>J: Add Scotland.md to working directory\n",
    "\n",
    "  Note over J: git push\n",
    "  JR->>M: Transfer merged history to remote\n",
    "\n",
    "```\n"
   ]
  },
  {
   "cell_type": "markdown",
   "metadata": {},
   "source": [
    "## Conflicting commits\n",
    "\n",
    "Finally, go through the process again, but this time, make changes which touch the same line.\n"
   ]
  },
  {
   "cell_type": "code",
   "execution_count": 40,
   "metadata": {},
   "outputs": [
    {
     "name": "stdout",
     "output_type": "stream",
     "text": [
      "Overwriting Wales.md\n"
     ]
    }
   ],
   "source": [
    "%%writefile Wales.md\n",
    "Mountains In Wales\n",
    "==================\n",
    "\n",
    "* Pen y Fan\n",
    "* Tryfan\n",
    "* Snowdon\n",
    "* Fan y Big"
   ]
  },
  {
   "cell_type": "code",
   "execution_count": 41,
   "metadata": {},
   "outputs": [
    {
     "name": "stdout",
     "output_type": "stream",
     "text": [
      "[main e5451fd] Add another Beacon\n",
      " 1 file changed, 1 insertion(+)\n"
     ]
    },
    {
     "name": "stderr",
     "output_type": "stream",
     "text": [
      "To https://github.com/chu-aie/github-example.git\n",
      "   b101602..e5451fd  main -> main\n"
     ]
    }
   ],
   "source": [
    "%%bash\n",
    "git commit -am \"Add another Beacon\"\n",
    "git push"
   ]
  },
  {
   "cell_type": "code",
   "execution_count": 42,
   "metadata": {},
   "outputs": [],
   "source": [
    "os.chdir(partner_dir)"
   ]
  },
  {
   "cell_type": "code",
   "execution_count": 43,
   "metadata": {},
   "outputs": [
    {
     "name": "stdout",
     "output_type": "stream",
     "text": [
      "Overwriting Wales.md\n"
     ]
    }
   ],
   "source": [
    "%%writefile Wales.md\n",
    "Mountains In Wales\n",
    "==================\n",
    "\n",
    "* Pen y Fan\n",
    "* Tryfan\n",
    "* Snowdon\n",
    "* Glyder Fawr"
   ]
  },
  {
   "cell_type": "code",
   "execution_count": 44,
   "metadata": {},
   "outputs": [
    {
     "name": "stdout",
     "output_type": "stream",
     "text": [
      "[main 0928826] Add Glyder\n",
      " 1 file changed, 1 insertion(+)\n"
     ]
    }
   ],
   "source": [
    "%%bash\n",
    "git commit -am \"Add Glyder\""
   ]
  },
  {
   "cell_type": "code",
   "execution_count": 45,
   "metadata": {},
   "outputs": [
    {
     "name": "stderr",
     "output_type": "stream",
     "text": [
      "To https://github.com/chu-aie/github-example.git\n",
      " ! [rejected]        main -> main (fetch first)\n",
      "error: failed to push some refs to 'https://github.com/chu-aie/github-example.git'\n",
      "hint: Updates were rejected because the remote contains work that you do\n",
      "hint: not have locally. This is usually caused by another repository pushing\n",
      "hint: to the same ref. You may want to first integrate the remote changes\n",
      "hint: (e.g., 'git pull ...') before pushing again.\n",
      "hint: See the 'Note about fast-forwards' in 'git push --help' for details.\n"
     ]
    },
    {
     "name": "stdout",
     "output_type": "stream",
     "text": [
      "Push failed\n"
     ]
    }
   ],
   "source": [
    "%%bash\n",
    "git push || echo \"Push failed\""
   ]
  },
  {
   "cell_type": "markdown",
   "metadata": {},
   "source": [
    "When you pull, instead of offering an automatic merge commit message, it says:\n"
   ]
  },
  {
   "cell_type": "code",
   "execution_count": 46,
   "metadata": {},
   "outputs": [
    {
     "name": "stderr",
     "output_type": "stream",
     "text": [
      "From https://github.com/chu-aie/github-example\n",
      "   b101602..e5451fd  main       -> origin/main\n"
     ]
    },
    {
     "name": "stdout",
     "output_type": "stream",
     "text": [
      "Auto-merging Wales.md\n",
      "CONFLICT (content): Merge conflict in Wales.md\n"
     ]
    },
    {
     "name": "stderr",
     "output_type": "stream",
     "text": [
      "error: could not apply 0928826... Add Glyder\n",
      "hint: Resolve all conflicts manually, mark them as resolved with\n",
      "hint: \"git add/rm <conflicted_files>\", then run \"git rebase --continue\".\n",
      "hint: You can instead skip this commit: run \"git rebase --skip\".\n",
      "hint: To abort and get back to the state before \"git rebase\", run \"git rebase --abort\".\n",
      "Could not apply 0928826... Add Glyder\n"
     ]
    },
    {
     "name": "stdout",
     "output_type": "stream",
     "text": [
      "Pull failed\n"
     ]
    }
   ],
   "source": [
    "%%bash\n",
    "git pull || echo \"Pull failed\""
   ]
  },
  {
   "cell_type": "markdown",
   "metadata": {},
   "source": [
    "## Resolving conflicts\n",
    "\n",
    "Git couldn't work out how to merge the two different sets of changes.\n",
    "\n",
    "You now need to manually resolve the conflict.\n",
    "\n",
    "It has marked the conflicted area:\n"
   ]
  },
  {
   "cell_type": "code",
   "execution_count": 47,
   "metadata": {},
   "outputs": [
    {
     "name": "stdout",
     "output_type": "stream",
     "text": [
      "Mountains In Wales\n",
      "==================\n",
      "\n",
      "* Pen y Fan\n",
      "* Tryfan\n",
      "* Snowdon\n",
      "<<<<<<< HEAD\n",
      "* Fan y Big\n",
      "=======\n",
      "* Glyder Fawr\n",
      ">>>>>>> 0928826 (Add Glyder)\n"
     ]
    }
   ],
   "source": [
    "%%bash\n",
    "cat Wales.md"
   ]
  },
  {
   "cell_type": "markdown",
   "metadata": {},
   "source": [
    "Manually edit the file, to combine the changes as seems sensible and get rid of the symbols:\n"
   ]
  },
  {
   "cell_type": "code",
   "execution_count": 48,
   "metadata": {},
   "outputs": [
    {
     "name": "stdout",
     "output_type": "stream",
     "text": [
      "Overwriting Wales.md\n"
     ]
    }
   ],
   "source": [
    "%%writefile Wales.md\n",
    "Mountains In Wales\n",
    "==================\n",
    "\n",
    "* Pen y Fan\n",
    "* Tryfan\n",
    "* Snowdon\n",
    "* Fan y Big\n",
    "* Glyder Fawr"
   ]
  },
  {
   "cell_type": "markdown",
   "metadata": {},
   "source": [
    "## Commit the resolved file\n",
    "\n",
    "Now commit the merged result:\n"
   ]
  },
  {
   "cell_type": "code",
   "execution_count": 49,
   "metadata": {},
   "outputs": [
    {
     "name": "stdout",
     "output_type": "stream",
     "text": [
      "[detached HEAD cc360cb] Add Glyder\n",
      " 1 file changed, 1 insertion(+)\n"
     ]
    }
   ],
   "source": [
    "%%bash\n",
    "git commit -a --no-edit # added a No-edit for this non-interactive session. You can edit the commit if you like."
   ]
  },
  {
   "cell_type": "code",
   "execution_count": 54,
   "metadata": {},
   "outputs": [
    {
     "name": "stderr",
     "output_type": "stream",
     "text": [
      "To https://github.com/chu-aie/github-example.git\n",
      "   e5451fd..cc360cb  HEAD -> main\n"
     ]
    }
   ],
   "source": [
    "%%bash\n",
    "git push origin HEAD:main"
   ]
  },
  {
   "cell_type": "code",
   "execution_count": 55,
   "metadata": {},
   "outputs": [],
   "source": [
    "os.chdir(working_dir)"
   ]
  },
  {
   "cell_type": "code",
   "execution_count": 56,
   "metadata": {},
   "outputs": [
    {
     "name": "stderr",
     "output_type": "stream",
     "text": [
      "From https://github.com/chu-aie/github-example\n",
      "   e5451fd..cc360cb  main       -> origin/main\n"
     ]
    },
    {
     "name": "stdout",
     "output_type": "stream",
     "text": [
      "Updating e5451fd..cc360cb\n",
      "Fast-forward\n",
      " Wales.md | 1 +\n",
      " 1 file changed, 1 insertion(+)\n"
     ]
    }
   ],
   "source": [
    "%%bash\n",
    "git pull"
   ]
  },
  {
   "cell_type": "code",
   "execution_count": 57,
   "metadata": {},
   "outputs": [
    {
     "name": "stdout",
     "output_type": "stream",
     "text": [
      "Mountains In Wales\n",
      "==================\n",
      "\n",
      "* Pen y Fan\n",
      "* Tryfan\n",
      "* Snowdon\n",
      "* Fan y Big\n",
      "* Glyder Fawr\n"
     ]
    }
   ],
   "source": [
    "%%bash\n",
    "cat Wales.md"
   ]
  },
  {
   "cell_type": "code",
   "execution_count": 58,
   "metadata": {},
   "outputs": [
    {
     "name": "stdout",
     "output_type": "stream",
     "text": [
      "* cc360cb Add Glyder\n",
      "* e5451fd Add another Beacon\n",
      "* b101602 Translating from the Welsh\n",
      "* ac80a2f Add a beacon\n",
      "* 54fa40f Add wales\n",
      "* 5524925 Add Scotland\n",
      "* 4fa39c8 Add Helvellyn\n",
      "* d2b4434 Include lakes in the scope\n",
      "* b943bed Add lakeland\n",
      "* 9793609 Revert \"Add a lie about a mountain\"\n",
      "* 6626d56 Change title\n",
      "* 453f5bc Add a lie about a mountain\n",
      "* 74efc42 First commit of discourse on UK topography\n"
     ]
    }
   ],
   "source": [
    "%%bash\n",
    "git log --oneline --graph"
   ]
  },
  {
   "cell_type": "markdown",
   "metadata": {},
   "source": [
    "## Distributed VCS in teams with conflicts\n"
   ]
  },
  {
   "cell_type": "markdown",
   "metadata": {},
   "source": [
    "```{mermaid}\n",
    ":align: center\n",
    "\n",
    "sequenceDiagram\n",
    "  participant S as Sue\n",
    "  participant SR as Sue's repo\n",
    "  participant M as Shared remote\n",
    "  participant JR as Jim's repo\n",
    "  participant J as Jim\n",
    "\n",
    "  Note over S: Edit the same line in wales.md\n",
    "  Note over J: Edit the same line in wales.md\n",
    "\n",
    "  Note over S: git commit -am \"update wales.md\"\n",
    "  S->>SR: Add commit to local repo\n",
    "\n",
    "  Note over J: git commit -am \"update wales.md\"\n",
    "  J->>JR: Add commit to local repo\n",
    "\n",
    "  Note over S: git push\n",
    "  SR->>M: Transfer commit to remote\n",
    "\n",
    "  Note over J: git push\n",
    "  JR-xM: !Rejected\n",
    "\n",
    "  Note over J: git pull\n",
    "  M->>J: Make conflicted file with conflict markers\n",
    "\n",
    "  Note over J: Edit file to resolve conflicts\n",
    "  Note over J: git add wales.md\n",
    "  Note over J: git commit\n",
    "  J->>JR: Mark conflict as resolved\n",
    "\n",
    "  Note over J: git push\n",
    "  JR->>M: Transfer merged history to remote\n",
    "\n",
    "  Note over S: git pull\n",
    "  M->>SR: Download Jim's resolution of conflict\n",
    "\n",
    "```\n"
   ]
  },
  {
   "cell_type": "markdown",
   "metadata": {},
   "source": [
    "## The Levels of Git\n"
   ]
  },
  {
   "cell_type": "markdown",
   "metadata": {},
   "source": [
    "```{mermaid}\n",
    ":align: center\n",
    "\n",
    "sequenceDiagram\n",
    "  participant WD as Working Directory\n",
    "  participant SA as Staging Area\n",
    "  participant LR as Local Repository\n",
    "  participant RR as Remote Repository\n",
    "\n",
    "  Note over WD: git add\n",
    "  WD->>SA: Stage changes\n",
    "\n",
    "  Note over SA: git commit\n",
    "  SA->>LR: Commit staged changes\n",
    "\n",
    "  Note over LR: git commit -a\n",
    "  LR->>LR: Stage and commit changes\n",
    "\n",
    "  Note over LR: git checkout\n",
    "  LR->>WD: Update to specified state\n",
    "\n",
    "  Note over LR: git reset\n",
    "  LR->>SA: Reset staging area to commit\n",
    "\n",
    "  Note over LR: git reset --hard\n",
    "  LR->>WD: Reset to commit & update files\n",
    "\n",
    "  Note over LR: git push\n",
    "  LR->>RR: Push changes to remote\n",
    "\n",
    "  Note over RR: git fetch\n",
    "  RR->>LR: Fetch updates from remote\n",
    "\n",
    "  Note over LR: git merge\n",
    "  LR->>WD: Merge fetched changes\n",
    "\n",
    "  Note over RR: git pull\n",
    "  RR->>WD: Fetch and merge changes\n",
    "\n",
    "```\n"
   ]
  },
  {
   "cell_type": "markdown",
   "metadata": {},
   "source": [
    "## Editing directly on GitHub\n",
    "\n",
    "Note that you can also make changes in the GitHub website itself. Visit one of your files, and hit \"edit\".\n",
    "\n",
    "Make a change in the edit window, and add an appropriate commit message.\n",
    "\n",
    "That change now appears on the website, but not in your local copy. (Verify this).\n"
   ]
  },
  {
   "cell_type": "markdown",
   "metadata": {},
   "source": [
    "Now pull, and check the change is now present on your local version.\n"
   ]
  },
  {
   "cell_type": "markdown",
   "metadata": {},
   "source": [
    "## GitHub as a social network\n",
    "\n",
    "In addition to being a repository for code, and a way to publish code, GitHub is a social network.\n",
    "\n",
    "You can follow the public work of other coders: go to the profile of your collaborator in your browser, and hit the \"follow\" button.\n",
    "\n",
    "[Here's mine](https://github.com/entelecheia) : if you want to you can follow me.\n",
    "\n",
    "Using GitHub to build up a good public profile of software projects you've worked on is great for your CV!\n"
   ]
  },
  {
   "cell_type": "markdown",
   "metadata": {},
   "source": []
  }
 ],
 "metadata": {
  "jekyll": {
   "display_name": "Collaboration"
  },
  "kernelspec": {
   "display_name": "Python 3 (ipykernel)",
   "language": "python",
   "name": "python3"
  },
  "language_info": {
   "codemirror_mode": {
    "name": "ipython",
    "version": 3
   },
   "file_extension": ".py",
   "mimetype": "text/x-python",
   "name": "python",
   "nbconvert_exporter": "python",
   "pygments_lexer": "ipython3",
   "version": "3.8.10"
  }
 },
 "nbformat": 4,
 "nbformat_minor": 1
}
