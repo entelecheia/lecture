{
 "cells": [
  {
   "cell_type": "markdown",
   "metadata": {
    "collapsed": true
   },
   "source": [
    "# 9. Publishing from GitHub\n"
   ]
  },
  {
   "cell_type": "markdown",
   "metadata": {},
   "source": [
    "**GitHub pages**\n",
    "\n",
    "## Yaml Frontmatter\n",
    "\n",
    "GitHub will publish repositories containing markdown as web pages, automatically.\n",
    "\n",
    "You'll need to add this content:\n",
    "\n",
    "> ```\n",
    ">    ---\n",
    ">    ---\n",
    "> ```\n",
    "\n",
    "A pair of lines with three dashes, to the top of each markdown file. This is how GitHub knows which markdown files to make into web pages.\n",
    "[Here's why](https://jekyllrb.com/docs/front-matter/) for the curious.\n"
   ]
  },
  {
   "cell_type": "code",
   "execution_count": 1,
   "metadata": {},
   "outputs": [
    {
     "name": "stdout",
     "output_type": "stream",
     "text": [
      "Not running on colab\n",
      "Drive dir: /mnt/nvme1n1p2/home/yj.lee/workspace/projects/lecture/book/lectures/softeng/vcs/drive/MyDrive\n",
      "Git example directory: /mnt/nvme1n1p2/home/yj.lee/workspace/projects/lecture/book/lectures/softeng/vcs/drive/MyDrive/learning_git/git_example\n"
     ]
    }
   ],
   "source": [
    "import os\n",
    "\n",
    "try:\n",
    "    from google.colab import drive  # type: ignore\n",
    "\n",
    "    drive.mount(\"/content/drive\")\n",
    "    drive_dir = \"/content/drive/MyDrive\"\n",
    "except ImportError:\n",
    "    print(\"Not running on colab\")\n",
    "    drive_dir = os.path.join(os.getcwd(), \"drive\", \"MyDrive\")\n",
    "    os.makedirs(drive_dir, exist_ok=True)\n",
    "\n",
    "print(f\"Drive dir: {drive_dir}\")\n",
    "\n",
    "git_dir = os.path.join(drive_dir, \"learning_git\")\n",
    "working_dir = os.path.join(git_dir, \"git_example\")\n",
    "\n",
    "if os.path.exists(working_dir):\n",
    "    print(f\"Git example directory: {working_dir}\")\n",
    "    os.chdir(working_dir)\n",
    "else:\n",
    "    print(\"Start from the beginning\")"
   ]
  },
  {
   "cell_type": "code",
   "execution_count": 4,
   "metadata": {},
   "outputs": [
    {
     "name": "stdout",
     "output_type": "stream",
     "text": [
      "Overwriting test.md\n"
     ]
    }
   ],
   "source": [
    "%%writefile test.md\n",
    "---\n",
    "title: Github Pages Example\n",
    "---\n",
    "Mountains and Lakes in the UK\n",
    "===================\n",
    "\n",
    "Engerland is not very mountainous.\n",
    "But has some tall hills, and maybe a mountain or two depending on your definition."
   ]
  },
  {
   "cell_type": "code",
   "execution_count": 5,
   "metadata": {},
   "outputs": [
    {
     "name": "stdout",
     "output_type": "stream",
     "text": [
      "[main 964c673] Add github pages YAML frontmatter\n",
      " 1 file changed, 5 insertions(+), 2 deletions(-)\n"
     ]
    }
   ],
   "source": [
    "%%bash\n",
    "git commit -am \"Add github pages YAML frontmatter\""
   ]
  },
  {
   "cell_type": "markdown",
   "metadata": {},
   "source": [
    "## The gh-pages branch\n",
    "\n",
    "GitHub creates github pages when you use a special named branch.\n",
    "By default this is `gh-pages` although you can change it to something else if you prefer.\n",
    "This is best used to create documentation for a program you write, but you can use it for anything.\n"
   ]
  },
  {
   "cell_type": "code",
   "execution_count": 6,
   "metadata": {},
   "outputs": [],
   "source": [
    "os.chdir(working_dir)"
   ]
  },
  {
   "cell_type": "code",
   "execution_count": 7,
   "metadata": {
    "attributes": {
     "classes": [
      " Bash"
     ],
     "id": ""
    }
   },
   "outputs": [
    {
     "name": "stderr",
     "output_type": "stream",
     "text": [
      "Switched to a new branch 'gh-pages'\n"
     ]
    },
    {
     "name": "stderr",
     "output_type": "stream",
     "text": [
      "remote: \n",
      "remote: Create a pull request for 'gh-pages' on GitHub by visiting:        \n",
      "remote:      https://github.com/chu-aie/github-example/pull/new/gh-pages        \n",
      "remote: \n",
      "To https://github.com/chu-aie/github-example.git\n",
      " * [new branch]      gh-pages -> gh-pages\n"
     ]
    },
    {
     "name": "stdout",
     "output_type": "stream",
     "text": [
      "branch 'gh-pages' set up to track 'origin/gh-pages'.\n"
     ]
    }
   ],
   "source": [
    "%%bash\n",
    "\n",
    "git checkout -b gh-pages\n",
    "git push -uf origin gh-pages"
   ]
  },
  {
   "cell_type": "markdown",
   "metadata": {},
   "source": [
    "The first time you do this, GitHub takes a few minutes to generate your pages.\n",
    "\n",
    "The website will appear at `http://username.github.io/repositoryname`, for example:\n",
    "\n",
    "http://chu-aie.github.io/github-example/\n"
   ]
  },
  {
   "cell_type": "markdown",
   "metadata": {},
   "source": [
    "## Layout for GitHub pages\n",
    "\n",
    "You can use GitHub pages to make HTML layouts, here's an [example of how to do it](http://github.com/UCL/ucl-github-pages-example), and [how it looks](http://ucl.github.io/ucl-github-pages-example). We won't go into the detail of this now, but after the class, you might want to try this.\n"
   ]
  },
  {
   "cell_type": "code",
   "execution_count": 8,
   "metadata": {},
   "outputs": [
    {
     "name": "stderr",
     "output_type": "stream",
     "text": [
      "Switched to branch 'main'\n"
     ]
    },
    {
     "name": "stdout",
     "output_type": "stream",
     "text": [
      "Your branch is ahead of 'origin/main' by 1 commit.\n",
      "  (use \"git push\" to publish your local commits)\n"
     ]
    },
    {
     "name": "stderr",
     "output_type": "stream",
     "text": [
      "To https://github.com/chu-aie/github-example.git\n",
      "   7ffd228..964c673  main -> main\n"
     ]
    },
    {
     "name": "stdout",
     "output_type": "stream",
     "text": [
      "Deleted branch gh-pages (was 964c673).\n"
     ]
    },
    {
     "name": "stderr",
     "output_type": "stream",
     "text": [
      "To https://github.com/chu-aie/github-example.git\n",
      " - [deleted]         gh-pages\n"
     ]
    },
    {
     "name": "stdout",
     "output_type": "stream",
     "text": [
      "  origin/main\n"
     ]
    }
   ],
   "source": [
    "%%bash\n",
    "# Cleanup by removing the gh-pages branch\n",
    "git checkout main\n",
    "git push\n",
    "git branch -d gh-pages\n",
    "git push --delete origin gh-pages\n",
    "git branch --remote"
   ]
  },
  {
   "cell_type": "code",
   "execution_count": null,
   "metadata": {},
   "outputs": [],
   "source": []
  }
 ],
 "metadata": {
  "jekyll": {
   "display_name": "Git miscellany"
  },
  "kernelspec": {
   "display_name": "Python 3 (ipykernel)",
   "language": "python",
   "name": "python3"
  },
  "language_info": {
   "codemirror_mode": {
    "name": "ipython",
    "version": 3
   },
   "file_extension": ".py",
   "mimetype": "text/x-python",
   "name": "python",
   "nbconvert_exporter": "python",
   "pygments_lexer": "ipython3",
   "version": "3.8.10"
  }
 },
 "nbformat": 4,
 "nbformat_minor": 1
}
