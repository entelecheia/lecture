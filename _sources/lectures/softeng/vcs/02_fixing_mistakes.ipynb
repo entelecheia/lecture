{
 "cells": [
  {
   "cell_type": "markdown",
   "metadata": {},
   "source": [
    "# 2. Fixing mistakes\n"
   ]
  },
  {
   "cell_type": "markdown",
   "metadata": {},
   "source": [
    "We're still in our git working directory:\n"
   ]
  },
  {
   "cell_type": "code",
   "execution_count": 2,
   "metadata": {},
   "outputs": [
    {
     "name": "stdout",
     "output_type": "stream",
     "text": [
      "Not running on colab\n",
      "Drive dir: /mnt/nvme1n1p2/home/yj.lee/workspace/projects/lecture/book/lectures/softeng/vcs/drive/MyDrive\n",
      "Git example directory: /mnt/nvme1n1p2/home/yj.lee/workspace/projects/lecture/book/lectures/softeng/vcs/drive/MyDrive/learning_git/git_example\n"
     ]
    }
   ],
   "source": [
    "import os\n",
    "\n",
    "try:\n",
    "    from google.colab import drive  # type: ignore\n",
    "\n",
    "    drive.mount(\"/content/drive\")\n",
    "    drive_dir = \"/content/drive/MyDrive\"\n",
    "except ImportError:\n",
    "    print(\"Not running on colab\")\n",
    "    drive_dir = os.path.join(os.getcwd(), \"drive\", \"MyDrive\")\n",
    "    os.makedirs(drive_dir, exist_ok=True)\n",
    "\n",
    "print(f\"Drive dir: {drive_dir}\")\n",
    "\n",
    "git_example_dir = os.path.join(drive_dir, \"learning_git\", \"git_example\")\n",
    "\n",
    "if os.path.exists(git_example_dir):\n",
    "    print(f\"Git example directory: {git_example_dir}\")\n",
    "    os.chdir(git_example_dir)\n",
    "else:\n",
    "    print(\"Start from the beginning\")"
   ]
  },
  {
   "cell_type": "markdown",
   "metadata": {},
   "source": [
    "## Referring to changes with HEAD and ~\n",
    "\n",
    "The commit we want to revert to is the one before the latest.\n",
    "\n",
    "`HEAD` refers to the latest commit.\n",
    "That is, we want to go back to the change before the current `HEAD`.\n",
    "\n",
    "We could use the hash code (e.g. 73fbeaf) to reference this, but you can also refer to the commit before the `HEAD` as `HEAD~`, the one before that as `HEAD~~`, the one before that as `HEAD~3`.\n"
   ]
  },
  {
   "cell_type": "markdown",
   "metadata": {},
   "source": [
    "## Reverting\n",
    "\n",
    "Ok, so now we'd like to undo the nasty commit with the lie about Mount Fictional.\n"
   ]
  },
  {
   "cell_type": "code",
   "execution_count": 2,
   "metadata": {},
   "outputs": [
    {
     "name": "stdout",
     "output_type": "stream",
     "text": [
      "Auto-merging test.md\n",
      "[main 9793609] Revert \"Add a lie about a mountain\"\n",
      " Date: Sun Sep 17 20:16:18 2023 +0900\n",
      " 1 file changed, 2 deletions(-)\n"
     ]
    }
   ],
   "source": [
    "%%bash\n",
    "git revert HEAD~"
   ]
  },
  {
   "cell_type": "markdown",
   "metadata": {},
   "source": [
    "An editor may pop up, with some default text which you can accept and save.\n"
   ]
  },
  {
   "cell_type": "markdown",
   "metadata": {},
   "source": [
    "## Conflicted reverts\n",
    "\n",
    "You may, depending on the changes you've tried to make, get an error message here.\n",
    "\n",
    "If this happens, it is because git could not automagically decide how to combine the change you made after the change you want to revert, with the attempt to revert the change: this could happen, for example, if they both touch the same line.\n",
    "\n",
    "If that happens, you need to manually edit the file to fix the problem. Skip ahead to the section on resolving conflicts.\n"
   ]
  },
  {
   "cell_type": "markdown",
   "metadata": {},
   "source": [
    "## Review of changes\n",
    "\n",
    "The file should now contain the change to the title, but not the extra line with the lie. Note the log:\n"
   ]
  },
  {
   "cell_type": "code",
   "execution_count": 3,
   "metadata": {},
   "outputs": [
    {
     "name": "stdout",
     "output_type": "stream",
     "text": [
      "commit 97936099145d29e1067f42a856e9aa3a41c7b50f\n",
      "Author: Young Joon Lee <entelecheia@hotmail.com>\n",
      "Date:   2023-09-17\n",
      "\n",
      "    Revert \"Add a lie about a mountain\"\n",
      "    \n",
      "    This reverts commit 453f5bcf1cfe7616ded061ca2b1cf1e910351824.\n",
      "\n",
      "commit 6626d56233bdf14ea2f9741588523c2a6d5c483d\n",
      "Author: Young Joon Lee <entelecheia@hotmail.com>\n",
      "Date:   2023-09-17\n",
      "\n",
      "    Change title\n",
      "\n",
      "commit 453f5bcf1cfe7616ded061ca2b1cf1e910351824\n",
      "Author: Young Joon Lee <entelecheia@hotmail.com>\n",
      "Date:   2023-09-17\n",
      "\n",
      "    Add a lie about a mountain\n",
      "\n",
      "commit 74efc42f190870df59f42e1013c8bcb766d119b9\n",
      "Author: Young Joon Lee <entelecheia@hotmail.com>\n",
      "Date:   2023-09-17\n",
      "\n",
      "    First commit of discourse on UK topography\n"
     ]
    }
   ],
   "source": [
    "%%bash\n",
    "git log --date=short"
   ]
  },
  {
   "cell_type": "markdown",
   "metadata": {},
   "source": [
    "## Antipatch\n",
    "\n",
    "Notice how the mistake has stayed in the history.\n",
    "\n",
    "There is a new commit which undoes the change: this is colloquially called an \"antipatch\".\n",
    "This is nice: you have a record of the full story, including the mistake and its correction.\n"
   ]
  },
  {
   "cell_type": "markdown",
   "metadata": {},
   "source": [
    "## Rewriting history\n",
    "\n",
    "It is possible, in git, to remove the most recent change altogether, \"rewriting history\". Let's make another bad change, and see how to do this.\n"
   ]
  },
  {
   "cell_type": "markdown",
   "metadata": {},
   "source": [
    "## A new lie\n"
   ]
  },
  {
   "cell_type": "code",
   "execution_count": 4,
   "metadata": {},
   "outputs": [
    {
     "name": "stdout",
     "output_type": "stream",
     "text": [
      "Overwriting test.md\n"
     ]
    }
   ],
   "source": [
    "%%writefile test.md\n",
    "Mountains and Hills in the UK\n",
    "===================\n",
    "Engerland is not very mountainous.\n",
    "But has some tall hills, and maybe a\n",
    "mountain or two depending on your definition.\n"
   ]
  },
  {
   "cell_type": "code",
   "execution_count": 6,
   "metadata": {
    "attributes": {
     "classes": [
      " Bash"
     ],
     "id": ""
    }
   },
   "outputs": [
    {
     "name": "stdout",
     "output_type": "stream",
     "text": [
      "Mountains and Hills in the UK\n",
      "===================\n",
      "Engerland is not very mountainous.\n",
      "But has some tall hills, and maybe a\n",
      "mountain or two depending on your definition.\n"
     ]
    }
   ],
   "source": [
    "%%bash\n",
    "cat test.md"
   ]
  },
  {
   "cell_type": "code",
   "execution_count": 7,
   "metadata": {},
   "outputs": [
    {
     "name": "stdout",
     "output_type": "stream",
     "text": [
      "diff --git a/test.md b/test.md\n",
      "index b4befef..e4bb8ea 100644\n",
      "--- a/test.md\n",
      "+++ b/test.md\n",
      "@@ -1,4 +1,5 @@\n",
      " Mountains and Hills in the UK\n",
      " ===================\n",
      "-England is not very mountainous.\n",
      "-But has some tall hills, and maybe a mountain or two depending on your definition.\n",
      "+Engerland is not very mountainous.\n",
      "+But has some tall hills, and maybe a\n",
      "+mountain or two depending on your definition.\n"
     ]
    }
   ],
   "source": [
    "%%bash\n",
    "git diff"
   ]
  },
  {
   "cell_type": "code",
   "execution_count": 8,
   "metadata": {},
   "outputs": [
    {
     "name": "stdout",
     "output_type": "stream",
     "text": [
      "[main 8aa13df] Add a silly spelling\n",
      " 1 file changed, 3 insertions(+), 2 deletions(-)\n"
     ]
    }
   ],
   "source": [
    "%%bash\n",
    "git commit -am \"Add a silly spelling\""
   ]
  },
  {
   "cell_type": "code",
   "execution_count": 9,
   "metadata": {
    "attributes": {
     "classes": [
      " Bash"
     ],
     "id": ""
    }
   },
   "outputs": [
    {
     "name": "stdout",
     "output_type": "stream",
     "text": [
      "commit 8aa13df1fa53b03617c8b86752d442068c0ce56a\n",
      "Author: Young Joon Lee <entelecheia@hotmail.com>\n",
      "Date:   2023-09-17\n",
      "\n",
      "    Add a silly spelling\n",
      "\n",
      "commit 97936099145d29e1067f42a856e9aa3a41c7b50f\n",
      "Author: Young Joon Lee <entelecheia@hotmail.com>\n",
      "Date:   2023-09-17\n",
      "\n",
      "    Revert \"Add a lie about a mountain\"\n",
      "    \n",
      "    This reverts commit 453f5bcf1cfe7616ded061ca2b1cf1e910351824.\n",
      "\n",
      "commit 6626d56233bdf14ea2f9741588523c2a6d5c483d\n",
      "Author: Young Joon Lee <entelecheia@hotmail.com>\n",
      "Date:   2023-09-17\n",
      "\n",
      "    Change title\n",
      "\n",
      "commit 453f5bcf1cfe7616ded061ca2b1cf1e910351824\n",
      "Author: Young Joon Lee <entelecheia@hotmail.com>\n",
      "Date:   2023-09-17\n",
      "\n",
      "    Add a lie about a mountain\n",
      "\n",
      "commit 74efc42f190870df59f42e1013c8bcb766d119b9\n",
      "Author: Young Joon Lee <entelecheia@hotmail.com>\n",
      "Date:   2023-09-17\n",
      "\n",
      "    First commit of discourse on UK topography\n"
     ]
    }
   ],
   "source": [
    "%%bash\n",
    "git log --date=short"
   ]
  },
  {
   "cell_type": "markdown",
   "metadata": {},
   "source": [
    "## Using reset to rewrite history\n"
   ]
  },
  {
   "cell_type": "code",
   "execution_count": 10,
   "metadata": {
    "attributes": {
     "classes": [
      " Bash"
     ],
     "id": ""
    }
   },
   "outputs": [
    {
     "name": "stdout",
     "output_type": "stream",
     "text": [
      "Unstaged changes after reset:\n",
      "M\ttest.md\n"
     ]
    }
   ],
   "source": [
    "%%bash\n",
    "git reset HEAD~"
   ]
  },
  {
   "cell_type": "code",
   "execution_count": 11,
   "metadata": {
    "attributes": {
     "classes": [
      " Bash"
     ],
     "id": ""
    }
   },
   "outputs": [
    {
     "name": "stdout",
     "output_type": "stream",
     "text": [
      "commit 97936099145d29e1067f42a856e9aa3a41c7b50f\n",
      "Author: Young Joon Lee <entelecheia@hotmail.com>\n",
      "Date:   2023-09-17\n",
      "\n",
      "    Revert \"Add a lie about a mountain\"\n",
      "    \n",
      "    This reverts commit 453f5bcf1cfe7616ded061ca2b1cf1e910351824.\n",
      "\n",
      "commit 6626d56233bdf14ea2f9741588523c2a6d5c483d\n",
      "Author: Young Joon Lee <entelecheia@hotmail.com>\n",
      "Date:   2023-09-17\n",
      "\n",
      "    Change title\n",
      "\n",
      "commit 453f5bcf1cfe7616ded061ca2b1cf1e910351824\n",
      "Author: Young Joon Lee <entelecheia@hotmail.com>\n",
      "Date:   2023-09-17\n",
      "\n",
      "    Add a lie about a mountain\n",
      "\n",
      "commit 74efc42f190870df59f42e1013c8bcb766d119b9\n",
      "Author: Young Joon Lee <entelecheia@hotmail.com>\n",
      "Date:   2023-09-17\n",
      "\n",
      "    First commit of discourse on UK topography\n"
     ]
    }
   ],
   "source": [
    "%%bash\n",
    "git log --date=short"
   ]
  },
  {
   "cell_type": "markdown",
   "metadata": {},
   "source": [
    "## Covering your tracks\n",
    "\n",
    "The silly spelling _is no longer in the log_. This approach to fixing mistakes, \"rewriting history\" with `reset`, instead of adding an antipatch with `revert`, is dangerous, and we don't recommend it. But you may want to do it for small silly mistakes, such as to correct a commit message.\n"
   ]
  },
  {
   "cell_type": "markdown",
   "metadata": {},
   "source": [
    "## Resetting the working area\n",
    "\n",
    "When `git reset` removes commits, it leaves your working directory unchanged -- so you can keep the work in the bad change if you want.\n"
   ]
  },
  {
   "cell_type": "code",
   "execution_count": 12,
   "metadata": {},
   "outputs": [
    {
     "name": "stdout",
     "output_type": "stream",
     "text": [
      "Mountains and Hills in the UK\n",
      "===================\n",
      "Engerland is not very mountainous.\n",
      "But has some tall hills, and maybe a\n",
      "mountain or two depending on your definition.\n"
     ]
    }
   ],
   "source": [
    "%%bash\n",
    "cat test.md"
   ]
  },
  {
   "cell_type": "markdown",
   "metadata": {},
   "source": [
    "If you want to lose the change from the working directory as well, you can do `git reset --hard`.\n",
    "\n",
    "I'm going to get rid of the silly spelling, and I didn't do `--hard`, so I'll reset the file from the working directory to be the same as in the index:\n"
   ]
  },
  {
   "cell_type": "code",
   "execution_count": 13,
   "metadata": {
    "attributes": {
     "classes": [
      " Bash"
     ],
     "id": ""
    }
   },
   "outputs": [
    {
     "name": "stderr",
     "output_type": "stream",
     "text": [
      "Updated 1 path from the index\n"
     ]
    }
   ],
   "source": [
    "%%bash\n",
    "git checkout test.md"
   ]
  },
  {
   "cell_type": "code",
   "execution_count": 14,
   "metadata": {},
   "outputs": [
    {
     "name": "stdout",
     "output_type": "stream",
     "text": [
      "Mountains and Hills in the UK\n",
      "===================\n",
      "England is not very mountainous.\n",
      "But has some tall hills, and maybe a mountain or two depending on your definition.\n"
     ]
    }
   ],
   "source": [
    "%%bash\n",
    "cat test.md"
   ]
  },
  {
   "cell_type": "markdown",
   "metadata": {},
   "source": [
    "We can add this to our diagram:\n"
   ]
  },
  {
   "cell_type": "markdown",
   "metadata": {},
   "source": [
    "```{mermaid}\n",
    ":align: center\n",
    "\n",
    "sequenceDiagram\n",
    "  participant WD as Working Directory\n",
    "  participant SA as Staging Area\n",
    "  participant LR as Local Repository\n",
    "\n",
    "  Note over WD: git add\n",
    "  WD->>SA: Stage changes\n",
    "\n",
    "  Note over SA: git commit\n",
    "  SA->>LR: Commit staged changes\n",
    "\n",
    "  Note over WD: git commit -a\n",
    "  WD->>LR: Stage and commit changes\n",
    "\n",
    "  Note over LR: git checkout\n",
    "  LR->>WD: Update to specified state\n",
    "\n",
    "  Note over LR: git reset\n",
    "  LR->>SA: Reset staging area to commit\n",
    "\n",
    "  Note over LR: git reset --hard\n",
    "  LR->>WD: Reset to commit & update files\n",
    "\n",
    "```\n"
   ]
  },
  {
   "cell_type": "markdown",
   "metadata": {},
   "source": [
    "We can add it to Jim’s story:\n"
   ]
  },
  {
   "cell_type": "markdown",
   "metadata": {},
   "source": [
    "```{mermaid}\n",
    ":align: center\n",
    "\n",
    "sequenceDiagram\n",
    "  participant R as Jim's repo\n",
    "  participant I as Jim's index\n",
    "  participant J as Jim\n",
    "\n",
    "  Note over J: git revert HEAD~\n",
    "  J->>R: Add new commit reversing change\n",
    "  R->>I: Update staging area to reverted version\n",
    "  I->>J: Update file to reverted version\n",
    "\n",
    "  Note over J: vim test.md\n",
    "  Note over J: git commit -am \"Add another mistake\"\n",
    "  J->>I: Add mistake\n",
    "  I->>R: Add mistake\n",
    "\n",
    "  Note over J: git reset HEAD~\n",
    "  J->>R: Delete mistaken commit\n",
    "  R->>I: Update staging area to reset commit\n",
    "\n",
    "  Note over J: git checkout test.md\n",
    "  R->>J: Update file to reverted version\n",
    "\n",
    "```\n"
   ]
  },
  {
   "cell_type": "markdown",
   "metadata": {},
   "source": []
  }
 ],
 "metadata": {
  "jekyll": {
   "display_name": "Fixing Mistakes"
  },
  "kernelspec": {
   "display_name": "Python 3 (ipykernel)",
   "language": "python",
   "name": "python3"
  },
  "language_info": {
   "codemirror_mode": {
    "name": "ipython",
    "version": 3
   },
   "file_extension": ".py",
   "mimetype": "text/x-python",
   "name": "python",
   "nbconvert_exporter": "python",
   "pygments_lexer": "ipython3",
   "version": "3.8.10"
  }
 },
 "nbformat": 4,
 "nbformat_minor": 1
}
