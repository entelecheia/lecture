{
 "cells": [
  {
   "cell_type": "markdown",
   "metadata": {},
   "source": [
    "# 1. Solo work with git\n"
   ]
  },
  {
   "cell_type": "markdown",
   "metadata": {},
   "source": [
    "## Getting started\n"
   ]
  },
  {
   "cell_type": "markdown",
   "metadata": {},
   "source": [
    "So, we're in our git working directory:\n"
   ]
  },
  {
   "cell_type": "code",
   "execution_count": 1,
   "metadata": {},
   "outputs": [
    {
     "data": {
      "text/plain": [
       "'/raid/cis/yjlee/workspace/projects/lecture/book/lectures/softeng/vcs/learning_git/git_example'"
      ]
     },
     "execution_count": 1,
     "metadata": {},
     "output_type": "execute_result"
    }
   ],
   "source": [
    "import os\n",
    "\n",
    "top_dir = os.getcwd()\n",
    "git_dir = os.path.join(top_dir, \"learning_git\")\n",
    "working_dir = os.path.join(git_dir, \"git_example\")\n",
    "os.chdir(working_dir)\n",
    "working_dir"
   ]
  },
  {
   "cell_type": "markdown",
   "metadata": {},
   "source": [
    "### A first example file\n",
    "\n",
    "So let's create an example file, and see how to start to manage a history of changes to it.\n"
   ]
  },
  {
   "cell_type": "markdown",
   "metadata": {},
   "source": [
    "    <my editor> test.md # Type some content into the file.\n"
   ]
  },
  {
   "cell_type": "code",
   "execution_count": 2,
   "metadata": {},
   "outputs": [
    {
     "name": "stdout",
     "output_type": "stream",
     "text": [
      "Writing test.md\n"
     ]
    }
   ],
   "source": [
    "%%writefile test.md\n",
    "Mountains in the UK\n",
    "===================\n",
    "England is not very mountainous.\n",
    "But has some tall hills, and maybe a mountain or two depending on your definition.\n"
   ]
  },
  {
   "cell_type": "code",
   "execution_count": 9,
   "metadata": {
    "attributes": {
     "classes": [
      " Bash"
     ],
     "id": ""
    }
   },
   "outputs": [
    {
     "name": "stdout",
     "output_type": "stream",
     "text": [
      "Mountains in the UK\n",
      "===================\n",
      "England is not very mountainous.\n",
      "But has some tall hills, and maybe a mountain or two depending on your definition.\n"
     ]
    }
   ],
   "source": [
    "!cat test.md"
   ]
  },
  {
   "cell_type": "markdown",
   "metadata": {},
   "source": [
    "### Telling Git about the File\n",
    "\n",
    "So, let's tell Git that `test.md` is a file which is important, and we would like to keep track of its history:\n"
   ]
  },
  {
   "cell_type": "code",
   "execution_count": 4,
   "metadata": {
    "attributes": {
     "classes": [
      " Bash"
     ],
     "id": ""
    }
   },
   "outputs": [],
   "source": [
    "%%bash\n",
    "git add test.md"
   ]
  },
  {
   "cell_type": "markdown",
   "metadata": {},
   "source": [
    "Don't forget: Any files in repositories which you want to \"track\" need to be added with `git add` after you create them.\n"
   ]
  },
  {
   "cell_type": "markdown",
   "metadata": {},
   "source": [
    "### Our first commit\n",
    "\n",
    "Now, we need to tell Git to record the first version of this file in the history of changes:\n"
   ]
  },
  {
   "cell_type": "code",
   "execution_count": 5,
   "metadata": {
    "attributes": {
     "classes": [
      " Bash"
     ],
     "id": ""
    }
   },
   "outputs": [
    {
     "name": "stdout",
     "output_type": "stream",
     "text": [
      "[main (root-commit) 74efc42] First commit of discourse on UK topography\n",
      " 1 file changed, 4 insertions(+)\n",
      " create mode 100644 test.md\n"
     ]
    }
   ],
   "source": [
    "%%bash\n",
    "git commit -m \"First commit of discourse on UK topography\""
   ]
  },
  {
   "cell_type": "markdown",
   "metadata": {},
   "source": [
    "And note the confirmation from Git.\n",
    "\n",
    "There's a lot of output there you can ignore for now.\n"
   ]
  },
  {
   "cell_type": "markdown",
   "metadata": {},
   "source": [
    "### Configuring Git with your editor\n",
    "\n",
    "If you don't type in the log message directly with -m \"Some message\", then an editor will pop up, to allow you\n",
    "to edit your message on the fly.\n"
   ]
  },
  {
   "cell_type": "markdown",
   "metadata": {},
   "source": [
    "For this to work, you have to tell git where to find your editor.\n",
    "\n",
    "```bash\n",
    "git config --global core.editor vim\n",
    "```\n"
   ]
  },
  {
   "cell_type": "markdown",
   "metadata": {},
   "source": [
    "You can find out what you currently have with:\n",
    "\n",
    "```bash\n",
    "git config --get core.editor\n",
    "```\n"
   ]
  },
  {
   "cell_type": "markdown",
   "metadata": {},
   "source": [
    "To configure `Notepad++` on Windows you'll need something like the below:\n"
   ]
  },
  {
   "cell_type": "markdown",
   "metadata": {
    "attributes": {
     "classes": [
      " Bash"
     ],
     "id": ""
    }
   },
   "source": [
    "```bash\n",
    "git config --global core.editor \"'C:/Program Files (x86)/Notepad++/notepad++.exe' -multiInst -nosession -noPlugin\"\n",
    "```\n"
   ]
  },
  {
   "cell_type": "markdown",
   "metadata": {},
   "source": [
    "You can use whatever editor you prefer. (Windows users could use `Notepad++`, Mac users could use `textmate` or `Sublime Text`, Linux users could use `vim`, `nano` or `emacs`.)\n"
   ]
  },
  {
   "cell_type": "markdown",
   "metadata": {},
   "source": [
    "## Commit logs\n"
   ]
  },
  {
   "cell_type": "markdown",
   "metadata": {},
   "source": [
    "### Git log\n",
    "\n",
    "Git now has one change in its history:\n"
   ]
  },
  {
   "cell_type": "code",
   "execution_count": 8,
   "metadata": {
    "attributes": {
     "classes": [
      " Bash"
     ],
     "id": ""
    }
   },
   "outputs": [
    {
     "name": "stdout",
     "output_type": "stream",
     "text": [
      "commit 74efc42f190870df59f42e1013c8bcb766d119b9\n",
      "Author: Young Joon Lee <entelecheia@hotmail.com>\n",
      "Date:   Sun Sep 17 19:26:26 2023 +0900\n",
      "\n",
      "    First commit of discourse on UK topography\n"
     ]
    }
   ],
   "source": [
    "%%bash\n",
    "git log"
   ]
  },
  {
   "cell_type": "markdown",
   "metadata": {},
   "source": [
    "You can see the commit message, author, and date...\n"
   ]
  },
  {
   "cell_type": "markdown",
   "metadata": {},
   "source": [
    "### Hash Codes\n",
    "\n",
    "The commit \"hash code\", e.g.\n",
    "\n",
    "`74efc42f190870df59f42e1013c8bcb766d119b9`\n",
    "\n",
    "is a unique identifier of that particular revision.\n",
    "\n",
    "This is a really long code, but whenever you need to use it, you can just use the first few characters.\n",
    "You just need however many characters is long enough to make it unique, for example `74efc42f1`.\n"
   ]
  },
  {
   "cell_type": "markdown",
   "metadata": {},
   "source": [
    "### Nothing to see here\n",
    "\n",
    "Note that git will now tell us that our \"working directory\" is up-to-date with the repository: there are no changes to the files that aren't recorded in the repository history:\n"
   ]
  },
  {
   "cell_type": "code",
   "execution_count": 36,
   "metadata": {
    "attributes": {
     "classes": [
      " Bash"
     ],
     "id": ""
    }
   },
   "outputs": [
    {
     "name": "stdout",
     "output_type": "stream",
     "text": [
      "On branch main\n",
      "nothing to commit, working tree clean\n"
     ]
    }
   ],
   "source": [
    "%%bash\n",
    "git status"
   ]
  },
  {
   "cell_type": "markdown",
   "metadata": {},
   "source": [
    "## Staging changes\n"
   ]
  },
  {
   "cell_type": "markdown",
   "metadata": {},
   "source": [
    "Let's edit the file again:\n",
    "\n",
    "    vim test.md\n"
   ]
  },
  {
   "cell_type": "code",
   "execution_count": 10,
   "metadata": {},
   "outputs": [
    {
     "name": "stdout",
     "output_type": "stream",
     "text": [
      "Overwriting test.md\n"
     ]
    }
   ],
   "source": [
    "%%writefile test.md\n",
    "Mountains in the UK\n",
    "===================\n",
    "England is not very mountainous.\n",
    "But has some tall hills, and maybe a mountain or two depending on your definition.\n",
    "\n",
    "Mount Fictional, in Barsetshire, U.K. is the tallest mountain in the world.\n"
   ]
  },
  {
   "cell_type": "code",
   "execution_count": 11,
   "metadata": {
    "attributes": {
     "classes": [
      " Bash"
     ],
     "id": ""
    }
   },
   "outputs": [
    {
     "name": "stdout",
     "output_type": "stream",
     "text": [
      "Mountains in the UK\n",
      "===================\n",
      "England is not very mountainous.\n",
      "But has some tall hills, and maybe a mountain or two depending on your definition.\n",
      "\n",
      "Mount Fictional, in Barsetshire, U.K. is the tallest mountain in the world.\n"
     ]
    }
   ],
   "source": [
    "!cat test.md"
   ]
  },
  {
   "cell_type": "markdown",
   "metadata": {},
   "source": [
    "### Unstaged changes\n"
   ]
  },
  {
   "cell_type": "code",
   "execution_count": 14,
   "metadata": {
    "attributes": {
     "classes": [
      " Bash"
     ],
     "id": ""
    }
   },
   "outputs": [
    {
     "name": "stdout",
     "output_type": "stream",
     "text": [
      "On branch main\n",
      "Changes not staged for commit:\n",
      "  (use \"git add <file>...\" to update what will be committed)\n",
      "  (use \"git restore <file>...\" to discard changes in working directory)\n",
      "\tmodified:   test.md\n",
      "\n",
      "no changes added to commit (use \"git add\" and/or \"git commit -a\")\n"
     ]
    }
   ],
   "source": [
    "%%bash\n",
    "git status"
   ]
  },
  {
   "cell_type": "markdown",
   "metadata": {},
   "source": [
    "We can now see that there is a change to \"test.md\" which is currently \"not staged for commit\".\n",
    "What does this mean?\n",
    "\n",
    "If we do a `git commit` now _nothing will happen_.\n",
    "\n",
    "Git will only commit changes to files that you choose to include in each commit.\n",
    "\n",
    "This is a difference from other version control systems, where committing will affect all changed files.\n"
   ]
  },
  {
   "cell_type": "markdown",
   "metadata": {},
   "source": [
    "We can see the differences in the file with:\n"
   ]
  },
  {
   "cell_type": "code",
   "execution_count": 15,
   "metadata": {},
   "outputs": [
    {
     "name": "stdout",
     "output_type": "stream",
     "text": [
      "diff --git a/test.md b/test.md\n",
      "index 1852ebc..b63f764 100644\n",
      "--- a/test.md\n",
      "+++ b/test.md\n",
      "@@ -2,3 +2,5 @@ Mountains in the UK\n",
      " ===================\n",
      " England is not very mountainous.\n",
      " But has some tall hills, and maybe a mountain or two depending on your definition.\n",
      "+\n",
      "+Mount Fictional, in Barsetshire, U.K. is the tallest mountain in the world.\n"
     ]
    }
   ],
   "source": [
    "%%bash\n",
    "git diff"
   ]
  },
  {
   "cell_type": "markdown",
   "metadata": {},
   "source": [
    "Deleted lines are prefixed with a minus, added lines prefixed with a plus.\n"
   ]
  },
  {
   "cell_type": "markdown",
   "metadata": {},
   "source": [
    "### Staging a file to be included in the next commit\n",
    "\n",
    "To include the file in the next commit, we have a few choices. This is one of the things to be careful of with git: there are lots of ways to do similar things, and it can be hard to keep track of them all.\n"
   ]
  },
  {
   "cell_type": "code",
   "execution_count": 16,
   "metadata": {
    "attributes": {
     "classes": [
      " Bash"
     ],
     "id": ""
    }
   },
   "outputs": [],
   "source": [
    "%%bash\n",
    "git add --update"
   ]
  },
  {
   "cell_type": "markdown",
   "metadata": {},
   "source": [
    "This says \"include in the next commit, all files which have ever been included before\".\n",
    "\n",
    "Note that `git add` is the command we use to introduce git to a new file, but also the command we use to \"stage\" a file to be included in the next commit.\n"
   ]
  },
  {
   "cell_type": "markdown",
   "metadata": {},
   "source": [
    "### The staging area\n",
    "\n",
    "The \"staging area\" or \"index\" is the git jargon for the place which contains the list of changes which will be included in the next commit.\n",
    "\n",
    "You can include specific changes to specific files with `git add`, commit them, add some more files, and commit them. (You can even add specific changes within a file to be included in the index.)\n"
   ]
  },
  {
   "cell_type": "markdown",
   "metadata": {},
   "source": [
    "## The Levels of Git\n"
   ]
  },
  {
   "cell_type": "markdown",
   "metadata": {},
   "source": [
    "```{mermaid}\n",
    ":align: center\n",
    "\n",
    "sequenceDiagram\n",
    "  participant WD as Working Directory\n",
    "  participant SA as Staging Area\n",
    "  participant LR as Local Repository\n",
    "\n",
    "  Note over WD: git add\n",
    "  WD->>SA: Stage changes\n",
    "\n",
    "  Note over SA: git commit\n",
    "  SA->>LR: Commit staged changes\n",
    "\n",
    "  Note over WD: git commit -a\n",
    "  WD->>LR: Stage and commit changes\n",
    "\n",
    "```\n"
   ]
  },
  {
   "cell_type": "markdown",
   "metadata": {},
   "source": [
    "## Correcting mistakes\n"
   ]
  },
  {
   "cell_type": "markdown",
   "metadata": {},
   "source": [
    "### Review of status\n"
   ]
  },
  {
   "cell_type": "code",
   "execution_count": 23,
   "metadata": {
    "attributes": {
     "classes": [
      " Bash"
     ],
     "id": ""
    }
   },
   "outputs": [
    {
     "name": "stdout",
     "output_type": "stream",
     "text": [
      "On branch main\n",
      "Changes to be committed:\n",
      "  (use \"git restore --staged <file>...\" to unstage)\n",
      "\tmodified:   test.md\n",
      "\n"
     ]
    }
   ],
   "source": [
    "%%bash\n",
    "git status"
   ]
  },
  {
   "cell_type": "code",
   "execution_count": 24,
   "metadata": {},
   "outputs": [
    {
     "name": "stdout",
     "output_type": "stream",
     "text": [
      "[main 453f5bc] Add a lie about a mountain\n",
      " 1 file changed, 2 insertions(+)\n"
     ]
    }
   ],
   "source": [
    "%%bash\n",
    "git commit -m \"Add a lie about a mountain\""
   ]
  },
  {
   "cell_type": "code",
   "execution_count": 25,
   "metadata": {
    "attributes": {
     "classes": [
      " Bash"
     ],
     "id": ""
    }
   },
   "outputs": [
    {
     "name": "stdout",
     "output_type": "stream",
     "text": [
      "commit 453f5bcf1cfe7616ded061ca2b1cf1e910351824\n",
      "Author: Young Joon Lee <entelecheia@hotmail.com>\n",
      "Date:   Sun Sep 17 19:53:45 2023 +0900\n",
      "\n",
      "    Add a lie about a mountain\n",
      "\n",
      "commit 74efc42f190870df59f42e1013c8bcb766d119b9\n",
      "Author: Young Joon Lee <entelecheia@hotmail.com>\n",
      "Date:   Sun Sep 17 19:26:26 2023 +0900\n",
      "\n",
      "    First commit of discourse on UK topography\n"
     ]
    }
   ],
   "source": [
    "%%bash\n",
    "git log"
   ]
  },
  {
   "cell_type": "markdown",
   "metadata": {},
   "source": [
    "Great, we now have a file which contains a mistake.\n"
   ]
  },
  {
   "cell_type": "markdown",
   "metadata": {},
   "source": [
    "### Carry on regardless\n",
    "\n",
    "In a while, we'll use Git to roll back to the last correct version: this is one of the main reasons we wanted to use version control, after all! But for now, let's do just as we would if we were writing code, not notice our mistake and keep working...\n"
   ]
  },
  {
   "cell_type": "markdown",
   "metadata": {},
   "source": [
    "```bash\n",
    "vim test.md\n",
    "```\n"
   ]
  },
  {
   "cell_type": "code",
   "execution_count": 26,
   "metadata": {},
   "outputs": [
    {
     "name": "stdout",
     "output_type": "stream",
     "text": [
      "Overwriting test.md\n"
     ]
    }
   ],
   "source": [
    "%%writefile test.md\n",
    "Mountains and Hills in the UK\n",
    "===================\n",
    "England is not very mountainous.\n",
    "But has some tall hills, and maybe a mountain or two depending on your definition.\n",
    "\n",
    "Mount Fictional, in Barsetshire, U.K. is the tallest mountain in the world.\n"
   ]
  },
  {
   "cell_type": "code",
   "execution_count": 28,
   "metadata": {
    "attributes": {
     "classes": [
      " Bash"
     ],
     "id": ""
    }
   },
   "outputs": [
    {
     "name": "stdout",
     "output_type": "stream",
     "text": [
      "Mountains and Hills in the UK\n",
      "===================\n",
      "England is not very mountainous.\n",
      "But has some tall hills, and maybe a mountain or two depending on your definition.\n",
      "\n",
      "Mount Fictional, in Barsetshire, U.K. is the tallest mountain in the world.\n"
     ]
    }
   ],
   "source": [
    "!cat test.md"
   ]
  },
  {
   "cell_type": "markdown",
   "metadata": {},
   "source": [
    "### Commit with a built-in-add\n"
   ]
  },
  {
   "cell_type": "code",
   "execution_count": 29,
   "metadata": {},
   "outputs": [
    {
     "name": "stdout",
     "output_type": "stream",
     "text": [
      "[main 6626d56] Change title\n",
      " 1 file changed, 1 insertion(+), 1 deletion(-)\n"
     ]
    }
   ],
   "source": [
    "%%bash\n",
    "git commit -am \"Change title\""
   ]
  },
  {
   "cell_type": "markdown",
   "metadata": {},
   "source": [
    "This last command, `git commit -a` automatically adds changes to all tracked files to the staging area, as part of the commit command. So, if you never want to just add changes to some tracked files but not others, you can just use this and forget about the staging area!\n"
   ]
  },
  {
   "cell_type": "markdown",
   "metadata": {
    "collapsed": true
   },
   "source": [
    "### Review of changes\n"
   ]
  },
  {
   "cell_type": "code",
   "execution_count": 30,
   "metadata": {
    "attributes": {
     "classes": [
      " Bash"
     ],
     "id": ""
    }
   },
   "outputs": [
    {
     "name": "stdout",
     "output_type": "stream",
     "text": [
      "commit 6626d56233bdf14ea2f9741588523c2a6d5c483d\n",
      "Author: Young Joon Lee <entelecheia@hotmail.com>\n",
      "Date:   Sun Sep 17 19:54:06 2023 +0900\n",
      "\n",
      "    Change title\n",
      "\n",
      "commit 453f5bcf1cfe7616ded061ca2b1cf1e910351824\n",
      "Author: Young Joon Lee <entelecheia@hotmail.com>\n",
      "Date:   Sun Sep 17 19:53:45 2023 +0900\n",
      "\n"
     ]
    }
   ],
   "source": [
    "%%bash\n",
    "git log | head"
   ]
  },
  {
   "cell_type": "markdown",
   "metadata": {},
   "source": [
    "We now have three changes in the history:\n"
   ]
  },
  {
   "cell_type": "code",
   "execution_count": 31,
   "metadata": {
    "attributes": {
     "classes": [
      " Bash"
     ],
     "id": ""
    }
   },
   "outputs": [
    {
     "name": "stdout",
     "output_type": "stream",
     "text": [
      "6626d56 Change title\n",
      "453f5bc Add a lie about a mountain\n",
      "74efc42 First commit of discourse on UK topography\n"
     ]
    }
   ],
   "source": [
    "%%bash\n",
    "git log --oneline"
   ]
  },
  {
   "cell_type": "markdown",
   "metadata": {},
   "source": [
    "## Git Solo Workflow\n",
    "\n",
    "We can make a diagram that summarises the above story:\n"
   ]
  },
  {
   "cell_type": "markdown",
   "metadata": {},
   "source": [
    "```{mermaid}\n",
    ":align: center\n",
    "\n",
    "sequenceDiagram\n",
    "  participant J as Jim\n",
    "  participant I as Jim's index\n",
    "  participant R as Jim's repo\n",
    "\n",
    "  Note over J: vim test.md\n",
    "\n",
    "  Note over J: git init\n",
    "  J->>R: Create repository\n",
    "\n",
    "  Note over J: git add test.md\n",
    "  J->>I: Add content of test.md\n",
    "\n",
    "  Note over J: git commit\n",
    "  I->>R: Commit content of test.md\n",
    "\n",
    "  Note over J: vim test.md\n",
    "\n",
    "  Note over J: git add --update\n",
    "  J->>I: Update content of test.md\n",
    "\n",
    "  Note over J: git commit -m \"Add a lie\"\n",
    "  I->>R: Commit change to test.md\n",
    "\n",
    "  Note over J: vim test.md\n",
    "  Note over J: git commit -am \"Change title\"\n",
    "  J->>R: Add and commit change to test.md (and all tracked files)\n",
    "\n",
    "```\n"
   ]
  },
  {
   "cell_type": "code",
   "execution_count": null,
   "metadata": {},
   "outputs": [],
   "source": []
  }
 ],
 "metadata": {
  "jekyll": {
   "display_name": "Solo Git"
  },
  "kernelspec": {
   "display_name": "Python 3 (ipykernel)",
   "language": "python",
   "name": "python3"
  },
  "language_info": {
   "codemirror_mode": {
    "name": "ipython",
    "version": 3
   },
   "file_extension": ".py",
   "mimetype": "text/x-python",
   "name": "python",
   "nbconvert_exporter": "python",
   "pygments_lexer": "ipython3",
   "version": "3.8.10"
  }
 },
 "nbformat": 4,
 "nbformat_minor": 1
}
