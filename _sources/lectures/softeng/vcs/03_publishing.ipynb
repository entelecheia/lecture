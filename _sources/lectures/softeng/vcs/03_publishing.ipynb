{
 "cells": [
  {
   "cell_type": "markdown",
   "metadata": {},
   "source": [
    "# 3. Publishing\n"
   ]
  },
  {
   "cell_type": "markdown",
   "metadata": {},
   "source": [
    "We're still in our working directory:\n"
   ]
  },
  {
   "cell_type": "code",
   "execution_count": 1,
   "metadata": {},
   "outputs": [
    {
     "data": {
      "text/plain": [
       "'/raid/cis/yjlee/workspace/projects/lecture/book/lectures/softeng/vcs/learning_git/git_example'"
      ]
     },
     "execution_count": 1,
     "metadata": {},
     "output_type": "execute_result"
    }
   ],
   "source": [
    "import os\n",
    "\n",
    "top_dir = os.getcwd()\n",
    "git_dir = os.path.join(top_dir, \"learning_git\")\n",
    "working_dir = os.path.join(git_dir, \"git_example\")\n",
    "os.chdir(working_dir)\n",
    "working_dir"
   ]
  },
  {
   "cell_type": "markdown",
   "metadata": {},
   "source": [
    "## Sharing your work\n"
   ]
  },
  {
   "cell_type": "markdown",
   "metadata": {},
   "source": [
    "So far, all our work has been on our own computer.\n",
    "But a big part of the point of version control is keeping your work safe, on remote servers.\n",
    "Another part is making it easy to share your work with the world.\n",
    "In this example, we'll be using the `GitHub` cloud repository to store and publish our work.\n",
    "\n",
    "If you have not done so already, you should create an account on `GitHub`: go to [https://github.com/](https://github.com/), fill in a username and password, and click on \"sign up for free\".\n"
   ]
  },
  {
   "cell_type": "markdown",
   "metadata": {},
   "source": [
    "## Creating a repository\n",
    "\n",
    "Ok, let's create a repository to store our work. Hit \"new repository\" on the right of the github home screen, or click [here](https://github.com/new).\n",
    "\n",
    "- Fill in a short name, and a description.\n",
    "- Choose a \"public\" repository.\n",
    "- Don't choose to add a README.\n"
   ]
  },
  {
   "cell_type": "markdown",
   "metadata": {},
   "source": [
    "## GitHub private repositories\n",
    "\n",
    "For this course, you should use public repositories in your personal account for your example work: it's good to share! GitHub is free for open source, but in general, charges a fee if you want to keep your work private.\n",
    "\n",
    "In the future, you might want to keep your work on GitHub private.\n",
    "\n",
    "Students can get free private repositories on GitHub, by going to [GitHub Education](https://github.com/edu) and filling in a form (look for the Student Developer Pack).\n"
   ]
  },
  {
   "cell_type": "markdown",
   "metadata": {},
   "source": [
    "## Adding a new remote to your repository\n",
    "\n",
    "Instructions will appear, once you've created the repository, as to how to add this new \"remote\" server to your repository.\n",
    "In this example we are using pre-authorised `Deploy Keys` to connect using the `HTTPS` protocol:\n"
   ]
  },
  {
   "cell_type": "code",
   "execution_count": 2,
   "metadata": {},
   "outputs": [],
   "source": [
    "%%bash\n",
    "git remote add origin https://github.com/chu-aie/github-example.git"
   ]
  },
  {
   "cell_type": "code",
   "execution_count": 3,
   "metadata": {},
   "outputs": [
    {
     "name": "stdout",
     "output_type": "stream",
     "text": [
      "origin\thttps://github.com/chu-aie/github-example.git (fetch)\n",
      "origin\thttps://github.com/chu-aie/github-example.git (push)\n"
     ]
    }
   ],
   "source": [
    "%%bash\n",
    "git remote -v"
   ]
  },
  {
   "cell_type": "code",
   "execution_count": 4,
   "metadata": {
    "attributes": {
     "classes": [
      "Bash"
     ],
     "id": ""
    }
   },
   "outputs": [
    {
     "name": "stderr",
     "output_type": "stream",
     "text": [
      "To https://github.com/chu-aie/github-example.git\n",
      " * [new branch]      main -> main\n"
     ]
    },
    {
     "name": "stdout",
     "output_type": "stream",
     "text": [
      "branch 'main' set up to track 'origin/main'.\n"
     ]
    }
   ],
   "source": [
    "%%bash\n",
    "git push -uf origin main # Note we use the '-f' flag here to force an update"
   ]
  },
  {
   "cell_type": "markdown",
   "metadata": {},
   "source": [
    "## Remotes\n",
    "\n",
    "The first command sets up the server as a new `remote`, called `origin`.\n",
    "\n",
    "Git, unlike some earlier version control systems is a \"distributed\" version control system, which means you can work with multiple remote servers.\n",
    "\n",
    "Usually, commands that work with remotes allow you to specify the remote to use, but assume the `origin` remote if you don't.\n",
    "\n",
    "Here, `git push` will push your whole history onto the server, and now you'll be able to see it on the internet! Refresh your web browser where the instructions were, and you'll see your repository!\n"
   ]
  },
  {
   "cell_type": "markdown",
   "metadata": {},
   "source": [
    "Let's add these commands to our diagram:\n"
   ]
  },
  {
   "cell_type": "markdown",
   "metadata": {},
   "source": [
    "```{mermaid}\n",
    ":align: center\n",
    "\n",
    "sequenceDiagram\n",
    "  participant WD as Working Directory\n",
    "  participant SA as Staging Area\n",
    "  participant LR as Local Repository\n",
    "  participant RR as Remote Repository\n",
    "\n",
    "  Note over WD: git add\n",
    "  WD->>SA: Stage changes\n",
    "\n",
    "  Note over SA: git commit\n",
    "  SA->>LR: Commit changes\n",
    "\n",
    "  Note over WD: git commit -a\n",
    "  WD->>LR: Stage and commit changes\n",
    "\n",
    "  Note over LR: git checkout\n",
    "  LR->>WD: Update to specified state\n",
    "\n",
    "  Note over LR: git reset\n",
    "  LR->>SA: Reset staging area to commit\n",
    "\n",
    "  Note over LR: git reset --hard\n",
    "  LR->>WD: Reset to commit & update files\n",
    "\n",
    "  Note over LR: git push\n",
    "  LR->>RR: Push changes to remote\n",
    "\n",
    "```\n"
   ]
  },
  {
   "cell_type": "markdown",
   "metadata": {},
   "source": [
    "## Playing with GitHub\n",
    "\n",
    "Take a few moments to click around and work your way through the GitHub interface. Try clicking on 'test.md' to see the content of the file: notice how the markdown renders prettily.\n",
    "\n",
    "Click on \"commits\" near the top of the screen, to see all the changes you've made. Click on the commit number next to the right of a change, to see what changes it includes: removals are shown in red, and additions in green.\n"
   ]
  },
  {
   "cell_type": "markdown",
   "metadata": {},
   "source": [
    "## Working with multiple files\n"
   ]
  },
  {
   "cell_type": "markdown",
   "metadata": {},
   "source": [
    "### Some new content\n",
    "\n",
    "So far, we've only worked with one file. Let's add another:\n"
   ]
  },
  {
   "cell_type": "markdown",
   "metadata": {},
   "source": [
    "```bash\n",
    "vim lakeland.md\n",
    "```\n"
   ]
  },
  {
   "cell_type": "code",
   "execution_count": 5,
   "metadata": {},
   "outputs": [
    {
     "name": "stdout",
     "output_type": "stream",
     "text": [
      "Writing lakeland.md\n"
     ]
    }
   ],
   "source": [
    "%%writefile lakeland.md\n",
    "Lakeland\n",
    "========\n",
    "\n",
    "Cumbria has some pretty hills, and lakes too.  "
   ]
  },
  {
   "cell_type": "code",
   "execution_count": 6,
   "metadata": {
    "attributes": {
     "classes": [
      " Bash"
     ],
     "id": ""
    }
   },
   "outputs": [
    {
     "name": "stdout",
     "output_type": "stream",
     "text": [
      "Lakeland\n",
      "========\n",
      "\n",
      "Cumbria has some pretty hills, and lakes too.  \n"
     ]
    }
   ],
   "source": [
    "!cat lakeland.md"
   ]
  },
  {
   "cell_type": "markdown",
   "metadata": {},
   "source": [
    "### Git will not by default commit your new file\n"
   ]
  },
  {
   "cell_type": "code",
   "execution_count": 7,
   "metadata": {
    "attributes": {
     "classes": [
      " Bash"
     ],
     "id": ""
    }
   },
   "outputs": [
    {
     "name": "stdout",
     "output_type": "stream",
     "text": [
      "On branch main\n",
      "Your branch is up to date with 'origin/main'.\n",
      "\n",
      "Untracked files:\n",
      "  (use \"git add <file>...\" to include in what will be committed)\n",
      "\tlakeland.md\n",
      "\n",
      "nothing added to commit but untracked files present (use \"git add\" to track)\n",
      "Commit failed\n"
     ]
    }
   ],
   "source": [
    "%%bash\n",
    "git commit -am \"Try to add Lakeland\" || echo \"Commit failed\""
   ]
  },
  {
   "cell_type": "markdown",
   "metadata": {},
   "source": [
    "This failed, because we've not told git to track the new file yet.\n"
   ]
  },
  {
   "cell_type": "markdown",
   "metadata": {},
   "source": [
    "### Tell git about the new file\n"
   ]
  },
  {
   "cell_type": "code",
   "execution_count": 8,
   "metadata": {
    "attributes": {
     "classes": [
      " Bash"
     ],
     "id": ""
    }
   },
   "outputs": [
    {
     "name": "stdout",
     "output_type": "stream",
     "text": [
      "[main b943bed] Add lakeland\n",
      " 1 file changed, 4 insertions(+)\n",
      " create mode 100644 lakeland.md\n"
     ]
    }
   ],
   "source": [
    "%%bash\n",
    "git add lakeland.md\n",
    "git commit -am \"Add lakeland\""
   ]
  },
  {
   "cell_type": "markdown",
   "metadata": {},
   "source": [
    "Ok, now we have added the change about Cumbria to the file. Let's publish it to the origin repository.\n"
   ]
  },
  {
   "cell_type": "code",
   "execution_count": 9,
   "metadata": {
    "attributes": {
     "classes": [
      " Bash"
     ],
     "id": ""
    }
   },
   "outputs": [
    {
     "name": "stderr",
     "output_type": "stream",
     "text": [
      "To https://github.com/chu-aie/github-example.git\n",
      "   9793609..b943bed  main -> main\n"
     ]
    }
   ],
   "source": [
    "%%bash\n",
    "git push"
   ]
  },
  {
   "cell_type": "markdown",
   "metadata": {},
   "source": [
    "Visit GitHub, and notice this change is on your repository on the server. We could have said `git push origin` to specify the remote to use, but origin is the default.\n"
   ]
  },
  {
   "cell_type": "markdown",
   "metadata": {},
   "source": [
    "## Changing two files at once\n"
   ]
  },
  {
   "cell_type": "markdown",
   "metadata": {},
   "source": [
    "What if we change both files?\n"
   ]
  },
  {
   "cell_type": "code",
   "execution_count": 10,
   "metadata": {},
   "outputs": [
    {
     "name": "stdout",
     "output_type": "stream",
     "text": [
      "Overwriting lakeland.md\n"
     ]
    }
   ],
   "source": [
    "%%writefile lakeland.md\n",
    "Lakeland\n",
    "========\n",
    "\n",
    "Cumbria has some pretty hills, and lakes too\n",
    "\n",
    "Mountains:\n",
    "* Helvellyn"
   ]
  },
  {
   "cell_type": "code",
   "execution_count": 11,
   "metadata": {},
   "outputs": [
    {
     "name": "stdout",
     "output_type": "stream",
     "text": [
      "Overwriting test.md\n"
     ]
    }
   ],
   "source": [
    "%%writefile test.md\n",
    "Mountains and Lakes in the UK\n",
    "===================\n",
    "Engerland is not very mountainous.\n",
    "But has some tall hills, and maybe a\n",
    "mountain or two depending on your definition."
   ]
  },
  {
   "cell_type": "code",
   "execution_count": 12,
   "metadata": {},
   "outputs": [
    {
     "name": "stdout",
     "output_type": "stream",
     "text": [
      "On branch main\n",
      "Your branch is up to date with 'origin/main'.\n",
      "\n",
      "Changes not staged for commit:\n",
      "  (use \"git add <file>...\" to update what will be committed)\n",
      "  (use \"git restore <file>...\" to discard changes in working directory)\n",
      "\tmodified:   lakeland.md\n",
      "\tmodified:   test.md\n",
      "\n",
      "no changes added to commit (use \"git add\" and/or \"git commit -a\")\n"
     ]
    }
   ],
   "source": [
    "%%bash\n",
    "git status"
   ]
  },
  {
   "cell_type": "markdown",
   "metadata": {},
   "source": [
    "These changes should really be separate commits. We can do this with careful use of git add, to **stage** first one commit, then the other.\n"
   ]
  },
  {
   "cell_type": "code",
   "execution_count": 13,
   "metadata": {},
   "outputs": [
    {
     "name": "stdout",
     "output_type": "stream",
     "text": [
      "[main d2b4434] Include lakes in the scope\n",
      " 1 file changed, 4 insertions(+), 3 deletions(-)\n"
     ]
    }
   ],
   "source": [
    "%%bash\n",
    "git add test.md\n",
    "git commit -m \"Include lakes in the scope\""
   ]
  },
  {
   "cell_type": "markdown",
   "metadata": {},
   "source": [
    "Because we \"staged\" only test.md, the changes to lakeland.md were not included in that commit.\n"
   ]
  },
  {
   "cell_type": "code",
   "execution_count": 14,
   "metadata": {},
   "outputs": [
    {
     "name": "stdout",
     "output_type": "stream",
     "text": [
      "[main 4fa39c8] Add Helvellyn\n",
      " 1 file changed, 4 insertions(+), 1 deletion(-)\n"
     ]
    }
   ],
   "source": [
    "%%bash\n",
    "git commit -am \"Add Helvellyn\""
   ]
  },
  {
   "cell_type": "code",
   "execution_count": 15,
   "metadata": {},
   "outputs": [
    {
     "name": "stdout",
     "output_type": "stream",
     "text": [
      "4fa39c8 Add Helvellyn\n",
      "d2b4434 Include lakes in the scope\n",
      "b943bed Add lakeland\n",
      "9793609 Revert \"Add a lie about a mountain\"\n",
      "6626d56 Change title\n",
      "453f5bc Add a lie about a mountain\n",
      "74efc42 First commit of discourse on UK topography\n"
     ]
    }
   ],
   "source": [
    "%%bash\n",
    "git log --oneline"
   ]
  },
  {
   "cell_type": "code",
   "execution_count": 16,
   "metadata": {},
   "outputs": [
    {
     "name": "stderr",
     "output_type": "stream",
     "text": [
      "To https://github.com/chu-aie/github-example.git\n",
      "   b943bed..4fa39c8  main -> main\n"
     ]
    }
   ],
   "source": [
    "%%bash\n",
    "git push"
   ]
  },
  {
   "cell_type": "markdown",
   "metadata": {},
   "source": [
    "```{mermaid}\n",
    ":align: center\n",
    "\n",
    "sequenceDiagram\n",
    "  participant M as Jim's remote\n",
    "  participant R as Jim's repo\n",
    "  participant I as Jim's index\n",
    "  participant J as Jim\n",
    "\n",
    "  Note over J: vim test.md\n",
    "  Note over J: vim lakeland.md\n",
    "\n",
    "  Note over J: git add test.md\n",
    "  J->>I: Add *only* the changes to test.md to the staging area\n",
    "\n",
    "  Note over J: git commit -m \"Include lakes\"\n",
    "  I->>R: Make a commit from currently staged changes: test.md only\n",
    "\n",
    "  Note over J: git commit -am \"Add Helvellyn\"\n",
    "  J->>I: Stage *all remaining* changes, (lakeland.md)\n",
    "  I->>R: Make a commit from currently staged changes\n",
    "\n",
    "  Note over J: git push\n",
    "  R->>M: Transfer commits to Github\n",
    "\n",
    "```\n"
   ]
  }
 ],
 "metadata": {
  "jekyll": {
   "display_name": "Publishing"
  },
  "kernelspec": {
   "display_name": "Python 3 (ipykernel)",
   "language": "python",
   "name": "python3"
  },
  "language_info": {
   "codemirror_mode": {
    "name": "ipython",
    "version": 3
   },
   "file_extension": ".py",
   "mimetype": "text/x-python",
   "name": "python",
   "nbconvert_exporter": "python",
   "pygments_lexer": "ipython3",
   "version": "3.8.10"
  }
 },
 "nbformat": 4,
 "nbformat_minor": 1
}
