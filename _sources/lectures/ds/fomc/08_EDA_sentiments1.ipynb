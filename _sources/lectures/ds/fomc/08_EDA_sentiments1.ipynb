{
 "cells": [
  {
   "attachments": {},
   "cell_type": "markdown",
   "metadata": {},
   "source": [
    "# EDA on Sentiments: Correlation\n",
    "\n",
    "Analyse statement by Loughran and McDonald dictionary\n"
   ]
  },
  {
   "cell_type": "code",
   "execution_count": 1,
   "metadata": {
    "scrolled": true
   },
   "outputs": [
    {
     "name": "stderr",
     "output_type": "stream",
     "text": [
      "INFO:ekorpkit.base:IPython version: (6, 9, 0), client: jupyter_client\n",
      "INFO:ekorpkit.base:Google Colab not detected.\n"
     ]
    },
    {
     "name": "stdout",
     "output_type": "stream",
     "text": [
      "version: 0.1.35+0.g69734d6.dirty\n",
      "is notebook? True\n",
      "is colab? False\n",
      "evironment varialbles:\n",
      "{'CUDA_DEVICE_ORDER': None,\n",
      " 'CUDA_VISIBLE_DEVICES': None,\n",
      " 'EKORPKIT_CONFIG_DIR': '/workspace/projects/ekorpkit-book/config',\n",
      " 'EKORPKIT_DATA_DIR': None,\n",
      " 'EKORPKIT_LOG_LEVEL': 'WARNING',\n",
      " 'EKORPKIT_PROJECT': 'ekorpkit-book',\n",
      " 'EKORPKIT_WORKSPACE_ROOT': '/workspace',\n",
      " 'KMP_DUPLICATE_LIB_OK': 'TRUE',\n",
      " 'NUM_WORKERS': 230}\n"
     ]
    }
   ],
   "source": [
    "%config InlineBackend.figure_format='retina'\n",
    "from ekorpkit import eKonf\n",
    "\n",
    "eKonf.setLogger(\"WARNING\")\n",
    "print(\"version:\", eKonf.__version__)\n",
    "print(\"is notebook?\", eKonf.is_notebook())\n",
    "print(\"is colab?\", eKonf.is_colab())\n",
    "print(\"evironment varialbles:\")\n",
    "eKonf.print(eKonf.env().dict())"
   ]
  },
  {
   "cell_type": "code",
   "execution_count": 2,
   "metadata": {},
   "outputs": [
    {
     "data": {
      "text/plain": [
       "pydantic.types.SecretStr"
      ]
     },
     "execution_count": 2,
     "metadata": {},
     "output_type": "execute_result"
    }
   ],
   "source": [
    "start_year = 1999\n",
    "data_dir = \"../data/fomc\"\n",
    "eKonf.env().FRED_API_KEY"
   ]
  },
  {
   "attachments": {},
   "cell_type": "markdown",
   "metadata": {},
   "source": [
    "## Load datasets\n"
   ]
  },
  {
   "cell_type": "code",
   "execution_count": 3,
   "metadata": {},
   "outputs": [
    {
     "data": {
      "text/html": [
       "<div>\n",
       "<style scoped>\n",
       "    .dataframe tbody tr th:only-of-type {\n",
       "        vertical-align: middle;\n",
       "    }\n",
       "\n",
       "    .dataframe tbody tr th {\n",
       "        vertical-align: top;\n",
       "    }\n",
       "\n",
       "    .dataframe thead th {\n",
       "        text-align: right;\n",
       "    }\n",
       "</style>\n",
       "<table border=\"1\" class=\"dataframe\">\n",
       "  <thead>\n",
       "    <tr style=\"text-align: right;\">\n",
       "      <th></th>\n",
       "      <th>polarity_mean_beigebook</th>\n",
       "      <th>polarity_mean_meeting_script</th>\n",
       "      <th>polarity_mean_minutes</th>\n",
       "      <th>polarity_mean_press_conf</th>\n",
       "      <th>polarity_mean_speech</th>\n",
       "      <th>polarity_mean_statement</th>\n",
       "      <th>polarity_mean_testimony</th>\n",
       "      <th>polarity_diffusion_beigebook</th>\n",
       "      <th>polarity_diffusion_meeting_script</th>\n",
       "      <th>polarity_diffusion_minutes</th>\n",
       "      <th>...</th>\n",
       "      <th>num_tokens_sum_speech</th>\n",
       "      <th>num_tokens_sum_statement</th>\n",
       "      <th>num_tokens_sum_testimony</th>\n",
       "      <th>num_tokens_mean_beigebook</th>\n",
       "      <th>num_tokens_mean_meeting_script</th>\n",
       "      <th>num_tokens_mean_minutes</th>\n",
       "      <th>num_tokens_mean_press_conf</th>\n",
       "      <th>num_tokens_mean_speech</th>\n",
       "      <th>num_tokens_mean_statement</th>\n",
       "      <th>num_tokens_mean_testimony</th>\n",
       "    </tr>\n",
       "    <tr>\n",
       "      <th>date</th>\n",
       "      <th></th>\n",
       "      <th></th>\n",
       "      <th></th>\n",
       "      <th></th>\n",
       "      <th></th>\n",
       "      <th></th>\n",
       "      <th></th>\n",
       "      <th></th>\n",
       "      <th></th>\n",
       "      <th></th>\n",
       "      <th></th>\n",
       "      <th></th>\n",
       "      <th></th>\n",
       "      <th></th>\n",
       "      <th></th>\n",
       "      <th></th>\n",
       "      <th></th>\n",
       "      <th></th>\n",
       "      <th></th>\n",
       "      <th></th>\n",
       "      <th></th>\n",
       "    </tr>\n",
       "  </thead>\n",
       "  <tbody>\n",
       "    <tr>\n",
       "      <th>1990-02-07</th>\n",
       "      <td>NaN</td>\n",
       "      <td>-0.087583</td>\n",
       "      <td>NaN</td>\n",
       "      <td>NaN</td>\n",
       "      <td>NaN</td>\n",
       "      <td>NaN</td>\n",
       "      <td>NaN</td>\n",
       "      <td>NaN</td>\n",
       "      <td>-0.095663</td>\n",
       "      <td>NaN</td>\n",
       "      <td>...</td>\n",
       "      <td>NaN</td>\n",
       "      <td>NaN</td>\n",
       "      <td>NaN</td>\n",
       "      <td>NaN</td>\n",
       "      <td>30.213010</td>\n",
       "      <td>NaN</td>\n",
       "      <td>NaN</td>\n",
       "      <td>NaN</td>\n",
       "      <td>NaN</td>\n",
       "      <td>NaN</td>\n",
       "    </tr>\n",
       "    <tr>\n",
       "      <th>1990-03-27</th>\n",
       "      <td>NaN</td>\n",
       "      <td>-0.171992</td>\n",
       "      <td>NaN</td>\n",
       "      <td>NaN</td>\n",
       "      <td>NaN</td>\n",
       "      <td>NaN</td>\n",
       "      <td>NaN</td>\n",
       "      <td>NaN</td>\n",
       "      <td>-0.179702</td>\n",
       "      <td>NaN</td>\n",
       "      <td>...</td>\n",
       "      <td>NaN</td>\n",
       "      <td>NaN</td>\n",
       "      <td>NaN</td>\n",
       "      <td>NaN</td>\n",
       "      <td>29.846369</td>\n",
       "      <td>NaN</td>\n",
       "      <td>NaN</td>\n",
       "      <td>NaN</td>\n",
       "      <td>NaN</td>\n",
       "      <td>NaN</td>\n",
       "    </tr>\n",
       "    <tr>\n",
       "      <th>1990-05-15</th>\n",
       "      <td>NaN</td>\n",
       "      <td>-0.116052</td>\n",
       "      <td>NaN</td>\n",
       "      <td>NaN</td>\n",
       "      <td>NaN</td>\n",
       "      <td>NaN</td>\n",
       "      <td>NaN</td>\n",
       "      <td>NaN</td>\n",
       "      <td>-0.125461</td>\n",
       "      <td>NaN</td>\n",
       "      <td>...</td>\n",
       "      <td>NaN</td>\n",
       "      <td>NaN</td>\n",
       "      <td>NaN</td>\n",
       "      <td>NaN</td>\n",
       "      <td>29.749077</td>\n",
       "      <td>NaN</td>\n",
       "      <td>NaN</td>\n",
       "      <td>NaN</td>\n",
       "      <td>NaN</td>\n",
       "      <td>NaN</td>\n",
       "    </tr>\n",
       "    <tr>\n",
       "      <th>1990-07-03</th>\n",
       "      <td>NaN</td>\n",
       "      <td>-0.114829</td>\n",
       "      <td>NaN</td>\n",
       "      <td>NaN</td>\n",
       "      <td>NaN</td>\n",
       "      <td>NaN</td>\n",
       "      <td>NaN</td>\n",
       "      <td>NaN</td>\n",
       "      <td>-0.117794</td>\n",
       "      <td>NaN</td>\n",
       "      <td>...</td>\n",
       "      <td>NaN</td>\n",
       "      <td>NaN</td>\n",
       "      <td>NaN</td>\n",
       "      <td>NaN</td>\n",
       "      <td>29.667920</td>\n",
       "      <td>NaN</td>\n",
       "      <td>NaN</td>\n",
       "      <td>NaN</td>\n",
       "      <td>NaN</td>\n",
       "      <td>NaN</td>\n",
       "    </tr>\n",
       "    <tr>\n",
       "      <th>1990-08-21</th>\n",
       "      <td>NaN</td>\n",
       "      <td>-0.209552</td>\n",
       "      <td>NaN</td>\n",
       "      <td>NaN</td>\n",
       "      <td>NaN</td>\n",
       "      <td>NaN</td>\n",
       "      <td>NaN</td>\n",
       "      <td>NaN</td>\n",
       "      <td>-0.219403</td>\n",
       "      <td>NaN</td>\n",
       "      <td>...</td>\n",
       "      <td>NaN</td>\n",
       "      <td>NaN</td>\n",
       "      <td>NaN</td>\n",
       "      <td>NaN</td>\n",
       "      <td>31.032836</td>\n",
       "      <td>NaN</td>\n",
       "      <td>NaN</td>\n",
       "      <td>NaN</td>\n",
       "      <td>NaN</td>\n",
       "      <td>NaN</td>\n",
       "    </tr>\n",
       "    <tr>\n",
       "      <th>...</th>\n",
       "      <td>...</td>\n",
       "      <td>...</td>\n",
       "      <td>...</td>\n",
       "      <td>...</td>\n",
       "      <td>...</td>\n",
       "      <td>...</td>\n",
       "      <td>...</td>\n",
       "      <td>...</td>\n",
       "      <td>...</td>\n",
       "      <td>...</td>\n",
       "      <td>...</td>\n",
       "      <td>...</td>\n",
       "      <td>...</td>\n",
       "      <td>...</td>\n",
       "      <td>...</td>\n",
       "      <td>...</td>\n",
       "      <td>...</td>\n",
       "      <td>...</td>\n",
       "      <td>...</td>\n",
       "      <td>...</td>\n",
       "      <td>...</td>\n",
       "    </tr>\n",
       "    <tr>\n",
       "      <th>2021-11-30</th>\n",
       "      <td>NaN</td>\n",
       "      <td>NaN</td>\n",
       "      <td>NaN</td>\n",
       "      <td>NaN</td>\n",
       "      <td>-0.167014</td>\n",
       "      <td>NaN</td>\n",
       "      <td>-0.12</td>\n",
       "      <td>NaN</td>\n",
       "      <td>NaN</td>\n",
       "      <td>NaN</td>\n",
       "      <td>...</td>\n",
       "      <td>3066.0</td>\n",
       "      <td>NaN</td>\n",
       "      <td>556.0</td>\n",
       "      <td>NaN</td>\n",
       "      <td>NaN</td>\n",
       "      <td>NaN</td>\n",
       "      <td>NaN</td>\n",
       "      <td>31.937500</td>\n",
       "      <td>NaN</td>\n",
       "      <td>27.8</td>\n",
       "    </tr>\n",
       "    <tr>\n",
       "      <th>2021-12-01</th>\n",
       "      <td>-0.046022</td>\n",
       "      <td>NaN</td>\n",
       "      <td>NaN</td>\n",
       "      <td>NaN</td>\n",
       "      <td>NaN</td>\n",
       "      <td>NaN</td>\n",
       "      <td>NaN</td>\n",
       "      <td>-0.048109</td>\n",
       "      <td>NaN</td>\n",
       "      <td>NaN</td>\n",
       "      <td>...</td>\n",
       "      <td>NaN</td>\n",
       "      <td>NaN</td>\n",
       "      <td>NaN</td>\n",
       "      <td>22.539497</td>\n",
       "      <td>NaN</td>\n",
       "      <td>NaN</td>\n",
       "      <td>NaN</td>\n",
       "      <td>NaN</td>\n",
       "      <td>NaN</td>\n",
       "      <td>NaN</td>\n",
       "    </tr>\n",
       "    <tr>\n",
       "      <th>2021-12-02</th>\n",
       "      <td>NaN</td>\n",
       "      <td>NaN</td>\n",
       "      <td>NaN</td>\n",
       "      <td>NaN</td>\n",
       "      <td>-0.077381</td>\n",
       "      <td>NaN</td>\n",
       "      <td>NaN</td>\n",
       "      <td>NaN</td>\n",
       "      <td>NaN</td>\n",
       "      <td>NaN</td>\n",
       "      <td>...</td>\n",
       "      <td>6514.0</td>\n",
       "      <td>NaN</td>\n",
       "      <td>NaN</td>\n",
       "      <td>NaN</td>\n",
       "      <td>NaN</td>\n",
       "      <td>NaN</td>\n",
       "      <td>NaN</td>\n",
       "      <td>36.188889</td>\n",
       "      <td>NaN</td>\n",
       "      <td>NaN</td>\n",
       "    </tr>\n",
       "    <tr>\n",
       "      <th>2021-12-15</th>\n",
       "      <td>NaN</td>\n",
       "      <td>NaN</td>\n",
       "      <td>-0.043929</td>\n",
       "      <td>-0.075441</td>\n",
       "      <td>NaN</td>\n",
       "      <td>0.166667</td>\n",
       "      <td>NaN</td>\n",
       "      <td>NaN</td>\n",
       "      <td>NaN</td>\n",
       "      <td>-0.064286</td>\n",
       "      <td>...</td>\n",
       "      <td>NaN</td>\n",
       "      <td>489.0</td>\n",
       "      <td>NaN</td>\n",
       "      <td>NaN</td>\n",
       "      <td>NaN</td>\n",
       "      <td>30.521429</td>\n",
       "      <td>37.587413</td>\n",
       "      <td>NaN</td>\n",
       "      <td>27.166667</td>\n",
       "      <td>NaN</td>\n",
       "    </tr>\n",
       "    <tr>\n",
       "      <th>2021-12-17</th>\n",
       "      <td>NaN</td>\n",
       "      <td>NaN</td>\n",
       "      <td>NaN</td>\n",
       "      <td>NaN</td>\n",
       "      <td>-0.356613</td>\n",
       "      <td>NaN</td>\n",
       "      <td>NaN</td>\n",
       "      <td>NaN</td>\n",
       "      <td>NaN</td>\n",
       "      <td>NaN</td>\n",
       "      <td>...</td>\n",
       "      <td>3694.0</td>\n",
       "      <td>NaN</td>\n",
       "      <td>NaN</td>\n",
       "      <td>NaN</td>\n",
       "      <td>NaN</td>\n",
       "      <td>NaN</td>\n",
       "      <td>NaN</td>\n",
       "      <td>29.317460</td>\n",
       "      <td>NaN</td>\n",
       "      <td>NaN</td>\n",
       "    </tr>\n",
       "  </tbody>\n",
       "</table>\n",
       "<p>1876 rows × 35 columns</p>\n",
       "</div>"
      ],
      "text/plain": [
       "            polarity_mean_beigebook  polarity_mean_meeting_script  \\\n",
       "date                                                                \n",
       "1990-02-07                      NaN                     -0.087583   \n",
       "1990-03-27                      NaN                     -0.171992   \n",
       "1990-05-15                      NaN                     -0.116052   \n",
       "1990-07-03                      NaN                     -0.114829   \n",
       "1990-08-21                      NaN                     -0.209552   \n",
       "...                             ...                           ...   \n",
       "2021-11-30                      NaN                           NaN   \n",
       "2021-12-01                -0.046022                           NaN   \n",
       "2021-12-02                      NaN                           NaN   \n",
       "2021-12-15                      NaN                           NaN   \n",
       "2021-12-17                      NaN                           NaN   \n",
       "\n",
       "            polarity_mean_minutes  polarity_mean_press_conf  \\\n",
       "date                                                          \n",
       "1990-02-07                    NaN                       NaN   \n",
       "1990-03-27                    NaN                       NaN   \n",
       "1990-05-15                    NaN                       NaN   \n",
       "1990-07-03                    NaN                       NaN   \n",
       "1990-08-21                    NaN                       NaN   \n",
       "...                           ...                       ...   \n",
       "2021-11-30                    NaN                       NaN   \n",
       "2021-12-01                    NaN                       NaN   \n",
       "2021-12-02                    NaN                       NaN   \n",
       "2021-12-15              -0.043929                 -0.075441   \n",
       "2021-12-17                    NaN                       NaN   \n",
       "\n",
       "            polarity_mean_speech  polarity_mean_statement  \\\n",
       "date                                                        \n",
       "1990-02-07                   NaN                      NaN   \n",
       "1990-03-27                   NaN                      NaN   \n",
       "1990-05-15                   NaN                      NaN   \n",
       "1990-07-03                   NaN                      NaN   \n",
       "1990-08-21                   NaN                      NaN   \n",
       "...                          ...                      ...   \n",
       "2021-11-30             -0.167014                      NaN   \n",
       "2021-12-01                   NaN                      NaN   \n",
       "2021-12-02             -0.077381                      NaN   \n",
       "2021-12-15                   NaN                 0.166667   \n",
       "2021-12-17             -0.356613                      NaN   \n",
       "\n",
       "            polarity_mean_testimony  polarity_diffusion_beigebook  \\\n",
       "date                                                                \n",
       "1990-02-07                      NaN                           NaN   \n",
       "1990-03-27                      NaN                           NaN   \n",
       "1990-05-15                      NaN                           NaN   \n",
       "1990-07-03                      NaN                           NaN   \n",
       "1990-08-21                      NaN                           NaN   \n",
       "...                             ...                           ...   \n",
       "2021-11-30                    -0.12                           NaN   \n",
       "2021-12-01                      NaN                     -0.048109   \n",
       "2021-12-02                      NaN                           NaN   \n",
       "2021-12-15                      NaN                           NaN   \n",
       "2021-12-17                      NaN                           NaN   \n",
       "\n",
       "            polarity_diffusion_meeting_script  polarity_diffusion_minutes  \\\n",
       "date                                                                        \n",
       "1990-02-07                          -0.095663                         NaN   \n",
       "1990-03-27                          -0.179702                         NaN   \n",
       "1990-05-15                          -0.125461                         NaN   \n",
       "1990-07-03                          -0.117794                         NaN   \n",
       "1990-08-21                          -0.219403                         NaN   \n",
       "...                                       ...                         ...   \n",
       "2021-11-30                                NaN                         NaN   \n",
       "2021-12-01                                NaN                         NaN   \n",
       "2021-12-02                                NaN                         NaN   \n",
       "2021-12-15                                NaN                   -0.064286   \n",
       "2021-12-17                                NaN                         NaN   \n",
       "\n",
       "            ...  num_tokens_sum_speech  num_tokens_sum_statement  \\\n",
       "date        ...                                                    \n",
       "1990-02-07  ...                    NaN                       NaN   \n",
       "1990-03-27  ...                    NaN                       NaN   \n",
       "1990-05-15  ...                    NaN                       NaN   \n",
       "1990-07-03  ...                    NaN                       NaN   \n",
       "1990-08-21  ...                    NaN                       NaN   \n",
       "...         ...                    ...                       ...   \n",
       "2021-11-30  ...                 3066.0                       NaN   \n",
       "2021-12-01  ...                    NaN                       NaN   \n",
       "2021-12-02  ...                 6514.0                       NaN   \n",
       "2021-12-15  ...                    NaN                     489.0   \n",
       "2021-12-17  ...                 3694.0                       NaN   \n",
       "\n",
       "            num_tokens_sum_testimony  num_tokens_mean_beigebook  \\\n",
       "date                                                              \n",
       "1990-02-07                       NaN                        NaN   \n",
       "1990-03-27                       NaN                        NaN   \n",
       "1990-05-15                       NaN                        NaN   \n",
       "1990-07-03                       NaN                        NaN   \n",
       "1990-08-21                       NaN                        NaN   \n",
       "...                              ...                        ...   \n",
       "2021-11-30                     556.0                        NaN   \n",
       "2021-12-01                       NaN                  22.539497   \n",
       "2021-12-02                       NaN                        NaN   \n",
       "2021-12-15                       NaN                        NaN   \n",
       "2021-12-17                       NaN                        NaN   \n",
       "\n",
       "            num_tokens_mean_meeting_script  num_tokens_mean_minutes  \\\n",
       "date                                                                  \n",
       "1990-02-07                       30.213010                      NaN   \n",
       "1990-03-27                       29.846369                      NaN   \n",
       "1990-05-15                       29.749077                      NaN   \n",
       "1990-07-03                       29.667920                      NaN   \n",
       "1990-08-21                       31.032836                      NaN   \n",
       "...                                    ...                      ...   \n",
       "2021-11-30                             NaN                      NaN   \n",
       "2021-12-01                             NaN                      NaN   \n",
       "2021-12-02                             NaN                      NaN   \n",
       "2021-12-15                             NaN                30.521429   \n",
       "2021-12-17                             NaN                      NaN   \n",
       "\n",
       "            num_tokens_mean_press_conf  num_tokens_mean_speech  \\\n",
       "date                                                             \n",
       "1990-02-07                         NaN                     NaN   \n",
       "1990-03-27                         NaN                     NaN   \n",
       "1990-05-15                         NaN                     NaN   \n",
       "1990-07-03                         NaN                     NaN   \n",
       "1990-08-21                         NaN                     NaN   \n",
       "...                                ...                     ...   \n",
       "2021-11-30                         NaN               31.937500   \n",
       "2021-12-01                         NaN                     NaN   \n",
       "2021-12-02                         NaN               36.188889   \n",
       "2021-12-15                   37.587413                     NaN   \n",
       "2021-12-17                         NaN               29.317460   \n",
       "\n",
       "            num_tokens_mean_statement  num_tokens_mean_testimony  \n",
       "date                                                              \n",
       "1990-02-07                        NaN                        NaN  \n",
       "1990-03-27                        NaN                        NaN  \n",
       "1990-05-15                        NaN                        NaN  \n",
       "1990-07-03                        NaN                        NaN  \n",
       "1990-08-21                        NaN                        NaN  \n",
       "...                               ...                        ...  \n",
       "2021-11-30                        NaN                       27.8  \n",
       "2021-12-01                        NaN                        NaN  \n",
       "2021-12-02                        NaN                        NaN  \n",
       "2021-12-15                  27.166667                        NaN  \n",
       "2021-12-17                        NaN                        NaN  \n",
       "\n",
       "[1876 rows x 35 columns]"
      ]
     },
     "execution_count": 3,
     "metadata": {},
     "output_type": "execute_result"
    }
   ],
   "source": [
    "tone_data_lm = eKonf.load_data(\"fomc_tone_data_lm.parquet\", data_dir)\n",
    "tone_data_lm\n"
   ]
  },
  {
   "cell_type": "code",
   "execution_count": 4,
   "metadata": {},
   "outputs": [
    {
     "data": {
      "text/html": [
       "<div>\n",
       "<style scoped>\n",
       "    .dataframe tbody tr th:only-of-type {\n",
       "        vertical-align: middle;\n",
       "    }\n",
       "\n",
       "    .dataframe tbody tr th {\n",
       "        vertical-align: top;\n",
       "    }\n",
       "\n",
       "    .dataframe thead th {\n",
       "        text-align: right;\n",
       "    }\n",
       "</style>\n",
       "<table border=\"1\" class=\"dataframe\">\n",
       "  <thead>\n",
       "    <tr style=\"text-align: right;\">\n",
       "      <th></th>\n",
       "      <th>finbert_mean_minutes</th>\n",
       "      <th>finbert_mean_press_conf</th>\n",
       "      <th>finbert_mean_speech</th>\n",
       "      <th>finbert_mean_statement</th>\n",
       "      <th>finbert_diffusion_minutes</th>\n",
       "      <th>finbert_diffusion_press_conf</th>\n",
       "      <th>finbert_diffusion_speech</th>\n",
       "      <th>finbert_diffusion_statement</th>\n",
       "    </tr>\n",
       "    <tr>\n",
       "      <th>date</th>\n",
       "      <th></th>\n",
       "      <th></th>\n",
       "      <th></th>\n",
       "      <th></th>\n",
       "      <th></th>\n",
       "      <th></th>\n",
       "      <th></th>\n",
       "      <th></th>\n",
       "    </tr>\n",
       "  </thead>\n",
       "  <tbody>\n",
       "    <tr>\n",
       "      <th>1990-02-07</th>\n",
       "      <td>NaN</td>\n",
       "      <td>NaN</td>\n",
       "      <td>NaN</td>\n",
       "      <td>NaN</td>\n",
       "      <td>NaN</td>\n",
       "      <td>NaN</td>\n",
       "      <td>NaN</td>\n",
       "      <td>NaN</td>\n",
       "    </tr>\n",
       "    <tr>\n",
       "      <th>1990-03-27</th>\n",
       "      <td>NaN</td>\n",
       "      <td>NaN</td>\n",
       "      <td>NaN</td>\n",
       "      <td>NaN</td>\n",
       "      <td>NaN</td>\n",
       "      <td>NaN</td>\n",
       "      <td>NaN</td>\n",
       "      <td>NaN</td>\n",
       "    </tr>\n",
       "    <tr>\n",
       "      <th>1990-05-15</th>\n",
       "      <td>NaN</td>\n",
       "      <td>NaN</td>\n",
       "      <td>NaN</td>\n",
       "      <td>NaN</td>\n",
       "      <td>NaN</td>\n",
       "      <td>NaN</td>\n",
       "      <td>NaN</td>\n",
       "      <td>NaN</td>\n",
       "    </tr>\n",
       "    <tr>\n",
       "      <th>1990-07-03</th>\n",
       "      <td>NaN</td>\n",
       "      <td>NaN</td>\n",
       "      <td>NaN</td>\n",
       "      <td>NaN</td>\n",
       "      <td>NaN</td>\n",
       "      <td>NaN</td>\n",
       "      <td>NaN</td>\n",
       "      <td>NaN</td>\n",
       "    </tr>\n",
       "    <tr>\n",
       "      <th>1990-08-21</th>\n",
       "      <td>NaN</td>\n",
       "      <td>NaN</td>\n",
       "      <td>NaN</td>\n",
       "      <td>NaN</td>\n",
       "      <td>NaN</td>\n",
       "      <td>NaN</td>\n",
       "      <td>NaN</td>\n",
       "      <td>NaN</td>\n",
       "    </tr>\n",
       "    <tr>\n",
       "      <th>...</th>\n",
       "      <td>...</td>\n",
       "      <td>...</td>\n",
       "      <td>...</td>\n",
       "      <td>...</td>\n",
       "      <td>...</td>\n",
       "      <td>...</td>\n",
       "      <td>...</td>\n",
       "      <td>...</td>\n",
       "    </tr>\n",
       "    <tr>\n",
       "      <th>2021-11-30</th>\n",
       "      <td>NaN</td>\n",
       "      <td>NaN</td>\n",
       "      <td>0.182338</td>\n",
       "      <td>NaN</td>\n",
       "      <td>NaN</td>\n",
       "      <td>NaN</td>\n",
       "      <td>0.239583</td>\n",
       "      <td>NaN</td>\n",
       "    </tr>\n",
       "    <tr>\n",
       "      <th>2021-12-01</th>\n",
       "      <td>NaN</td>\n",
       "      <td>NaN</td>\n",
       "      <td>NaN</td>\n",
       "      <td>NaN</td>\n",
       "      <td>NaN</td>\n",
       "      <td>NaN</td>\n",
       "      <td>NaN</td>\n",
       "      <td>NaN</td>\n",
       "    </tr>\n",
       "    <tr>\n",
       "      <th>2021-12-02</th>\n",
       "      <td>NaN</td>\n",
       "      <td>NaN</td>\n",
       "      <td>0.262141</td>\n",
       "      <td>NaN</td>\n",
       "      <td>NaN</td>\n",
       "      <td>NaN</td>\n",
       "      <td>0.338889</td>\n",
       "      <td>NaN</td>\n",
       "    </tr>\n",
       "    <tr>\n",
       "      <th>2021-12-15</th>\n",
       "      <td>0.509806</td>\n",
       "      <td>0.280516</td>\n",
       "      <td>NaN</td>\n",
       "      <td>0.412947</td>\n",
       "      <td>0.675</td>\n",
       "      <td>0.377622</td>\n",
       "      <td>NaN</td>\n",
       "      <td>0.555556</td>\n",
       "    </tr>\n",
       "    <tr>\n",
       "      <th>2021-12-17</th>\n",
       "      <td>NaN</td>\n",
       "      <td>NaN</td>\n",
       "      <td>0.408242</td>\n",
       "      <td>NaN</td>\n",
       "      <td>NaN</td>\n",
       "      <td>NaN</td>\n",
       "      <td>0.547619</td>\n",
       "      <td>NaN</td>\n",
       "    </tr>\n",
       "  </tbody>\n",
       "</table>\n",
       "<p>1876 rows × 8 columns</p>\n",
       "</div>"
      ],
      "text/plain": [
       "            finbert_mean_minutes  finbert_mean_press_conf  \\\n",
       "date                                                        \n",
       "1990-02-07                   NaN                      NaN   \n",
       "1990-03-27                   NaN                      NaN   \n",
       "1990-05-15                   NaN                      NaN   \n",
       "1990-07-03                   NaN                      NaN   \n",
       "1990-08-21                   NaN                      NaN   \n",
       "...                          ...                      ...   \n",
       "2021-11-30                   NaN                      NaN   \n",
       "2021-12-01                   NaN                      NaN   \n",
       "2021-12-02                   NaN                      NaN   \n",
       "2021-12-15              0.509806                 0.280516   \n",
       "2021-12-17                   NaN                      NaN   \n",
       "\n",
       "            finbert_mean_speech  finbert_mean_statement  \\\n",
       "date                                                      \n",
       "1990-02-07                  NaN                     NaN   \n",
       "1990-03-27                  NaN                     NaN   \n",
       "1990-05-15                  NaN                     NaN   \n",
       "1990-07-03                  NaN                     NaN   \n",
       "1990-08-21                  NaN                     NaN   \n",
       "...                         ...                     ...   \n",
       "2021-11-30             0.182338                     NaN   \n",
       "2021-12-01                  NaN                     NaN   \n",
       "2021-12-02             0.262141                     NaN   \n",
       "2021-12-15                  NaN                0.412947   \n",
       "2021-12-17             0.408242                     NaN   \n",
       "\n",
       "            finbert_diffusion_minutes  finbert_diffusion_press_conf  \\\n",
       "date                                                                  \n",
       "1990-02-07                        NaN                           NaN   \n",
       "1990-03-27                        NaN                           NaN   \n",
       "1990-05-15                        NaN                           NaN   \n",
       "1990-07-03                        NaN                           NaN   \n",
       "1990-08-21                        NaN                           NaN   \n",
       "...                               ...                           ...   \n",
       "2021-11-30                        NaN                           NaN   \n",
       "2021-12-01                        NaN                           NaN   \n",
       "2021-12-02                        NaN                           NaN   \n",
       "2021-12-15                      0.675                      0.377622   \n",
       "2021-12-17                        NaN                           NaN   \n",
       "\n",
       "            finbert_diffusion_speech  finbert_diffusion_statement  \n",
       "date                                                               \n",
       "1990-02-07                       NaN                          NaN  \n",
       "1990-03-27                       NaN                          NaN  \n",
       "1990-05-15                       NaN                          NaN  \n",
       "1990-07-03                       NaN                          NaN  \n",
       "1990-08-21                       NaN                          NaN  \n",
       "...                              ...                          ...  \n",
       "2021-11-30                  0.239583                          NaN  \n",
       "2021-12-01                       NaN                          NaN  \n",
       "2021-12-02                  0.338889                          NaN  \n",
       "2021-12-15                       NaN                     0.555556  \n",
       "2021-12-17                  0.547619                          NaN  \n",
       "\n",
       "[1876 rows x 8 columns]"
      ]
     },
     "execution_count": 4,
     "metadata": {},
     "output_type": "execute_result"
    }
   ],
   "source": [
    "tone_data_finbert = eKonf.load_data(\"fomc_tone_data_finbert.parquet\", data_dir)\n",
    "\n",
    "cols = [\n",
    "    \"polarity_mean_minutes\",\n",
    "    \"polarity_mean_press_conf\",\n",
    "    \"polarity_mean_speech\",\n",
    "    \"polarity_mean_statement\",\n",
    "    \"polarity_diffusion_minutes\",\n",
    "    \"polarity_diffusion_press_conf\",\n",
    "    \"polarity_diffusion_speech\",\n",
    "    \"polarity_diffusion_statement\",\n",
    "]\n",
    "\n",
    "tone_data_finbert = tone_data_finbert[cols].copy()\n",
    "tone_data_finbert.columns = tone_data_finbert.columns.str.replace(\"polarity\", \"finbert\")\n",
    "tone_data_finbert\n"
   ]
  },
  {
   "cell_type": "code",
   "execution_count": 5,
   "metadata": {},
   "outputs": [
    {
     "data": {
      "text/html": [
       "<div>\n",
       "<style scoped>\n",
       "    .dataframe tbody tr th:only-of-type {\n",
       "        vertical-align: middle;\n",
       "    }\n",
       "\n",
       "    .dataframe tbody tr th {\n",
       "        vertical-align: top;\n",
       "    }\n",
       "\n",
       "    .dataframe thead th {\n",
       "        text-align: right;\n",
       "    }\n",
       "</style>\n",
       "<table border=\"1\" class=\"dataframe\">\n",
       "  <thead>\n",
       "    <tr style=\"text-align: right;\">\n",
       "      <th></th>\n",
       "      <th>t5_diffusion_minutes</th>\n",
       "      <th>t5_diffusion_press_conf</th>\n",
       "      <th>t5_diffusion_speech</th>\n",
       "      <th>t5_diffusion_statement</th>\n",
       "    </tr>\n",
       "    <tr>\n",
       "      <th>date</th>\n",
       "      <th></th>\n",
       "      <th></th>\n",
       "      <th></th>\n",
       "      <th></th>\n",
       "    </tr>\n",
       "  </thead>\n",
       "  <tbody>\n",
       "    <tr>\n",
       "      <th>1990-02-07</th>\n",
       "      <td>NaN</td>\n",
       "      <td>NaN</td>\n",
       "      <td>NaN</td>\n",
       "      <td>NaN</td>\n",
       "    </tr>\n",
       "    <tr>\n",
       "      <th>1990-03-27</th>\n",
       "      <td>NaN</td>\n",
       "      <td>NaN</td>\n",
       "      <td>NaN</td>\n",
       "      <td>NaN</td>\n",
       "    </tr>\n",
       "    <tr>\n",
       "      <th>1990-05-15</th>\n",
       "      <td>NaN</td>\n",
       "      <td>NaN</td>\n",
       "      <td>NaN</td>\n",
       "      <td>NaN</td>\n",
       "    </tr>\n",
       "    <tr>\n",
       "      <th>1990-07-03</th>\n",
       "      <td>NaN</td>\n",
       "      <td>NaN</td>\n",
       "      <td>NaN</td>\n",
       "      <td>NaN</td>\n",
       "    </tr>\n",
       "    <tr>\n",
       "      <th>1990-08-21</th>\n",
       "      <td>NaN</td>\n",
       "      <td>NaN</td>\n",
       "      <td>NaN</td>\n",
       "      <td>NaN</td>\n",
       "    </tr>\n",
       "    <tr>\n",
       "      <th>...</th>\n",
       "      <td>...</td>\n",
       "      <td>...</td>\n",
       "      <td>...</td>\n",
       "      <td>...</td>\n",
       "    </tr>\n",
       "    <tr>\n",
       "      <th>2021-11-30</th>\n",
       "      <td>NaN</td>\n",
       "      <td>NaN</td>\n",
       "      <td>0.239583</td>\n",
       "      <td>NaN</td>\n",
       "    </tr>\n",
       "    <tr>\n",
       "      <th>2021-12-01</th>\n",
       "      <td>NaN</td>\n",
       "      <td>NaN</td>\n",
       "      <td>NaN</td>\n",
       "      <td>NaN</td>\n",
       "    </tr>\n",
       "    <tr>\n",
       "      <th>2021-12-02</th>\n",
       "      <td>NaN</td>\n",
       "      <td>NaN</td>\n",
       "      <td>0.250000</td>\n",
       "      <td>NaN</td>\n",
       "    </tr>\n",
       "    <tr>\n",
       "      <th>2021-12-15</th>\n",
       "      <td>0.403571</td>\n",
       "      <td>0.216783</td>\n",
       "      <td>NaN</td>\n",
       "      <td>0.444444</td>\n",
       "    </tr>\n",
       "    <tr>\n",
       "      <th>2021-12-17</th>\n",
       "      <td>NaN</td>\n",
       "      <td>NaN</td>\n",
       "      <td>0.174603</td>\n",
       "      <td>NaN</td>\n",
       "    </tr>\n",
       "  </tbody>\n",
       "</table>\n",
       "<p>1876 rows × 4 columns</p>\n",
       "</div>"
      ],
      "text/plain": [
       "            t5_diffusion_minutes  t5_diffusion_press_conf  \\\n",
       "date                                                        \n",
       "1990-02-07                   NaN                      NaN   \n",
       "1990-03-27                   NaN                      NaN   \n",
       "1990-05-15                   NaN                      NaN   \n",
       "1990-07-03                   NaN                      NaN   \n",
       "1990-08-21                   NaN                      NaN   \n",
       "...                          ...                      ...   \n",
       "2021-11-30                   NaN                      NaN   \n",
       "2021-12-01                   NaN                      NaN   \n",
       "2021-12-02                   NaN                      NaN   \n",
       "2021-12-15              0.403571                 0.216783   \n",
       "2021-12-17                   NaN                      NaN   \n",
       "\n",
       "            t5_diffusion_speech  t5_diffusion_statement  \n",
       "date                                                     \n",
       "1990-02-07                  NaN                     NaN  \n",
       "1990-03-27                  NaN                     NaN  \n",
       "1990-05-15                  NaN                     NaN  \n",
       "1990-07-03                  NaN                     NaN  \n",
       "1990-08-21                  NaN                     NaN  \n",
       "...                         ...                     ...  \n",
       "2021-11-30             0.239583                     NaN  \n",
       "2021-12-01                  NaN                     NaN  \n",
       "2021-12-02             0.250000                     NaN  \n",
       "2021-12-15                  NaN                0.444444  \n",
       "2021-12-17             0.174603                     NaN  \n",
       "\n",
       "[1876 rows x 4 columns]"
      ]
     },
     "execution_count": 5,
     "metadata": {},
     "output_type": "execute_result"
    }
   ],
   "source": [
    "tone_data_t5 = eKonf.load_data(\"fomc_tone_data_t5.parquet\", data_dir)\n",
    "\n",
    "cols = [\n",
    "    \"polarity_diffusion_minutes\",\n",
    "    \"polarity_diffusion_press_conf\",\n",
    "    \"polarity_diffusion_speech\",\n",
    "    \"polarity_diffusion_statement\",\n",
    "]\n",
    "\n",
    "tone_data_t5 = tone_data_t5[cols].copy()\n",
    "tone_data_t5.columns = tone_data_t5.columns.str.replace(\"polarity\", \"t5\")\n",
    "tone_data_t5\n"
   ]
  },
  {
   "attachments": {},
   "cell_type": "markdown",
   "metadata": {},
   "source": [
    "## Correlation\n"
   ]
  },
  {
   "cell_type": "code",
   "execution_count": 6,
   "metadata": {},
   "outputs": [
    {
     "name": "stderr",
     "output_type": "stream",
     "text": [
      "INFO:ekorpkit.base:IPython version: (6, 9, 0), client: jupyter_client\n"
     ]
    }
   ],
   "source": [
    "cfg = eKonf.compose(\"io/fetcher/fomc\")\n",
    "cfg.output_dir = data_dir\n",
    "fomc = eKonf.instantiate(cfg)"
   ]
  },
  {
   "cell_type": "code",
   "execution_count": 7,
   "metadata": {},
   "outputs": [
    {
     "data": {
      "text/html": [
       "<div>\n",
       "<style scoped>\n",
       "    .dataframe tbody tr th:only-of-type {\n",
       "        vertical-align: middle;\n",
       "    }\n",
       "\n",
       "    .dataframe tbody tr th {\n",
       "        vertical-align: top;\n",
       "    }\n",
       "\n",
       "    .dataframe thead th {\n",
       "        text-align: right;\n",
       "    }\n",
       "</style>\n",
       "<table border=\"1\" class=\"dataframe\">\n",
       "  <thead>\n",
       "    <tr style=\"text-align: right;\">\n",
       "      <th></th>\n",
       "      <th>unscheduled</th>\n",
       "      <th>forecast</th>\n",
       "      <th>confcall</th>\n",
       "      <th>speaker</th>\n",
       "      <th>rate</th>\n",
       "      <th>rate_change</th>\n",
       "      <th>rate_decision</th>\n",
       "      <th>rate_changed</th>\n",
       "    </tr>\n",
       "    <tr>\n",
       "      <th>date</th>\n",
       "      <th></th>\n",
       "      <th></th>\n",
       "      <th></th>\n",
       "      <th></th>\n",
       "      <th></th>\n",
       "      <th></th>\n",
       "      <th></th>\n",
       "      <th></th>\n",
       "    </tr>\n",
       "  </thead>\n",
       "  <tbody>\n",
       "    <tr>\n",
       "      <th>1982-10-05</th>\n",
       "      <td>False</td>\n",
       "      <td>False</td>\n",
       "      <td>False</td>\n",
       "      <td>Paul Volcker</td>\n",
       "      <td>9.50</td>\n",
       "      <td>-0.50</td>\n",
       "      <td>-1.0</td>\n",
       "      <td>1</td>\n",
       "    </tr>\n",
       "    <tr>\n",
       "      <th>1982-11-16</th>\n",
       "      <td>False</td>\n",
       "      <td>False</td>\n",
       "      <td>False</td>\n",
       "      <td>Paul Volcker</td>\n",
       "      <td>9.00</td>\n",
       "      <td>-0.50</td>\n",
       "      <td>-1.0</td>\n",
       "      <td>1</td>\n",
       "    </tr>\n",
       "    <tr>\n",
       "      <th>1982-12-21</th>\n",
       "      <td>False</td>\n",
       "      <td>False</td>\n",
       "      <td>False</td>\n",
       "      <td>Paul Volcker</td>\n",
       "      <td>8.50</td>\n",
       "      <td>0.00</td>\n",
       "      <td>0.0</td>\n",
       "      <td>0</td>\n",
       "    </tr>\n",
       "    <tr>\n",
       "      <th>1983-01-14</th>\n",
       "      <td>False</td>\n",
       "      <td>False</td>\n",
       "      <td>True</td>\n",
       "      <td>Paul Volcker</td>\n",
       "      <td>8.50</td>\n",
       "      <td>0.00</td>\n",
       "      <td>0.0</td>\n",
       "      <td>0</td>\n",
       "    </tr>\n",
       "    <tr>\n",
       "      <th>1983-01-21</th>\n",
       "      <td>False</td>\n",
       "      <td>False</td>\n",
       "      <td>True</td>\n",
       "      <td>Paul Volcker</td>\n",
       "      <td>8.50</td>\n",
       "      <td>0.00</td>\n",
       "      <td>0.0</td>\n",
       "      <td>0</td>\n",
       "    </tr>\n",
       "    <tr>\n",
       "      <th>...</th>\n",
       "      <td>...</td>\n",
       "      <td>...</td>\n",
       "      <td>...</td>\n",
       "      <td>...</td>\n",
       "      <td>...</td>\n",
       "      <td>...</td>\n",
       "      <td>...</td>\n",
       "      <td>...</td>\n",
       "    </tr>\n",
       "    <tr>\n",
       "      <th>2021-11-03</th>\n",
       "      <td>False</td>\n",
       "      <td>False</td>\n",
       "      <td>False</td>\n",
       "      <td>Jerome Powell</td>\n",
       "      <td>0.25</td>\n",
       "      <td>0.00</td>\n",
       "      <td>0.0</td>\n",
       "      <td>0</td>\n",
       "    </tr>\n",
       "    <tr>\n",
       "      <th>2021-12-15</th>\n",
       "      <td>False</td>\n",
       "      <td>True</td>\n",
       "      <td>False</td>\n",
       "      <td>Jerome Powell</td>\n",
       "      <td>0.25</td>\n",
       "      <td>0.00</td>\n",
       "      <td>0.0</td>\n",
       "      <td>0</td>\n",
       "    </tr>\n",
       "    <tr>\n",
       "      <th>2022-01-26</th>\n",
       "      <td>False</td>\n",
       "      <td>False</td>\n",
       "      <td>False</td>\n",
       "      <td>Jerome Powell</td>\n",
       "      <td>0.25</td>\n",
       "      <td>0.00</td>\n",
       "      <td>0.0</td>\n",
       "      <td>0</td>\n",
       "    </tr>\n",
       "    <tr>\n",
       "      <th>2022-03-16</th>\n",
       "      <td>False</td>\n",
       "      <td>True</td>\n",
       "      <td>False</td>\n",
       "      <td>Jerome Powell</td>\n",
       "      <td>0.50</td>\n",
       "      <td>0.25</td>\n",
       "      <td>1.0</td>\n",
       "      <td>1</td>\n",
       "    </tr>\n",
       "    <tr>\n",
       "      <th>2022-05-04</th>\n",
       "      <td>False</td>\n",
       "      <td>False</td>\n",
       "      <td>False</td>\n",
       "      <td>Jerome Powell</td>\n",
       "      <td>1.00</td>\n",
       "      <td>0.50</td>\n",
       "      <td>1.0</td>\n",
       "      <td>1</td>\n",
       "    </tr>\n",
       "  </tbody>\n",
       "</table>\n",
       "<p>415 rows × 8 columns</p>\n",
       "</div>"
      ],
      "text/plain": [
       "            unscheduled  forecast  confcall        speaker  rate  rate_change  \\\n",
       "date                                                                            \n",
       "1982-10-05        False     False     False   Paul Volcker  9.50        -0.50   \n",
       "1982-11-16        False     False     False   Paul Volcker  9.00        -0.50   \n",
       "1982-12-21        False     False     False   Paul Volcker  8.50         0.00   \n",
       "1983-01-14        False     False      True   Paul Volcker  8.50         0.00   \n",
       "1983-01-21        False     False      True   Paul Volcker  8.50         0.00   \n",
       "...                 ...       ...       ...            ...   ...          ...   \n",
       "2021-11-03        False     False     False  Jerome Powell  0.25         0.00   \n",
       "2021-12-15        False      True     False  Jerome Powell  0.25         0.00   \n",
       "2022-01-26        False     False     False  Jerome Powell  0.25         0.00   \n",
       "2022-03-16        False      True     False  Jerome Powell  0.50         0.25   \n",
       "2022-05-04        False     False     False  Jerome Powell  1.00         0.50   \n",
       "\n",
       "            rate_decision  rate_changed  \n",
       "date                                     \n",
       "1982-10-05           -1.0             1  \n",
       "1982-11-16           -1.0             1  \n",
       "1982-12-21            0.0             0  \n",
       "1983-01-14            0.0             0  \n",
       "1983-01-21            0.0             0  \n",
       "...                   ...           ...  \n",
       "2021-11-03            0.0             0  \n",
       "2021-12-15            0.0             0  \n",
       "2022-01-26            0.0             0  \n",
       "2022-03-16            1.0             1  \n",
       "2022-05-04            1.0             1  \n",
       "\n",
       "[415 rows x 8 columns]"
      ]
     },
     "execution_count": 7,
     "metadata": {},
     "output_type": "execute_result"
    }
   ],
   "source": [
    "fomc.load_calendar(from_year=1982, force_download=False)"
   ]
  },
  {
   "attachments": {},
   "cell_type": "markdown",
   "metadata": {},
   "source": [
    "### Merge with fed rate data\n"
   ]
  },
  {
   "cell_type": "code",
   "execution_count": 9,
   "metadata": {},
   "outputs": [
    {
     "data": {
      "image/png": "[encoded data removed]",
      "text/plain": [
       "<Figure size 720x360 with 1 Axes>"
      ]
     },
     "metadata": {
      "image/png": {
       "height": 331,
       "width": 702
      }
     },
     "output_type": "display_data"
    }
   ],
   "source": [
    "cfg = eKonf.compose(\"visualize/plot=lineplot\")\n",
    "cfg.plot.y = \"rate\"\n",
    "cfg.ax.title = \"Fed Rate\"\n",
    "eKonf.instantiate(cfg, data=fomc.calendar)\n"
   ]
  },
  {
   "cell_type": "code",
   "execution_count": 10,
   "metadata": {},
   "outputs": [
    {
     "data": {
      "text/html": [
       "<div>\n",
       "<style scoped>\n",
       "    .dataframe tbody tr th:only-of-type {\n",
       "        vertical-align: middle;\n",
       "    }\n",
       "\n",
       "    .dataframe tbody tr th {\n",
       "        vertical-align: top;\n",
       "    }\n",
       "\n",
       "    .dataframe thead th {\n",
       "        text-align: right;\n",
       "    }\n",
       "</style>\n",
       "<table border=\"1\" class=\"dataframe\">\n",
       "  <thead>\n",
       "    <tr style=\"text-align: right;\">\n",
       "      <th></th>\n",
       "      <th>polarity_mean_beigebook</th>\n",
       "      <th>polarity_mean_meeting_script</th>\n",
       "      <th>polarity_mean_minutes</th>\n",
       "      <th>polarity_mean_press_conf</th>\n",
       "      <th>polarity_mean_speech</th>\n",
       "      <th>polarity_mean_statement</th>\n",
       "      <th>polarity_mean_testimony</th>\n",
       "      <th>polarity_diffusion_beigebook</th>\n",
       "      <th>polarity_diffusion_meeting_script</th>\n",
       "      <th>polarity_diffusion_minutes</th>\n",
       "      <th>...</th>\n",
       "      <th>finbert_mean_speech</th>\n",
       "      <th>finbert_mean_statement</th>\n",
       "      <th>finbert_diffusion_minutes</th>\n",
       "      <th>finbert_diffusion_press_conf</th>\n",
       "      <th>finbert_diffusion_speech</th>\n",
       "      <th>finbert_diffusion_statement</th>\n",
       "      <th>t5_diffusion_minutes</th>\n",
       "      <th>t5_diffusion_press_conf</th>\n",
       "      <th>t5_diffusion_speech</th>\n",
       "      <th>t5_diffusion_statement</th>\n",
       "    </tr>\n",
       "    <tr>\n",
       "      <th>date</th>\n",
       "      <th></th>\n",
       "      <th></th>\n",
       "      <th></th>\n",
       "      <th></th>\n",
       "      <th></th>\n",
       "      <th></th>\n",
       "      <th></th>\n",
       "      <th></th>\n",
       "      <th></th>\n",
       "      <th></th>\n",
       "      <th></th>\n",
       "      <th></th>\n",
       "      <th></th>\n",
       "      <th></th>\n",
       "      <th></th>\n",
       "      <th></th>\n",
       "      <th></th>\n",
       "      <th></th>\n",
       "      <th></th>\n",
       "      <th></th>\n",
       "      <th></th>\n",
       "    </tr>\n",
       "  </thead>\n",
       "  <tbody>\n",
       "    <tr>\n",
       "      <th>1998-01-03</th>\n",
       "      <td>NaN</td>\n",
       "      <td>NaN</td>\n",
       "      <td>NaN</td>\n",
       "      <td>NaN</td>\n",
       "      <td>-0.018248</td>\n",
       "      <td>NaN</td>\n",
       "      <td>NaN</td>\n",
       "      <td>NaN</td>\n",
       "      <td>NaN</td>\n",
       "      <td>NaN</td>\n",
       "      <td>...</td>\n",
       "      <td>0.264435</td>\n",
       "      <td>NaN</td>\n",
       "      <td>NaN</td>\n",
       "      <td>NaN</td>\n",
       "      <td>0.357664</td>\n",
       "      <td>NaN</td>\n",
       "      <td>NaN</td>\n",
       "      <td>NaN</td>\n",
       "      <td>0.094891</td>\n",
       "      <td>NaN</td>\n",
       "    </tr>\n",
       "    <tr>\n",
       "      <th>1998-01-08</th>\n",
       "      <td>NaN</td>\n",
       "      <td>NaN</td>\n",
       "      <td>NaN</td>\n",
       "      <td>NaN</td>\n",
       "      <td>-0.379629</td>\n",
       "      <td>NaN</td>\n",
       "      <td>NaN</td>\n",
       "      <td>NaN</td>\n",
       "      <td>NaN</td>\n",
       "      <td>NaN</td>\n",
       "      <td>...</td>\n",
       "      <td>0.503096</td>\n",
       "      <td>NaN</td>\n",
       "      <td>NaN</td>\n",
       "      <td>NaN</td>\n",
       "      <td>0.672840</td>\n",
       "      <td>NaN</td>\n",
       "      <td>NaN</td>\n",
       "      <td>NaN</td>\n",
       "      <td>0.277778</td>\n",
       "      <td>NaN</td>\n",
       "    </tr>\n",
       "    <tr>\n",
       "      <th>1998-01-12</th>\n",
       "      <td>NaN</td>\n",
       "      <td>NaN</td>\n",
       "      <td>NaN</td>\n",
       "      <td>NaN</td>\n",
       "      <td>-0.030516</td>\n",
       "      <td>NaN</td>\n",
       "      <td>NaN</td>\n",
       "      <td>NaN</td>\n",
       "      <td>NaN</td>\n",
       "      <td>NaN</td>\n",
       "      <td>...</td>\n",
       "      <td>0.293520</td>\n",
       "      <td>NaN</td>\n",
       "      <td>NaN</td>\n",
       "      <td>NaN</td>\n",
       "      <td>0.380282</td>\n",
       "      <td>NaN</td>\n",
       "      <td>NaN</td>\n",
       "      <td>NaN</td>\n",
       "      <td>0.260563</td>\n",
       "      <td>NaN</td>\n",
       "    </tr>\n",
       "    <tr>\n",
       "      <th>1998-01-16</th>\n",
       "      <td>NaN</td>\n",
       "      <td>NaN</td>\n",
       "      <td>NaN</td>\n",
       "      <td>NaN</td>\n",
       "      <td>-0.029630</td>\n",
       "      <td>NaN</td>\n",
       "      <td>NaN</td>\n",
       "      <td>NaN</td>\n",
       "      <td>NaN</td>\n",
       "      <td>NaN</td>\n",
       "      <td>...</td>\n",
       "      <td>0.408889</td>\n",
       "      <td>NaN</td>\n",
       "      <td>NaN</td>\n",
       "      <td>NaN</td>\n",
       "      <td>0.518519</td>\n",
       "      <td>NaN</td>\n",
       "      <td>NaN</td>\n",
       "      <td>NaN</td>\n",
       "      <td>0.382716</td>\n",
       "      <td>NaN</td>\n",
       "    </tr>\n",
       "    <tr>\n",
       "      <th>1998-01-29</th>\n",
       "      <td>NaN</td>\n",
       "      <td>NaN</td>\n",
       "      <td>NaN</td>\n",
       "      <td>NaN</td>\n",
       "      <td>NaN</td>\n",
       "      <td>NaN</td>\n",
       "      <td>-0.376811</td>\n",
       "      <td>NaN</td>\n",
       "      <td>NaN</td>\n",
       "      <td>NaN</td>\n",
       "      <td>...</td>\n",
       "      <td>NaN</td>\n",
       "      <td>NaN</td>\n",
       "      <td>NaN</td>\n",
       "      <td>NaN</td>\n",
       "      <td>NaN</td>\n",
       "      <td>NaN</td>\n",
       "      <td>NaN</td>\n",
       "      <td>NaN</td>\n",
       "      <td>NaN</td>\n",
       "      <td>NaN</td>\n",
       "    </tr>\n",
       "    <tr>\n",
       "      <th>...</th>\n",
       "      <td>...</td>\n",
       "      <td>...</td>\n",
       "      <td>...</td>\n",
       "      <td>...</td>\n",
       "      <td>...</td>\n",
       "      <td>...</td>\n",
       "      <td>...</td>\n",
       "      <td>...</td>\n",
       "      <td>...</td>\n",
       "      <td>...</td>\n",
       "      <td>...</td>\n",
       "      <td>...</td>\n",
       "      <td>...</td>\n",
       "      <td>...</td>\n",
       "      <td>...</td>\n",
       "      <td>...</td>\n",
       "      <td>...</td>\n",
       "      <td>...</td>\n",
       "      <td>...</td>\n",
       "      <td>...</td>\n",
       "      <td>...</td>\n",
       "    </tr>\n",
       "    <tr>\n",
       "      <th>2021-11-30</th>\n",
       "      <td>NaN</td>\n",
       "      <td>NaN</td>\n",
       "      <td>NaN</td>\n",
       "      <td>NaN</td>\n",
       "      <td>-0.167014</td>\n",
       "      <td>NaN</td>\n",
       "      <td>-0.120000</td>\n",
       "      <td>NaN</td>\n",
       "      <td>NaN</td>\n",
       "      <td>NaN</td>\n",
       "      <td>...</td>\n",
       "      <td>0.182338</td>\n",
       "      <td>NaN</td>\n",
       "      <td>NaN</td>\n",
       "      <td>NaN</td>\n",
       "      <td>0.239583</td>\n",
       "      <td>NaN</td>\n",
       "      <td>NaN</td>\n",
       "      <td>NaN</td>\n",
       "      <td>0.239583</td>\n",
       "      <td>NaN</td>\n",
       "    </tr>\n",
       "    <tr>\n",
       "      <th>2021-12-01</th>\n",
       "      <td>-0.046022</td>\n",
       "      <td>NaN</td>\n",
       "      <td>NaN</td>\n",
       "      <td>NaN</td>\n",
       "      <td>NaN</td>\n",
       "      <td>NaN</td>\n",
       "      <td>NaN</td>\n",
       "      <td>-0.048109</td>\n",
       "      <td>NaN</td>\n",
       "      <td>NaN</td>\n",
       "      <td>...</td>\n",
       "      <td>NaN</td>\n",
       "      <td>NaN</td>\n",
       "      <td>NaN</td>\n",
       "      <td>NaN</td>\n",
       "      <td>NaN</td>\n",
       "      <td>NaN</td>\n",
       "      <td>NaN</td>\n",
       "      <td>NaN</td>\n",
       "      <td>NaN</td>\n",
       "      <td>NaN</td>\n",
       "    </tr>\n",
       "    <tr>\n",
       "      <th>2021-12-02</th>\n",
       "      <td>NaN</td>\n",
       "      <td>NaN</td>\n",
       "      <td>NaN</td>\n",
       "      <td>NaN</td>\n",
       "      <td>-0.077381</td>\n",
       "      <td>NaN</td>\n",
       "      <td>NaN</td>\n",
       "      <td>NaN</td>\n",
       "      <td>NaN</td>\n",
       "      <td>NaN</td>\n",
       "      <td>...</td>\n",
       "      <td>0.262141</td>\n",
       "      <td>NaN</td>\n",
       "      <td>NaN</td>\n",
       "      <td>NaN</td>\n",
       "      <td>0.338889</td>\n",
       "      <td>NaN</td>\n",
       "      <td>NaN</td>\n",
       "      <td>NaN</td>\n",
       "      <td>0.250000</td>\n",
       "      <td>NaN</td>\n",
       "    </tr>\n",
       "    <tr>\n",
       "      <th>2021-12-15</th>\n",
       "      <td>NaN</td>\n",
       "      <td>NaN</td>\n",
       "      <td>-0.043929</td>\n",
       "      <td>-0.075441</td>\n",
       "      <td>NaN</td>\n",
       "      <td>0.166667</td>\n",
       "      <td>NaN</td>\n",
       "      <td>NaN</td>\n",
       "      <td>NaN</td>\n",
       "      <td>-0.064286</td>\n",
       "      <td>...</td>\n",
       "      <td>NaN</td>\n",
       "      <td>0.412947</td>\n",
       "      <td>0.675</td>\n",
       "      <td>0.377622</td>\n",
       "      <td>NaN</td>\n",
       "      <td>0.555556</td>\n",
       "      <td>0.403571</td>\n",
       "      <td>0.216783</td>\n",
       "      <td>NaN</td>\n",
       "      <td>0.444444</td>\n",
       "    </tr>\n",
       "    <tr>\n",
       "      <th>2021-12-17</th>\n",
       "      <td>NaN</td>\n",
       "      <td>NaN</td>\n",
       "      <td>NaN</td>\n",
       "      <td>NaN</td>\n",
       "      <td>-0.356613</td>\n",
       "      <td>NaN</td>\n",
       "      <td>NaN</td>\n",
       "      <td>NaN</td>\n",
       "      <td>NaN</td>\n",
       "      <td>NaN</td>\n",
       "      <td>...</td>\n",
       "      <td>0.408242</td>\n",
       "      <td>NaN</td>\n",
       "      <td>NaN</td>\n",
       "      <td>NaN</td>\n",
       "      <td>0.547619</td>\n",
       "      <td>NaN</td>\n",
       "      <td>NaN</td>\n",
       "      <td>NaN</td>\n",
       "      <td>0.174603</td>\n",
       "      <td>NaN</td>\n",
       "    </tr>\n",
       "  </tbody>\n",
       "</table>\n",
       "<p>1722 rows × 47 columns</p>\n",
       "</div>"
      ],
      "text/plain": [
       "            polarity_mean_beigebook  polarity_mean_meeting_script  \\\n",
       "date                                                                \n",
       "1998-01-03                      NaN                           NaN   \n",
       "1998-01-08                      NaN                           NaN   \n",
       "1998-01-12                      NaN                           NaN   \n",
       "1998-01-16                      NaN                           NaN   \n",
       "1998-01-29                      NaN                           NaN   \n",
       "...                             ...                           ...   \n",
       "2021-11-30                      NaN                           NaN   \n",
       "2021-12-01                -0.046022                           NaN   \n",
       "2021-12-02                      NaN                           NaN   \n",
       "2021-12-15                      NaN                           NaN   \n",
       "2021-12-17                      NaN                           NaN   \n",
       "\n",
       "            polarity_mean_minutes  polarity_mean_press_conf  \\\n",
       "date                                                          \n",
       "1998-01-03                    NaN                       NaN   \n",
       "1998-01-08                    NaN                       NaN   \n",
       "1998-01-12                    NaN                       NaN   \n",
       "1998-01-16                    NaN                       NaN   \n",
       "1998-01-29                    NaN                       NaN   \n",
       "...                           ...                       ...   \n",
       "2021-11-30                    NaN                       NaN   \n",
       "2021-12-01                    NaN                       NaN   \n",
       "2021-12-02                    NaN                       NaN   \n",
       "2021-12-15              -0.043929                 -0.075441   \n",
       "2021-12-17                    NaN                       NaN   \n",
       "\n",
       "            polarity_mean_speech  polarity_mean_statement  \\\n",
       "date                                                        \n",
       "1998-01-03             -0.018248                      NaN   \n",
       "1998-01-08             -0.379629                      NaN   \n",
       "1998-01-12             -0.030516                      NaN   \n",
       "1998-01-16             -0.029630                      NaN   \n",
       "1998-01-29                   NaN                      NaN   \n",
       "...                          ...                      ...   \n",
       "2021-11-30             -0.167014                      NaN   \n",
       "2021-12-01                   NaN                      NaN   \n",
       "2021-12-02             -0.077381                      NaN   \n",
       "2021-12-15                   NaN                 0.166667   \n",
       "2021-12-17             -0.356613                      NaN   \n",
       "\n",
       "            polarity_mean_testimony  polarity_diffusion_beigebook  \\\n",
       "date                                                                \n",
       "1998-01-03                      NaN                           NaN   \n",
       "1998-01-08                      NaN                           NaN   \n",
       "1998-01-12                      NaN                           NaN   \n",
       "1998-01-16                      NaN                           NaN   \n",
       "1998-01-29                -0.376811                           NaN   \n",
       "...                             ...                           ...   \n",
       "2021-11-30                -0.120000                           NaN   \n",
       "2021-12-01                      NaN                     -0.048109   \n",
       "2021-12-02                      NaN                           NaN   \n",
       "2021-12-15                      NaN                           NaN   \n",
       "2021-12-17                      NaN                           NaN   \n",
       "\n",
       "            polarity_diffusion_meeting_script  polarity_diffusion_minutes  \\\n",
       "date                                                                        \n",
       "1998-01-03                                NaN                         NaN   \n",
       "1998-01-08                                NaN                         NaN   \n",
       "1998-01-12                                NaN                         NaN   \n",
       "1998-01-16                                NaN                         NaN   \n",
       "1998-01-29                                NaN                         NaN   \n",
       "...                                       ...                         ...   \n",
       "2021-11-30                                NaN                         NaN   \n",
       "2021-12-01                                NaN                         NaN   \n",
       "2021-12-02                                NaN                         NaN   \n",
       "2021-12-15                                NaN                   -0.064286   \n",
       "2021-12-17                                NaN                         NaN   \n",
       "\n",
       "            ...  finbert_mean_speech  finbert_mean_statement  \\\n",
       "date        ...                                                \n",
       "1998-01-03  ...             0.264435                     NaN   \n",
       "1998-01-08  ...             0.503096                     NaN   \n",
       "1998-01-12  ...             0.293520                     NaN   \n",
       "1998-01-16  ...             0.408889                     NaN   \n",
       "1998-01-29  ...                  NaN                     NaN   \n",
       "...         ...                  ...                     ...   \n",
       "2021-11-30  ...             0.182338                     NaN   \n",
       "2021-12-01  ...                  NaN                     NaN   \n",
       "2021-12-02  ...             0.262141                     NaN   \n",
       "2021-12-15  ...                  NaN                0.412947   \n",
       "2021-12-17  ...             0.408242                     NaN   \n",
       "\n",
       "            finbert_diffusion_minutes  finbert_diffusion_press_conf  \\\n",
       "date                                                                  \n",
       "1998-01-03                        NaN                           NaN   \n",
       "1998-01-08                        NaN                           NaN   \n",
       "1998-01-12                        NaN                           NaN   \n",
       "1998-01-16                        NaN                           NaN   \n",
       "1998-01-29                        NaN                           NaN   \n",
       "...                               ...                           ...   \n",
       "2021-11-30                        NaN                           NaN   \n",
       "2021-12-01                        NaN                           NaN   \n",
       "2021-12-02                        NaN                           NaN   \n",
       "2021-12-15                      0.675                      0.377622   \n",
       "2021-12-17                        NaN                           NaN   \n",
       "\n",
       "            finbert_diffusion_speech  finbert_diffusion_statement  \\\n",
       "date                                                                \n",
       "1998-01-03                  0.357664                          NaN   \n",
       "1998-01-08                  0.672840                          NaN   \n",
       "1998-01-12                  0.380282                          NaN   \n",
       "1998-01-16                  0.518519                          NaN   \n",
       "1998-01-29                       NaN                          NaN   \n",
       "...                              ...                          ...   \n",
       "2021-11-30                  0.239583                          NaN   \n",
       "2021-12-01                       NaN                          NaN   \n",
       "2021-12-02                  0.338889                          NaN   \n",
       "2021-12-15                       NaN                     0.555556   \n",
       "2021-12-17                  0.547619                          NaN   \n",
       "\n",
       "            t5_diffusion_minutes  t5_diffusion_press_conf  \\\n",
       "date                                                        \n",
       "1998-01-03                   NaN                      NaN   \n",
       "1998-01-08                   NaN                      NaN   \n",
       "1998-01-12                   NaN                      NaN   \n",
       "1998-01-16                   NaN                      NaN   \n",
       "1998-01-29                   NaN                      NaN   \n",
       "...                          ...                      ...   \n",
       "2021-11-30                   NaN                      NaN   \n",
       "2021-12-01                   NaN                      NaN   \n",
       "2021-12-02                   NaN                      NaN   \n",
       "2021-12-15              0.403571                 0.216783   \n",
       "2021-12-17                   NaN                      NaN   \n",
       "\n",
       "            t5_diffusion_speech  t5_diffusion_statement  \n",
       "date                                                     \n",
       "1998-01-03             0.094891                     NaN  \n",
       "1998-01-08             0.277778                     NaN  \n",
       "1998-01-12             0.260563                     NaN  \n",
       "1998-01-16             0.382716                     NaN  \n",
       "1998-01-29                  NaN                     NaN  \n",
       "...                         ...                     ...  \n",
       "2021-11-30             0.239583                     NaN  \n",
       "2021-12-01                  NaN                     NaN  \n",
       "2021-12-02             0.250000                     NaN  \n",
       "2021-12-15                  NaN                0.444444  \n",
       "2021-12-17             0.174603                     NaN  \n",
       "\n",
       "[1722 rows x 47 columns]"
      ]
     },
     "execution_count": 10,
     "metadata": {},
     "output_type": "execute_result"
    }
   ],
   "source": [
    "tone_data = tone_data_lm.merge(tone_data_finbert, left_index=True, right_index=True)\n",
    "tone_data = tone_data.merge(tone_data_t5, left_index=True, right_index=True)\n",
    "tone_data.index.name = \"date\"\n",
    "tone_data = tone_data[tone_data.index.year >= (start_year - 1)]\n",
    "tone_data\n"
   ]
  },
  {
   "cell_type": "code",
   "execution_count": null,
   "metadata": {},
   "outputs": [],
   "source": [
    "cols = [\n",
    "    \"polarity_diffusion_minutes\",\n",
    "    \"polarity_diffusion_press_conf\",\n",
    "    \"polarity_diffusion_speech\",\n",
    "    \"polarity_diffusion_statement\",\n",
    "    \"finbert_diffusion_minutes\",\n",
    "    \"finbert_diffusion_press_conf\",\n",
    "    \"finbert_diffusion_speech\",\n",
    "    \"finbert_diffusion_statement\",\n",
    "    \"t5_diffusion_minutes\",\n",
    "    \"t5_diffusion_press_conf\",\n",
    "    \"t5_diffusion_speech\",\n",
    "    \"t5_diffusion_statement\",\n",
    "]\n",
    "\n",
    "\n",
    "merged_tone_data = fomc.calendar.copy()\n",
    "\n",
    "for name in cols:\n",
    "    offset = dict(months=0, days=1)\n",
    "    data = tone_data.dropna(subset=[name])\n",
    "    merged_tone_data = fomc.add_available_latest(\n",
    "        merged_tone_data, data, name, [name], offset\n",
    "    )\n",
    "\n",
    "merged_tone_data = merged_tone_data[\n",
    "    (merged_tone_data.index.year >= (start_year - 1))\n",
    "    & (merged_tone_data.index.year < 2022)\n",
    "]\n",
    "eKonf.save_data(merged_tone_data, \"fomc_tone_data_merged.parquet\", data_dir)\n",
    "merged_tone_data\n"
   ]
  },
  {
   "cell_type": "code",
   "execution_count": 12,
   "metadata": {},
   "outputs": [
    {
     "data": {
      "text/html": [
       "<div>\n",
       "<style scoped>\n",
       "    .dataframe tbody tr th:only-of-type {\n",
       "        vertical-align: middle;\n",
       "    }\n",
       "\n",
       "    .dataframe tbody tr th {\n",
       "        vertical-align: top;\n",
       "    }\n",
       "\n",
       "    .dataframe thead th {\n",
       "        text-align: right;\n",
       "    }\n",
       "</style>\n",
       "<table border=\"1\" class=\"dataframe\">\n",
       "  <thead>\n",
       "    <tr style=\"text-align: right;\">\n",
       "      <th></th>\n",
       "      <th>unscheduled</th>\n",
       "      <th>forecast</th>\n",
       "      <th>confcall</th>\n",
       "      <th>speaker</th>\n",
       "      <th>rate</th>\n",
       "      <th>rate_change</th>\n",
       "      <th>rate_decision</th>\n",
       "      <th>rate_changed</th>\n",
       "      <th>polarity_diffusion_minutes</th>\n",
       "      <th>polarity_diffusion_minutes_date</th>\n",
       "      <th>...</th>\n",
       "      <th>t5_diffusion_minutes_date</th>\n",
       "      <th>t5_diffusion_press_conf</th>\n",
       "      <th>t5_diffusion_press_conf_date</th>\n",
       "      <th>t5_diffusion_speech</th>\n",
       "      <th>t5_diffusion_speech_date</th>\n",
       "      <th>t5_diffusion_statement</th>\n",
       "      <th>t5_diffusion_statement_date</th>\n",
       "      <th>lm_tones</th>\n",
       "      <th>finbert_tones</th>\n",
       "      <th>t5_tones</th>\n",
       "    </tr>\n",
       "    <tr>\n",
       "      <th>date</th>\n",
       "      <th></th>\n",
       "      <th></th>\n",
       "      <th></th>\n",
       "      <th></th>\n",
       "      <th></th>\n",
       "      <th></th>\n",
       "      <th></th>\n",
       "      <th></th>\n",
       "      <th></th>\n",
       "      <th></th>\n",
       "      <th></th>\n",
       "      <th></th>\n",
       "      <th></th>\n",
       "      <th></th>\n",
       "      <th></th>\n",
       "      <th></th>\n",
       "      <th></th>\n",
       "      <th></th>\n",
       "      <th></th>\n",
       "      <th></th>\n",
       "      <th></th>\n",
       "    </tr>\n",
       "  </thead>\n",
       "  <tbody>\n",
       "    <tr>\n",
       "      <th>1999-02-03</th>\n",
       "      <td>False</td>\n",
       "      <td>False</td>\n",
       "      <td>False</td>\n",
       "      <td>Alan Greenspan</td>\n",
       "      <td>4.75</td>\n",
       "      <td>0.00</td>\n",
       "      <td>0.0</td>\n",
       "      <td>0</td>\n",
       "      <td>-0.096552</td>\n",
       "      <td>1998-12-22</td>\n",
       "      <td>...</td>\n",
       "      <td>1998-12-22</td>\n",
       "      <td>NaN</td>\n",
       "      <td>NaT</td>\n",
       "      <td>0.111111</td>\n",
       "      <td>1999-01-21</td>\n",
       "      <td>0.136364</td>\n",
       "      <td>1998-11-17</td>\n",
       "      <td>-0.243343</td>\n",
       "      <td>0.506885</td>\n",
       "      <td>0.222721</td>\n",
       "    </tr>\n",
       "    <tr>\n",
       "      <th>1999-03-30</th>\n",
       "      <td>False</td>\n",
       "      <td>False</td>\n",
       "      <td>False</td>\n",
       "      <td>Alan Greenspan</td>\n",
       "      <td>4.75</td>\n",
       "      <td>0.00</td>\n",
       "      <td>0.0</td>\n",
       "      <td>0</td>\n",
       "      <td>-0.072464</td>\n",
       "      <td>1999-02-03</td>\n",
       "      <td>...</td>\n",
       "      <td>1999-02-03</td>\n",
       "      <td>NaN</td>\n",
       "      <td>NaT</td>\n",
       "      <td>0.187050</td>\n",
       "      <td>1999-03-25</td>\n",
       "      <td>0.136364</td>\n",
       "      <td>1998-11-17</td>\n",
       "      <td>-0.241290</td>\n",
       "      <td>0.529236</td>\n",
       "      <td>0.243070</td>\n",
       "    </tr>\n",
       "    <tr>\n",
       "      <th>1999-05-18</th>\n",
       "      <td>False</td>\n",
       "      <td>False</td>\n",
       "      <td>False</td>\n",
       "      <td>Alan Greenspan</td>\n",
       "      <td>4.75</td>\n",
       "      <td>0.00</td>\n",
       "      <td>0.0</td>\n",
       "      <td>0</td>\n",
       "      <td>-0.050360</td>\n",
       "      <td>1999-03-30</td>\n",
       "      <td>...</td>\n",
       "      <td>1999-03-30</td>\n",
       "      <td>NaN</td>\n",
       "      <td>NaT</td>\n",
       "      <td>0.245509</td>\n",
       "      <td>1999-05-13</td>\n",
       "      <td>0.136364</td>\n",
       "      <td>1998-11-17</td>\n",
       "      <td>-0.112051</td>\n",
       "      <td>0.579674</td>\n",
       "      <td>0.285564</td>\n",
       "    </tr>\n",
       "    <tr>\n",
       "      <th>1999-06-30</th>\n",
       "      <td>False</td>\n",
       "      <td>False</td>\n",
       "      <td>False</td>\n",
       "      <td>Alan Greenspan</td>\n",
       "      <td>5.00</td>\n",
       "      <td>0.25</td>\n",
       "      <td>1.0</td>\n",
       "      <td>1</td>\n",
       "      <td>-0.028169</td>\n",
       "      <td>1999-05-18</td>\n",
       "      <td>...</td>\n",
       "      <td>1999-05-18</td>\n",
       "      <td>NaN</td>\n",
       "      <td>NaT</td>\n",
       "      <td>0.097561</td>\n",
       "      <td>1999-06-22</td>\n",
       "      <td>0.625000</td>\n",
       "      <td>1999-05-18</td>\n",
       "      <td>-0.050040</td>\n",
       "      <td>0.621722</td>\n",
       "      <td>0.412215</td>\n",
       "    </tr>\n",
       "    <tr>\n",
       "      <th>1999-08-24</th>\n",
       "      <td>False</td>\n",
       "      <td>False</td>\n",
       "      <td>False</td>\n",
       "      <td>Alan Greenspan</td>\n",
       "      <td>5.25</td>\n",
       "      <td>0.25</td>\n",
       "      <td>1.0</td>\n",
       "      <td>1</td>\n",
       "      <td>-0.059524</td>\n",
       "      <td>1999-06-30</td>\n",
       "      <td>...</td>\n",
       "      <td>1999-06-30</td>\n",
       "      <td>NaN</td>\n",
       "      <td>NaT</td>\n",
       "      <td>0.178947</td>\n",
       "      <td>1999-07-29</td>\n",
       "      <td>0.269231</td>\n",
       "      <td>1999-06-30</td>\n",
       "      <td>-0.135226</td>\n",
       "      <td>0.548355</td>\n",
       "      <td>0.343837</td>\n",
       "    </tr>\n",
       "    <tr>\n",
       "      <th>...</th>\n",
       "      <td>...</td>\n",
       "      <td>...</td>\n",
       "      <td>...</td>\n",
       "      <td>...</td>\n",
       "      <td>...</td>\n",
       "      <td>...</td>\n",
       "      <td>...</td>\n",
       "      <td>...</td>\n",
       "      <td>...</td>\n",
       "      <td>...</td>\n",
       "      <td>...</td>\n",
       "      <td>...</td>\n",
       "      <td>...</td>\n",
       "      <td>...</td>\n",
       "      <td>...</td>\n",
       "      <td>...</td>\n",
       "      <td>...</td>\n",
       "      <td>...</td>\n",
       "      <td>...</td>\n",
       "      <td>...</td>\n",
       "      <td>...</td>\n",
       "    </tr>\n",
       "    <tr>\n",
       "      <th>2021-06-16</th>\n",
       "      <td>False</td>\n",
       "      <td>True</td>\n",
       "      <td>False</td>\n",
       "      <td>Jerome Powell</td>\n",
       "      <td>0.25</td>\n",
       "      <td>0.00</td>\n",
       "      <td>0.0</td>\n",
       "      <td>0</td>\n",
       "      <td>-0.040741</td>\n",
       "      <td>2021-04-28</td>\n",
       "      <td>...</td>\n",
       "      <td>2021-04-28</td>\n",
       "      <td>0.142012</td>\n",
       "      <td>2021-04-28</td>\n",
       "      <td>0.330709</td>\n",
       "      <td>2021-06-03</td>\n",
       "      <td>0.384615</td>\n",
       "      <td>2021-04-28</td>\n",
       "      <td>0.086359</td>\n",
       "      <td>0.582206</td>\n",
       "      <td>0.374244</td>\n",
       "    </tr>\n",
       "    <tr>\n",
       "      <th>2021-07-28</th>\n",
       "      <td>False</td>\n",
       "      <td>False</td>\n",
       "      <td>False</td>\n",
       "      <td>Jerome Powell</td>\n",
       "      <td>0.25</td>\n",
       "      <td>0.00</td>\n",
       "      <td>0.0</td>\n",
       "      <td>0</td>\n",
       "      <td>0.031142</td>\n",
       "      <td>2021-06-16</td>\n",
       "      <td>...</td>\n",
       "      <td>2021-06-16</td>\n",
       "      <td>0.194737</td>\n",
       "      <td>2021-06-16</td>\n",
       "      <td>0.228070</td>\n",
       "      <td>2021-07-11</td>\n",
       "      <td>0.615385</td>\n",
       "      <td>2021-06-16</td>\n",
       "      <td>0.167826</td>\n",
       "      <td>0.419857</td>\n",
       "      <td>0.433401</td>\n",
       "    </tr>\n",
       "    <tr>\n",
       "      <th>2021-09-22</th>\n",
       "      <td>False</td>\n",
       "      <td>True</td>\n",
       "      <td>False</td>\n",
       "      <td>Jerome Powell</td>\n",
       "      <td>0.25</td>\n",
       "      <td>0.00</td>\n",
       "      <td>0.0</td>\n",
       "      <td>0</td>\n",
       "      <td>-0.069079</td>\n",
       "      <td>2021-07-28</td>\n",
       "      <td>...</td>\n",
       "      <td>2021-07-28</td>\n",
       "      <td>0.197674</td>\n",
       "      <td>2021-07-28</td>\n",
       "      <td>0.148148</td>\n",
       "      <td>2021-09-09</td>\n",
       "      <td>0.538462</td>\n",
       "      <td>2021-07-28</td>\n",
       "      <td>0.176087</td>\n",
       "      <td>0.441048</td>\n",
       "      <td>0.367028</td>\n",
       "    </tr>\n",
       "    <tr>\n",
       "      <th>2021-11-03</th>\n",
       "      <td>False</td>\n",
       "      <td>False</td>\n",
       "      <td>False</td>\n",
       "      <td>Jerome Powell</td>\n",
       "      <td>0.25</td>\n",
       "      <td>0.00</td>\n",
       "      <td>0.0</td>\n",
       "      <td>0</td>\n",
       "      <td>-0.112403</td>\n",
       "      <td>2021-09-22</td>\n",
       "      <td>...</td>\n",
       "      <td>2021-09-22</td>\n",
       "      <td>0.143695</td>\n",
       "      <td>2021-09-22</td>\n",
       "      <td>0.085714</td>\n",
       "      <td>2021-10-22</td>\n",
       "      <td>0.571429</td>\n",
       "      <td>2021-09-22</td>\n",
       "      <td>-0.037468</td>\n",
       "      <td>0.531340</td>\n",
       "      <td>0.350831</td>\n",
       "    </tr>\n",
       "    <tr>\n",
       "      <th>2021-12-15</th>\n",
       "      <td>False</td>\n",
       "      <td>True</td>\n",
       "      <td>False</td>\n",
       "      <td>Jerome Powell</td>\n",
       "      <td>0.25</td>\n",
       "      <td>0.00</td>\n",
       "      <td>0.0</td>\n",
       "      <td>0</td>\n",
       "      <td>-0.080851</td>\n",
       "      <td>2021-11-03</td>\n",
       "      <td>...</td>\n",
       "      <td>2021-11-03</td>\n",
       "      <td>0.172619</td>\n",
       "      <td>2021-11-03</td>\n",
       "      <td>0.250000</td>\n",
       "      <td>2021-12-02</td>\n",
       "      <td>0.705882</td>\n",
       "      <td>2021-11-03</td>\n",
       "      <td>-0.001460</td>\n",
       "      <td>0.564110</td>\n",
       "      <td>0.477493</td>\n",
       "    </tr>\n",
       "  </tbody>\n",
       "</table>\n",
       "<p>219 rows × 35 columns</p>\n",
       "</div>"
      ],
      "text/plain": [
       "            unscheduled  forecast  confcall         speaker  rate  \\\n",
       "date                                                                \n",
       "1999-02-03        False     False     False  Alan Greenspan  4.75   \n",
       "1999-03-30        False     False     False  Alan Greenspan  4.75   \n",
       "1999-05-18        False     False     False  Alan Greenspan  4.75   \n",
       "1999-06-30        False     False     False  Alan Greenspan  5.00   \n",
       "1999-08-24        False     False     False  Alan Greenspan  5.25   \n",
       "...                 ...       ...       ...             ...   ...   \n",
       "2021-06-16        False      True     False   Jerome Powell  0.25   \n",
       "2021-07-28        False     False     False   Jerome Powell  0.25   \n",
       "2021-09-22        False      True     False   Jerome Powell  0.25   \n",
       "2021-11-03        False     False     False   Jerome Powell  0.25   \n",
       "2021-12-15        False      True     False   Jerome Powell  0.25   \n",
       "\n",
       "            rate_change  rate_decision  rate_changed  \\\n",
       "date                                                   \n",
       "1999-02-03         0.00            0.0             0   \n",
       "1999-03-30         0.00            0.0             0   \n",
       "1999-05-18         0.00            0.0             0   \n",
       "1999-06-30         0.25            1.0             1   \n",
       "1999-08-24         0.25            1.0             1   \n",
       "...                 ...            ...           ...   \n",
       "2021-06-16         0.00            0.0             0   \n",
       "2021-07-28         0.00            0.0             0   \n",
       "2021-09-22         0.00            0.0             0   \n",
       "2021-11-03         0.00            0.0             0   \n",
       "2021-12-15         0.00            0.0             0   \n",
       "\n",
       "            polarity_diffusion_minutes polarity_diffusion_minutes_date  ...  \\\n",
       "date                                                                    ...   \n",
       "1999-02-03                   -0.096552                      1998-12-22  ...   \n",
       "1999-03-30                   -0.072464                      1999-02-03  ...   \n",
       "1999-05-18                   -0.050360                      1999-03-30  ...   \n",
       "1999-06-30                   -0.028169                      1999-05-18  ...   \n",
       "1999-08-24                   -0.059524                      1999-06-30  ...   \n",
       "...                                ...                             ...  ...   \n",
       "2021-06-16                   -0.040741                      2021-04-28  ...   \n",
       "2021-07-28                    0.031142                      2021-06-16  ...   \n",
       "2021-09-22                   -0.069079                      2021-07-28  ...   \n",
       "2021-11-03                   -0.112403                      2021-09-22  ...   \n",
       "2021-12-15                   -0.080851                      2021-11-03  ...   \n",
       "\n",
       "            t5_diffusion_minutes_date t5_diffusion_press_conf  \\\n",
       "date                                                            \n",
       "1999-02-03                 1998-12-22                     NaN   \n",
       "1999-03-30                 1999-02-03                     NaN   \n",
       "1999-05-18                 1999-03-30                     NaN   \n",
       "1999-06-30                 1999-05-18                     NaN   \n",
       "1999-08-24                 1999-06-30                     NaN   \n",
       "...                               ...                     ...   \n",
       "2021-06-16                 2021-04-28                0.142012   \n",
       "2021-07-28                 2021-06-16                0.194737   \n",
       "2021-09-22                 2021-07-28                0.197674   \n",
       "2021-11-03                 2021-09-22                0.143695   \n",
       "2021-12-15                 2021-11-03                0.172619   \n",
       "\n",
       "            t5_diffusion_press_conf_date t5_diffusion_speech  \\\n",
       "date                                                           \n",
       "1999-02-03                           NaT            0.111111   \n",
       "1999-03-30                           NaT            0.187050   \n",
       "1999-05-18                           NaT            0.245509   \n",
       "1999-06-30                           NaT            0.097561   \n",
       "1999-08-24                           NaT            0.178947   \n",
       "...                                  ...                 ...   \n",
       "2021-06-16                    2021-04-28            0.330709   \n",
       "2021-07-28                    2021-06-16            0.228070   \n",
       "2021-09-22                    2021-07-28            0.148148   \n",
       "2021-11-03                    2021-09-22            0.085714   \n",
       "2021-12-15                    2021-11-03            0.250000   \n",
       "\n",
       "            t5_diffusion_speech_date t5_diffusion_statement  \\\n",
       "date                                                          \n",
       "1999-02-03                1999-01-21               0.136364   \n",
       "1999-03-30                1999-03-25               0.136364   \n",
       "1999-05-18                1999-05-13               0.136364   \n",
       "1999-06-30                1999-06-22               0.625000   \n",
       "1999-08-24                1999-07-29               0.269231   \n",
       "...                              ...                    ...   \n",
       "2021-06-16                2021-06-03               0.384615   \n",
       "2021-07-28                2021-07-11               0.615385   \n",
       "2021-09-22                2021-09-09               0.538462   \n",
       "2021-11-03                2021-10-22               0.571429   \n",
       "2021-12-15                2021-12-02               0.705882   \n",
       "\n",
       "            t5_diffusion_statement_date  lm_tones  finbert_tones  t5_tones  \n",
       "date                                                                        \n",
       "1999-02-03                   1998-11-17 -0.243343       0.506885  0.222721  \n",
       "1999-03-30                   1998-11-17 -0.241290       0.529236  0.243070  \n",
       "1999-05-18                   1998-11-17 -0.112051       0.579674  0.285564  \n",
       "1999-06-30                   1999-05-18 -0.050040       0.621722  0.412215  \n",
       "1999-08-24                   1999-06-30 -0.135226       0.548355  0.343837  \n",
       "...                                 ...       ...            ...       ...  \n",
       "2021-06-16                   2021-04-28  0.086359       0.582206  0.374244  \n",
       "2021-07-28                   2021-06-16  0.167826       0.419857  0.433401  \n",
       "2021-09-22                   2021-07-28  0.176087       0.441048  0.367028  \n",
       "2021-11-03                   2021-09-22 -0.037468       0.531340  0.350831  \n",
       "2021-12-15                   2021-11-03 -0.001460       0.564110  0.477493  \n",
       "\n",
       "[219 rows x 35 columns]"
      ]
     },
     "execution_count": 12,
     "metadata": {},
     "output_type": "execute_result"
    }
   ],
   "source": [
    "import numpy as np\n",
    "\n",
    "tone_columns = {\n",
    "    \"lm\": [\n",
    "        \"polarity_diffusion_minutes\",\n",
    "        \"polarity_diffusion_speech\",\n",
    "        \"polarity_diffusion_statement\",\n",
    "    ],\n",
    "    \"finbert\": [\n",
    "        \"finbert_diffusion_minutes\",\n",
    "        \"finbert_diffusion_speech\",\n",
    "        \"finbert_diffusion_statement\",\n",
    "    ],\n",
    "    \"t5\": [\"t5_diffusion_minutes\", \"t5_diffusion_speech\", \"t5_diffusion_statement\"],\n",
    "}\n",
    "\n",
    "tone_cols = []\n",
    "for name, cols in tone_columns.items():\n",
    "    tone_col = name + \"_tones\"\n",
    "    tone_cols.append(tone_col)\n",
    "    merged_tone_data[tone_col] = merged_tone_data[cols].mean(axis=1, skipna=True)\n",
    "\n",
    "merged_tone_data = merged_tone_data.copy()[merged_tone_data.index.year >= start_year]\n",
    "eKonf.save_data(merged_tone_data, \"fomc_tone_data_merged.parquet\", data_dir)\n",
    "merged_tone_data\n"
   ]
  },
  {
   "cell_type": "code",
   "execution_count": 13,
   "metadata": {},
   "outputs": [
    {
     "data": {
      "image/png": "[encoded data removed]",
      "text/plain": [
       "<Figure size 864x576 with 2 Axes>"
      ]
     },
     "metadata": {
      "image/png": {
       "height": 547,
       "width": 779
      }
     },
     "output_type": "display_data"
    }
   ],
   "source": [
    "corr_columns = sum(tone_columns.values(), []) + [\"rate\", \"rate_change\"]\n",
    "corr_data = merged_tone_data[corr_columns].astype(float).corr()\n",
    "\n",
    "cfg = eKonf.compose(\"visualize/plot=heatmap\")\n",
    "cfg.figure.figsize = (12, 8)\n",
    "cfg.heatmap.cmap = \"YlGnBu\"\n",
    "cfg.heatmap.vmin = 0\n",
    "cfg.heatmap.vmax = 1\n",
    "cfg.heatmap.fmt = \".2f\"\n",
    "cfg.ax.title = \"Correlation\"\n",
    "eKonf.instantiate(cfg, data=corr_data)"
   ]
  },
  {
   "cell_type": "code",
   "execution_count": 15,
   "metadata": {},
   "outputs": [
    {
     "data": {
      "image/png": "[encoded data removed]",
      "text/plain": [
       "<Figure size 576x432 with 2 Axes>"
      ]
     },
     "metadata": {
      "image/png": {
       "height": 403,
       "width": 514
      }
     },
     "output_type": "display_data"
    }
   ],
   "source": [
    "corr_columns = tone_cols + [\"rate\", \"rate_change\"]\n",
    "corr_data = merged_tone_data[corr_columns].astype(float).corr()\n",
    "\n",
    "cfg = eKonf.compose(\"visualize/plot=heatmap\")\n",
    "cfg.figure.figsize = (8, 6)\n",
    "cfg.heatmap.cmap = \"YlGnBu\"\n",
    "cfg.heatmap.vmin = 0\n",
    "cfg.heatmap.vmax = 1\n",
    "cfg.heatmap.fmt = \".2f\"\n",
    "cfg.ax.title = \"Correlation\"\n",
    "eKonf.instantiate(cfg, data=corr_data)"
   ]
  },
  {
   "cell_type": "code",
   "execution_count": null,
   "metadata": {},
   "outputs": [],
   "source": []
  }
 ],
 "metadata": {
  "interpreter": {
   "hash": "f869af7787e6a1c49e09e367fc6e1b81d93d1c6583b43249c80edc047bd13cb2"
  },
  "kernelspec": {
   "display_name": "Python 3 (ipykernel)",
   "language": "python",
   "name": "python3"
  },
  "language_info": {
   "codemirror_mode": {
    "name": "ipython",
    "version": 3
   },
   "file_extension": ".py",
   "mimetype": "text/x-python",
   "name": "python",
   "nbconvert_exporter": "python",
   "pygments_lexer": "ipython3",
   "version": "3.8.12"
  },
  "widgets": {
   "application/vnd.jupyter.widget-state+json": {
    "state": {
     "00e5580d1f95421dac096a5e487b346b": {
      "model_module": "@jupyter-widgets/controls",
      "model_module_version": "1.5.0",
      "model_name": "DescriptionStyleModel",
      "state": {
       "description_width": ""
      }
     },
     "025c492aa9d044e5b1604bd7020be0fa": {
      "model_module": "@jupyter-widgets/controls",
      "model_module_version": "1.5.0",
      "model_name": "HBoxModel",
      "state": {
       "children": [
        "IPY_MODEL_9f4623063eef4180bc041e355d2d476b",
        "IPY_MODEL_7424d78b1f374ee4b955512604180206",
        "IPY_MODEL_6cbe7f3ee5e3477dbc924e7b5576e9d9"
       ],
       "layout": "IPY_MODEL_339b4b871a8b4362ac94d168de1c0bf6"
      }
     },
     "0280b4579d5543e98cc6093dfcebc2eb": {
      "model_module": "@jupyter-widgets/base",
      "model_module_version": "1.2.0",
      "model_name": "LayoutModel",
      "state": {}
     },
     "05bbb2995ca345cab86e5e00448f6a68": {
      "model_module": "@jupyter-widgets/base",
      "model_module_version": "1.2.0",
      "model_name": "LayoutModel",
      "state": {}
     },
     "05bff68faf8a4874a37d6b2579f9226f": {
      "model_module": "@jupyter-widgets/base",
      "model_module_version": "1.2.0",
      "model_name": "LayoutModel",
      "state": {}
     },
     "0689d0d9942846189e091dfb31ed02bc": {
      "model_module": "@jupyter-widgets/base",
      "model_module_version": "1.2.0",
      "model_name": "LayoutModel",
      "state": {}
     },
     "0821703bd5854da4a4d60bd9a4513adc": {
      "model_module": "@jupyter-widgets/base",
      "model_module_version": "1.2.0",
      "model_name": "LayoutModel",
      "state": {}
     },
     "0d11c2ea08204915a2eb73e4de18c966": {
      "model_module": "@jupyter-widgets/base",
      "model_module_version": "1.2.0",
      "model_name": "LayoutModel",
      "state": {}
     },
     "0d359391475448b38de0301e1e8a274d": {
      "model_module": "@jupyter-widgets/controls",
      "model_module_version": "1.5.0",
      "model_name": "FloatProgressModel",
      "state": {
       "bar_style": "success",
       "layout": "IPY_MODEL_1cf6d74c411745b4bbcb492eec6d71d6",
       "max": 415,
       "style": "IPY_MODEL_f24a9b2c0894427fa339a90986f74381",
       "value": 415
      }
     },
     "0d75715ee6204d70b81925057983b04f": {
      "model_module": "@jupyter-widgets/controls",
      "model_module_version": "1.5.0",
      "model_name": "HTMLModel",
      "state": {
       "layout": "IPY_MODEL_ca3796c0a8f048749efa8c604bf40185",
       "style": "IPY_MODEL_868beff75803458db8270a13da21f7d3",
       "value": "100%"
      }
     },
     "0de003a060864f9081696e5dcd756e5f": {
      "model_module": "@jupyter-widgets/base",
      "model_module_version": "1.2.0",
      "model_name": "LayoutModel",
      "state": {}
     },
     "0e2dca5122c5464ead3480a3f5380721": {
      "model_module": "@jupyter-widgets/controls",
      "model_module_version": "1.5.0",
      "model_name": "ProgressStyleModel",
      "state": {
       "description_width": ""
      }
     },
     "0e43e824dad846599c6a06f90dcdc5b8": {
      "model_module": "@jupyter-widgets/controls",
      "model_module_version": "1.5.0",
      "model_name": "HTMLModel",
      "state": {
       "layout": "IPY_MODEL_189966527ac14ab49486b97c53f64809",
       "style": "IPY_MODEL_c6bde98e2dc74fc7b527f2c5dae00d4b",
       "value": "100%"
      }
     },
     "0ec10aaa5113420e9ad2fca218979336": {
      "model_module": "@jupyter-widgets/base",
      "model_module_version": "1.2.0",
      "model_name": "LayoutModel",
      "state": {}
     },
     "0ec87e2c20194f6cad587c12a73c557c": {
      "model_module": "@jupyter-widgets/controls",
      "model_module_version": "1.5.0",
      "model_name": "ProgressStyleModel",
      "state": {
       "description_width": ""
      }
     },
     "1067a7067eab498180f02409b6d0ef5d": {
      "model_module": "@jupyter-widgets/base",
      "model_module_version": "1.2.0",
      "model_name": "LayoutModel",
      "state": {}
     },
     "10da98b2aa854b249e1269481369990a": {
      "model_module": "@jupyter-widgets/base",
      "model_module_version": "1.2.0",
      "model_name": "LayoutModel",
      "state": {}
     },
     "10eac0b30e6c470ab94d7f9450ad4546": {
      "model_module": "@jupyter-widgets/controls",
      "model_module_version": "1.5.0",
      "model_name": "DescriptionStyleModel",
      "state": {
       "description_width": ""
      }
     },
     "11208cba387e4a358fa5a5ad88d9643f": {
      "model_module": "@jupyter-widgets/controls",
      "model_module_version": "1.5.0",
      "model_name": "HTMLModel",
      "state": {
       "layout": "IPY_MODEL_1067a7067eab498180f02409b6d0ef5d",
       "style": "IPY_MODEL_50746f0549824a4eada3329bef885520",
       "value": "100%"
      }
     },
     "11a2da3569954199938666c5e998829a": {
      "model_module": "@jupyter-widgets/base",
      "model_module_version": "1.2.0",
      "model_name": "LayoutModel",
      "state": {}
     },
     "11c093c219bf4be89f9a2ba4ce4c5e46": {
      "model_module": "@jupyter-widgets/base",
      "model_module_version": "1.2.0",
      "model_name": "LayoutModel",
      "state": {}
     },
     "11f7ac5a7da14685b93974dafc7c6d5a": {
      "model_module": "@jupyter-widgets/controls",
      "model_module_version": "1.5.0",
      "model_name": "FloatProgressModel",
      "state": {
       "bar_style": "success",
       "layout": "IPY_MODEL_11a2da3569954199938666c5e998829a",
       "max": 415,
       "style": "IPY_MODEL_b9a06f821f484af1b831029829152202",
       "value": 415
      }
     },
     "11ff81b2268f492e963716611024fae7": {
      "model_module": "@jupyter-widgets/base",
      "model_module_version": "1.2.0",
      "model_name": "LayoutModel",
      "state": {}
     },
     "1352da17e9824f539dbf421eec23a5ea": {
      "model_module": "@jupyter-widgets/controls",
      "model_module_version": "1.5.0",
      "model_name": "HTMLModel",
      "state": {
       "layout": "IPY_MODEL_e860943a3c93440fa0636f87bf2b6ddb",
       "style": "IPY_MODEL_c3a5b068a736431f9e7d980ba6272ebb",
       "value": "100%"
      }
     },
     "14493d2e411c498cb40dbd49cc417ca3": {
      "model_module": "@jupyter-widgets/base",
      "model_module_version": "1.2.0",
      "model_name": "LayoutModel",
      "state": {}
     },
     "14f25dbd7018478594b4a648bb92bf27": {
      "model_module": "@jupyter-widgets/controls",
      "model_module_version": "1.5.0",
      "model_name": "HTMLModel",
      "state": {
       "layout": "IPY_MODEL_9860a00f65bd4067a26b9dbe4f4d389f",
       "style": "IPY_MODEL_d29b669e21374ab4bfecdff40f3cac5e",
       "value": "100%"
      }
     },
     "15bacd6ec1cf4f529b52cb6c87bd6b64": {
      "model_module": "@jupyter-widgets/controls",
      "model_module_version": "1.5.0",
      "model_name": "HBoxModel",
      "state": {
       "children": [
        "IPY_MODEL_84496e73ccb24cb6bd81fb8b52b43189",
        "IPY_MODEL_421c28a1491249f2b5d05199ae5944b1",
        "IPY_MODEL_b53960c28f1941e189eb2a665b151744"
       ],
       "layout": "IPY_MODEL_b22984fcd1e34a9597eb867fb86e3610"
      }
     },
     "15d30e83d7b14b009f99db22b8aa4af2": {
      "model_module": "@jupyter-widgets/controls",
      "model_module_version": "1.5.0",
      "model_name": "FloatProgressModel",
      "state": {
       "bar_style": "success",
       "layout": "IPY_MODEL_affd81085de94d309dee8bb8a5b3f065",
       "max": 415,
       "style": "IPY_MODEL_6015265a89ed40dab89691d4cf5fd186",
       "value": 415
      }
     },
     "15d68eac8098440e8e8e4620786c9605": {
      "model_module": "@jupyter-widgets/controls",
      "model_module_version": "1.5.0",
      "model_name": "HBoxModel",
      "state": {
       "children": [
        "IPY_MODEL_0d75715ee6204d70b81925057983b04f",
        "IPY_MODEL_88a24cd06d184c07a3550eefe3b269fe",
        "IPY_MODEL_2b264a06adf94277b4272d6732f67783"
       ],
       "layout": "IPY_MODEL_61747756fdf74dbcb8bdc83196833fee"
      }
     },
     "16383d09d00842109de83d03ca5d75c8": {
      "model_module": "@jupyter-widgets/base",
      "model_module_version": "1.2.0",
      "model_name": "LayoutModel",
      "state": {}
     },
     "189966527ac14ab49486b97c53f64809": {
      "model_module": "@jupyter-widgets/base",
      "model_module_version": "1.2.0",
      "model_name": "LayoutModel",
      "state": {}
     },
     "18efd44725ca4ef8a24c89119f6c8302": {
      "model_module": "@jupyter-widgets/controls",
      "model_module_version": "1.5.0",
      "model_name": "ProgressStyleModel",
      "state": {
       "description_width": ""
      }
     },
     "19edc7d6b9154dfea5c3889e3f1e3eaa": {
      "model_module": "@jupyter-widgets/controls",
      "model_module_version": "1.5.0",
      "model_name": "HTMLModel",
      "state": {
       "layout": "IPY_MODEL_3cffe3cd97c948d88e53d5d86aa54fcf",
       "style": "IPY_MODEL_e0d3e479b84a418e807c2b50b271cc6c",
       "value": "100%"
      }
     },
     "19ee7cd2b0f0426e9885987015b3ceef": {
      "model_module": "@jupyter-widgets/controls",
      "model_module_version": "1.5.0",
      "model_name": "DescriptionStyleModel",
      "state": {
       "description_width": ""
      }
     },
     "1a884e4dc3544319ba5e49d5811d199c": {
      "model_module": "@jupyter-widgets/base",
      "model_module_version": "1.2.0",
      "model_name": "LayoutModel",
      "state": {}
     },
     "1ab9fe12d4244d649e17c2e2b5968e64": {
      "model_module": "@jupyter-widgets/base",
      "model_module_version": "1.2.0",
      "model_name": "LayoutModel",
      "state": {}
     },
     "1b5ee0de5efb44e196eceba5736959bf": {
      "model_module": "@jupyter-widgets/controls",
      "model_module_version": "1.5.0",
      "model_name": "HBoxModel",
      "state": {
       "children": [
        "IPY_MODEL_cbbfa03350ad41fb8c37521084c1fc32",
        "IPY_MODEL_5003e233a11f48d3b993815c58358196",
        "IPY_MODEL_9153caa9ceba44b7b4fbba305ddee861"
       ],
       "layout": "IPY_MODEL_5a8348fd69594f8c8238469df775e13d"
      }
     },
     "1bdfd4aedd9a49e5beb2e9b4f02bfe19": {
      "model_module": "@jupyter-widgets/controls",
      "model_module_version": "1.5.0",
      "model_name": "DescriptionStyleModel",
      "state": {
       "description_width": ""
      }
     },
     "1c441d2f78d14b568fbec51a6dff9315": {
      "model_module": "@jupyter-widgets/controls",
      "model_module_version": "1.5.0",
      "model_name": "HBoxModel",
      "state": {
       "children": [
        "IPY_MODEL_a4d4dcbea6d2448ba674a768caa331bf",
        "IPY_MODEL_0d359391475448b38de0301e1e8a274d",
        "IPY_MODEL_e05982172b344bc3aa6ddd73506f98ae"
       ],
       "layout": "IPY_MODEL_1ab9fe12d4244d649e17c2e2b5968e64"
      }
     },
     "1c504451a23b41afa2199edb34fbdb3e": {
      "model_module": "@jupyter-widgets/controls",
      "model_module_version": "1.5.0",
      "model_name": "HBoxModel",
      "state": {
       "children": [
        "IPY_MODEL_19edc7d6b9154dfea5c3889e3f1e3eaa",
        "IPY_MODEL_acbba215c72c482c87e45b211a0b1127",
        "IPY_MODEL_60645d90b6394d9ea335da4d29b37a2f"
       ],
       "layout": "IPY_MODEL_11c093c219bf4be89f9a2ba4ce4c5e46"
      }
     },
     "1c54ca211c1c42618cd336cbb77fc730": {
      "model_module": "@jupyter-widgets/controls",
      "model_module_version": "1.5.0",
      "model_name": "DescriptionStyleModel",
      "state": {
       "description_width": ""
      }
     },
     "1c8e0d6a60af4a128b0915e82f39f9cb": {
      "model_module": "@jupyter-widgets/controls",
      "model_module_version": "1.5.0",
      "model_name": "DescriptionStyleModel",
      "state": {
       "description_width": ""
      }
     },
     "1c96351d986c44f088f314be65f4f295": {
      "model_module": "@jupyter-widgets/base",
      "model_module_version": "1.2.0",
      "model_name": "LayoutModel",
      "state": {}
     },
     "1cf6d74c411745b4bbcb492eec6d71d6": {
      "model_module": "@jupyter-widgets/base",
      "model_module_version": "1.2.0",
      "model_name": "LayoutModel",
      "state": {}
     },
     "1db7aa4b94b8439aa22bbea2f5d1663b": {
      "model_module": "@jupyter-widgets/base",
      "model_module_version": "1.2.0",
      "model_name": "LayoutModel",
      "state": {}
     },
     "1ed011e2cabe4a2792a240c206d4d651": {
      "model_module": "@jupyter-widgets/base",
      "model_module_version": "1.2.0",
      "model_name": "LayoutModel",
      "state": {}
     },
     "1ef5fa216e3c450da58fefe46a3d0220": {
      "model_module": "@jupyter-widgets/controls",
      "model_module_version": "1.5.0",
      "model_name": "HTMLModel",
      "state": {
       "layout": "IPY_MODEL_11ff81b2268f492e963716611024fae7",
       "style": "IPY_MODEL_f33e45da32ff47f184cd70af8f15136b",
       "value": "100%"
      }
     },
     "1fd0802079f94a5480dfbade4f074c0a": {
      "model_module": "@jupyter-widgets/base",
      "model_module_version": "1.2.0",
      "model_name": "LayoutModel",
      "state": {}
     },
     "20bc1ea789eb465fafd8102b3e3ed09e": {
      "model_module": "@jupyter-widgets/controls",
      "model_module_version": "1.5.0",
      "model_name": "ProgressStyleModel",
      "state": {
       "description_width": ""
      }
     },
     "210bf8452cfd4e779cebeef7c73617f8": {
      "model_module": "@jupyter-widgets/controls",
      "model_module_version": "1.5.0",
      "model_name": "ProgressStyleModel",
      "state": {
       "description_width": ""
      }
     },
     "244fcc25eefc4acf87eb494c1ca2fc91": {
      "model_module": "@jupyter-widgets/controls",
      "model_module_version": "1.5.0",
      "model_name": "ProgressStyleModel",
      "state": {
       "description_width": ""
      }
     },
     "25252b889d0c41e7a8e91f4ac7a88d3b": {
      "model_module": "@jupyter-widgets/base",
      "model_module_version": "1.2.0",
      "model_name": "LayoutModel",
      "state": {}
     },
     "25859f6c7da24c2482956719164bfcca": {
      "model_module": "@jupyter-widgets/controls",
      "model_module_version": "1.5.0",
      "model_name": "DescriptionStyleModel",
      "state": {
       "description_width": ""
      }
     },
     "269b108dccf948f3b34f573a602300b1": {
      "model_module": "@jupyter-widgets/controls",
      "model_module_version": "1.5.0",
      "model_name": "HTMLModel",
      "state": {
       "layout": "IPY_MODEL_1db7aa4b94b8439aa22bbea2f5d1663b",
       "style": "IPY_MODEL_10eac0b30e6c470ab94d7f9450ad4546",
       "value": " 415/415 [00:00&lt;00:00, 2481.06it/s]"
      }
     },
     "2837ac295a8048b4894a642aa49e709e": {
      "model_module": "@jupyter-widgets/controls",
      "model_module_version": "1.5.0",
      "model_name": "DescriptionStyleModel",
      "state": {
       "description_width": ""
      }
     },
     "2a63deacc5fe4047a3360ced3ac9d5c9": {
      "model_module": "@jupyter-widgets/base",
      "model_module_version": "1.2.0",
      "model_name": "LayoutModel",
      "state": {}
     },
     "2b264a06adf94277b4272d6732f67783": {
      "model_module": "@jupyter-widgets/controls",
      "model_module_version": "1.5.0",
      "model_name": "HTMLModel",
      "state": {
       "layout": "IPY_MODEL_85e70d76b3fd412485cdd3f64dc0c088",
       "style": "IPY_MODEL_1c54ca211c1c42618cd336cbb77fc730",
       "value": " 415/415 [00:00&lt;00:00, 2469.77it/s]"
      }
     },
     "2ee694100b5e4b36af05bb4dc407c0d6": {
      "model_module": "@jupyter-widgets/base",
      "model_module_version": "1.2.0",
      "model_name": "LayoutModel",
      "state": {}
     },
     "2f0271c24f5247b88d5f5da9bfac5f9d": {
      "model_module": "@jupyter-widgets/base",
      "model_module_version": "1.2.0",
      "model_name": "LayoutModel",
      "state": {}
     },
     "2f0c8b283b4f42d6a8223524fd4ed86d": {
      "model_module": "@jupyter-widgets/controls",
      "model_module_version": "1.5.0",
      "model_name": "HTMLModel",
      "state": {
       "layout": "IPY_MODEL_9bd4c909f94f46dca820dc05aa9506d6",
       "style": "IPY_MODEL_406763e44d8a467bb9d1ef7f572d2e7e",
       "value": " 415/415 [00:00&lt;00:00, 2509.51it/s]"
      }
     },
     "3042efa026be4d659dcb10281dcd6479": {
      "model_module": "@jupyter-widgets/base",
      "model_module_version": "1.2.0",
      "model_name": "LayoutModel",
      "state": {}
     },
     "3127ab2300514aba80157f06ff1bf5a8": {
      "model_module": "@jupyter-widgets/controls",
      "model_module_version": "1.5.0",
      "model_name": "DescriptionStyleModel",
      "state": {
       "description_width": ""
      }
     },
     "314ed4a38c5b4e8db9d4f6960ea99093": {
      "model_module": "@jupyter-widgets/controls",
      "model_module_version": "1.5.0",
      "model_name": "DescriptionStyleModel",
      "state": {
       "description_width": ""
      }
     },
     "324cf8e9cfa6421dafb852142a02c36c": {
      "model_module": "@jupyter-widgets/controls",
      "model_module_version": "1.5.0",
      "model_name": "DescriptionStyleModel",
      "state": {
       "description_width": ""
      }
     },
     "339b4b871a8b4362ac94d168de1c0bf6": {
      "model_module": "@jupyter-widgets/base",
      "model_module_version": "1.2.0",
      "model_name": "LayoutModel",
      "state": {}
     },
     "35c37f6ec8544406859819f623154e74": {
      "model_module": "@jupyter-widgets/controls",
      "model_module_version": "1.5.0",
      "model_name": "DescriptionStyleModel",
      "state": {
       "description_width": ""
      }
     },
     "36869ce396ce451e9545074a466ff950": {
      "model_module": "@jupyter-widgets/base",
      "model_module_version": "1.2.0",
      "model_name": "LayoutModel",
      "state": {}
     },
     "36f0e783fb014d22a6f1065da93927ec": {
      "model_module": "@jupyter-widgets/controls",
      "model_module_version": "1.5.0",
      "model_name": "FloatProgressModel",
      "state": {
       "bar_style": "success",
       "layout": "IPY_MODEL_cef9bda623464074846301f5346d2f8f",
       "max": 415,
       "style": "IPY_MODEL_761813c714aa4cdcb9fe2500c4fc83e2",
       "value": 415
      }
     },
     "3901e1d313454866bb2f910626c67509": {
      "model_module": "@jupyter-widgets/base",
      "model_module_version": "1.2.0",
      "model_name": "LayoutModel",
      "state": {}
     },
     "3b15b21c77b54cf2aa6840641bccfe15": {
      "model_module": "@jupyter-widgets/controls",
      "model_module_version": "1.5.0",
      "model_name": "HBoxModel",
      "state": {
       "children": [
        "IPY_MODEL_c02f6626a02848bd85b5645cd5d1d829",
        "IPY_MODEL_8507dbcfc4f14340bafa6b0baab5e782",
        "IPY_MODEL_d0d954e6cd4742f8a7a4a12c53a71482"
       ],
       "layout": "IPY_MODEL_7c5574eeff6b42f19b0adf2660d0a0c8"
      }
     },
     "3cce5dc9f4b04a3faa309f122ecff34f": {
      "model_module": "@jupyter-widgets/controls",
      "model_module_version": "1.5.0",
      "model_name": "DescriptionStyleModel",
      "state": {
       "description_width": ""
      }
     },
     "3cffe3cd97c948d88e53d5d86aa54fcf": {
      "model_module": "@jupyter-widgets/base",
      "model_module_version": "1.2.0",
      "model_name": "LayoutModel",
      "state": {}
     },
     "3d86ace29f9641ba8993cf5ebdd54eaf": {
      "model_module": "@jupyter-widgets/controls",
      "model_module_version": "1.5.0",
      "model_name": "HTMLModel",
      "state": {
       "layout": "IPY_MODEL_1a884e4dc3544319ba5e49d5811d199c",
       "style": "IPY_MODEL_00e5580d1f95421dac096a5e487b346b",
       "value": " 415/415 [00:00&lt;00:00, 2508.26it/s]"
      }
     },
     "3dbbfb7a6a6c4d4ea0eb0c0ff1470060": {
      "model_module": "@jupyter-widgets/controls",
      "model_module_version": "1.5.0",
      "model_name": "DescriptionStyleModel",
      "state": {
       "description_width": ""
      }
     },
     "404801b3f7fd40128bf6a83a7b7b2bec": {
      "model_module": "@jupyter-widgets/controls",
      "model_module_version": "1.5.0",
      "model_name": "FloatProgressModel",
      "state": {
       "bar_style": "success",
       "layout": "IPY_MODEL_9f58132fe52e42e091a52afda7efcc58",
       "max": 415,
       "style": "IPY_MODEL_914d6588abed4a378a94a3e72899bb42",
       "value": 415
      }
     },
     "406763e44d8a467bb9d1ef7f572d2e7e": {
      "model_module": "@jupyter-widgets/controls",
      "model_module_version": "1.5.0",
      "model_name": "DescriptionStyleModel",
      "state": {
       "description_width": ""
      }
     },
     "41caf86cd7594c92865b245a1d7b0c98": {
      "model_module": "@jupyter-widgets/base",
      "model_module_version": "1.2.0",
      "model_name": "LayoutModel",
      "state": {}
     },
     "421c28a1491249f2b5d05199ae5944b1": {
      "model_module": "@jupyter-widgets/controls",
      "model_module_version": "1.5.0",
      "model_name": "FloatProgressModel",
      "state": {
       "bar_style": "success",
       "layout": "IPY_MODEL_8b39d001c47e414cadb5f30bbeb79f15",
       "max": 415,
       "style": "IPY_MODEL_0e2dca5122c5464ead3480a3f5380721",
       "value": 415
      }
     },
     "45e84950970e4f4fa0caa89055a137ce": {
      "model_module": "@jupyter-widgets/controls",
      "model_module_version": "1.5.0",
      "model_name": "HTMLModel",
      "state": {
       "layout": "IPY_MODEL_1c96351d986c44f088f314be65f4f295",
       "style": "IPY_MODEL_3cce5dc9f4b04a3faa309f122ecff34f",
       "value": " 415/415 [00:00&lt;00:00, 2504.85it/s]"
      }
     },
     "4725a4fb844648bf9082cf3386dd951d": {
      "model_module": "@jupyter-widgets/base",
      "model_module_version": "1.2.0",
      "model_name": "LayoutModel",
      "state": {}
     },
     "49fd92fa79ce4f30bb3d09320ffdd87c": {
      "model_module": "@jupyter-widgets/controls",
      "model_module_version": "1.5.0",
      "model_name": "HBoxModel",
      "state": {
       "children": [
        "IPY_MODEL_1352da17e9824f539dbf421eec23a5ea",
        "IPY_MODEL_404801b3f7fd40128bf6a83a7b7b2bec",
        "IPY_MODEL_a3af1dd0007f42cba83a6588142bc29f"
       ],
       "layout": "IPY_MODEL_a9f1991c05c94d81849f9b2b9a964c4b"
      }
     },
     "4b4d1cc03bfd4148b219b859ccbc227b": {
      "model_module": "@jupyter-widgets/base",
      "model_module_version": "1.2.0",
      "model_name": "LayoutModel",
      "state": {}
     },
     "4b9ec353d5534d88bfe0120f0e50e356": {
      "model_module": "@jupyter-widgets/controls",
      "model_module_version": "1.5.0",
      "model_name": "HTMLModel",
      "state": {
       "layout": "IPY_MODEL_25252b889d0c41e7a8e91f4ac7a88d3b",
       "style": "IPY_MODEL_ebb5f5dcad004647a19bef46d7d463b1",
       "value": " 415/415 [00:00&lt;00:00, 2492.60it/s]"
      }
     },
     "4ba01d1fe3c1477385d11974ec8409bc": {
      "model_module": "@jupyter-widgets/controls",
      "model_module_version": "1.5.0",
      "model_name": "HBoxModel",
      "state": {
       "children": [
        "IPY_MODEL_be64b1a46a394f6bb6d0e021c085ea88",
        "IPY_MODEL_968c943b69fe468d8728a933a2cc7879",
        "IPY_MODEL_f6a6c96fffba48178bcc30b8198d1bda"
       ],
       "layout": "IPY_MODEL_05bff68faf8a4874a37d6b2579f9226f"
      }
     },
     "4bd0de706b0b4d1dae2f9f7469e23607": {
      "model_module": "@jupyter-widgets/controls",
      "model_module_version": "1.5.0",
      "model_name": "ProgressStyleModel",
      "state": {
       "description_width": ""
      }
     },
     "4e1f04b48ec44054acb08c09b8cfe2a9": {
      "model_module": "@jupyter-widgets/controls",
      "model_module_version": "1.5.0",
      "model_name": "HTMLModel",
      "state": {
       "layout": "IPY_MODEL_10da98b2aa854b249e1269481369990a",
       "style": "IPY_MODEL_6ad299a6efae4cf3830d67d2e8bb43eb",
       "value": " 415/415 [00:00&lt;00:00, 2487.72it/s]"
      }
     },
     "4e8d6d002d94410f92b0e67a37aa841a": {
      "model_module": "@jupyter-widgets/controls",
      "model_module_version": "1.5.0",
      "model_name": "ProgressStyleModel",
      "state": {
       "description_width": ""
      }
     },
     "5003e233a11f48d3b993815c58358196": {
      "model_module": "@jupyter-widgets/controls",
      "model_module_version": "1.5.0",
      "model_name": "FloatProgressModel",
      "state": {
       "bar_style": "success",
       "layout": "IPY_MODEL_3042efa026be4d659dcb10281dcd6479",
       "max": 415,
       "style": "IPY_MODEL_95190046cb404155b9a212602a9dce23",
       "value": 415
      }
     },
     "50746f0549824a4eada3329bef885520": {
      "model_module": "@jupyter-widgets/controls",
      "model_module_version": "1.5.0",
      "model_name": "DescriptionStyleModel",
      "state": {
       "description_width": ""
      }
     },
     "50a80b387c2348ea91d54f90521e6681": {
      "model_module": "@jupyter-widgets/base",
      "model_module_version": "1.2.0",
      "model_name": "LayoutModel",
      "state": {}
     },
     "53136e80f229410dacf676264947cfda": {
      "model_module": "@jupyter-widgets/controls",
      "model_module_version": "1.5.0",
      "model_name": "DescriptionStyleModel",
      "state": {
       "description_width": ""
      }
     },
     "53f718eff3524d5eb9259a33db8855c7": {
      "model_module": "@jupyter-widgets/base",
      "model_module_version": "1.2.0",
      "model_name": "LayoutModel",
      "state": {}
     },
     "5597c051a3a8403ea554c30529145664": {
      "model_module": "@jupyter-widgets/base",
      "model_module_version": "1.2.0",
      "model_name": "LayoutModel",
      "state": {}
     },
     "55eb3a1013d54311b62583b9c0cc761f": {
      "model_module": "@jupyter-widgets/controls",
      "model_module_version": "1.5.0",
      "model_name": "HBoxModel",
      "state": {
       "children": [
        "IPY_MODEL_69425e7b4500442688bbff8c9e991b85",
        "IPY_MODEL_36f0e783fb014d22a6f1065da93927ec",
        "IPY_MODEL_2f0c8b283b4f42d6a8223524fd4ed86d"
       ],
       "layout": "IPY_MODEL_8d84b7ab75714f32822d5f7316af185f"
      }
     },
     "56fefddb83ef4ccc987984d9a428eb50": {
      "model_module": "@jupyter-widgets/controls",
      "model_module_version": "1.5.0",
      "model_name": "HBoxModel",
      "state": {
       "children": [
        "IPY_MODEL_b39693c9fdd14353bd75ed3e473cea4a",
        "IPY_MODEL_e9be57792e944bf5952014441cb9949d",
        "IPY_MODEL_912bf633513d4cb19cf1affe201522b4"
       ],
       "layout": "IPY_MODEL_b7f2240c5fe0498aa509cdfa3a2f3fee"
      }
     },
     "577a859e7dca4cf9945cfbc603c20563": {
      "model_module": "@jupyter-widgets/base",
      "model_module_version": "1.2.0",
      "model_name": "LayoutModel",
      "state": {}
     },
     "5871c954432842f28fb84c40f8779231": {
      "model_module": "@jupyter-widgets/base",
      "model_module_version": "1.2.0",
      "model_name": "LayoutModel",
      "state": {}
     },
     "5a8348fd69594f8c8238469df775e13d": {
      "model_module": "@jupyter-widgets/base",
      "model_module_version": "1.2.0",
      "model_name": "LayoutModel",
      "state": {}
     },
     "5baf789b87724162bbae49f48a479d3c": {
      "model_module": "@jupyter-widgets/controls",
      "model_module_version": "1.5.0",
      "model_name": "DescriptionStyleModel",
      "state": {
       "description_width": ""
      }
     },
     "5d3fd7e4389943e89c017be6ff2d4748": {
      "model_module": "@jupyter-widgets/base",
      "model_module_version": "1.2.0",
      "model_name": "LayoutModel",
      "state": {}
     },
     "5db6c3b9c4da49ee8e49901ae4b7165e": {
      "model_module": "@jupyter-widgets/controls",
      "model_module_version": "1.5.0",
      "model_name": "ProgressStyleModel",
      "state": {
       "description_width": ""
      }
     },
     "5dd1d8468d2b4608bf329c64464220a8": {
      "model_module": "@jupyter-widgets/controls",
      "model_module_version": "1.5.0",
      "model_name": "HTMLModel",
      "state": {
       "layout": "IPY_MODEL_8ca9286e54d74ebdac0ea8004ab67d8d",
       "style": "IPY_MODEL_314ed4a38c5b4e8db9d4f6960ea99093",
       "value": " 415/415 [00:00&lt;00:00, 3379.41it/s]"
      }
     },
     "5f147e5590174515b94b5cb455ede966": {
      "model_module": "@jupyter-widgets/controls",
      "model_module_version": "1.5.0",
      "model_name": "DescriptionStyleModel",
      "state": {
       "description_width": ""
      }
     },
     "6015265a89ed40dab89691d4cf5fd186": {
      "model_module": "@jupyter-widgets/controls",
      "model_module_version": "1.5.0",
      "model_name": "ProgressStyleModel",
      "state": {
       "description_width": ""
      }
     },
     "60645d90b6394d9ea335da4d29b37a2f": {
      "model_module": "@jupyter-widgets/controls",
      "model_module_version": "1.5.0",
      "model_name": "HTMLModel",
      "state": {
       "layout": "IPY_MODEL_0280b4579d5543e98cc6093dfcebc2eb",
       "style": "IPY_MODEL_5f147e5590174515b94b5cb455ede966",
       "value": " 415/415 [00:00&lt;00:00, 3448.92it/s]"
      }
     },
     "61747756fdf74dbcb8bdc83196833fee": {
      "model_module": "@jupyter-widgets/base",
      "model_module_version": "1.2.0",
      "model_name": "LayoutModel",
      "state": {}
     },
     "64cfdc6306a545c9af6bd5c46eb8347c": {
      "model_module": "@jupyter-widgets/controls",
      "model_module_version": "1.5.0",
      "model_name": "FloatProgressModel",
      "state": {
       "bar_style": "success",
       "layout": "IPY_MODEL_ff089740dff94d8ca4326417fdaecfa7",
       "max": 415,
       "style": "IPY_MODEL_18efd44725ca4ef8a24c89119f6c8302",
       "value": 415
      }
     },
     "6562ced6575e4c50aec8b4113ac297af": {
      "model_module": "@jupyter-widgets/controls",
      "model_module_version": "1.5.0",
      "model_name": "HBoxModel",
      "state": {
       "children": [
        "IPY_MODEL_14f25dbd7018478594b4a648bb92bf27",
        "IPY_MODEL_82540051af054e2292c90fe445558da1",
        "IPY_MODEL_8aa52763334d41df9f311c9f7536790b"
       ],
       "layout": "IPY_MODEL_8cb03a0cde534ad98c90389ca9676838"
      }
     },
     "65b9fe59cdbf43649b08510d0e830bdb": {
      "model_module": "@jupyter-widgets/base",
      "model_module_version": "1.2.0",
      "model_name": "LayoutModel",
      "state": {}
     },
     "6642796583074dc282e2375212981157": {
      "model_module": "@jupyter-widgets/controls",
      "model_module_version": "1.5.0",
      "model_name": "DescriptionStyleModel",
      "state": {
       "description_width": ""
      }
     },
     "66b0391f23824740b2d6d086fed7c6ea": {
      "model_module": "@jupyter-widgets/base",
      "model_module_version": "1.2.0",
      "model_name": "LayoutModel",
      "state": {}
     },
     "678c0f1e769544b485df32790e32499c": {
      "model_module": "@jupyter-widgets/base",
      "model_module_version": "1.2.0",
      "model_name": "LayoutModel",
      "state": {}
     },
     "679ef9964b0042e7a2410102625c7006": {
      "model_module": "@jupyter-widgets/controls",
      "model_module_version": "1.5.0",
      "model_name": "DescriptionStyleModel",
      "state": {
       "description_width": ""
      }
     },
     "67e5b2a3cd7b401cbb900e5d4f3f4677": {
      "model_module": "@jupyter-widgets/controls",
      "model_module_version": "1.5.0",
      "model_name": "ProgressStyleModel",
      "state": {
       "description_width": ""
      }
     },
     "686224b07a694d4c800b26d711f36aeb": {
      "model_module": "@jupyter-widgets/controls",
      "model_module_version": "1.5.0",
      "model_name": "FloatProgressModel",
      "state": {
       "bar_style": "success",
       "layout": "IPY_MODEL_5d3fd7e4389943e89c017be6ff2d4748",
       "max": 415,
       "style": "IPY_MODEL_20bc1ea789eb465fafd8102b3e3ed09e",
       "value": 415
      }
     },
     "69425e7b4500442688bbff8c9e991b85": {
      "model_module": "@jupyter-widgets/controls",
      "model_module_version": "1.5.0",
      "model_name": "HTMLModel",
      "state": {
       "layout": "IPY_MODEL_a893f261e4b54978a5b4e95c6cdd2a4f",
       "style": "IPY_MODEL_1bdfd4aedd9a49e5beb2e9b4f02bfe19",
       "value": "100%"
      }
     },
     "6ad299a6efae4cf3830d67d2e8bb43eb": {
      "model_module": "@jupyter-widgets/controls",
      "model_module_version": "1.5.0",
      "model_name": "DescriptionStyleModel",
      "state": {
       "description_width": ""
      }
     },
     "6cbe7f3ee5e3477dbc924e7b5576e9d9": {
      "model_module": "@jupyter-widgets/controls",
      "model_module_version": "1.5.0",
      "model_name": "HTMLModel",
      "state": {
       "layout": "IPY_MODEL_9443d69e856342d8877433ad616a9b94",
       "style": "IPY_MODEL_ff26a67c8db3467e813fde1c656d6814",
       "value": " 415/415 [00:00&lt;00:00, 3465.46it/s]"
      }
     },
     "6cf9e1071a4148e782c536da1cc80fd8": {
      "model_module": "@jupyter-widgets/controls",
      "model_module_version": "1.5.0",
      "model_name": "HBoxModel",
      "state": {
       "children": [
        "IPY_MODEL_11208cba387e4a358fa5a5ad88d9643f",
        "IPY_MODEL_778dc967d8fa4360854b3a36ede3dece",
        "IPY_MODEL_9af49441b679493aa4e1bb06a9496314"
       ],
       "layout": "IPY_MODEL_898a3c395a2147869ad5ffe448053081"
      }
     },
     "6d078871c5644f968cf2b14af1ed7045": {
      "model_module": "@jupyter-widgets/controls",
      "model_module_version": "1.5.0",
      "model_name": "HBoxModel",
      "state": {
       "children": [
        "IPY_MODEL_8f535b720f58434a93c4d2187829f26e",
        "IPY_MODEL_78e17600a20547629f18fa1f92647751",
        "IPY_MODEL_5dd1d8468d2b4608bf329c64464220a8"
       ],
       "layout": "IPY_MODEL_6df959642b5b4920a3183090c6f23ce6"
      }
     },
     "6df959642b5b4920a3183090c6f23ce6": {
      "model_module": "@jupyter-widgets/base",
      "model_module_version": "1.2.0",
      "model_name": "LayoutModel",
      "state": {}
     },
     "7075d8ba1da04c82afddfbd33cb11ab9": {
      "model_module": "@jupyter-widgets/controls",
      "model_module_version": "1.5.0",
      "model_name": "HTMLModel",
      "state": {
       "layout": "IPY_MODEL_a579a557a1e047a8bb1151240eb0512c",
       "style": "IPY_MODEL_ba0c8b1d7ed64ecaa12371c6c355a0f2",
       "value": " 415/415 [00:00&lt;00:00, 3408.97it/s]"
      }
     },
     "7347e2c4da004b15982e3b570d9eb933": {
      "model_module": "@jupyter-widgets/controls",
      "model_module_version": "1.5.0",
      "model_name": "DescriptionStyleModel",
      "state": {
       "description_width": ""
      }
     },
     "73b0b1898c40449abb85a7a1ed1e910c": {
      "model_module": "@jupyter-widgets/base",
      "model_module_version": "1.2.0",
      "model_name": "LayoutModel",
      "state": {}
     },
     "7424d78b1f374ee4b955512604180206": {
      "model_module": "@jupyter-widgets/controls",
      "model_module_version": "1.5.0",
      "model_name": "FloatProgressModel",
      "state": {
       "bar_style": "success",
       "layout": "IPY_MODEL_66b0391f23824740b2d6d086fed7c6ea",
       "max": 415,
       "style": "IPY_MODEL_ae5ee1dbbf084825b0bb390fb5fd4055",
       "value": 415
      }
     },
     "74cc53201ba74a41b3e4ac1885dafd7a": {
      "model_module": "@jupyter-widgets/controls",
      "model_module_version": "1.5.0",
      "model_name": "DescriptionStyleModel",
      "state": {
       "description_width": ""
      }
     },
     "75fbd4c5d6774ffdad12b15ec53706fe": {
      "model_module": "@jupyter-widgets/controls",
      "model_module_version": "1.5.0",
      "model_name": "DescriptionStyleModel",
      "state": {
       "description_width": ""
      }
     },
     "761813c714aa4cdcb9fe2500c4fc83e2": {
      "model_module": "@jupyter-widgets/controls",
      "model_module_version": "1.5.0",
      "model_name": "ProgressStyleModel",
      "state": {
       "description_width": ""
      }
     },
     "7780ae32bb9d41a99177187ba7c35eb5": {
      "model_module": "@jupyter-widgets/controls",
      "model_module_version": "1.5.0",
      "model_name": "HTMLModel",
      "state": {
       "layout": "IPY_MODEL_5871c954432842f28fb84c40f8779231",
       "style": "IPY_MODEL_bd1b3d8752044f2ba180a649d1e2cf5d",
       "value": "100%"
      }
     },
     "778dc967d8fa4360854b3a36ede3dece": {
      "model_module": "@jupyter-widgets/controls",
      "model_module_version": "1.5.0",
      "model_name": "FloatProgressModel",
      "state": {
       "bar_style": "success",
       "layout": "IPY_MODEL_577a859e7dca4cf9945cfbc603c20563",
       "max": 415,
       "style": "IPY_MODEL_ac2280f5fb8b45ee83671a0f62166397",
       "value": 415
      }
     },
     "77d8806de47b413fb796428278d848ff": {
      "model_module": "@jupyter-widgets/base",
      "model_module_version": "1.2.0",
      "model_name": "LayoutModel",
      "state": {}
     },
     "78e17600a20547629f18fa1f92647751": {
      "model_module": "@jupyter-widgets/controls",
      "model_module_version": "1.5.0",
      "model_name": "FloatProgressModel",
      "state": {
       "bar_style": "success",
       "layout": "IPY_MODEL_f5ca233d81e9477d8a106bacb1ecb1ac",
       "max": 415,
       "style": "IPY_MODEL_99a3e30788854c88b6c4f891b3db03eb",
       "value": 415
      }
     },
     "79a91d4f3ea64c7e95e48d63c33b0f33": {
      "model_module": "@jupyter-widgets/controls",
      "model_module_version": "1.5.0",
      "model_name": "HTMLModel",
      "state": {
       "layout": "IPY_MODEL_cbe0ae05df89404f8f8189e1eff34ed0",
       "style": "IPY_MODEL_5baf789b87724162bbae49f48a479d3c",
       "value": " 415/415 [00:00&lt;00:00, 2535.60it/s]"
      }
     },
     "7b622ead6a814b4da0af303da3da7f4f": {
      "model_module": "@jupyter-widgets/base",
      "model_module_version": "1.2.0",
      "model_name": "LayoutModel",
      "state": {}
     },
     "7c3ab66e1af24507b03d816f18f2fc7a": {
      "model_module": "@jupyter-widgets/base",
      "model_module_version": "1.2.0",
      "model_name": "LayoutModel",
      "state": {}
     },
     "7c428b89cbc0453c8c01269a20b2d92a": {
      "model_module": "@jupyter-widgets/base",
      "model_module_version": "1.2.0",
      "model_name": "LayoutModel",
      "state": {}
     },
     "7c5574eeff6b42f19b0adf2660d0a0c8": {
      "model_module": "@jupyter-widgets/base",
      "model_module_version": "1.2.0",
      "model_name": "LayoutModel",
      "state": {}
     },
     "7e5e09d82af64f208b43bc4ef79bb79c": {
      "model_module": "@jupyter-widgets/base",
      "model_module_version": "1.2.0",
      "model_name": "LayoutModel",
      "state": {}
     },
     "7f2fdfffea1c4214a87fa8930677692d": {
      "model_module": "@jupyter-widgets/base",
      "model_module_version": "1.2.0",
      "model_name": "LayoutModel",
      "state": {}
     },
     "80d928ab5e2e4f57a152b5302a49f495": {
      "model_module": "@jupyter-widgets/controls",
      "model_module_version": "1.5.0",
      "model_name": "ProgressStyleModel",
      "state": {
       "description_width": ""
      }
     },
     "811b64b311f24a41a6ab6443ab773ed2": {
      "model_module": "@jupyter-widgets/controls",
      "model_module_version": "1.5.0",
      "model_name": "ProgressStyleModel",
      "state": {
       "description_width": ""
      }
     },
     "82540051af054e2292c90fe445558da1": {
      "model_module": "@jupyter-widgets/controls",
      "model_module_version": "1.5.0",
      "model_name": "FloatProgressModel",
      "state": {
       "bar_style": "success",
       "layout": "IPY_MODEL_98d4f3e9f89c48e9a6590e6f4a5ba50b",
       "max": 415,
       "style": "IPY_MODEL_80d928ab5e2e4f57a152b5302a49f495",
       "value": 415
      }
     },
     "83a9390327de4f4182f021f74b356a85": {
      "model_module": "@jupyter-widgets/base",
      "model_module_version": "1.2.0",
      "model_name": "LayoutModel",
      "state": {}
     },
     "84496e73ccb24cb6bd81fb8b52b43189": {
      "model_module": "@jupyter-widgets/controls",
      "model_module_version": "1.5.0",
      "model_name": "HTMLModel",
      "state": {
       "layout": "IPY_MODEL_96d6eae873e3479fb89271e2dd1819f1",
       "style": "IPY_MODEL_324cf8e9cfa6421dafb852142a02c36c",
       "value": "100%"
      }
     },
     "8507dbcfc4f14340bafa6b0baab5e782": {
      "model_module": "@jupyter-widgets/controls",
      "model_module_version": "1.5.0",
      "model_name": "FloatProgressModel",
      "state": {
       "bar_style": "success",
       "layout": "IPY_MODEL_65b9fe59cdbf43649b08510d0e830bdb",
       "max": 415,
       "style": "IPY_MODEL_67e5b2a3cd7b401cbb900e5d4f3f4677",
       "value": 415
      }
     },
     "85da05c30bc94b32b3105a205cf3bbed": {
      "model_module": "@jupyter-widgets/controls",
      "model_module_version": "1.5.0",
      "model_name": "HTMLModel",
      "state": {
       "layout": "IPY_MODEL_7c428b89cbc0453c8c01269a20b2d92a",
       "style": "IPY_MODEL_a20d186e9c734cc4880a803017f5a561",
       "value": "100%"
      }
     },
     "85e70d76b3fd412485cdd3f64dc0c088": {
      "model_module": "@jupyter-widgets/base",
      "model_module_version": "1.2.0",
      "model_name": "LayoutModel",
      "state": {}
     },
     "868beff75803458db8270a13da21f7d3": {
      "model_module": "@jupyter-widgets/controls",
      "model_module_version": "1.5.0",
      "model_name": "DescriptionStyleModel",
      "state": {
       "description_width": ""
      }
     },
     "88a24cd06d184c07a3550eefe3b269fe": {
      "model_module": "@jupyter-widgets/controls",
      "model_module_version": "1.5.0",
      "model_name": "FloatProgressModel",
      "state": {
       "bar_style": "success",
       "layout": "IPY_MODEL_2a63deacc5fe4047a3360ced3ac9d5c9",
       "max": 415,
       "style": "IPY_MODEL_5db6c3b9c4da49ee8e49901ae4b7165e",
       "value": 415
      }
     },
     "88a82e0d954f4e31957561838e02be0e": {
      "model_module": "@jupyter-widgets/controls",
      "model_module_version": "1.5.0",
      "model_name": "HTMLModel",
      "state": {
       "layout": "IPY_MODEL_c12ea9531d4045bfafb9d6c38e9673e4",
       "style": "IPY_MODEL_3127ab2300514aba80157f06ff1bf5a8",
       "value": "100%"
      }
     },
     "898a3c395a2147869ad5ffe448053081": {
      "model_module": "@jupyter-widgets/base",
      "model_module_version": "1.2.0",
      "model_name": "LayoutModel",
      "state": {}
     },
     "8a40e8fc6d6543d3ac158e5b3c23fe50": {
      "model_module": "@jupyter-widgets/controls",
      "model_module_version": "1.5.0",
      "model_name": "HTMLModel",
      "state": {
       "layout": "IPY_MODEL_73b0b1898c40449abb85a7a1ed1e910c",
       "style": "IPY_MODEL_3dbbfb7a6a6c4d4ea0eb0c0ff1470060",
       "value": "100%"
      }
     },
     "8aa52763334d41df9f311c9f7536790b": {
      "model_module": "@jupyter-widgets/controls",
      "model_module_version": "1.5.0",
      "model_name": "HTMLModel",
      "state": {
       "layout": "IPY_MODEL_0689d0d9942846189e091dfb31ed02bc",
       "style": "IPY_MODEL_7347e2c4da004b15982e3b570d9eb933",
       "value": " 415/415 [00:00&lt;00:00, 2518.59it/s]"
      }
     },
     "8ac0c767e6c6446d8d13419e433402ea": {
      "model_module": "@jupyter-widgets/controls",
      "model_module_version": "1.5.0",
      "model_name": "DescriptionStyleModel",
      "state": {
       "description_width": ""
      }
     },
     "8b39d001c47e414cadb5f30bbeb79f15": {
      "model_module": "@jupyter-widgets/base",
      "model_module_version": "1.2.0",
      "model_name": "LayoutModel",
      "state": {}
     },
     "8ca9286e54d74ebdac0ea8004ab67d8d": {
      "model_module": "@jupyter-widgets/base",
      "model_module_version": "1.2.0",
      "model_name": "LayoutModel",
      "state": {}
     },
     "8cb03a0cde534ad98c90389ca9676838": {
      "model_module": "@jupyter-widgets/base",
      "model_module_version": "1.2.0",
      "model_name": "LayoutModel",
      "state": {}
     },
     "8d84b7ab75714f32822d5f7316af185f": {
      "model_module": "@jupyter-widgets/base",
      "model_module_version": "1.2.0",
      "model_name": "LayoutModel",
      "state": {}
     },
     "8db4ff61e92e4a3797718af0d07a3ead": {
      "model_module": "@jupyter-widgets/controls",
      "model_module_version": "1.5.0",
      "model_name": "HBoxModel",
      "state": {
       "children": [
        "IPY_MODEL_a1e0e39be18a4ec5bc2d6df06db8adbf",
        "IPY_MODEL_90190f2b6df24281a1b70aab51243c39",
        "IPY_MODEL_bd6ee97a583d43258d07dd4fb6e76d28"
       ],
       "layout": "IPY_MODEL_5597c051a3a8403ea554c30529145664"
      }
     },
     "8dece75b25f14f419d228e3c82fa4e81": {
      "model_module": "@jupyter-widgets/controls",
      "model_module_version": "1.5.0",
      "model_name": "FloatProgressModel",
      "state": {
       "bar_style": "success",
       "layout": "IPY_MODEL_0ec10aaa5113420e9ad2fca218979336",
       "max": 415,
       "style": "IPY_MODEL_244fcc25eefc4acf87eb494c1ca2fc91",
       "value": 415
      }
     },
     "8f250410844649909390e6bf86039464": {
      "model_module": "@jupyter-widgets/controls",
      "model_module_version": "1.5.0",
      "model_name": "DescriptionStyleModel",
      "state": {
       "description_width": ""
      }
     },
     "8f535b720f58434a93c4d2187829f26e": {
      "model_module": "@jupyter-widgets/controls",
      "model_module_version": "1.5.0",
      "model_name": "HTMLModel",
      "state": {
       "layout": "IPY_MODEL_0821703bd5854da4a4d60bd9a4513adc",
       "style": "IPY_MODEL_c68b3de14269408e94b0415294d2e958",
       "value": "100%"
      }
     },
     "90190f2b6df24281a1b70aab51243c39": {
      "model_module": "@jupyter-widgets/controls",
      "model_module_version": "1.5.0",
      "model_name": "FloatProgressModel",
      "state": {
       "bar_style": "success",
       "layout": "IPY_MODEL_1fd0802079f94a5480dfbade4f074c0a",
       "max": 415,
       "style": "IPY_MODEL_4e8d6d002d94410f92b0e67a37aa841a",
       "value": 415
      }
     },
     "912bf633513d4cb19cf1affe201522b4": {
      "model_module": "@jupyter-widgets/controls",
      "model_module_version": "1.5.0",
      "model_name": "HTMLModel",
      "state": {
       "layout": "IPY_MODEL_83a9390327de4f4182f021f74b356a85",
       "style": "IPY_MODEL_25859f6c7da24c2482956719164bfcca",
       "value": " 415/415 [00:00&lt;00:00, 2470.11it/s]"
      }
     },
     "914d6588abed4a378a94a3e72899bb42": {
      "model_module": "@jupyter-widgets/controls",
      "model_module_version": "1.5.0",
      "model_name": "ProgressStyleModel",
      "state": {
       "description_width": ""
      }
     },
     "9153caa9ceba44b7b4fbba305ddee861": {
      "model_module": "@jupyter-widgets/controls",
      "model_module_version": "1.5.0",
      "model_name": "HTMLModel",
      "state": {
       "layout": "IPY_MODEL_a1b14019e5d44f3596d1dcf5d6b68ec2",
       "style": "IPY_MODEL_6642796583074dc282e2375212981157",
       "value": " 415/415 [00:00&lt;00:00, 2503.66it/s]"
      }
     },
     "919cb6d185934bd6834b59b34147a7b4": {
      "model_module": "@jupyter-widgets/controls",
      "model_module_version": "1.5.0",
      "model_name": "ProgressStyleModel",
      "state": {
       "description_width": ""
      }
     },
     "92427f03672546f3a8ff8547537d6ea1": {
      "model_module": "@jupyter-widgets/controls",
      "model_module_version": "1.5.0",
      "model_name": "DescriptionStyleModel",
      "state": {
       "description_width": ""
      }
     },
     "9443d69e856342d8877433ad616a9b94": {
      "model_module": "@jupyter-widgets/base",
      "model_module_version": "1.2.0",
      "model_name": "LayoutModel",
      "state": {}
     },
     "95190046cb404155b9a212602a9dce23": {
      "model_module": "@jupyter-widgets/controls",
      "model_module_version": "1.5.0",
      "model_name": "ProgressStyleModel",
      "state": {
       "description_width": ""
      }
     },
     "9599be09ed96495999048779a2673b5d": {
      "model_module": "@jupyter-widgets/controls",
      "model_module_version": "1.5.0",
      "model_name": "DescriptionStyleModel",
      "state": {
       "description_width": ""
      }
     },
     "95e5890e34b1458ca8f5d08c54a117f6": {
      "model_module": "@jupyter-widgets/base",
      "model_module_version": "1.2.0",
      "model_name": "LayoutModel",
      "state": {}
     },
     "968c943b69fe468d8728a933a2cc7879": {
      "model_module": "@jupyter-widgets/controls",
      "model_module_version": "1.5.0",
      "model_name": "FloatProgressModel",
      "state": {
       "bar_style": "success",
       "layout": "IPY_MODEL_ef0a1fa47a9a4cd0b659527b2ec4241a",
       "max": 415,
       "style": "IPY_MODEL_0ec87e2c20194f6cad587c12a73c557c",
       "value": 415
      }
     },
     "96d1ca6d979c49d0b6afe38f6a8e87ff": {
      "model_module": "@jupyter-widgets/controls",
      "model_module_version": "1.5.0",
      "model_name": "ProgressStyleModel",
      "state": {
       "description_width": ""
      }
     },
     "96d6eae873e3479fb89271e2dd1819f1": {
      "model_module": "@jupyter-widgets/base",
      "model_module_version": "1.2.0",
      "model_name": "LayoutModel",
      "state": {}
     },
     "9815f4ba3c2949848fbf7d1c04929c27": {
      "model_module": "@jupyter-widgets/base",
      "model_module_version": "1.2.0",
      "model_name": "LayoutModel",
      "state": {}
     },
     "9860a00f65bd4067a26b9dbe4f4d389f": {
      "model_module": "@jupyter-widgets/base",
      "model_module_version": "1.2.0",
      "model_name": "LayoutModel",
      "state": {}
     },
     "98d4f3e9f89c48e9a6590e6f4a5ba50b": {
      "model_module": "@jupyter-widgets/base",
      "model_module_version": "1.2.0",
      "model_name": "LayoutModel",
      "state": {}
     },
     "99a3e30788854c88b6c4f891b3db03eb": {
      "model_module": "@jupyter-widgets/controls",
      "model_module_version": "1.5.0",
      "model_name": "ProgressStyleModel",
      "state": {
       "description_width": ""
      }
     },
     "9a00aa07e8bb470881f1dd288fb946b9": {
      "model_module": "@jupyter-widgets/controls",
      "model_module_version": "1.5.0",
      "model_name": "HTMLModel",
      "state": {
       "layout": "IPY_MODEL_14493d2e411c498cb40dbd49cc417ca3",
       "style": "IPY_MODEL_9599be09ed96495999048779a2673b5d",
       "value": " 415/415 [00:00&lt;00:00, 2507.05it/s]"
      }
     },
     "9af49441b679493aa4e1bb06a9496314": {
      "model_module": "@jupyter-widgets/controls",
      "model_module_version": "1.5.0",
      "model_name": "HTMLModel",
      "state": {
       "layout": "IPY_MODEL_77d8806de47b413fb796428278d848ff",
       "style": "IPY_MODEL_92427f03672546f3a8ff8547537d6ea1",
       "value": " 415/415 [00:00&lt;00:00, 3396.79it/s]"
      }
     },
     "9bd4c909f94f46dca820dc05aa9506d6": {
      "model_module": "@jupyter-widgets/base",
      "model_module_version": "1.2.0",
      "model_name": "LayoutModel",
      "state": {}
     },
     "9f4623063eef4180bc041e355d2d476b": {
      "model_module": "@jupyter-widgets/controls",
      "model_module_version": "1.5.0",
      "model_name": "HTMLModel",
      "state": {
       "layout": "IPY_MODEL_7f2fdfffea1c4214a87fa8930677692d",
       "style": "IPY_MODEL_bf9dd25478c741fd9da6a59279840b50",
       "value": "100%"
      }
     },
     "9f58132fe52e42e091a52afda7efcc58": {
      "model_module": "@jupyter-widgets/base",
      "model_module_version": "1.2.0",
      "model_name": "LayoutModel",
      "state": {}
     },
     "a1b14019e5d44f3596d1dcf5d6b68ec2": {
      "model_module": "@jupyter-widgets/base",
      "model_module_version": "1.2.0",
      "model_name": "LayoutModel",
      "state": {}
     },
     "a1e0e39be18a4ec5bc2d6df06db8adbf": {
      "model_module": "@jupyter-widgets/controls",
      "model_module_version": "1.5.0",
      "model_name": "HTMLModel",
      "state": {
       "layout": "IPY_MODEL_f05b0ea0a720490f9026feae587ef6e6",
       "style": "IPY_MODEL_53136e80f229410dacf676264947cfda",
       "value": "100%"
      }
     },
     "a20d186e9c734cc4880a803017f5a561": {
      "model_module": "@jupyter-widgets/controls",
      "model_module_version": "1.5.0",
      "model_name": "DescriptionStyleModel",
      "state": {
       "description_width": ""
      }
     },
     "a3af1dd0007f42cba83a6588142bc29f": {
      "model_module": "@jupyter-widgets/controls",
      "model_module_version": "1.5.0",
      "model_name": "HTMLModel",
      "state": {
       "layout": "IPY_MODEL_0d11c2ea08204915a2eb73e4de18c966",
       "style": "IPY_MODEL_2837ac295a8048b4894a642aa49e709e",
       "value": " 415/415 [00:00&lt;00:00, 3453.24it/s]"
      }
     },
     "a4d4dcbea6d2448ba674a768caa331bf": {
      "model_module": "@jupyter-widgets/controls",
      "model_module_version": "1.5.0",
      "model_name": "HTMLModel",
      "state": {
       "layout": "IPY_MODEL_7b622ead6a814b4da0af303da3da7f4f",
       "style": "IPY_MODEL_8ac0c767e6c6446d8d13419e433402ea",
       "value": "100%"
      }
     },
     "a4dfd3effdfd4dfb91405ec426df2198": {
      "model_module": "@jupyter-widgets/controls",
      "model_module_version": "1.5.0",
      "model_name": "HTMLModel",
      "state": {
       "layout": "IPY_MODEL_4b4d1cc03bfd4148b219b859ccbc227b",
       "style": "IPY_MODEL_ee1b4aa6debd44a4be4e1c0cf6ede248",
       "value": "100%"
      }
     },
     "a579a557a1e047a8bb1151240eb0512c": {
      "model_module": "@jupyter-widgets/base",
      "model_module_version": "1.2.0",
      "model_name": "LayoutModel",
      "state": {}
     },
     "a625bae85eb54660a4b844deeb0f9e1e": {
      "model_module": "@jupyter-widgets/base",
      "model_module_version": "1.2.0",
      "model_name": "LayoutModel",
      "state": {}
     },
     "a6f51dd3de6f4ccebc6ce136dfd194ae": {
      "model_module": "@jupyter-widgets/controls",
      "model_module_version": "1.5.0",
      "model_name": "FloatProgressModel",
      "state": {
       "bar_style": "success",
       "layout": "IPY_MODEL_50a80b387c2348ea91d54f90521e6681",
       "max": 415,
       "style": "IPY_MODEL_210bf8452cfd4e779cebeef7c73617f8",
       "value": 415
      }
     },
     "a7e3062189a4434c9dd2f6214a8f78ca": {
      "model_module": "@jupyter-widgets/controls",
      "model_module_version": "1.5.0",
      "model_name": "HBoxModel",
      "state": {
       "children": [
        "IPY_MODEL_b407572502c3414cbbd3de54edfc0c85",
        "IPY_MODEL_686224b07a694d4c800b26d711f36aeb",
        "IPY_MODEL_ed55a4835b4e459a94ab54399d4eaafc"
       ],
       "layout": "IPY_MODEL_a625bae85eb54660a4b844deeb0f9e1e"
      }
     },
     "a893f261e4b54978a5b4e95c6cdd2a4f": {
      "model_module": "@jupyter-widgets/base",
      "model_module_version": "1.2.0",
      "model_name": "LayoutModel",
      "state": {}
     },
     "a8a8cb0014f7494cb3f8da55845e8e93": {
      "model_module": "@jupyter-widgets/base",
      "model_module_version": "1.2.0",
      "model_name": "LayoutModel",
      "state": {}
     },
     "a9f1991c05c94d81849f9b2b9a964c4b": {
      "model_module": "@jupyter-widgets/base",
      "model_module_version": "1.2.0",
      "model_name": "LayoutModel",
      "state": {}
     },
     "ac2280f5fb8b45ee83671a0f62166397": {
      "model_module": "@jupyter-widgets/controls",
      "model_module_version": "1.5.0",
      "model_name": "ProgressStyleModel",
      "state": {
       "description_width": ""
      }
     },
     "acbba215c72c482c87e45b211a0b1127": {
      "model_module": "@jupyter-widgets/controls",
      "model_module_version": "1.5.0",
      "model_name": "FloatProgressModel",
      "state": {
       "bar_style": "success",
       "layout": "IPY_MODEL_36869ce396ce451e9545074a466ff950",
       "max": 415,
       "style": "IPY_MODEL_96d1ca6d979c49d0b6afe38f6a8e87ff",
       "value": 415
      }
     },
     "ad0c756dd2e346049c2e04ae94e2a7fa": {
      "model_module": "@jupyter-widgets/base",
      "model_module_version": "1.2.0",
      "model_name": "LayoutModel",
      "state": {}
     },
     "ae5ee1dbbf084825b0bb390fb5fd4055": {
      "model_module": "@jupyter-widgets/controls",
      "model_module_version": "1.5.0",
      "model_name": "ProgressStyleModel",
      "state": {
       "description_width": ""
      }
     },
     "affd81085de94d309dee8bb8a5b3f065": {
      "model_module": "@jupyter-widgets/base",
      "model_module_version": "1.2.0",
      "model_name": "LayoutModel",
      "state": {}
     },
     "b22984fcd1e34a9597eb867fb86e3610": {
      "model_module": "@jupyter-widgets/base",
      "model_module_version": "1.2.0",
      "model_name": "LayoutModel",
      "state": {}
     },
     "b39693c9fdd14353bd75ed3e473cea4a": {
      "model_module": "@jupyter-widgets/controls",
      "model_module_version": "1.5.0",
      "model_name": "HTMLModel",
      "state": {
       "layout": "IPY_MODEL_e42130cf9ad04db8a33d9f07a053b509",
       "style": "IPY_MODEL_74cc53201ba74a41b3e4ac1885dafd7a",
       "value": "100%"
      }
     },
     "b407572502c3414cbbd3de54edfc0c85": {
      "model_module": "@jupyter-widgets/controls",
      "model_module_version": "1.5.0",
      "model_name": "HTMLModel",
      "state": {
       "layout": "IPY_MODEL_3901e1d313454866bb2f910626c67509",
       "style": "IPY_MODEL_75fbd4c5d6774ffdad12b15ec53706fe",
       "value": "100%"
      }
     },
     "b4c59b0afc214705a000519c49e0af5e": {
      "model_module": "@jupyter-widgets/controls",
      "model_module_version": "1.5.0",
      "model_name": "HBoxModel",
      "state": {
       "children": [
        "IPY_MODEL_88a82e0d954f4e31957561838e02be0e",
        "IPY_MODEL_ba9bf237e99b41888be7cf1350355724",
        "IPY_MODEL_45e84950970e4f4fa0caa89055a137ce"
       ],
       "layout": "IPY_MODEL_ad0c756dd2e346049c2e04ae94e2a7fa"
      }
     },
     "b53960c28f1941e189eb2a665b151744": {
      "model_module": "@jupyter-widgets/controls",
      "model_module_version": "1.5.0",
      "model_name": "HTMLModel",
      "state": {
       "layout": "IPY_MODEL_678c0f1e769544b485df32790e32499c",
       "style": "IPY_MODEL_f6cb60a74bb442b8974cd27c7550da5b",
       "value": " 415/415 [00:00&lt;00:00, 2452.67it/s]"
      }
     },
     "b6e5e511bd494f39ba5b9fc925b3257f": {
      "model_module": "@jupyter-widgets/controls",
      "model_module_version": "1.5.0",
      "model_name": "HBoxModel",
      "state": {
       "children": [
        "IPY_MODEL_7780ae32bb9d41a99177187ba7c35eb5",
        "IPY_MODEL_64cfdc6306a545c9af6bd5c46eb8347c",
        "IPY_MODEL_4b9ec353d5534d88bfe0120f0e50e356"
       ],
       "layout": "IPY_MODEL_0de003a060864f9081696e5dcd756e5f"
      }
     },
     "b7f2240c5fe0498aa509cdfa3a2f3fee": {
      "model_module": "@jupyter-widgets/base",
      "model_module_version": "1.2.0",
      "model_name": "LayoutModel",
      "state": {}
     },
     "b8976f94950841ffae916a43f8ca953a": {
      "model_module": "@jupyter-widgets/controls",
      "model_module_version": "1.5.0",
      "model_name": "DescriptionStyleModel",
      "state": {
       "description_width": ""
      }
     },
     "b94a32b129d949e98a85f9482309c05d": {
      "model_module": "@jupyter-widgets/controls",
      "model_module_version": "1.5.0",
      "model_name": "HBoxModel",
      "state": {
       "children": [
        "IPY_MODEL_a4dfd3effdfd4dfb91405ec426df2198",
        "IPY_MODEL_8dece75b25f14f419d228e3c82fa4e81",
        "IPY_MODEL_9a00aa07e8bb470881f1dd288fb946b9"
       ],
       "layout": "IPY_MODEL_ff09bcda881042f28cf9ec300a337cc8"
      }
     },
     "b9a06f821f484af1b831029829152202": {
      "model_module": "@jupyter-widgets/controls",
      "model_module_version": "1.5.0",
      "model_name": "ProgressStyleModel",
      "state": {
       "description_width": ""
      }
     },
     "b9a543e4cf154068b69d4037f8021f0c": {
      "model_module": "@jupyter-widgets/controls",
      "model_module_version": "1.5.0",
      "model_name": "DescriptionStyleModel",
      "state": {
       "description_width": ""
      }
     },
     "ba0c8b1d7ed64ecaa12371c6c355a0f2": {
      "model_module": "@jupyter-widgets/controls",
      "model_module_version": "1.5.0",
      "model_name": "DescriptionStyleModel",
      "state": {
       "description_width": ""
      }
     },
     "ba9bf237e99b41888be7cf1350355724": {
      "model_module": "@jupyter-widgets/controls",
      "model_module_version": "1.5.0",
      "model_name": "FloatProgressModel",
      "state": {
       "bar_style": "success",
       "layout": "IPY_MODEL_2f0271c24f5247b88d5f5da9bfac5f9d",
       "max": 415,
       "style": "IPY_MODEL_919cb6d185934bd6834b59b34147a7b4",
       "value": 415
      }
     },
     "bd1b3d8752044f2ba180a649d1e2cf5d": {
      "model_module": "@jupyter-widgets/controls",
      "model_module_version": "1.5.0",
      "model_name": "DescriptionStyleModel",
      "state": {
       "description_width": ""
      }
     },
     "bd6ee97a583d43258d07dd4fb6e76d28": {
      "model_module": "@jupyter-widgets/controls",
      "model_module_version": "1.5.0",
      "model_name": "HTMLModel",
      "state": {
       "layout": "IPY_MODEL_f3bead3f0bc84445a499133cbff144d4",
       "style": "IPY_MODEL_35c37f6ec8544406859819f623154e74",
       "value": " 415/415 [00:00&lt;00:00, 2429.16it/s]"
      }
     },
     "be64b1a46a394f6bb6d0e021c085ea88": {
      "model_module": "@jupyter-widgets/controls",
      "model_module_version": "1.5.0",
      "model_name": "HTMLModel",
      "state": {
       "layout": "IPY_MODEL_16383d09d00842109de83d03ca5d75c8",
       "style": "IPY_MODEL_b8976f94950841ffae916a43f8ca953a",
       "value": "100%"
      }
     },
     "bf9dd25478c741fd9da6a59279840b50": {
      "model_module": "@jupyter-widgets/controls",
      "model_module_version": "1.5.0",
      "model_name": "DescriptionStyleModel",
      "state": {
       "description_width": ""
      }
     },
     "c01d01fb815a46bc8824cf352b2a29d2": {
      "model_module": "@jupyter-widgets/controls",
      "model_module_version": "1.5.0",
      "model_name": "HTMLModel",
      "state": {
       "layout": "IPY_MODEL_d32633623c5d4d97bfb7eef81060f243",
       "style": "IPY_MODEL_19ee7cd2b0f0426e9885987015b3ceef",
       "value": "100%"
      }
     },
     "c02f6626a02848bd85b5645cd5d1d829": {
      "model_module": "@jupyter-widgets/controls",
      "model_module_version": "1.5.0",
      "model_name": "HTMLModel",
      "state": {
       "layout": "IPY_MODEL_f8e16fe212984e68b42ca90ed3523d4d",
       "style": "IPY_MODEL_c81c4061547f441f9b2f8ef4e7f09845",
       "value": "100%"
      }
     },
     "c12ea9531d4045bfafb9d6c38e9673e4": {
      "model_module": "@jupyter-widgets/base",
      "model_module_version": "1.2.0",
      "model_name": "LayoutModel",
      "state": {}
     },
     "c3a5b068a736431f9e7d980ba6272ebb": {
      "model_module": "@jupyter-widgets/controls",
      "model_module_version": "1.5.0",
      "model_name": "DescriptionStyleModel",
      "state": {
       "description_width": ""
      }
     },
     "c68b3de14269408e94b0415294d2e958": {
      "model_module": "@jupyter-widgets/controls",
      "model_module_version": "1.5.0",
      "model_name": "DescriptionStyleModel",
      "state": {
       "description_width": ""
      }
     },
     "c6bde98e2dc74fc7b527f2c5dae00d4b": {
      "model_module": "@jupyter-widgets/controls",
      "model_module_version": "1.5.0",
      "model_name": "DescriptionStyleModel",
      "state": {
       "description_width": ""
      }
     },
     "c81c4061547f441f9b2f8ef4e7f09845": {
      "model_module": "@jupyter-widgets/controls",
      "model_module_version": "1.5.0",
      "model_name": "DescriptionStyleModel",
      "state": {
       "description_width": ""
      }
     },
     "c96198b41fc5481f9772134cc4e1213c": {
      "model_module": "@jupyter-widgets/controls",
      "model_module_version": "1.5.0",
      "model_name": "HBoxModel",
      "state": {
       "children": [
        "IPY_MODEL_1ef5fa216e3c450da58fefe46a3d0220",
        "IPY_MODEL_a6f51dd3de6f4ccebc6ce136dfd194ae",
        "IPY_MODEL_79a91d4f3ea64c7e95e48d63c33b0f33"
       ],
       "layout": "IPY_MODEL_95e5890e34b1458ca8f5d08c54a117f6"
      }
     },
     "ca3796c0a8f048749efa8c604bf40185": {
      "model_module": "@jupyter-widgets/base",
      "model_module_version": "1.2.0",
      "model_name": "LayoutModel",
      "state": {}
     },
     "cbbfa03350ad41fb8c37521084c1fc32": {
      "model_module": "@jupyter-widgets/controls",
      "model_module_version": "1.5.0",
      "model_name": "HTMLModel",
      "state": {
       "layout": "IPY_MODEL_05bbb2995ca345cab86e5e00448f6a68",
       "style": "IPY_MODEL_fcbbc341ab7d4ccba29360dbe3e0568e",
       "value": "100%"
      }
     },
     "cbe0ae05df89404f8f8189e1eff34ed0": {
      "model_module": "@jupyter-widgets/base",
      "model_module_version": "1.2.0",
      "model_name": "LayoutModel",
      "state": {}
     },
     "cc3c8b5bfe604c53adc8812f5d072785": {
      "model_module": "@jupyter-widgets/base",
      "model_module_version": "1.2.0",
      "model_name": "LayoutModel",
      "state": {}
     },
     "cc9d55270164496bb67fac288c9fe016": {
      "model_module": "@jupyter-widgets/base",
      "model_module_version": "1.2.0",
      "model_name": "LayoutModel",
      "state": {}
     },
     "cef9bda623464074846301f5346d2f8f": {
      "model_module": "@jupyter-widgets/base",
      "model_module_version": "1.2.0",
      "model_name": "LayoutModel",
      "state": {}
     },
     "d0d954e6cd4742f8a7a4a12c53a71482": {
      "model_module": "@jupyter-widgets/controls",
      "model_module_version": "1.5.0",
      "model_name": "HTMLModel",
      "state": {
       "layout": "IPY_MODEL_1ed011e2cabe4a2792a240c206d4d651",
       "style": "IPY_MODEL_1c8e0d6a60af4a128b0915e82f39f9cb",
       "value": " 415/415 [00:00&lt;00:00, 2406.04it/s]"
      }
     },
     "d29b669e21374ab4bfecdff40f3cac5e": {
      "model_module": "@jupyter-widgets/controls",
      "model_module_version": "1.5.0",
      "model_name": "DescriptionStyleModel",
      "state": {
       "description_width": ""
      }
     },
     "d32633623c5d4d97bfb7eef81060f243": {
      "model_module": "@jupyter-widgets/base",
      "model_module_version": "1.2.0",
      "model_name": "LayoutModel",
      "state": {}
     },
     "d4b1e22aabf445989cf31c6448d39d1d": {
      "model_module": "@jupyter-widgets/controls",
      "model_module_version": "1.5.0",
      "model_name": "FloatProgressModel",
      "state": {
       "bar_style": "success",
       "layout": "IPY_MODEL_4725a4fb844648bf9082cf3386dd951d",
       "max": 415,
       "style": "IPY_MODEL_4bd0de706b0b4d1dae2f9f7469e23607",
       "value": 415
      }
     },
     "d7ff9387113047a096dd8ea52edea373": {
      "model_module": "@jupyter-widgets/controls",
      "model_module_version": "1.5.0",
      "model_name": "HBoxModel",
      "state": {
       "children": [
        "IPY_MODEL_c01d01fb815a46bc8824cf352b2a29d2",
        "IPY_MODEL_d4b1e22aabf445989cf31c6448d39d1d",
        "IPY_MODEL_269b108dccf948f3b34f573a602300b1"
       ],
       "layout": "IPY_MODEL_cc3c8b5bfe604c53adc8812f5d072785"
      }
     },
     "df46571ce8b14cc0bbaf750bd9e06988": {
      "model_module": "@jupyter-widgets/controls",
      "model_module_version": "1.5.0",
      "model_name": "ProgressStyleModel",
      "state": {
       "description_width": ""
      }
     },
     "e05982172b344bc3aa6ddd73506f98ae": {
      "model_module": "@jupyter-widgets/controls",
      "model_module_version": "1.5.0",
      "model_name": "HTMLModel",
      "state": {
       "layout": "IPY_MODEL_7c3ab66e1af24507b03d816f18f2fc7a",
       "style": "IPY_MODEL_b9a543e4cf154068b69d4037f8021f0c",
       "value": " 415/415 [00:00&lt;00:00, 2506.70it/s]"
      }
     },
     "e0d3e479b84a418e807c2b50b271cc6c": {
      "model_module": "@jupyter-widgets/controls",
      "model_module_version": "1.5.0",
      "model_name": "DescriptionStyleModel",
      "state": {
       "description_width": ""
      }
     },
     "e42130cf9ad04db8a33d9f07a053b509": {
      "model_module": "@jupyter-widgets/base",
      "model_module_version": "1.2.0",
      "model_name": "LayoutModel",
      "state": {}
     },
     "e860943a3c93440fa0636f87bf2b6ddb": {
      "model_module": "@jupyter-widgets/base",
      "model_module_version": "1.2.0",
      "model_name": "LayoutModel",
      "state": {}
     },
     "e9be57792e944bf5952014441cb9949d": {
      "model_module": "@jupyter-widgets/controls",
      "model_module_version": "1.5.0",
      "model_name": "FloatProgressModel",
      "state": {
       "bar_style": "success",
       "layout": "IPY_MODEL_41caf86cd7594c92865b245a1d7b0c98",
       "max": 415,
       "style": "IPY_MODEL_811b64b311f24a41a6ab6443ab773ed2",
       "value": 415
      }
     },
     "eb20be0fc3fa4894b337a7e86b199f87": {
      "model_module": "@jupyter-widgets/controls",
      "model_module_version": "1.5.0",
      "model_name": "HBoxModel",
      "state": {
       "children": [
        "IPY_MODEL_8a40e8fc6d6543d3ac158e5b3c23fe50",
        "IPY_MODEL_11f7ac5a7da14685b93974dafc7c6d5a",
        "IPY_MODEL_4e1f04b48ec44054acb08c09b8cfe2a9"
       ],
       "layout": "IPY_MODEL_cc9d55270164496bb67fac288c9fe016"
      }
     },
     "ebb5f5dcad004647a19bef46d7d463b1": {
      "model_module": "@jupyter-widgets/controls",
      "model_module_version": "1.5.0",
      "model_name": "DescriptionStyleModel",
      "state": {
       "description_width": ""
      }
     },
     "ec3dde848db346e6acc64470016d3900": {
      "model_module": "@jupyter-widgets/controls",
      "model_module_version": "1.5.0",
      "model_name": "HBoxModel",
      "state": {
       "children": [
        "IPY_MODEL_85da05c30bc94b32b3105a205cf3bbed",
        "IPY_MODEL_15d30e83d7b14b009f99db22b8aa4af2",
        "IPY_MODEL_3d86ace29f9641ba8993cf5ebdd54eaf"
       ],
       "layout": "IPY_MODEL_53f718eff3524d5eb9259a33db8855c7"
      }
     },
     "ed55a4835b4e459a94ab54399d4eaafc": {
      "model_module": "@jupyter-widgets/controls",
      "model_module_version": "1.5.0",
      "model_name": "HTMLModel",
      "state": {
       "layout": "IPY_MODEL_2ee694100b5e4b36af05bb4dc407c0d6",
       "style": "IPY_MODEL_8f250410844649909390e6bf86039464",
       "value": " 415/415 [00:00&lt;00:00, 2547.24it/s]"
      }
     },
     "ee1b4aa6debd44a4be4e1c0cf6ede248": {
      "model_module": "@jupyter-widgets/controls",
      "model_module_version": "1.5.0",
      "model_name": "DescriptionStyleModel",
      "state": {
       "description_width": ""
      }
     },
     "ef0a1fa47a9a4cd0b659527b2ec4241a": {
      "model_module": "@jupyter-widgets/base",
      "model_module_version": "1.2.0",
      "model_name": "LayoutModel",
      "state": {}
     },
     "f05b0ea0a720490f9026feae587ef6e6": {
      "model_module": "@jupyter-widgets/base",
      "model_module_version": "1.2.0",
      "model_name": "LayoutModel",
      "state": {}
     },
     "f24a9b2c0894427fa339a90986f74381": {
      "model_module": "@jupyter-widgets/controls",
      "model_module_version": "1.5.0",
      "model_name": "ProgressStyleModel",
      "state": {
       "description_width": ""
      }
     },
     "f33e45da32ff47f184cd70af8f15136b": {
      "model_module": "@jupyter-widgets/controls",
      "model_module_version": "1.5.0",
      "model_name": "DescriptionStyleModel",
      "state": {
       "description_width": ""
      }
     },
     "f3bead3f0bc84445a499133cbff144d4": {
      "model_module": "@jupyter-widgets/base",
      "model_module_version": "1.2.0",
      "model_name": "LayoutModel",
      "state": {}
     },
     "f5ca233d81e9477d8a106bacb1ecb1ac": {
      "model_module": "@jupyter-widgets/base",
      "model_module_version": "1.2.0",
      "model_name": "LayoutModel",
      "state": {}
     },
     "f601e24652f141088f682768c2d3585c": {
      "model_module": "@jupyter-widgets/controls",
      "model_module_version": "1.5.0",
      "model_name": "HBoxModel",
      "state": {
       "children": [
        "IPY_MODEL_0e43e824dad846599c6a06f90dcdc5b8",
        "IPY_MODEL_f662449d6231425d9bb1c2371168e4a2",
        "IPY_MODEL_7075d8ba1da04c82afddfbd33cb11ab9"
       ],
       "layout": "IPY_MODEL_7e5e09d82af64f208b43bc4ef79bb79c"
      }
     },
     "f662449d6231425d9bb1c2371168e4a2": {
      "model_module": "@jupyter-widgets/controls",
      "model_module_version": "1.5.0",
      "model_name": "FloatProgressModel",
      "state": {
       "bar_style": "success",
       "layout": "IPY_MODEL_a8a8cb0014f7494cb3f8da55845e8e93",
       "max": 415,
       "style": "IPY_MODEL_df46571ce8b14cc0bbaf750bd9e06988",
       "value": 415
      }
     },
     "f6a6c96fffba48178bcc30b8198d1bda": {
      "model_module": "@jupyter-widgets/controls",
      "model_module_version": "1.5.0",
      "model_name": "HTMLModel",
      "state": {
       "layout": "IPY_MODEL_9815f4ba3c2949848fbf7d1c04929c27",
       "style": "IPY_MODEL_679ef9964b0042e7a2410102625c7006",
       "value": " 415/415 [00:00&lt;00:00, 2460.10it/s]"
      }
     },
     "f6cb60a74bb442b8974cd27c7550da5b": {
      "model_module": "@jupyter-widgets/controls",
      "model_module_version": "1.5.0",
      "model_name": "DescriptionStyleModel",
      "state": {
       "description_width": ""
      }
     },
     "f8e16fe212984e68b42ca90ed3523d4d": {
      "model_module": "@jupyter-widgets/base",
      "model_module_version": "1.2.0",
      "model_name": "LayoutModel",
      "state": {}
     },
     "fcbbc341ab7d4ccba29360dbe3e0568e": {
      "model_module": "@jupyter-widgets/controls",
      "model_module_version": "1.5.0",
      "model_name": "DescriptionStyleModel",
      "state": {
       "description_width": ""
      }
     },
     "ff089740dff94d8ca4326417fdaecfa7": {
      "model_module": "@jupyter-widgets/base",
      "model_module_version": "1.2.0",
      "model_name": "LayoutModel",
      "state": {}
     },
     "ff09bcda881042f28cf9ec300a337cc8": {
      "model_module": "@jupyter-widgets/base",
      "model_module_version": "1.2.0",
      "model_name": "LayoutModel",
      "state": {}
     },
     "ff26a67c8db3467e813fde1c656d6814": {
      "model_module": "@jupyter-widgets/controls",
      "model_module_version": "1.5.0",
      "model_name": "DescriptionStyleModel",
      "state": {
       "description_width": ""
      }
     }
    },
    "version_major": 2,
    "version_minor": 0
   }
  }
 },
 "nbformat": 4,
 "nbformat_minor": 2
}
